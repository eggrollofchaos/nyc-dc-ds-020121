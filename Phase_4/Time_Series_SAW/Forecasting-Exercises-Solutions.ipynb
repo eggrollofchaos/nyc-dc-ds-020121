{
 "cells": [
  {
   "cell_type": "markdown",
   "metadata": {},
   "source": [
    "# Forecasting Exercises - Solutions\n",
    "\n",
    "This time we're using a seasonal time series of California Hospitality Industry Employees.\n",
    "\n",
    "<div class=\"alert alert-danger\" style=\"margin: 10px\"><strong>IMPORTANT NOTE!</strong> Make sure you don't run the cells directly above the example output shown, <br>otherwise you will end up writing over the example output!</div>"
   ]
  },
  {
   "cell_type": "code",
   "execution_count": 3,
   "metadata": {
    "ExecuteTime": {
     "end_time": "2021-04-27T20:41:25.816255Z",
     "start_time": "2021-04-27T20:41:25.754544Z"
    }
   },
   "outputs": [
    {
     "name": "stdout",
     "output_type": "stream",
     "text": [
      "348\n",
      "            Employees\n",
      "Date                 \n",
      "1990-01-01     1064.5\n",
      "1990-02-01     1074.5\n",
      "1990-03-01     1090.0\n",
      "1990-04-01     1097.4\n",
      "1990-05-01     1108.7\n"
     ]
    }
   ],
   "source": [
    "# RUN THIS CELL\n",
    "import pandas as pd\n",
    "import numpy as np\n",
    "%matplotlib inline\n",
    "\n",
    "# Load specific forecasting tools\n",
    "from statsmodels.tsa.statespace.sarimax import SARIMAX\n",
    "\n",
    "from statsmodels.graphics.tsaplots import plot_acf,plot_pacf # for determining (p,q) orders\n",
    "from statsmodels.tsa.seasonal import seasonal_decompose      # for ETS Plots\n",
    "from pmdarima import auto_arima                              # for determining ARIMA orders\n",
    "\n",
    "# Load specific evaluation tools\n",
    "from sklearn.metrics import mean_squared_error\n",
    "from statsmodels.tools.eval_measures import rmse\n",
    "\n",
    "# Ignore harmless warnings\n",
    "import warnings\n",
    "warnings.filterwarnings(\"ignore\")\n",
    "\n",
    "# Load datasets\n",
    "df = pd.read_csv('HospitalityEmployees.csv',index_col='Date',parse_dates=True)\n",
    "df.index.freq = 'MS'\n",
    "print(len(df))\n",
    "print(df.head())"
   ]
  },
  {
   "cell_type": "markdown",
   "metadata": {},
   "source": [
    "So <tt>df</tt> has 348 records and one column. The data represents the number of employees in thousands of persons as monthly averages from January, 1990 to December 2018."
   ]
  },
  {
   "cell_type": "markdown",
   "metadata": {},
   "source": [
    "### 1. Plot the source data\n",
    "Create a line chart of the dataset. Optional: add a title and y-axis label."
   ]
  },
  {
   "cell_type": "code",
   "execution_count": null,
   "metadata": {
    "ExecuteTime": {
     "end_time": "2021-04-27T20:40:39.323758Z",
     "start_time": "2021-04-27T20:40:37.533Z"
    }
   },
   "outputs": [],
   "source": [
    "## CODE HERE\n",
    "\n",
    "\n",
    "\n",
    "\n"
   ]
  },
  {
   "cell_type": "code",
   "execution_count": null,
   "metadata": {
    "ExecuteTime": {
     "end_time": "2021-04-27T20:40:39.326574Z",
     "start_time": "2021-04-27T20:40:37.536Z"
    }
   },
   "outputs": [],
   "source": [
    "# DON'T WRITE HERE\n",
    "title='California Hospitality Industry Employees'\n",
    "ylabel='Thousands of Persons'\n",
    "xlabel='' # we don't really need a label here\n",
    "\n",
    "ax = df['Employees'].plot(figsize=(12,5),title=title)\n",
    "ax.autoscale(axis='x',tight=True)\n",
    "ax.set(xlabel=xlabel, ylabel=ylabel);"
   ]
  },
  {
   "cell_type": "markdown",
   "metadata": {},
   "source": [
    "### 2. Run an ETS Decomposition\n",
    "Use an 'additive' model."
   ]
  },
  {
   "cell_type": "code",
   "execution_count": null,
   "metadata": {},
   "outputs": [],
   "source": [
    "\n"
   ]
  },
  {
   "cell_type": "code",
   "execution_count": null,
   "metadata": {
    "ExecuteTime": {
     "end_time": "2021-04-27T20:40:39.328461Z",
     "start_time": "2021-04-27T20:40:37.542Z"
    }
   },
   "outputs": [],
   "source": [
    "# DON'T WRITE HERE\n",
    "result = seasonal_decompose(df['Employees'], model='add')\n",
    "result.plot();"
   ]
  },
  {
   "cell_type": "markdown",
   "metadata": {},
   "source": [
    "### 3. Run <tt>pmdarima.auto_arima</tt> to obtain recommended orders\n",
    "This may take awhile as there are a lot of combinations to evaluate."
   ]
  },
  {
   "cell_type": "code",
   "execution_count": null,
   "metadata": {},
   "outputs": [],
   "source": []
  },
  {
   "cell_type": "code",
   "execution_count": null,
   "metadata": {
    "ExecuteTime": {
     "end_time": "2021-04-27T20:40:39.329608Z",
     "start_time": "2021-04-27T20:40:37.549Z"
    }
   },
   "outputs": [],
   "source": [
    "# DON'T WRITE HERE\n",
    "auto_arima(df['Employees'],seasonal=True,m=12).summary()"
   ]
  },
  {
   "cell_type": "markdown",
   "metadata": {},
   "source": [
    "You should see a recommended ARIMA Order of (0,1,0) combined with a seasonal order of (2,0,0,12).\n",
    "### 4. Split the data into train/test sets\n",
    "Set one year (12 records) for testing. There is more than one way to do this!"
   ]
  },
  {
   "cell_type": "code",
   "execution_count": null,
   "metadata": {
    "ExecuteTime": {
     "end_time": "2021-04-27T20:40:39.331260Z",
     "start_time": "2021-04-27T20:40:37.553Z"
    }
   },
   "outputs": [],
   "source": [
    "auto_arima."
   ]
  },
  {
   "cell_type": "code",
   "execution_count": null,
   "metadata": {
    "ExecuteTime": {
     "end_time": "2021-04-27T20:40:39.333442Z",
     "start_time": "2021-04-27T20:40:37.558Z"
    }
   },
   "outputs": [],
   "source": [
    "# DON'T WRITE HERE\n",
    "train = df.iloc[:len(df)-12]\n",
    "test = df.iloc[len(df)-12:]"
   ]
  },
  {
   "cell_type": "markdown",
   "metadata": {},
   "source": [
    "### 5. Fit a SARIMA(0,1,0)(2,0,0,12) model to the training set"
   ]
  },
  {
   "cell_type": "code",
   "execution_count": null,
   "metadata": {},
   "outputs": [],
   "source": []
  },
  {
   "cell_type": "code",
   "execution_count": null,
   "metadata": {
    "ExecuteTime": {
     "end_time": "2021-04-27T20:40:39.334570Z",
     "start_time": "2021-04-27T20:40:37.568Z"
    }
   },
   "outputs": [],
   "source": [
    "# DON'T WRITE HERE\n",
    "model = SARIMAX(train['Employees'],order=(0,1,0),seasonal_order=(2,0,0,12))\n",
    "results = model.fit()\n",
    "results.summary()"
   ]
  },
  {
   "cell_type": "markdown",
   "metadata": {},
   "source": [
    "### 6. Obtain predicted values"
   ]
  },
  {
   "cell_type": "code",
   "execution_count": null,
   "metadata": {},
   "outputs": [],
   "source": []
  },
  {
   "cell_type": "code",
   "execution_count": null,
   "metadata": {
    "ExecuteTime": {
     "end_time": "2021-04-27T20:40:39.335881Z",
     "start_time": "2021-04-27T20:40:37.573Z"
    }
   },
   "outputs": [],
   "source": [
    "# DON'T WRITE HERE\n",
    "start=len(train)\n",
    "end=len(train)+len(test)-1\n",
    "predictions = results.predict(start=start, end=end, dynamic=False, typ='levels').rename('SARIMA(0,1,0)(2,0,0,12) Predictions')"
   ]
  },
  {
   "cell_type": "markdown",
   "metadata": {},
   "source": [
    "### 7. Plot predictions against known values\n",
    "Optional: add a title and y-axis label."
   ]
  },
  {
   "cell_type": "code",
   "execution_count": null,
   "metadata": {},
   "outputs": [],
   "source": []
  },
  {
   "cell_type": "code",
   "execution_count": null,
   "metadata": {
    "ExecuteTime": {
     "end_time": "2021-04-27T20:40:39.337102Z",
     "start_time": "2021-04-27T20:40:37.578Z"
    }
   },
   "outputs": [],
   "source": [
    "# DON'T WRITE HERE\n",
    "title='California Hospitality Industry Employees'\n",
    "ylabel='Thousands of Persons'\n",
    "xlabel=''\n",
    "\n",
    "ax = test['Employees'].plot(legend=True,figsize=(12,6),title=title)\n",
    "predictions.plot(legend=True)\n",
    "ax.autoscale(axis='x',tight=True)\n",
    "ax.set(xlabel=xlabel, ylabel=ylabel);"
   ]
  },
  {
   "cell_type": "markdown",
   "metadata": {},
   "source": [
    "### 8. Evaluate the Model using MSE and RMSE\n",
    "You can run both from the same cell if you want."
   ]
  },
  {
   "cell_type": "code",
   "execution_count": null,
   "metadata": {},
   "outputs": [],
   "source": []
  },
  {
   "cell_type": "code",
   "execution_count": null,
   "metadata": {
    "ExecuteTime": {
     "end_time": "2021-04-27T20:40:39.338605Z",
     "start_time": "2021-04-27T20:40:37.584Z"
    }
   },
   "outputs": [],
   "source": [
    "# DON'T WRITE HERE\n",
    "error1 = mean_squared_error(test['Employees'], predictions)\n",
    "error2 = rmse(test['Employees'], predictions)\n",
    "print(f'SARIMA(0,1,0)(2,0,0,12) MSE Error: {error1:11.10}')\n",
    "print(f'SARIMA(0,1,0)(2,0,0,12) RMSE Error: {error2:11.10}')"
   ]
  },
  {
   "cell_type": "markdown",
   "metadata": {},
   "source": [
    "### 9. Retrain the model on the full data and forecast one year into the future"
   ]
  },
  {
   "cell_type": "code",
   "execution_count": null,
   "metadata": {},
   "outputs": [],
   "source": []
  },
  {
   "cell_type": "code",
   "execution_count": null,
   "metadata": {
    "ExecuteTime": {
     "end_time": "2021-04-27T20:40:39.339726Z",
     "start_time": "2021-04-27T20:40:37.592Z"
    }
   },
   "outputs": [],
   "source": [
    "# DON'T WRITE HERE\n",
    "model = SARIMAX(df['Employees'],order=(0,1,0),seasonal_order=(2,0,0,12))\n",
    "results = model.fit()\n",
    "fcast = results.predict(len(df),len(df)+11,typ='levels').rename('SARIMA(0,1,0)(2,0,0,12) Forecast')"
   ]
  },
  {
   "cell_type": "markdown",
   "metadata": {},
   "source": [
    "### 10. Plot the forecasted values alongside the original data\n",
    "Optional: add a title and y-axis label."
   ]
  },
  {
   "cell_type": "code",
   "execution_count": null,
   "metadata": {},
   "outputs": [],
   "source": []
  },
  {
   "cell_type": "code",
   "execution_count": null,
   "metadata": {
    "ExecuteTime": {
     "end_time": "2021-04-27T20:40:39.340947Z",
     "start_time": "2021-04-27T20:40:37.598Z"
    }
   },
   "outputs": [],
   "source": [
    "# DON'T WRITE HERE\n",
    "title='California Hospitality Industry Employees'\n",
    "ylabel='Thousands of Persons'\n",
    "xlabel=''\n",
    "\n",
    "ax = df['Employees'].plot(legend=True,figsize=(12,6),title=title)\n",
    "fcast.plot(legend=True)\n",
    "ax.autoscale(axis='x',tight=True)\n",
    "ax.set(xlabel=xlabel, ylabel=ylabel);"
   ]
  },
  {
   "cell_type": "markdown",
   "metadata": {},
   "source": [
    "## Great job!"
   ]
  }
 ],
 "metadata": {
  "kernelspec": {
   "display_name": "Python 3",
   "language": "python",
   "name": "python3"
  },
  "language_info": {
   "codemirror_mode": {
    "name": "ipython",
    "version": 3
   },
   "file_extension": ".py",
   "mimetype": "text/x-python",
   "name": "python",
   "nbconvert_exporter": "python",
   "pygments_lexer": "ipython3",
   "version": "3.8.3"
  },
  "toc": {
   "base_numbering": 1,
   "nav_menu": {},
   "number_sections": true,
   "sideBar": true,
   "skip_h1_title": false,
   "title_cell": "Table of Contents",
   "title_sidebar": "Contents",
   "toc_cell": false,
   "toc_position": {},
   "toc_section_display": true,
   "toc_window_display": false
  }
 },
 "nbformat": 4,
 "nbformat_minor": 2
}
