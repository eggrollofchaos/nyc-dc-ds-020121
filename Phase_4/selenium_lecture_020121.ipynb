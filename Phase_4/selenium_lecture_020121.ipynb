{
 "cells": [
  {
   "cell_type": "markdown",
   "metadata": {},
   "source": [
    "# Selenium:"
   ]
  },
  {
   "cell_type": "markdown",
   "metadata": {},
   "source": [
    "## Learning Goals:"
   ]
  },
  {
   "cell_type": "markdown",
   "metadata": {},
   "source": [
    "- Able to install and setup Selenium\n",
    "- Able to login to website platform\n",
    "- Able to navigate through pages/pop-ups\n",
    "- Able to write scraper that is more \"human-like\"\n",
    "- Able to know when to use appropriate `find_element(s)_by...`\n",
    "- Able to acquire desired data"
   ]
  },
  {
   "cell_type": "markdown",
   "metadata": {},
   "source": [
    "---"
   ]
  },
  {
   "cell_type": "markdown",
   "metadata": {},
   "source": [
    "## First, head over to [this page](https://chromedriver.chromium.org/downloads) and locate the chromedriver that matches your chrome version."
   ]
  },
  {
   "cell_type": "markdown",
   "metadata": {},
   "source": [
    "**How to Find Your Internet Browser Version Number - Google Chrome.**\n",
    "\n",
    "1) Click on the Menu icon in the upper right corner of the screen. \n",
    "\n",
    "2) Click on Help, and then About Google Chrome. \n",
    "\n",
    "3) Your Chrome browser version number can be found here."
   ]
  },
  {
   "cell_type": "markdown",
   "metadata": {},
   "source": [
    "## Next, download the appropriate driver that matches your version of Chrome"
   ]
  },
  {
   "cell_type": "markdown",
   "metadata": {},
   "source": [
    "- After you have downloaded the driver, press `command` + `spacebar`\n",
    "- Inside of the spotlight search you just opened, type `/usr/local/bin/` and open that folder\n",
    "- Next, in a separate finder window (`command` + `n`), navigate to where you downloaded the `chromedriver`\n",
    "- Finally, move the `chromedriver` from where ever you downloaded it into your `/usr/local/bin/`\n",
    "\n",
    "*Technically, you can install the driver anywhere, but most tutorials I have read say to put it in `/usr/local/bin/`*\n",
    "\n",
    "...However, after a bit of research, I believe the reason we want to install the `chromedriver` inside of `/usr/local/bin/` is so that you don't have to explicitly state the chromedriver path when you instantiate your driver 😎 "
   ]
  },
  {
   "cell_type": "markdown",
   "metadata": {},
   "source": [
    "## Install Selenium if you have not already done so:\n",
    "\n",
    "If you can please use the Conda install, and I would suggest running it in terminal not jupyter"
   ]
  },
  {
   "cell_type": "code",
   "execution_count": 82,
   "metadata": {
    "ExecuteTime": {
     "end_time": "2021-03-16T16:33:15.575888Z",
     "start_time": "2021-03-16T16:33:15.574113Z"
    }
   },
   "outputs": [],
   "source": [
    "#!conda install -c conda-forge selenium\n",
    "#or\n",
    "#!pip install selenium"
   ]
  },
  {
   "cell_type": "code",
   "execution_count": 1,
   "metadata": {
    "ExecuteTime": {
     "end_time": "2021-04-15T14:23:59.180036Z",
     "start_time": "2021-04-15T14:23:58.530130Z"
    }
   },
   "outputs": [],
   "source": [
    "import re\n",
    "import os\n",
    "import time\n",
    "import random\n",
    "import requests\n",
    "import numpy as np\n",
    "import pandas as pd\n",
    "from os import system\n",
    "from math import floor\n",
    "from copy import deepcopy\n",
    "from bs4 import BeautifulSoup\n",
    "from selenium import webdriver\n",
    "from selenium.webdriver.common.by import By\n",
    "from selenium.webdriver.common.keys import Keys\n",
    "from selenium.common.exceptions import TimeoutException\n",
    "from selenium.webdriver.support.ui import WebDriverWait\n",
    "from selenium.webdriver.support import expected_conditions as EC"
   ]
  },
  {
   "cell_type": "code",
   "execution_count": 2,
   "metadata": {
    "ExecuteTime": {
     "end_time": "2021-04-15T14:23:59.191353Z",
     "start_time": "2021-04-15T14:23:59.188543Z"
    }
   },
   "outputs": [],
   "source": [
    "pd.set_option('display.max_columns', 20)\n",
    "pd.set_option('display.max_colwidth', 200)"
   ]
  },
  {
   "cell_type": "markdown",
   "metadata": {},
   "source": [
    "---"
   ]
  },
  {
   "cell_type": "markdown",
   "metadata": {},
   "source": [
    "**Next, I always like to label my driver with a bold title cell**\n",
    "\n",
    "\n",
    "- I find it helps when we need to re-instantiate our driver and for general organization\n",
    "- Also, when we copy and paste this code form a notebook to a .py file, we would usually only need one driver"
   ]
  },
  {
   "cell_type": "markdown",
   "metadata": {},
   "source": [
    "## DRIVER HERE:"
   ]
  },
  {
   "cell_type": "code",
   "execution_count": 3,
   "metadata": {
    "ExecuteTime": {
     "end_time": "2021-04-15T14:24:03.042770Z",
     "start_time": "2021-04-15T14:24:00.305380Z"
    }
   },
   "outputs": [],
   "source": [
    "driver = webdriver.Chrome()"
   ]
  },
  {
   "cell_type": "markdown",
   "metadata": {},
   "source": [
    "---"
   ]
  },
  {
   "cell_type": "markdown",
   "metadata": {},
   "source": [
    "### Note: Headless Browsers"
   ]
  },
  {
   "cell_type": "markdown",
   "metadata": {},
   "source": [
    "**Headless Browser**\n",
    "A Headless Browser is also a Web Browser but without a graphical user interface (GUI) but can be controlled programmatically which can be extensively used for automation, testing, and other purposes.\n",
    "\n",
    "**Why to use Headless Browsers?**\n",
    "There are a lot of advantages and disadvantages in using the Headless Browsers. Using a headless browser might not be very helpful for browsing the Web, but for Automating tasks and tests it’s awesome."
   ]
  },
  {
   "cell_type": "markdown",
   "metadata": {},
   "source": [
    "**Advantages of Headless Browsers**\n",
    "\n",
    "Some of the advantages are as follows:\n",
    "\n",
    "- Headless Browsers are typically faster than real browsers. \n",
    "    - The reason for being faster is because we are not starting up a Browser GUI and can bypass all the time a real browser takes to load CSS, JavaScript and open and render HTML DOM.\n",
    "- Performance wise, you can typically see a 2x to 15x faster performance when using a headless browser."
   ]
  },
  {
   "cell_type": "markdown",
   "metadata": {},
   "source": [
    "*More info on headless browsers here:* https://stackoverflow.com/questions/53083952/difference-of-headless-browsers-for-automation"
   ]
  },
  {
   "cell_type": "markdown",
   "metadata": {},
   "source": [
    "## Time to scrape!"
   ]
  },
  {
   "cell_type": "markdown",
   "metadata": {},
   "source": [
    "<img src = \"https://media1.tenor.com/images/3fd84ba4b54f8d299f7732e63cdb3c00/tenor.gif?itemid=11903546\" />"
   ]
  },
  {
   "cell_type": "markdown",
   "metadata": {},
   "source": [
    "### Visiting a webpage"
   ]
  },
  {
   "cell_type": "code",
   "execution_count": 4,
   "metadata": {
    "ExecuteTime": {
     "end_time": "2021-04-15T14:24:08.669238Z",
     "start_time": "2021-04-15T14:24:05.392235Z"
    }
   },
   "outputs": [],
   "source": [
    "# Visit the website of your choice:\n",
    "\n",
    "driver.get('https://www.espn.com')"
   ]
  },
  {
   "cell_type": "markdown",
   "metadata": {},
   "source": [
    "#### Methods for finding a single element \n",
    "\n",
    "    This will return the FIRST instance of your desired \"element\"\n",
    "\n",
    "* find_element_by_id\n",
    "* find_element_by_name\n",
    "* find_element_by_xpath  \n",
    "* find_element_by_link_text\n",
    "* find_element_by_partial_link_text\n",
    "* find_element_by_tag_name\n",
    "* find_element_by_class_name\n",
    "* find_element_by_css_selector\n",
    "\n",
    "---\n",
    "\n",
    "#### Methods for finding multiple elements\n",
    "\n",
    "    This will return a list of ALL instances of your desired \"element\"\n",
    "\n",
    "* find_elements_by_name\n",
    "* find_elements_by_xpath\n",
    "* find_elements_by_link_text\n",
    "* find_elements_by_partial_link_text\n",
    "* find_elements_by_tag_name\n",
    "* find_elements_by_class_name\n",
    "* find_elements_by_css_selector\n",
    "\n",
    "From the [Selenium Python Docs](https://selenium-python.readthedocs.io/locating-elements.html \"Selenium Docs\") "
   ]
  },
  {
   "cell_type": "markdown",
   "metadata": {},
   "source": [
    "### Selecting the FIRST instance of an \"element\"\n",
    "\n",
    "First, well check out `.find_element_by_css_selector()`"
   ]
  },
  {
   "cell_type": "code",
   "execution_count": 5,
   "metadata": {
    "ExecuteTime": {
     "end_time": "2021-04-15T14:24:08.760614Z",
     "start_time": "2021-04-15T14:24:08.683729Z"
    }
   },
   "outputs": [
    {
     "data": {
      "text/plain": [
       "<selenium.webdriver.remote.webelement.WebElement (session=\"2bc1033724426f806949cc33b1067c48\", element=\"f24c0727-455f-4570-a2ad-4f74195b4bdf\")>"
      ]
     },
     "execution_count": 5,
     "metadata": {},
     "output_type": "execute_result"
    }
   ],
   "source": [
    "driver.find_element_by_css_selector('h1')"
   ]
  },
  {
   "cell_type": "code",
   "execution_count": 6,
   "metadata": {
    "ExecuteTime": {
     "end_time": "2021-04-15T14:24:09.266405Z",
     "start_time": "2021-04-15T14:24:08.772447Z"
    }
   },
   "outputs": [
    {
     "data": {
      "text/plain": [
       "'ESPN'"
      ]
     },
     "execution_count": 6,
     "metadata": {},
     "output_type": "execute_result"
    }
   ],
   "source": [
    "driver.find_element_by_css_selector('h1').text"
   ]
  },
  {
   "cell_type": "markdown",
   "metadata": {},
   "source": [
    "### Selecting ALL instances of your desired \"element\""
   ]
  },
  {
   "cell_type": "code",
   "execution_count": 7,
   "metadata": {
    "ExecuteTime": {
     "end_time": "2021-04-15T14:24:11.102152Z",
     "start_time": "2021-04-15T14:24:11.089907Z"
    }
   },
   "outputs": [],
   "source": [
    "listy = driver.find_elements_by_css_selector('h1')"
   ]
  },
  {
   "cell_type": "code",
   "execution_count": 8,
   "metadata": {
    "ExecuteTime": {
     "end_time": "2021-04-15T14:24:12.879256Z",
     "start_time": "2021-04-15T14:24:12.697477Z"
    }
   },
   "outputs": [
    {
     "name": "stdout",
     "output_type": "stream",
     "text": [
      "ESPN\n",
      "NFL draft mailbag: Is Mac Jones really the Niners' pick, and 10 other questions for Kiper and McShay\n",
      "Riddick is taken aback by Lawrence's commitment comments\n",
      "Doncic drills incredible buzzer-beater after Grizzlies' late collapse\n",
      "Luka Legend: Mavs win on Doncic's 'lucky' shot\n",
      "WNBA DRAFT\n",
      "WNBA mock draft: Sparks-Wings trade shakes up first round\n",
      "Charli Collier, projected No. 1 pick in draft, is 'not even where I'm supposed to be yet'\n",
      "CUSTOMIZE ESPN\n",
      "Yankees\n",
      "Giants\n",
      "Knicks\n",
      "Mets\n"
     ]
    }
   ],
   "source": [
    "for x in listy[:15]:\n",
    "    if len(x.text) > 3:\n",
    "        print(x.text)"
   ]
  },
  {
   "cell_type": "markdown",
   "metadata": {},
   "source": [
    "---"
   ]
  },
  {
   "cell_type": "markdown",
   "metadata": {},
   "source": [
    "#### Closing the driver:"
   ]
  },
  {
   "cell_type": "markdown",
   "metadata": {},
   "source": [
    "If you were to just close your driver's browsing window, your Google chrome instance will still appear open in your mac's dock. Using `driver.quit()`, we can close the Google chrome instance, which will also close the driver's browser:"
   ]
  },
  {
   "cell_type": "code",
   "execution_count": 9,
   "metadata": {
    "ExecuteTime": {
     "end_time": "2021-04-15T14:24:18.277182Z",
     "start_time": "2021-04-15T14:24:18.144774Z"
    }
   },
   "outputs": [],
   "source": [
    "driver.quit()"
   ]
  },
  {
   "cell_type": "markdown",
   "metadata": {},
   "source": [
    "#### Timing"
   ]
  },
  {
   "cell_type": "markdown",
   "metadata": {},
   "source": [
    "Sometimes we will need to wait for the page to load. Other times, we may want to have our scraper act more like a human, in terms of \"click rate.\"\n",
    "\n",
    "Two possible ways to make this happen are by using `time.sleep()` or `WebDriverWait()`"
   ]
  },
  {
   "cell_type": "markdown",
   "metadata": {},
   "source": [
    "If we just want to mimic the behavior of a human, we can use `time.sleep()`:"
   ]
  },
  {
   "cell_type": "code",
   "execution_count": 10,
   "metadata": {
    "ExecuteTime": {
     "end_time": "2021-04-15T14:24:22.795826Z",
     "start_time": "2021-04-15T14:24:20.791322Z"
    }
   },
   "outputs": [],
   "source": [
    "# Using a single \"wait\" time:\n",
    "\n",
    "time.sleep(2)"
   ]
  },
  {
   "cell_type": "code",
   "execution_count": 11,
   "metadata": {
    "ExecuteTime": {
     "end_time": "2021-04-15T14:24:24.512906Z",
     "start_time": "2021-04-15T14:24:23.207414Z"
    }
   },
   "outputs": [
    {
     "name": "stdout",
     "output_type": "stream",
     "text": [
      "[0.8, 0.9, 1.0, 1.1, 1.2, 1.3]\n"
     ]
    }
   ],
   "source": [
    "# Using a randomized time:\n",
    "\n",
    "sequence = [x/10 for x in range(8, 14)]\n",
    "print(sequence)\n",
    "\n",
    "time.sleep(random.choice(sequence))"
   ]
  },
  {
   "cell_type": "markdown",
   "metadata": {},
   "source": [
    "If we explicitly want to wait for our page to load, we can use `WebDriverWait()`:"
   ]
  },
  {
   "cell_type": "code",
   "execution_count": null,
   "metadata": {
    "ExecuteTime": {
     "end_time": "2021-04-15T14:24:34.529023Z",
     "start_time": "2021-04-15T14:24:34.408082Z"
    }
   },
   "outputs": [],
   "source": [
    "wait = WebDriverWait(driver, 5)\n",
    "\n",
    "try:\n",
    "    page_loaded = wait.until(lambda driver: driver.current_url == my_url)\n",
    "    print('The page loaded correctly')\n",
    "except TimeoutException:\n",
    "    print(\"Loading timeout expired\")"
   ]
  },
  {
   "cell_type": "markdown",
   "metadata": {},
   "source": [
    "#### Wait a second... what is that `xpath` thing?"
   ]
  },
  {
   "cell_type": "markdown",
   "metadata": {},
   "source": [
    "XPath is defined as XML path. It is a syntax or language for finding any element on the web page using XML path expression. XPath is used to find the location of any element on a webpage using HTML DOM structure. The basic format of XPath is explained below with screen shot."
   ]
  },
  {
   "cell_type": "markdown",
   "metadata": {},
   "source": [
    "<img src='https://www.guru99.com/images/3-2016/032816_0758_XPathinSele1.png' >"
   ]
  },
  {
   "cell_type": "markdown",
   "metadata": {},
   "source": [
    "XPath contains the path of the element situated at the web page. Standard syntax for creating XPath is:\n",
    "\n",
    "`Xpath=//tagname[@attribute='value']`\n",
    "\n",
    "- // == Select current node.\n",
    "- Tagname == Tagname of the particular node.\n",
    "- @ == Select attribute.\n",
    "- Attribute == Attribute name of the node.\n",
    "- Value == Value of the attribute."
   ]
  },
  {
   "cell_type": "markdown",
   "metadata": {},
   "source": [
    "<img src='https://media1.giphy.com/media/XBpEStoQ5rftPFA8rh/giphy.gif?cid=790b7611dbcd651cd785fb8382888f7b41666d5c8695755b&rid=giphy.gif'>"
   ]
  },
  {
   "cell_type": "markdown",
   "metadata": {},
   "source": [
    "**We can perform the next operations a few different ways:**\n",
    "\n",
    "Similar to above, we could use the `xpath`\n",
    "\n",
    "Or... based on visual knowledge of inspecting html/css elements, we can see the css selector `input` and we could assume that the only 2 possible inputs are Username and Password\n",
    "\n",
    "---\n",
    "\n",
    "With that knowledge, we can define both variables in one line of code\n"
   ]
  },
  {
   "cell_type": "markdown",
   "metadata": {},
   "source": [
    "# Modal buttons and scrolling:"
   ]
  },
  {
   "cell_type": "code",
   "execution_count": 13,
   "metadata": {
    "ExecuteTime": {
     "end_time": "2021-04-15T14:26:22.092587Z",
     "start_time": "2021-04-15T14:26:20.049212Z"
    }
   },
   "outputs": [],
   "source": [
    "driver = webdriver.Chrome()"
   ]
  },
  {
   "cell_type": "code",
   "execution_count": 14,
   "metadata": {
    "ExecuteTime": {
     "end_time": "2021-04-15T14:26:26.831453Z",
     "start_time": "2021-04-15T14:26:23.452548Z"
    }
   },
   "outputs": [],
   "source": [
    "# These websites have modal popups:\n",
    "\n",
    "driver.get('https://www.nike.com')\n",
    "\n",
    "# Other options:\n",
    "# https://www.carbon38.com\n",
    "# https://www.meundies.com"
   ]
  },
  {
   "cell_type": "markdown",
   "metadata": {},
   "source": [
    "The following cell is an example of how you could write functions to scroll down the page (for dynamic loading) and for loading more content with \"clicks\""
   ]
  },
  {
   "cell_type": "code",
   "execution_count": 15,
   "metadata": {
    "ExecuteTime": {
     "end_time": "2021-04-15T14:26:26.857666Z",
     "start_time": "2021-04-15T14:26:26.847045Z"
    }
   },
   "outputs": [],
   "source": [
    "# Example: Scroll down (with a test for a modal)\n",
    "\n",
    "def scroll_down():\n",
    "    for i in range(1, 10):\n",
    "        try:\n",
    "            modal_button = driver.find_element_by_class_name(\"button2\")\n",
    "            webdriver.ActionChains(driver).move_to_element(modal_button).click(modal_button).perform()\n",
    "      ##### modal_button.click() also works \n",
    "            \n",
    "        except:\n",
    "            time.sleep(.5)\n",
    "            pass \n",
    "        \n",
    "        #scroll to the bottom\n",
    "        driver.execute_script(\"window.scrollTo(0, document.body.scrollHeight);\")\n",
    "        time.sleep(1)\n",
    "\n",
    "        \n",
    "# Example: Load more content\n",
    "# Code snippet for context purposes only. We will not run this function:\n",
    "\n",
    "def get_more(): \n",
    "    for i in range(1, 5):\n",
    "        try:\n",
    "            next_b = driver.find_element_by_xpath(\"//*[contains(text(), 'Load next Politics story')]\")\n",
    "            webdriver.ActionChains(driver).move_to_element(next_b).click(next_b).perform()\n",
    "            time.sleep(.5)\n",
    "        except: \n",
    "            print(\"Page #\" + str(i) + \" has failed to load\") "
   ]
  },
  {
   "cell_type": "code",
   "execution_count": 16,
   "metadata": {
    "ExecuteTime": {
     "end_time": "2021-04-15T14:26:47.053831Z",
     "start_time": "2021-04-15T14:26:33.330897Z"
    }
   },
   "outputs": [],
   "source": [
    "# Run this cell and watch the page scrollllllll\n",
    "\n",
    "scroll_down()"
   ]
  },
  {
   "cell_type": "code",
   "execution_count": 17,
   "metadata": {
    "ExecuteTime": {
     "end_time": "2021-04-15T14:27:46.809425Z",
     "start_time": "2021-04-15T14:27:46.699202Z"
    }
   },
   "outputs": [],
   "source": [
    "driver.quit()"
   ]
  },
  {
   "cell_type": "markdown",
   "metadata": {},
   "source": [
    "## When to use BeautifulSoup vs.  Selenium?"
   ]
  },
  {
   "cell_type": "markdown",
   "metadata": {},
   "source": [
    "<img src='https://media.giphy.com/media/xTiN0IuPQxRqzxodZm/giphy.gif' width = 400>"
   ]
  },
  {
   "cell_type": "markdown",
   "metadata": {},
   "source": [
    "<img src='https://media2.giphy.com/media/3o7TKAdOad9Y3eSMZG/giphy.gif?cid=790b761168b43f2be748800602251dce3cad91fcb4c972f9&rid=giphy.gif' width = 400>"
   ]
  },
  {
   "cell_type": "markdown",
   "metadata": {},
   "source": [
    "<img src = \"https://media1.giphy.com/media/8VLgtJqaxIlhu/giphy.gif?cid=790b7611df175494e219b99894f7e717b3ea7bfbf806f9c4&rid=giphy.gif\" />"
   ]
  },
  {
   "cell_type": "markdown",
   "metadata": {},
   "source": [
    "**Just kidding!**"
   ]
  },
  {
   "cell_type": "markdown",
   "metadata": {},
   "source": [
    "Everything depends on the website and your data goals.\n",
    "\n",
    "In general:\n",
    "- If the data needs to be exposed interactively, then go for Selenium. \n",
    "- Selenium for more complex JavaScript heavy pages. \n",
    "---\n",
    "- If the data is accessible in the HTML structure (more static pages), soup is a more lightweight tool. \n",
    "- Soup gives you more control about navigating the HTML tree."
   ]
  },
  {
   "cell_type": "code",
   "execution_count": 18,
   "metadata": {
    "ExecuteTime": {
     "end_time": "2021-04-15T14:28:05.592270Z",
     "start_time": "2021-04-15T14:28:04.740341Z"
    }
   },
   "outputs": [
    {
     "data": {
      "text/plain": [
       "<table class=\"standing-table__table callfn\" data-fn=\"table-sorter-lite\" data-lite=\"true\">\n",
       "<caption class=\"standing-table__caption\">\n",
       "    Premier League 2020/21  </caption>\n",
       "<colgroup class=\"standing-table__cols\">\n",
       "<col class=\"standing-table__cell standing-table__col1\"/>\n",
       "<col class=\"standing-table__cell standing-table__col2 standing-table__cell--name\"/>\n",
       "<col class=\"standing-table__cell standing-table__col3\"/>\n",
       "<col class=\"standing-table__cell standing-table__col4 is-hidden--bp35\"/>\n",
       "<col class=\"standing-table__cell standing-table__col5 is-hidden--bp35\"/>\n",
       "<col class=\"standing-table__cell standing-table__col6 is-hidden--bp35\"/>\n",
       "<col class=\"standing-table__cell standing-table__col7 is-hidden--bp35\"/>\n",
       "<col class=\"standing-table__cell standing-table__col8 is-hidden--bp35\"/>\n",
       "<col class=\"standing-table__cell standing-table__col9\"/>\n",
       "<col class=\"standing-table__cell standing-table__col10\"/>\n",
       "<col class=\"standing-table__cell standing-table__col11 is-hidden--bp15 is-hidden--bp35\"/>\n",
       "</colgroup>\n",
       "<thead>\n",
       "<tr class=\"standing-table__row\">\n",
       "<th class=\"standing-table__cell standing-table__header-cell\" data-index=\"0\" data-label=\"pos\" title=\"Position\">#</th>\n",
       "<th class=\"standing-table__cell standing-table__header-cell standing-table__cell--name\" data-index=\"1\" title=\"Team\">Team</th>\n",
       "<th class=\"standing-table__cell standing-table__header-cell\" data-index=\"2\" data-label=\"pld\" title=\"Played\">Pl</th>\n",
       "<th class=\"standing-table__cell standing-table__header-cell is-hidden--bp35\" data-index=\"3\" data-label=\"w\" title=\"Won\">W</th>\n",
       "<th class=\"standing-table__cell standing-table__header-cell is-hidden--bp35\" data-index=\"4\" data-label=\"d\">D</th>\n",
       "<th class=\"standing-table__cell standing-table__header-cell is-hidden--bp35\" data-index=\"5\" data-label=\"l\">L</th>\n",
       "<th class=\"standing-table__cell standing-table__header-cell is-hidden--bp35\" data-index=\"6\" data-label=\"f\">F</th>\n",
       "<th class=\"standing-table__cell standing-table__header-cell is-hidden--bp35\" data-index=\"7\" data-label=\"a\">A</th>\n",
       "<th class=\"standing-table__cell standing-table__header-cell\" data-index=\"8\" data-label=\"gd\">GD</th>\n",
       "<th class=\"standing-table__cell standing-table__header-cell\" data-index=\"9\" data-label=\"pts\" data-sort-value=\"use-attribute\">Pts</th>\n",
       "<th class=\"standing-table__cell standing-table__header-cell is-hidden--bp15 is-hidden--bp35\" data-index=\"10\" data-sort-value=\"use-attribute\">Last 6</th>\n",
       "</tr>\n",
       "</thead>\n",
       "<tbody>\n",
       "<tr class=\"standing-table__row\" data-item-id=\"345\">\n",
       "<td class=\"standing-table__cell\">1</td>\n",
       "<td class=\"standing-table__cell standing-table__cell--name\" data-long-name=\"Manchester City\" data-short-name=\"Manchester City\">\n",
       "<a class=\"standing-table__cell--name-link\" href=\"/manchester-city\">Manchester City</a>\n",
       "</td>\n",
       "<td class=\"standing-table__cell\">32</td>\n",
       "<td class=\"standing-table__cell is-hidden--bp35\">23</td>\n",
       "<td class=\"standing-table__cell is-hidden--bp35\">5</td>\n",
       "<td class=\"standing-table__cell is-hidden--bp35\">4</td>\n",
       "<td class=\"standing-table__cell is-hidden--bp35\">67</td>\n",
       "<td class=\"standing-table__cell is-hidden--bp35\">23</td>\n",
       "<td class=\"standing-table__cell\">44</td>\n",
       "<td class=\"standing-table__cell\" data-sort-value=\"1\">74</td>\n",
       "<td class=\"standing-table__cell is-hidden--bp15 is-hidden--bp35\" data-sort-value=\"12033303\">\n",
       "<div class=\"standing-table__form\">\n",
       "<span class=\"standing-table__form-cell standing-table__form-cell--win\" title=\"Manchester City 4-1 Wolverhampton Wanderers\"> </span><span class=\"standing-table__form-cell standing-table__form-cell--loss\" title=\"Manchester City 0-2 Manchester United\"> </span><span class=\"standing-table__form-cell standing-table__form-cell--win\" title=\"Manchester City 5-2 Southampton\"> </span><span class=\"standing-table__form-cell standing-table__form-cell--win\" title=\"Fulham 0-3 Manchester City\"> </span><span class=\"standing-table__form-cell standing-table__form-cell--win\" title=\"Leicester City 0-2 Manchester City\"> </span><span class=\"standing-table__form-cell standing-table__form-cell--loss\" title=\"Manchester City 1-2 Leeds United\"> </span> </div>\n",
       "</td>\n",
       "</tr>\n",
       "<tr class=\"standing-table__row\" data-item-id=\"210\">\n",
       "<td class=\"standing-table__cell\">2</td>\n",
       "<td class=\"standing-table__cell standing-table__cell--name\" data-long-name=\"Manchester United\" data-short-name=\"Manchester United\">\n",
       "<a class=\"standing-table__cell--name-link\" href=\"/manchester-united\">Manchester United</a>\n",
       "</td>\n",
       "<td class=\"standing-table__cell\">31</td>\n",
       "<td class=\"standing-table__cell is-hidden--bp35\">18</td>\n",
       "<td class=\"standing-table__cell is-hidden--bp35\">9</td>\n",
       "<td class=\"standing-table__cell is-hidden--bp35\">4</td>\n",
       "<td class=\"standing-table__cell is-hidden--bp35\">61</td>\n",
       "<td class=\"standing-table__cell is-hidden--bp35\">34</td>\n",
       "<td class=\"standing-table__cell\">27</td>\n",
       "<td class=\"standing-table__cell\" data-sort-value=\"2\">63</td>\n",
       "<td class=\"standing-table__cell is-hidden--bp15 is-hidden--bp35\" data-sort-value=\"14333311\">\n",
       "<div class=\"standing-table__form\">\n",
       "<span class=\"standing-table__form-cell standing-table__form-cell--draw\" title=\"Chelsea 0-0 Manchester United\"> </span><span class=\"standing-table__form-cell standing-table__form-cell--draw\" title=\"Crystal Palace 0-0 Manchester United\"> </span><span class=\"standing-table__form-cell standing-table__form-cell--win\" title=\"Manchester City 0-2 Manchester United\"> </span><span class=\"standing-table__form-cell standing-table__form-cell--win\" title=\"Manchester United 1-0 West Ham United\"> </span><span class=\"standing-table__form-cell standing-table__form-cell--win\" title=\"Manchester United 2-1 Brighton and Hove Albion\"> </span><span class=\"standing-table__form-cell standing-table__form-cell--win\" title=\"Tottenham Hotspur 1-3 Manchester United\"> </span> </div>\n",
       "</td>\n",
       "</tr>\n",
       "<tr class=\"standing-table__row\" data-item-id=\"152\">\n",
       "<td class=\"standing-table__cell\">3</td>\n",
       "<td class=\"standing-table__cell standing-table__cell--name\" data-long-name=\"Leicester City\" data-short-name=\"Leicester City\">\n",
       "<a class=\"standing-table__cell--name-link\" href=\"/leicester-city\">Leicester City</a>\n",
       "</td>\n",
       "<td class=\"standing-table__cell\">31</td>\n",
       "<td class=\"standing-table__cell is-hidden--bp35\">17</td>\n",
       "<td class=\"standing-table__cell is-hidden--bp35\">5</td>\n",
       "<td class=\"standing-table__cell is-hidden--bp35\">9</td>\n",
       "<td class=\"standing-table__cell is-hidden--bp35\">55</td>\n",
       "<td class=\"standing-table__cell is-hidden--bp35\">37</td>\n",
       "<td class=\"standing-table__cell\">18</td>\n",
       "<td class=\"standing-table__cell\" data-sort-value=\"3\">56</td>\n",
       "<td class=\"standing-table__cell is-hidden--bp15 is-hidden--bp35\" data-sort-value=\"7003310\">\n",
       "<div class=\"standing-table__form\">\n",
       "<span class=\"standing-table__form-cell standing-table__form-cell--loss\" title=\"Leicester City 1-3 Arsenal\"> </span><span class=\"standing-table__form-cell standing-table__form-cell--draw\" title=\"Burnley 1-1 Leicester City\"> </span><span class=\"standing-table__form-cell standing-table__form-cell--win\" title=\"Brighton and Hove Albion 1-2 Leicester City\"> </span><span class=\"standing-table__form-cell standing-table__form-cell--win\" title=\"Leicester City 5-0 Sheffield United\"> </span><span class=\"standing-table__form-cell standing-table__form-cell--loss\" title=\"Leicester City 0-2 Manchester City\"> </span><span class=\"standing-table__form-cell standing-table__form-cell--loss\" title=\"West Ham United 3-2 Leicester City\"> </span> </div>\n",
       "</td>\n",
       "</tr>\n",
       "<tr class=\"standing-table__row\" data-item-id=\"367\">\n",
       "<td class=\"standing-table__cell\">4</td>\n",
       "<td class=\"standing-table__cell standing-table__cell--name\" data-long-name=\"West Ham United\" data-short-name=\"West Ham United\">\n",
       "<a class=\"standing-table__cell--name-link\" href=\"/west-ham-united\">West Ham United</a>\n",
       "</td>\n",
       "<td class=\"standing-table__cell\">31</td>\n",
       "<td class=\"standing-table__cell is-hidden--bp35\">16</td>\n",
       "<td class=\"standing-table__cell is-hidden--bp35\">7</td>\n",
       "<td class=\"standing-table__cell is-hidden--bp35\">8</td>\n",
       "<td class=\"standing-table__cell is-hidden--bp35\">51</td>\n",
       "<td class=\"standing-table__cell is-hidden--bp35\">39</td>\n",
       "<td class=\"standing-table__cell\">12</td>\n",
       "<td class=\"standing-table__cell\" data-sort-value=\"4\">55</td>\n",
       "<td class=\"standing-table__cell is-hidden--bp15 is-hidden--bp35\" data-sort-value=\"10331030\">\n",
       "<div class=\"standing-table__form\">\n",
       "<span class=\"standing-table__form-cell standing-table__form-cell--loss\" title=\"Manchester City 2-1 West Ham United\"> </span><span class=\"standing-table__form-cell standing-table__form-cell--win\" title=\"West Ham United 2-0 Leeds United\"> </span><span class=\"standing-table__form-cell standing-table__form-cell--loss\" title=\"Manchester United 1-0 West Ham United\"> </span><span class=\"standing-table__form-cell standing-table__form-cell--draw\" title=\"West Ham United 3-3 Arsenal\"> </span><span class=\"standing-table__form-cell standing-table__form-cell--win\" title=\"Wolverhampton Wanderers 2-3 West Ham United\"> </span><span class=\"standing-table__form-cell standing-table__form-cell--win\" title=\"West Ham United 3-2 Leicester City\"> </span> </div>\n",
       "</td>\n",
       "</tr>\n",
       "<tr class=\"standing-table__row standing-table__row--divider\" data-item-id=\"524\">\n",
       "<td class=\"standing-table__cell\">5</td>\n",
       "<td class=\"standing-table__cell standing-table__cell--name\" data-long-name=\"Chelsea\" data-short-name=\"Chelsea\">\n",
       "<a class=\"standing-table__cell--name-link\" href=\"/chelsea\">Chelsea</a>\n",
       "</td>\n",
       "<td class=\"standing-table__cell\">31</td>\n",
       "<td class=\"standing-table__cell is-hidden--bp35\">15</td>\n",
       "<td class=\"standing-table__cell is-hidden--bp35\">9</td>\n",
       "<td class=\"standing-table__cell is-hidden--bp35\">7</td>\n",
       "<td class=\"standing-table__cell is-hidden--bp35\">50</td>\n",
       "<td class=\"standing-table__cell is-hidden--bp35\">31</td>\n",
       "<td class=\"standing-table__cell\">19</td>\n",
       "<td class=\"standing-table__cell\" data-sort-value=\"5\">54</td>\n",
       "<td class=\"standing-table__cell is-hidden--bp15 is-hidden--bp35\" data-sort-value=\"11301331\">\n",
       "<div class=\"standing-table__form\">\n",
       "<span class=\"standing-table__form-cell standing-table__form-cell--draw\" title=\"Chelsea 0-0 Manchester United\"> </span><span class=\"standing-table__form-cell standing-table__form-cell--win\" title=\"Liverpool 0-1 Chelsea\"> </span><span class=\"standing-table__form-cell standing-table__form-cell--win\" title=\"Chelsea 2-0 Everton\"> </span><span class=\"standing-table__form-cell standing-table__form-cell--draw\" title=\"Leeds United 0-0 Chelsea\"> </span><span class=\"standing-table__form-cell standing-table__form-cell--loss\" title=\"Chelsea 2-5 West Bromwich Albion\"> </span><span class=\"standing-table__form-cell standing-table__form-cell--win\" title=\"Crystal Palace 1-4 Chelsea\"> </span> </div>\n",
       "</td>\n",
       "</tr>\n",
       "<tr class=\"standing-table__row standing-table__row--divider\" data-item-id=\"155\">\n",
       "<td class=\"standing-table__cell\">6</td>\n",
       "<td class=\"standing-table__cell standing-table__cell--name\" data-long-name=\"Liverpool\" data-short-name=\"Liverpool\">\n",
       "<a class=\"standing-table__cell--name-link\" href=\"/liverpool\">Liverpool</a>\n",
       "</td>\n",
       "<td class=\"standing-table__cell\">31</td>\n",
       "<td class=\"standing-table__cell is-hidden--bp35\">15</td>\n",
       "<td class=\"standing-table__cell is-hidden--bp35\">7</td>\n",
       "<td class=\"standing-table__cell is-hidden--bp35\">9</td>\n",
       "<td class=\"standing-table__cell is-hidden--bp35\">53</td>\n",
       "<td class=\"standing-table__cell is-hidden--bp35\">37</td>\n",
       "<td class=\"standing-table__cell\">16</td>\n",
       "<td class=\"standing-table__cell\" data-sort-value=\"6\">52</td>\n",
       "<td class=\"standing-table__cell is-hidden--bp15 is-hidden--bp35\" data-sort-value=\"12333003\">\n",
       "<div class=\"standing-table__form\">\n",
       "<span class=\"standing-table__form-cell standing-table__form-cell--win\" title=\"Sheffield United 0-2 Liverpool\"> </span><span class=\"standing-table__form-cell standing-table__form-cell--loss\" title=\"Liverpool 0-1 Chelsea\"> </span><span class=\"standing-table__form-cell standing-table__form-cell--loss\" title=\"Liverpool 0-1 Fulham\"> </span><span class=\"standing-table__form-cell standing-table__form-cell--win\" title=\"Wolverhampton Wanderers 0-1 Liverpool\"> </span><span class=\"standing-table__form-cell standing-table__form-cell--win\" title=\"Arsenal 0-3 Liverpool\"> </span><span class=\"standing-table__form-cell standing-table__form-cell--win\" title=\"Liverpool 2-1 Aston Villa\"> </span> </div>\n",
       "</td>\n",
       "</tr>\n",
       "<tr class=\"standing-table__row\" data-item-id=\"608\">\n",
       "<td class=\"standing-table__cell\">7</td>\n",
       "<td class=\"standing-table__cell standing-table__cell--name\" data-long-name=\"Tottenham Hotspur\" data-short-name=\"Tottenham Hotspur\">\n",
       "<a class=\"standing-table__cell--name-link\" href=\"/tottenham-hotspur\">Tottenham Hotspur</a>\n",
       "</td>\n",
       "<td class=\"standing-table__cell\">31</td>\n",
       "<td class=\"standing-table__cell is-hidden--bp35\">14</td>\n",
       "<td class=\"standing-table__cell is-hidden--bp35\">7</td>\n",
       "<td class=\"standing-table__cell is-hidden--bp35\">10</td>\n",
       "<td class=\"standing-table__cell is-hidden--bp35\">52</td>\n",
       "<td class=\"standing-table__cell is-hidden--bp35\">35</td>\n",
       "<td class=\"standing-table__cell\">17</td>\n",
       "<td class=\"standing-table__cell\" data-sort-value=\"7\">49</td>\n",
       "<td class=\"standing-table__cell is-hidden--bp15 is-hidden--bp35\" data-sort-value=\"10013033\">\n",
       "<div class=\"standing-table__form\">\n",
       "<span class=\"standing-table__form-cell standing-table__form-cell--win\" title=\"Fulham 0-1 Tottenham Hotspur\"> </span><span class=\"standing-table__form-cell standing-table__form-cell--win\" title=\"Tottenham Hotspur 4-1 Crystal Palace\"> </span><span class=\"standing-table__form-cell standing-table__form-cell--loss\" title=\"Arsenal 2-1 Tottenham Hotspur\"> </span><span class=\"standing-table__form-cell standing-table__form-cell--win\" title=\"Aston Villa 0-2 Tottenham Hotspur\"> </span><span class=\"standing-table__form-cell standing-table__form-cell--draw\" title=\"Newcastle United 2-2 Tottenham Hotspur\"> </span><span class=\"standing-table__form-cell standing-table__form-cell--loss\" title=\"Tottenham Hotspur 1-3 Manchester United\"> </span> </div>\n",
       "</td>\n",
       "</tr>\n",
       "<tr class=\"standing-table__row\" data-item-id=\"229\">\n",
       "<td class=\"standing-table__cell\">8</td>\n",
       "<td class=\"standing-table__cell standing-table__cell--name\" data-long-name=\"Everton\" data-short-name=\"Everton\">\n",
       "<a class=\"standing-table__cell--name-link\" href=\"/everton\">Everton</a>\n",
       "</td>\n",
       "<td class=\"standing-table__cell\">30</td>\n",
       "<td class=\"standing-table__cell is-hidden--bp35\">14</td>\n",
       "<td class=\"standing-table__cell is-hidden--bp35\">6</td>\n",
       "<td class=\"standing-table__cell is-hidden--bp35\">10</td>\n",
       "<td class=\"standing-table__cell is-hidden--bp35\">41</td>\n",
       "<td class=\"standing-table__cell is-hidden--bp35\">38</td>\n",
       "<td class=\"standing-table__cell\">3</td>\n",
       "<td class=\"standing-table__cell\" data-sort-value=\"8\">48</td>\n",
       "<td class=\"standing-table__cell is-hidden--bp15 is-hidden--bp35\" data-sort-value=\"8110033\">\n",
       "<div class=\"standing-table__form\">\n",
       "<span class=\"standing-table__form-cell standing-table__form-cell--win\" title=\"Everton 1-0 Southampton\"> </span><span class=\"standing-table__form-cell standing-table__form-cell--win\" title=\"West Bromwich Albion 0-1 Everton\"> </span><span class=\"standing-table__form-cell standing-table__form-cell--loss\" title=\"Chelsea 2-0 Everton\"> </span><span class=\"standing-table__form-cell standing-table__form-cell--loss\" title=\"Everton 1-2 Burnley\"> </span><span class=\"standing-table__form-cell standing-table__form-cell--draw\" title=\"Everton 1-1 Crystal Palace\"> </span><span class=\"standing-table__form-cell standing-table__form-cell--draw\" title=\"Brighton and Hove Albion 0-0 Everton\"> </span> </div>\n",
       "</td>\n",
       "</tr>\n",
       "<tr class=\"standing-table__row\" data-item-id=\"413\">\n",
       "<td class=\"standing-table__cell\">9</td>\n",
       "<td class=\"standing-table__cell standing-table__cell--name\" data-long-name=\"Arsenal\" data-short-name=\"Arsenal\">\n",
       "<a class=\"standing-table__cell--name-link\" href=\"/arsenal\">Arsenal</a>\n",
       "</td>\n",
       "<td class=\"standing-table__cell\">31</td>\n",
       "<td class=\"standing-table__cell is-hidden--bp35\">13</td>\n",
       "<td class=\"standing-table__cell is-hidden--bp35\">6</td>\n",
       "<td class=\"standing-table__cell is-hidden--bp35\">12</td>\n",
       "<td class=\"standing-table__cell is-hidden--bp35\">43</td>\n",
       "<td class=\"standing-table__cell is-hidden--bp35\">35</td>\n",
       "<td class=\"standing-table__cell\">8</td>\n",
       "<td class=\"standing-table__cell\" data-sort-value=\"9\">45</td>\n",
       "<td class=\"standing-table__cell is-hidden--bp15 is-hidden--bp35\" data-sort-value=\"11301313\">\n",
       "<div class=\"standing-table__form\">\n",
       "<span class=\"standing-table__form-cell standing-table__form-cell--win\" title=\"Leicester City 1-3 Arsenal\"> </span><span class=\"standing-table__form-cell standing-table__form-cell--draw\" title=\"Burnley 1-1 Arsenal\"> </span><span class=\"standing-table__form-cell standing-table__form-cell--win\" title=\"Arsenal 2-1 Tottenham Hotspur\"> </span><span class=\"standing-table__form-cell standing-table__form-cell--draw\" title=\"West Ham United 3-3 Arsenal\"> </span><span class=\"standing-table__form-cell standing-table__form-cell--loss\" title=\"Arsenal 0-3 Liverpool\"> </span><span class=\"standing-table__form-cell standing-table__form-cell--win\" title=\"Sheffield United 0-3 Arsenal\"> </span> </div>\n",
       "</td>\n",
       "</tr>\n",
       "<tr class=\"standing-table__row\" data-item-id=\"183\">\n",
       "<td class=\"standing-table__cell\">10</td>\n",
       "<td class=\"standing-table__cell standing-table__cell--name\" data-long-name=\"Leeds United\" data-short-name=\"Leeds United\">\n",
       "<a class=\"standing-table__cell--name-link\" href=\"/leeds-united\">Leeds United</a>\n",
       "</td>\n",
       "<td class=\"standing-table__cell\">31</td>\n",
       "<td class=\"standing-table__cell is-hidden--bp35\">14</td>\n",
       "<td class=\"standing-table__cell is-hidden--bp35\">3</td>\n",
       "<td class=\"standing-table__cell is-hidden--bp35\">14</td>\n",
       "<td class=\"standing-table__cell is-hidden--bp35\">49</td>\n",
       "<td class=\"standing-table__cell is-hidden--bp35\">49</td>\n",
       "<td class=\"standing-table__cell\">0</td>\n",
       "<td class=\"standing-table__cell\" data-sort-value=\"10\">45</td>\n",
       "<td class=\"standing-table__cell is-hidden--bp15 is-hidden--bp35\" data-sort-value=\"10333100\">\n",
       "<div class=\"standing-table__form\">\n",
       "<span class=\"standing-table__form-cell standing-table__form-cell--loss\" title=\"Leeds United 0-1 Aston Villa\"> </span><span class=\"standing-table__form-cell standing-table__form-cell--loss\" title=\"West Ham United 2-0 Leeds United\"> </span><span class=\"standing-table__form-cell standing-table__form-cell--draw\" title=\"Leeds United 0-0 Chelsea\"> </span><span class=\"standing-table__form-cell standing-table__form-cell--win\" title=\"Fulham 1-2 Leeds United\"> </span><span class=\"standing-table__form-cell standing-table__form-cell--win\" title=\"Leeds United 2-1 Sheffield United\"> </span><span class=\"standing-table__form-cell standing-table__form-cell--win\" title=\"Manchester City 1-2 Leeds United\"> </span> </div>\n",
       "</td>\n",
       "</tr>\n",
       "<tr class=\"standing-table__row\" data-item-id=\"238\">\n",
       "<td class=\"standing-table__cell\">11</td>\n",
       "<td class=\"standing-table__cell standing-table__cell--name\" data-long-name=\"Aston Villa\" data-short-name=\"Aston Villa\">\n",
       "<a class=\"standing-table__cell--name-link\" href=\"/aston-villa\">Aston Villa</a>\n",
       "</td>\n",
       "<td class=\"standing-table__cell\">30</td>\n",
       "<td class=\"standing-table__cell is-hidden--bp35\">13</td>\n",
       "<td class=\"standing-table__cell is-hidden--bp35\">5</td>\n",
       "<td class=\"standing-table__cell is-hidden--bp35\">12</td>\n",
       "<td class=\"standing-table__cell is-hidden--bp35\">43</td>\n",
       "<td class=\"standing-table__cell is-hidden--bp35\">33</td>\n",
       "<td class=\"standing-table__cell\">10</td>\n",
       "<td class=\"standing-table__cell\" data-sort-value=\"11\">44</td>\n",
       "<td class=\"standing-table__cell is-hidden--bp15 is-hidden--bp35\" data-sort-value=\"5030110\">\n",
       "<div class=\"standing-table__form\">\n",
       "<span class=\"standing-table__form-cell standing-table__form-cell--loss\" title=\"Sheffield United 1-0 Aston Villa\"> </span><span class=\"standing-table__form-cell standing-table__form-cell--draw\" title=\"Aston Villa 0-0 Wolverhampton Wanderers\"> </span><span class=\"standing-table__form-cell standing-table__form-cell--draw\" title=\"Newcastle United 1-1 Aston Villa\"> </span><span class=\"standing-table__form-cell standing-table__form-cell--loss\" title=\"Aston Villa 0-2 Tottenham Hotspur\"> </span><span class=\"standing-table__form-cell standing-table__form-cell--win\" title=\"Aston Villa 3-1 Fulham\"> </span><span class=\"standing-table__form-cell standing-table__form-cell--loss\" title=\"Liverpool 2-1 Aston Villa\"> </span> </div>\n",
       "</td>\n",
       "</tr>\n",
       "<tr class=\"standing-table__row\" data-item-id=\"206\">\n",
       "<td class=\"standing-table__cell\">12</td>\n",
       "<td class=\"standing-table__cell standing-table__cell--name\" data-long-name=\"Wolverhampton Wanderers\" data-short-name=\"Wolverhampton Wanderers\">\n",
       "<a class=\"standing-table__cell--name-link\" href=\"/wolverhampton-wanderers\">Wolverhampton Wanderers</a>\n",
       "</td>\n",
       "<td class=\"standing-table__cell\">31</td>\n",
       "<td class=\"standing-table__cell is-hidden--bp35\">10</td>\n",
       "<td class=\"standing-table__cell is-hidden--bp35\">8</td>\n",
       "<td class=\"standing-table__cell is-hidden--bp35\">13</td>\n",
       "<td class=\"standing-table__cell is-hidden--bp35\">31</td>\n",
       "<td class=\"standing-table__cell is-hidden--bp35\">41</td>\n",
       "<td class=\"standing-table__cell\">-10</td>\n",
       "<td class=\"standing-table__cell\" data-sort-value=\"12\">38</td>\n",
       "<td class=\"standing-table__cell is-hidden--bp15 is-hidden--bp35\" data-sort-value=\"5300101\">\n",
       "<div class=\"standing-table__form\">\n",
       "<span class=\"standing-table__form-cell standing-table__form-cell--draw\" title=\"Newcastle United 1-1 Wolverhampton Wanderers\"> </span><span class=\"standing-table__form-cell standing-table__form-cell--loss\" title=\"Manchester City 4-1 Wolverhampton Wanderers\"> </span><span class=\"standing-table__form-cell standing-table__form-cell--draw\" title=\"Aston Villa 0-0 Wolverhampton Wanderers\"> </span><span class=\"standing-table__form-cell standing-table__form-cell--loss\" title=\"Wolverhampton Wanderers 0-1 Liverpool\"> </span><span class=\"standing-table__form-cell standing-table__form-cell--loss\" title=\"Wolverhampton Wanderers 2-3 West Ham United\"> </span><span class=\"standing-table__form-cell standing-table__form-cell--win\" title=\"Fulham 0-1 Wolverhampton Wanderers\"> </span> </div>\n",
       "</td>\n",
       "</tr>\n",
       "<tr class=\"standing-table__row\" data-item-id=\"234\">\n",
       "<td class=\"standing-table__cell\">13</td>\n",
       "<td class=\"standing-table__cell standing-table__cell--name\" data-long-name=\"Crystal Palace\" data-short-name=\"Crystal Palace\">\n",
       "<a class=\"standing-table__cell--name-link\" href=\"/crystal-palace\">Crystal Palace</a>\n",
       "</td>\n",
       "<td class=\"standing-table__cell\">31</td>\n",
       "<td class=\"standing-table__cell is-hidden--bp35\">10</td>\n",
       "<td class=\"standing-table__cell is-hidden--bp35\">8</td>\n",
       "<td class=\"standing-table__cell is-hidden--bp35\">13</td>\n",
       "<td class=\"standing-table__cell is-hidden--bp35\">33</td>\n",
       "<td class=\"standing-table__cell is-hidden--bp35\">52</td>\n",
       "<td class=\"standing-table__cell\">-19</td>\n",
       "<td class=\"standing-table__cell\" data-sort-value=\"13\">38</td>\n",
       "<td class=\"standing-table__cell is-hidden--bp15 is-hidden--bp35\" data-sort-value=\"6013011\">\n",
       "<div class=\"standing-table__form\">\n",
       "<span class=\"standing-table__form-cell standing-table__form-cell--draw\" title=\"Crystal Palace 0-0 Fulham\"> </span><span class=\"standing-table__form-cell standing-table__form-cell--draw\" title=\"Crystal Palace 0-0 Manchester United\"> </span><span class=\"standing-table__form-cell standing-table__form-cell--loss\" title=\"Tottenham Hotspur 4-1 Crystal Palace\"> </span><span class=\"standing-table__form-cell standing-table__form-cell--win\" title=\"Crystal Palace 1-0 West Bromwich Albion\"> </span><span class=\"standing-table__form-cell standing-table__form-cell--draw\" title=\"Everton 1-1 Crystal Palace\"> </span><span class=\"standing-table__form-cell standing-table__form-cell--loss\" title=\"Crystal Palace 1-4 Chelsea\"> </span> </div>\n",
       "</td>\n",
       "</tr>\n",
       "<tr class=\"standing-table__row\" data-item-id=\"392\">\n",
       "<td class=\"standing-table__cell\">14</td>\n",
       "<td class=\"standing-table__cell standing-table__cell--name\" data-long-name=\"Southampton\" data-short-name=\"Southampton\">\n",
       "<a class=\"standing-table__cell--name-link\" href=\"/southampton\">Southampton</a>\n",
       "</td>\n",
       "<td class=\"standing-table__cell\">31</td>\n",
       "<td class=\"standing-table__cell is-hidden--bp35\">10</td>\n",
       "<td class=\"standing-table__cell is-hidden--bp35\">6</td>\n",
       "<td class=\"standing-table__cell is-hidden--bp35\">15</td>\n",
       "<td class=\"standing-table__cell is-hidden--bp35\">39</td>\n",
       "<td class=\"standing-table__cell is-hidden--bp35\">56</td>\n",
       "<td class=\"standing-table__cell\">-17</td>\n",
       "<td class=\"standing-table__cell\" data-sort-value=\"14\">36</td>\n",
       "<td class=\"standing-table__cell is-hidden--bp15 is-hidden--bp35\" data-sort-value=\"6030030\">\n",
       "<div class=\"standing-table__form\">\n",
       "<span class=\"standing-table__form-cell standing-table__form-cell--loss\" title=\"Everton 1-0 Southampton\"> </span><span class=\"standing-table__form-cell standing-table__form-cell--win\" title=\"Sheffield United 0-2 Southampton\"> </span><span class=\"standing-table__form-cell standing-table__form-cell--loss\" title=\"Manchester City 5-2 Southampton\"> </span><span class=\"standing-table__form-cell standing-table__form-cell--loss\" title=\"Southampton 1-2 Brighton and Hove Albion\"> </span><span class=\"standing-table__form-cell standing-table__form-cell--win\" title=\"Southampton 3-2 Burnley\"> </span><span class=\"standing-table__form-cell standing-table__form-cell--loss\" title=\"West Bromwich Albion 3-0 Southampton\"> </span> </div>\n",
       "</td>\n",
       "</tr>\n",
       "<tr class=\"standing-table__row\" data-item-id=\"212\">\n",
       "<td class=\"standing-table__cell\">15</td>\n",
       "<td class=\"standing-table__cell standing-table__cell--name\" data-long-name=\"Brighton and Hove Albion\" data-short-name=\"Brighton and Hove Albion\">\n",
       "<a class=\"standing-table__cell--name-link\" href=\"/brighton-and-hove-albion\">Brighton and Hove Albion</a>\n",
       "</td>\n",
       "<td class=\"standing-table__cell\">31</td>\n",
       "<td class=\"standing-table__cell is-hidden--bp35\">7</td>\n",
       "<td class=\"standing-table__cell is-hidden--bp35\">12</td>\n",
       "<td class=\"standing-table__cell is-hidden--bp35\">12</td>\n",
       "<td class=\"standing-table__cell is-hidden--bp35\">33</td>\n",
       "<td class=\"standing-table__cell is-hidden--bp35\">38</td>\n",
       "<td class=\"standing-table__cell\">-5</td>\n",
       "<td class=\"standing-table__cell\" data-sort-value=\"15\">33</td>\n",
       "<td class=\"standing-table__cell is-hidden--bp15 is-hidden--bp35\" data-sort-value=\"7103300\">\n",
       "<div class=\"standing-table__form\">\n",
       "<span class=\"standing-table__form-cell standing-table__form-cell--loss\" title=\"West Bromwich Albion 1-0 Brighton and Hove Albion\"> </span><span class=\"standing-table__form-cell standing-table__form-cell--loss\" title=\"Brighton and Hove Albion 1-2 Leicester City\"> </span><span class=\"standing-table__form-cell standing-table__form-cell--win\" title=\"Southampton 1-2 Brighton and Hove Albion\"> </span><span class=\"standing-table__form-cell standing-table__form-cell--win\" title=\"Brighton and Hove Albion 3-0 Newcastle United\"> </span><span class=\"standing-table__form-cell standing-table__form-cell--loss\" title=\"Manchester United 2-1 Brighton and Hove Albion\"> </span><span class=\"standing-table__form-cell standing-table__form-cell--draw\" title=\"Brighton and Hove Albion 0-0 Everton\"> </span> </div>\n",
       "</td>\n",
       "</tr>\n",
       "<tr class=\"standing-table__row\" data-item-id=\"160\">\n",
       "<td class=\"standing-table__cell\">16</td>\n",
       "<td class=\"standing-table__cell standing-table__cell--name\" data-long-name=\"Burnley\" data-short-name=\"Burnley\">\n",
       "<a class=\"standing-table__cell--name-link\" href=\"/burnley\">Burnley</a>\n",
       "</td>\n",
       "<td class=\"standing-table__cell\">31</td>\n",
       "<td class=\"standing-table__cell is-hidden--bp35\">8</td>\n",
       "<td class=\"standing-table__cell is-hidden--bp35\">9</td>\n",
       "<td class=\"standing-table__cell is-hidden--bp35\">14</td>\n",
       "<td class=\"standing-table__cell is-hidden--bp35\">25</td>\n",
       "<td class=\"standing-table__cell is-hidden--bp35\">42</td>\n",
       "<td class=\"standing-table__cell\">-17</td>\n",
       "<td class=\"standing-table__cell\" data-sort-value=\"16\">33</td>\n",
       "<td class=\"standing-table__cell is-hidden--bp15 is-hidden--bp35\" data-sort-value=\"5003110\">\n",
       "<div class=\"standing-table__form\">\n",
       "<span class=\"standing-table__form-cell standing-table__form-cell--loss\" title=\"Tottenham Hotspur 4-0 Burnley\"> </span><span class=\"standing-table__form-cell standing-table__form-cell--draw\" title=\"Burnley 1-1 Leicester City\"> </span><span class=\"standing-table__form-cell standing-table__form-cell--draw\" title=\"Burnley 1-1 Arsenal\"> </span><span class=\"standing-table__form-cell standing-table__form-cell--win\" title=\"Everton 1-2 Burnley\"> </span><span class=\"standing-table__form-cell standing-table__form-cell--loss\" title=\"Southampton 3-2 Burnley\"> </span><span class=\"standing-table__form-cell standing-table__form-cell--loss\" title=\"Burnley 1-2 Newcastle United\"> </span> </div>\n",
       "</td>\n",
       "</tr>\n",
       "<tr class=\"standing-table__row\" data-item-id=\"409\">\n",
       "<td class=\"standing-table__cell\">17</td>\n",
       "<td class=\"standing-table__cell standing-table__cell--name\" data-long-name=\"Newcastle United\" data-short-name=\"Newcastle United\">\n",
       "<a class=\"standing-table__cell--name-link\" href=\"/newcastle-united\">Newcastle United</a>\n",
       "</td>\n",
       "<td class=\"standing-table__cell\">31</td>\n",
       "<td class=\"standing-table__cell is-hidden--bp35\">8</td>\n",
       "<td class=\"standing-table__cell is-hidden--bp35\">8</td>\n",
       "<td class=\"standing-table__cell is-hidden--bp35\">15</td>\n",
       "<td class=\"standing-table__cell is-hidden--bp35\">32</td>\n",
       "<td class=\"standing-table__cell is-hidden--bp35\">51</td>\n",
       "<td class=\"standing-table__cell\">-19</td>\n",
       "<td class=\"standing-table__cell\" data-sort-value=\"17\">32</td>\n",
       "<td class=\"standing-table__cell is-hidden--bp15 is-hidden--bp35\" data-sort-value=\"7310111\">\n",
       "<div class=\"standing-table__form\">\n",
       "<span class=\"standing-table__form-cell standing-table__form-cell--draw\" title=\"Newcastle United 1-1 Wolverhampton Wanderers\"> </span><span class=\"standing-table__form-cell standing-table__form-cell--draw\" title=\"West Bromwich Albion 0-0 Newcastle United\"> </span><span class=\"standing-table__form-cell standing-table__form-cell--draw\" title=\"Newcastle United 1-1 Aston Villa\"> </span><span class=\"standing-table__form-cell standing-table__form-cell--loss\" title=\"Brighton and Hove Albion 3-0 Newcastle United\"> </span><span class=\"standing-table__form-cell standing-table__form-cell--draw\" title=\"Newcastle United 2-2 Tottenham Hotspur\"> </span><span class=\"standing-table__form-cell standing-table__form-cell--win\" title=\"Burnley 1-2 Newcastle United\"> </span> </div>\n",
       "</td>\n",
       "</tr>\n",
       "<tr class=\"standing-table__row standing-table__row--divider\" data-item-id=\"407\">\n",
       "<td class=\"standing-table__cell\">18</td>\n",
       "<td class=\"standing-table__cell standing-table__cell--name\" data-long-name=\"Fulham\" data-short-name=\"Fulham\">\n",
       "<a class=\"standing-table__cell--name-link\" href=\"/fulham\">Fulham</a>\n",
       "</td>\n",
       "<td class=\"standing-table__cell\">32</td>\n",
       "<td class=\"standing-table__cell is-hidden--bp35\">5</td>\n",
       "<td class=\"standing-table__cell is-hidden--bp35\">11</td>\n",
       "<td class=\"standing-table__cell is-hidden--bp35\">16</td>\n",
       "<td class=\"standing-table__cell is-hidden--bp35\">24</td>\n",
       "<td class=\"standing-table__cell is-hidden--bp35\">42</td>\n",
       "<td class=\"standing-table__cell\">-18</td>\n",
       "<td class=\"standing-table__cell\" data-sort-value=\"18\">26</td>\n",
       "<td class=\"standing-table__cell is-hidden--bp15 is-hidden--bp35\" data-sort-value=\"3000030\">\n",
       "<div class=\"standing-table__form\">\n",
       "<span class=\"standing-table__form-cell standing-table__form-cell--loss\" title=\"Fulham 0-1 Tottenham Hotspur\"> </span><span class=\"standing-table__form-cell standing-table__form-cell--win\" title=\"Liverpool 0-1 Fulham\"> </span><span class=\"standing-table__form-cell standing-table__form-cell--loss\" title=\"Fulham 0-3 Manchester City\"> </span><span class=\"standing-table__form-cell standing-table__form-cell--loss\" title=\"Fulham 1-2 Leeds United\"> </span><span class=\"standing-table__form-cell standing-table__form-cell--loss\" title=\"Aston Villa 3-1 Fulham\"> </span><span class=\"standing-table__form-cell standing-table__form-cell--loss\" title=\"Fulham 0-1 Wolverhampton Wanderers\"> </span> </div>\n",
       "</td>\n",
       "</tr>\n",
       "<tr class=\"standing-table__row\" data-item-id=\"275\">\n",
       "<td class=\"standing-table__cell\">19</td>\n",
       "<td class=\"standing-table__cell standing-table__cell--name\" data-long-name=\"West Bromwich Albion\" data-short-name=\"West Bromwich Albion\">\n",
       "<a class=\"standing-table__cell--name-link\" href=\"/west-bromwich-albion\">West Bromwich Albion</a>\n",
       "</td>\n",
       "<td class=\"standing-table__cell\">31</td>\n",
       "<td class=\"standing-table__cell is-hidden--bp35\">5</td>\n",
       "<td class=\"standing-table__cell is-hidden--bp35\">9</td>\n",
       "<td class=\"standing-table__cell is-hidden--bp35\">17</td>\n",
       "<td class=\"standing-table__cell is-hidden--bp35\">28</td>\n",
       "<td class=\"standing-table__cell is-hidden--bp35\">59</td>\n",
       "<td class=\"standing-table__cell\">-31</td>\n",
       "<td class=\"standing-table__cell\" data-sort-value=\"19\">24</td>\n",
       "<td class=\"standing-table__cell is-hidden--bp15 is-hidden--bp35\" data-sort-value=\"10330103\">\n",
       "<div class=\"standing-table__form\">\n",
       "<span class=\"standing-table__form-cell standing-table__form-cell--win\" title=\"West Bromwich Albion 1-0 Brighton and Hove Albion\"> </span><span class=\"standing-table__form-cell standing-table__form-cell--loss\" title=\"West Bromwich Albion 0-1 Everton\"> </span><span class=\"standing-table__form-cell standing-table__form-cell--draw\" title=\"West Bromwich Albion 0-0 Newcastle United\"> </span><span class=\"standing-table__form-cell standing-table__form-cell--loss\" title=\"Crystal Palace 1-0 West Bromwich Albion\"> </span><span class=\"standing-table__form-cell standing-table__form-cell--win\" title=\"Chelsea 2-5 West Bromwich Albion\"> </span><span class=\"standing-table__form-cell standing-table__form-cell--win\" title=\"West Bromwich Albion 3-0 Southampton\"> </span> </div>\n",
       "</td>\n",
       "</tr>\n",
       "<tr class=\"standing-table__row\" data-item-id=\"444\">\n",
       "<td class=\"standing-table__cell\">20</td>\n",
       "<td class=\"standing-table__cell standing-table__cell--name\" data-long-name=\"Sheffield United\" data-short-name=\"Sheffield United\">\n",
       "<a class=\"standing-table__cell--name-link\" href=\"/sheffield-united\">Sheffield United</a>\n",
       "</td>\n",
       "<td class=\"standing-table__cell\">31</td>\n",
       "<td class=\"standing-table__cell is-hidden--bp35\">4</td>\n",
       "<td class=\"standing-table__cell is-hidden--bp35\">2</td>\n",
       "<td class=\"standing-table__cell is-hidden--bp35\">25</td>\n",
       "<td class=\"standing-table__cell is-hidden--bp35\">17</td>\n",
       "<td class=\"standing-table__cell is-hidden--bp35\">55</td>\n",
       "<td class=\"standing-table__cell\">-38</td>\n",
       "<td class=\"standing-table__cell\" data-sort-value=\"20\">14</td>\n",
       "<td class=\"standing-table__cell is-hidden--bp15 is-hidden--bp35\" data-sort-value=\"3000030\">\n",
       "<div class=\"standing-table__form\">\n",
       "<span class=\"standing-table__form-cell standing-table__form-cell--loss\" title=\"Sheffield United 0-2 Liverpool\"> </span><span class=\"standing-table__form-cell standing-table__form-cell--win\" title=\"Sheffield United 1-0 Aston Villa\"> </span><span class=\"standing-table__form-cell standing-table__form-cell--loss\" title=\"Sheffield United 0-2 Southampton\"> </span><span class=\"standing-table__form-cell standing-table__form-cell--loss\" title=\"Leicester City 5-0 Sheffield United\"> </span><span class=\"standing-table__form-cell standing-table__form-cell--loss\" title=\"Leeds United 2-1 Sheffield United\"> </span><span class=\"standing-table__form-cell standing-table__form-cell--loss\" title=\"Sheffield United 0-3 Arsenal\"> </span> </div>\n",
       "</td>\n",
       "</tr>\n",
       "</tbody>\n",
       "</table>"
      ]
     },
     "execution_count": 18,
     "metadata": {},
     "output_type": "execute_result"
    }
   ],
   "source": [
    "html = requests.get('https://www.skysports.com/premier-league-table')\n",
    "bs = BeautifulSoup(html.content, 'lxml')\n",
    "table = bs.table\n",
    "\n",
    "# table = bs.find(lambda tag: tag.name=='table' ) \n",
    "# rows = table.findAll(lambda tag: tag.name=='tr')\n",
    "table"
   ]
  },
  {
   "cell_type": "code",
   "execution_count": 19,
   "metadata": {
    "ExecuteTime": {
     "end_time": "2021-04-15T14:28:05.692288Z",
     "start_time": "2021-04-15T14:28:05.686947Z"
    }
   },
   "outputs": [
    {
     "name": "stdout",
     "output_type": "stream",
     "text": [
      "[]\n",
      "['1', '\\nManchester City\\n', '32', '23', '5', '4', '67', '23', '44', '74', '\\n\\n       \\n']\n",
      "['2', '\\nManchester United\\n', '31', '18', '9', '4', '61', '34', '27', '63', '\\n\\n       \\n']\n",
      "['3', '\\nLeicester City\\n', '31', '17', '5', '9', '55', '37', '18', '56', '\\n\\n       \\n']\n",
      "['4', '\\nWest Ham United\\n', '31', '16', '7', '8', '51', '39', '12', '55', '\\n\\n       \\n']\n",
      "['5', '\\nChelsea\\n', '31', '15', '9', '7', '50', '31', '19', '54', '\\n\\n       \\n']\n",
      "['6', '\\nLiverpool\\n', '31', '15', '7', '9', '53', '37', '16', '52', '\\n\\n       \\n']\n",
      "['7', '\\nTottenham Hotspur\\n', '31', '14', '7', '10', '52', '35', '17', '49', '\\n\\n       \\n']\n",
      "['8', '\\nEverton\\n', '30', '14', '6', '10', '41', '38', '3', '48', '\\n\\n       \\n']\n",
      "['9', '\\nArsenal\\n', '31', '13', '6', '12', '43', '35', '8', '45', '\\n\\n       \\n']\n",
      "['10', '\\nLeeds United\\n', '31', '14', '3', '14', '49', '49', '0', '45', '\\n\\n       \\n']\n",
      "['11', '\\nAston Villa\\n', '30', '13', '5', '12', '43', '33', '10', '44', '\\n\\n       \\n']\n",
      "['12', '\\nWolverhampton Wanderers\\n', '31', '10', '8', '13', '31', '41', '-10', '38', '\\n\\n       \\n']\n",
      "['13', '\\nCrystal Palace\\n', '31', '10', '8', '13', '33', '52', '-19', '38', '\\n\\n       \\n']\n",
      "['14', '\\nSouthampton\\n', '31', '10', '6', '15', '39', '56', '-17', '36', '\\n\\n       \\n']\n",
      "['15', '\\nBrighton and Hove Albion\\n', '31', '7', '12', '12', '33', '38', '-5', '33', '\\n\\n       \\n']\n",
      "['16', '\\nBurnley\\n', '31', '8', '9', '14', '25', '42', '-17', '33', '\\n\\n       \\n']\n",
      "['17', '\\nNewcastle United\\n', '31', '8', '8', '15', '32', '51', '-19', '32', '\\n\\n       \\n']\n",
      "['18', '\\nFulham\\n', '32', '5', '11', '16', '24', '42', '-18', '26', '\\n\\n       \\n']\n",
      "['19', '\\nWest Bromwich Albion\\n', '31', '5', '9', '17', '28', '59', '-31', '24', '\\n\\n       \\n']\n",
      "['20', '\\nSheffield United\\n', '31', '4', '2', '25', '17', '55', '-38', '14', '\\n\\n       \\n']\n"
     ]
    }
   ],
   "source": [
    "table_rows = table.find_all('tr')\n",
    "\n",
    "for tr in table_rows:\n",
    "    td = tr.find_all('td')\n",
    "    row = [i.text for i in td]\n",
    "    print(row)"
   ]
  },
  {
   "cell_type": "code",
   "execution_count": 20,
   "metadata": {
    "ExecuteTime": {
     "end_time": "2021-04-15T14:28:13.672271Z",
     "start_time": "2021-04-15T14:28:13.511181Z"
    }
   },
   "outputs": [
    {
     "data": {
      "text/html": [
       "<div>\n",
       "<style scoped>\n",
       "    .dataframe tbody tr th:only-of-type {\n",
       "        vertical-align: middle;\n",
       "    }\n",
       "\n",
       "    .dataframe tbody tr th {\n",
       "        vertical-align: top;\n",
       "    }\n",
       "\n",
       "    .dataframe thead th {\n",
       "        text-align: right;\n",
       "    }\n",
       "</style>\n",
       "<table border=\"1\" class=\"dataframe\">\n",
       "  <thead>\n",
       "    <tr style=\"text-align: right;\">\n",
       "      <th></th>\n",
       "      <th>#</th>\n",
       "      <th>Pl</th>\n",
       "      <th>W</th>\n",
       "      <th>D</th>\n",
       "      <th>L</th>\n",
       "      <th>F</th>\n",
       "      <th>A</th>\n",
       "      <th>GD</th>\n",
       "      <th>Pts</th>\n",
       "      <th>Last 6</th>\n",
       "    </tr>\n",
       "    <tr>\n",
       "      <th>Team</th>\n",
       "      <th></th>\n",
       "      <th></th>\n",
       "      <th></th>\n",
       "      <th></th>\n",
       "      <th></th>\n",
       "      <th></th>\n",
       "      <th></th>\n",
       "      <th></th>\n",
       "      <th></th>\n",
       "      <th></th>\n",
       "    </tr>\n",
       "  </thead>\n",
       "  <tbody>\n",
       "    <tr>\n",
       "      <th>Manchester City</th>\n",
       "      <td>1</td>\n",
       "      <td>32</td>\n",
       "      <td>23</td>\n",
       "      <td>5</td>\n",
       "      <td>4</td>\n",
       "      <td>67</td>\n",
       "      <td>23</td>\n",
       "      <td>44</td>\n",
       "      <td>74</td>\n",
       "      <td>NaN</td>\n",
       "    </tr>\n",
       "    <tr>\n",
       "      <th>Manchester United</th>\n",
       "      <td>2</td>\n",
       "      <td>31</td>\n",
       "      <td>18</td>\n",
       "      <td>9</td>\n",
       "      <td>4</td>\n",
       "      <td>61</td>\n",
       "      <td>34</td>\n",
       "      <td>27</td>\n",
       "      <td>63</td>\n",
       "      <td>NaN</td>\n",
       "    </tr>\n",
       "    <tr>\n",
       "      <th>Leicester City</th>\n",
       "      <td>3</td>\n",
       "      <td>31</td>\n",
       "      <td>17</td>\n",
       "      <td>5</td>\n",
       "      <td>9</td>\n",
       "      <td>55</td>\n",
       "      <td>37</td>\n",
       "      <td>18</td>\n",
       "      <td>56</td>\n",
       "      <td>NaN</td>\n",
       "    </tr>\n",
       "    <tr>\n",
       "      <th>West Ham United</th>\n",
       "      <td>4</td>\n",
       "      <td>31</td>\n",
       "      <td>16</td>\n",
       "      <td>7</td>\n",
       "      <td>8</td>\n",
       "      <td>51</td>\n",
       "      <td>39</td>\n",
       "      <td>12</td>\n",
       "      <td>55</td>\n",
       "      <td>NaN</td>\n",
       "    </tr>\n",
       "    <tr>\n",
       "      <th>Chelsea</th>\n",
       "      <td>5</td>\n",
       "      <td>31</td>\n",
       "      <td>15</td>\n",
       "      <td>9</td>\n",
       "      <td>7</td>\n",
       "      <td>50</td>\n",
       "      <td>31</td>\n",
       "      <td>19</td>\n",
       "      <td>54</td>\n",
       "      <td>NaN</td>\n",
       "    </tr>\n",
       "    <tr>\n",
       "      <th>Liverpool</th>\n",
       "      <td>6</td>\n",
       "      <td>31</td>\n",
       "      <td>15</td>\n",
       "      <td>7</td>\n",
       "      <td>9</td>\n",
       "      <td>53</td>\n",
       "      <td>37</td>\n",
       "      <td>16</td>\n",
       "      <td>52</td>\n",
       "      <td>NaN</td>\n",
       "    </tr>\n",
       "    <tr>\n",
       "      <th>Tottenham Hotspur</th>\n",
       "      <td>7</td>\n",
       "      <td>31</td>\n",
       "      <td>14</td>\n",
       "      <td>7</td>\n",
       "      <td>10</td>\n",
       "      <td>52</td>\n",
       "      <td>35</td>\n",
       "      <td>17</td>\n",
       "      <td>49</td>\n",
       "      <td>NaN</td>\n",
       "    </tr>\n",
       "    <tr>\n",
       "      <th>Everton</th>\n",
       "      <td>8</td>\n",
       "      <td>30</td>\n",
       "      <td>14</td>\n",
       "      <td>6</td>\n",
       "      <td>10</td>\n",
       "      <td>41</td>\n",
       "      <td>38</td>\n",
       "      <td>3</td>\n",
       "      <td>48</td>\n",
       "      <td>NaN</td>\n",
       "    </tr>\n",
       "    <tr>\n",
       "      <th>Arsenal</th>\n",
       "      <td>9</td>\n",
       "      <td>31</td>\n",
       "      <td>13</td>\n",
       "      <td>6</td>\n",
       "      <td>12</td>\n",
       "      <td>43</td>\n",
       "      <td>35</td>\n",
       "      <td>8</td>\n",
       "      <td>45</td>\n",
       "      <td>NaN</td>\n",
       "    </tr>\n",
       "    <tr>\n",
       "      <th>Leeds United</th>\n",
       "      <td>10</td>\n",
       "      <td>31</td>\n",
       "      <td>14</td>\n",
       "      <td>3</td>\n",
       "      <td>14</td>\n",
       "      <td>49</td>\n",
       "      <td>49</td>\n",
       "      <td>0</td>\n",
       "      <td>45</td>\n",
       "      <td>NaN</td>\n",
       "    </tr>\n",
       "    <tr>\n",
       "      <th>Aston Villa</th>\n",
       "      <td>11</td>\n",
       "      <td>30</td>\n",
       "      <td>13</td>\n",
       "      <td>5</td>\n",
       "      <td>12</td>\n",
       "      <td>43</td>\n",
       "      <td>33</td>\n",
       "      <td>10</td>\n",
       "      <td>44</td>\n",
       "      <td>NaN</td>\n",
       "    </tr>\n",
       "    <tr>\n",
       "      <th>Wolverhampton Wanderers</th>\n",
       "      <td>12</td>\n",
       "      <td>31</td>\n",
       "      <td>10</td>\n",
       "      <td>8</td>\n",
       "      <td>13</td>\n",
       "      <td>31</td>\n",
       "      <td>41</td>\n",
       "      <td>-10</td>\n",
       "      <td>38</td>\n",
       "      <td>NaN</td>\n",
       "    </tr>\n",
       "    <tr>\n",
       "      <th>Crystal Palace</th>\n",
       "      <td>13</td>\n",
       "      <td>31</td>\n",
       "      <td>10</td>\n",
       "      <td>8</td>\n",
       "      <td>13</td>\n",
       "      <td>33</td>\n",
       "      <td>52</td>\n",
       "      <td>-19</td>\n",
       "      <td>38</td>\n",
       "      <td>NaN</td>\n",
       "    </tr>\n",
       "    <tr>\n",
       "      <th>Southampton</th>\n",
       "      <td>14</td>\n",
       "      <td>31</td>\n",
       "      <td>10</td>\n",
       "      <td>6</td>\n",
       "      <td>15</td>\n",
       "      <td>39</td>\n",
       "      <td>56</td>\n",
       "      <td>-17</td>\n",
       "      <td>36</td>\n",
       "      <td>NaN</td>\n",
       "    </tr>\n",
       "    <tr>\n",
       "      <th>Brighton and Hove Albion</th>\n",
       "      <td>15</td>\n",
       "      <td>31</td>\n",
       "      <td>7</td>\n",
       "      <td>12</td>\n",
       "      <td>12</td>\n",
       "      <td>33</td>\n",
       "      <td>38</td>\n",
       "      <td>-5</td>\n",
       "      <td>33</td>\n",
       "      <td>NaN</td>\n",
       "    </tr>\n",
       "    <tr>\n",
       "      <th>Burnley</th>\n",
       "      <td>16</td>\n",
       "      <td>31</td>\n",
       "      <td>8</td>\n",
       "      <td>9</td>\n",
       "      <td>14</td>\n",
       "      <td>25</td>\n",
       "      <td>42</td>\n",
       "      <td>-17</td>\n",
       "      <td>33</td>\n",
       "      <td>NaN</td>\n",
       "    </tr>\n",
       "    <tr>\n",
       "      <th>Newcastle United</th>\n",
       "      <td>17</td>\n",
       "      <td>31</td>\n",
       "      <td>8</td>\n",
       "      <td>8</td>\n",
       "      <td>15</td>\n",
       "      <td>32</td>\n",
       "      <td>51</td>\n",
       "      <td>-19</td>\n",
       "      <td>32</td>\n",
       "      <td>NaN</td>\n",
       "    </tr>\n",
       "    <tr>\n",
       "      <th>Fulham</th>\n",
       "      <td>18</td>\n",
       "      <td>32</td>\n",
       "      <td>5</td>\n",
       "      <td>11</td>\n",
       "      <td>16</td>\n",
       "      <td>24</td>\n",
       "      <td>42</td>\n",
       "      <td>-18</td>\n",
       "      <td>26</td>\n",
       "      <td>NaN</td>\n",
       "    </tr>\n",
       "    <tr>\n",
       "      <th>West Bromwich Albion</th>\n",
       "      <td>19</td>\n",
       "      <td>31</td>\n",
       "      <td>5</td>\n",
       "      <td>9</td>\n",
       "      <td>17</td>\n",
       "      <td>28</td>\n",
       "      <td>59</td>\n",
       "      <td>-31</td>\n",
       "      <td>24</td>\n",
       "      <td>NaN</td>\n",
       "    </tr>\n",
       "    <tr>\n",
       "      <th>Sheffield United</th>\n",
       "      <td>20</td>\n",
       "      <td>31</td>\n",
       "      <td>4</td>\n",
       "      <td>2</td>\n",
       "      <td>25</td>\n",
       "      <td>17</td>\n",
       "      <td>55</td>\n",
       "      <td>-38</td>\n",
       "      <td>14</td>\n",
       "      <td>NaN</td>\n",
       "    </tr>\n",
       "  </tbody>\n",
       "</table>\n",
       "</div>"
      ],
      "text/plain": [
       "                           #  Pl   W   D   L   F   A  GD  Pts  Last 6\n",
       "Team                                                                 \n",
       "Manchester City            1  32  23   5   4  67  23  44   74     NaN\n",
       "Manchester United          2  31  18   9   4  61  34  27   63     NaN\n",
       "Leicester City             3  31  17   5   9  55  37  18   56     NaN\n",
       "West Ham United            4  31  16   7   8  51  39  12   55     NaN\n",
       "Chelsea                    5  31  15   9   7  50  31  19   54     NaN\n",
       "Liverpool                  6  31  15   7   9  53  37  16   52     NaN\n",
       "Tottenham Hotspur          7  31  14   7  10  52  35  17   49     NaN\n",
       "Everton                    8  30  14   6  10  41  38   3   48     NaN\n",
       "Arsenal                    9  31  13   6  12  43  35   8   45     NaN\n",
       "Leeds United              10  31  14   3  14  49  49   0   45     NaN\n",
       "Aston Villa               11  30  13   5  12  43  33  10   44     NaN\n",
       "Wolverhampton Wanderers   12  31  10   8  13  31  41 -10   38     NaN\n",
       "Crystal Palace            13  31  10   8  13  33  52 -19   38     NaN\n",
       "Southampton               14  31  10   6  15  39  56 -17   36     NaN\n",
       "Brighton and Hove Albion  15  31   7  12  12  33  38  -5   33     NaN\n",
       "Burnley                   16  31   8   9  14  25  42 -17   33     NaN\n",
       "Newcastle United          17  31   8   8  15  32  51 -19   32     NaN\n",
       "Fulham                    18  32   5  11  16  24  42 -18   26     NaN\n",
       "West Bromwich Albion      19  31   5   9  17  28  59 -31   24     NaN\n",
       "Sheffield United          20  31   4   2  25  17  55 -38   14     NaN"
      ]
     },
     "execution_count": 20,
     "metadata": {},
     "output_type": "execute_result"
    }
   ],
   "source": [
    "html = requests.get('https://www.skysports.com/premier-league-table')\n",
    "bs = BeautifulSoup(html.content, 'lxml')\n",
    "table = bs.table\n",
    "\n",
    "#If you know there is more than one table, you can edit the code to include the proper index:\n",
    "# table = bs.find_all('table')[0] \n",
    "\n",
    "df = pd.read_html(str(table), index_col='Team')\n",
    "df = df[0].dropna(axis=0, thresh=4)\n",
    "df"
   ]
  },
  {
   "cell_type": "markdown",
   "metadata": {},
   "source": [
    "#### Adjusting the header and index:\n",
    "\n",
    "- Caveat: this uses pandas, not Selenium or Soup"
   ]
  },
  {
   "cell_type": "markdown",
   "metadata": {},
   "source": [
    "If there is more than one table, pandas reads the html as a list of tables:"
   ]
  },
  {
   "cell_type": "code",
   "execution_count": 21,
   "metadata": {
    "ExecuteTime": {
     "end_time": "2021-04-15T14:41:39.778508Z",
     "start_time": "2021-04-15T14:41:39.475571Z"
    }
   },
   "outputs": [
    {
     "data": {
      "text/plain": [
       "[      0                               1    2    3    4               5  \\\n",
       " 0   NaN                            Team    P    W    D               L   \n",
       " 1     C         Manchester CityMan City   38   32    2               4   \n",
       " 2     2                       Liverpool   38   30    7               1   \n",
       " 3     3                         Chelsea   38   21    9               8   \n",
       " 4     4          Tottenham HotspurSpurs   38   23    2              13   \n",
       " 5     5                         Arsenal   38   21    7              10   \n",
       " 6     6        Manchester UnitedMan Utd   38   19    9              10   \n",
       " 7     7   Wolverhampton WanderersWolves   38   16    9              13   \n",
       " 8     8                         Everton   38   15    9              14   \n",
       " 9     9         Leicester CityLeicester   38   15    7              16   \n",
       " 10   10         West Ham UnitedWest Ham   38   15    7              16   \n",
       " 11   11                         Watford   38   14    8              16   \n",
       " 12   12                  Crystal Palace   38   14    7              17   \n",
       " 13   13       Newcastle UnitedNewcastle   38   12    9              17   \n",
       " 14   14                     Bournemouth   38   13    6              19   \n",
       " 15   15                         Burnley   38   11    7              20   \n",
       " 16   16                     Southampton   38    9   12              17   \n",
       " 17   17  Brighton & Hove AlbionBrighton   38    9    9              20   \n",
       " 18    R             Cardiff CityCardiff   38   10    4              24   \n",
       " 19    R                          Fulham   38    7    5              26   \n",
       " 20    R   Huddersfield TownHuddersfield   38    3    7              28   \n",
       " 21  NaN                             NaN  NaN  NaN  NaN  > Full Version   \n",
       " \n",
       "                  6               7               8               9  \n",
       " 0                F               A              GD             PTS  \n",
       " 1               95              23              72              98  \n",
       " 2               89              22              67              97  \n",
       " 3               63              39              24              72  \n",
       " 4               67              39              28              71  \n",
       " 5               73              51              22              70  \n",
       " 6               65              54              11              66  \n",
       " 7               47              46               1              57  \n",
       " 8               54              46               8              54  \n",
       " 9               51              48               3              52  \n",
       " 10              52              55              -3              52  \n",
       " 11              52              59              -7              50  \n",
       " 12              51              53              -2              49  \n",
       " 13              42              48              -6              45  \n",
       " 14              56              70             -14              45  \n",
       " 15              45              68             -23              40  \n",
       " 16              45              65             -20              39  \n",
       " 17              35              60             -25              36  \n",
       " 18              34              69             -35              34  \n",
       " 19              34              81             -47              26  \n",
       " 20              22              76             -54              16  \n",
       " 21  > Full Version  > Full Version  > Full Version  > Full Version  ,\n",
       "                  0               1                        2               3  \\\n",
       " 0              NaN            Team  Last Six (oldest first)             PTS   \n",
       " 1                1       Liverpool                      NaN              18   \n",
       " 2                2        Man City                      NaN              18   \n",
       " 3                3  Crystal Palace                      NaN              13   \n",
       " 4                4         Everton                      NaN              11   \n",
       " 5                5        West Ham                      NaN              10   \n",
       " 6                6          Wolves                      NaN              10   \n",
       " 7                7       Newcastle                      NaN              10   \n",
       " 8                8          Fulham                      NaN               9   \n",
       " 9                9         Chelsea                      NaN               9   \n",
       " 10              10       Leicester                      NaN               8   \n",
       " 11              11         Arsenal                      NaN               7   \n",
       " 12              12     Bournemouth                      NaN               7   \n",
       " 13              13           Spurs                      NaN               7   \n",
       " 14              14         Burnley                      NaN               7   \n",
       " 15              15         Cardiff                      NaN               6   \n",
       " 16              16     Southampton                      NaN               6   \n",
       " 17              17         Man Utd                      NaN               5   \n",
       " 18              18         Watford                      NaN               4   \n",
       " 19              19        Brighton                      NaN               3   \n",
       " 20              20    Huddersfield                      NaN               2   \n",
       " 21  > Full Version  > Full Version           > Full Version  > Full Version   \n",
       " \n",
       "                  4  \n",
       " 0              NaN  \n",
       " 1              NaN  \n",
       " 2              NaN  \n",
       " 3              NaN  \n",
       " 4              NaN  \n",
       " 5              NaN  \n",
       " 6              NaN  \n",
       " 7              NaN  \n",
       " 8              NaN  \n",
       " 9              NaN  \n",
       " 10             NaN  \n",
       " 11             NaN  \n",
       " 12             NaN  \n",
       " 13             NaN  \n",
       " 14             NaN  \n",
       " 15             NaN  \n",
       " 16             NaN  \n",
       " 17             NaN  \n",
       " 18             NaN  \n",
       " 19             NaN  \n",
       " 20             NaN  \n",
       " 21  > Full Version  ,\n",
       "        0               1   2   3  4   5   6   7    8    9\n",
       " 0    NaN            Team   P   W  D   L   F   A   GD  PTS\n",
       " 1    1.0        Man City  19  18  0   1  57  12   45   54\n",
       " 2    2.0       Liverpool  19  17  2   0  55  10   45   53\n",
       " 3    3.0         Arsenal  19  14  3   2  42  16   26   45\n",
       " 4    4.0         Chelsea  19  12  6   1  39  12   27   42\n",
       " 5    5.0           Spurs  19  12  2   5  34  16   18   38\n",
       " 6    6.0         Man Utd  19  10  6   3  33  25    8   36\n",
       " 7    7.0         Everton  19  10  4   5  30  21    9   34\n",
       " 8    8.0          Wolves  19  10  4   5  28  21    7   34\n",
       " 9    9.0        West Ham  19   9  4   6  32  27    5   31\n",
       " 10  10.0     Bournemouth  19   8  5   6  30  25    5   29\n",
       " 11  11.0       Leicester  19   8  3   8  24  20    4   27\n",
       " 12  12.0         Watford  19   8  3   8  26  28   -2   27\n",
       " 13  13.0       Newcastle  19   8  1  10  24  25   -1   25\n",
       " 14  14.0     Southampton  19   5  8   6  27  30   -3   23\n",
       " 15  15.0         Burnley  19   7  2  10  24  32   -8   23\n",
       " 16  16.0        Brighton  19   6  5   8  19  28   -9   23\n",
       " 17  17.0          Fulham  19   6  3  10  22  36  -14   21\n",
       " 18  18.0  Crystal Palace  19   5  5   9  19  23   -4   20\n",
       " 19  19.0         Cardiff  19   6  2  11  21  38  -17   20\n",
       " 20  20.0    Huddersfield  19   2  3  14  10  31  -21    9,\n",
       "        0               1   2   3  4   5   6   7    8    9\n",
       " 0    NaN            Team   P   W  D   L   F   A   GD  PTS\n",
       " 1    1.0        Man City  19  14  2   3  38  11   27   44\n",
       " 2    2.0       Liverpool  19  13  5   1  34  12   22   44\n",
       " 3    3.0           Spurs  19  11  0   8  33  23   10   33\n",
       " 4    4.0         Man Utd  19   9  3   7  32  29    3   30\n",
       " 5    5.0         Chelsea  19   9  3   7  24  27   -3   30\n",
       " 6    6.0  Crystal Palace  19   9  2   8  32  30    2   29\n",
       " 7    7.0       Leicester  19   7  4   8  27  28   -1   25\n",
       " 8    8.0         Arsenal  19   7  4   8  31  35   -4   25\n",
       " 9    9.0         Watford  19   6  5   8  26  31   -5   23\n",
       " 10  10.0          Wolves  19   6  5   8  19  25   -6   23\n",
       " 11  11.0        West Ham  19   6  3  10  20  28   -8   21\n",
       " 12  12.0         Everton  19   5  5   9  24  25   -1   20\n",
       " 13  13.0       Newcastle  19   4  8   7  18  23   -5   20\n",
       " 14  14.0         Burnley  19   4  5  10  21  36  -15   17\n",
       " 15  15.0     Southampton  19   4  4  11  18  35  -17   16\n",
       " 16  16.0     Bournemouth  19   5  1  13  26  45  -19   16\n",
       " 17  17.0         Cardiff  19   4  2  13  13  31  -18   14\n",
       " 18  18.0        Brighton  19   3  4  12  16  32  -16   13\n",
       " 19  19.0    Huddersfield  19   1  4  14  12  45  -33    7\n",
       " 20  20.0          Fulham  19   1  2  16  12  45  -33    5,\n",
       "                  0               1               2               3  \\\n",
       " 0              NaN            Team   Goals against    Avg per game   \n",
       " 1                1       Liverpool              22            0.58   \n",
       " 2                2        Man City              23            0.61   \n",
       " 3                3         Chelsea              39            1.03   \n",
       " 4                4           Spurs              39            1.03   \n",
       " 5                5         Everton              46            1.21   \n",
       " 6                6          Wolves              46            1.21   \n",
       " 7                7       Leicester              48            1.26   \n",
       " 8                8       Newcastle              48            1.26   \n",
       " 9                9         Arsenal              51            1.34   \n",
       " 10              10  Crystal Palace              53            1.39   \n",
       " 11              11         Man Utd              54            1.42   \n",
       " 12              12        West Ham              55            1.45   \n",
       " 13              13         Watford              59            1.55   \n",
       " 14              14        Brighton              60            1.58   \n",
       " 15              15     Southampton              65            1.71   \n",
       " 16              16         Burnley              68            1.79   \n",
       " 17              17         Cardiff              69            1.82   \n",
       " 18              18     Bournemouth              70            1.84   \n",
       " 19              19    Huddersfield              76            2.00   \n",
       " 20              20          Fulham              81            2.13   \n",
       " 21  > Full Version  > Full Version  > Full Version  > Full Version   \n",
       " \n",
       "                  4  \n",
       " 0     Clean Sheets  \n",
       " 1               21  \n",
       " 2               20  \n",
       " 3               16  \n",
       " 4               13  \n",
       " 5               14  \n",
       " 6                9  \n",
       " 7               10  \n",
       " 8               11  \n",
       " 9                8  \n",
       " 10              12  \n",
       " 11               7  \n",
       " 12               7  \n",
       " 13               7  \n",
       " 14               7  \n",
       " 15               7  \n",
       " 16               8  \n",
       " 17              10  \n",
       " 18              10  \n",
       " 19               5  \n",
       " 20               5  \n",
       " 21  > Full Version  ,\n",
       "                  0               1               2               3  \\\n",
       " 0              NaN            Team    Goals scored    Avg per game   \n",
       " 1                1        Man City              95            2.50   \n",
       " 2                2       Liverpool              89            2.34   \n",
       " 3                3         Arsenal              73            1.92   \n",
       " 4                4           Spurs              67            1.76   \n",
       " 5                5         Man Utd              65            1.71   \n",
       " 6                6         Chelsea              63            1.66   \n",
       " 7                7     Bournemouth              56            1.47   \n",
       " 8                8         Everton              54            1.42   \n",
       " 9                9         Watford              52            1.37   \n",
       " 10              10        West Ham              52            1.37   \n",
       " 11              11  Crystal Palace              51            1.34   \n",
       " 12              12       Leicester              51            1.34   \n",
       " 13              13          Wolves              47            1.24   \n",
       " 14              14         Burnley              45            1.18   \n",
       " 15              15     Southampton              45            1.18   \n",
       " 16              16       Newcastle              42            1.11   \n",
       " 17              17        Brighton              35            0.92   \n",
       " 18              18         Cardiff              34            0.89   \n",
       " 19              19          Fulham              34            0.89   \n",
       " 20              20    Huddersfield              22            0.58   \n",
       " 21  > Full Version  > Full Version  > Full Version  > Full Version   \n",
       " \n",
       "                  4  \n",
       " 0       Top scorer  \n",
       " 1           Aguero  \n",
       " 2             Mane  \n",
       " 3       Aubameyang  \n",
       " 4             Kane  \n",
       " 5            Pogba  \n",
       " 6           Hazard  \n",
       " 7           Wilson  \n",
       " 8      Richarlison  \n",
       " 9         Deulofeu  \n",
       " 10      Arnautovic  \n",
       " 11     Milivojevic  \n",
       " 12           Vardy  \n",
       " 13         Jimenez  \n",
       " 14          Barnes  \n",
       " 15            Ings  \n",
       " 16           Perez  \n",
       " 17          Murray  \n",
       " 18        Camarasa  \n",
       " 19        Mitrovic  \n",
       " 20           Grant  \n",
       " 21  > Full Version  ]"
      ]
     },
     "execution_count": 21,
     "metadata": {},
     "output_type": "execute_result"
    }
   ],
   "source": [
    "df2 = pd.read_html('https://www.sportsmole.co.uk/football/premier-league/2018-19/')\n",
    "\n",
    "df2"
   ]
  },
  {
   "cell_type": "code",
   "execution_count": 22,
   "metadata": {
    "ExecuteTime": {
     "end_time": "2021-04-15T14:41:42.657623Z",
     "start_time": "2021-04-15T14:41:42.643014Z"
    }
   },
   "outputs": [
    {
     "data": {
      "text/html": [
       "<div>\n",
       "<style scoped>\n",
       "    .dataframe tbody tr th:only-of-type {\n",
       "        vertical-align: middle;\n",
       "    }\n",
       "\n",
       "    .dataframe tbody tr th {\n",
       "        vertical-align: top;\n",
       "    }\n",
       "\n",
       "    .dataframe thead th {\n",
       "        text-align: right;\n",
       "    }\n",
       "</style>\n",
       "<table border=\"1\" class=\"dataframe\">\n",
       "  <thead>\n",
       "    <tr style=\"text-align: right;\">\n",
       "      <th></th>\n",
       "      <th>0</th>\n",
       "      <th>1</th>\n",
       "      <th>2</th>\n",
       "      <th>3</th>\n",
       "      <th>4</th>\n",
       "      <th>5</th>\n",
       "      <th>6</th>\n",
       "      <th>7</th>\n",
       "      <th>8</th>\n",
       "      <th>9</th>\n",
       "    </tr>\n",
       "  </thead>\n",
       "  <tbody>\n",
       "    <tr>\n",
       "      <th>0</th>\n",
       "      <td>NaN</td>\n",
       "      <td>Team</td>\n",
       "      <td>P</td>\n",
       "      <td>W</td>\n",
       "      <td>D</td>\n",
       "      <td>L</td>\n",
       "      <td>F</td>\n",
       "      <td>A</td>\n",
       "      <td>GD</td>\n",
       "      <td>PTS</td>\n",
       "    </tr>\n",
       "    <tr>\n",
       "      <th>1</th>\n",
       "      <td>C</td>\n",
       "      <td>Manchester CityMan City</td>\n",
       "      <td>38</td>\n",
       "      <td>32</td>\n",
       "      <td>2</td>\n",
       "      <td>4</td>\n",
       "      <td>95</td>\n",
       "      <td>23</td>\n",
       "      <td>72</td>\n",
       "      <td>98</td>\n",
       "    </tr>\n",
       "    <tr>\n",
       "      <th>2</th>\n",
       "      <td>2</td>\n",
       "      <td>Liverpool</td>\n",
       "      <td>38</td>\n",
       "      <td>30</td>\n",
       "      <td>7</td>\n",
       "      <td>1</td>\n",
       "      <td>89</td>\n",
       "      <td>22</td>\n",
       "      <td>67</td>\n",
       "      <td>97</td>\n",
       "    </tr>\n",
       "    <tr>\n",
       "      <th>3</th>\n",
       "      <td>3</td>\n",
       "      <td>Chelsea</td>\n",
       "      <td>38</td>\n",
       "      <td>21</td>\n",
       "      <td>9</td>\n",
       "      <td>8</td>\n",
       "      <td>63</td>\n",
       "      <td>39</td>\n",
       "      <td>24</td>\n",
       "      <td>72</td>\n",
       "    </tr>\n",
       "    <tr>\n",
       "      <th>4</th>\n",
       "      <td>4</td>\n",
       "      <td>Tottenham HotspurSpurs</td>\n",
       "      <td>38</td>\n",
       "      <td>23</td>\n",
       "      <td>2</td>\n",
       "      <td>13</td>\n",
       "      <td>67</td>\n",
       "      <td>39</td>\n",
       "      <td>28</td>\n",
       "      <td>71</td>\n",
       "    </tr>\n",
       "    <tr>\n",
       "      <th>5</th>\n",
       "      <td>5</td>\n",
       "      <td>Arsenal</td>\n",
       "      <td>38</td>\n",
       "      <td>21</td>\n",
       "      <td>7</td>\n",
       "      <td>10</td>\n",
       "      <td>73</td>\n",
       "      <td>51</td>\n",
       "      <td>22</td>\n",
       "      <td>70</td>\n",
       "    </tr>\n",
       "    <tr>\n",
       "      <th>6</th>\n",
       "      <td>6</td>\n",
       "      <td>Manchester UnitedMan Utd</td>\n",
       "      <td>38</td>\n",
       "      <td>19</td>\n",
       "      <td>9</td>\n",
       "      <td>10</td>\n",
       "      <td>65</td>\n",
       "      <td>54</td>\n",
       "      <td>11</td>\n",
       "      <td>66</td>\n",
       "    </tr>\n",
       "    <tr>\n",
       "      <th>7</th>\n",
       "      <td>7</td>\n",
       "      <td>Wolverhampton WanderersWolves</td>\n",
       "      <td>38</td>\n",
       "      <td>16</td>\n",
       "      <td>9</td>\n",
       "      <td>13</td>\n",
       "      <td>47</td>\n",
       "      <td>46</td>\n",
       "      <td>1</td>\n",
       "      <td>57</td>\n",
       "    </tr>\n",
       "    <tr>\n",
       "      <th>8</th>\n",
       "      <td>8</td>\n",
       "      <td>Everton</td>\n",
       "      <td>38</td>\n",
       "      <td>15</td>\n",
       "      <td>9</td>\n",
       "      <td>14</td>\n",
       "      <td>54</td>\n",
       "      <td>46</td>\n",
       "      <td>8</td>\n",
       "      <td>54</td>\n",
       "    </tr>\n",
       "    <tr>\n",
       "      <th>9</th>\n",
       "      <td>9</td>\n",
       "      <td>Leicester CityLeicester</td>\n",
       "      <td>38</td>\n",
       "      <td>15</td>\n",
       "      <td>7</td>\n",
       "      <td>16</td>\n",
       "      <td>51</td>\n",
       "      <td>48</td>\n",
       "      <td>3</td>\n",
       "      <td>52</td>\n",
       "    </tr>\n",
       "    <tr>\n",
       "      <th>10</th>\n",
       "      <td>10</td>\n",
       "      <td>West Ham UnitedWest Ham</td>\n",
       "      <td>38</td>\n",
       "      <td>15</td>\n",
       "      <td>7</td>\n",
       "      <td>16</td>\n",
       "      <td>52</td>\n",
       "      <td>55</td>\n",
       "      <td>-3</td>\n",
       "      <td>52</td>\n",
       "    </tr>\n",
       "    <tr>\n",
       "      <th>11</th>\n",
       "      <td>11</td>\n",
       "      <td>Watford</td>\n",
       "      <td>38</td>\n",
       "      <td>14</td>\n",
       "      <td>8</td>\n",
       "      <td>16</td>\n",
       "      <td>52</td>\n",
       "      <td>59</td>\n",
       "      <td>-7</td>\n",
       "      <td>50</td>\n",
       "    </tr>\n",
       "    <tr>\n",
       "      <th>12</th>\n",
       "      <td>12</td>\n",
       "      <td>Crystal Palace</td>\n",
       "      <td>38</td>\n",
       "      <td>14</td>\n",
       "      <td>7</td>\n",
       "      <td>17</td>\n",
       "      <td>51</td>\n",
       "      <td>53</td>\n",
       "      <td>-2</td>\n",
       "      <td>49</td>\n",
       "    </tr>\n",
       "    <tr>\n",
       "      <th>13</th>\n",
       "      <td>13</td>\n",
       "      <td>Newcastle UnitedNewcastle</td>\n",
       "      <td>38</td>\n",
       "      <td>12</td>\n",
       "      <td>9</td>\n",
       "      <td>17</td>\n",
       "      <td>42</td>\n",
       "      <td>48</td>\n",
       "      <td>-6</td>\n",
       "      <td>45</td>\n",
       "    </tr>\n",
       "    <tr>\n",
       "      <th>14</th>\n",
       "      <td>14</td>\n",
       "      <td>Bournemouth</td>\n",
       "      <td>38</td>\n",
       "      <td>13</td>\n",
       "      <td>6</td>\n",
       "      <td>19</td>\n",
       "      <td>56</td>\n",
       "      <td>70</td>\n",
       "      <td>-14</td>\n",
       "      <td>45</td>\n",
       "    </tr>\n",
       "    <tr>\n",
       "      <th>15</th>\n",
       "      <td>15</td>\n",
       "      <td>Burnley</td>\n",
       "      <td>38</td>\n",
       "      <td>11</td>\n",
       "      <td>7</td>\n",
       "      <td>20</td>\n",
       "      <td>45</td>\n",
       "      <td>68</td>\n",
       "      <td>-23</td>\n",
       "      <td>40</td>\n",
       "    </tr>\n",
       "    <tr>\n",
       "      <th>16</th>\n",
       "      <td>16</td>\n",
       "      <td>Southampton</td>\n",
       "      <td>38</td>\n",
       "      <td>9</td>\n",
       "      <td>12</td>\n",
       "      <td>17</td>\n",
       "      <td>45</td>\n",
       "      <td>65</td>\n",
       "      <td>-20</td>\n",
       "      <td>39</td>\n",
       "    </tr>\n",
       "    <tr>\n",
       "      <th>17</th>\n",
       "      <td>17</td>\n",
       "      <td>Brighton &amp; Hove AlbionBrighton</td>\n",
       "      <td>38</td>\n",
       "      <td>9</td>\n",
       "      <td>9</td>\n",
       "      <td>20</td>\n",
       "      <td>35</td>\n",
       "      <td>60</td>\n",
       "      <td>-25</td>\n",
       "      <td>36</td>\n",
       "    </tr>\n",
       "    <tr>\n",
       "      <th>18</th>\n",
       "      <td>R</td>\n",
       "      <td>Cardiff CityCardiff</td>\n",
       "      <td>38</td>\n",
       "      <td>10</td>\n",
       "      <td>4</td>\n",
       "      <td>24</td>\n",
       "      <td>34</td>\n",
       "      <td>69</td>\n",
       "      <td>-35</td>\n",
       "      <td>34</td>\n",
       "    </tr>\n",
       "    <tr>\n",
       "      <th>19</th>\n",
       "      <td>R</td>\n",
       "      <td>Fulham</td>\n",
       "      <td>38</td>\n",
       "      <td>7</td>\n",
       "      <td>5</td>\n",
       "      <td>26</td>\n",
       "      <td>34</td>\n",
       "      <td>81</td>\n",
       "      <td>-47</td>\n",
       "      <td>26</td>\n",
       "    </tr>\n",
       "    <tr>\n",
       "      <th>20</th>\n",
       "      <td>R</td>\n",
       "      <td>Huddersfield TownHuddersfield</td>\n",
       "      <td>38</td>\n",
       "      <td>3</td>\n",
       "      <td>7</td>\n",
       "      <td>28</td>\n",
       "      <td>22</td>\n",
       "      <td>76</td>\n",
       "      <td>-54</td>\n",
       "      <td>16</td>\n",
       "    </tr>\n",
       "    <tr>\n",
       "      <th>21</th>\n",
       "      <td>NaN</td>\n",
       "      <td>NaN</td>\n",
       "      <td>NaN</td>\n",
       "      <td>NaN</td>\n",
       "      <td>NaN</td>\n",
       "      <td>&gt; Full Version</td>\n",
       "      <td>&gt; Full Version</td>\n",
       "      <td>&gt; Full Version</td>\n",
       "      <td>&gt; Full Version</td>\n",
       "      <td>&gt; Full Version</td>\n",
       "    </tr>\n",
       "  </tbody>\n",
       "</table>\n",
       "</div>"
      ],
      "text/plain": [
       "      0                               1    2    3    4               5  \\\n",
       "0   NaN                            Team    P    W    D               L   \n",
       "1     C         Manchester CityMan City   38   32    2               4   \n",
       "2     2                       Liverpool   38   30    7               1   \n",
       "3     3                         Chelsea   38   21    9               8   \n",
       "4     4          Tottenham HotspurSpurs   38   23    2              13   \n",
       "5     5                         Arsenal   38   21    7              10   \n",
       "6     6        Manchester UnitedMan Utd   38   19    9              10   \n",
       "7     7   Wolverhampton WanderersWolves   38   16    9              13   \n",
       "8     8                         Everton   38   15    9              14   \n",
       "9     9         Leicester CityLeicester   38   15    7              16   \n",
       "10   10         West Ham UnitedWest Ham   38   15    7              16   \n",
       "11   11                         Watford   38   14    8              16   \n",
       "12   12                  Crystal Palace   38   14    7              17   \n",
       "13   13       Newcastle UnitedNewcastle   38   12    9              17   \n",
       "14   14                     Bournemouth   38   13    6              19   \n",
       "15   15                         Burnley   38   11    7              20   \n",
       "16   16                     Southampton   38    9   12              17   \n",
       "17   17  Brighton & Hove AlbionBrighton   38    9    9              20   \n",
       "18    R             Cardiff CityCardiff   38   10    4              24   \n",
       "19    R                          Fulham   38    7    5              26   \n",
       "20    R   Huddersfield TownHuddersfield   38    3    7              28   \n",
       "21  NaN                             NaN  NaN  NaN  NaN  > Full Version   \n",
       "\n",
       "                 6               7               8               9  \n",
       "0                F               A              GD             PTS  \n",
       "1               95              23              72              98  \n",
       "2               89              22              67              97  \n",
       "3               63              39              24              72  \n",
       "4               67              39              28              71  \n",
       "5               73              51              22              70  \n",
       "6               65              54              11              66  \n",
       "7               47              46               1              57  \n",
       "8               54              46               8              54  \n",
       "9               51              48               3              52  \n",
       "10              52              55              -3              52  \n",
       "11              52              59              -7              50  \n",
       "12              51              53              -2              49  \n",
       "13              42              48              -6              45  \n",
       "14              56              70             -14              45  \n",
       "15              45              68             -23              40  \n",
       "16              45              65             -20              39  \n",
       "17              35              60             -25              36  \n",
       "18              34              69             -35              34  \n",
       "19              34              81             -47              26  \n",
       "20              22              76             -54              16  \n",
       "21  > Full Version  > Full Version  > Full Version  > Full Version  "
      ]
     },
     "execution_count": 22,
     "metadata": {},
     "output_type": "execute_result"
    }
   ],
   "source": [
    "# Let's check out one of our tables:\n",
    "\n",
    "df2[0]"
   ]
  },
  {
   "cell_type": "markdown",
   "metadata": {},
   "source": [
    "As we can see above, the table's formatting is slightly off...\n",
    "\n",
    "So we can make adjustments like so:"
   ]
  },
  {
   "cell_type": "code",
   "execution_count": 23,
   "metadata": {
    "ExecuteTime": {
     "end_time": "2021-04-15T14:41:56.995671Z",
     "start_time": "2021-04-15T14:41:56.720606Z"
    }
   },
   "outputs": [
    {
     "data": {
      "text/html": [
       "<div>\n",
       "<style scoped>\n",
       "    .dataframe tbody tr th:only-of-type {\n",
       "        vertical-align: middle;\n",
       "    }\n",
       "\n",
       "    .dataframe tbody tr th {\n",
       "        vertical-align: top;\n",
       "    }\n",
       "\n",
       "    .dataframe thead th {\n",
       "        text-align: right;\n",
       "    }\n",
       "</style>\n",
       "<table border=\"1\" class=\"dataframe\">\n",
       "  <thead>\n",
       "    <tr style=\"text-align: right;\">\n",
       "      <th></th>\n",
       "      <th>final_standings</th>\n",
       "      <th>P</th>\n",
       "      <th>W</th>\n",
       "      <th>D</th>\n",
       "      <th>L</th>\n",
       "      <th>F</th>\n",
       "      <th>A</th>\n",
       "      <th>GD</th>\n",
       "      <th>PTS</th>\n",
       "    </tr>\n",
       "    <tr>\n",
       "      <th>Team</th>\n",
       "      <th></th>\n",
       "      <th></th>\n",
       "      <th></th>\n",
       "      <th></th>\n",
       "      <th></th>\n",
       "      <th></th>\n",
       "      <th></th>\n",
       "      <th></th>\n",
       "      <th></th>\n",
       "    </tr>\n",
       "  </thead>\n",
       "  <tbody>\n",
       "    <tr>\n",
       "      <th>Manchester CityMan City</th>\n",
       "      <td>C</td>\n",
       "      <td>38.0</td>\n",
       "      <td>32.0</td>\n",
       "      <td>2.0</td>\n",
       "      <td>4</td>\n",
       "      <td>95</td>\n",
       "      <td>23</td>\n",
       "      <td>72</td>\n",
       "      <td>98</td>\n",
       "    </tr>\n",
       "    <tr>\n",
       "      <th>Liverpool</th>\n",
       "      <td>2</td>\n",
       "      <td>38.0</td>\n",
       "      <td>30.0</td>\n",
       "      <td>7.0</td>\n",
       "      <td>1</td>\n",
       "      <td>89</td>\n",
       "      <td>22</td>\n",
       "      <td>67</td>\n",
       "      <td>97</td>\n",
       "    </tr>\n",
       "    <tr>\n",
       "      <th>Chelsea</th>\n",
       "      <td>3</td>\n",
       "      <td>38.0</td>\n",
       "      <td>21.0</td>\n",
       "      <td>9.0</td>\n",
       "      <td>8</td>\n",
       "      <td>63</td>\n",
       "      <td>39</td>\n",
       "      <td>24</td>\n",
       "      <td>72</td>\n",
       "    </tr>\n",
       "    <tr>\n",
       "      <th>Tottenham HotspurSpurs</th>\n",
       "      <td>4</td>\n",
       "      <td>38.0</td>\n",
       "      <td>23.0</td>\n",
       "      <td>2.0</td>\n",
       "      <td>13</td>\n",
       "      <td>67</td>\n",
       "      <td>39</td>\n",
       "      <td>28</td>\n",
       "      <td>71</td>\n",
       "    </tr>\n",
       "    <tr>\n",
       "      <th>Arsenal</th>\n",
       "      <td>5</td>\n",
       "      <td>38.0</td>\n",
       "      <td>21.0</td>\n",
       "      <td>7.0</td>\n",
       "      <td>10</td>\n",
       "      <td>73</td>\n",
       "      <td>51</td>\n",
       "      <td>22</td>\n",
       "      <td>70</td>\n",
       "    </tr>\n",
       "    <tr>\n",
       "      <th>Manchester UnitedMan Utd</th>\n",
       "      <td>6</td>\n",
       "      <td>38.0</td>\n",
       "      <td>19.0</td>\n",
       "      <td>9.0</td>\n",
       "      <td>10</td>\n",
       "      <td>65</td>\n",
       "      <td>54</td>\n",
       "      <td>11</td>\n",
       "      <td>66</td>\n",
       "    </tr>\n",
       "    <tr>\n",
       "      <th>Wolverhampton WanderersWolves</th>\n",
       "      <td>7</td>\n",
       "      <td>38.0</td>\n",
       "      <td>16.0</td>\n",
       "      <td>9.0</td>\n",
       "      <td>13</td>\n",
       "      <td>47</td>\n",
       "      <td>46</td>\n",
       "      <td>1</td>\n",
       "      <td>57</td>\n",
       "    </tr>\n",
       "    <tr>\n",
       "      <th>Everton</th>\n",
       "      <td>8</td>\n",
       "      <td>38.0</td>\n",
       "      <td>15.0</td>\n",
       "      <td>9.0</td>\n",
       "      <td>14</td>\n",
       "      <td>54</td>\n",
       "      <td>46</td>\n",
       "      <td>8</td>\n",
       "      <td>54</td>\n",
       "    </tr>\n",
       "    <tr>\n",
       "      <th>Leicester CityLeicester</th>\n",
       "      <td>9</td>\n",
       "      <td>38.0</td>\n",
       "      <td>15.0</td>\n",
       "      <td>7.0</td>\n",
       "      <td>16</td>\n",
       "      <td>51</td>\n",
       "      <td>48</td>\n",
       "      <td>3</td>\n",
       "      <td>52</td>\n",
       "    </tr>\n",
       "    <tr>\n",
       "      <th>West Ham UnitedWest Ham</th>\n",
       "      <td>10</td>\n",
       "      <td>38.0</td>\n",
       "      <td>15.0</td>\n",
       "      <td>7.0</td>\n",
       "      <td>16</td>\n",
       "      <td>52</td>\n",
       "      <td>55</td>\n",
       "      <td>-3</td>\n",
       "      <td>52</td>\n",
       "    </tr>\n",
       "    <tr>\n",
       "      <th>Watford</th>\n",
       "      <td>11</td>\n",
       "      <td>38.0</td>\n",
       "      <td>14.0</td>\n",
       "      <td>8.0</td>\n",
       "      <td>16</td>\n",
       "      <td>52</td>\n",
       "      <td>59</td>\n",
       "      <td>-7</td>\n",
       "      <td>50</td>\n",
       "    </tr>\n",
       "    <tr>\n",
       "      <th>Crystal Palace</th>\n",
       "      <td>12</td>\n",
       "      <td>38.0</td>\n",
       "      <td>14.0</td>\n",
       "      <td>7.0</td>\n",
       "      <td>17</td>\n",
       "      <td>51</td>\n",
       "      <td>53</td>\n",
       "      <td>-2</td>\n",
       "      <td>49</td>\n",
       "    </tr>\n",
       "    <tr>\n",
       "      <th>Newcastle UnitedNewcastle</th>\n",
       "      <td>13</td>\n",
       "      <td>38.0</td>\n",
       "      <td>12.0</td>\n",
       "      <td>9.0</td>\n",
       "      <td>17</td>\n",
       "      <td>42</td>\n",
       "      <td>48</td>\n",
       "      <td>-6</td>\n",
       "      <td>45</td>\n",
       "    </tr>\n",
       "    <tr>\n",
       "      <th>Bournemouth</th>\n",
       "      <td>14</td>\n",
       "      <td>38.0</td>\n",
       "      <td>13.0</td>\n",
       "      <td>6.0</td>\n",
       "      <td>19</td>\n",
       "      <td>56</td>\n",
       "      <td>70</td>\n",
       "      <td>-14</td>\n",
       "      <td>45</td>\n",
       "    </tr>\n",
       "    <tr>\n",
       "      <th>Burnley</th>\n",
       "      <td>15</td>\n",
       "      <td>38.0</td>\n",
       "      <td>11.0</td>\n",
       "      <td>7.0</td>\n",
       "      <td>20</td>\n",
       "      <td>45</td>\n",
       "      <td>68</td>\n",
       "      <td>-23</td>\n",
       "      <td>40</td>\n",
       "    </tr>\n",
       "    <tr>\n",
       "      <th>Southampton</th>\n",
       "      <td>16</td>\n",
       "      <td>38.0</td>\n",
       "      <td>9.0</td>\n",
       "      <td>12.0</td>\n",
       "      <td>17</td>\n",
       "      <td>45</td>\n",
       "      <td>65</td>\n",
       "      <td>-20</td>\n",
       "      <td>39</td>\n",
       "    </tr>\n",
       "    <tr>\n",
       "      <th>Brighton &amp; Hove AlbionBrighton</th>\n",
       "      <td>17</td>\n",
       "      <td>38.0</td>\n",
       "      <td>9.0</td>\n",
       "      <td>9.0</td>\n",
       "      <td>20</td>\n",
       "      <td>35</td>\n",
       "      <td>60</td>\n",
       "      <td>-25</td>\n",
       "      <td>36</td>\n",
       "    </tr>\n",
       "    <tr>\n",
       "      <th>Cardiff CityCardiff</th>\n",
       "      <td>R</td>\n",
       "      <td>38.0</td>\n",
       "      <td>10.0</td>\n",
       "      <td>4.0</td>\n",
       "      <td>24</td>\n",
       "      <td>34</td>\n",
       "      <td>69</td>\n",
       "      <td>-35</td>\n",
       "      <td>34</td>\n",
       "    </tr>\n",
       "    <tr>\n",
       "      <th>Fulham</th>\n",
       "      <td>R</td>\n",
       "      <td>38.0</td>\n",
       "      <td>7.0</td>\n",
       "      <td>5.0</td>\n",
       "      <td>26</td>\n",
       "      <td>34</td>\n",
       "      <td>81</td>\n",
       "      <td>-47</td>\n",
       "      <td>26</td>\n",
       "    </tr>\n",
       "    <tr>\n",
       "      <th>Huddersfield TownHuddersfield</th>\n",
       "      <td>R</td>\n",
       "      <td>38.0</td>\n",
       "      <td>3.0</td>\n",
       "      <td>7.0</td>\n",
       "      <td>28</td>\n",
       "      <td>22</td>\n",
       "      <td>76</td>\n",
       "      <td>-54</td>\n",
       "      <td>16</td>\n",
       "    </tr>\n",
       "    <tr>\n",
       "      <th>NaN</th>\n",
       "      <td>NaN</td>\n",
       "      <td>NaN</td>\n",
       "      <td>NaN</td>\n",
       "      <td>NaN</td>\n",
       "      <td>&gt; Full Version</td>\n",
       "      <td>&gt; Full Version</td>\n",
       "      <td>&gt; Full Version</td>\n",
       "      <td>&gt; Full Version</td>\n",
       "      <td>&gt; Full Version</td>\n",
       "    </tr>\n",
       "  </tbody>\n",
       "</table>\n",
       "</div>"
      ],
      "text/plain": [
       "                               final_standings     P     W     D  \\\n",
       "Team                                                               \n",
       "Manchester CityMan City                      C  38.0  32.0   2.0   \n",
       "Liverpool                                    2  38.0  30.0   7.0   \n",
       "Chelsea                                      3  38.0  21.0   9.0   \n",
       "Tottenham HotspurSpurs                       4  38.0  23.0   2.0   \n",
       "Arsenal                                      5  38.0  21.0   7.0   \n",
       "Manchester UnitedMan Utd                     6  38.0  19.0   9.0   \n",
       "Wolverhampton WanderersWolves                7  38.0  16.0   9.0   \n",
       "Everton                                      8  38.0  15.0   9.0   \n",
       "Leicester CityLeicester                      9  38.0  15.0   7.0   \n",
       "West Ham UnitedWest Ham                     10  38.0  15.0   7.0   \n",
       "Watford                                     11  38.0  14.0   8.0   \n",
       "Crystal Palace                              12  38.0  14.0   7.0   \n",
       "Newcastle UnitedNewcastle                   13  38.0  12.0   9.0   \n",
       "Bournemouth                                 14  38.0  13.0   6.0   \n",
       "Burnley                                     15  38.0  11.0   7.0   \n",
       "Southampton                                 16  38.0   9.0  12.0   \n",
       "Brighton & Hove AlbionBrighton              17  38.0   9.0   9.0   \n",
       "Cardiff CityCardiff                          R  38.0  10.0   4.0   \n",
       "Fulham                                       R  38.0   7.0   5.0   \n",
       "Huddersfield TownHuddersfield                R  38.0   3.0   7.0   \n",
       "NaN                                        NaN   NaN   NaN   NaN   \n",
       "\n",
       "                                             L               F  \\\n",
       "Team                                                             \n",
       "Manchester CityMan City                      4              95   \n",
       "Liverpool                                    1              89   \n",
       "Chelsea                                      8              63   \n",
       "Tottenham HotspurSpurs                      13              67   \n",
       "Arsenal                                     10              73   \n",
       "Manchester UnitedMan Utd                    10              65   \n",
       "Wolverhampton WanderersWolves               13              47   \n",
       "Everton                                     14              54   \n",
       "Leicester CityLeicester                     16              51   \n",
       "West Ham UnitedWest Ham                     16              52   \n",
       "Watford                                     16              52   \n",
       "Crystal Palace                              17              51   \n",
       "Newcastle UnitedNewcastle                   17              42   \n",
       "Bournemouth                                 19              56   \n",
       "Burnley                                     20              45   \n",
       "Southampton                                 17              45   \n",
       "Brighton & Hove AlbionBrighton              20              35   \n",
       "Cardiff CityCardiff                         24              34   \n",
       "Fulham                                      26              34   \n",
       "Huddersfield TownHuddersfield               28              22   \n",
       "NaN                             > Full Version  > Full Version   \n",
       "\n",
       "                                             A              GD             PTS  \n",
       "Team                                                                            \n",
       "Manchester CityMan City                     23              72              98  \n",
       "Liverpool                                   22              67              97  \n",
       "Chelsea                                     39              24              72  \n",
       "Tottenham HotspurSpurs                      39              28              71  \n",
       "Arsenal                                     51              22              70  \n",
       "Manchester UnitedMan Utd                    54              11              66  \n",
       "Wolverhampton WanderersWolves               46               1              57  \n",
       "Everton                                     46               8              54  \n",
       "Leicester CityLeicester                     48               3              52  \n",
       "West Ham UnitedWest Ham                     55              -3              52  \n",
       "Watford                                     59              -7              50  \n",
       "Crystal Palace                              53              -2              49  \n",
       "Newcastle UnitedNewcastle                   48              -6              45  \n",
       "Bournemouth                                 70             -14              45  \n",
       "Burnley                                     68             -23              40  \n",
       "Southampton                                 65             -20              39  \n",
       "Brighton & Hove AlbionBrighton              60             -25              36  \n",
       "Cardiff CityCardiff                         69             -35              34  \n",
       "Fulham                                      81             -47              26  \n",
       "Huddersfield TownHuddersfield               76             -54              16  \n",
       "NaN                             > Full Version  > Full Version  > Full Version  "
      ]
     },
     "execution_count": 23,
     "metadata": {},
     "output_type": "execute_result"
    }
   ],
   "source": [
    "df2 = pd.read_html('https://www.sportsmole.co.uk/football/premier-league/2018-19/',header=0, index_col=1)\n",
    "\n",
    "df2[0].columns =  ['final_standings', 'P', 'W', 'D', 'L', 'F', 'A', 'GD', 'PTS']\n",
    "\n",
    "df2[0]"
   ]
  },
  {
   "cell_type": "markdown",
   "metadata": {},
   "source": [
    "---"
   ]
  },
  {
   "cell_type": "markdown",
   "metadata": {},
   "source": [
    "### An example where formatting is an issue:"
   ]
  },
  {
   "cell_type": "code",
   "execution_count": 24,
   "metadata": {
    "ExecuteTime": {
     "end_time": "2021-04-15T14:42:04.680685Z",
     "start_time": "2021-04-15T14:42:04.429332Z"
    }
   },
   "outputs": [],
   "source": [
    "html = requests.get('http://www.nfl.com/stats/team')\n",
    "nfl_soup = BeautifulSoup(html.content, 'lxml')\n",
    "table = nfl_soup.table"
   ]
  },
  {
   "cell_type": "code",
   "execution_count": 25,
   "metadata": {
    "ExecuteTime": {
     "end_time": "2021-04-15T14:42:05.418992Z",
     "start_time": "2021-04-15T14:42:05.402004Z"
    }
   },
   "outputs": [
    {
     "data": {
      "text/plain": [
       "'<table class=\"d3-o-table d3-o-table--detailed d3-o-team-stats--detailed d3-o-table--sortable {sortlist: [[0,0]], sortinitialorder: \\'asc\\'}\" data-require=\"modules/tableSortable\">\\n <thead>\\n  <tr>\\n   <th>\\n    Team\\n   </th>\\n   <th scope=\"col\">\\n    Att\\n   </th>\\n   <th scope=\"col\">\\n    Cmp\\n   </th>\\n   <th scope=\"col\">\\n    Cmp %\\n   </th>\\n   <th scope=\"col\">\\n    Yds/Att\\n   </th>\\n   <th scope=\"col\">\\n    Pass Yds\\n   </th>\\n   <th scope=\"col\">\\n    TD\\n   </th>\\n   <th scope=\"col\">\\n    INT\\n   </th>\\n   <th scope=\"col\">\\n    Rate\\n   </th>\\n   <th scope=\"col\">\\n    1st\\n   </th>\\n   <th scope=\"col\">\\n    1st%\\n   </th>\\n   <th scope=\"col\">\\n    20+\\n   </th>\\n   <th scope=\"col\">\\n    40+\\n   </th>\\n   <th scope=\"col\">\\n    Lng\\n   </th>\\n   <th scope=\"col\">\\n    Sck\\n   </th>\\n   <th scope=\"col\">\\n    SckY\\n   </th>\\n  </tr>\\n </thead>\\n <tbody>\\n  <tr>\\n   <td scope=\"row\" tabindex=\"0\">\\n    <div class=\"d3-o-club-info\">\\n     <div class=\"d3-o-club-logo\">\\n      <picture>\\n       <!--[if IE 9]><video style=\"display: none; \"><![endif]-->\\n       <source media=\"(min-width:1024px)\" srcset=\"https://static.www.nfl.com/t_q-best/league/api/clubs/logos/WAS\"/>\\n       <source media=\"(min-width:768px)\" srcset=\"https://static.www.nfl.com/t_q-best/league/api/clubs/logos/WAS\"/>\\n       <source srcset=\"https://static.www.nfl.com/t_q-best/league/api/clubs/logos/WAS\"/>\\n       <!--[if IE 9]></video><![endif]-->\\n       <img class=\"img-responsive\" src=\"https://static.www.nfl.com/t_q-best/league/api/clubs/logos/WAS\"/>\\n      </picture>\\n     </div>\\n     <div class=\"d3-o-club-fullname\">\\n      Football Team\\n     </div>\\n     <div class=\"d3-o-club-shortname\">\\n      Football Team\\n     </div>\\n    </div>\\n   </td>\\n   <td>\\n    601\\n   </td>\\n   <td>\\n    389\\n   </td>\\n   <td>\\n    64.7\\n   </td>\\n   <td>\\n    6.3\\n   </td>\\n   <td>\\n    3796\\n   </td>\\n   <td>\\n    16\\n   </td>\\n   <td>\\n    16\\n   </td>\\n   <td>\\n    80.1\\n   </td>\\n   <td>\\n    184\\n   </td>\\n   <td>\\n    30.6\\n   </td>\\n   <td>\\n    40\\n   </td>\\n   <td>\\n    6\\n   </td>\\n   <td>\\n    68T\\n   </td>\\n   <td>\\n    50\\n   </td>\\n   <td>\\n    331\\n   </td>\\n  </tr>\\n  <tr>\\n   <td scope=\"row\" tabindex=\"0\">\\n    <div class=\"d3-o-club-info\">\\n     <div class=\"d3-o-club-logo\">\\n      <picture>\\n       <!--[if IE 9]><video style=\"display: none; \"><![endif]-->\\n       <source media=\"(min-width:1024px)\" srcset=\"https://static.www.nfl.com/t_q-best/league/api/clubs/logos/TB\"/>\\n       <source media=\"(min-width:768px)\" srcset=\"https://static.www.nfl.com/t_q-best/league/api/clubs/logos/TB\"/>\\n       <source srcset=\"https://static.www.nfl.com/t_q-best/league/api/clubs/logos/TB\"/>\\n       <!--[if IE 9]></video><![endif]-->\\n       <img class=\"img-responsive\" src=\"https://static.www.nfl.com/t_q-best/league/api/clubs/logos/TB\"/>\\n      </picture>\\n     </div>\\n     <div class=\"d3-o-club-fullname\">\\n      Buccaneers\\n     </div>\\n     <div class=\"d3-o-club-shortname\">\\n      Buccaneers\\n     </div>\\n    </div>\\n   </td>\\n   <td>\\n    626\\n   </td>\\n   <td>\\n    410\\n   </td>\\n   <td>\\n    65.5\\n   </td>\\n   <td>\\n    7.6\\n   </td>\\n   <td>\\n    4776\\n   </td>\\n   <td>\\n    42\\n   </td>\\n   <td>\\n    12\\n   </td>\\n   <td>\\n    102.8\\n   </td>\\n   <td>\\n    238\\n   </td>\\n   <td>\\n    38\\n   </td>\\n   <td>\\n    67\\n   </td>\\n   <td>\\n    12\\n   </td>\\n   <td>\\n    50\\n   </td>\\n   <td>\\n    22\\n   </td>\\n   <td>\\n    150\\n   </td>\\n  </tr>\\n  <tr>\\n   <td scope=\"row\" tabindex=\"0\">\\n    <div class=\"d3-o-club-info\">\\n     <div class=\"d3-o-club-logo\">\\n      <picture>\\n       <!--[if IE 9]><video style=\"display: none; \"><![endif]-->\\n       <source media=\"(min-width:1024px)\" srcset=\"https://static.www.nfl.com/t_q-best/league/api/clubs/logos/SEA\"/>\\n       <source media=\"(min-width:768px)\" srcset=\"https://static.www.nfl.com/t_q-best/league/api/clubs/logos/SEA\"/>\\n       <source srcset=\"https://static.www.nfl.com/t_q-best/league/api/clubs/logos/SEA\"/>\\n       <!--[if IE 9]></video><![endif]-->\\n       <img class=\"img-responsive\" src=\"https://static.www.nfl.com/t_q-best/league/api/clubs/logos/SEA\"/>\\n      </picture>\\n     </div>\\n     <div class=\"d3-o-club-fullname\">\\n      Seahawks\\n     </div>\\n     <div class=\"d3-o-club-shortname\">\\n      Seahawks\\n     </div>\\n    </div>\\n   </td>\\n   <td>\\n    563\\n   </td>\\n   <td>\\n    388\\n   </td>\\n   <td>\\n    68.9\\n   </td>\\n   <td>\\n    7.5\\n   </td>\\n   <td>\\n    4245\\n   </td>\\n   <td>\\n    40\\n   </td>\\n   <td>\\n    13\\n   </td>\\n   <td>\\n    105\\n   </td>\\n   <td>\\n    216\\n   </td>\\n   <td>\\n    38.4\\n   </td>\\n   <td>\\n    45\\n   </td>\\n   <td>\\n    11\\n   </td>\\n   <td>\\n    62\\n   </td>\\n   <td>\\n    48\\n   </td>\\n   <td>\\n    304\\n   </td>\\n  </tr>\\n  <tr>\\n   <td scope=\"row\" tabindex=\"0\">\\n    <div class=\"d3-o-club-info\">\\n     <div class=\"d3-o-club-logo\">\\n      <picture>\\n       <!--[if IE 9]><video style=\"display: none; \"><![endif]-->\\n       <source media=\"(min-width:1024px)\" srcset=\"https://static.www.nfl.com/t_q-best/league/api/clubs/logos/SF\"/>\\n       <source media=\"(min-width:768px)\" srcset=\"https://static.www.nfl.com/t_q-best/league/api/clubs/logos/SF\"/>\\n       <source srcset=\"https://static.www.nfl.com/t_q-best/league/api/clubs/logos/SF\"/>\\n       <!--[if IE 9]></video><![endif]-->\\n       <img class=\"img-responsive\" src=\"https://static.www.nfl.com/t_q-best/league/api/clubs/logos/SF\"/>\\n      </picture>\\n     </div>\\n     <div class=\"d3-o-club-fullname\">\\n      49ers\\n     </div>\\n     <div class=\"d3-o-club-shortname\">\\n      49ers\\n     </div>\\n    </div>\\n   </td>\\n   <td>\\n    570\\n   </td>\\n   <td>\\n    371\\n   </td>\\n   <td>\\n    65.1\\n   </td>\\n   <td>\\n    7.6\\n   </td>\\n   <td>\\n    4320\\n   </td>\\n   <td>\\n    25\\n   </td>\\n   <td>\\n    17\\n   </td>\\n   <td>\\n    90.1\\n   </td>\\n   <td>\\n    217\\n   </td>\\n   <td>\\n    38.1\\n   </td>\\n   <td>\\n    55\\n   </td>\\n   <td>\\n    10\\n   </td>\\n   <td>\\n    76T\\n   </td>\\n   <td>\\n    39\\n   </td>\\n   <td>\\n    287\\n   </td>\\n  </tr>\\n  <tr>\\n   <td scope=\"row\" tabindex=\"0\">\\n    <div class=\"d3-o-club-info\">\\n     <div class=\"d3-o-club-logo\">\\n      <picture>\\n       <!--[if IE 9]><video style=\"display: none; \"><![endif]-->\\n       <source media=\"(min-width:1024px)\" srcset=\"https://static.www.nfl.com/t_q-best/league/api/clubs/logos/LAC\"/>\\n       <source media=\"(min-width:768px)\" srcset=\"https://static.www.nfl.com/t_q-best/league/api/clubs/logos/LAC\"/>\\n       <source srcset=\"https://static.www.nfl.com/t_q-best/league/api/clubs/logos/LAC\"/>\\n       <!--[if IE 9]></video><![endif]-->\\n       <img class=\"img-responsive\" src=\"https://static.www.nfl.com/t_q-best/league/api/clubs/logos/LAC\"/>\\n      </picture>\\n     </div>\\n     <div class=\"d3-o-club-fullname\">\\n      Chargers\\n     </div>\\n     <div class=\"d3-o-club-shortname\">\\n      Chargers\\n     </div>\\n    </div>\\n   </td>\\n   <td>\\n    627\\n   </td>\\n   <td>\\n    413\\n   </td>\\n   <td>\\n    65.9\\n   </td>\\n   <td>\\n    7.3\\n   </td>\\n   <td>\\n    4548\\n   </td>\\n   <td>\\n    31\\n   </td>\\n   <td>\\n    10\\n   </td>\\n   <td>\\n    97\\n   </td>\\n   <td>\\n    226\\n   </td>\\n   <td>\\n    36\\n   </td>\\n   <td>\\n    54\\n   </td>\\n   <td>\\n    10\\n   </td>\\n   <td>\\n    72T\\n   </td>\\n   <td>\\n    34\\n   </td>\\n   <td>\\n    219\\n   </td>\\n  </tr>\\n  <tr>\\n   <td scope=\"row\" tabindex=\"0\">\\n    <div class=\"d3-o-club-info\">\\n     <div class=\"d3-o-club-logo\">\\n      <picture>\\n       <!--[if IE 9]><video style=\"display: none; \"><![endif]-->\\n       <source media=\"(min-width:1024px)\" srcset=\"https://static.www.nfl.com/t_q-best/league/api/clubs/logos/PIT\"/>\\n       <source media=\"(min-width:768px)\" srcset=\"https://static.www.nfl.com/t_q-best/league/api/clubs/logos/PIT\"/>\\n       <source srcset=\"https://static.www.nfl.com/t_q-best/league/api/clubs/logos/PIT\"/>\\n       <!--[if IE 9]></video><![endif]-->\\n       <img class=\"img-responsive\" src=\"https://static.www.nfl.com/t_q-best/league/api/clubs/logos/PIT\"/>\\n      </picture>\\n     </div>\\n     <div class=\"d3-o-club-fullname\">\\n      Steelers\\n     </div>\\n     <div class=\"d3-o-club-shortname\">\\n      Steelers\\n     </div>\\n    </div>\\n   </td>\\n   <td>\\n    656\\n   </td>\\n   <td>\\n    428\\n   </td>\\n   <td>\\n    65.2\\n   </td>\\n   <td>\\n    6.3\\n   </td>\\n   <td>\\n    4129\\n   </td>\\n   <td>\\n    35\\n   </td>\\n   <td>\\n    11\\n   </td>\\n   <td>\\n    93.5\\n   </td>\\n   <td>\\n    206\\n   </td>\\n   <td>\\n    31.4\\n   </td>\\n   <td>\\n    48\\n   </td>\\n   <td>\\n    7\\n   </td>\\n   <td>\\n    84T\\n   </td>\\n   <td>\\n    14\\n   </td>\\n   <td>\\n    126\\n   </td>\\n  </tr>\\n  <tr>\\n   <td scope=\"row\" tabindex=\"0\">\\n    <div class=\"d3-o-club-info\">\\n     <div class=\"d3-o-club-logo\">\\n      <picture>\\n       <!--[if IE 9]><video style=\"display: none; \"><![endif]-->\\n       <source media=\"(min-width:1024px)\" srcset=\"https://static.www.nfl.com/t_q-best/league/api/clubs/logos/ARI\"/>\\n       <source media=\"(min-width:768px)\" srcset=\"https://static.www.nfl.com/t_q-best/league/api/clubs/logos/ARI\"/>\\n       <source srcset=\"https://static.www.nfl.com/t_q-best/league/api/clubs/logos/ARI\"/>\\n       <!--[if IE 9]></video><![endif]-->\\n       <img class=\"img-responsive\" src=\"https://static.www.nfl.com/t_q-best/league/api/clubs/logos/ARI\"/>\\n      </picture>\\n     </div>\\n     <div class=\"d3-o-club-fullname\">\\n      Cardinals\\n     </div>\\n     <div class=\"d3-o-club-shortname\">\\n      Cardinals\\n     </div>\\n    </div>\\n   </td>\\n   <td>\\n    575\\n   </td>\\n   <td>\\n    387\\n   </td>\\n   <td>\\n    67.3\\n   </td>\\n   <td>\\n    7.1\\n   </td>\\n   <td>\\n    4102\\n   </td>\\n   <td>\\n    27\\n   </td>\\n   <td>\\n    13\\n   </td>\\n   <td>\\n    94.1\\n   </td>\\n   <td>\\n    211\\n   </td>\\n   <td>\\n    36.7\\n   </td>\\n   <td>\\n    45\\n   </td>\\n   <td>\\n    14\\n   </td>\\n   <td>\\n    80T\\n   </td>\\n   <td>\\n    29\\n   </td>\\n   <td>\\n    186\\n   </td>\\n  </tr>\\n  <tr>\\n   <td scope=\"row\" tabindex=\"0\">\\n    <div class=\"d3-o-club-info\">\\n     <div class=\"d3-o-club-logo\">\\n      <picture>\\n       <!--[if IE 9]><video style=\"display: none; \"><![endif]-->\\n       <source media=\"(min-width:1024px)\" srcset=\"https://static.www.nfl.com/t_q-best/league/api/clubs/logos/PHI\"/>\\n       <source media=\"(min-width:768px)\" srcset=\"https://static.www.nfl.com/t_q-best/league/api/clubs/logos/PHI\"/>\\n       <source srcset=\"https://static.www.nfl.com/t_q-best/league/api/clubs/logos/PHI\"/>\\n       <!--[if IE 9]></video><![endif]-->\\n       <img class=\"img-responsive\" src=\"https://static.www.nfl.com/t_q-best/league/api/clubs/logos/PHI\"/>\\n      </picture>\\n     </div>\\n     <div class=\"d3-o-club-fullname\">\\n      Eagles\\n     </div>\\n     <div class=\"d3-o-club-shortname\">\\n      Eagles\\n     </div>\\n    </div>\\n   </td>\\n   <td>\\n    598\\n   </td>\\n   <td>\\n    334\\n   </td>\\n   <td>\\n    55.9\\n   </td>\\n   <td>\\n    6.2\\n   </td>\\n   <td>\\n    3728\\n   </td>\\n   <td>\\n    22\\n   </td>\\n   <td>\\n    20\\n   </td>\\n   <td>\\n    72.9\\n   </td>\\n   <td>\\n    177\\n   </td>\\n   <td>\\n    29.6\\n   </td>\\n   <td>\\n    43\\n   </td>\\n   <td>\\n    9\\n   </td>\\n   <td>\\n    81T\\n   </td>\\n   <td>\\n    65\\n   </td>\\n   <td>\\n    401\\n   </td>\\n  </tr>\\n  <tr>\\n   <td scope=\"row\" tabindex=\"0\">\\n    <div class=\"d3-o-club-info\">\\n     <div class=\"d3-o-club-logo\">\\n      <picture>\\n       <!--[if IE 9]><video style=\"display: none; \"><![endif]-->\\n       <source media=\"(min-width:1024px)\" srcset=\"https://static.www.nfl.com/t_q-best/league/api/clubs/logos/NYJ\"/>\\n       <source media=\"(min-width:768px)\" srcset=\"https://static.www.nfl.com/t_q-best/league/api/clubs/logos/NYJ\"/>\\n       <source srcset=\"https://static.www.nfl.com/t_q-best/league/api/clubs/logos/NYJ\"/>\\n       <!--[if IE 9]></video><![endif]-->\\n       <img class=\"img-responsive\" src=\"https://static.www.nfl.com/t_q-best/league/api/clubs/logos/NYJ\"/>\\n      </picture>\\n     </div>\\n     <div class=\"d3-o-club-fullname\">\\n      Jets\\n     </div>\\n     <div class=\"d3-o-club-shortname\">\\n      Jets\\n     </div>\\n    </div>\\n   </td>\\n   <td>\\n    499\\n   </td>\\n   <td>\\n    292\\n   </td>\\n   <td>\\n    58.5\\n   </td>\\n   <td>\\n    6.2\\n   </td>\\n   <td>\\n    3115\\n   </td>\\n   <td>\\n    16\\n   </td>\\n   <td>\\n    14\\n   </td>\\n   <td>\\n    75.9\\n   </td>\\n   <td>\\n    146\\n   </td>\\n   <td>\\n    29.3\\n   </td>\\n   <td>\\n    39\\n   </td>\\n   <td>\\n    6\\n   </td>\\n   <td>\\n    69T\\n   </td>\\n   <td>\\n    43\\n   </td>\\n   <td>\\n    319\\n   </td>\\n  </tr>\\n  <tr>\\n   <td scope=\"row\" tabindex=\"0\">\\n    <div class=\"d3-o-club-info\">\\n     <div class=\"d3-o-club-logo\">\\n      <picture>\\n       <!--[if IE 9]><video style=\"display: none; \"><![endif]-->\\n       <source media=\"(min-width:1024px)\" srcset=\"https://static.www.nfl.com/t_q-best/league/api/clubs/logos/NYG\"/>\\n       <source media=\"(min-width:768px)\" srcset=\"https://static.www.nfl.com/t_q-best/league/api/clubs/logos/NYG\"/>\\n       <source srcset=\"https://static.www.nfl.com/t_q-best/league/api/clubs/logos/NYG\"/>\\n       <!--[if IE 9]></video><![endif]-->\\n       <img class=\"img-responsive\" src=\"https://static.www.nfl.com/t_q-best/league/api/clubs/logos/NYG\"/>\\n      </picture>\\n     </div>\\n     <div class=\"d3-o-club-fullname\">\\n      Giants\\n     </div>\\n     <div class=\"d3-o-club-shortname\">\\n      Giants\\n     </div>\\n    </div>\\n   </td>\\n   <td>\\n    517\\n   </td>\\n   <td>\\n    321\\n   </td>\\n   <td>\\n    62.1\\n   </td>\\n   <td>\\n    6.5\\n   </td>\\n   <td>\\n    3336\\n   </td>\\n   <td>\\n    12\\n   </td>\\n   <td>\\n    11\\n   </td>\\n   <td>\\n    79.6\\n   </td>\\n   <td>\\n    178\\n   </td>\\n   <td>\\n    34.4\\n   </td>\\n   <td>\\n    36\\n   </td>\\n   <td>\\n    5\\n   </td>\\n   <td>\\n    53\\n   </td>\\n   <td>\\n    50\\n   </td>\\n   <td>\\n    310\\n   </td>\\n  </tr>\\n  <tr>\\n   <td scope=\"row\" tabindex=\"0\">\\n    <div class=\"d3-o-club-info\">\\n     <div class=\"d3-o-club-logo\">\\n      <picture>\\n       <!--[if IE 9]><video style=\"display: none; \"><![endif]-->\\n       <source media=\"(min-width:1024px)\" srcset=\"https://static.www.nfl.com/t_q-best/league/api/clubs/logos/NO\"/>\\n       <source media=\"(min-width:768px)\" srcset=\"https://static.www.nfl.com/t_q-best/league/api/clubs/logos/NO\"/>\\n       <source srcset=\"https://static.www.nfl.com/t_q-best/league/api/clubs/logos/NO\"/>\\n       <!--[if IE 9]></video><![endif]-->\\n       <img class=\"img-responsive\" src=\"https://static.www.nfl.com/t_q-best/league/api/clubs/logos/NO\"/>\\n      </picture>\\n     </div>\\n     <div class=\"d3-o-club-fullname\">\\n      Saints\\n     </div>\\n     <div class=\"d3-o-club-shortname\">\\n      Saints\\n     </div>\\n    </div>\\n   </td>\\n   <td>\\n    522\\n   </td>\\n   <td>\\n    370\\n   </td>\\n   <td>\\n    70.9\\n   </td>\\n   <td>\\n    7.6\\n   </td>\\n   <td>\\n    3945\\n   </td>\\n   <td>\\n    28\\n   </td>\\n   <td>\\n    8\\n   </td>\\n   <td>\\n    104.1\\n   </td>\\n   <td>\\n    199\\n   </td>\\n   <td>\\n    38.1\\n   </td>\\n   <td>\\n    44\\n   </td>\\n   <td>\\n    9\\n   </td>\\n   <td>\\n    52T\\n   </td>\\n   <td>\\n    29\\n   </td>\\n   <td>\\n    187\\n   </td>\\n  </tr>\\n  <tr>\\n   <td scope=\"row\" tabindex=\"0\">\\n    <div class=\"d3-o-club-info\">\\n     <div class=\"d3-o-club-logo\">\\n      <picture>\\n       <!--[if IE 9]><video style=\"display: none; \"><![endif]-->\\n       <source media=\"(min-width:1024px)\" srcset=\"https://static.www.nfl.com/t_q-best/league/api/clubs/logos/NE\"/>\\n       <source media=\"(min-width:768px)\" srcset=\"https://static.www.nfl.com/t_q-best/league/api/clubs/logos/NE\"/>\\n       <source srcset=\"https://static.www.nfl.com/t_q-best/league/api/clubs/logos/NE\"/>\\n       <!--[if IE 9]></video><![endif]-->\\n       <img class=\"img-responsive\" src=\"https://static.www.nfl.com/t_q-best/league/api/clubs/logos/NE\"/>\\n      </picture>\\n     </div>\\n     <div class=\"d3-o-club-fullname\">\\n      Patriots\\n     </div>\\n     <div class=\"d3-o-club-shortname\">\\n      Patriots\\n     </div>\\n    </div>\\n   </td>\\n   <td>\\n    440\\n   </td>\\n   <td>\\n    283\\n   </td>\\n   <td>\\n    64.3\\n   </td>\\n   <td>\\n    7.1\\n   </td>\\n   <td>\\n    3124\\n   </td>\\n   <td>\\n    12\\n   </td>\\n   <td>\\n    14\\n   </td>\\n   <td>\\n    81.1\\n   </td>\\n   <td>\\n    157\\n   </td>\\n   <td>\\n    35.7\\n   </td>\\n   <td>\\n    38\\n   </td>\\n   <td>\\n    3\\n   </td>\\n   <td>\\n    50\\n   </td>\\n   <td>\\n    37\\n   </td>\\n   <td>\\n    234\\n   </td>\\n  </tr>\\n  <tr>\\n   <td scope=\"row\" tabindex=\"0\">\\n    <div class=\"d3-o-club-info\">\\n     <div class=\"d3-o-club-logo\">\\n      <picture>\\n       <!--[if IE 9]><video style=\"display: none; \"><![endif]-->\\n       <source media=\"(min-width:1024px)\" srcset=\"https://static.www.nfl.com/t_q-best/league/api/clubs/logos/MIN\"/>\\n       <source media=\"(min-width:768px)\" srcset=\"https://static.www.nfl.com/t_q-best/league/api/clubs/logos/MIN\"/>\\n       <source srcset=\"https://static.www.nfl.com/t_q-best/league/api/clubs/logos/MIN\"/>\\n       <!--[if IE 9]></video><![endif]-->\\n       <img class=\"img-responsive\" src=\"https://static.www.nfl.com/t_q-best/league/api/clubs/logos/MIN\"/>\\n      </picture>\\n     </div>\\n     <div class=\"d3-o-club-fullname\">\\n      Vikings\\n     </div>\\n     <div class=\"d3-o-club-shortname\">\\n      Vikings\\n     </div>\\n    </div>\\n   </td>\\n   <td>\\n    516\\n   </td>\\n   <td>\\n    349\\n   </td>\\n   <td>\\n    67.6\\n   </td>\\n   <td>\\n    8.3\\n   </td>\\n   <td>\\n    4265\\n   </td>\\n   <td>\\n    35\\n   </td>\\n   <td>\\n    13\\n   </td>\\n   <td>\\n    105\\n   </td>\\n   <td>\\n    212\\n   </td>\\n   <td>\\n    41.1\\n   </td>\\n   <td>\\n    58\\n   </td>\\n   <td>\\n    7\\n   </td>\\n   <td>\\n    71T\\n   </td>\\n   <td>\\n    39\\n   </td>\\n   <td>\\n    256\\n   </td>\\n  </tr>\\n  <tr>\\n   <td scope=\"row\" tabindex=\"0\">\\n    <div class=\"d3-o-club-info\">\\n     <div class=\"d3-o-club-logo\">\\n      <picture>\\n       <!--[if IE 9]><video style=\"display: none; \"><![endif]-->\\n       <source media=\"(min-width:1024px)\" srcset=\"https://static.www.nfl.com/t_q-best/league/api/clubs/logos/MIA\"/>\\n       <source media=\"(min-width:768px)\" srcset=\"https://static.www.nfl.com/t_q-best/league/api/clubs/logos/MIA\"/>\\n       <source srcset=\"https://static.www.nfl.com/t_q-best/league/api/clubs/logos/MIA\"/>\\n       <!--[if IE 9]></video><![endif]-->\\n       <img class=\"img-responsive\" src=\"https://static.www.nfl.com/t_q-best/league/api/clubs/logos/MIA\"/>\\n      </picture>\\n     </div>\\n     <div class=\"d3-o-club-fullname\">\\n      Dolphins\\n     </div>\\n     <div class=\"d3-o-club-shortname\">\\n      Dolphins\\n     </div>\\n    </div>\\n   </td>\\n   <td>\\n    559\\n   </td>\\n   <td>\\n    370\\n   </td>\\n   <td>\\n    66.2\\n   </td>\\n   <td>\\n    7\\n   </td>\\n   <td>\\n    3937\\n   </td>\\n   <td>\\n    24\\n   </td>\\n   <td>\\n    13\\n   </td>\\n   <td>\\n    91.2\\n   </td>\\n   <td>\\n    207\\n   </td>\\n   <td>\\n    37\\n   </td>\\n   <td>\\n    40\\n   </td>\\n   <td>\\n    4\\n   </td>\\n   <td>\\n    70\\n   </td>\\n   <td>\\n    34\\n   </td>\\n   <td>\\n    201\\n   </td>\\n  </tr>\\n  <tr>\\n   <td scope=\"row\" tabindex=\"0\">\\n    <div class=\"d3-o-club-info\">\\n     <div class=\"d3-o-club-logo\">\\n      <picture>\\n       <!--[if IE 9]><video style=\"display: none; \"><![endif]-->\\n       <source media=\"(min-width:1024px)\" srcset=\"https://static.www.nfl.com/t_q-best/league/api/clubs/logos/LV\"/>\\n       <source media=\"(min-width:768px)\" srcset=\"https://static.www.nfl.com/t_q-best/league/api/clubs/logos/LV\"/>\\n       <source srcset=\"https://static.www.nfl.com/t_q-best/league/api/clubs/logos/LV\"/>\\n       <!--[if IE 9]></video><![endif]-->\\n       <img class=\"img-responsive\" src=\"https://static.www.nfl.com/t_q-best/league/api/clubs/logos/LV\"/>\\n      </picture>\\n     </div>\\n     <div class=\"d3-o-club-fullname\">\\n      Raiders\\n     </div>\\n     <div class=\"d3-o-club-shortname\">\\n      Raiders\\n     </div>\\n    </div>\\n   </td>\\n   <td>\\n    551\\n   </td>\\n   <td>\\n    369\\n   </td>\\n   <td>\\n    67\\n   </td>\\n   <td>\\n    8\\n   </td>\\n   <td>\\n    4383\\n   </td>\\n   <td>\\n    28\\n   </td>\\n   <td>\\n    10\\n   </td>\\n   <td>\\n    100.4\\n   </td>\\n   <td>\\n    206\\n   </td>\\n   <td>\\n    37.4\\n   </td>\\n   <td>\\n    59\\n   </td>\\n   <td>\\n    12\\n   </td>\\n   <td>\\n    85T\\n   </td>\\n   <td>\\n    28\\n   </td>\\n   <td>\\n    166\\n   </td>\\n  </tr>\\n  <tr>\\n   <td scope=\"row\" tabindex=\"0\">\\n    <div class=\"d3-o-club-info\">\\n     <div class=\"d3-o-club-logo\">\\n      <picture>\\n       <!--[if IE 9]><video style=\"display: none; \"><![endif]-->\\n       <source media=\"(min-width:1024px)\" srcset=\"https://static.www.nfl.com/t_q-best/league/api/clubs/logos/LA\"/>\\n       <source media=\"(min-width:768px)\" srcset=\"https://static.www.nfl.com/t_q-best/league/api/clubs/logos/LA\"/>\\n       <source srcset=\"https://static.www.nfl.com/t_q-best/league/api/clubs/logos/LA\"/>\\n       <!--[if IE 9]></video><![endif]-->\\n       <img class=\"img-responsive\" src=\"https://static.www.nfl.com/t_q-best/league/api/clubs/logos/LA\"/>\\n      </picture>\\n     </div>\\n     <div class=\"d3-o-club-fullname\">\\n      Rams\\n     </div>\\n     <div class=\"d3-o-club-shortname\">\\n      Rams\\n     </div>\\n    </div>\\n   </td>\\n   <td>\\n    590\\n   </td>\\n   <td>\\n    392\\n   </td>\\n   <td>\\n    66.4\\n   </td>\\n   <td>\\n    7.1\\n   </td>\\n   <td>\\n    4183\\n   </td>\\n   <td>\\n    20\\n   </td>\\n   <td>\\n    14\\n   </td>\\n   <td>\\n    88.4\\n   </td>\\n   <td>\\n    206\\n   </td>\\n   <td>\\n    34.9\\n   </td>\\n   <td>\\n    50\\n   </td>\\n   <td>\\n    6\\n   </td>\\n   <td>\\n    56T\\n   </td>\\n   <td>\\n    25\\n   </td>\\n   <td>\\n    169\\n   </td>\\n  </tr>\\n  <tr>\\n   <td scope=\"row\" tabindex=\"0\">\\n    <div class=\"d3-o-club-info\">\\n     <div class=\"d3-o-club-logo\">\\n      <picture>\\n       <!--[if IE 9]><video style=\"display: none; \"><![endif]-->\\n       <source media=\"(min-width:1024px)\" srcset=\"https://static.www.nfl.com/t_q-best/league/api/clubs/logos/KC\"/>\\n       <source media=\"(min-width:768px)\" srcset=\"https://static.www.nfl.com/t_q-best/league/api/clubs/logos/KC\"/>\\n       <source srcset=\"https://static.www.nfl.com/t_q-best/league/api/clubs/logos/KC\"/>\\n       <!--[if IE 9]></video><![endif]-->\\n       <img class=\"img-responsive\" src=\"https://static.www.nfl.com/t_q-best/league/api/clubs/logos/KC\"/>\\n      </picture>\\n     </div>\\n     <div class=\"d3-o-club-fullname\">\\n      Chiefs\\n     </div>\\n     <div class=\"d3-o-club-shortname\">\\n      Chiefs\\n     </div>\\n    </div>\\n   </td>\\n   <td>\\n    630\\n   </td>\\n   <td>\\n    420\\n   </td>\\n   <td>\\n    66.7\\n   </td>\\n   <td>\\n    7.9\\n   </td>\\n   <td>\\n    5005\\n   </td>\\n   <td>\\n    40\\n   </td>\\n   <td>\\n    7\\n   </td>\\n   <td>\\n    107.3\\n   </td>\\n   <td>\\n    255\\n   </td>\\n   <td>\\n    40.5\\n   </td>\\n   <td>\\n    69\\n   </td>\\n   <td>\\n    8\\n   </td>\\n   <td>\\n    75T\\n   </td>\\n   <td>\\n    24\\n   </td>\\n   <td>\\n    151\\n   </td>\\n  </tr>\\n  <tr>\\n   <td scope=\"row\" tabindex=\"0\">\\n    <div class=\"d3-o-club-info\">\\n     <div class=\"d3-o-club-logo\">\\n      <picture>\\n       <!--[if IE 9]><video style=\"display: none; \"><![endif]-->\\n       <source media=\"(min-width:1024px)\" srcset=\"https://static.www.nfl.com/t_q-best/league/api/clubs/logos/JAX\"/>\\n       <source media=\"(min-width:768px)\" srcset=\"https://static.www.nfl.com/t_q-best/league/api/clubs/logos/JAX\"/>\\n       <source srcset=\"https://static.www.nfl.com/t_q-best/league/api/clubs/logos/JAX\"/>\\n       <!--[if IE 9]></video><![endif]-->\\n       <img class=\"img-responsive\" src=\"https://static.www.nfl.com/t_q-best/league/api/clubs/logos/JAX\"/>\\n      </picture>\\n     </div>\\n     <div class=\"d3-o-club-fullname\">\\n      Jaguars\\n     </div>\\n     <div class=\"d3-o-club-shortname\">\\n      Jaguars\\n     </div>\\n    </div>\\n   </td>\\n   <td>\\n    616\\n   </td>\\n   <td>\\n    387\\n   </td>\\n   <td>\\n    62.8\\n   </td>\\n   <td>\\n    6.4\\n   </td>\\n   <td>\\n    3955\\n   </td>\\n   <td>\\n    25\\n   </td>\\n   <td>\\n    16\\n   </td>\\n   <td>\\n    83.9\\n   </td>\\n   <td>\\n    205\\n   </td>\\n   <td>\\n    33.3\\n   </td>\\n   <td>\\n    45\\n   </td>\\n   <td>\\n    5\\n   </td>\\n   <td>\\n    73T\\n   </td>\\n   <td>\\n    44\\n   </td>\\n   <td>\\n    256\\n   </td>\\n  </tr>\\n  <tr>\\n   <td scope=\"row\" tabindex=\"0\">\\n    <div class=\"d3-o-club-info\">\\n     <div class=\"d3-o-club-logo\">\\n      <picture>\\n       <!--[if IE 9]><video style=\"display: none; \"><![endif]-->\\n       <source media=\"(min-width:1024px)\" srcset=\"https://static.www.nfl.com/t_q-best/league/api/clubs/logos/IND\"/>\\n       <source media=\"(min-width:768px)\" srcset=\"https://static.www.nfl.com/t_q-best/league/api/clubs/logos/IND\"/>\\n       <source srcset=\"https://static.www.nfl.com/t_q-best/league/api/clubs/logos/IND\"/>\\n       <!--[if IE 9]></video><![endif]-->\\n       <img class=\"img-responsive\" src=\"https://static.www.nfl.com/t_q-best/league/api/clubs/logos/IND\"/>\\n      </picture>\\n     </div>\\n     <div class=\"d3-o-club-fullname\">\\n      Colts\\n     </div>\\n     <div class=\"d3-o-club-shortname\">\\n      Colts\\n     </div>\\n    </div>\\n   </td>\\n   <td>\\n    552\\n   </td>\\n   <td>\\n    371\\n   </td>\\n   <td>\\n    67.2\\n   </td>\\n   <td>\\n    7.6\\n   </td>\\n   <td>\\n    4186\\n   </td>\\n   <td>\\n    24\\n   </td>\\n   <td>\\n    11\\n   </td>\\n   <td>\\n    95.9\\n   </td>\\n   <td>\\n    201\\n   </td>\\n   <td>\\n    36.4\\n   </td>\\n   <td>\\n    56\\n   </td>\\n   <td>\\n    8\\n   </td>\\n   <td>\\n    55\\n   </td>\\n   <td>\\n    21\\n   </td>\\n   <td>\\n    133\\n   </td>\\n  </tr>\\n  <tr>\\n   <td scope=\"row\" tabindex=\"0\">\\n    <div class=\"d3-o-club-info\">\\n     <div class=\"d3-o-club-logo\">\\n      <picture>\\n       <!--[if IE 9]><video style=\"display: none; \"><![endif]-->\\n       <source media=\"(min-width:1024px)\" srcset=\"https://static.www.nfl.com/t_q-best/league/api/clubs/logos/HOU\"/>\\n       <source media=\"(min-width:768px)\" srcset=\"https://static.www.nfl.com/t_q-best/league/api/clubs/logos/HOU\"/>\\n       <source srcset=\"https://static.www.nfl.com/t_q-best/league/api/clubs/logos/HOU\"/>\\n       <!--[if IE 9]></video><![endif]-->\\n       <img class=\"img-responsive\" src=\"https://static.www.nfl.com/t_q-best/league/api/clubs/logos/HOU\"/>\\n      </picture>\\n     </div>\\n     <div class=\"d3-o-club-fullname\">\\n      Texans\\n     </div>\\n     <div class=\"d3-o-club-shortname\">\\n      Texans\\n     </div>\\n    </div>\\n   </td>\\n   <td>\\n    546\\n   </td>\\n   <td>\\n    383\\n   </td>\\n   <td>\\n    70.1\\n   </td>\\n   <td>\\n    8.9\\n   </td>\\n   <td>\\n    4843\\n   </td>\\n   <td>\\n    33\\n   </td>\\n   <td>\\n    7\\n   </td>\\n   <td>\\n    112.3\\n   </td>\\n   <td>\\n    222\\n   </td>\\n   <td>\\n    40.7\\n   </td>\\n   <td>\\n    70\\n   </td>\\n   <td>\\n    11\\n   </td>\\n   <td>\\n    77T\\n   </td>\\n   <td>\\n    50\\n   </td>\\n   <td>\\n    305\\n   </td>\\n  </tr>\\n  <tr>\\n   <td scope=\"row\" tabindex=\"0\">\\n    <div class=\"d3-o-club-info\">\\n     <div class=\"d3-o-club-logo\">\\n      <picture>\\n       <!--[if IE 9]><video style=\"display: none; \"><![endif]-->\\n       <source media=\"(min-width:1024px)\" srcset=\"https://static.www.nfl.com/t_q-best/league/api/clubs/logos/TEN\"/>\\n       <source media=\"(min-width:768px)\" srcset=\"https://static.www.nfl.com/t_q-best/league/api/clubs/logos/TEN\"/>\\n       <source srcset=\"https://static.www.nfl.com/t_q-best/league/api/clubs/logos/TEN\"/>\\n       <!--[if IE 9]></video><![endif]-->\\n       <img class=\"img-responsive\" src=\"https://static.www.nfl.com/t_q-best/league/api/clubs/logos/TEN\"/>\\n      </picture>\\n     </div>\\n     <div class=\"d3-o-club-fullname\">\\n      Titans\\n     </div>\\n     <div class=\"d3-o-club-shortname\">\\n      Titans\\n     </div>\\n    </div>\\n   </td>\\n   <td>\\n    485\\n   </td>\\n   <td>\\n    316\\n   </td>\\n   <td>\\n    65.2\\n   </td>\\n   <td>\\n    7.9\\n   </td>\\n   <td>\\n    3826\\n   </td>\\n   <td>\\n    33\\n   </td>\\n   <td>\\n    7\\n   </td>\\n   <td>\\n    105.9\\n   </td>\\n   <td>\\n    203\\n   </td>\\n   <td>\\n    41.9\\n   </td>\\n   <td>\\n    44\\n   </td>\\n   <td>\\n    13\\n   </td>\\n   <td>\\n    75T\\n   </td>\\n   <td>\\n    25\\n   </td>\\n   <td>\\n    173\\n   </td>\\n  </tr>\\n  <tr>\\n   <td scope=\"row\" tabindex=\"0\">\\n    <div class=\"d3-o-club-info\">\\n     <div class=\"d3-o-club-logo\">\\n      <picture>\\n       <!--[if IE 9]><video style=\"display: none; \"><![endif]-->\\n       <source media=\"(min-width:1024px)\" srcset=\"https://static.www.nfl.com/t_q-best/league/api/clubs/logos/GB\"/>\\n       <source media=\"(min-width:768px)\" srcset=\"https://static.www.nfl.com/t_q-best/league/api/clubs/logos/GB\"/>\\n       <source srcset=\"https://static.www.nfl.com/t_q-best/league/api/clubs/logos/GB\"/>\\n       <!--[if IE 9]></video><![endif]-->\\n       <img class=\"img-responsive\" src=\"https://static.www.nfl.com/t_q-best/league/api/clubs/logos/GB\"/>\\n      </picture>\\n     </div>\\n     <div class=\"d3-o-club-fullname\">\\n      Packers\\n     </div>\\n     <div class=\"d3-o-club-shortname\">\\n      Packers\\n     </div>\\n    </div>\\n   </td>\\n   <td>\\n    526\\n   </td>\\n   <td>\\n    372\\n   </td>\\n   <td>\\n    70.7\\n   </td>\\n   <td>\\n    8.2\\n   </td>\\n   <td>\\n    4299\\n   </td>\\n   <td>\\n    48\\n   </td>\\n   <td>\\n    5\\n   </td>\\n   <td>\\n    121.5\\n   </td>\\n   <td>\\n    216\\n   </td>\\n   <td>\\n    41.1\\n   </td>\\n   <td>\\n    57\\n   </td>\\n   <td>\\n    14\\n   </td>\\n   <td>\\n    78T\\n   </td>\\n   <td>\\n    21\\n   </td>\\n   <td>\\n    193\\n   </td>\\n  </tr>\\n  <tr>\\n   <td scope=\"row\" tabindex=\"0\">\\n    <div class=\"d3-o-club-info\">\\n     <div class=\"d3-o-club-logo\">\\n      <picture>\\n       <!--[if IE 9]><video style=\"display: none; \"><![endif]-->\\n       <source media=\"(min-width:1024px)\" srcset=\"https://static.www.nfl.com/t_q-best/league/api/clubs/logos/DET\"/>\\n       <source media=\"(min-width:768px)\" srcset=\"https://static.www.nfl.com/t_q-best/league/api/clubs/logos/DET\"/>\\n       <source srcset=\"https://static.www.nfl.com/t_q-best/league/api/clubs/logos/DET\"/>\\n       <!--[if IE 9]></video><![endif]-->\\n       <img class=\"img-responsive\" src=\"https://static.www.nfl.com/t_q-best/league/api/clubs/logos/DET\"/>\\n      </picture>\\n     </div>\\n     <div class=\"d3-o-club-fullname\">\\n      Lions\\n     </div>\\n     <div class=\"d3-o-club-shortname\">\\n      Lions\\n     </div>\\n    </div>\\n   </td>\\n   <td>\\n    582\\n   </td>\\n   <td>\\n    374\\n   </td>\\n   <td>\\n    64.3\\n   </td>\\n   <td>\\n    7.6\\n   </td>\\n   <td>\\n    4397\\n   </td>\\n   <td>\\n    27\\n   </td>\\n   <td>\\n    13\\n   </td>\\n   <td>\\n    93.3\\n   </td>\\n   <td>\\n    220\\n   </td>\\n   <td>\\n    37.8\\n   </td>\\n   <td>\\n    58\\n   </td>\\n   <td>\\n    8\\n   </td>\\n   <td>\\n    73\\n   </td>\\n   <td>\\n    42\\n   </td>\\n   <td>\\n    293\\n   </td>\\n  </tr>\\n  <tr>\\n   <td scope=\"row\" tabindex=\"0\">\\n    <div class=\"d3-o-club-info\">\\n     <div class=\"d3-o-club-logo\">\\n      <picture>\\n       <!--[if IE 9]><video style=\"display: none; \"><![endif]-->\\n       <source media=\"(min-width:1024px)\" srcset=\"https://static.www.nfl.com/t_q-best/league/api/clubs/logos/DEN\"/>\\n       <source media=\"(min-width:768px)\" srcset=\"https://static.www.nfl.com/t_q-best/league/api/clubs/logos/DEN\"/>\\n       <source srcset=\"https://static.www.nfl.com/t_q-best/league/api/clubs/logos/DEN\"/>\\n       <!--[if IE 9]></video><![endif]-->\\n       <img class=\"img-responsive\" src=\"https://static.www.nfl.com/t_q-best/league/api/clubs/logos/DEN\"/>\\n      </picture>\\n     </div>\\n     <div class=\"d3-o-club-fullname\">\\n      Broncos\\n     </div>\\n     <div class=\"d3-o-club-shortname\">\\n      Broncos\\n     </div>\\n    </div>\\n   </td>\\n   <td>\\n    556\\n   </td>\\n   <td>\\n    317\\n   </td>\\n   <td>\\n    57\\n   </td>\\n   <td>\\n    6.6\\n   </td>\\n   <td>\\n    3673\\n   </td>\\n   <td>\\n    21\\n   </td>\\n   <td>\\n    23\\n   </td>\\n   <td>\\n    72.5\\n   </td>\\n   <td>\\n    176\\n   </td>\\n   <td>\\n    31.7\\n   </td>\\n   <td>\\n    49\\n   </td>\\n   <td>\\n    11\\n   </td>\\n   <td>\\n    92T\\n   </td>\\n   <td>\\n    32\\n   </td>\\n   <td>\\n    222\\n   </td>\\n  </tr>\\n  <tr>\\n   <td scope=\"row\" tabindex=\"0\">\\n    <div class=\"d3-o-club-info\">\\n     <div class=\"d3-o-club-logo\">\\n      <picture>\\n       <!--[if IE 9]><video style=\"display: none; \"><![endif]-->\\n       <source media=\"(min-width:1024px)\" srcset=\"https://static.www.nfl.com/t_q-best/league/api/clubs/logos/DAL\"/>\\n       <source media=\"(min-width:768px)\" srcset=\"https://static.www.nfl.com/t_q-best/league/api/clubs/logos/DAL\"/>\\n       <source srcset=\"https://static.www.nfl.com/t_q-best/league/api/clubs/logos/DAL\"/>\\n       <!--[if IE 9]></video><![endif]-->\\n       <img class=\"img-responsive\" src=\"https://static.www.nfl.com/t_q-best/league/api/clubs/logos/DAL\"/>\\n      </picture>\\n     </div>\\n     <div class=\"d3-o-club-fullname\">\\n      Cowboys\\n     </div>\\n     <div class=\"d3-o-club-shortname\">\\n      Cowboys\\n     </div>\\n    </div>\\n   </td>\\n   <td>\\n    639\\n   </td>\\n   <td>\\n    413\\n   </td>\\n   <td>\\n    64.6\\n   </td>\\n   <td>\\n    7.1\\n   </td>\\n   <td>\\n    4511\\n   </td>\\n   <td>\\n    25\\n   </td>\\n   <td>\\n    13\\n   </td>\\n   <td>\\n    89.9\\n   </td>\\n   <td>\\n    231\\n   </td>\\n   <td>\\n    36.2\\n   </td>\\n   <td>\\n    50\\n   </td>\\n   <td>\\n    11\\n   </td>\\n   <td>\\n    69\\n   </td>\\n   <td>\\n    44\\n   </td>\\n   <td>\\n    350\\n   </td>\\n  </tr>\\n  <tr>\\n   <td scope=\"row\" tabindex=\"0\">\\n    <div class=\"d3-o-club-info\">\\n     <div class=\"d3-o-club-logo\">\\n      <picture>\\n       <!--[if IE 9]><video style=\"display: none; \"><![endif]-->\\n       <source media=\"(min-width:1024px)\" srcset=\"https://static.www.nfl.com/t_q-best/league/api/clubs/logos/CLE\"/>\\n       <source media=\"(min-width:768px)\" srcset=\"https://static.www.nfl.com/t_q-best/league/api/clubs/logos/CLE\"/>\\n       <source srcset=\"https://static.www.nfl.com/t_q-best/league/api/clubs/logos/CLE\"/>\\n       <!--[if IE 9]></video><![endif]-->\\n       <img class=\"img-responsive\" src=\"https://static.www.nfl.com/t_q-best/league/api/clubs/logos/CLE\"/>\\n      </picture>\\n     </div>\\n     <div class=\"d3-o-club-fullname\">\\n      Browns\\n     </div>\\n     <div class=\"d3-o-club-shortname\">\\n      Browns\\n     </div>\\n    </div>\\n   </td>\\n   <td>\\n    501\\n   </td>\\n   <td>\\n    315\\n   </td>\\n   <td>\\n    62.9\\n   </td>\\n   <td>\\n    7.4\\n   </td>\\n   <td>\\n    3701\\n   </td>\\n   <td>\\n    27\\n   </td>\\n   <td>\\n    8\\n   </td>\\n   <td>\\n    96.6\\n   </td>\\n   <td>\\n    195\\n   </td>\\n   <td>\\n    38.9\\n   </td>\\n   <td>\\n    45\\n   </td>\\n   <td>\\n    5\\n   </td>\\n   <td>\\n    75T\\n   </td>\\n   <td>\\n    26\\n   </td>\\n   <td>\\n    162\\n   </td>\\n  </tr>\\n  <tr>\\n   <td scope=\"row\" tabindex=\"0\">\\n    <div class=\"d3-o-club-info\">\\n     <div class=\"d3-o-club-logo\">\\n      <picture>\\n       <!--[if IE 9]><video style=\"display: none; \"><![endif]-->\\n       <source media=\"(min-width:1024px)\" srcset=\"https://static.www.nfl.com/t_q-best/league/api/clubs/logos/CIN\"/>\\n       <source media=\"(min-width:768px)\" srcset=\"https://static.www.nfl.com/t_q-best/league/api/clubs/logos/CIN\"/>\\n       <source srcset=\"https://static.www.nfl.com/t_q-best/league/api/clubs/logos/CIN\"/>\\n       <!--[if IE 9]></video><![endif]-->\\n       <img class=\"img-responsive\" src=\"https://static.www.nfl.com/t_q-best/league/api/clubs/logos/CIN\"/>\\n      </picture>\\n     </div>\\n     <div class=\"d3-o-club-fullname\">\\n      Bengals\\n     </div>\\n     <div class=\"d3-o-club-shortname\">\\n      Bengals\\n     </div>\\n    </div>\\n   </td>\\n   <td>\\n    581\\n   </td>\\n   <td>\\n    372\\n   </td>\\n   <td>\\n    64\\n   </td>\\n   <td>\\n    6.5\\n   </td>\\n   <td>\\n    3793\\n   </td>\\n   <td>\\n    19\\n   </td>\\n   <td>\\n    11\\n   </td>\\n   <td>\\n    85.7\\n   </td>\\n   <td>\\n    201\\n   </td>\\n   <td>\\n    34.6\\n   </td>\\n   <td>\\n    35\\n   </td>\\n   <td>\\n    5\\n   </td>\\n   <td>\\n    72T\\n   </td>\\n   <td>\\n    48\\n   </td>\\n   <td>\\n    345\\n   </td>\\n  </tr>\\n  <tr>\\n   <td scope=\"row\" tabindex=\"0\">\\n    <div class=\"d3-o-club-info\">\\n     <div class=\"d3-o-club-logo\">\\n      <picture>\\n       <!--[if IE 9]><video style=\"display: none; \"><![endif]-->\\n       <source media=\"(min-width:1024px)\" srcset=\"https://static.www.nfl.com/t_q-best/league/api/clubs/logos/CHI\"/>\\n       <source media=\"(min-width:768px)\" srcset=\"https://static.www.nfl.com/t_q-best/league/api/clubs/logos/CHI\"/>\\n       <source srcset=\"https://static.www.nfl.com/t_q-best/league/api/clubs/logos/CHI\"/>\\n       <!--[if IE 9]></video><![endif]-->\\n       <img class=\"img-responsive\" src=\"https://static.www.nfl.com/t_q-best/league/api/clubs/logos/CHI\"/>\\n      </picture>\\n     </div>\\n     <div class=\"d3-o-club-fullname\">\\n      Bears\\n     </div>\\n     <div class=\"d3-o-club-shortname\">\\n      Bears\\n     </div>\\n    </div>\\n   </td>\\n   <td>\\n    614\\n   </td>\\n   <td>\\n    402\\n   </td>\\n   <td>\\n    65.5\\n   </td>\\n   <td>\\n    6.4\\n   </td>\\n   <td>\\n    3925\\n   </td>\\n   <td>\\n    26\\n   </td>\\n   <td>\\n    16\\n   </td>\\n   <td>\\n    86.5\\n   </td>\\n   <td>\\n    218\\n   </td>\\n   <td>\\n    35.5\\n   </td>\\n   <td>\\n    42\\n   </td>\\n   <td>\\n    3\\n   </td>\\n   <td>\\n    53\\n   </td>\\n   <td>\\n    36\\n   </td>\\n   <td>\\n    270\\n   </td>\\n  </tr>\\n  <tr>\\n   <td scope=\"row\" tabindex=\"0\">\\n    <div class=\"d3-o-club-info\">\\n     <div class=\"d3-o-club-logo\">\\n      <picture>\\n       <!--[if IE 9]><video style=\"display: none; \"><![endif]-->\\n       <source media=\"(min-width:1024px)\" srcset=\"https://static.www.nfl.com/t_q-best/league/api/clubs/logos/CAR\"/>\\n       <source media=\"(min-width:768px)\" srcset=\"https://static.www.nfl.com/t_q-best/league/api/clubs/logos/CAR\"/>\\n       <source srcset=\"https://static.www.nfl.com/t_q-best/league/api/clubs/logos/CAR\"/>\\n       <!--[if IE 9]></video><![endif]-->\\n       <img class=\"img-responsive\" src=\"https://static.www.nfl.com/t_q-best/league/api/clubs/logos/CAR\"/>\\n      </picture>\\n     </div>\\n     <div class=\"d3-o-club-fullname\">\\n      Panthers\\n     </div>\\n     <div class=\"d3-o-club-shortname\">\\n      Panthers\\n     </div>\\n    </div>\\n   </td>\\n   <td>\\n    550\\n   </td>\\n   <td>\\n    373\\n   </td>\\n   <td>\\n    67.8\\n   </td>\\n   <td>\\n    7.5\\n   </td>\\n   <td>\\n    4129\\n   </td>\\n   <td>\\n    16\\n   </td>\\n   <td>\\n    16\\n   </td>\\n   <td>\\n    87.5\\n   </td>\\n   <td>\\n    192\\n   </td>\\n   <td>\\n    34.9\\n   </td>\\n   <td>\\n    55\\n   </td>\\n   <td>\\n    9\\n   </td>\\n   <td>\\n    75T\\n   </td>\\n   <td>\\n    36\\n   </td>\\n   <td>\\n    241\\n   </td>\\n  </tr>\\n  <tr>\\n   <td scope=\"row\" tabindex=\"0\">\\n    <div class=\"d3-o-club-info\">\\n     <div class=\"d3-o-club-logo\">\\n      <picture>\\n       <!--[if IE 9]><video style=\"display: none; \"><![endif]-->\\n       <source media=\"(min-width:1024px)\" srcset=\"https://static.www.nfl.com/t_q-best/league/api/clubs/logos/BUF\"/>\\n       <source media=\"(min-width:768px)\" srcset=\"https://static.www.nfl.com/t_q-best/league/api/clubs/logos/BUF\"/>\\n       <source srcset=\"https://static.www.nfl.com/t_q-best/league/api/clubs/logos/BUF\"/>\\n       <!--[if IE 9]></video><![endif]-->\\n       <img class=\"img-responsive\" src=\"https://static.www.nfl.com/t_q-best/league/api/clubs/logos/BUF\"/>\\n      </picture>\\n     </div>\\n     <div class=\"d3-o-club-fullname\">\\n      Bills\\n     </div>\\n     <div class=\"d3-o-club-shortname\">\\n      Bills\\n     </div>\\n    </div>\\n   </td>\\n   <td>\\n    596\\n   </td>\\n   <td>\\n    410\\n   </td>\\n   <td>\\n    68.8\\n   </td>\\n   <td>\\n    8\\n   </td>\\n   <td>\\n    4786\\n   </td>\\n   <td>\\n    40\\n   </td>\\n   <td>\\n    11\\n   </td>\\n   <td>\\n    107.6\\n   </td>\\n   <td>\\n    240\\n   </td>\\n   <td>\\n    40.3\\n   </td>\\n   <td>\\n    66\\n   </td>\\n   <td>\\n    10\\n   </td>\\n   <td>\\n    56T\\n   </td>\\n   <td>\\n    27\\n   </td>\\n   <td>\\n    166\\n   </td>\\n  </tr>\\n  <tr>\\n   <td scope=\"row\" tabindex=\"0\">\\n    <div class=\"d3-o-club-info\">\\n     <div class=\"d3-o-club-logo\">\\n      <picture>\\n       <!--[if IE 9]><video style=\"display: none; \"><![endif]-->\\n       <source media=\"(min-width:1024px)\" srcset=\"https://static.www.nfl.com/t_q-best/league/api/clubs/logos/BAL\"/>\\n       <source media=\"(min-width:768px)\" srcset=\"https://static.www.nfl.com/t_q-best/league/api/clubs/logos/BAL\"/>\\n       <source srcset=\"https://static.www.nfl.com/t_q-best/league/api/clubs/logos/BAL\"/>\\n       <!--[if IE 9]></video><![endif]-->\\n       <img class=\"img-responsive\" src=\"https://static.www.nfl.com/t_q-best/league/api/clubs/logos/BAL\"/>\\n      </picture>\\n     </div>\\n     <div class=\"d3-o-club-fullname\">\\n      Ravens\\n     </div>\\n     <div class=\"d3-o-club-shortname\">\\n      Ravens\\n     </div>\\n    </div>\\n   </td>\\n   <td>\\n    406\\n   </td>\\n   <td>\\n    257\\n   </td>\\n   <td>\\n    63.3\\n   </td>\\n   <td>\\n    7.2\\n   </td>\\n   <td>\\n    2919\\n   </td>\\n   <td>\\n    27\\n   </td>\\n   <td>\\n    11\\n   </td>\\n   <td>\\n    95.7\\n   </td>\\n   <td>\\n    142\\n   </td>\\n   <td>\\n    35\\n   </td>\\n   <td>\\n    38\\n   </td>\\n   <td>\\n    5\\n   </td>\\n   <td>\\n    70T\\n   </td>\\n   <td>\\n    32\\n   </td>\\n   <td>\\n    180\\n   </td>\\n  </tr>\\n  <tr>\\n   <td scope=\"row\" tabindex=\"0\">\\n    <div class=\"d3-o-club-info\">\\n     <div class=\"d3-o-club-logo\">\\n      <picture>\\n       <!--[if IE 9]><video style=\"display: none; \"><![endif]-->\\n       <source media=\"(min-width:1024px)\" srcset=\"https://static.www.nfl.com/t_q-best/league/api/clubs/logos/ATL\"/>\\n       <source media=\"(min-width:768px)\" srcset=\"https://static.www.nfl.com/t_q-best/league/api/clubs/logos/ATL\"/>\\n       <source srcset=\"https://static.www.nfl.com/t_q-best/league/api/clubs/logos/ATL\"/>\\n       <!--[if IE 9]></video><![endif]-->\\n       <img class=\"img-responsive\" src=\"https://static.www.nfl.com/t_q-best/league/api/clubs/logos/ATL\"/>\\n      </picture>\\n     </div>\\n     <div class=\"d3-o-club-fullname\">\\n      Falcons\\n     </div>\\n     <div class=\"d3-o-club-shortname\">\\n      Falcons\\n     </div>\\n    </div>\\n   </td>\\n   <td>\\n    628\\n   </td>\\n   <td>\\n    408\\n   </td>\\n   <td>\\n    65\\n   </td>\\n   <td>\\n    7.4\\n   </td>\\n   <td>\\n    4620\\n   </td>\\n   <td>\\n    27\\n   </td>\\n   <td>\\n    11\\n   </td>\\n   <td>\\n    93.9\\n   </td>\\n   <td>\\n    243\\n   </td>\\n   <td>\\n    38.7\\n   </td>\\n   <td>\\n    59\\n   </td>\\n   <td>\\n    8\\n   </td>\\n   <td>\\n    63\\n   </td>\\n   <td>\\n    41\\n   </td>\\n   <td>\\n    257\\n   </td>\\n  </tr>\\n </tbody>\\n</table>\\n'"
      ]
     },
     "execution_count": 25,
     "metadata": {},
     "output_type": "execute_result"
    }
   ],
   "source": [
    "table.prettify()"
   ]
  },
  {
   "cell_type": "code",
   "execution_count": 26,
   "metadata": {
    "ExecuteTime": {
     "end_time": "2021-04-15T14:42:09.242733Z",
     "start_time": "2021-04-15T14:42:08.475224Z"
    }
   },
   "outputs": [
    {
     "data": {
      "text/plain": [
       "[                            Team  Att  Cmp  Cmp %  Yds/Att  Pass Yds  TD  INT  \\\n",
       " 0   Football Team  Football Team  601  389   64.7      6.3      3796  16   16   \n",
       " 1         Buccaneers  Buccaneers  626  410   65.5      7.6      4776  42   12   \n",
       " 2             Seahawks  Seahawks  563  388   68.9      7.5      4245  40   13   \n",
       " 3                   49ers  49ers  570  371   65.1      7.6      4320  25   17   \n",
       " 4             Chargers  Chargers  627  413   65.9      7.3      4548  31   10   \n",
       " 5             Steelers  Steelers  656  428   65.2      6.3      4129  35   11   \n",
       " 6           Cardinals  Cardinals  575  387   67.3      7.1      4102  27   13   \n",
       " 7                 Eagles  Eagles  598  334   55.9      6.2      3728  22   20   \n",
       " 8                     Jets  Jets  499  292   58.5      6.2      3115  16   14   \n",
       " 9                 Giants  Giants  517  321   62.1      6.5      3336  12   11   \n",
       " 10                Saints  Saints  522  370   70.9      7.6      3945  28    8   \n",
       " 11            Patriots  Patriots  440  283   64.3      7.1      3124  12   14   \n",
       " 12              Vikings  Vikings  516  349   67.6      8.3      4265  35   13   \n",
       " 13            Dolphins  Dolphins  559  370   66.2      7.0      3937  24   13   \n",
       " 14              Raiders  Raiders  551  369   67.0      8.0      4383  28   10   \n",
       " 15                    Rams  Rams  590  392   66.4      7.1      4183  20   14   \n",
       " 16                Chiefs  Chiefs  630  420   66.7      7.9      5005  40    7   \n",
       " 17              Jaguars  Jaguars  616  387   62.8      6.4      3955  25   16   \n",
       " 18                  Colts  Colts  552  371   67.2      7.6      4186  24   11   \n",
       " 19                Texans  Texans  546  383   70.1      8.9      4843  33    7   \n",
       " 20                Titans  Titans  485  316   65.2      7.9      3826  33    7   \n",
       " 21              Packers  Packers  526  372   70.7      8.2      4299  48    5   \n",
       " 22                  Lions  Lions  582  374   64.3      7.6      4397  27   13   \n",
       " 23              Broncos  Broncos  556  317   57.0      6.6      3673  21   23   \n",
       " 24              Cowboys  Cowboys  639  413   64.6      7.1      4511  25   13   \n",
       " 25                Browns  Browns  501  315   62.9      7.4      3701  27    8   \n",
       " 26              Bengals  Bengals  581  372   64.0      6.5      3793  19   11   \n",
       " 27                  Bears  Bears  614  402   65.5      6.4      3925  26   16   \n",
       " 28            Panthers  Panthers  550  373   67.8      7.5      4129  16   16   \n",
       " 29                  Bills  Bills  596  410   68.8      8.0      4786  40   11   \n",
       " 30                Ravens  Ravens  406  257   63.3      7.2      2919  27   11   \n",
       " 31              Falcons  Falcons  628  408   65.0      7.4      4620  27   11   \n",
       " \n",
       "      Rate  1st  1st%  20+  40+  Lng  Sck  SckY  \n",
       " 0    80.1  184  30.6   40    6  68T   50   331  \n",
       " 1   102.8  238  38.0   67   12   50   22   150  \n",
       " 2   105.0  216  38.4   45   11   62   48   304  \n",
       " 3    90.1  217  38.1   55   10  76T   39   287  \n",
       " 4    97.0  226  36.0   54   10  72T   34   219  \n",
       " 5    93.5  206  31.4   48    7  84T   14   126  \n",
       " 6    94.1  211  36.7   45   14  80T   29   186  \n",
       " 7    72.9  177  29.6   43    9  81T   65   401  \n",
       " 8    75.9  146  29.3   39    6  69T   43   319  \n",
       " 9    79.6  178  34.4   36    5   53   50   310  \n",
       " 10  104.1  199  38.1   44    9  52T   29   187  \n",
       " 11   81.1  157  35.7   38    3   50   37   234  \n",
       " 12  105.0  212  41.1   58    7  71T   39   256  \n",
       " 13   91.2  207  37.0   40    4   70   34   201  \n",
       " 14  100.4  206  37.4   59   12  85T   28   166  \n",
       " 15   88.4  206  34.9   50    6  56T   25   169  \n",
       " 16  107.3  255  40.5   69    8  75T   24   151  \n",
       " 17   83.9  205  33.3   45    5  73T   44   256  \n",
       " 18   95.9  201  36.4   56    8   55   21   133  \n",
       " 19  112.3  222  40.7   70   11  77T   50   305  \n",
       " 20  105.9  203  41.9   44   13  75T   25   173  \n",
       " 21  121.5  216  41.1   57   14  78T   21   193  \n",
       " 22   93.3  220  37.8   58    8   73   42   293  \n",
       " 23   72.5  176  31.7   49   11  92T   32   222  \n",
       " 24   89.9  231  36.2   50   11   69   44   350  \n",
       " 25   96.6  195  38.9   45    5  75T   26   162  \n",
       " 26   85.7  201  34.6   35    5  72T   48   345  \n",
       " 27   86.5  218  35.5   42    3   53   36   270  \n",
       " 28   87.5  192  34.9   55    9  75T   36   241  \n",
       " 29  107.6  240  40.3   66   10  56T   27   166  \n",
       " 30   95.7  142  35.0   38    5  70T   32   180  \n",
       " 31   93.9  243  38.7   59    8   63   41   257  ]"
      ]
     },
     "execution_count": 26,
     "metadata": {},
     "output_type": "execute_result"
    }
   ],
   "source": [
    "nfl = pd.read_html('http://www.nfl.com/stats/team')\n",
    "\n",
    "nfl"
   ]
  },
  {
   "cell_type": "code",
   "execution_count": 27,
   "metadata": {
    "ExecuteTime": {
     "end_time": "2021-04-15T14:42:13.505870Z",
     "start_time": "2021-04-15T14:42:13.486241Z"
    }
   },
   "outputs": [
    {
     "data": {
      "text/html": [
       "<div>\n",
       "<style scoped>\n",
       "    .dataframe tbody tr th:only-of-type {\n",
       "        vertical-align: middle;\n",
       "    }\n",
       "\n",
       "    .dataframe tbody tr th {\n",
       "        vertical-align: top;\n",
       "    }\n",
       "\n",
       "    .dataframe thead th {\n",
       "        text-align: right;\n",
       "    }\n",
       "</style>\n",
       "<table border=\"1\" class=\"dataframe\">\n",
       "  <thead>\n",
       "    <tr style=\"text-align: right;\">\n",
       "      <th></th>\n",
       "      <th>Team</th>\n",
       "      <th>Att</th>\n",
       "      <th>Cmp</th>\n",
       "      <th>Cmp %</th>\n",
       "      <th>Yds/Att</th>\n",
       "      <th>Pass Yds</th>\n",
       "      <th>TD</th>\n",
       "      <th>INT</th>\n",
       "      <th>Rate</th>\n",
       "      <th>1st</th>\n",
       "      <th>1st%</th>\n",
       "      <th>20+</th>\n",
       "      <th>40+</th>\n",
       "      <th>Lng</th>\n",
       "      <th>Sck</th>\n",
       "      <th>SckY</th>\n",
       "    </tr>\n",
       "  </thead>\n",
       "  <tbody>\n",
       "    <tr>\n",
       "      <th>0</th>\n",
       "      <td>Football Team  Football Team</td>\n",
       "      <td>601</td>\n",
       "      <td>389</td>\n",
       "      <td>64.7</td>\n",
       "      <td>6.3</td>\n",
       "      <td>3796</td>\n",
       "      <td>16</td>\n",
       "      <td>16</td>\n",
       "      <td>80.1</td>\n",
       "      <td>184</td>\n",
       "      <td>30.6</td>\n",
       "      <td>40</td>\n",
       "      <td>6</td>\n",
       "      <td>68T</td>\n",
       "      <td>50</td>\n",
       "      <td>331</td>\n",
       "    </tr>\n",
       "    <tr>\n",
       "      <th>1</th>\n",
       "      <td>Buccaneers  Buccaneers</td>\n",
       "      <td>626</td>\n",
       "      <td>410</td>\n",
       "      <td>65.5</td>\n",
       "      <td>7.6</td>\n",
       "      <td>4776</td>\n",
       "      <td>42</td>\n",
       "      <td>12</td>\n",
       "      <td>102.8</td>\n",
       "      <td>238</td>\n",
       "      <td>38.0</td>\n",
       "      <td>67</td>\n",
       "      <td>12</td>\n",
       "      <td>50</td>\n",
       "      <td>22</td>\n",
       "      <td>150</td>\n",
       "    </tr>\n",
       "    <tr>\n",
       "      <th>2</th>\n",
       "      <td>Seahawks  Seahawks</td>\n",
       "      <td>563</td>\n",
       "      <td>388</td>\n",
       "      <td>68.9</td>\n",
       "      <td>7.5</td>\n",
       "      <td>4245</td>\n",
       "      <td>40</td>\n",
       "      <td>13</td>\n",
       "      <td>105.0</td>\n",
       "      <td>216</td>\n",
       "      <td>38.4</td>\n",
       "      <td>45</td>\n",
       "      <td>11</td>\n",
       "      <td>62</td>\n",
       "      <td>48</td>\n",
       "      <td>304</td>\n",
       "    </tr>\n",
       "    <tr>\n",
       "      <th>3</th>\n",
       "      <td>49ers  49ers</td>\n",
       "      <td>570</td>\n",
       "      <td>371</td>\n",
       "      <td>65.1</td>\n",
       "      <td>7.6</td>\n",
       "      <td>4320</td>\n",
       "      <td>25</td>\n",
       "      <td>17</td>\n",
       "      <td>90.1</td>\n",
       "      <td>217</td>\n",
       "      <td>38.1</td>\n",
       "      <td>55</td>\n",
       "      <td>10</td>\n",
       "      <td>76T</td>\n",
       "      <td>39</td>\n",
       "      <td>287</td>\n",
       "    </tr>\n",
       "    <tr>\n",
       "      <th>4</th>\n",
       "      <td>Chargers  Chargers</td>\n",
       "      <td>627</td>\n",
       "      <td>413</td>\n",
       "      <td>65.9</td>\n",
       "      <td>7.3</td>\n",
       "      <td>4548</td>\n",
       "      <td>31</td>\n",
       "      <td>10</td>\n",
       "      <td>97.0</td>\n",
       "      <td>226</td>\n",
       "      <td>36.0</td>\n",
       "      <td>54</td>\n",
       "      <td>10</td>\n",
       "      <td>72T</td>\n",
       "      <td>34</td>\n",
       "      <td>219</td>\n",
       "    </tr>\n",
       "    <tr>\n",
       "      <th>5</th>\n",
       "      <td>Steelers  Steelers</td>\n",
       "      <td>656</td>\n",
       "      <td>428</td>\n",
       "      <td>65.2</td>\n",
       "      <td>6.3</td>\n",
       "      <td>4129</td>\n",
       "      <td>35</td>\n",
       "      <td>11</td>\n",
       "      <td>93.5</td>\n",
       "      <td>206</td>\n",
       "      <td>31.4</td>\n",
       "      <td>48</td>\n",
       "      <td>7</td>\n",
       "      <td>84T</td>\n",
       "      <td>14</td>\n",
       "      <td>126</td>\n",
       "    </tr>\n",
       "    <tr>\n",
       "      <th>6</th>\n",
       "      <td>Cardinals  Cardinals</td>\n",
       "      <td>575</td>\n",
       "      <td>387</td>\n",
       "      <td>67.3</td>\n",
       "      <td>7.1</td>\n",
       "      <td>4102</td>\n",
       "      <td>27</td>\n",
       "      <td>13</td>\n",
       "      <td>94.1</td>\n",
       "      <td>211</td>\n",
       "      <td>36.7</td>\n",
       "      <td>45</td>\n",
       "      <td>14</td>\n",
       "      <td>80T</td>\n",
       "      <td>29</td>\n",
       "      <td>186</td>\n",
       "    </tr>\n",
       "    <tr>\n",
       "      <th>7</th>\n",
       "      <td>Eagles  Eagles</td>\n",
       "      <td>598</td>\n",
       "      <td>334</td>\n",
       "      <td>55.9</td>\n",
       "      <td>6.2</td>\n",
       "      <td>3728</td>\n",
       "      <td>22</td>\n",
       "      <td>20</td>\n",
       "      <td>72.9</td>\n",
       "      <td>177</td>\n",
       "      <td>29.6</td>\n",
       "      <td>43</td>\n",
       "      <td>9</td>\n",
       "      <td>81T</td>\n",
       "      <td>65</td>\n",
       "      <td>401</td>\n",
       "    </tr>\n",
       "    <tr>\n",
       "      <th>8</th>\n",
       "      <td>Jets  Jets</td>\n",
       "      <td>499</td>\n",
       "      <td>292</td>\n",
       "      <td>58.5</td>\n",
       "      <td>6.2</td>\n",
       "      <td>3115</td>\n",
       "      <td>16</td>\n",
       "      <td>14</td>\n",
       "      <td>75.9</td>\n",
       "      <td>146</td>\n",
       "      <td>29.3</td>\n",
       "      <td>39</td>\n",
       "      <td>6</td>\n",
       "      <td>69T</td>\n",
       "      <td>43</td>\n",
       "      <td>319</td>\n",
       "    </tr>\n",
       "    <tr>\n",
       "      <th>9</th>\n",
       "      <td>Giants  Giants</td>\n",
       "      <td>517</td>\n",
       "      <td>321</td>\n",
       "      <td>62.1</td>\n",
       "      <td>6.5</td>\n",
       "      <td>3336</td>\n",
       "      <td>12</td>\n",
       "      <td>11</td>\n",
       "      <td>79.6</td>\n",
       "      <td>178</td>\n",
       "      <td>34.4</td>\n",
       "      <td>36</td>\n",
       "      <td>5</td>\n",
       "      <td>53</td>\n",
       "      <td>50</td>\n",
       "      <td>310</td>\n",
       "    </tr>\n",
       "    <tr>\n",
       "      <th>10</th>\n",
       "      <td>Saints  Saints</td>\n",
       "      <td>522</td>\n",
       "      <td>370</td>\n",
       "      <td>70.9</td>\n",
       "      <td>7.6</td>\n",
       "      <td>3945</td>\n",
       "      <td>28</td>\n",
       "      <td>8</td>\n",
       "      <td>104.1</td>\n",
       "      <td>199</td>\n",
       "      <td>38.1</td>\n",
       "      <td>44</td>\n",
       "      <td>9</td>\n",
       "      <td>52T</td>\n",
       "      <td>29</td>\n",
       "      <td>187</td>\n",
       "    </tr>\n",
       "    <tr>\n",
       "      <th>11</th>\n",
       "      <td>Patriots  Patriots</td>\n",
       "      <td>440</td>\n",
       "      <td>283</td>\n",
       "      <td>64.3</td>\n",
       "      <td>7.1</td>\n",
       "      <td>3124</td>\n",
       "      <td>12</td>\n",
       "      <td>14</td>\n",
       "      <td>81.1</td>\n",
       "      <td>157</td>\n",
       "      <td>35.7</td>\n",
       "      <td>38</td>\n",
       "      <td>3</td>\n",
       "      <td>50</td>\n",
       "      <td>37</td>\n",
       "      <td>234</td>\n",
       "    </tr>\n",
       "    <tr>\n",
       "      <th>12</th>\n",
       "      <td>Vikings  Vikings</td>\n",
       "      <td>516</td>\n",
       "      <td>349</td>\n",
       "      <td>67.6</td>\n",
       "      <td>8.3</td>\n",
       "      <td>4265</td>\n",
       "      <td>35</td>\n",
       "      <td>13</td>\n",
       "      <td>105.0</td>\n",
       "      <td>212</td>\n",
       "      <td>41.1</td>\n",
       "      <td>58</td>\n",
       "      <td>7</td>\n",
       "      <td>71T</td>\n",
       "      <td>39</td>\n",
       "      <td>256</td>\n",
       "    </tr>\n",
       "    <tr>\n",
       "      <th>13</th>\n",
       "      <td>Dolphins  Dolphins</td>\n",
       "      <td>559</td>\n",
       "      <td>370</td>\n",
       "      <td>66.2</td>\n",
       "      <td>7.0</td>\n",
       "      <td>3937</td>\n",
       "      <td>24</td>\n",
       "      <td>13</td>\n",
       "      <td>91.2</td>\n",
       "      <td>207</td>\n",
       "      <td>37.0</td>\n",
       "      <td>40</td>\n",
       "      <td>4</td>\n",
       "      <td>70</td>\n",
       "      <td>34</td>\n",
       "      <td>201</td>\n",
       "    </tr>\n",
       "    <tr>\n",
       "      <th>14</th>\n",
       "      <td>Raiders  Raiders</td>\n",
       "      <td>551</td>\n",
       "      <td>369</td>\n",
       "      <td>67.0</td>\n",
       "      <td>8.0</td>\n",
       "      <td>4383</td>\n",
       "      <td>28</td>\n",
       "      <td>10</td>\n",
       "      <td>100.4</td>\n",
       "      <td>206</td>\n",
       "      <td>37.4</td>\n",
       "      <td>59</td>\n",
       "      <td>12</td>\n",
       "      <td>85T</td>\n",
       "      <td>28</td>\n",
       "      <td>166</td>\n",
       "    </tr>\n",
       "    <tr>\n",
       "      <th>15</th>\n",
       "      <td>Rams  Rams</td>\n",
       "      <td>590</td>\n",
       "      <td>392</td>\n",
       "      <td>66.4</td>\n",
       "      <td>7.1</td>\n",
       "      <td>4183</td>\n",
       "      <td>20</td>\n",
       "      <td>14</td>\n",
       "      <td>88.4</td>\n",
       "      <td>206</td>\n",
       "      <td>34.9</td>\n",
       "      <td>50</td>\n",
       "      <td>6</td>\n",
       "      <td>56T</td>\n",
       "      <td>25</td>\n",
       "      <td>169</td>\n",
       "    </tr>\n",
       "    <tr>\n",
       "      <th>16</th>\n",
       "      <td>Chiefs  Chiefs</td>\n",
       "      <td>630</td>\n",
       "      <td>420</td>\n",
       "      <td>66.7</td>\n",
       "      <td>7.9</td>\n",
       "      <td>5005</td>\n",
       "      <td>40</td>\n",
       "      <td>7</td>\n",
       "      <td>107.3</td>\n",
       "      <td>255</td>\n",
       "      <td>40.5</td>\n",
       "      <td>69</td>\n",
       "      <td>8</td>\n",
       "      <td>75T</td>\n",
       "      <td>24</td>\n",
       "      <td>151</td>\n",
       "    </tr>\n",
       "    <tr>\n",
       "      <th>17</th>\n",
       "      <td>Jaguars  Jaguars</td>\n",
       "      <td>616</td>\n",
       "      <td>387</td>\n",
       "      <td>62.8</td>\n",
       "      <td>6.4</td>\n",
       "      <td>3955</td>\n",
       "      <td>25</td>\n",
       "      <td>16</td>\n",
       "      <td>83.9</td>\n",
       "      <td>205</td>\n",
       "      <td>33.3</td>\n",
       "      <td>45</td>\n",
       "      <td>5</td>\n",
       "      <td>73T</td>\n",
       "      <td>44</td>\n",
       "      <td>256</td>\n",
       "    </tr>\n",
       "    <tr>\n",
       "      <th>18</th>\n",
       "      <td>Colts  Colts</td>\n",
       "      <td>552</td>\n",
       "      <td>371</td>\n",
       "      <td>67.2</td>\n",
       "      <td>7.6</td>\n",
       "      <td>4186</td>\n",
       "      <td>24</td>\n",
       "      <td>11</td>\n",
       "      <td>95.9</td>\n",
       "      <td>201</td>\n",
       "      <td>36.4</td>\n",
       "      <td>56</td>\n",
       "      <td>8</td>\n",
       "      <td>55</td>\n",
       "      <td>21</td>\n",
       "      <td>133</td>\n",
       "    </tr>\n",
       "    <tr>\n",
       "      <th>19</th>\n",
       "      <td>Texans  Texans</td>\n",
       "      <td>546</td>\n",
       "      <td>383</td>\n",
       "      <td>70.1</td>\n",
       "      <td>8.9</td>\n",
       "      <td>4843</td>\n",
       "      <td>33</td>\n",
       "      <td>7</td>\n",
       "      <td>112.3</td>\n",
       "      <td>222</td>\n",
       "      <td>40.7</td>\n",
       "      <td>70</td>\n",
       "      <td>11</td>\n",
       "      <td>77T</td>\n",
       "      <td>50</td>\n",
       "      <td>305</td>\n",
       "    </tr>\n",
       "    <tr>\n",
       "      <th>20</th>\n",
       "      <td>Titans  Titans</td>\n",
       "      <td>485</td>\n",
       "      <td>316</td>\n",
       "      <td>65.2</td>\n",
       "      <td>7.9</td>\n",
       "      <td>3826</td>\n",
       "      <td>33</td>\n",
       "      <td>7</td>\n",
       "      <td>105.9</td>\n",
       "      <td>203</td>\n",
       "      <td>41.9</td>\n",
       "      <td>44</td>\n",
       "      <td>13</td>\n",
       "      <td>75T</td>\n",
       "      <td>25</td>\n",
       "      <td>173</td>\n",
       "    </tr>\n",
       "    <tr>\n",
       "      <th>21</th>\n",
       "      <td>Packers  Packers</td>\n",
       "      <td>526</td>\n",
       "      <td>372</td>\n",
       "      <td>70.7</td>\n",
       "      <td>8.2</td>\n",
       "      <td>4299</td>\n",
       "      <td>48</td>\n",
       "      <td>5</td>\n",
       "      <td>121.5</td>\n",
       "      <td>216</td>\n",
       "      <td>41.1</td>\n",
       "      <td>57</td>\n",
       "      <td>14</td>\n",
       "      <td>78T</td>\n",
       "      <td>21</td>\n",
       "      <td>193</td>\n",
       "    </tr>\n",
       "    <tr>\n",
       "      <th>22</th>\n",
       "      <td>Lions  Lions</td>\n",
       "      <td>582</td>\n",
       "      <td>374</td>\n",
       "      <td>64.3</td>\n",
       "      <td>7.6</td>\n",
       "      <td>4397</td>\n",
       "      <td>27</td>\n",
       "      <td>13</td>\n",
       "      <td>93.3</td>\n",
       "      <td>220</td>\n",
       "      <td>37.8</td>\n",
       "      <td>58</td>\n",
       "      <td>8</td>\n",
       "      <td>73</td>\n",
       "      <td>42</td>\n",
       "      <td>293</td>\n",
       "    </tr>\n",
       "    <tr>\n",
       "      <th>23</th>\n",
       "      <td>Broncos  Broncos</td>\n",
       "      <td>556</td>\n",
       "      <td>317</td>\n",
       "      <td>57.0</td>\n",
       "      <td>6.6</td>\n",
       "      <td>3673</td>\n",
       "      <td>21</td>\n",
       "      <td>23</td>\n",
       "      <td>72.5</td>\n",
       "      <td>176</td>\n",
       "      <td>31.7</td>\n",
       "      <td>49</td>\n",
       "      <td>11</td>\n",
       "      <td>92T</td>\n",
       "      <td>32</td>\n",
       "      <td>222</td>\n",
       "    </tr>\n",
       "    <tr>\n",
       "      <th>24</th>\n",
       "      <td>Cowboys  Cowboys</td>\n",
       "      <td>639</td>\n",
       "      <td>413</td>\n",
       "      <td>64.6</td>\n",
       "      <td>7.1</td>\n",
       "      <td>4511</td>\n",
       "      <td>25</td>\n",
       "      <td>13</td>\n",
       "      <td>89.9</td>\n",
       "      <td>231</td>\n",
       "      <td>36.2</td>\n",
       "      <td>50</td>\n",
       "      <td>11</td>\n",
       "      <td>69</td>\n",
       "      <td>44</td>\n",
       "      <td>350</td>\n",
       "    </tr>\n",
       "    <tr>\n",
       "      <th>25</th>\n",
       "      <td>Browns  Browns</td>\n",
       "      <td>501</td>\n",
       "      <td>315</td>\n",
       "      <td>62.9</td>\n",
       "      <td>7.4</td>\n",
       "      <td>3701</td>\n",
       "      <td>27</td>\n",
       "      <td>8</td>\n",
       "      <td>96.6</td>\n",
       "      <td>195</td>\n",
       "      <td>38.9</td>\n",
       "      <td>45</td>\n",
       "      <td>5</td>\n",
       "      <td>75T</td>\n",
       "      <td>26</td>\n",
       "      <td>162</td>\n",
       "    </tr>\n",
       "    <tr>\n",
       "      <th>26</th>\n",
       "      <td>Bengals  Bengals</td>\n",
       "      <td>581</td>\n",
       "      <td>372</td>\n",
       "      <td>64.0</td>\n",
       "      <td>6.5</td>\n",
       "      <td>3793</td>\n",
       "      <td>19</td>\n",
       "      <td>11</td>\n",
       "      <td>85.7</td>\n",
       "      <td>201</td>\n",
       "      <td>34.6</td>\n",
       "      <td>35</td>\n",
       "      <td>5</td>\n",
       "      <td>72T</td>\n",
       "      <td>48</td>\n",
       "      <td>345</td>\n",
       "    </tr>\n",
       "    <tr>\n",
       "      <th>27</th>\n",
       "      <td>Bears  Bears</td>\n",
       "      <td>614</td>\n",
       "      <td>402</td>\n",
       "      <td>65.5</td>\n",
       "      <td>6.4</td>\n",
       "      <td>3925</td>\n",
       "      <td>26</td>\n",
       "      <td>16</td>\n",
       "      <td>86.5</td>\n",
       "      <td>218</td>\n",
       "      <td>35.5</td>\n",
       "      <td>42</td>\n",
       "      <td>3</td>\n",
       "      <td>53</td>\n",
       "      <td>36</td>\n",
       "      <td>270</td>\n",
       "    </tr>\n",
       "    <tr>\n",
       "      <th>28</th>\n",
       "      <td>Panthers  Panthers</td>\n",
       "      <td>550</td>\n",
       "      <td>373</td>\n",
       "      <td>67.8</td>\n",
       "      <td>7.5</td>\n",
       "      <td>4129</td>\n",
       "      <td>16</td>\n",
       "      <td>16</td>\n",
       "      <td>87.5</td>\n",
       "      <td>192</td>\n",
       "      <td>34.9</td>\n",
       "      <td>55</td>\n",
       "      <td>9</td>\n",
       "      <td>75T</td>\n",
       "      <td>36</td>\n",
       "      <td>241</td>\n",
       "    </tr>\n",
       "    <tr>\n",
       "      <th>29</th>\n",
       "      <td>Bills  Bills</td>\n",
       "      <td>596</td>\n",
       "      <td>410</td>\n",
       "      <td>68.8</td>\n",
       "      <td>8.0</td>\n",
       "      <td>4786</td>\n",
       "      <td>40</td>\n",
       "      <td>11</td>\n",
       "      <td>107.6</td>\n",
       "      <td>240</td>\n",
       "      <td>40.3</td>\n",
       "      <td>66</td>\n",
       "      <td>10</td>\n",
       "      <td>56T</td>\n",
       "      <td>27</td>\n",
       "      <td>166</td>\n",
       "    </tr>\n",
       "    <tr>\n",
       "      <th>30</th>\n",
       "      <td>Ravens  Ravens</td>\n",
       "      <td>406</td>\n",
       "      <td>257</td>\n",
       "      <td>63.3</td>\n",
       "      <td>7.2</td>\n",
       "      <td>2919</td>\n",
       "      <td>27</td>\n",
       "      <td>11</td>\n",
       "      <td>95.7</td>\n",
       "      <td>142</td>\n",
       "      <td>35.0</td>\n",
       "      <td>38</td>\n",
       "      <td>5</td>\n",
       "      <td>70T</td>\n",
       "      <td>32</td>\n",
       "      <td>180</td>\n",
       "    </tr>\n",
       "    <tr>\n",
       "      <th>31</th>\n",
       "      <td>Falcons  Falcons</td>\n",
       "      <td>628</td>\n",
       "      <td>408</td>\n",
       "      <td>65.0</td>\n",
       "      <td>7.4</td>\n",
       "      <td>4620</td>\n",
       "      <td>27</td>\n",
       "      <td>11</td>\n",
       "      <td>93.9</td>\n",
       "      <td>243</td>\n",
       "      <td>38.7</td>\n",
       "      <td>59</td>\n",
       "      <td>8</td>\n",
       "      <td>63</td>\n",
       "      <td>41</td>\n",
       "      <td>257</td>\n",
       "    </tr>\n",
       "  </tbody>\n",
       "</table>\n",
       "</div>"
      ],
      "text/plain": [
       "                            Team  Att  Cmp  Cmp %  Yds/Att  Pass Yds  TD  INT  \\\n",
       "0   Football Team  Football Team  601  389   64.7      6.3      3796  16   16   \n",
       "1         Buccaneers  Buccaneers  626  410   65.5      7.6      4776  42   12   \n",
       "2             Seahawks  Seahawks  563  388   68.9      7.5      4245  40   13   \n",
       "3                   49ers  49ers  570  371   65.1      7.6      4320  25   17   \n",
       "4             Chargers  Chargers  627  413   65.9      7.3      4548  31   10   \n",
       "5             Steelers  Steelers  656  428   65.2      6.3      4129  35   11   \n",
       "6           Cardinals  Cardinals  575  387   67.3      7.1      4102  27   13   \n",
       "7                 Eagles  Eagles  598  334   55.9      6.2      3728  22   20   \n",
       "8                     Jets  Jets  499  292   58.5      6.2      3115  16   14   \n",
       "9                 Giants  Giants  517  321   62.1      6.5      3336  12   11   \n",
       "10                Saints  Saints  522  370   70.9      7.6      3945  28    8   \n",
       "11            Patriots  Patriots  440  283   64.3      7.1      3124  12   14   \n",
       "12              Vikings  Vikings  516  349   67.6      8.3      4265  35   13   \n",
       "13            Dolphins  Dolphins  559  370   66.2      7.0      3937  24   13   \n",
       "14              Raiders  Raiders  551  369   67.0      8.0      4383  28   10   \n",
       "15                    Rams  Rams  590  392   66.4      7.1      4183  20   14   \n",
       "16                Chiefs  Chiefs  630  420   66.7      7.9      5005  40    7   \n",
       "17              Jaguars  Jaguars  616  387   62.8      6.4      3955  25   16   \n",
       "18                  Colts  Colts  552  371   67.2      7.6      4186  24   11   \n",
       "19                Texans  Texans  546  383   70.1      8.9      4843  33    7   \n",
       "20                Titans  Titans  485  316   65.2      7.9      3826  33    7   \n",
       "21              Packers  Packers  526  372   70.7      8.2      4299  48    5   \n",
       "22                  Lions  Lions  582  374   64.3      7.6      4397  27   13   \n",
       "23              Broncos  Broncos  556  317   57.0      6.6      3673  21   23   \n",
       "24              Cowboys  Cowboys  639  413   64.6      7.1      4511  25   13   \n",
       "25                Browns  Browns  501  315   62.9      7.4      3701  27    8   \n",
       "26              Bengals  Bengals  581  372   64.0      6.5      3793  19   11   \n",
       "27                  Bears  Bears  614  402   65.5      6.4      3925  26   16   \n",
       "28            Panthers  Panthers  550  373   67.8      7.5      4129  16   16   \n",
       "29                  Bills  Bills  596  410   68.8      8.0      4786  40   11   \n",
       "30                Ravens  Ravens  406  257   63.3      7.2      2919  27   11   \n",
       "31              Falcons  Falcons  628  408   65.0      7.4      4620  27   11   \n",
       "\n",
       "     Rate  1st  1st%  20+  40+  Lng  Sck  SckY  \n",
       "0    80.1  184  30.6   40    6  68T   50   331  \n",
       "1   102.8  238  38.0   67   12   50   22   150  \n",
       "2   105.0  216  38.4   45   11   62   48   304  \n",
       "3    90.1  217  38.1   55   10  76T   39   287  \n",
       "4    97.0  226  36.0   54   10  72T   34   219  \n",
       "5    93.5  206  31.4   48    7  84T   14   126  \n",
       "6    94.1  211  36.7   45   14  80T   29   186  \n",
       "7    72.9  177  29.6   43    9  81T   65   401  \n",
       "8    75.9  146  29.3   39    6  69T   43   319  \n",
       "9    79.6  178  34.4   36    5   53   50   310  \n",
       "10  104.1  199  38.1   44    9  52T   29   187  \n",
       "11   81.1  157  35.7   38    3   50   37   234  \n",
       "12  105.0  212  41.1   58    7  71T   39   256  \n",
       "13   91.2  207  37.0   40    4   70   34   201  \n",
       "14  100.4  206  37.4   59   12  85T   28   166  \n",
       "15   88.4  206  34.9   50    6  56T   25   169  \n",
       "16  107.3  255  40.5   69    8  75T   24   151  \n",
       "17   83.9  205  33.3   45    5  73T   44   256  \n",
       "18   95.9  201  36.4   56    8   55   21   133  \n",
       "19  112.3  222  40.7   70   11  77T   50   305  \n",
       "20  105.9  203  41.9   44   13  75T   25   173  \n",
       "21  121.5  216  41.1   57   14  78T   21   193  \n",
       "22   93.3  220  37.8   58    8   73   42   293  \n",
       "23   72.5  176  31.7   49   11  92T   32   222  \n",
       "24   89.9  231  36.2   50   11   69   44   350  \n",
       "25   96.6  195  38.9   45    5  75T   26   162  \n",
       "26   85.7  201  34.6   35    5  72T   48   345  \n",
       "27   86.5  218  35.5   42    3   53   36   270  \n",
       "28   87.5  192  34.9   55    9  75T   36   241  \n",
       "29  107.6  240  40.3   66   10  56T   27   166  \n",
       "30   95.7  142  35.0   38    5  70T   32   180  \n",
       "31   93.9  243  38.7   59    8   63   41   257  "
      ]
     },
     "execution_count": 27,
     "metadata": {},
     "output_type": "execute_result"
    }
   ],
   "source": [
    "# PRO-TIP: if you want to instantiate a new df variable from a previous df or list of dfs, \n",
    "# making a copy of the df will save you from a headache\n",
    "\n",
    "offense = deepcopy(nfl[0])\n",
    "offense"
   ]
  },
  {
   "cell_type": "code",
   "execution_count": 116,
   "metadata": {
    "ExecuteTime": {
     "end_time": "2021-03-16T16:40:41.035219Z",
     "start_time": "2021-03-16T16:40:41.015402Z"
    }
   },
   "outputs": [
    {
     "data": {
      "text/html": [
       "<div>\n",
       "<style scoped>\n",
       "    .dataframe tbody tr th:only-of-type {\n",
       "        vertical-align: middle;\n",
       "    }\n",
       "\n",
       "    .dataframe tbody tr th {\n",
       "        vertical-align: top;\n",
       "    }\n",
       "\n",
       "    .dataframe thead th {\n",
       "        text-align: right;\n",
       "    }\n",
       "</style>\n",
       "<table border=\"1\" class=\"dataframe\">\n",
       "  <thead>\n",
       "    <tr style=\"text-align: right;\">\n",
       "      <th></th>\n",
       "      <th>Team</th>\n",
       "      <th>Att</th>\n",
       "      <th>Cmp</th>\n",
       "      <th>Cmp %</th>\n",
       "      <th>Yds/Att</th>\n",
       "      <th>Pass Yds</th>\n",
       "      <th>TD</th>\n",
       "      <th>INT</th>\n",
       "      <th>Rate</th>\n",
       "      <th>1st</th>\n",
       "      <th>1st%</th>\n",
       "      <th>20+</th>\n",
       "      <th>40+</th>\n",
       "      <th>Lng</th>\n",
       "      <th>Sck</th>\n",
       "      <th>SckY</th>\n",
       "    </tr>\n",
       "  </thead>\n",
       "  <tbody>\n",
       "    <tr>\n",
       "      <th>0</th>\n",
       "      <td>Football Team  Football Team</td>\n",
       "      <td>601</td>\n",
       "      <td>389</td>\n",
       "      <td>64.7</td>\n",
       "      <td>6.3</td>\n",
       "      <td>3796</td>\n",
       "      <td>16</td>\n",
       "      <td>16</td>\n",
       "      <td>80.1</td>\n",
       "      <td>184</td>\n",
       "      <td>30.6</td>\n",
       "      <td>40</td>\n",
       "      <td>6</td>\n",
       "      <td>68T</td>\n",
       "      <td>50</td>\n",
       "      <td>331</td>\n",
       "    </tr>\n",
       "    <tr>\n",
       "      <th>1</th>\n",
       "      <td>Buccaneers  Buccaneers</td>\n",
       "      <td>626</td>\n",
       "      <td>410</td>\n",
       "      <td>65.5</td>\n",
       "      <td>7.6</td>\n",
       "      <td>4776</td>\n",
       "      <td>42</td>\n",
       "      <td>12</td>\n",
       "      <td>102.8</td>\n",
       "      <td>238</td>\n",
       "      <td>38.0</td>\n",
       "      <td>67</td>\n",
       "      <td>12</td>\n",
       "      <td>50</td>\n",
       "      <td>22</td>\n",
       "      <td>150</td>\n",
       "    </tr>\n",
       "    <tr>\n",
       "      <th>2</th>\n",
       "      <td>Seahawks  Seahawks</td>\n",
       "      <td>563</td>\n",
       "      <td>388</td>\n",
       "      <td>68.9</td>\n",
       "      <td>7.5</td>\n",
       "      <td>4245</td>\n",
       "      <td>40</td>\n",
       "      <td>13</td>\n",
       "      <td>105.0</td>\n",
       "      <td>216</td>\n",
       "      <td>38.4</td>\n",
       "      <td>45</td>\n",
       "      <td>11</td>\n",
       "      <td>62</td>\n",
       "      <td>48</td>\n",
       "      <td>304</td>\n",
       "    </tr>\n",
       "    <tr>\n",
       "      <th>3</th>\n",
       "      <td>49ers  49ers</td>\n",
       "      <td>570</td>\n",
       "      <td>371</td>\n",
       "      <td>65.1</td>\n",
       "      <td>7.6</td>\n",
       "      <td>4320</td>\n",
       "      <td>25</td>\n",
       "      <td>17</td>\n",
       "      <td>90.1</td>\n",
       "      <td>217</td>\n",
       "      <td>38.1</td>\n",
       "      <td>55</td>\n",
       "      <td>10</td>\n",
       "      <td>76T</td>\n",
       "      <td>39</td>\n",
       "      <td>287</td>\n",
       "    </tr>\n",
       "    <tr>\n",
       "      <th>4</th>\n",
       "      <td>Chargers  Chargers</td>\n",
       "      <td>627</td>\n",
       "      <td>413</td>\n",
       "      <td>65.9</td>\n",
       "      <td>7.3</td>\n",
       "      <td>4548</td>\n",
       "      <td>31</td>\n",
       "      <td>10</td>\n",
       "      <td>97.0</td>\n",
       "      <td>226</td>\n",
       "      <td>36.0</td>\n",
       "      <td>54</td>\n",
       "      <td>10</td>\n",
       "      <td>72T</td>\n",
       "      <td>34</td>\n",
       "      <td>219</td>\n",
       "    </tr>\n",
       "    <tr>\n",
       "      <th>5</th>\n",
       "      <td>Steelers  Steelers</td>\n",
       "      <td>656</td>\n",
       "      <td>428</td>\n",
       "      <td>65.2</td>\n",
       "      <td>6.3</td>\n",
       "      <td>4129</td>\n",
       "      <td>35</td>\n",
       "      <td>11</td>\n",
       "      <td>93.5</td>\n",
       "      <td>206</td>\n",
       "      <td>31.4</td>\n",
       "      <td>48</td>\n",
       "      <td>7</td>\n",
       "      <td>84T</td>\n",
       "      <td>14</td>\n",
       "      <td>126</td>\n",
       "    </tr>\n",
       "    <tr>\n",
       "      <th>6</th>\n",
       "      <td>Cardinals  Cardinals</td>\n",
       "      <td>575</td>\n",
       "      <td>387</td>\n",
       "      <td>67.3</td>\n",
       "      <td>7.1</td>\n",
       "      <td>4102</td>\n",
       "      <td>27</td>\n",
       "      <td>13</td>\n",
       "      <td>94.1</td>\n",
       "      <td>211</td>\n",
       "      <td>36.7</td>\n",
       "      <td>45</td>\n",
       "      <td>14</td>\n",
       "      <td>80T</td>\n",
       "      <td>29</td>\n",
       "      <td>186</td>\n",
       "    </tr>\n",
       "    <tr>\n",
       "      <th>7</th>\n",
       "      <td>Eagles  Eagles</td>\n",
       "      <td>598</td>\n",
       "      <td>334</td>\n",
       "      <td>55.9</td>\n",
       "      <td>6.2</td>\n",
       "      <td>3728</td>\n",
       "      <td>22</td>\n",
       "      <td>20</td>\n",
       "      <td>72.9</td>\n",
       "      <td>177</td>\n",
       "      <td>29.6</td>\n",
       "      <td>43</td>\n",
       "      <td>9</td>\n",
       "      <td>81T</td>\n",
       "      <td>65</td>\n",
       "      <td>401</td>\n",
       "    </tr>\n",
       "    <tr>\n",
       "      <th>8</th>\n",
       "      <td>Jets  Jets</td>\n",
       "      <td>499</td>\n",
       "      <td>292</td>\n",
       "      <td>58.5</td>\n",
       "      <td>6.2</td>\n",
       "      <td>3115</td>\n",
       "      <td>16</td>\n",
       "      <td>14</td>\n",
       "      <td>75.9</td>\n",
       "      <td>146</td>\n",
       "      <td>29.3</td>\n",
       "      <td>39</td>\n",
       "      <td>6</td>\n",
       "      <td>69T</td>\n",
       "      <td>43</td>\n",
       "      <td>319</td>\n",
       "    </tr>\n",
       "    <tr>\n",
       "      <th>9</th>\n",
       "      <td>Giants  Giants</td>\n",
       "      <td>517</td>\n",
       "      <td>321</td>\n",
       "      <td>62.1</td>\n",
       "      <td>6.5</td>\n",
       "      <td>3336</td>\n",
       "      <td>12</td>\n",
       "      <td>11</td>\n",
       "      <td>79.6</td>\n",
       "      <td>178</td>\n",
       "      <td>34.4</td>\n",
       "      <td>36</td>\n",
       "      <td>5</td>\n",
       "      <td>53</td>\n",
       "      <td>50</td>\n",
       "      <td>310</td>\n",
       "    </tr>\n",
       "    <tr>\n",
       "      <th>10</th>\n",
       "      <td>Saints  Saints</td>\n",
       "      <td>522</td>\n",
       "      <td>370</td>\n",
       "      <td>70.9</td>\n",
       "      <td>7.6</td>\n",
       "      <td>3945</td>\n",
       "      <td>28</td>\n",
       "      <td>8</td>\n",
       "      <td>104.1</td>\n",
       "      <td>199</td>\n",
       "      <td>38.1</td>\n",
       "      <td>44</td>\n",
       "      <td>9</td>\n",
       "      <td>52T</td>\n",
       "      <td>29</td>\n",
       "      <td>187</td>\n",
       "    </tr>\n",
       "    <tr>\n",
       "      <th>11</th>\n",
       "      <td>Patriots  Patriots</td>\n",
       "      <td>440</td>\n",
       "      <td>283</td>\n",
       "      <td>64.3</td>\n",
       "      <td>7.1</td>\n",
       "      <td>3124</td>\n",
       "      <td>12</td>\n",
       "      <td>14</td>\n",
       "      <td>81.1</td>\n",
       "      <td>157</td>\n",
       "      <td>35.7</td>\n",
       "      <td>38</td>\n",
       "      <td>3</td>\n",
       "      <td>50</td>\n",
       "      <td>37</td>\n",
       "      <td>234</td>\n",
       "    </tr>\n",
       "    <tr>\n",
       "      <th>12</th>\n",
       "      <td>Vikings  Vikings</td>\n",
       "      <td>516</td>\n",
       "      <td>349</td>\n",
       "      <td>67.6</td>\n",
       "      <td>8.3</td>\n",
       "      <td>4265</td>\n",
       "      <td>35</td>\n",
       "      <td>13</td>\n",
       "      <td>105.0</td>\n",
       "      <td>212</td>\n",
       "      <td>41.1</td>\n",
       "      <td>58</td>\n",
       "      <td>7</td>\n",
       "      <td>71T</td>\n",
       "      <td>39</td>\n",
       "      <td>256</td>\n",
       "    </tr>\n",
       "    <tr>\n",
       "      <th>13</th>\n",
       "      <td>Dolphins  Dolphins</td>\n",
       "      <td>559</td>\n",
       "      <td>370</td>\n",
       "      <td>66.2</td>\n",
       "      <td>7.0</td>\n",
       "      <td>3937</td>\n",
       "      <td>24</td>\n",
       "      <td>13</td>\n",
       "      <td>91.2</td>\n",
       "      <td>207</td>\n",
       "      <td>37.0</td>\n",
       "      <td>40</td>\n",
       "      <td>4</td>\n",
       "      <td>70</td>\n",
       "      <td>34</td>\n",
       "      <td>201</td>\n",
       "    </tr>\n",
       "    <tr>\n",
       "      <th>14</th>\n",
       "      <td>Raiders  Raiders</td>\n",
       "      <td>551</td>\n",
       "      <td>369</td>\n",
       "      <td>67.0</td>\n",
       "      <td>8.0</td>\n",
       "      <td>4383</td>\n",
       "      <td>28</td>\n",
       "      <td>10</td>\n",
       "      <td>100.4</td>\n",
       "      <td>206</td>\n",
       "      <td>37.4</td>\n",
       "      <td>59</td>\n",
       "      <td>12</td>\n",
       "      <td>85T</td>\n",
       "      <td>28</td>\n",
       "      <td>166</td>\n",
       "    </tr>\n",
       "    <tr>\n",
       "      <th>15</th>\n",
       "      <td>Rams  Rams</td>\n",
       "      <td>590</td>\n",
       "      <td>392</td>\n",
       "      <td>66.4</td>\n",
       "      <td>7.1</td>\n",
       "      <td>4183</td>\n",
       "      <td>20</td>\n",
       "      <td>14</td>\n",
       "      <td>88.4</td>\n",
       "      <td>206</td>\n",
       "      <td>34.9</td>\n",
       "      <td>50</td>\n",
       "      <td>6</td>\n",
       "      <td>56T</td>\n",
       "      <td>25</td>\n",
       "      <td>169</td>\n",
       "    </tr>\n",
       "    <tr>\n",
       "      <th>16</th>\n",
       "      <td>Chiefs  Chiefs</td>\n",
       "      <td>630</td>\n",
       "      <td>420</td>\n",
       "      <td>66.7</td>\n",
       "      <td>7.9</td>\n",
       "      <td>5005</td>\n",
       "      <td>40</td>\n",
       "      <td>7</td>\n",
       "      <td>107.3</td>\n",
       "      <td>255</td>\n",
       "      <td>40.5</td>\n",
       "      <td>69</td>\n",
       "      <td>8</td>\n",
       "      <td>75T</td>\n",
       "      <td>24</td>\n",
       "      <td>151</td>\n",
       "    </tr>\n",
       "    <tr>\n",
       "      <th>17</th>\n",
       "      <td>Jaguars  Jaguars</td>\n",
       "      <td>616</td>\n",
       "      <td>387</td>\n",
       "      <td>62.8</td>\n",
       "      <td>6.4</td>\n",
       "      <td>3955</td>\n",
       "      <td>25</td>\n",
       "      <td>16</td>\n",
       "      <td>83.9</td>\n",
       "      <td>205</td>\n",
       "      <td>33.3</td>\n",
       "      <td>45</td>\n",
       "      <td>5</td>\n",
       "      <td>73T</td>\n",
       "      <td>44</td>\n",
       "      <td>256</td>\n",
       "    </tr>\n",
       "    <tr>\n",
       "      <th>18</th>\n",
       "      <td>Colts  Colts</td>\n",
       "      <td>552</td>\n",
       "      <td>371</td>\n",
       "      <td>67.2</td>\n",
       "      <td>7.6</td>\n",
       "      <td>4186</td>\n",
       "      <td>24</td>\n",
       "      <td>11</td>\n",
       "      <td>95.9</td>\n",
       "      <td>201</td>\n",
       "      <td>36.4</td>\n",
       "      <td>56</td>\n",
       "      <td>8</td>\n",
       "      <td>55</td>\n",
       "      <td>21</td>\n",
       "      <td>133</td>\n",
       "    </tr>\n",
       "    <tr>\n",
       "      <th>19</th>\n",
       "      <td>Texans  Texans</td>\n",
       "      <td>546</td>\n",
       "      <td>383</td>\n",
       "      <td>70.1</td>\n",
       "      <td>8.9</td>\n",
       "      <td>4843</td>\n",
       "      <td>33</td>\n",
       "      <td>7</td>\n",
       "      <td>112.3</td>\n",
       "      <td>222</td>\n",
       "      <td>40.7</td>\n",
       "      <td>70</td>\n",
       "      <td>11</td>\n",
       "      <td>77T</td>\n",
       "      <td>50</td>\n",
       "      <td>305</td>\n",
       "    </tr>\n",
       "    <tr>\n",
       "      <th>20</th>\n",
       "      <td>Titans  Titans</td>\n",
       "      <td>485</td>\n",
       "      <td>316</td>\n",
       "      <td>65.2</td>\n",
       "      <td>7.9</td>\n",
       "      <td>3826</td>\n",
       "      <td>33</td>\n",
       "      <td>7</td>\n",
       "      <td>105.9</td>\n",
       "      <td>203</td>\n",
       "      <td>41.9</td>\n",
       "      <td>44</td>\n",
       "      <td>13</td>\n",
       "      <td>75T</td>\n",
       "      <td>25</td>\n",
       "      <td>173</td>\n",
       "    </tr>\n",
       "    <tr>\n",
       "      <th>21</th>\n",
       "      <td>Packers  Packers</td>\n",
       "      <td>526</td>\n",
       "      <td>372</td>\n",
       "      <td>70.7</td>\n",
       "      <td>8.2</td>\n",
       "      <td>4299</td>\n",
       "      <td>48</td>\n",
       "      <td>5</td>\n",
       "      <td>121.5</td>\n",
       "      <td>216</td>\n",
       "      <td>41.1</td>\n",
       "      <td>57</td>\n",
       "      <td>14</td>\n",
       "      <td>78T</td>\n",
       "      <td>21</td>\n",
       "      <td>193</td>\n",
       "    </tr>\n",
       "    <tr>\n",
       "      <th>22</th>\n",
       "      <td>Lions  Lions</td>\n",
       "      <td>582</td>\n",
       "      <td>374</td>\n",
       "      <td>64.3</td>\n",
       "      <td>7.6</td>\n",
       "      <td>4397</td>\n",
       "      <td>27</td>\n",
       "      <td>13</td>\n",
       "      <td>93.3</td>\n",
       "      <td>220</td>\n",
       "      <td>37.8</td>\n",
       "      <td>58</td>\n",
       "      <td>8</td>\n",
       "      <td>73</td>\n",
       "      <td>42</td>\n",
       "      <td>293</td>\n",
       "    </tr>\n",
       "    <tr>\n",
       "      <th>23</th>\n",
       "      <td>Broncos  Broncos</td>\n",
       "      <td>556</td>\n",
       "      <td>317</td>\n",
       "      <td>57.0</td>\n",
       "      <td>6.6</td>\n",
       "      <td>3673</td>\n",
       "      <td>21</td>\n",
       "      <td>23</td>\n",
       "      <td>72.5</td>\n",
       "      <td>176</td>\n",
       "      <td>31.7</td>\n",
       "      <td>49</td>\n",
       "      <td>11</td>\n",
       "      <td>92T</td>\n",
       "      <td>32</td>\n",
       "      <td>222</td>\n",
       "    </tr>\n",
       "    <tr>\n",
       "      <th>24</th>\n",
       "      <td>Cowboys  Cowboys</td>\n",
       "      <td>639</td>\n",
       "      <td>413</td>\n",
       "      <td>64.6</td>\n",
       "      <td>7.1</td>\n",
       "      <td>4511</td>\n",
       "      <td>25</td>\n",
       "      <td>13</td>\n",
       "      <td>89.9</td>\n",
       "      <td>231</td>\n",
       "      <td>36.2</td>\n",
       "      <td>50</td>\n",
       "      <td>11</td>\n",
       "      <td>69</td>\n",
       "      <td>44</td>\n",
       "      <td>350</td>\n",
       "    </tr>\n",
       "    <tr>\n",
       "      <th>25</th>\n",
       "      <td>Browns  Browns</td>\n",
       "      <td>501</td>\n",
       "      <td>315</td>\n",
       "      <td>62.9</td>\n",
       "      <td>7.4</td>\n",
       "      <td>3701</td>\n",
       "      <td>27</td>\n",
       "      <td>8</td>\n",
       "      <td>96.6</td>\n",
       "      <td>195</td>\n",
       "      <td>38.9</td>\n",
       "      <td>45</td>\n",
       "      <td>5</td>\n",
       "      <td>75T</td>\n",
       "      <td>26</td>\n",
       "      <td>162</td>\n",
       "    </tr>\n",
       "    <tr>\n",
       "      <th>26</th>\n",
       "      <td>Bengals  Bengals</td>\n",
       "      <td>581</td>\n",
       "      <td>372</td>\n",
       "      <td>64.0</td>\n",
       "      <td>6.5</td>\n",
       "      <td>3793</td>\n",
       "      <td>19</td>\n",
       "      <td>11</td>\n",
       "      <td>85.7</td>\n",
       "      <td>201</td>\n",
       "      <td>34.6</td>\n",
       "      <td>35</td>\n",
       "      <td>5</td>\n",
       "      <td>72T</td>\n",
       "      <td>48</td>\n",
       "      <td>345</td>\n",
       "    </tr>\n",
       "    <tr>\n",
       "      <th>27</th>\n",
       "      <td>Bears  Bears</td>\n",
       "      <td>614</td>\n",
       "      <td>402</td>\n",
       "      <td>65.5</td>\n",
       "      <td>6.4</td>\n",
       "      <td>3925</td>\n",
       "      <td>26</td>\n",
       "      <td>16</td>\n",
       "      <td>86.5</td>\n",
       "      <td>218</td>\n",
       "      <td>35.5</td>\n",
       "      <td>42</td>\n",
       "      <td>3</td>\n",
       "      <td>53</td>\n",
       "      <td>36</td>\n",
       "      <td>270</td>\n",
       "    </tr>\n",
       "    <tr>\n",
       "      <th>28</th>\n",
       "      <td>Panthers  Panthers</td>\n",
       "      <td>550</td>\n",
       "      <td>373</td>\n",
       "      <td>67.8</td>\n",
       "      <td>7.5</td>\n",
       "      <td>4129</td>\n",
       "      <td>16</td>\n",
       "      <td>16</td>\n",
       "      <td>87.5</td>\n",
       "      <td>192</td>\n",
       "      <td>34.9</td>\n",
       "      <td>55</td>\n",
       "      <td>9</td>\n",
       "      <td>75T</td>\n",
       "      <td>36</td>\n",
       "      <td>241</td>\n",
       "    </tr>\n",
       "    <tr>\n",
       "      <th>29</th>\n",
       "      <td>Bills  Bills</td>\n",
       "      <td>596</td>\n",
       "      <td>410</td>\n",
       "      <td>68.8</td>\n",
       "      <td>8.0</td>\n",
       "      <td>4786</td>\n",
       "      <td>40</td>\n",
       "      <td>11</td>\n",
       "      <td>107.6</td>\n",
       "      <td>240</td>\n",
       "      <td>40.3</td>\n",
       "      <td>66</td>\n",
       "      <td>10</td>\n",
       "      <td>56T</td>\n",
       "      <td>27</td>\n",
       "      <td>166</td>\n",
       "    </tr>\n",
       "    <tr>\n",
       "      <th>30</th>\n",
       "      <td>Ravens  Ravens</td>\n",
       "      <td>406</td>\n",
       "      <td>257</td>\n",
       "      <td>63.3</td>\n",
       "      <td>7.2</td>\n",
       "      <td>2919</td>\n",
       "      <td>27</td>\n",
       "      <td>11</td>\n",
       "      <td>95.7</td>\n",
       "      <td>142</td>\n",
       "      <td>35.0</td>\n",
       "      <td>38</td>\n",
       "      <td>5</td>\n",
       "      <td>70T</td>\n",
       "      <td>32</td>\n",
       "      <td>180</td>\n",
       "    </tr>\n",
       "    <tr>\n",
       "      <th>31</th>\n",
       "      <td>Falcons  Falcons</td>\n",
       "      <td>628</td>\n",
       "      <td>408</td>\n",
       "      <td>65.0</td>\n",
       "      <td>7.4</td>\n",
       "      <td>4620</td>\n",
       "      <td>27</td>\n",
       "      <td>11</td>\n",
       "      <td>93.9</td>\n",
       "      <td>243</td>\n",
       "      <td>38.7</td>\n",
       "      <td>59</td>\n",
       "      <td>8</td>\n",
       "      <td>63</td>\n",
       "      <td>41</td>\n",
       "      <td>257</td>\n",
       "    </tr>\n",
       "  </tbody>\n",
       "</table>\n",
       "</div>"
      ],
      "text/plain": [
       "                            Team  Att  Cmp  Cmp %  Yds/Att  Pass Yds  TD  INT  \\\n",
       "0   Football Team  Football Team  601  389   64.7      6.3      3796  16   16   \n",
       "1         Buccaneers  Buccaneers  626  410   65.5      7.6      4776  42   12   \n",
       "2             Seahawks  Seahawks  563  388   68.9      7.5      4245  40   13   \n",
       "3                   49ers  49ers  570  371   65.1      7.6      4320  25   17   \n",
       "4             Chargers  Chargers  627  413   65.9      7.3      4548  31   10   \n",
       "5             Steelers  Steelers  656  428   65.2      6.3      4129  35   11   \n",
       "6           Cardinals  Cardinals  575  387   67.3      7.1      4102  27   13   \n",
       "7                 Eagles  Eagles  598  334   55.9      6.2      3728  22   20   \n",
       "8                     Jets  Jets  499  292   58.5      6.2      3115  16   14   \n",
       "9                 Giants  Giants  517  321   62.1      6.5      3336  12   11   \n",
       "10                Saints  Saints  522  370   70.9      7.6      3945  28    8   \n",
       "11            Patriots  Patriots  440  283   64.3      7.1      3124  12   14   \n",
       "12              Vikings  Vikings  516  349   67.6      8.3      4265  35   13   \n",
       "13            Dolphins  Dolphins  559  370   66.2      7.0      3937  24   13   \n",
       "14              Raiders  Raiders  551  369   67.0      8.0      4383  28   10   \n",
       "15                    Rams  Rams  590  392   66.4      7.1      4183  20   14   \n",
       "16                Chiefs  Chiefs  630  420   66.7      7.9      5005  40    7   \n",
       "17              Jaguars  Jaguars  616  387   62.8      6.4      3955  25   16   \n",
       "18                  Colts  Colts  552  371   67.2      7.6      4186  24   11   \n",
       "19                Texans  Texans  546  383   70.1      8.9      4843  33    7   \n",
       "20                Titans  Titans  485  316   65.2      7.9      3826  33    7   \n",
       "21              Packers  Packers  526  372   70.7      8.2      4299  48    5   \n",
       "22                  Lions  Lions  582  374   64.3      7.6      4397  27   13   \n",
       "23              Broncos  Broncos  556  317   57.0      6.6      3673  21   23   \n",
       "24              Cowboys  Cowboys  639  413   64.6      7.1      4511  25   13   \n",
       "25                Browns  Browns  501  315   62.9      7.4      3701  27    8   \n",
       "26              Bengals  Bengals  581  372   64.0      6.5      3793  19   11   \n",
       "27                  Bears  Bears  614  402   65.5      6.4      3925  26   16   \n",
       "28            Panthers  Panthers  550  373   67.8      7.5      4129  16   16   \n",
       "29                  Bills  Bills  596  410   68.8      8.0      4786  40   11   \n",
       "30                Ravens  Ravens  406  257   63.3      7.2      2919  27   11   \n",
       "31              Falcons  Falcons  628  408   65.0      7.4      4620  27   11   \n",
       "\n",
       "     Rate  1st  1st%  20+  40+  Lng  Sck  SckY  \n",
       "0    80.1  184  30.6   40    6  68T   50   331  \n",
       "1   102.8  238  38.0   67   12   50   22   150  \n",
       "2   105.0  216  38.4   45   11   62   48   304  \n",
       "3    90.1  217  38.1   55   10  76T   39   287  \n",
       "4    97.0  226  36.0   54   10  72T   34   219  \n",
       "5    93.5  206  31.4   48    7  84T   14   126  \n",
       "6    94.1  211  36.7   45   14  80T   29   186  \n",
       "7    72.9  177  29.6   43    9  81T   65   401  \n",
       "8    75.9  146  29.3   39    6  69T   43   319  \n",
       "9    79.6  178  34.4   36    5   53   50   310  \n",
       "10  104.1  199  38.1   44    9  52T   29   187  \n",
       "11   81.1  157  35.7   38    3   50   37   234  \n",
       "12  105.0  212  41.1   58    7  71T   39   256  \n",
       "13   91.2  207  37.0   40    4   70   34   201  \n",
       "14  100.4  206  37.4   59   12  85T   28   166  \n",
       "15   88.4  206  34.9   50    6  56T   25   169  \n",
       "16  107.3  255  40.5   69    8  75T   24   151  \n",
       "17   83.9  205  33.3   45    5  73T   44   256  \n",
       "18   95.9  201  36.4   56    8   55   21   133  \n",
       "19  112.3  222  40.7   70   11  77T   50   305  \n",
       "20  105.9  203  41.9   44   13  75T   25   173  \n",
       "21  121.5  216  41.1   57   14  78T   21   193  \n",
       "22   93.3  220  37.8   58    8   73   42   293  \n",
       "23   72.5  176  31.7   49   11  92T   32   222  \n",
       "24   89.9  231  36.2   50   11   69   44   350  \n",
       "25   96.6  195  38.9   45    5  75T   26   162  \n",
       "26   85.7  201  34.6   35    5  72T   48   345  \n",
       "27   86.5  218  35.5   42    3   53   36   270  \n",
       "28   87.5  192  34.9   55    9  75T   36   241  \n",
       "29  107.6  240  40.3   66   10  56T   27   166  \n",
       "30   95.7  142  35.0   38    5  70T   32   180  \n",
       "31   93.9  243  38.7   59    8   63   41   257  "
      ]
     },
     "execution_count": 116,
     "metadata": {},
     "output_type": "execute_result"
    }
   ],
   "source": [
    "offense"
   ]
  },
  {
   "cell_type": "markdown",
   "metadata": {},
   "source": [
    "### The best example of when Selenium is supreme:\n",
    "\n",
    "When the page is written in JavaScript"
   ]
  },
  {
   "cell_type": "code",
   "execution_count": 33,
   "metadata": {
    "ExecuteTime": {
     "end_time": "2021-04-15T14:52:18.862198Z",
     "start_time": "2021-04-15T14:52:18.499235Z"
    }
   },
   "outputs": [],
   "source": [
    "html = requests.get('http://www.tennisabstract.com/cgi-bin/player.cgi?p=RogerFederer')\n",
    "bs = BeautifulSoup(html.content, 'lxml')\n",
    "table = bs.table\n",
    "\n",
    "# table = bs.find(lambda tag: tag.name=='table' ) \n",
    "# rows = table.findAll(lambda tag: tag.name=='tr')"
   ]
  },
  {
   "cell_type": "code",
   "execution_count": 34,
   "metadata": {
    "ExecuteTime": {
     "end_time": "2021-04-15T14:52:21.172630Z",
     "start_time": "2021-04-15T14:52:21.162392Z"
    }
   },
   "outputs": [
    {
     "data": {
      "text/plain": [
       "<html><head>\n",
       "<title>Tennis Abstract: Roger Federer ATP Match Results, Splits, and Analysis</title>\n",
       "<link href=\"http://www.minorleaguesplits.com/tennisabstract/blue/style.css\" rel=\"stylesheet\" type=\"text/css\"/>\n",
       "<script src=\"http://www.minorleaguesplits.com/tennisabstract/jquery-1.7.1-min.js\" type=\"text/javascript\"></script>\n",
       "<script src=\"http://www.minorleaguesplits.com/tennisabstract/jquery.tablesorter.js\" type=\"text/javascript\"></script>\n",
       "<script src=\"http://www.minorleaguesplits.com/tennisabstract/cgi-bin/frags/RogerFederer.js\" type=\"text/javascript\"></script>\n",
       "<script language=\"JavaScript\">\n",
       "var currentTime = new Date();\n",
       "var month = currentTime.getMonth() + 1;\n",
       "var day = currentTime.getDate();\n",
       "var year = currentTime.getFullYear().toString();\n",
       "var mm, dd;\n",
       "if (month < 10) {mm = '0' + month.toString();}\n",
       "else {mm = month.toString();}\n",
       "if (day < 10) {dd = '0' + day.toString();}\n",
       "else {dd = day.toString();}\n",
       "var today = year + mm + dd;\n",
       "var one_day=1000*60*60*24;\n",
       "var nameparam = 'RogerFederer';\n",
       "\n",
       "\n",
       "\n",
       "\n",
       "\n",
       "\n",
       "var fullname = 'Roger Federer';\n",
       "var lastname = 'Federer';\n",
       "var currentrank = 7;\n",
       "var peakrank = 1;\n",
       "var peakfirst = 20040202;\n",
       "var peaklast = 20180618;\n",
       "var dob = 19810808;\n",
       "var ht = 185;\n",
       "var hand = 'R';\n",
       "var backhand = '1';\n",
       "var country = 'SUI';\n",
       "var shortlist = 0;\n",
       "var careerjs = 0;\n",
       "var active = 1;\n",
       "var lastdate = 0;\n",
       "var twitter = 'rogerfederer';\n",
       "var current_dubs = \"UNR\";\n",
       "var peak_dubs = 24;\n",
       "var peakfirst_dubs = 20030609;\n",
       "var liverank = 5;\n",
       "var chartagg = 0;\n",
       "var photog = 'sirobi';\n",
       "var photog_credit = 'si.robi';\n",
       "var photog_link = 'https://www.flickr.com/photos/sirobi';\n",
       "var itf_id = '10019424';\n",
       "var atp_id = 'roger-federer/f324';\n",
       "var dc_id = '800202678';\n",
       "var wiki_id = 'Roger_Federer';\n",
       "\n",
       "\n",
       "var fourspaces = \"\\u00a0\\u00a0\\u00a0\\u00a0\";\n",
       "                  \n",
       "function make(tag, attr, cont) {\n",
       "    if (arguments.length == 2 && (attr instanceof Array || typeof attr == \"string\")) {\n",
       "        cont = attr;\n",
       "        attributes = null;\n",
       "        }\n",
       "    var open = \"<\" + tag;\n",
       "    var close = \"</\" + tag + \">\";\n",
       "    if (attr) {\n",
       "\tfor(var name in attr) {\n",
       "            attx = \" \" + name + '=\"' + attr[name] + '\"';\n",
       "\t    open = open.concat(attx);\n",
       "            }\n",
       "        }\n",
       "    open = open.concat(\">\");\n",
       "    if (cont instanceof Array) {\n",
       "\tvar content = cont.join(\"\");\n",
       "\t}\n",
       "    else {\n",
       "\tvar content = cont;\n",
       "\t} \n",
       "    var elem = open + content + close;\n",
       "    return elem;\n",
       "    }\n",
       "\n",
       "function sortRev(a,b) {return b - a;}\n",
       "\n",
       "var rmonths = {'Jan': '01',\n",
       "                'Feb': '02',\n",
       "                'Mar': '03',\n",
       "                'Apr': '04',\n",
       "                'May': '05',\n",
       "                'Jun': '06',\n",
       "                'Jul': '07',\n",
       "                'Aug': '08',\n",
       "                'Sep': '09',\n",
       "                'Oct': '10',\n",
       "                'Nov': '11',\n",
       "                'Dec': '12'\n",
       "                };\n",
       "\n",
       "var months = {'01': 'Jan',\n",
       "                '02': 'Feb',\n",
       "                '03': 'Mar',\n",
       "                '04': 'Apr',\n",
       "                '05': 'May',\n",
       "                '06': 'Jun',\n",
       "                '07': 'Jul',\n",
       "                '08': 'Aug',\n",
       "                '09': 'Sep',\n",
       "                '10': 'Oct',\n",
       "                '11': 'Nov',\n",
       "                '12': 'Dec'\n",
       "                };                        \n",
       "\n",
       "var bhdict = {'1': 'one', '2': 'two'};\n",
       "\n",
       "function insertPictureBio() {\n",
       "    var plname = '<span style=\"font-size:18px\"><b>' + fullname + ' [' + country + ']</b></span>';\n",
       "    if (typeof dob === 'undefined') {var birthdate = '';}\n",
       "    else {\n",
       "        var bd = dob.toString();\n",
       "        var birthdate = 'Date of birth: ' + bd.slice(6) + '-' + months[bd.slice(4, 6)] + '-' + bd.slice(0, 4);\n",
       "        }\n",
       "\n",
       "    var pic_src = 'http://www.tennisabstract.com/photos/' + fullname.toLowerCase().replace(/ /g, \"_\") + '-' + photog + '.jpg'\n",
       "    // background-color:d3d3d3; \n",
       "    var biotable = '<p id=\"biog\"><table style=\"border-spacing:0\"><tr><td><img src=\"' + pic_src + '\" height=\"225\" width=\"150\"></td>'\n",
       "    biotable = biotable + '<td>&nbsp;&nbsp;</td><td style=\"vertical-align:top\">'\n",
       "    biotable = biotable + '<table cellpadding=2 cellspacing=1><tr><td>' + plname + fourspaces + fourspaces + '</td></tr>';  \n",
       "\n",
       "    if (typeof twitter != 'undefined' && twitter != \"\") {\n",
       "        var tline = '<a href=\"https://twitter.com/' + twitter + '\" target=\"_blank\">@' + twitter + '</a>';\n",
       "        biotable = biotable + '<tr><td>' + tline + '</td></tr>';\n",
       "        }\n",
       "    else {\n",
       "        biotable = biotable + '<tr><td>&nbsp;</td></tr>'; \n",
       "        }\n",
       "\n",
       "    biotable = biotable + '<tr><td>' + birthdate + '</td></tr>';\n",
       "    var handed;\n",
       "    if (hand == 'R') {handed = 'Plays: Right-handed';}\n",
       "    else if (hand == 'L') {handed = 'Plays: Left-handed';}\n",
       "    else {handed = '';}\n",
       "    if (typeof backhand != 'undefined' && backhand != '') {handed = handed.slice(0,-7) + ' (' + bhdict[backhand] + '-handed backhand)';}\n",
       "    if (handed != '') {\n",
       "        biotable = biotable + '<tr><td>' + handed + '</td></tr>'; \n",
       "        }\n",
       "\n",
       "    if (currentrank == '') {var crank = '';}\n",
       "    else {var crank = 'Current rank: <b>'+currentrank.toString()+'</b>'}; \n",
       "    //if (typeof liverank != 'undefined' && liverank != '') {var lrank = '&nbsp;&nbsp;&nbsp;<a target=\"_blank\" href=\"http://live-tennis.eu/\"><i>Live: ' + liverank.toString() + '</i></a>';}\n",
       "    //else {var lrank = '';} \n",
       "    var lrank = '';\n",
       "    if (crank != '') {\n",
       "        biotable = biotable + '<tr><td>' + crank + lrank + '</td></tr>'; \n",
       "        }  \n",
       "\n",
       "    if (peakrank != 'UNR') {var prank = 'Peak rank: <b>' + peakrank.toString()+'</b>';}\n",
       "    else {var prank = '';}\n",
       "    if (peakfirst != '') {\n",
       "    \tvar pf = peakfirst.toString();\n",
       "    \tprank = prank + ' (' + pf.slice(6) + '-' + months[pf.slice(4, 6)] + '-' + pf.slice(0, 4) + ')';\n",
       "    \t}\n",
       "    if (prank != '') {\n",
       "        biotable = biotable + '<tr><td>' + prank + '</td></tr>'; \n",
       "        } \n",
       "        \n",
       "    if (peak_dubs == \"\" || peakfirst_dubs == \"\") {\n",
       "        var drank = '&nbsp;';\n",
       "        }\n",
       "    else if (typeof current_dubs === 'undefined' || current_dubs == \"\" || current_dubs == \"UNR\") {\n",
       "        if (!(typeof peak_dubs === 'undefined' || peak_dubs == \"\")) {\n",
       "            var drank = \"Doubles peak: <b>\" + peak_dubs.toString() + '</b>'\n",
       "            var pfd = peakfirst_dubs.toString();\n",
       "            drank = drank + ' (' + pfd.slice(6) + '-' + months[pfd.slice(4, 6)] + '-' + pfd.slice(0, 4) + ')';\n",
       "            }\n",
       "        else {drank = \"&nbsp;\";}\n",
       "        }\n",
       "    else {\n",
       "        var drank = \"Doubles rank: <b>\" + current_dubs.toString() + '</b>&nbsp;|&nbsp;';\n",
       "        drank = drank + 'Peak: <b>' + peak_dubs.toString() + '</b>'\n",
       "        }\n",
       "    biotable = biotable + '<tr><td>' + drank + '</td></tr>'; \n",
       "        \n",
       "    var profiles = '';\n",
       "    if (typeof atp_id != 'undefined' && atp_id != \"\") {\n",
       "        var atp_stem = \"http://www.atpworldtour.com/en/players/\";\n",
       "        profiles = profiles + '<a href=\"' + atp_stem + atp_id + '/overview\" target=\"_blank\" title=\"Profile at atpworldtour.com\">ATP</a> | ';\n",
       "        }   \n",
       "    if (typeof itf_id != 'undefined' && itf_id != \"\") {\n",
       "        var itf_stem = \"http://www.itftennis.com/procircuit/players/player/profile.aspx?playerid=\";\n",
       "        profiles = profiles + '<a href=\"' + itf_stem + itf_id + '\" target=\"_blank\" title=\"Profile at the ITF website\">ITF</a> | ';\n",
       "        }\n",
       "    if (typeof dc_id != 'undefined' && dc_id != \"\") {\n",
       "        var dc_stem = \"http://www.daviscup.com/en/players/player.aspx?id=\";\n",
       "        profiles = profiles + '<a href=\"' + dc_stem + dc_id + '\" target=\"_blank\" title=\"Profile at Davis Cup website\">DC</a> | ';\n",
       "        }\n",
       "    if (typeof wiki_id != 'undefined' && wiki_id != \"\") {\n",
       "        var wiki_stem = \"https://en.wikipedia.org/wiki/\";\n",
       "        profiles = profiles + '<a href=\"' + wiki_stem + wiki_id + '\" target=\"_blank\" title=\"Profile at Wikipedia\">Wiki</a> | '  ;\n",
       "        }\n",
       "        \n",
       "    if (profiles != '') {\n",
       "        biotable = biotable + '<tr><td>Profiles: ' + profiles.slice(0,-3) + '</td><td>&nbsp;</td></tr>';\n",
       "        } \n",
       "    else {\n",
       "        biotable = biotable + '<tr><td>&nbsp;</td></tr>'; \n",
       "        } \n",
       "\n",
       "    biotable = biotable + '<tr><td>&nbsp;</td></tr>';\n",
       "    biotable = biotable + '<tr><td>' + '<i>Photo: <a target=\"_blank\" href=\"' + photog_link + '\">' + photog_credit + '</a></i></td></tr>';\n",
       "\n",
       "    $(\"#bio\").html(biotable + '</table></td><td>&nbsp;&nbsp;</td></tr></table></p>');\n",
       "    }\n",
       "\n",
       "function insertBio() {\n",
       "    var plname = '<span style=\"font-size:18px\"><b>' + fullname + ' [' + country + ']</b></span>';\n",
       "    if (typeof dob === 'undefined') {var birthdate = '';}\n",
       "    else {\n",
       "        var bd = dob.toString();\n",
       "        var birthdate = 'Date of birth: ' + bd.slice(6) + '-' + months[bd.slice(4, 6)] + '-' + bd.slice(0, 4);\n",
       "        }\n",
       "    var handed;\n",
       "    if (hand == 'R') {handed = 'Plays: Right-handed';}\n",
       "    else if (hand == 'L') {handed = 'Plays: Left-handed';}\n",
       "    else {handed = '';}\n",
       "    if (typeof backhand != 'undefined' && backhand != '') {handed = handed.slice(0,-7) + ' (' + bhdict[backhand] + '-handed backhand)';}\n",
       "    if (currentrank == '') {var crank = '';}\n",
       "    else {var crank = 'Current rank: <b>'+currentrank.toString()+'</b>'}; \n",
       "    // if (typeof liverank != 'undefined' && liverank != '') {var lrank = '&nbsp;&nbsp;&nbsp;<a target=\"_blank\" href=\"http://live-tennis.eu/\"><i>Live: ' + liverank.toString() + '</i></a>';}\n",
       "    // else {var lrank = '';}\n",
       "    var lrank = '';\n",
       "    if (peakrank != 'UNR') {var prank = 'Peak rank: <b>' + peakrank.toString()+'</b>';}\n",
       "    else {var prank = '';}\n",
       "    if (peakfirst != '') {\n",
       "    \tvar pf = peakfirst.toString();\n",
       "    \tprank = prank + ' (' + pf.slice(6) + '-' + months[pf.slice(4, 6)] + '-' + pf.slice(0, 4) + ')';\n",
       "    \t}\n",
       "    //if (typeof twitter != 'undefined' && twitter != \"\") {var tline = 'Twitter: <a href=\"https://twitter.com/' + twitter + '\" target=\"_blank\">@' + twitter + '</a>';}\n",
       "    if (typeof twitter != 'undefined' && twitter != \"\") {var tline = '<a href=\"https://twitter.com/' + twitter + '\" target=\"_blank\">@' + twitter + '</a>';}\n",
       "    else {var tline = '';}\n",
       "    var biotable = '<p id=\"biog\"><table cellpadding=1 cellspacing=1><tr><td>' + plname + fourspaces + fourspaces + '</td><td>' + tline + '</td></tr>';\n",
       "    if (birthdate != '') {var rowtwo = '<tr><td>' + birthdate + fourspaces + fourspaces + '</td><td>' + handed + '</td></tr>';}\n",
       "    else {var rowtwo = '<tr><td>' + handed + '</td><td>&nbsp;</td></tr>';}\n",
       "    if (crank != '') {var rowthree = '<tr><td>' + crank + lrank + '</td><td>' + prank + '</td></tr>';}\n",
       "    else {var rowthree = '<tr><td>' + prank + '</td><td>&nbsp;</td></tr>';}\n",
       "    \n",
       "    var profiles = '';\n",
       "    if (typeof atp_id != 'undefined' && atp_id != \"\") {\n",
       "        var atp_stem = \"http://www.atpworldtour.com/en/players/\";\n",
       "        profiles = profiles + '<a href=\"' + atp_stem + atp_id + '/overview\" target=\"_blank\" title=\"Profile at atpworldtour.com\">ATP</a> | ';\n",
       "        }   \n",
       "    if (typeof itf_id != 'undefined' && itf_id != \"\") {\n",
       "        var itf_stem = \"http://www.itftennis.com/procircuit/players/player/profile.aspx?playerid=\";\n",
       "        profiles = profiles + '<a href=\"' + itf_stem + itf_id + '\" target=\"_blank\" title=\"Profile at the ITF website\">ITF</a> | ';\n",
       "        }\n",
       "    if (typeof dc_id != 'undefined' && dc_id != \"\") {\n",
       "        var dc_stem = \"http://www.daviscup.com/en/players/player.aspx?id=\";\n",
       "        profiles = profiles + '<a href=\"' + dc_stem + dc_id + '\" target=\"_blank\" title=\"Profile at Davis Cup website\">DC</a> | ';\n",
       "        }\n",
       "    if (typeof wiki_id != 'undefined' && wiki_id != \"\") {\n",
       "        var wiki_stem = \"https://en.wikipedia.org/wiki/\";\n",
       "        profiles = profiles + '<a href=\"' + wiki_stem + wiki_id + '\" target=\"_blank\" title=\"Profile at Wikipedia\">Wiki</a> | '  ;\n",
       "        }\n",
       "        \n",
       "    if (profiles != '') {\n",
       "        var profile_row = '<tr><td>Profiles: ' + profiles.slice(0,-3) + '</td><td>&nbsp;</td></tr>';\n",
       "        } \n",
       "    else {var profile_row = '<tr><td>&nbsp;</td><td>&nbsp;</td></tr>';}      \n",
       "\n",
       "    $(\"#bio\").html(biotable + rowtwo + rowthree + profile_row + '</table></p>');\n",
       "    }    \n",
       "\n",
       "$(document).ready(function() { \n",
       "\n",
       "    if (typeof photog == 'undefined' || photog == '') {\n",
       "        insertBio();\n",
       "        }\n",
       "    else {\n",
       "        insertPictureBio();\n",
       "        }\n",
       "        \n",
       "    $(\"#main\").html(player_frag)\n",
       "    $(\"#menu\").html(frag_menu)\n",
       "    \n",
       "    $(\"#recent-results\").attr('border', 0).attr('cellspacing', 0).attr('cellpadding', 4);\n",
       "    $(\"#recent-results\").tablesorter( {headers: {0: {sorter:false}, 1: {sorter:false}, 2: {sorter:false}, 3: {sorter:false},\n",
       "                                                 4: {sorter:false}, 5: {sorter:false}, 6: {sorter:false}, 7: {sorter:false},\n",
       "                                                8: {sorter:false}, 9: {sorter:false}, 10: {sorter:false}, 11: {sorter:false},\n",
       "                                                12: {sorter:false}, 13: {sorter:false}, 14: {sorter:false}, 15: {sorter:false},\n",
       "                                                16: {sorter:false}, 17: {sorter:false}, 18: {sorter:false}, 19: {sorter:false},\n",
       "                                                20: {sorter:false}, 21: {sorter:false}, 22: {sorter:false}, 23: {sorter:false},\n",
       "                                                24: {sorter:false}, 25: {sorter:false}, 26: {sorter:false}, 27: {sorter:false}\n",
       "                                    }}\n",
       "                                   );\n",
       "                                   \n",
       "    $(\"#recent-events\").attr('border', 0).attr('cellspacing', 0).attr('cellpadding', 4);\n",
       "    $(\"#recent-events\").tablesorter( {headers: {0: {sorter:false}, 1: {sorter:false}, 2: {sorter:false}, 3: {sorter:false},\n",
       "                                                 4: {sorter:false}, 5: {sorter:false}, 6: {sorter:false}, 7: {sorter:false},\n",
       "                                                8: {sorter:false}, 9: {sorter:false}, 10: {sorter:false}, 11: {sorter:false},\n",
       "                                                12: {sorter:false}, 13: {sorter:false}, 14: {sorter:false}, 15: {sorter:false},\n",
       "                                                16: {sorter:false}, 17: {sorter:false}, 18: {sorter:false}, 19: {sorter:false},\n",
       "                                                20: {sorter:false}, 21: {sorter:false}, 22: {sorter:false}, 23: {sorter:false},\n",
       "                                                24: {sorter:false}, 25: {sorter:false}, 26: {sorter:false}, 27: {sorter:false}\n",
       "                                    }}\n",
       "                                   );                                   \n",
       "\n",
       "    $(\"#recent-finals\").attr('border', 0).attr('cellspacing', 0).attr('cellpadding', 4);\n",
       "    $(\"#recent-finals\").tablesorter( {headers: {0: {sorter:false}, 1: {sorter:false}, 2: {sorter:false}, 3: {sorter:false},\n",
       "                                                 4: {sorter:false}, 5: {sorter:false}, 6: {sorter:false}, 7: {sorter:false},\n",
       "                                                8: {sorter:false}, 9: {sorter:false}, 10: {sorter:false}, 11: {sorter:false},\n",
       "                                                12: {sorter:false}, 13: {sorter:false}, 14: {sorter:false}, 15: {sorter:false},\n",
       "                                                16: {sorter:false}, 17: {sorter:false}, 18: {sorter:false}, 19: {sorter:false},\n",
       "                                                20: {sorter:false}, 21: {sorter:false}, 22: {sorter:false}, 23: {sorter:false},\n",
       "                                                24: {sorter:false}, 25: {sorter:false}, 26: {sorter:false}, 27: {sorter:false}\n",
       "                                    }}\n",
       "                                   );\n",
       "                                   \n",
       "    $(\"#tour-years\").attr('border', 0).attr('cellspacing', 0).attr('cellpadding', 4);\n",
       "    $(\"#tour-years\").tablesorter( {headers: {0: {sorter:false}, 1: {sorter:false}, 2: {sorter:false}, 3: {sorter:false},\n",
       "                                                 4: {sorter:false}, 5: {sorter:false}, 6: {sorter:false}, 7: {sorter:false},\n",
       "                                                8: {sorter:false}, 9: {sorter:false}, 10: {sorter:false}, 11: {sorter:false},\n",
       "                                                12: {sorter:false}, 13: {sorter:false}, 14: {sorter:false}, 15: {sorter:false},\n",
       "                                                16: {sorter:false}, 17: {sorter:false}, 18: {sorter:false}, 19: {sorter:false},\n",
       "                                                20: {sorter:false}, 21: {sorter:false}, 22: {sorter:false}, 23: {sorter:false},\n",
       "                                                24: {sorter:false}, 25: {sorter:false}, 26: {sorter:false}, 27: {sorter:false}\n",
       "                                    }}\n",
       "                                   );\n",
       "                                   \n",
       "    $(\"#chall-years\").attr('border', 0).attr('cellspacing', 0).attr('cellpadding', 4);\n",
       "    $(\"#chall-years\").tablesorter( {headers: {0: {sorter:false}, 1: {sorter:false}, 2: {sorter:false}, 3: {sorter:false},\n",
       "                                                 4: {sorter:false}, 5: {sorter:false}, 6: {sorter:false}, 7: {sorter:false},\n",
       "                                                8: {sorter:false}, 9: {sorter:false}, 10: {sorter:false}, 11: {sorter:false},\n",
       "                                                12: {sorter:false}, 13: {sorter:false}, 14: {sorter:false}, 15: {sorter:false},\n",
       "                                                16: {sorter:false}, 17: {sorter:false}, 18: {sorter:false}, 19: {sorter:false},\n",
       "                                                20: {sorter:false}, 21: {sorter:false}, 22: {sorter:false}, 23: {sorter:false},\n",
       "                                                24: {sorter:false}, 25: {sorter:false}, 26: {sorter:false}, 27: {sorter:false}\n",
       "                                    }}\n",
       "                                   );\n",
       "                                   \n",
       "    $(\"#career-splits\").attr('border', 0).attr('cellspacing', 0).attr('cellpadding', 4);\n",
       "    $(\"#career-splits\").tablesorter( {headers: {0: {sorter:false}, 1: {sorter:false}, 2: {sorter:false}, 3: {sorter:false},\n",
       "                                                 4: {sorter:false}, 5: {sorter:false}, 6: {sorter:false}, 7: {sorter:false},\n",
       "                                                8: {sorter:false}, 9: {sorter:false}, 10: {sorter:false}, 11: {sorter:false},\n",
       "                                                12: {sorter:false}, 13: {sorter:false}, 14: {sorter:false}, 15: {sorter:false},\n",
       "                                                16: {sorter:false}, 17: {sorter:false}, 18: {sorter:false}, 19: {sorter:false},\n",
       "                                                20: {sorter:false}, 21: {sorter:false}, 22: {sorter:false}, 23: {sorter:false},\n",
       "                                                24: {sorter:false}, 25: {sorter:false}, 26: {sorter:false}, 27: {sorter:false}\n",
       "                                    }}\n",
       "                                   );\n",
       "                                   \n",
       "    $(\"#last52-splits\").attr('border', 0).attr('cellspacing', 0).attr('cellpadding', 4);\n",
       "    $(\"#last52-splits\").tablesorter( {headers: {0: {sorter:false}, 1: {sorter:false}, 2: {sorter:false}, 3: {sorter:false},\n",
       "                                                 4: {sorter:false}, 5: {sorter:false}, 6: {sorter:false}, 7: {sorter:false},\n",
       "                                                8: {sorter:false}, 9: {sorter:false}, 10: {sorter:false}, 11: {sorter:false},\n",
       "                                                12: {sorter:false}, 13: {sorter:false}, 14: {sorter:false}, 15: {sorter:false},\n",
       "                                                16: {sorter:false}, 17: {sorter:false}, 18: {sorter:false}, 19: {sorter:false},\n",
       "                                                20: {sorter:false}, 21: {sorter:false}, 22: {sorter:false}, 23: {sorter:false},\n",
       "                                                24: {sorter:false}, 25: {sorter:false}, 26: {sorter:false}, 27: {sorter:false}\n",
       "                                    }}\n",
       "                                   );\n",
       "                                   \n",
       "    $(\"#news-analysis\").attr('border', 0).attr('cellspacing', 0).attr('cellpadding', 4);\n",
       "    $(\"#news-analysis\").tablesorter( {headers: {0: {sorter:false}, 1: {sorter:false}, 2: {sorter:false}, 3: {sorter:false},\n",
       "                                                 4: {sorter:false}, 5: {sorter:false}, 6: {sorter:false}, 7: {sorter:false},\n",
       "                                                8: {sorter:false}, 9: {sorter:false}, 10: {sorter:false}, 11: {sorter:false},\n",
       "                                                12: {sorter:false}, 13: {sorter:false}, 14: {sorter:false}, 15: {sorter:false},\n",
       "                                                16: {sorter:false}, 17: {sorter:false}, 18: {sorter:false}, 19: {sorter:false},\n",
       "                                                20: {sorter:false}, 21: {sorter:false}, 22: {sorter:false}, 23: {sorter:false},\n",
       "                                                24: {sorter:false}, 25: {sorter:false}, 26: {sorter:false}, 27: {sorter:false}\n",
       "                                    }}\n",
       "                                   );\n",
       "                                   \n",
       "    $(\"#mcp-serve\").attr('border', 0).attr('cellspacing', 0).attr('cellpadding', 4);\n",
       "    $(\"#mcp-serve\").tablesorter( {headers: {0: {sorter:false}, 1: {sorter:false}, 2: {sorter:false}, 3: {sorter:false},\n",
       "                                                 4: {sorter:false}, 5: {sorter:false}, 6: {sorter:false}, 7: {sorter:false},\n",
       "                                                8: {sorter:false}, 9: {sorter:false}, 10: {sorter:false}, 11: {sorter:false},\n",
       "                                                12: {sorter:false}, 13: {sorter:false}, 14: {sorter:false}, 15: {sorter:false},\n",
       "                                                16: {sorter:false}, 17: {sorter:false}, 18: {sorter:false}, 19: {sorter:false},\n",
       "                                                20: {sorter:false}, 21: {sorter:false}, 22: {sorter:false}, 23: {sorter:false},\n",
       "                                                24: {sorter:false}, 25: {sorter:false}, 26: {sorter:false}, 27: {sorter:false}\n",
       "                                    }}\n",
       "                                   );\n",
       "                                   \n",
       "    $(\"#mcp-return\").attr('border', 0).attr('cellspacing', 0).attr('cellpadding', 4);\n",
       "    $(\"#mcp-return\").tablesorter( {headers: {0: {sorter:false}, 1: {sorter:false}, 2: {sorter:false}, 3: {sorter:false},\n",
       "                                                 4: {sorter:false}, 5: {sorter:false}, 6: {sorter:false}, 7: {sorter:false},\n",
       "                                                8: {sorter:false}, 9: {sorter:false}, 10: {sorter:false}, 11: {sorter:false},\n",
       "                                                12: {sorter:false}, 13: {sorter:false}, 14: {sorter:false}, 15: {sorter:false},\n",
       "                                                16: {sorter:false}, 17: {sorter:false}, 18: {sorter:false}, 19: {sorter:false},\n",
       "                                                20: {sorter:false}, 21: {sorter:false}, 22: {sorter:false}, 23: {sorter:false},\n",
       "                                                24: {sorter:false}, 25: {sorter:false}, 26: {sorter:false}, 27: {sorter:false}\n",
       "                                    }}\n",
       "                                   );\n",
       "                                   \n",
       "    $(\"#mcp-rally\").attr('border', 0).attr('cellspacing', 0).attr('cellpadding', 4);\n",
       "    $(\"#mcp-rally\").tablesorter( {headers: {0: {sorter:false}, 1: {sorter:false}, 2: {sorter:false}, 3: {sorter:false},\n",
       "                                                 4: {sorter:false}, 5: {sorter:false}, 6: {sorter:false}, 7: {sorter:false},\n",
       "                                                8: {sorter:false}, 9: {sorter:false}, 10: {sorter:false}, 11: {sorter:false},\n",
       "                                                12: {sorter:false}, 13: {sorter:false}, 14: {sorter:false}, 15: {sorter:false},\n",
       "                                                16: {sorter:false}, 17: {sorter:false}, 18: {sorter:false}, 19: {sorter:false},\n",
       "                                                20: {sorter:false}, 21: {sorter:false}, 22: {sorter:false}, 23: {sorter:false},\n",
       "                                                24: {sorter:false}, 25: {sorter:false}, 26: {sorter:false}, 27: {sorter:false}\n",
       "                                    }}\n",
       "                                   );\n",
       "\n",
       "    $(\"#mcp-tactics\").attr('border', 0).attr('cellspacing', 0).attr('cellpadding', 4);\n",
       "    $(\"#mcp-tactics\").tablesorter( {headers: {0: {sorter:false}, 1: {sorter:false}, 2: {sorter:false}, 3: {sorter:false},\n",
       "                                                 4: {sorter:false}, 5: {sorter:false}, 6: {sorter:false}, 7: {sorter:false},\n",
       "                                                8: {sorter:false}, 9: {sorter:false}, 10: {sorter:false}, 11: {sorter:false},\n",
       "                                                12: {sorter:false}, 13: {sorter:false}, 14: {sorter:false}, 15: {sorter:false},\n",
       "                                                16: {sorter:false}, 17: {sorter:false}, 18: {sorter:false}, 19: {sorter:false},\n",
       "                                                20: {sorter:false}, 21: {sorter:false}, 22: {sorter:false}, 23: {sorter:false},\n",
       "                                                24: {sorter:false}, 25: {sorter:false}, 26: {sorter:false}, 27: {sorter:false}\n",
       "                                    }}\n",
       "                                   );\n",
       "                                   \n",
       "    $(\"#head-to-heads\").attr('border', 0).attr('cellspacing', 0).attr('cellpadding', 4);\n",
       "    $(\"#head-to-heads\").tablesorter( {headers: {0: {sorter:false}, 1: {sorter:false}, 2: {sorter:false}, 3: {sorter:false},\n",
       "                                                 4: {sorter:false}, 5: {sorter:false}, 6: {sorter:false}, 7: {sorter:false},\n",
       "                                                8: {sorter:false}, 9: {sorter:false}, 10: {sorter:false}, 11: {sorter:false},\n",
       "                                                12: {sorter:false}, 13: {sorter:false}, 14: {sorter:false}, 15: {sorter:false},\n",
       "                                                16: {sorter:false}, 17: {sorter:false}, 18: {sorter:false}, 19: {sorter:false},\n",
       "                                                20: {sorter:false}, 21: {sorter:false}, 22: {sorter:false}, 23: {sorter:false},\n",
       "                                                24: {sorter:false}, 25: {sorter:false}, 26: {sorter:false}, 27: {sorter:false}\n",
       "                                    }}\n",
       "                                   );\n",
       "                                   \n",
       "    $(\"#tour-results\").attr('border', 0).attr('cellspacing', 0).attr('cellpadding', 4);\n",
       "    $(\"#tour-results\").tablesorter( {headers: {0: {sorter:false}, 1: {sorter:false}, 2: {sorter:false}, 3: {sorter:false},\n",
       "                                                 4: {sorter:false}, 5: {sorter:false}, 6: {sorter:false}, 7: {sorter:false},\n",
       "                                                8: {sorter:false}, 9: {sorter:false}, 10: {sorter:false}, 11: {sorter:false},\n",
       "                                                12: {sorter:false}, 13: {sorter:false}, 14: {sorter:false}, 15: {sorter:false},\n",
       "                                                16: {sorter:false}, 17: {sorter:false}, 18: {sorter:false}, 19: {sorter:false},\n",
       "                                                20: {sorter:false}, 21: {sorter:false}, 22: {sorter:false}, 23: {sorter:false},\n",
       "                                                24: {sorter:false}, 25: {sorter:false}, 26: {sorter:false}, 27: {sorter:false}\n",
       "                                    }}\n",
       "                                   );\n",
       "                                   \n",
       "    $(\"#match-results\").attr('border', 0).attr('cellspacing', 0).attr('cellpadding', 4);\n",
       "    $(\"#match-results\").tablesorter( {headers: {0: {sorter:false}, 1: {sorter:false}, 2: {sorter:false}, 3: {sorter:false},\n",
       "                                                 4: {sorter:false}, 5: {sorter:false}, 6: {sorter:false}, 7: {sorter:false},\n",
       "                                                8: {sorter:false}, 9: {sorter:false}, 10: {sorter:false}, 11: {sorter:false},\n",
       "                                                12: {sorter:false}, 13: {sorter:false}, 14: {sorter:false}, 15: {sorter:false},\n",
       "                                                16: {sorter:false}, 17: {sorter:false}, 18: {sorter:false}, 19: {sorter:false},\n",
       "                                                20: {sorter:false}, 21: {sorter:false}, 22: {sorter:false}, 23: {sorter:false},\n",
       "                                                24: {sorter:false}, 25: {sorter:false}, 26: {sorter:false}, 27: {sorter:false}\n",
       "                                    }}\n",
       "                                   );\n",
       "                                   \n",
       "    $(\"#career-splits-chall\").attr('border', 0).attr('cellspacing', 0).attr('cellpadding', 4);\n",
       "    $(\"#career-splits-chall\").tablesorter( {headers: {0: {sorter:false}, 1: {sorter:false}, 2: {sorter:false}, 3: {sorter:false},\n",
       "                                                 4: {sorter:false}, 5: {sorter:false}, 6: {sorter:false}, 7: {sorter:false},\n",
       "                                                8: {sorter:false}, 9: {sorter:false}, 10: {sorter:false}, 11: {sorter:false},\n",
       "                                                12: {sorter:false}, 13: {sorter:false}, 14: {sorter:false}, 15: {sorter:false},\n",
       "                                                16: {sorter:false}, 17: {sorter:false}, 18: {sorter:false}, 19: {sorter:false},\n",
       "                                                20: {sorter:false}, 21: {sorter:false}, 22: {sorter:false}, 23: {sorter:false},\n",
       "                                                24: {sorter:false}, 25: {sorter:false}, 26: {sorter:false}, 27: {sorter:false}\n",
       "                                    }}\n",
       "                                   );\n",
       "                                   \n",
       "    $(\"#last52-splits-chall\").attr('border', 0).attr('cellspacing', 0).attr('cellpadding', 4);\n",
       "    $(\"#last52-splits-chall\").tablesorter( {headers: {0: {sorter:false}, 1: {sorter:false}, 2: {sorter:false}, 3: {sorter:false},\n",
       "                                                 4: {sorter:false}, 5: {sorter:false}, 6: {sorter:false}, 7: {sorter:false},\n",
       "                                                8: {sorter:false}, 9: {sorter:false}, 10: {sorter:false}, 11: {sorter:false},\n",
       "                                                12: {sorter:false}, 13: {sorter:false}, 14: {sorter:false}, 15: {sorter:false},\n",
       "                                                16: {sorter:false}, 17: {sorter:false}, 18: {sorter:false}, 19: {sorter:false},\n",
       "                                                20: {sorter:false}, 21: {sorter:false}, 22: {sorter:false}, 23: {sorter:false},\n",
       "                                                24: {sorter:false}, 25: {sorter:false}, 26: {sorter:false}, 27: {sorter:false}\n",
       "                                    }}\n",
       "                                   );\n",
       "                                   \n",
       "    $(\"#year-end-rankings\").attr('border', 0).attr('cellspacing', 0).attr('cellpadding', 4);\n",
       "    $(\"#year-end-rankings\").tablesorter( {headers: {0: {sorter:false}, 1: {sorter:false}, 2: {sorter:false}, 3: {sorter:false},\n",
       "                                                 4: {sorter:false}, 5: {sorter:false}, 6: {sorter:false}, 7: {sorter:false},\n",
       "                                                8: {sorter:false}, 9: {sorter:false}, 10: {sorter:false}, 11: {sorter:false},\n",
       "                                                12: {sorter:false}, 13: {sorter:false}, 14: {sorter:false}, 15: {sorter:false},\n",
       "                                                16: {sorter:false}, 17: {sorter:false}, 18: {sorter:false}, 19: {sorter:false},\n",
       "                                                20: {sorter:false}, 21: {sorter:false}, 22: {sorter:false}, 23: {sorter:false},\n",
       "                                                24: {sorter:false}, 25: {sorter:false}, 26: {sorter:false}, 27: {sorter:false}\n",
       "                                    }}\n",
       "                                   );\n",
       "                                   \n",
       "    $(\"#titles-finals\").attr('border', 0).attr('cellspacing', 0).attr('cellpadding', 4);\n",
       "    $(\"#titles-finals\").tablesorter( {headers: {0: {sorter:false}, 1: {sorter:false}, 2: {sorter:false}, 3: {sorter:false},\n",
       "                                                 4: {sorter:false}, 5: {sorter:false}, 6: {sorter:false}, 7: {sorter:false},\n",
       "                                                8: {sorter:false}, 9: {sorter:false}, 10: {sorter:false}, 11: {sorter:false},\n",
       "                                                12: {sorter:false}, 13: {sorter:false}, 14: {sorter:false}, 15: {sorter:false},\n",
       "                                                16: {sorter:false}, 17: {sorter:false}, 18: {sorter:false}, 19: {sorter:false},\n",
       "                                                20: {sorter:false}, 21: {sorter:false}, 22: {sorter:false}, 23: {sorter:false},\n",
       "                                                24: {sorter:false}, 25: {sorter:false}, 26: {sorter:false}, 27: {sorter:false}\n",
       "                                    }}\n",
       "                                   );\n",
       "                                   \n",
       "    $(\"#pbp-points\").attr('border', 0).attr('cellspacing', 0).attr('cellpadding', 4);\n",
       "    $(\"#pbp-points\").tablesorter( {headers: {0: {sorter:false}, 1: {sorter:false}, 2: {sorter:false}, 3: {sorter:false},\n",
       "                                                 4: {sorter:false}, 5: {sorter:false}, 6: {sorter:false}, 7: {sorter:false},\n",
       "                                                8: {sorter:false}, 9: {sorter:false}, 10: {sorter:false}, 11: {sorter:false},\n",
       "                                                12: {sorter:false}, 13: {sorter:false}, 14: {sorter:false}, 15: {sorter:false},\n",
       "                                                16: {sorter:false}, 17: {sorter:false}, 18: {sorter:false}, 19: {sorter:false},\n",
       "                                                20: {sorter:false}, 21: {sorter:false}, 22: {sorter:false}, 23: {sorter:false},\n",
       "                                                24: {sorter:false}, 25: {sorter:false}, 26: {sorter:false}, 27: {sorter:false}\n",
       "                                    }}\n",
       "                                   );\n",
       "                                   \n",
       "    $(\"#pbp-games\").attr('border', 0).attr('cellspacing', 0).attr('cellpadding', 4);\n",
       "    $(\"#pbp-games\").tablesorter( {headers: {0: {sorter:false}, 1: {sorter:false}, 2: {sorter:false}, 3: {sorter:false},\n",
       "                                                 4: {sorter:false}, 5: {sorter:false}, 6: {sorter:false}, 7: {sorter:false},\n",
       "                                                8: {sorter:false}, 9: {sorter:false}, 10: {sorter:false}, 11: {sorter:false},\n",
       "                                                12: {sorter:false}, 13: {sorter:false}, 14: {sorter:false}, 15: {sorter:false},\n",
       "                                                16: {sorter:false}, 17: {sorter:false}, 18: {sorter:false}, 19: {sorter:false},\n",
       "                                                20: {sorter:false}, 21: {sorter:false}, 22: {sorter:false}, 23: {sorter:false},\n",
       "                                                24: {sorter:false}, 25: {sorter:false}, 26: {sorter:false}, 27: {sorter:false}\n",
       "                                    }}\n",
       "                                   );\n",
       "                                   \n",
       "    $(\"#pbp-stats\").attr('border', 0).attr('cellspacing', 0).attr('cellpadding', 4);\n",
       "    $(\"#pbp-stats\").tablesorter( {headers: {0: {sorter:false}, 1: {sorter:false}, 2: {sorter:false}, 3: {sorter:false},\n",
       "                                                 4: {sorter:false}, 5: {sorter:false}, 6: {sorter:false}, 7: {sorter:false},\n",
       "                                                8: {sorter:false}, 9: {sorter:false}, 10: {sorter:false}, 11: {sorter:false},\n",
       "                                                12: {sorter:false}, 13: {sorter:false}, 14: {sorter:false}, 15: {sorter:false},\n",
       "                                                16: {sorter:false}, 17: {sorter:false}, 18: {sorter:false}, 19: {sorter:false},\n",
       "                                                20: {sorter:false}, 21: {sorter:false}, 22: {sorter:false}, 23: {sorter:false},\n",
       "                                                24: {sorter:false}, 25: {sorter:false}, 26: {sorter:false}, 27: {sorter:false}\n",
       "                                    }}\n",
       "                                   );\n",
       "                                   \n",
       "    $(\"#serve-speed\").attr('border', 0).attr('cellspacing', 0).attr('cellpadding', 4);\n",
       "    $(\"#serve-speed\").tablesorter( {headers: {0: {sorter:false}, 1: {sorter:false}, 2: {sorter:false}, 3: {sorter:false},\n",
       "                                                 4: {sorter:false}, 5: {sorter:false}, 6: {sorter:false}, 7: {sorter:false},\n",
       "                                                8: {sorter:false}, 9: {sorter:false}, 10: {sorter:false}, 11: {sorter:false},\n",
       "                                                12: {sorter:false}, 13: {sorter:false}, 14: {sorter:false}, 15: {sorter:false},\n",
       "                                                16: {sorter:false}, 17: {sorter:false}, 18: {sorter:false}, 19: {sorter:false},\n",
       "                                                20: {sorter:false}, 21: {sorter:false}, 22: {sorter:false}, 23: {sorter:false},\n",
       "                                                24: {sorter:false}, 25: {sorter:false}, 26: {sorter:false}, 27: {sorter:false}\n",
       "                                    }}\n",
       "                                   );\n",
       "                                   \n",
       "    $(\"#winners-errors\").attr('border', 0).attr('cellspacing', 0).attr('cellpadding', 4);\n",
       "    $(\"#winners-errors\").tablesorter( {headers: {0: {sorter:false}, 1: {sorter:false}, 2: {sorter:false}, 3: {sorter:false},\n",
       "                                                 4: {sorter:false}, 5: {sorter:false}, 6: {sorter:false}, 7: {sorter:false},\n",
       "                                                8: {sorter:false}, 9: {sorter:false}, 10: {sorter:false}, 11: {sorter:false},\n",
       "                                                12: {sorter:false}, 13: {sorter:false}, 14: {sorter:false}, 15: {sorter:false},\n",
       "                                                16: {sorter:false}, 17: {sorter:false}, 18: {sorter:false}, 19: {sorter:false},\n",
       "                                                20: {sorter:false}, 21: {sorter:false}, 22: {sorter:false}, 23: {sorter:false},\n",
       "                                                24: {sorter:false}, 25: {sorter:false}, 26: {sorter:false}, 27: {sorter:false}\n",
       "                                    }}\n",
       "                                   );\n",
       "                                   \n",
       "    $.getScript(\"http://www.minorleaguesplits.com/tennisabstract/jquery.ui.core.js\", function() {});\n",
       "    $.getScript(\"http://www.minorleaguesplits.com/tennisabstract/jquery.ui.position.js\", function() {});\n",
       "    $.getScript(\"http://www.minorleaguesplits.com/tennisabstract/jquery.ui.widget.js\", function() {});\n",
       "    $.getScript(\"http://www.minorleaguesplits.com/tennisabstract/cgi-bin/jsplayers/mwplayerlist.js\", function() {}); \n",
       "    $.getScript(\"http://www.minorleaguesplits.com/tennisabstract/jquery.ui.autocomplete.js\", function() {});    \n",
       "    $('#playersearch').append($('<input>').attr('id', 'tags'));\n",
       "\n",
       "    var searchbox = \"Player Search\";\t\t\n",
       "    $(\"#tags\").val(searchbox);\n",
       "    $(\"#tags\").focus(function() {\n",
       "        if ($(this).val() == searchbox) {$(this).val(\"\");}\n",
       "        $( \"#tags\" ).autocomplete({\n",
       "                source: playerlist,\n",
       "                minLength: 2,\n",
       "                select: function(e, ui) {\n",
       "                    var playerselect = ui.item.value;\n",
       "                    var player = playerselect.slice(4);\n",
       "                    var mw = playerselect.slice(1,2);\n",
       "                    if (mw == 'M') {\n",
       "                        var playerurl = 'http://www.tennisabstract.com/cgi-bin/player.cgi?p=' + player.replace(/ /g, '');\n",
       "                        }\n",
       "                    else {\n",
       "                        var playerurl = 'http://www.tennisabstract.com/cgi-bin/wplayer.cgi?p=' + player.replace(/ /g, '');\n",
       "                        }                        \n",
       "                    window.open(playerurl, \"_self\");\n",
       "                    }\n",
       "            });\n",
       "        }); \n",
       "    })\n",
       "\n",
       "</script>\n",
       "<style type=\"text/css\">\n",
       "u {    \n",
       "    border-bottom: 1px dotted #000;\n",
       "    text-decoration: none;\n",
       "}\n",
       "</style>\n",
       "</head>\n",
       "<body>\n",
       "<table width=\"1240px\">\n",
       "<tr>\n",
       "<td align=\"left\"> </td>\n",
       "<td align=\"right\">\n",
       " </td>\n",
       "</tr>\n",
       "</table>\n",
       "<div id=\"header\">\n",
       "<table width=\"1240px\">\n",
       "<tr>\n",
       "<td align=\"left\" class=\"headline\">\n",
       "<h1><span class=\"blackheader\">\n",
       "<a href=\"http://www.tennisabstract.com\">tennis<span style=\"color: blue\">abstract</span>.com</a></span></h1></td>\n",
       "<td align=\"right\" id=\"playersearch\" style=\"vertical-align:top\"> </td>\n",
       "</tr>\n",
       "<tr><td> </td><td> </td>\n",
       "</tr>\n",
       "<tr>\n",
       "<td align=\"left\" style=\"vertical-align:top\"><span id=\"bio\"> </span>\n",
       "</td>\n",
       "<td align=\"right\" id=\"menu\" style=\"vertical-align:top\"> </td>\n",
       "</tr>\n",
       "</table>\n",
       "</div>\n",
       "<div id=\"main\">\n",
       "</div>\n",
       "</body>\n",
       "</html>"
      ]
     },
     "execution_count": 34,
     "metadata": {},
     "output_type": "execute_result"
    }
   ],
   "source": [
    "bs"
   ]
  },
  {
   "cell_type": "code",
   "execution_count": 35,
   "metadata": {
    "ExecuteTime": {
     "end_time": "2021-04-15T14:52:25.952774Z",
     "start_time": "2021-04-15T14:52:25.948218Z"
    },
    "scrolled": true
   },
   "outputs": [
    {
     "data": {
      "text/plain": [
       "<table width=\"1240px\">\n",
       "<tr>\n",
       "<td align=\"left\"> </td>\n",
       "<td align=\"right\">\n",
       " </td>\n",
       "</tr>\n",
       "</table>"
      ]
     },
     "execution_count": 35,
     "metadata": {},
     "output_type": "execute_result"
    }
   ],
   "source": [
    "table"
   ]
  },
  {
   "cell_type": "code",
   "execution_count": 36,
   "metadata": {
    "ExecuteTime": {
     "end_time": "2021-04-15T14:52:36.201979Z",
     "start_time": "2021-04-15T14:52:34.107748Z"
    }
   },
   "outputs": [],
   "source": [
    "url = \"http://www.tennisabstract.com/cgi-bin/player.cgi?p=RogerFederer\"\n",
    "driver = webdriver.Chrome()"
   ]
  },
  {
   "cell_type": "code",
   "execution_count": 37,
   "metadata": {
    "ExecuteTime": {
     "end_time": "2021-04-15T14:52:39.937211Z",
     "start_time": "2021-04-15T14:52:39.062510Z"
    }
   },
   "outputs": [],
   "source": [
    "driver.get(url)"
   ]
  },
  {
   "cell_type": "code",
   "execution_count": 59,
   "metadata": {
    "ExecuteTime": {
     "end_time": "2021-04-15T14:55:22.353510Z",
     "start_time": "2021-04-15T14:55:22.343279Z"
    }
   },
   "outputs": [],
   "source": [
    "table = driver.find_element_by_id(\"recent-results\")"
   ]
  },
  {
   "cell_type": "code",
   "execution_count": 60,
   "metadata": {
    "ExecuteTime": {
     "end_time": "2021-04-15T14:55:25.708531Z",
     "start_time": "2021-04-15T14:55:25.643186Z"
    }
   },
   "outputs": [
    {
     "data": {
      "text/plain": [
       "'Date Tournament Surface Rd Rk vRk Score DR A% DF% 1stIn 1st% 2nd% BPSvd Time\\n08-Mar-2021 Doha Hard QF 6 42 Nikoloz Basilashvili [GEO] d. (2)Federer 3-6 6-1 7-5 0.87 12.5% 0.0% 68.8% 66.7% 50.0% 7/10 1:50\\n08-Mar-2021 Doha Hard R16 6 28 (2)Federer d. Daniel Evans [GBR] 7-6(8) 3-6 7-5 1.16 12.4% 0.0% 67.6% 78.9% 52.9% 3/4 2:24\\n20-Jan-2020 Australian Open Hard SF 3 2 (2)Novak Djokovic [SRB] d. (3)Federer 7-6(1) 6-4 6-3 0.76 14.4% 2.9% 65.4% 66.2% 41.7% 7/11 2:18\\n20-Jan-2020 Australian Open Hard QF 3 100 (3)Federer d. Tennys Sandgren [USA] 6-3 2-6 2-6 7-6(8) 6-3 0.93 2.9% 1.8% 65.5% 71.4% 52.5% 10/14 3:31\\n20-Jan-2020 Australian Open Hard R16 3 67 (3)Federer d. Marton Fucsovics [HUN] 4-6 6-1 6-2 6-2 1.36 4.9% 0.0% 61.2% 76.2% 52.5% 7/9 2:11\\n20-Jan-2020 Australian Open Hard R32 3 47 (3)Federer d. John Millman [AUS] 4-6 7-6(2) 6-4 4-6 7-6(8) 1.08 9.4% 3.5% 65.3% 76.6% 50.8% 4/8 4:03\\n20-Jan-2020 Australian Open Hard R64 3 41 (3)Federer d. Filip Krajinovic [SRB] 6-1 6-4 6-1 1.86 20.6% 0.0% 69.1% 76.6% 61.9% 2/3 1:32\\n20-Jan-2020 Australian Open Hard R128 3 75 (3)Federer d. Steve Johnson [USA] 6-3 6-2 6-2 2.36 16.7% 1.5% 74.2% 81.6% 76.5% 1/1 1:21\\n11-Nov-2019 Tour Finals Hard SF 3 6 (6)Stefanos Tsitsipas [GRE] d. (3)Federer 6-3 6-4 0.97 5.6% 0.0% 55.6% 70.0% 45.8% 1/4 1:36\\n11-Nov-2019 Tour Finals Hard RR 3 2 (3)Federer d. (2)Novak Djokovic [SRB] 6-4 6-3 2.08 24.5% 4.1% 73.5% 80.6% 69.2% 1/1 1:13\\n11-Nov-2019 Tour Finals Hard RR 3 5 (5)Dominic Thiem [AUT] d. (3)Federer 7-5 7-5 0.97 7.4% 0.0% 69.1% 70.2% 47.6% 2/5 1:40\\n11-Nov-2019 Tour Finals Hard RR 3 8 (3)Federer d. (8)Matteo Berrettini [ITA] 7-6(2) 6-3 1.38 11.9% 0.0% 67.2% 77.8% 68.2% 3/3 1:18\\n21-Oct-2019 Basel Hard F 3 28 (1)Federer d. (WC)Alex De Minaur [AUS] 6-2 6-2 1.71 8.0% 0.0% 64.0% 78.1% 61.1% 0/0 1:08\\n21-Oct-2019 Basel Hard SF 3 7 (1)Federer d. (3)Stefanos Tsitsipas [GRE] 6-4 6-4 1.60 11.5% 3.8% 57.7% 80.0% 77.3% 1/1 1:18\\n21-Oct-2019 Basel Hard QF 3 17 (1)Federer d. (7)Stanislas Wawrinka [SUI] W/O\\n21-Oct-2019 Basel Hard R16 3 49 (1)Federer d. Radu Albot [MDA] 6-0 6-3 2.17 12.5% 2.5% 75.0% 76.7% 70.0% 2/2 1:02\\n21-Oct-2019 Basel Hard R32 3 112 (1)Federer d. (Q)Peter Gojowczyk [GER] 6-2 6-1 1.65 23.5% 3.9% 64.7% 81.8% 38.9% 0/1 0:52\\n07-Oct-2019 Shanghai Masters Hard QF 3 6 (5)Alexander Zverev [GER] d. (2)Federer 6-3 6-7(7) 6-3 0.70 3.3% 0.0% 64.1% 64.4% 57.6% 4/8 2:04\\n07-Oct-2019 Shanghai Masters Hard R16 3 14 (2)Federer d. (13)David Goffin [BEL] 7-6(7) 6-4 1.17 9.6% 1.2% 72.3% 71.7% 56.5% 2/3 1:54\\n07-Oct-2019 Shanghai Masters Hard R32 3 46 (2)Federer d. Albert Ramos [ESP] 6-2 7-6(5) 2.40 14.8% 0.0% 79.6% 90.7% 63.6% 0/0 1:24'"
      ]
     },
     "execution_count": 60,
     "metadata": {},
     "output_type": "execute_result"
    }
   ],
   "source": [
    "table.text"
   ]
  },
  {
   "cell_type": "code",
   "execution_count": 61,
   "metadata": {
    "ExecuteTime": {
     "end_time": "2021-04-15T14:55:27.464986Z",
     "start_time": "2021-04-15T14:55:27.454888Z"
    }
   },
   "outputs": [],
   "source": [
    "body = table.find_element_by_css_selector('tbody')"
   ]
  },
  {
   "cell_type": "code",
   "execution_count": 62,
   "metadata": {
    "ExecuteTime": {
     "end_time": "2021-04-15T14:55:28.355553Z",
     "start_time": "2021-04-15T14:55:28.345151Z"
    }
   },
   "outputs": [],
   "source": [
    "# Table rows usually have the css tag 'tr'\n",
    "rows = body.find_elements_by_css_selector('tr')"
   ]
  },
  {
   "cell_type": "code",
   "execution_count": 63,
   "metadata": {
    "ExecuteTime": {
     "end_time": "2021-04-15T14:55:33.876290Z",
     "start_time": "2021-04-15T14:55:33.653288Z"
    }
   },
   "outputs": [
    {
     "data": {
      "text/plain": [
       "['08-Mar-2021 Doha Hard QF 6 42 Nikoloz Basilashvili [GEO] d. (2)Federer 3-6 6-1 7-5 0.87 12.5% 0.0% 68.8% 66.7% 50.0% 7/10 1:50',\n",
       " '08-Mar-2021 Doha Hard R16 6 28 (2)Federer d. Daniel Evans [GBR] 7-6(8) 3-6 7-5 1.16 12.4% 0.0% 67.6% 78.9% 52.9% 3/4 2:24',\n",
       " '20-Jan-2020 Australian Open Hard SF 3 2 (2)Novak Djokovic [SRB] d. (3)Federer 7-6(1) 6-4 6-3 0.76 14.4% 2.9% 65.4% 66.2% 41.7% 7/11 2:18',\n",
       " '20-Jan-2020 Australian Open Hard QF 3 100 (3)Federer d. Tennys Sandgren [USA] 6-3 2-6 2-6 7-6(8) 6-3 0.93 2.9% 1.8% 65.5% 71.4% 52.5% 10/14 3:31',\n",
       " '20-Jan-2020 Australian Open Hard R16 3 67 (3)Federer d. Marton Fucsovics [HUN] 4-6 6-1 6-2 6-2 1.36 4.9% 0.0% 61.2% 76.2% 52.5% 7/9 2:11',\n",
       " '20-Jan-2020 Australian Open Hard R32 3 47 (3)Federer d. John Millman [AUS] 4-6 7-6(2) 6-4 4-6 7-6(8) 1.08 9.4% 3.5% 65.3% 76.6% 50.8% 4/8 4:03',\n",
       " '20-Jan-2020 Australian Open Hard R64 3 41 (3)Federer d. Filip Krajinovic [SRB] 6-1 6-4 6-1 1.86 20.6% 0.0% 69.1% 76.6% 61.9% 2/3 1:32',\n",
       " '20-Jan-2020 Australian Open Hard R128 3 75 (3)Federer d. Steve Johnson [USA] 6-3 6-2 6-2 2.36 16.7% 1.5% 74.2% 81.6% 76.5% 1/1 1:21',\n",
       " '11-Nov-2019 Tour Finals Hard SF 3 6 (6)Stefanos Tsitsipas [GRE] d. (3)Federer 6-3 6-4 0.97 5.6% 0.0% 55.6% 70.0% 45.8% 1/4 1:36',\n",
       " '11-Nov-2019 Tour Finals Hard RR 3 2 (3)Federer d. (2)Novak Djokovic [SRB] 6-4 6-3 2.08 24.5% 4.1% 73.5% 80.6% 69.2% 1/1 1:13',\n",
       " '11-Nov-2019 Tour Finals Hard RR 3 5 (5)Dominic Thiem [AUT] d. (3)Federer 7-5 7-5 0.97 7.4% 0.0% 69.1% 70.2% 47.6% 2/5 1:40',\n",
       " '11-Nov-2019 Tour Finals Hard RR 3 8 (3)Federer d. (8)Matteo Berrettini [ITA] 7-6(2) 6-3 1.38 11.9% 0.0% 67.2% 77.8% 68.2% 3/3 1:18',\n",
       " '21-Oct-2019 Basel Hard F 3 28 (1)Federer d. (WC)Alex De Minaur [AUS] 6-2 6-2 1.71 8.0% 0.0% 64.0% 78.1% 61.1% 0/0 1:08',\n",
       " '21-Oct-2019 Basel Hard SF 3 7 (1)Federer d. (3)Stefanos Tsitsipas [GRE] 6-4 6-4 1.60 11.5% 3.8% 57.7% 80.0% 77.3% 1/1 1:18',\n",
       " '21-Oct-2019 Basel Hard QF 3 17 (1)Federer d. (7)Stanislas Wawrinka [SUI] W/O',\n",
       " '21-Oct-2019 Basel Hard R16 3 49 (1)Federer d. Radu Albot [MDA] 6-0 6-3 2.17 12.5% 2.5% 75.0% 76.7% 70.0% 2/2 1:02',\n",
       " '21-Oct-2019 Basel Hard R32 3 112 (1)Federer d. (Q)Peter Gojowczyk [GER] 6-2 6-1 1.65 23.5% 3.9% 64.7% 81.8% 38.9% 0/1 0:52',\n",
       " '07-Oct-2019 Shanghai Masters Hard QF 3 6 (5)Alexander Zverev [GER] d. (2)Federer 6-3 6-7(7) 6-3 0.70 3.3% 0.0% 64.1% 64.4% 57.6% 4/8 2:04',\n",
       " '07-Oct-2019 Shanghai Masters Hard R16 3 14 (2)Federer d. (13)David Goffin [BEL] 7-6(7) 6-4 1.17 9.6% 1.2% 72.3% 71.7% 56.5% 2/3 1:54',\n",
       " '07-Oct-2019 Shanghai Masters Hard R32 3 46 (2)Federer d. Albert Ramos [ESP] 6-2 7-6(5) 2.40 14.8% 0.0% 79.6% 90.7% 63.6% 0/0 1:24']"
      ]
     },
     "execution_count": 63,
     "metadata": {},
     "output_type": "execute_result"
    }
   ],
   "source": [
    "[x.text for x in rows]"
   ]
  },
  {
   "cell_type": "code",
   "execution_count": 64,
   "metadata": {
    "ExecuteTime": {
     "end_time": "2021-04-15T14:55:35.679729Z",
     "start_time": "2021-04-15T14:55:35.676350Z"
    }
   },
   "outputs": [
    {
     "data": {
      "text/plain": [
       "<selenium.webdriver.remote.webelement.WebElement (session=\"6df1a0ce8ac1cee033cfa3490971f0c6\", element=\"01b1817d-ccd6-4e53-9e3c-1d0ac38faadf\")>"
      ]
     },
     "execution_count": 64,
     "metadata": {},
     "output_type": "execute_result"
    }
   ],
   "source": [
    "rows[0]"
   ]
  },
  {
   "cell_type": "code",
   "execution_count": 65,
   "metadata": {
    "ExecuteTime": {
     "end_time": "2021-04-15T14:55:36.642716Z",
     "start_time": "2021-04-15T14:55:36.633850Z"
    }
   },
   "outputs": [
    {
     "data": {
      "text/plain": [
       "'<td>08-Mar-2021</td><td><a href=\"http://www.tennisabstract.com/cgi-bin/tourney.cgi?t=2021Doha\">Doha</a></td><td>Hard</td><td>QF</td><td align=\"right\">6</td><td align=\"right\">42</td><td><a href=\"http://www.tennisabstract.com/cgi-bin/player.cgi?p=NikolozBasilashvili\">Nikoloz Basilashvili</a> [GEO] d. (2)<b>Federer</b></td><td>3-6 6-1 7-5</td><td align=\"right\">0.87</td><td align=\"right\">12.5%</td><td align=\"right\">0.0%</td><td align=\"right\">68.8%</td><td align=\"right\">66.7%</td><td align=\"right\">50.0%</td><td align=\"right\">7/10</td><td align=\"right\">1:50</td>'"
      ]
     },
     "execution_count": 65,
     "metadata": {},
     "output_type": "execute_result"
    }
   ],
   "source": [
    "#allows us to look at the HTML inside the selenium object\n",
    "rows[0].get_attribute('innerHTML')"
   ]
  },
  {
   "cell_type": "code",
   "execution_count": 66,
   "metadata": {
    "ExecuteTime": {
     "end_time": "2021-04-15T14:55:37.803344Z",
     "start_time": "2021-04-15T14:55:37.792659Z"
    }
   },
   "outputs": [],
   "source": [
    "row_data = rows[0].find_elements_by_css_selector('td')"
   ]
  },
  {
   "cell_type": "code",
   "execution_count": 67,
   "metadata": {
    "ExecuteTime": {
     "end_time": "2021-04-15T14:55:38.508812Z",
     "start_time": "2021-04-15T14:55:38.378418Z"
    }
   },
   "outputs": [
    {
     "name": "stdout",
     "output_type": "stream",
     "text": [
      "08-Mar-2021\n",
      "Doha\n",
      "Hard\n",
      "QF\n",
      "6\n",
      "42\n",
      "Nikoloz Basilashvili [GEO] d. (2)Federer\n",
      "3-6 6-1 7-5\n",
      "0.87\n",
      "12.5%\n",
      "0.0%\n",
      "68.8%\n",
      "66.7%\n",
      "50.0%\n",
      "7/10\n",
      "1:50\n"
     ]
    }
   ],
   "source": [
    "for e in row_data: \n",
    "    print(e.text)"
   ]
  },
  {
   "cell_type": "code",
   "execution_count": 68,
   "metadata": {
    "ExecuteTime": {
     "end_time": "2021-04-15T14:55:41.925500Z",
     "start_time": "2021-04-15T14:55:39.348014Z"
    }
   },
   "outputs": [],
   "source": [
    "data_list = []\n",
    "for r in rows: \n",
    "    row_list = []\n",
    "    row_data = r.find_elements_by_css_selector('td')\n",
    "    for d in row_data: \n",
    "        row_list.append(d.text)\n",
    "    data_list.append(row_list)"
   ]
  },
  {
   "cell_type": "code",
   "execution_count": 69,
   "metadata": {
    "ExecuteTime": {
     "end_time": "2021-04-15T14:55:42.221623Z",
     "start_time": "2021-04-15T14:55:42.217966Z"
    }
   },
   "outputs": [
    {
     "data": {
      "text/plain": [
       "['11-Nov-2019',\n",
       " 'Tour Finals',\n",
       " 'Hard',\n",
       " 'RR',\n",
       " '3',\n",
       " '5',\n",
       " '(5)Dominic Thiem [AUT] d. (3)Federer',\n",
       " '7-5 7-5',\n",
       " '0.97',\n",
       " '7.4%',\n",
       " '0.0%',\n",
       " '69.1%',\n",
       " '70.2%',\n",
       " '47.6%',\n",
       " '2/5',\n",
       " '1:40']"
      ]
     },
     "execution_count": 69,
     "metadata": {},
     "output_type": "execute_result"
    }
   ],
   "source": [
    "data_list[10]"
   ]
  },
  {
   "cell_type": "code",
   "execution_count": 70,
   "metadata": {
    "ExecuteTime": {
     "end_time": "2021-04-15T14:56:00.424993Z",
     "start_time": "2021-04-15T14:56:00.421645Z"
    }
   },
   "outputs": [
    {
     "data": {
      "text/plain": [
       "16"
      ]
     },
     "execution_count": 70,
     "metadata": {},
     "output_type": "execute_result"
    }
   ],
   "source": [
    "len(data_list[10])"
   ]
  },
  {
   "cell_type": "code",
   "execution_count": 71,
   "metadata": {
    "ExecuteTime": {
     "end_time": "2021-04-15T14:56:03.345297Z",
     "start_time": "2021-04-15T14:56:03.321331Z"
    }
   },
   "outputs": [
    {
     "data": {
      "text/plain": [
       "'Date Tournament Surface Rd Rk vRk Score DR A% DF% 1stIn 1st% 2nd% BPSvd Time'"
      ]
     },
     "execution_count": 71,
     "metadata": {},
     "output_type": "execute_result"
    }
   ],
   "source": [
    "headers = table.find_element_by_css_selector('thead')\n",
    "headers.text"
   ]
  },
  {
   "cell_type": "code",
   "execution_count": 72,
   "metadata": {
    "ExecuteTime": {
     "end_time": "2021-04-15T14:56:05.036052Z",
     "start_time": "2021-04-15T14:56:05.023090Z"
    }
   },
   "outputs": [
    {
     "name": "stdout",
     "output_type": "stream",
     "text": [
      "['Date', 'Tournament', 'Surface', 'Rd', 'Rk', 'vRk', 'Score', 'DR', 'A%', 'DF%', '1stIn', '1st%', '2nd%', 'BPSvd', 'Time']\n"
     ]
    }
   ],
   "source": [
    "columns = headers.text.split(' ')\n",
    "print(columns)"
   ]
  },
  {
   "cell_type": "code",
   "execution_count": 73,
   "metadata": {
    "ExecuteTime": {
     "end_time": "2021-04-15T14:56:07.363295Z",
     "start_time": "2021-04-15T14:56:07.360168Z"
    }
   },
   "outputs": [
    {
     "name": "stdout",
     "output_type": "stream",
     "text": [
      "Number of columns:     15\n",
      "\n",
      "Number of data points: 16\n"
     ]
    }
   ],
   "source": [
    "print('Number of columns:     '+ str(len(columns)))\n",
    "print()\n",
    "print('Number of data points: '+ str(len(data_list[0])))"
   ]
  },
  {
   "cell_type": "code",
   "execution_count": 74,
   "metadata": {
    "ExecuteTime": {
     "end_time": "2021-04-15T14:56:40.766830Z",
     "start_time": "2021-04-15T14:56:40.764277Z"
    }
   },
   "outputs": [],
   "source": [
    "columns = ['Date','Tournament','Surface','Rd','Rk','vRk', \n",
    "           'Opponent','Score','DR','A%','DF%','1stIn',\n",
    "           '1st%','2nd%','BPSvd','Time']"
   ]
  },
  {
   "cell_type": "code",
   "execution_count": 75,
   "metadata": {
    "ExecuteTime": {
     "end_time": "2021-04-15T14:56:41.386433Z",
     "start_time": "2021-04-15T14:56:41.383421Z"
    }
   },
   "outputs": [
    {
     "name": "stdout",
     "output_type": "stream",
     "text": [
      "['08-Mar-2021', 'Doha', 'Hard', 'QF', '6', '42', 'Nikoloz Basilashvili [GEO] d. (2)Federer', '3-6 6-1 7-5', '0.87', '12.5%', '0.0%', '68.8%', '66.7%', '50.0%', '7/10', '1:50']\n"
     ]
    }
   ],
   "source": [
    "print(data_list[0])"
   ]
  },
  {
   "cell_type": "code",
   "execution_count": 81,
   "metadata": {
    "ExecuteTime": {
     "end_time": "2021-04-15T14:58:33.097949Z",
     "start_time": "2021-04-15T14:58:33.093625Z"
    }
   },
   "outputs": [],
   "source": [
    "federer_h2h = pd.DataFrame(data_list, columns=columns)"
   ]
  },
  {
   "cell_type": "code",
   "execution_count": 82,
   "metadata": {
    "ExecuteTime": {
     "end_time": "2021-04-15T14:58:33.737366Z",
     "start_time": "2021-04-15T14:58:33.723197Z"
    }
   },
   "outputs": [
    {
     "data": {
      "text/html": [
       "<div>\n",
       "<style scoped>\n",
       "    .dataframe tbody tr th:only-of-type {\n",
       "        vertical-align: middle;\n",
       "    }\n",
       "\n",
       "    .dataframe tbody tr th {\n",
       "        vertical-align: top;\n",
       "    }\n",
       "\n",
       "    .dataframe thead th {\n",
       "        text-align: right;\n",
       "    }\n",
       "</style>\n",
       "<table border=\"1\" class=\"dataframe\">\n",
       "  <thead>\n",
       "    <tr style=\"text-align: right;\">\n",
       "      <th></th>\n",
       "      <th>Date</th>\n",
       "      <th>Tournament</th>\n",
       "      <th>Surface</th>\n",
       "      <th>Rd</th>\n",
       "      <th>Rk</th>\n",
       "      <th>vRk</th>\n",
       "      <th>Opponent</th>\n",
       "      <th>Score</th>\n",
       "      <th>DR</th>\n",
       "      <th>A%</th>\n",
       "      <th>DF%</th>\n",
       "      <th>1stIn</th>\n",
       "      <th>1st%</th>\n",
       "      <th>2nd%</th>\n",
       "      <th>BPSvd</th>\n",
       "      <th>Time</th>\n",
       "    </tr>\n",
       "  </thead>\n",
       "  <tbody>\n",
       "    <tr>\n",
       "      <th>0</th>\n",
       "      <td>08-Mar-2021</td>\n",
       "      <td>Doha</td>\n",
       "      <td>Hard</td>\n",
       "      <td>QF</td>\n",
       "      <td>6</td>\n",
       "      <td>42</td>\n",
       "      <td>Nikoloz Basilashvili [GEO] d. (2)Federer</td>\n",
       "      <td>3-6 6-1 7-5</td>\n",
       "      <td>0.87</td>\n",
       "      <td>12.5%</td>\n",
       "      <td>0.0%</td>\n",
       "      <td>68.8%</td>\n",
       "      <td>66.7%</td>\n",
       "      <td>50.0%</td>\n",
       "      <td>7/10</td>\n",
       "      <td>1:50</td>\n",
       "    </tr>\n",
       "    <tr>\n",
       "      <th>1</th>\n",
       "      <td>08-Mar-2021</td>\n",
       "      <td>Doha</td>\n",
       "      <td>Hard</td>\n",
       "      <td>R16</td>\n",
       "      <td>6</td>\n",
       "      <td>28</td>\n",
       "      <td>(2)Federer d. Daniel Evans [GBR]</td>\n",
       "      <td>7-6(8) 3-6 7-5</td>\n",
       "      <td>1.16</td>\n",
       "      <td>12.4%</td>\n",
       "      <td>0.0%</td>\n",
       "      <td>67.6%</td>\n",
       "      <td>78.9%</td>\n",
       "      <td>52.9%</td>\n",
       "      <td>3/4</td>\n",
       "      <td>2:24</td>\n",
       "    </tr>\n",
       "    <tr>\n",
       "      <th>2</th>\n",
       "      <td>20-Jan-2020</td>\n",
       "      <td>Australian Open</td>\n",
       "      <td>Hard</td>\n",
       "      <td>SF</td>\n",
       "      <td>3</td>\n",
       "      <td>2</td>\n",
       "      <td>(2)Novak Djokovic [SRB] d. (3)Federer</td>\n",
       "      <td>7-6(1) 6-4 6-3</td>\n",
       "      <td>0.76</td>\n",
       "      <td>14.4%</td>\n",
       "      <td>2.9%</td>\n",
       "      <td>65.4%</td>\n",
       "      <td>66.2%</td>\n",
       "      <td>41.7%</td>\n",
       "      <td>7/11</td>\n",
       "      <td>2:18</td>\n",
       "    </tr>\n",
       "    <tr>\n",
       "      <th>3</th>\n",
       "      <td>20-Jan-2020</td>\n",
       "      <td>Australian Open</td>\n",
       "      <td>Hard</td>\n",
       "      <td>QF</td>\n",
       "      <td>3</td>\n",
       "      <td>100</td>\n",
       "      <td>(3)Federer d. Tennys Sandgren [USA]</td>\n",
       "      <td>6-3 2-6 2-6 7-6(8) 6-3</td>\n",
       "      <td>0.93</td>\n",
       "      <td>2.9%</td>\n",
       "      <td>1.8%</td>\n",
       "      <td>65.5%</td>\n",
       "      <td>71.4%</td>\n",
       "      <td>52.5%</td>\n",
       "      <td>10/14</td>\n",
       "      <td>3:31</td>\n",
       "    </tr>\n",
       "    <tr>\n",
       "      <th>4</th>\n",
       "      <td>20-Jan-2020</td>\n",
       "      <td>Australian Open</td>\n",
       "      <td>Hard</td>\n",
       "      <td>R16</td>\n",
       "      <td>3</td>\n",
       "      <td>67</td>\n",
       "      <td>(3)Federer d. Marton Fucsovics [HUN]</td>\n",
       "      <td>4-6 6-1 6-2 6-2</td>\n",
       "      <td>1.36</td>\n",
       "      <td>4.9%</td>\n",
       "      <td>0.0%</td>\n",
       "      <td>61.2%</td>\n",
       "      <td>76.2%</td>\n",
       "      <td>52.5%</td>\n",
       "      <td>7/9</td>\n",
       "      <td>2:11</td>\n",
       "    </tr>\n",
       "  </tbody>\n",
       "</table>\n",
       "</div>"
      ],
      "text/plain": [
       "          Date       Tournament Surface   Rd Rk  vRk  \\\n",
       "0  08-Mar-2021             Doha    Hard   QF  6   42   \n",
       "1  08-Mar-2021             Doha    Hard  R16  6   28   \n",
       "2  20-Jan-2020  Australian Open    Hard   SF  3    2   \n",
       "3  20-Jan-2020  Australian Open    Hard   QF  3  100   \n",
       "4  20-Jan-2020  Australian Open    Hard  R16  3   67   \n",
       "\n",
       "                                   Opponent                   Score    DR  \\\n",
       "0  Nikoloz Basilashvili [GEO] d. (2)Federer             3-6 6-1 7-5  0.87   \n",
       "1          (2)Federer d. Daniel Evans [GBR]          7-6(8) 3-6 7-5  1.16   \n",
       "2     (2)Novak Djokovic [SRB] d. (3)Federer          7-6(1) 6-4 6-3  0.76   \n",
       "3       (3)Federer d. Tennys Sandgren [USA]  6-3 2-6 2-6 7-6(8) 6-3  0.93   \n",
       "4      (3)Federer d. Marton Fucsovics [HUN]         4-6 6-1 6-2 6-2  1.36   \n",
       "\n",
       "      A%   DF%  1stIn   1st%   2nd%  BPSvd  Time  \n",
       "0  12.5%  0.0%  68.8%  66.7%  50.0%   7/10  1:50  \n",
       "1  12.4%  0.0%  67.6%  78.9%  52.9%    3/4  2:24  \n",
       "2  14.4%  2.9%  65.4%  66.2%  41.7%   7/11  2:18  \n",
       "3   2.9%  1.8%  65.5%  71.4%  52.5%  10/14  3:31  \n",
       "4   4.9%  0.0%  61.2%  76.2%  52.5%    7/9  2:11  "
      ]
     },
     "execution_count": 82,
     "metadata": {},
     "output_type": "execute_result"
    }
   ],
   "source": [
    "federer_h2h.head()"
   ]
  },
  {
   "cell_type": "markdown",
   "metadata": {},
   "source": [
    "- A slightly different approach:"
   ]
  },
  {
   "cell_type": "code",
   "execution_count": 83,
   "metadata": {
    "ExecuteTime": {
     "end_time": "2021-04-15T14:58:38.097794Z",
     "start_time": "2021-04-15T14:58:38.078052Z"
    }
   },
   "outputs": [
    {
     "data": {
      "text/plain": [
       "16"
      ]
     },
     "execution_count": 83,
     "metadata": {},
     "output_type": "execute_result"
    }
   ],
   "source": [
    "header = table.find_element_by_css_selector('thead')\n",
    "\n",
    "header_elements = header.find_elements_by_css_selector('th')\n",
    "\n",
    "len(header_elements)"
   ]
  },
  {
   "cell_type": "code",
   "execution_count": 84,
   "metadata": {
    "ExecuteTime": {
     "end_time": "2021-04-15T14:58:38.634244Z",
     "start_time": "2021-04-15T14:58:38.509133Z"
    }
   },
   "outputs": [
    {
     "name": "stdout",
     "output_type": "stream",
     "text": [
      "['Date', 'Tournament', 'Surface', 'Rd', 'Rk', 'vRk', '', 'Score', 'DR', 'A%', 'DF%', '1stIn', '1st%', '2nd%', 'BPSvd', 'Time']\n"
     ]
    }
   ],
   "source": [
    "headers = []\n",
    "\n",
    "for x in header_elements: \n",
    "    headers.append(x.text)\n",
    "print(headers)"
   ]
  },
  {
   "cell_type": "markdown",
   "metadata": {},
   "source": [
    "## Some other neat stuff:"
   ]
  },
  {
   "cell_type": "code",
   "execution_count": 85,
   "metadata": {
    "ExecuteTime": {
     "end_time": "2021-04-15T14:59:00.750873Z",
     "start_time": "2021-04-15T14:58:57.383687Z"
    }
   },
   "outputs": [],
   "source": [
    "# Let's take a screenshot! \n",
    "\n",
    "driver.get('https://www.nytimes.com')\n",
    "\n",
    "driver.get_screenshot_as_file('ny_times_front_pg.png')\n",
    "\n",
    "driver.quit()"
   ]
  },
  {
   "cell_type": "markdown",
   "metadata": {},
   "source": [
    "# IMDB\n",
    "Example using click and send keys"
   ]
  },
  {
   "cell_type": "code",
   "execution_count": 125,
   "metadata": {
    "ExecuteTime": {
     "end_time": "2021-04-15T15:15:46.271872Z",
     "start_time": "2021-04-15T15:15:46.269763Z"
    }
   },
   "outputs": [],
   "source": [
    "url = 'https://www.imdb.com/'"
   ]
  },
  {
   "cell_type": "code",
   "execution_count": 126,
   "metadata": {
    "ExecuteTime": {
     "end_time": "2021-04-15T15:15:48.756231Z",
     "start_time": "2021-04-15T15:15:46.787502Z"
    }
   },
   "outputs": [],
   "source": [
    "driver = webdriver.Chrome()"
   ]
  },
  {
   "cell_type": "code",
   "execution_count": 127,
   "metadata": {
    "ExecuteTime": {
     "end_time": "2021-04-15T15:15:52.090954Z",
     "start_time": "2021-04-15T15:15:49.122211Z"
    }
   },
   "outputs": [],
   "source": [
    "driver.get(url)"
   ]
  },
  {
   "cell_type": "code",
   "execution_count": 129,
   "metadata": {
    "ExecuteTime": {
     "end_time": "2021-04-15T15:16:34.279474Z",
     "start_time": "2021-04-15T15:16:34.270417Z"
    }
   },
   "outputs": [],
   "source": [
    "search_bar = driver.find_element_by_xpath('//*[@id=\"suggestion-search\"]')"
   ]
  },
  {
   "cell_type": "code",
   "execution_count": 130,
   "metadata": {
    "ExecuteTime": {
     "end_time": "2021-04-15T15:16:39.430012Z",
     "start_time": "2021-04-15T15:16:39.070949Z"
    }
   },
   "outputs": [],
   "source": [
    "search_bar.send_keys('King Kong')"
   ]
  },
  {
   "cell_type": "code",
   "execution_count": 131,
   "metadata": {
    "ExecuteTime": {
     "end_time": "2021-04-15T15:16:42.579969Z",
     "start_time": "2021-04-15T15:16:41.133603Z"
    }
   },
   "outputs": [],
   "source": [
    "search_bar.send_keys(Keys.ENTER)"
   ]
  },
  {
   "cell_type": "code",
   "execution_count": 132,
   "metadata": {
    "ExecuteTime": {
     "end_time": "2021-04-15T15:16:42.983530Z",
     "start_time": "2021-04-15T15:16:42.897838Z"
    }
   },
   "outputs": [],
   "source": [
    "rp1 = [x.find_element_by_tag_name('a').get_attribute('href') for x in driver.find_elements_by_class_name('result_text')]"
   ]
  },
  {
   "cell_type": "code",
   "execution_count": 133,
   "metadata": {
    "ExecuteTime": {
     "end_time": "2021-04-15T15:16:44.183908Z",
     "start_time": "2021-04-15T15:16:44.180527Z"
    }
   },
   "outputs": [
    {
     "data": {
      "text/plain": [
       "['https://www.imdb.com/title/tt0360717/?ref_=fn_al_tt_1',\n",
       " 'https://www.imdb.com/title/tt0074751/?ref_=fn_al_tt_2',\n",
       " 'https://www.imdb.com/name/nm0426363/?ref_=fn_al_nm_1',\n",
       " 'https://www.imdb.com/name/nm3289725/?ref_=fn_al_nm_2',\n",
       " 'https://www.imdb.com/search/keyword?keywords=king-kong&ref_=fn_al_kw_1',\n",
       " 'https://www.imdb.com/search/keyword?keywords=hong-kong&ref_=fn_al_kw_2',\n",
       " 'https://www.imdb.com/company/co0178991/?ref_=fn_al_co_1',\n",
       " 'https://www.imdb.com/company/co0120023/?ref_=fn_al_co_2']"
      ]
     },
     "execution_count": 133,
     "metadata": {},
     "output_type": "execute_result"
    }
   ],
   "source": [
    "rp1"
   ]
  },
  {
   "cell_type": "code",
   "execution_count": 134,
   "metadata": {
    "ExecuteTime": {
     "end_time": "2021-04-15T15:17:01.325528Z",
     "start_time": "2021-04-15T15:16:57.050091Z"
    }
   },
   "outputs": [],
   "source": [
    "driver.get(rp1[0])"
   ]
  },
  {
   "cell_type": "code",
   "execution_count": 135,
   "metadata": {
    "ExecuteTime": {
     "end_time": "2021-04-15T15:17:02.044462Z",
     "start_time": "2021-04-15T15:17:02.010653Z"
    }
   },
   "outputs": [],
   "source": [
    "f = driver.find_element_by_class_name('title_block').text.split('\\n')"
   ]
  },
  {
   "cell_type": "code",
   "execution_count": 136,
   "metadata": {
    "ExecuteTime": {
     "end_time": "2021-04-15T15:17:02.890255Z",
     "start_time": "2021-04-15T15:17:02.887438Z"
    }
   },
   "outputs": [
    {
     "data": {
      "text/plain": [
       "['7.2/10',\n",
       " '397,566',\n",
       " 'Rate This',\n",
       " 'King Kong (2005)',\n",
       " 'PG-13 | 3h 7min | Action, Adventure, Drama | 14 December 2005 (USA)']"
      ]
     },
     "execution_count": 136,
     "metadata": {},
     "output_type": "execute_result"
    }
   ],
   "source": [
    "f"
   ]
  },
  {
   "cell_type": "code",
   "execution_count": 137,
   "metadata": {
    "ExecuteTime": {
     "end_time": "2021-04-15T15:17:03.900084Z",
     "start_time": "2021-04-15T15:17:03.897964Z"
    }
   },
   "outputs": [],
   "source": [
    "keys = ['star_rating','num_reviews','Title','rating','length','Genres','Release']"
   ]
  },
  {
   "cell_type": "code",
   "execution_count": 138,
   "metadata": {
    "ExecuteTime": {
     "end_time": "2021-04-15T15:17:09.017984Z",
     "start_time": "2021-04-15T15:17:09.014123Z"
    }
   },
   "outputs": [
    {
     "data": {
      "text/plain": [
       "['7.2/10',\n",
       " '397,566',\n",
       " 'King Kong (2005)',\n",
       " 'PG-13',\n",
       " '3h 7min',\n",
       " 'Action, Adventure, Drama',\n",
       " '14 December 2005 (USA)']"
      ]
     },
     "execution_count": 138,
     "metadata": {},
     "output_type": "execute_result"
    }
   ],
   "source": [
    "f = f[:-1] + f[-1].split(' | ')\n",
    "f.pop(2)\n",
    "f"
   ]
  },
  {
   "cell_type": "code",
   "execution_count": 139,
   "metadata": {
    "ExecuteTime": {
     "end_time": "2021-04-15T15:17:10.475978Z",
     "start_time": "2021-04-15T15:17:10.472629Z"
    }
   },
   "outputs": [
    {
     "data": {
      "text/plain": [
       "{'star_rating': '7.2/10',\n",
       " 'num_reviews': '397,566',\n",
       " 'Title': 'King Kong (2005)',\n",
       " 'rating': 'PG-13',\n",
       " 'length': '3h 7min',\n",
       " 'Genres': 'Action, Adventure, Drama',\n",
       " 'Release': '14 December 2005 (USA)'}"
      ]
     },
     "execution_count": 139,
     "metadata": {},
     "output_type": "execute_result"
    }
   ],
   "source": [
    "dict(zip(keys,f))"
   ]
  },
  {
   "cell_type": "markdown",
   "metadata": {},
   "source": [
    "## Find reviews for a list of movies"
   ]
  },
  {
   "cell_type": "code",
   "execution_count": 140,
   "metadata": {
    "ExecuteTime": {
     "end_time": "2021-04-15T15:17:12.389170Z",
     "start_time": "2021-04-15T15:17:12.325657Z"
    }
   },
   "outputs": [
    {
     "name": "stdout",
     "output_type": "stream",
     "text": [
      "['MikeWindgren', 'See all my reviews', 'Report this', 'Review this title', 'See all 2,736 user reviews']\n"
     ]
    },
    {
     "data": {
      "text/plain": [
       "'https://www.imdb.com/title/tt0360717/reviews?ref_=tt_urv'"
      ]
     },
     "execution_count": 140,
     "metadata": {},
     "output_type": "execute_result"
    }
   ],
   "source": [
    "#get url for reviews by class name and use driver.get\n",
    "reviews = driver.find_element_by_class_name('user-comments')\n",
    "#this shows us we want the last link so we take the last a_tag\n",
    "print([x.text for x in reviews.find_elements_by_tag_name('a')])\n",
    "reviews.find_elements_by_tag_name('a')[-1].get_attribute('href')"
   ]
  },
  {
   "cell_type": "code",
   "execution_count": 141,
   "metadata": {
    "ExecuteTime": {
     "end_time": "2021-04-15T15:17:14.763947Z",
     "start_time": "2021-04-15T15:17:13.433830Z"
    }
   },
   "outputs": [],
   "source": [
    "#or find url by xpath and click on that button\n",
    "driver.find_element_by_xpath('//*[@id=\"titleUserReviewsTeaser\"]/div/a[2]').click()"
   ]
  },
  {
   "cell_type": "code",
   "execution_count": 142,
   "metadata": {
    "ExecuteTime": {
     "end_time": "2021-04-15T15:17:18.535634Z",
     "start_time": "2021-04-15T15:17:18.525654Z"
    }
   },
   "outputs": [],
   "source": [
    "#Lets pull out 1 review and get each item, then we can put it in a loop\n",
    "x = driver.find_elements_by_class_name('review-container')[0]"
   ]
  },
  {
   "cell_type": "code",
   "execution_count": 143,
   "metadata": {
    "ExecuteTime": {
     "end_time": "2021-04-15T15:20:15.386176Z",
     "start_time": "2021-04-15T15:20:15.365078Z"
    }
   },
   "outputs": [
    {
     "data": {
      "text/plain": [
       "'9/10'"
      ]
     },
     "execution_count": 143,
     "metadata": {},
     "output_type": "execute_result"
    }
   ],
   "source": [
    "#get rating\n",
    "x.find_element_by_tag_name('span').text"
   ]
  },
  {
   "cell_type": "code",
   "execution_count": 144,
   "metadata": {
    "ExecuteTime": {
     "end_time": "2021-04-15T15:25:36.905063Z",
     "start_time": "2021-04-15T15:25:36.886952Z"
    }
   },
   "outputs": [
    {
     "data": {
      "text/plain": [
       "'Terrific Adaptation'"
      ]
     },
     "execution_count": 144,
     "metadata": {},
     "output_type": "execute_result"
    }
   ],
   "source": [
    "#get title\n",
    "x.find_element_by_class_name('title').text"
   ]
  },
  {
   "cell_type": "code",
   "execution_count": 145,
   "metadata": {
    "ExecuteTime": {
     "end_time": "2021-04-15T15:25:37.939172Z",
     "start_time": "2021-04-15T15:25:37.921576Z"
    }
   },
   "outputs": [
    {
     "data": {
      "text/plain": [
       "'26 July 2020'"
      ]
     },
     "execution_count": 145,
     "metadata": {},
     "output_type": "execute_result"
    }
   ],
   "source": [
    "#get date\n",
    "x.find_element_by_class_name('review-date').text"
   ]
  },
  {
   "cell_type": "code",
   "execution_count": 146,
   "metadata": {
    "ExecuteTime": {
     "end_time": "2021-04-15T15:25:40.555970Z",
     "start_time": "2021-04-15T15:25:40.534411Z"
    }
   },
   "outputs": [
    {
     "data": {
      "text/plain": [
       "\"This is the best adaptation to date of King Kong. It's a lengthy and rewarding piece. The over three hour run time might seem standoffish at first but you won't regret investing the time in watching this movie. The star of the film, Kong, is wonderfully anthropomorphic and you can readily identify with his nonverbal communication thanks to the work of Andy Serkis. A great and satisfying film. I am always saddened at the tragic ending.\\n26 out of 28 found this helpful. Was this review helpful? Sign in to vote.\\nPermalink\""
      ]
     },
     "execution_count": 146,
     "metadata": {},
     "output_type": "execute_result"
    }
   ],
   "source": [
    "#get the review\n",
    "x.find_element_by_class_name('content').text"
   ]
  },
  {
   "cell_type": "code",
   "execution_count": 147,
   "metadata": {
    "ExecuteTime": {
     "end_time": "2021-04-15T15:26:36.238478Z",
     "start_time": "2021-04-15T15:26:34.747408Z"
    }
   },
   "outputs": [],
   "source": [
    "#now lets put it in a loop\n",
    "data = []\n",
    "keys = ['rating','title','date','review']\n",
    "reviews = driver.find_elements_by_class_name('review-container')\n",
    "for review in reviews:\n",
    "    lst = [review.find_element_by_tag_name('span').text,\n",
    "    review.find_element_by_class_name('title').text,\n",
    "    review.find_element_by_class_name('review-date').text,\n",
    "    review.find_element_by_class_name('content').text]\n",
    "    data.append(dict(zip(keys,lst)))"
   ]
  },
  {
   "cell_type": "code",
   "execution_count": 148,
   "metadata": {
    "ExecuteTime": {
     "end_time": "2021-04-15T15:26:37.388448Z",
     "start_time": "2021-04-15T15:26:37.383775Z"
    }
   },
   "outputs": [
    {
     "data": {
      "text/plain": [
       "[{'rating': '9/10',\n",
       "  'title': 'Terrific Adaptation',\n",
       "  'date': '26 July 2020',\n",
       "  'review': \"This is the best adaptation to date of King Kong. It's a lengthy and rewarding piece. The over three hour run time might seem standoffish at first but you won't regret investing the time in watching this movie. The star of the film, Kong, is wonderfully anthropomorphic and you can readily identify with his nonverbal communication thanks to the work of Andy Serkis. A great and satisfying film. I am always saddened at the tragic ending.\\n26 out of 28 found this helpful. Was this review helpful? Sign in to vote.\\nPermalink\"},\n",
       " {'rating': '10/10',\n",
       "  'title': 'Not the recognition it deserves!!!',\n",
       "  'date': '10 May 2020',\n",
       "  'review': \"Typical Peter Jackson, however gonna watch the even longer extended 3 hours 20 minutes edition in 4k, not watched in years but the picture is epic apart from it being too warm for my liking. The sound is the unusual DTS-X high def sound and already is gorgeous!\\n\\nHowever enough of the technical borefest hahaha... this film for me is stunningly shot... some of the shots of the city are incredible. It really is a grand film and for me better than his LOTR trilogy which I may well resist soon.\\n\\nHowever its the cinematography and sets that set this film apart from most films... integrated so well with XGI which even in 4k is holding up well... stunning is all I can say, actually old school filming with modern techniques!\\n\\nClassic tale and story that recreates the original for the modern era. Even Jack Black is watchable but the stunning Naomi Watts is very very watchable hahaha.\\n\\nThis film doesn't get the recognition it deserves!!! As an achievement in cinema alone its a 10/10. You want blockbusters that have a story and a smidge of empathy with the characters with possibly the greatest ending of all monster films ever... this is how you do it.\\n\\nMarvel and DC and all the other nonsense need to take a step back!!! This is how you combine live action, real sets and CGI into an epic tale...\"},\n",
       " {'rating': '8/10',\n",
       "  'title': 'King Kong ...... Long Live the KING!',\n",
       "  'date': '31 July 2016',\n",
       "  'review': '.....from Pasto,Colombia...Via: L.A. CA., CALI, COLOMBIA...and ORLANDO, FL\\n\\nWARNING: Contains what might be considered a couple minor spoilers!\\n\\nIn 1956, when I was 8, I saw the original version (1933) of King Kong for the first time. It impacted me very much! ....Although the film tripled me in age, its special effects were the best I had ever seen, without a doubt. The director of King Kong (2005), Peter Jackson (Trilogy: Lord of the Rings), says he saw the original version at age nine and that was what inspired him to become a film-maker. This new version is perhaps one of the best cinema remakes of recent years! BUT...(and it is a very BIG \"BUT\"!) The simple fact that it is not an original story involves many limitations, at least, in my opinion!\\n\\nHowever, for a few minutes, I\\'ll try to continue this review taking into account that the vast majority of you have never seen the 1933 original. King Kong (2005) has many things going for it and against it! Despite this, any film, and King Kong in particular, is much more than a summary and analysis of its strengths and weaknesses. It is, basically, an indictment of just how the modern world destroys everything that is good and innocent for its insatiable appetite for massive and rampant commercialization. Of course, if one so wishes to interpret it that way.\\n\\nFor many, King Kong will probably seem like a surreal time machine... first, leading you to the City of New York, at the beginning of the 30s. It is worth commenting that Jackson\\' recreation was nothing short of absolutely spectacular. Perhaps the best recreation and atmosphere of someplace in the past, without a doubt. Then, when they get to \"Skull Island\", we are in a prehistoric world, forgotten millions of years ago. I would say it also qualifies as the best cinematic representation of its type that has appeared in films until 2005, however, not by much, but rather, just barely.\\n\\nThe real charm of the film is its very believable emotional relationship developed between Ann Darrow (Naomi Watts) and the digital image rendering of KING KONG himself. The strangest thing about this relationship is the apparent peculiar inversion of roles between Ms. Darrow and King Kong. A very special relationship between a dog and its master is very common, where a number of qualities are seen clearly, like love, affection, friendship, mutual respect, platonic love, loyalty, and being able to spend time together sharing activities. In addition, a master offers his pet special care and affection. What happens here is that King Kong is the master and Ann Darrow, by her own volition, assumes the role of pet. Of course, both these terms are used here in the best possible sense!\\n\\nAnother great achievement of King Kong is the awesome reality represented in its title character. Previously, I think Lord of the Rings\\' Gollum, also directed by Peter Jackson, was the most realistic CGI character image. But King Kong, you can say, is the first digital character that seems real in almost every scene of the film. Above all, the depth of emotion expressed in the eyes has no equal. If for no other reason than this, it makes it all really worth it!\\n\\nThere are some other negatives that caught my attention. Jack Black is a comedian of great merit. I was somewhat disappointed with his portrayal of Carl Denham, the eccentric and very egocentric producer responsible for organizing the expedition film. He should learn, as did Jim Carrey, to leave his mugging faces for comedy. Also, I this kind of film probably appeals to many children 9, or under. King Kong, unfortunately for them, has a couple wildly violent moments that you may not find suitable for them. Too bad, because 95% of KONG is great for kids.\\n\\nThis film lasts three full hours. The last two are full of action, but in the first hour, there are some lethargic moments. Perhaps Mr. Jackson could have cut some 20 to 25 minutes, no problem. My last complaint has to do with the famous phrase: \"Suspension of Belief\". In 2 or 3 scenes, digital images maintain a level of frenetic action so exaggerated, so long-lasting, it\\'s a little hard not to drop the famous phrase as in, \"Oops! There goes my Suspension.!\"\\n\\nBut all in all, I think kudos are in order for Peter Jackson and the vision that he has shown with his version of King Kong. For three decades, Steven Spielberg was the king of Hollywood. There seems to be a new king. Long live the king! Long live Peter Jackson! Long Live King Kong!\\n\\n8*....ENJOY/DISFRUTELA !\\n\\nAny comments, questions or observations, in English, o en Español, are most welcome! ......'},\n",
       " {'rating': '7/10',\n",
       "  'title': 'A 10-star 2-hour movie screaming to get out of a 7-star 3-hour movie',\n",
       "  'date': '17 January 2006',\n",
       "  'review': ''},\n",
       " {'rating': '10/10',\n",
       "  'title': 'Beauty Killed the Beast',\n",
       "  'date': '10 January 2006',\n",
       "  'review': ''},\n",
       " {'rating': '9/10',\n",
       "  'title': 'A Great Adventure',\n",
       "  'date': '22 May 2020',\n",
       "  'review': \"I agree, some scenes maybe are a bit too long. But what do you expect from a 3 hour movie? That it is short?\\n\\nYou know how the duration before you start watching.\\n\\nI was thinking give it an eight or a nine. I chose nine. Because overall this still is a great adventure movie for sure.\\n\\nThe more recent Kong: Skull Island is a fun watch as well, but more like a fast paced action movie of it's time.\\n\\nThis Peter Jackson version has it's fair amount of action and still pretty good effects and tells a better and more complete story.\\n17 out of 21 found this helpful. Was this review helpful? Sign in to vote.\\nPermalink\"},\n",
       " {'rating': '8/10',\n",
       "  'title': 'When Kong got to the top of the Empire State Building, at least for a few minutes, he was the king',\n",
       "  'date': '29 March 2006',\n",
       "  'review': ''},\n",
       " {'rating': 'BigHardcoreRed',\n",
       "  'title': 'Truly A Masterpiece!',\n",
       "  'date': '15 December 2005',\n",
       "  'review': 'Let me just say that with all of the remakes that have been coming out, King Kong may have been the most deserving and the most in need of being remade. I could not think of a better director for this type of film than Peter Jackson.\\n\\nKing Kong stays pretty true to the original. Naomi Watts plays Fay Wray\\'s Ann Darrow perfectly. Right down to her emotional connection with Kong, which is helped by the fact that Kong is pretty darn lovable when he is not ripping apart dinosaurs.\\n\\nAdrien Brody plays a great Jack Driscoll as well. Brody is truly a gifted actor and plays a good hero.\\n\\nEven Jack Black did a good job as the rebellious director Carl Denham. Usually I am annoyed by Black\\'s performances, even though they are mostly in comedies. Surprisingly, Black kept his character serious and the movie is better for it. I though for sure he would be the one to ruin this movie for me but, again, I stand corrected. The comedy seemed to be reserved for Kong, himself, and did a wonderful job.\\n\\nI can not express how much more I enjoyed this movie without the \"guy in the suit\" special effects. Kong was very appealing visually, as well as the other dinosaurs. I do not say this too much in reviews. In fact, I doubt I have ever said it but King Kong has turned out to be a masterpiece which will raise the bar for many years to come. 10/10'},\n",
       " {'rating': '7/10',\n",
       "  'title': 'Kong draws sympathy beautifully; the rest is flawed',\n",
       "  'date': '18 December 2005',\n",
       "  'review': ''},\n",
       " {'rating': '10/10',\n",
       "  'title': 'A roaring success',\n",
       "  'date': '9 December 2005',\n",
       "  'review': ''},\n",
       " {'rating': '9/10',\n",
       "  'title': 'Wow',\n",
       "  'date': '5 December 2005',\n",
       "  'review': \"This film is simply amazing. The best remake I have ever seen, expect nothing but aces in the drama and action department in this film. Peter Jackson manages to helm one hell of a movie, and what is destined to be 2005's top film.\\n\\nNever have I seen a CG Character garner so much emotion. If you thought the first film is heartbreaking, this one down right makes it tough to not shed at least a tear by the end of the film.\\n\\nBy the way, once the action starts in this film, it NEVER let's up. A beautiful yet sad film, I can't wait to see it again.\\n\\nThose who are afraid that this film might do anything to take away from the original, do not worry. The time and setting of this film really keeps the original's spirit intact, while carving some fantastical new ground of it's own. Though some of the actual scenery here and there may look a bit fake, you will never ever think that about the main ape himself.\"},\n",
       " {'rating': 'bob the moo',\n",
       "  'title': \"Attempts at depth are worthy enough even if they don't work but the rest still produces a commendable special effects blockbuster\",\n",
       "  'date': '28 May 2006',\n",
       "  'review': '1933 New York and two people find themselves in difficult circumstances, albeit for different reasons. Carl Denham is a movie producer who wants to make his big picture but finds the studio unwilling to support him. Ann Darrow is an actress who has hit hard times and is one meal away from having to become a performer in a seedier version of \"acting\". While frantically searching for an actress that he can quickly convince to come on a mystery voyage to shoot on a distant island, Carl meets Ann and convinces her to come along on the strength of the involvement of writer Jack Driscoll. After an eventful journey, they arrive at the island but to suggest that they face a \"troublesome\" shoot is a real understatement.\\n\\nIn my 12 hour wait for my \"First Class\" seat for a transatlantic flight to America I discovered that \"First Class\" to Continental means \"you pay lost more cash but we extend you just the same (dis)courtesy as the economy passengers\". With my laptop with me I was at least able to find some distraction with a DVD copy of King Kong. Although I\\'m sure it loses something by being seen on a comparatively small screen I still enjoyed the film as a big budget b-movie, which is pretty much what it was. Sure, Jackson may have had aspirations to deepen the story and bring real pathos out of his \"characters\" but he doesn\\'t particularly pull it off and most of the viewers will have been there for the big effects rather than the chance to explore the emotions within a cinematic legend. So in this regard the film works by kicking out the action after a comparatively slow start where we spend a lot of time with lesser characters who don\\'t matter that much in the wider context of the narrative.\\n\\nHowever when the action comes it is slick, noisy and visually impressive. The only thing I did have a problem with was how hollow it all was. Jackson does attempt to develop a tender relationship between Kong and Ann, but the material struggles to deliver the goods and all that we are left with is lots of \"meaningful\" looks as the pair get some sort of unspoken (and unseen!) understanding. At this level the film didn\\'t really engage me \\x96 I respected what he was trying to do with it, but I\\'m afraid I can\\'t relate to those who claim to have cried and felt so much from this \"beautiful\" relationship.\\n\\nFaced with such big effects, noise and spectacle, the cast cannot do much other than try and hold their own. Watts has the hardest role as she tries to react and bond with a creature that was never actually there with her in reality \\x96 only in a computer. When you remember this, her performance is pretty commendable but when I was watching the film I must admit that I thought she relied far too much on staring and looking sad or having a half-smile on her face; she still did as well as one could have hoped but again I don\\'t get the claims that she was brilliant here when she clearly wasn\\'t. Black and Brody are very much supporting performances that have little to do; Brody didn\\'t suit his role and Black never convinced as a larger than life movie producer. Yet again Serkis does a good job to bring an effect to life although for obvious reasons he is nowhere near as good as he was in the Lord of the Rings films and he can only do so much with expressions.\\n\\nOverall then a solidly enjoyable blockbuster that produces plenty of noise, action and impressive visual effects. The attempts at depth and meaning are laudable and do add something to the mix but I\\'m afraid that it doesn\\'t really work as well as some viewers have claimed. Still worth seeing as a blockbuster experience though, despite some of the flaws inherent in the approach and the rather cumbersome running time.'},\n",
       " {'rating': '5/10',\n",
       "  'title': 'I just could not suspend that much disbelief!',\n",
       "  'date': '18 December 2005',\n",
       "  'review': ''},\n",
       " {'rating': '10/10',\n",
       "  'title': \"Jackson's Soulful, Spunky, Spectacular Labor of Love\",\n",
       "  'date': '6 December 2005',\n",
       "  'review': 'I was one of the lucky winners of the Kong is King.net World Premiere Ticket contest, so my husband and I had the pleasure of seeing KING KONG in Times Square\\'s Loews E-Walk Theatre. I knew I\\'d like it the minute I saw the Art Deco opening credits, very reminiscent of RKO\\'s style. The movie only got better from there, carrying us moviegoers on a roller-coaster ride of adventure, romance, and eye-popping special effects. What raises Jackson\\'s take on KING KONG above other rock\\'em-sock\\'em action blockbusters is that it\\'s so clearly a labor of love in every sense of the term, a spectacle with soul and spunk. It\\'s not every rollicking adventure film that begins with scenes of life in 1933 New York City, when the Great Depression was at its worst. No wonder plucky but vulnerable actress Ann Darrow (Naomi Watts is at her most beautiful and winsome as a more proactive version of Fay Wray\\'s star-making role) is willing to take a chance with fast-talking movie producer/director Carl Denham (Jack Black, a rascally delight) on his latest project, involving leaving for the South Seas that very night.\\n\\nThe characters are no mere genre archetypes; before their adventure begins, Jackson and his talented cast let us get to know and care about every one of them. When crewmen from the S.S. Venture get injured or killed by Skull Island\\'s various fearsome natives and beasts, we mourn them. When Ann and playwright Jack Driscoll (Adrien Brody combines strength and sensitivity wonderfully as this unlikely hero. He gets my vote for Movie Mensch of the Year!) connect on screen, we\\'re moved and rooting for them to get together, especially after they share one of this year\\'s best screen kisses. Even the calculating Denham wins us over with his sheer force of will. A real Orson Welles type, the guy just loves making movies -- and money -- so much he\\'ll go to insane lengths to make his project a reality, whether it involves outrunning his creditors, shanghaiing Driscoll on the Venture, or tricking his cast and crew onto uncharted Skull Island.\\n\\nMost importantly, King Kong himself captivates us, thanks to a combination of WETA\\'s amazing special effects and the range of emotion provided by a motion-captured Andy Serkis. If only one cast member gets an Oscar nomination, I say give it to Serkis for his wonderful performances as both Kong and Lumpy the cook! :-) Kong has never been just another scary big ape in any of the previous film versions of his story, but Jackson and Serkis make him particularly engaging, not just because he looks so convincingly weatherbeaten, but he moves like an ape (on all fours, thank you) and has the facial expressions of a human. As a result, we can see how Kong\\'s terrifying side is influenced by his tender side. Yes, I said \"tender.\" How else can you describe his protectiveness towards Ann on Skull Island after she wins him over by performing her lively vaudeville act? When Kong does go nutzoid, it\\'s because either he or Ann are being threatened, whether by people, planes, or Skull Island\\'s jaw-dropping, scream-inducing array of monsters and aborigine tribespeople. Jackson & Company give the big guy plenty of dizzying set pieces to show his stuff, involving everything from dinosaurs, toothy insects as long as your arm, and speeding taxicabs in New York City traffic (the scene where Brody did his own stunt driving; all those years of drag-racing on the streets of Woodhaven, Queens really paid off! :-), to say nothing of the dazzling Empire State Building climax. Moreover, Andrew Lesnie\\'s cinematography is as gorgeous as it is kinetic; Adrien Brody should make sure Lesnie photographs every film he\\'s in from now on, because he\\'s never looked so handsome as he does here! :-) KING KONG is over 3 hours long, yet I never once thought to look at my watch. It\\'s 3+ hours and the price of admission well-spent.'},\n",
       " {'rating': '3/10',\n",
       "  'title': 'Too much, too long, too bad',\n",
       "  'date': '18 December 2005',\n",
       "  'review': ''},\n",
       " {'rating': '10/10',\n",
       "  'title': 'A Monumental Success of a Movie',\n",
       "  'date': '18 December 2005',\n",
       "  'review': 'If it had been announced that a remake of the classic \"King Kong\" was being made without the name Peter Jackson attached to it, there is no doubt audiences would have been outraged. But after the enormous success of the Lord of the Rings trilogy, it would seem that the general public has learned to trust director Peter Jackson. After watching his remake of King Kong, I would have to say that their trust was well placed.\\n\\nJackson now firmly cements his name as a master filmmaker, the kind that all aspiring directors want to be. The attention he pays to the most minute details, the sheer class he shows in terms of production and scale, the amount of skill he has in manipulating our fragile emotions... the man is clearly one of the most talented directors in film history. And Jackson certainly brings his considerable skill and flair to show here in \\'Kong\\'. While a different director likely would have sped up the story to the crew\\'s arrival on Skull Island, Jackson takes his time with a nice, leisurely build up to their arrival, giving us lots of time to really get to know these characters, and also providing time for a slow and genuine romance building between the characters of Anne and Jack. This romance does lead to the very few and seldom weaknesses of the film... the romance scenes can seem a bit cheesy and contrived at times. But when that\\'s literally the only complain I can make, it\\'s a pretty damn good sign for the movie!\\n\\nThe visual effects are an essential part of the movie, and they really needed to be done well here to properly sell the idea - safe to say that they were still good enough to surpass my already unrealistically high expectations! Safe to say, even in today\\'s computer saturated film industry the special effects in King Kong will still succeed in blowing you away. And Jackson seems to have an almost uncanny skill in manipulating his audience\\'s emotions - you will cheer, you will laugh, you will cry, you will really be on the edge of your seat and you will be truly and thoroughly disgusted in at least one part of the movie - watch out for a cave full of giant insects on Skull Island. It seemed only fair to post a warning considering how profoundly well done it is...\\n\\nThe cast is pitch perfect, right down to the most minuscule parts. (the natives on Skull Island are even more terrifying than any orcs or evil creatures in LOTR) Naomi Watts gives a heartwarming and wonderful performance as the innocent Ann Darrow, the \"beauty who killed the beast\". And indeed, performance aside, Watts hasn\\'t looked this beautiful for quite a while! While everyone had their doubts about Jack Black\\'s casting a while back, he proves to be just what his character needed to be truly believable. Black harnesses his trademark manic energy, and instead of playing it for laughs, expels it through Carl Denham\\'s passion for the film industry, and his lust for providing a show for his audiences - sometimes at the cost of his morals. I must admit, I have never been a fan of Adrien Brody, but even he managed to win my sympathies, and proves surprisingly convincing as heroic screenwriter Jack Driscoll. And then there\\'s Andy Serkis... the man is so underrated, since his best performances have been overshadowed by masks of admittably impressive CGI, but result in him losing credit he so desperately deserves. Serkis, while utterly convincing as an enormous silverback gorilla in terms of movement and vocalizations, still manages to bring a surprising humanity to Kong. I\\'m hard pressed to remember the last time an animal protagonist has managed to capture our hearts and emotional involvement as much as Kong does, and Serkis definitely deserves accolades for re-creating such an iconic character in a beautiful fashion only through movement and body language. He also takes a hilarious supporting role as the grizzled and trigger-happy Lumpy the cook.\\n\\nOverall, I think it is safe to say that King Kong succeeds on a level completely lost to most productions these days. Rarely are our emotions manipulated with such ease, rarely do we find ourselves getting so engrossed in a story that a 3 hour running time seems to have gone by far too quickly and we yearn for more. King Kong is an odyssey of a movie, and the most genuine and compelling output seen since... well, the Lord of the Rings. This is classic storytelling at its peak - don\\'t miss out on it!\\n\\n-10/10'},\n",
       " {'rating': '1/10',\n",
       "  'title': 'King Bomb',\n",
       "  'date': '16 January 2006',\n",
       "  'review': ''},\n",
       " {'rating': '1/10',\n",
       "  'title': \"How did they make it so boring when there's so much action?\",\n",
       "  'date': '16 December 2005',\n",
       "  'review': ''},\n",
       " {'rating': '1/10',\n",
       "  'title': 'Over Hyped',\n",
       "  'date': '10 January 2006',\n",
       "  'review': ''},\n",
       " {'rating': '1/10',\n",
       "  'title': '8.3 rating on IMDb? How?',\n",
       "  'date': '17 December 2005',\n",
       "  'review': ''},\n",
       " {'rating': '10/10',\n",
       "  'title': 'Simply jaw-dropping',\n",
       "  'date': '15 December 2005',\n",
       "  'review': ''},\n",
       " {'rating': 'StarkTech',\n",
       "  'title': 'Huge Disappointment ... too dumb for words',\n",
       "  'date': '16 December 2005',\n",
       "  'review': ''},\n",
       " {'rating': '2/10',\n",
       "  'title': 'I need to rent \"Showgirls\" to get the bad taste out of my mouth ...',\n",
       "  'date': '15 December 2005',\n",
       "  'review': ''},\n",
       " {'rating': '1/10',\n",
       "  'title': 'Save your money and your time',\n",
       "  'date': '2 January 2006',\n",
       "  'review': ''},\n",
       " {'rating': '1/10',\n",
       "  'title': 'Total Monkey Dung!',\n",
       "  'date': '18 January 2006',\n",
       "  'review': ''}]"
      ]
     },
     "execution_count": 148,
     "metadata": {},
     "output_type": "execute_result"
    }
   ],
   "source": [
    "#Whats wrong with the output of this data?\n",
    "data"
   ]
  },
  {
   "cell_type": "markdown",
   "metadata": {},
   "source": []
  },
  {
   "cell_type": "code",
   "execution_count": 149,
   "metadata": {
    "ExecuteTime": {
     "end_time": "2021-04-15T15:28:08.128439Z",
     "start_time": "2021-04-15T15:28:08.094977Z"
    }
   },
   "outputs": [
    {
     "ename": "ElementNotInteractableException",
     "evalue": "Message: element not interactable\n  (Session info: chrome=89.0.4389.128)\n",
     "output_type": "error",
     "traceback": [
      "\u001b[0;31m---------------------------------------------------------------------------\u001b[0m",
      "\u001b[0;31mElementNotInteractableException\u001b[0m           Traceback (most recent call last)",
      "\u001b[0;32m<ipython-input-149-ff990530395d>\u001b[0m in \u001b[0;36m<module>\u001b[0;34m()\u001b[0m\n\u001b[1;32m      1\u001b[0m \u001b[0;31m#Lets see if we can expand the hidden reviews\u001b[0m\u001b[0;34m\u001b[0m\u001b[0;34m\u001b[0m\u001b[0;34m\u001b[0m\u001b[0m\n\u001b[0;32m----> 2\u001b[0;31m \u001b[0;34m[\u001b[0m\u001b[0mx\u001b[0m\u001b[0;34m.\u001b[0m\u001b[0mclick\u001b[0m\u001b[0;34m(\u001b[0m\u001b[0;34m)\u001b[0m \u001b[0;32mfor\u001b[0m \u001b[0mx\u001b[0m \u001b[0;32min\u001b[0m \u001b[0mdriver\u001b[0m\u001b[0;34m.\u001b[0m\u001b[0mfind_elements_by_class_name\u001b[0m\u001b[0;34m(\u001b[0m\u001b[0;34m'ipl-expander'\u001b[0m\u001b[0;34m)\u001b[0m\u001b[0;34m]\u001b[0m\u001b[0;34m\u001b[0m\u001b[0;34m\u001b[0m\u001b[0m\n\u001b[0m",
      "\u001b[0;32m<ipython-input-149-ff990530395d>\u001b[0m in \u001b[0;36m<listcomp>\u001b[0;34m(.0)\u001b[0m\n\u001b[1;32m      1\u001b[0m \u001b[0;31m#Lets see if we can expand the hidden reviews\u001b[0m\u001b[0;34m\u001b[0m\u001b[0;34m\u001b[0m\u001b[0;34m\u001b[0m\u001b[0m\n\u001b[0;32m----> 2\u001b[0;31m \u001b[0;34m[\u001b[0m\u001b[0mx\u001b[0m\u001b[0;34m.\u001b[0m\u001b[0mclick\u001b[0m\u001b[0;34m(\u001b[0m\u001b[0;34m)\u001b[0m \u001b[0;32mfor\u001b[0m \u001b[0mx\u001b[0m \u001b[0;32min\u001b[0m \u001b[0mdriver\u001b[0m\u001b[0;34m.\u001b[0m\u001b[0mfind_elements_by_class_name\u001b[0m\u001b[0;34m(\u001b[0m\u001b[0;34m'ipl-expander'\u001b[0m\u001b[0;34m)\u001b[0m\u001b[0;34m]\u001b[0m\u001b[0;34m\u001b[0m\u001b[0;34m\u001b[0m\u001b[0m\n\u001b[0m",
      "\u001b[0;32m/opt/anaconda3/envs/learn-env/lib/python3.6/site-packages/selenium/webdriver/remote/webelement.py\u001b[0m in \u001b[0;36mclick\u001b[0;34m(self)\u001b[0m\n\u001b[1;32m     78\u001b[0m     \u001b[0;32mdef\u001b[0m \u001b[0mclick\u001b[0m\u001b[0;34m(\u001b[0m\u001b[0mself\u001b[0m\u001b[0;34m)\u001b[0m\u001b[0;34m:\u001b[0m\u001b[0;34m\u001b[0m\u001b[0;34m\u001b[0m\u001b[0m\n\u001b[1;32m     79\u001b[0m         \u001b[0;34m\"\"\"Clicks the element.\"\"\"\u001b[0m\u001b[0;34m\u001b[0m\u001b[0;34m\u001b[0m\u001b[0m\n\u001b[0;32m---> 80\u001b[0;31m         \u001b[0mself\u001b[0m\u001b[0;34m.\u001b[0m\u001b[0m_execute\u001b[0m\u001b[0;34m(\u001b[0m\u001b[0mCommand\u001b[0m\u001b[0;34m.\u001b[0m\u001b[0mCLICK_ELEMENT\u001b[0m\u001b[0;34m)\u001b[0m\u001b[0;34m\u001b[0m\u001b[0;34m\u001b[0m\u001b[0m\n\u001b[0m\u001b[1;32m     81\u001b[0m \u001b[0;34m\u001b[0m\u001b[0m\n\u001b[1;32m     82\u001b[0m     \u001b[0;32mdef\u001b[0m \u001b[0msubmit\u001b[0m\u001b[0;34m(\u001b[0m\u001b[0mself\u001b[0m\u001b[0;34m)\u001b[0m\u001b[0;34m:\u001b[0m\u001b[0;34m\u001b[0m\u001b[0;34m\u001b[0m\u001b[0m\n",
      "\u001b[0;32m/opt/anaconda3/envs/learn-env/lib/python3.6/site-packages/selenium/webdriver/remote/webelement.py\u001b[0m in \u001b[0;36m_execute\u001b[0;34m(self, command, params)\u001b[0m\n\u001b[1;32m    631\u001b[0m             \u001b[0mparams\u001b[0m \u001b[0;34m=\u001b[0m \u001b[0;34m{\u001b[0m\u001b[0;34m}\u001b[0m\u001b[0;34m\u001b[0m\u001b[0;34m\u001b[0m\u001b[0m\n\u001b[1;32m    632\u001b[0m         \u001b[0mparams\u001b[0m\u001b[0;34m[\u001b[0m\u001b[0;34m'id'\u001b[0m\u001b[0;34m]\u001b[0m \u001b[0;34m=\u001b[0m \u001b[0mself\u001b[0m\u001b[0;34m.\u001b[0m\u001b[0m_id\u001b[0m\u001b[0;34m\u001b[0m\u001b[0;34m\u001b[0m\u001b[0m\n\u001b[0;32m--> 633\u001b[0;31m         \u001b[0;32mreturn\u001b[0m \u001b[0mself\u001b[0m\u001b[0;34m.\u001b[0m\u001b[0m_parent\u001b[0m\u001b[0;34m.\u001b[0m\u001b[0mexecute\u001b[0m\u001b[0;34m(\u001b[0m\u001b[0mcommand\u001b[0m\u001b[0;34m,\u001b[0m \u001b[0mparams\u001b[0m\u001b[0;34m)\u001b[0m\u001b[0;34m\u001b[0m\u001b[0;34m\u001b[0m\u001b[0m\n\u001b[0m\u001b[1;32m    634\u001b[0m \u001b[0;34m\u001b[0m\u001b[0m\n\u001b[1;32m    635\u001b[0m     \u001b[0;32mdef\u001b[0m \u001b[0mfind_element\u001b[0m\u001b[0;34m(\u001b[0m\u001b[0mself\u001b[0m\u001b[0;34m,\u001b[0m \u001b[0mby\u001b[0m\u001b[0;34m=\u001b[0m\u001b[0mBy\u001b[0m\u001b[0;34m.\u001b[0m\u001b[0mID\u001b[0m\u001b[0;34m,\u001b[0m \u001b[0mvalue\u001b[0m\u001b[0;34m=\u001b[0m\u001b[0;32mNone\u001b[0m\u001b[0;34m)\u001b[0m\u001b[0;34m:\u001b[0m\u001b[0;34m\u001b[0m\u001b[0;34m\u001b[0m\u001b[0m\n",
      "\u001b[0;32m/opt/anaconda3/envs/learn-env/lib/python3.6/site-packages/selenium/webdriver/remote/webdriver.py\u001b[0m in \u001b[0;36mexecute\u001b[0;34m(self, driver_command, params)\u001b[0m\n\u001b[1;32m    319\u001b[0m         \u001b[0mresponse\u001b[0m \u001b[0;34m=\u001b[0m \u001b[0mself\u001b[0m\u001b[0;34m.\u001b[0m\u001b[0mcommand_executor\u001b[0m\u001b[0;34m.\u001b[0m\u001b[0mexecute\u001b[0m\u001b[0;34m(\u001b[0m\u001b[0mdriver_command\u001b[0m\u001b[0;34m,\u001b[0m \u001b[0mparams\u001b[0m\u001b[0;34m)\u001b[0m\u001b[0;34m\u001b[0m\u001b[0;34m\u001b[0m\u001b[0m\n\u001b[1;32m    320\u001b[0m         \u001b[0;32mif\u001b[0m \u001b[0mresponse\u001b[0m\u001b[0;34m:\u001b[0m\u001b[0;34m\u001b[0m\u001b[0;34m\u001b[0m\u001b[0m\n\u001b[0;32m--> 321\u001b[0;31m             \u001b[0mself\u001b[0m\u001b[0;34m.\u001b[0m\u001b[0merror_handler\u001b[0m\u001b[0;34m.\u001b[0m\u001b[0mcheck_response\u001b[0m\u001b[0;34m(\u001b[0m\u001b[0mresponse\u001b[0m\u001b[0;34m)\u001b[0m\u001b[0;34m\u001b[0m\u001b[0;34m\u001b[0m\u001b[0m\n\u001b[0m\u001b[1;32m    322\u001b[0m             response['value'] = self._unwrap_value(\n\u001b[1;32m    323\u001b[0m                 response.get('value', None))\n",
      "\u001b[0;32m/opt/anaconda3/envs/learn-env/lib/python3.6/site-packages/selenium/webdriver/remote/errorhandler.py\u001b[0m in \u001b[0;36mcheck_response\u001b[0;34m(self, response)\u001b[0m\n\u001b[1;32m    240\u001b[0m                 \u001b[0malert_text\u001b[0m \u001b[0;34m=\u001b[0m \u001b[0mvalue\u001b[0m\u001b[0;34m[\u001b[0m\u001b[0;34m'alert'\u001b[0m\u001b[0;34m]\u001b[0m\u001b[0;34m.\u001b[0m\u001b[0mget\u001b[0m\u001b[0;34m(\u001b[0m\u001b[0;34m'text'\u001b[0m\u001b[0;34m)\u001b[0m\u001b[0;34m\u001b[0m\u001b[0;34m\u001b[0m\u001b[0m\n\u001b[1;32m    241\u001b[0m             \u001b[0;32mraise\u001b[0m \u001b[0mexception_class\u001b[0m\u001b[0;34m(\u001b[0m\u001b[0mmessage\u001b[0m\u001b[0;34m,\u001b[0m \u001b[0mscreen\u001b[0m\u001b[0;34m,\u001b[0m \u001b[0mstacktrace\u001b[0m\u001b[0;34m,\u001b[0m \u001b[0malert_text\u001b[0m\u001b[0;34m)\u001b[0m\u001b[0;34m\u001b[0m\u001b[0;34m\u001b[0m\u001b[0m\n\u001b[0;32m--> 242\u001b[0;31m         \u001b[0;32mraise\u001b[0m \u001b[0mexception_class\u001b[0m\u001b[0;34m(\u001b[0m\u001b[0mmessage\u001b[0m\u001b[0;34m,\u001b[0m \u001b[0mscreen\u001b[0m\u001b[0;34m,\u001b[0m \u001b[0mstacktrace\u001b[0m\u001b[0;34m)\u001b[0m\u001b[0;34m\u001b[0m\u001b[0;34m\u001b[0m\u001b[0m\n\u001b[0m\u001b[1;32m    243\u001b[0m \u001b[0;34m\u001b[0m\u001b[0m\n\u001b[1;32m    244\u001b[0m     \u001b[0;32mdef\u001b[0m \u001b[0m_value_or_default\u001b[0m\u001b[0;34m(\u001b[0m\u001b[0mself\u001b[0m\u001b[0;34m,\u001b[0m \u001b[0mobj\u001b[0m\u001b[0;34m,\u001b[0m \u001b[0mkey\u001b[0m\u001b[0;34m,\u001b[0m \u001b[0mdefault\u001b[0m\u001b[0;34m)\u001b[0m\u001b[0;34m:\u001b[0m\u001b[0;34m\u001b[0m\u001b[0;34m\u001b[0m\u001b[0m\n",
      "\u001b[0;31mElementNotInteractableException\u001b[0m: Message: element not interactable\n  (Session info: chrome=89.0.4389.128)\n"
     ]
    }
   ],
   "source": [
    "#Lets see if we can expand the hidden reviews\n",
    "[x.click() for x in driver.find_elements_by_class_name('ipl-expander')]"
   ]
  },
  {
   "cell_type": "markdown",
   "metadata": {},
   "source": [
    "Nope, We can't\n",
    "\n",
    "## Where beautiful Soup wins"
   ]
  },
  {
   "cell_type": "code",
   "execution_count": 150,
   "metadata": {
    "ExecuteTime": {
     "end_time": "2021-04-15T15:28:26.489238Z",
     "start_time": "2021-04-15T15:28:26.196941Z"
    }
   },
   "outputs": [],
   "source": [
    "resp = requests.get('https://www.imdb.com/title/tt0360717/reviews?ref_=tt_urv')"
   ]
  },
  {
   "cell_type": "code",
   "execution_count": 151,
   "metadata": {
    "ExecuteTime": {
     "end_time": "2021-04-15T15:28:26.929983Z",
     "start_time": "2021-04-15T15:28:26.801631Z"
    }
   },
   "outputs": [],
   "source": [
    "bs = BeautifulSoup(resp.content, 'html.parser')"
   ]
  },
  {
   "cell_type": "code",
   "execution_count": 152,
   "metadata": {
    "ExecuteTime": {
     "end_time": "2021-04-15T15:28:27.271819Z",
     "start_time": "2021-04-15T15:28:27.247507Z"
    }
   },
   "outputs": [
    {
     "data": {
      "text/plain": [
       "[\"\\nThis is the best adaptation to date of King Kong. It's a lengthy and rewarding piece. The over three hour run time might seem standoffish at first but you won't regret investing the time in watching this movie. The star of the film, Kong, is wonderfully anthropomorphic and you can readily identify with his nonverbal communication thanks to the work of Andy Serkis. A great and satisfying film. I am always saddened at the tragic ending.\\n\\n                    26 out of 28 found this helpful.\\n                        \\n                            Was this review helpful?  Sign in to vote.\\n                        \\n\\nPermalink\\n\\n\",\n",
       " \"\\nTypical Peter Jackson, however gonna watch the even longer extended 3 hours 20 minutes edition in 4k, not watched in years but the picture is epic apart from it being too warm for my liking. The sound is the unusual DTS-X high def sound and already is gorgeous!However enough of the technical borefest hahaha... this film for me is stunningly shot... some of the shots of the city are incredible. It really is a grand film and for me better than his LOTR trilogy which I may well resist soon.However its the cinematography and sets that set this film apart from most films... integrated so well with XGI which even in 4k is holding up well... stunning is all I can say, actually old school filming with modern techniques!Classic tale and story that recreates the original for the modern era. Even Jack Black is watchable but the stunning Naomi Watts is very very watchable hahaha.This film doesn't get the recognition it deserves!!! As an achievement in cinema alone its a 10/10. You want blockbusters that have a story and a smidge of empathy with the characters with possibly the greatest ending of all monster films ever... this is how you do it.Marvel and DC and all the other nonsense need to take a step back!!! This is how you combine live action, real sets and CGI into an epic tale...\\n\\n                    57 out of 66 found this helpful.\\n                        \\n                            Was this review helpful?  Sign in to vote.\\n                        \\n\\nPermalink\\n\\n\",\n",
       " '\\n.....from Pasto,Colombia...Via: L.A. CA., CALI, COLOMBIA...and ORLANDO, FLWARNING: Contains what might be considered a couple minor spoilers!In 1956, when I was 8, I saw the original version (1933) of King Kong for the first time. It impacted me very much! ....Although the film tripled me in age, its special effects were the best I had ever seen, without a doubt. The director of King Kong (2005), Peter Jackson (Trilogy: Lord of the Rings), says he saw the original version at age nine and that was what inspired him to become a film-maker. This new version is perhaps one of the best cinema remakes of recent years! BUT...(and it is a very BIG \"BUT\"!) The simple fact that it is not an original story involves many limitations, at least, in my opinion!However, for a few minutes, I\\'ll try to continue this review taking into account that the vast majority of you have never seen the 1933 original. King Kong (2005) has many things going for it and against it! Despite this, any film, and King Kong in particular, is much more than a summary and analysis of its strengths and weaknesses. It is, basically, an indictment of just how the modern world destroys everything that is good and innocent for its insatiable appetite for massive and rampant commercialization. Of course, if one so wishes to interpret it that way.For many, King Kong will probably seem like a surreal time machine... first, leading you to the City of New York, at the beginning of the 30s. It is worth commenting that Jackson\\' recreation was nothing short of absolutely spectacular. Perhaps the best recreation and atmosphere of someplace in the past, without a doubt. Then, when they get to \"Skull Island\", we are in a prehistoric world, forgotten millions of years ago. I would say it also qualifies as the best cinematic representation of its type that has appeared in films until 2005, however, not by much, but rather, just barely.The real charm of the film is its very believable emotional relationship developed between Ann Darrow (Naomi Watts) and the digital image rendering of KING KONG himself. The strangest thing about this relationship is the apparent peculiar inversion of roles between Ms. Darrow and King Kong. A very special relationship between a dog and its master is very common, where a number of qualities are seen clearly, like love, affection, friendship, mutual respect, platonic love, loyalty, and being able to spend time together sharing activities. In addition, a master offers his pet special care and affection. What happens here is that King Kong is the master and Ann Darrow, by her own volition, assumes the role of pet. Of course, both these terms are used here in the best possible sense!Another great achievement of King Kong is the awesome reality represented in its title character. Previously, I think Lord of the Rings\\' Gollum, also directed by Peter Jackson, was the most realistic CGI character image. But King Kong, you can say, is the first digital character that seems real in almost every scene of the film. Above all, the depth of emotion expressed in the eyes has no equal. If for no other reason than this, it makes it all really worth it!There are some other negatives that caught my attention. Jack Black is a comedian of great merit. I was somewhat disappointed with his portrayal of Carl Denham, the eccentric and very egocentric producer responsible for organizing the expedition film. He should learn, as did Jim Carrey, to leave his mugging faces for comedy. Also, I this kind of film probably appeals to many children 9, or under. King Kong, unfortunately for them, has a couple wildly violent moments that you may not find suitable for them. Too bad, because 95% of KONG is great for kids.This film lasts three full hours. The last two are full of action, but in the first hour, there are some lethargic moments. Perhaps Mr. Jackson could have cut some 20 to 25 minutes, no problem. My last complaint has to do with the famous phrase: \"Suspension of Belief\". In 2 or 3 scenes, digital images maintain a level of frenetic action so exaggerated, so long-lasting, it\\'s a little hard not to drop the famous phrase as in, \"Oops! There goes my Suspension.!\"But all in all, I think kudos are in order for Peter Jackson and the vision that he has shown with his version of King Kong. For three decades, Steven Spielberg was the king of Hollywood. There seems to be a new king. Long live the king! Long live Peter Jackson! Long Live King Kong!8*....ENJOY/DISFRUTELA !Any comments, questions or observations, in English, o en Español, are most welcome! ......\\n\\n                    23 out of 27 found this helpful.\\n                        \\n                            Was this review helpful?  Sign in to vote.\\n                        \\n\\nPermalink\\n\\n',\n",
       " '\\nLet me be the first to admit that there\\'s nothing wrong with a long movie, nothing at all. \"Titanic\" was a long movie that was as exactly as long as it needed to be. \"Gone with the Wind\" was a really long movie that was exactly as long as it needed to be. \"Dances with Wolves\" was a long movie that I wish had been even longer when I saw it in the theater. But \"King Kong\"? Phhewww...this sucker clocks in at least 30-60 minutes longer than it needs to be. While it played, I kept inadvertently thinking to myself, \"Boy, we really should be out to sea by now...they haven\\'t reached the island yet?...man, are they EVER gonna find Ann?...jeez, when are we gonna go back to Manhattan already?...\" and so on. Hand to God--I actually yawned twice during the last third of this movie. I even closed my eyes for a second before I realized, \\'hey...you can\\'t just rewind this when you wake up!\\'Sure, many scenes in \"King Kong\" were thrilling (e.g., LOVED the T-Rex sequence) and, yes, I even teared up a little a couple of times. And I must say, Kong himself was beautifully realized--he looked and acted like a REAL gorilla (albeit a tiny bit anthropomorphized)! But I gotta tell you...I was more relieved than exhilarated when this movie ended. (If I saw one more flyover of the native village, I was gonna scream!) Peter...baby...why spend so much time developing all these extraneous secondary characters if you don\\'t really have much closure with them by the end. For example, the ship\\'s captain and Jimmy...once we leave Skull Island...pfffftttt...we never them again. Why all the backstory scenes about them? As with the original version, Jackson should have concentrated simply on the four main characters throughout: Kong, Ann, Driscoll and Denham. Period.The problem is Jackson tried to make an epic out of a thriller, when these two approaches are generally exclusive to each other. The original \"Kong\" MOVED because it was simply a thriller and content to be so, but Jackson\\'s remake starts and stops, and starts and stops, and starts and stops, merely frustrating the thrillseeker in us that wants to keep going every time Jackson establishes some momentum. But instead Jackson pauses to \"delve\" or \"explore\" or \"elaborate\" a la David Lean or something like that. One can excuse Jackson for shooting so much material for the \"Lord of the Rings\" trilogy--consider the rich source material . But how anyone could have taken the 100-minute original and nearly doubled it for a remake has far too much memory on his Mac. He should have saved all the extra footage (and I\\'m betting there\\'s a LOT more we didn\\'t see in the theatrical cut) for the DVD release as he did for LOTR. Mr. Jackson\\'s first priority as a filmmaker (well, all filmmakers) is to present the most appropriate cut for THEATRICAL audiences during the film\\'s initial exhibition in theaters. In this case, more WAS less. Much shorter movies in the past have had intermissions!Honestly, though I certainly enjoyed \"King Kong\", I really have no desire to see this movie again--I just couldn\\'t bring myself to sit through all the filler just to get to the good parts. How I wish Jackson and/or Universal would consider releasing a 2-hour DVD version. Hey, it\\'s happened before, so what\\'s the harm? Inside of a year there\\'ll be 17 versions out on DVD anyway...what\\'s one more? But having to sit through a 3-4 hour DVD version someday? I\\'ll take a pass.Do I recommend seeing \"King Kong\"? Of course. You\\'ll probably enjoy it immensely, despite it\\'s overlength. But if you do go, by all means lay off the Jumbo Coke until at least 90 minutes in! You\\'ll thank me later.\\n\\n                    731 out of 1,087 found this helpful.\\n                        \\n                            Was this review helpful?  Sign in to vote.\\n                        \\n\\nPermalink\\n\\n',\n",
       " \"\\nIf the LORD OF THE RINGS trilogy cemented Peter Jackson as a director of the highest order and made him the new king of the world, KING KONG seals his position as a Director and eliminates any trace of doubt that he may have been a one hit wonder.Bringing what has to be one of the most known and greatest adventure story into a new configuration, and doing so successfully, is a tremendous gamble. Dino de Laurentiis tried to do so thirty years before, and while the film is watchable, it was considered a major disaster. An unrelated sequel, KING KONG LIVES, proved even worse. Peter Jackson, who has called KING KONG the reason he decided to get into film-making, wanted to make this film before LORD OF THE RINGS was thrown into production, but circumstances prevented this in happening, and thus his career went into high gear as we now know. Maybe it's just as best that things went this way: the sensitivity and emotional power that his saga of Middle Earth makes its way into the Modern Age and elevates this incredible action-packed adventure into the spiritual heights that its climactic sequence requests.The argument, which resembles a massive Stephen King novel in epic proportion and in the way it introduces each of its characters, is as follows: Carl Denham (Jack Black, channeling Orson Welles) is trying to get his movie off the floor, but producers aren't quite backing him up with his latest project which is to be set in the distant Skull Island. On top of this, leading ladies are scarce, and one who would have been available (Fay, in a nod to the late Fay Wray) is working for an RKO production. Ann Darrow (a radiant, multi-faceted Naomi Watts) is a vaudeville performer who is nearly destitute: the theatre where she works has closed and she is practically stealing to eat. Darrow and Denham cross paths in the Depression era Times Square, and envisioning her as his muse, he convinces her to join his production team as his lead actress. At the same time, Denham bamboozles playwright Jack Driscoll (Adrien Brody) to join his team as screenwriter, and with Captain Englehorn (Thomas Krestchmann) on helm, off they sail to Skull Island (while the entire crew believes they are heading to the more exotic location of Singapore).As they arrive they get glimpses of the island's forbidding nature: stone faces in the style of Christmas Island's, but savage and menacing, are all over the place, and the island at first seems deserted. A little girl catches their attention and in trying to ingratiate themselves to her they are assaulted by bloodthirsty savages that all but decimate their crew and capture Darrow for the purpose of sacrificing her to (whom they believe to be) the ruler of the island, a twenty-five foot gorilla named Kong (a brilliant Andy Serkis). Not wanting to leave Ann abandoned in the island the crew comes back to rescue her and in the process discover that Kong is the least of their troubles: the island is infested with prehistoric life.It's at this point when KING KONG bursts into non-stop action and Peter Jackson pulls out every hat trick into an hour of chase sequences and truly gory moments involving gigantic insects and man-eating worms. The only moment when the action in the forefront seems somewhat divorced from the background is the sequence where the entire crew faces a stampede of brontosauruses and raptors, but even then it is mind blowing in its sheer scope and is only the set-up to what will be the film's finest hour and the very reason moviegoers know Kong: the return to New York City and the inevitable, symbolic climax atop the Empire State Building in which the New World clashes with the Old World.Even so, KING KONG is equally excellent in establishing its mood in four quiet moments. Who could have thought Ann could charm a beast like Kong? Here is the fulcrum of the story, not a love story but a story of kindred spirits. Ann, after fighting Kong, wins him over with her vaudeville act seen at the film's introduction. Witness his facial and body language: Kong is not a beast but an overgrown child full of wonderment and laughter at seeing her dance. Later, after a physically exhausting moment when Kong fights off three T-Rexes, both share a sunset atop a cliff, mirrored in the sunrise they witness, together, at the Empire State Building later on. But by far, the most magical moment is one in which Kong, in New York, slides through a frozen lake in Central Park, Ann in tow, both laughing. Genius at its best. Kong at his most tender.KING KONG is a testament to movie magic that action films, even those which remake classics, can benefit from an emotional center. In reconstructing what was a one-dimensional story from its 1933 version with his evolving Ann Darrow's relationship with Kong from hostage to friend and even kindred spirit who sees the beauty within the beast, his version is the more complete, and its length brings the rewards of a fascinating film. I only imagine what he would do in re-creating the world of THE WIZARD OF OZ despite the shrieks of purists who would see such a thing as celluloid blasphemy, forgetting that remakes are necessary, and if done with an expert vision, can create transcendental beauty. And this is absolute beauty.\\n\\n                    252 out of 374 found this helpful.\\n                        \\n                            Was this review helpful?  Sign in to vote.\\n                        \\n\\nPermalink\\n\\n\",\n",
       " \"\\nI agree, some scenes maybe are a bit too long. But what do you expect from a 3 hour movie? That it is short?You know how the duration before you start watching.I was thinking give it an eight or a nine. I chose nine. Because overall this still is a great adventure movie for sure.The more recent Kong: Skull Island is a fun watch as well, but more like a fast paced action movie of it's time.This Peter Jackson version has it's fair amount of action and still pretty good effects and tells a better and more complete story.\\n\\n                    17 out of 21 found this helpful.\\n                        \\n                            Was this review helpful?  Sign in to vote.\\n                        \\n\\nPermalink\\n\\n\",\n",
       " '\\nIt was the most powerful connection, I think, between a structure and a city and a fictional character that the 20th century had ever seen\\x85 Of all the \"King Kong\" films that exist, Peter Jackson\\'s new Kong is, without any doubt, the best\\x85 The film won 3 Oscars, for sound editing, sound mixing, and visual effects\\x85 It is set in 1933 where America was facing economic troubles unlike any seen before\\x85 Jackson wanted 1933 New York to be very, very authentic\\x85 He recreates a chaotic, crazy, busy city bustling and vibrant\\x85 The streets were absolutely jam packed with cars, trams, buses, crowded with hawkers and thousands of people \\x85 The Empire State Building had just been built\\x85 Jackson goes in the heart of New York and describes the Depression by showing private security forces raiding buildings; mass evictions of people who simply could not pay their rent; people winding up as squatters; and long line of people waiting to be fed\\x85He gives a little hint about the Prohibition: police busting up an illegal still; Carl Delham getting a box of whiskey to take upon his trip and it\\'s labeled \"Lemonade.\" And oddly enough, he presents the end of Prohibition, when we see some liquor advertising at the climax of the movie that wasn\\'t there at the beginning\\x85 Jackson also introduces vaudeville... Vaudeville was a variety show, a string of acts put together to form a complete bill of entertainment\\x85 Ann Darrow (Naomi Watts) was one of vaudeville good-looking actress who loses her job due to the lack of money\\x85 Skull Island was another very important location for Jackson\\x85 The amount of imagination and creativity that went into the ideas behind it is quite amazing\\x85 The zoology, the flora and fauna, the cultural history of that impossible island is thrilling\\x85 It was, indeed, a huge work to rebuild a hellish place of inexhaustible mysteries\\x85 We are talking about small group of desperate souls eking out the barest existence possible\\x85 Natives who have come to worship a giant gorilla\\x97named \"Kong\" by them\\x97 as some sort of god, practicing human sacrifice to appease his anger\\x85 We are also talking about a lush jungle and tropical rain forest with giant reptiles with very large feet to cope with the uneven and broken terrain of the island\\x85 We are talking not only about dinosaurs but also beasts just as terrible, or even worse\\x85 We\\'re talking about a natural predator trap full of rotting carcasses and scavenger creatures\\x85 We are also talking about giant, parasitic, warm-like creatures which are much more than active predators and scavengers\\x85 We are talking about perils resided not only in the depths of the island but in the skies as well, where terrifying flying creatures ruled\\x85\"King Kong\" delivers a fantasy-adventure piece, with its balance of peril and romance in much the same way \"Titanic\" did\\x85 The romance part is not where one would expect it, but involves a beast with a beautiful and fragile creature who experience a tender if unexplained bond\\x85 And this union is the finest moment of the film\\x85 Ann looks into the ape\\'s eyes and sees something impressionable there\\x85 And the audience notices it too\\x85 Jackson has done something emotional here\\x85 In addition to the ape\\'s beastly character, Kong gazes at Ann and shows true, endearing traits\\x85 We are struck by his protective nature as we can understand the desires of each to protect the other\\x85 Ann can\\'t escape this fateful meeting that changes everything\\x85 It\\'s as if her whole life has been a prelude to this moment\\x85Jackson\\'s \"King Kong\" is a grandiose thrilling adventure, sufficiently magical and colorful whether it\\'s reverently watching a sunset, or doing some ice-skating\\n\\n                    128 out of 195 found this helpful.\\n                        \\n                            Was this review helpful?  Sign in to vote.\\n                        \\n\\nPermalink\\n\\n',\n",
       " '\\nLet me just say that with all of the remakes that have been coming out, King Kong may have been the most deserving and the most in need of being remade. I could not think of a better director for this type of film than Peter Jackson.King Kong stays pretty true to the original. Naomi Watts plays Fay Wray\\'s Ann Darrow perfectly. Right down to her emotional connection with Kong, which is helped by the fact that Kong is pretty darn lovable when he is not ripping apart dinosaurs.Adrien Brody plays a great Jack Driscoll as well. Brody is truly a gifted actor and plays a good hero.Even Jack Black did a good job as the rebellious director Carl Denham. Usually I am annoyed by Black\\'s performances, even though they are mostly in comedies. Surprisingly, Black kept his character serious and the movie is better for it. I though for sure he would be the one to ruin this movie for me but, again, I stand corrected. The comedy seemed to be reserved for Kong, himself, and did a wonderful job.I can not express how much more I enjoyed this movie without the \"guy in the suit\" special effects. Kong was very appealing visually, as well as the other dinosaurs. I do not say this too much in reviews. In fact, I doubt I have ever said it but King Kong has turned out to be a masterpiece which will raise the bar for many years to come. 10/10\\n\\n                    793 out of 1,314 found this helpful.\\n                        \\n                            Was this review helpful?  Sign in to vote.\\n                        \\n\\nPermalink\\n\\n',\n",
       " '\\nFirst off, let me say that I\\'m a huge Peter Jackson fan. I loved the whole Lord of the Rings trilogy, and consequently, I was really looking forward to seeing this film, too. Unfortunately, my admittedly high hopes were not fulfilled.On the plus side, and most importantly, Jackson does an amazing job of portraying Kong both as a wild beast and a caring, compassionate creature. Hence, the end is particularly powerful and touching, and I truly did sympathize with Kong and feel his tragedy. In fact, I was in tears.On the downside, however, the film has a number of big problems.First of all, the film is too long. Jackson and his cohorts (Walsh and Phillipa Boyens) spent too much time trying to build up a multitude of characters (namely, the shipmates) who, ultimately, don\\'t matter much, and whom you really end up not caring about, despite all the time spent on their development. Focusing instead on the handful of main characters would have allowed at least a half hour of the film to be trimmed from its needlessly bloated 3 hour length.Secondly, the action scenes are so over-the-top that they become absurd. Painfully absurd. If you\\'re familiar with the Lord of the Rings films, then recall Legolas\\' single-handed downing of the Mumakil in \"Return of the King.\" It was a fun scene, but it stretched the bounds of plausibility, almost winking at the audience in acknowledgment of its self-indulgence. Now, imagine that scene amplified ten-fold in both length and brazenness, and that\\'s the kind of nonsense in Kong that had me rolling my eyes, and that had the audience around me audibly groaning.Compounding the absurdity of the action scenes was the total disregard for plausibly in scripting the actions of the scenes\\' main participants: the creatures. Simply put, animals just don\\'t behave as idiotically as they do in this movie. I\\'m no zoologist, but I\\'m confident that a predator with its mouth full of a huge dinner does not bother to chase after additional prey, especially when it\\'s a mere fraction of the size of its current meal. Moreover, a large herd of gigantic beasts doesn\\'t stampede away from a handful of predators that are comparatively minuscule in scale. For that matter, beasts that gigantic simply don\\'t stampede, period; they\\'re too big. Furthermore, any animal trapped in a situation endangering its life will focus its efforts entirely on self-preservation -- that is, escaping its plight -- rather than stupidly trying to continue chasing a meaningless morsel of a meal. Don\\'t get me wrong; the action scenes are exciting. But when the conflicts they revolve around are fundamentally flawed in concept, you find yourself scratching your head wondering, \"remind me; what are they fighting about again?\"-- Spoiler Alert --On top of those problems, there are a number of plot holes and incongruities. Why do the inhabitants of Skull Island disappear after their sacrificial offering to Kong? I mean, they just vanish! Also, what was the use of the chasm and gate protecting the inhabitants from Kong when ultimately he simply leaps the chasm and breaks through the gate? Once Kong is subdued with chloroform, how do the mere handful of people in the remaining crew get his body on board the ship? When Kong runs wild in the city, why is one street bustling with cars (that careen insanely *towards* an enraged 25-ft ape, no less), while a block or two away, the streets he \"escapes\" to are devoid of any activity? Isn\\'t \"the girl\" cold wearing only a party dress while atop the Empire State Building in the middle of winter? I was really disappointed by the holes that easily could have been tied-up with better writing.-- End of Spoiler --One last complaint: as fantastic as the special effects are for Kong and the other creatures, surprisingly, many of the effects depicting the boats in the water are laughably fake-looking. Not what I expected from an operation that has proved itself top-notch in other capacities.Overall, I liked the film for how much Kong\\'s love story and tragedy really moved me. Unfortunately, the film\\'s other flaws were a huge detractor to my enjoyment. I loved Jackson\\'s epic Lord of the Rings trilogy, but in contrast, King Kong is bloated, too long, and too often insulting with its self-indulgent action, at the expense of believability.\\n\\n                    44 out of 64 found this helpful.\\n                        \\n                            Was this review helpful?  Sign in to vote.\\n                        \\n\\nPermalink\\n\\n',\n",
       " \"\\nUh-oh, 45 minutes in and no sight of the gorilla. It's 1933, and to make his movie masterpiece, producer Carl (devious) has lured actress Ann (fetching) and screenwriter Jack (heroic) onto a ship bound for exotic climes. The crew - grizzled captain, philosophical first mate, grubby cook, callow cabin boy - reckon that Carl is leading them into trouble. And so he is.So far, so Titanic. But fear not, for as soon as the boat slams into the mythical Skull Island, all hell breaks loose. First, hostile natives snatch Ann because she'd make the perfect sacrifice for their simian god. Enter the big fella... he's 25 feet of ladykilling silverback, and boy does he take a shine to Ann. Then it's a hair-raising, bone-jarring race through the uncharted jungle for both Kong - who's desperate to hang on to his blonde prize - and the rescuers, led by Jack.Never mind Never Land, this is Never-Go-There Land. It makes Jurassic Park look like Wimbledon Common. Apes aside, the place is swarming with angry and enormous beasts causing snapping, flapping, stomping, chomping, falling, squalling, creepy-crawly carnage. But amidst it all Carl (clearly mad) has a great idea. Why not capture Kong and take him back\\x85?Quite simply, this is the most spectacular, exhilarating and marvellously sustained hour of action adventure I've ever seen... But is there anything left for the final act? Hell, yes.One wrecked theatre and a little mayhem on Broadway leads us up the Empire State building for the dizzying, chest-beating climax. It won't do anyone with a fear of heights any favours whatsoever - and everyone else's fingernails will be burrowing through their chair arms as they will Kong to hang on.Technically, the production is spectacular on every level, from the wilds of Skull Island to the bustle of 30s' Manhattan. But Jackson's handling of the bond between Kong and Ann is equally impressive. It's a key element, and what could have been laughable is actually something that even cynics could buy into. That's because as much care has gone into Kong's character as his presence. His expressions gel wonderfully with Naomi Watts' committed performance - and she's so much more than just a swooning damsel-in-distress. Fay Wray was a game gal and all, but she never had a giant centipede crawl in her mouth.So what if Jack Black isn't quite Machiavellian enough to convince in his role and that the first hour is slightly draggy and prone to daft speechifying? One bit of miscasting and a deliberate beginning are but tiny scars on what is a truly magnificent creature.I'm still dumbstruck. Kong's awesome. Kong rules. Bravo, Peter Jackson, bravo.\\n\\n                    534 out of 894 found this helpful.\\n                        \\n                            Was this review helpful?  Sign in to vote.\\n                        \\n\\nPermalink\\n\\n\",\n",
       " \"\\nThis film is simply amazing. The best remake I have ever seen, expect nothing but aces in the drama and action department in this film. Peter Jackson manages to helm one hell of a movie, and what is destined to be 2005's top film.Never have I seen a CG Character garner so much emotion. If you thought the first film is heartbreaking, this one down right makes it tough to not shed at least a tear by the end of the film.By the way, once the action starts in this film, it NEVER let's up. A beautiful yet sad film, I can't wait to see it again.Those who are afraid that this film might do anything to take away from the original, do not worry. The time and setting of this film really keeps the original's spirit intact, while carving some fantastical new ground of it's own. Though some of the actual scenery here and there may look a bit fake, you will never ever think that about the main ape himself.\\n\\n                    719 out of 1,225 found this helpful.\\n                        \\n                            Was this review helpful?  Sign in to vote.\\n                        \\n\\nPermalink\\n\\n\",\n",
       " '\\n1933 New York and two people find themselves in difficult circumstances, albeit for different reasons. Carl Denham is a movie producer who wants to make his big picture but finds the studio unwilling to support him. Ann Darrow is an actress who has hit hard times and is one meal away from having to become a performer in a seedier version of \"acting\". While frantically searching for an actress that he can quickly convince to come on a mystery voyage to shoot on a distant island, Carl meets Ann and convinces her to come along on the strength of the involvement of writer Jack Driscoll. After an eventful journey, they arrive at the island but to suggest that they face a \"troublesome\" shoot is a real understatement.In my 12 hour wait for my \"First Class\" seat for a transatlantic flight to America I discovered that \"First Class\" to Continental means \"you pay lost more cash but we extend you just the same (dis)courtesy as the economy passengers\". With my laptop with me I was at least able to find some distraction with a DVD copy of King Kong. Although I\\'m sure it loses something by being seen on a comparatively small screen I still enjoyed the film as a big budget b-movie, which is pretty much what it was. Sure, Jackson may have had aspirations to deepen the story and bring real pathos out of his \"characters\" but he doesn\\'t particularly pull it off and most of the viewers will have been there for the big effects rather than the chance to explore the emotions within a cinematic legend. So in this regard the film works by kicking out the action after a comparatively slow start where we spend a lot of time with lesser characters who don\\'t matter that much in the wider context of the narrative.However when the action comes it is slick, noisy and visually impressive. The only thing I did have a problem with was how hollow it all was. Jackson does attempt to develop a tender relationship between Kong and Ann, but the material struggles to deliver the goods and all that we are left with is lots of \"meaningful\" looks as the pair get some sort of unspoken (and unseen!) understanding. At this level the film didn\\'t really engage me \\x96 I respected what he was trying to do with it, but I\\'m afraid I can\\'t relate to those who claim to have cried and felt so much from this \"beautiful\" relationship.Faced with such big effects, noise and spectacle, the cast cannot do much other than try and hold their own. Watts has the hardest role as she tries to react and bond with a creature that was never actually there with her in reality \\x96 only in a computer. When you remember this, her performance is pretty commendable but when I was watching the film I must admit that I thought she relied far too much on staring and looking sad or having a half-smile on her face; she still did as well as one could have hoped but again I don\\'t get the claims that she was brilliant here when she clearly wasn\\'t. Black and Brody are very much supporting performances that have little to do; Brody didn\\'t suit his role and Black never convinced as a larger than life movie producer. Yet again Serkis does a good job to bring an effect to life although for obvious reasons he is nowhere near as good as he was in the Lord of the Rings films and he can only do so much with expressions.Overall then a solidly enjoyable blockbuster that produces plenty of noise, action and impressive visual effects. The attempts at depth and meaning are laudable and do add something to the mix but I\\'m afraid that it doesn\\'t really work as well as some viewers have claimed. Still worth seeing as a blockbuster experience though, despite some of the flaws inherent in the approach and the rather cumbersome running time.\\n\\n                    20 out of 27 found this helpful.\\n                        \\n                            Was this review helpful?  Sign in to vote.\\n                        \\n\\nPermalink\\n\\n',\n",
       " \"\\nI agree with most of you that the effects were spectacular, but judging a film on this single criterion makes one a shallow viewer. You must judge the story on its completeness, the characters must be judged for their depth and believability (and yes, I found Kong to be a believable character, but found most of the others to be very shallow, indeed). The cinematography was interesting but typical of modern films, the costumes not correct for the period, same with the hairstyles. The New York exteriors were contrived, and some obviously shot on the Universal back lot.As I sit and think hard about the film I am having trouble finding anything very positive to say about it, except the special effects. The Kong character was spectacular, but the rest of the effects were no better than Jurassic Park's effects, especially given the advancements in CG technology over the last 12 years.That said, I could have overlooked any shortcoming if one major flaw did not exist.A film must be believable on certain levels, in order to get me to suspend my disbelief on other levels. There must be enough believable elements for me to see through the obviously unbelievable ones. This film failed in a major way in inevitability, and I'm not referring to the Kong character.Some examples: How did the main characters constantly elude death at every turn, when it was clearly obvious that they should have died many times over? How did seven men get Kong into the boat? How did they keep him subdued on the voyage, and indeed right up through the curtain going up in the theater? Why weren't Ann's hands ripped off (or at least her wrists broken) when Kong ripped her from her rope bindings when he first took her? That must have hurt! Why weren't Ann's feet cut to shreds as she ran through the jungle? Why didn't Ann get dirty and her dress rip to shreds during her ordeal in the jungle? Why did her hair stay nice and neat and her dress stay clean and white? How did she end up with only a minor facial scratch after being thrown around the jungle over and over? Why didn't Ann's skull get bashed in, or her brain jarred loose as Kong swung her violently during her capture and the scenes with the T-Rex.How could Carl, and other men survive a fall from such a great height when Kong knocked them off the log? Why weren't they crushed to death as the log came tumbling down on top of them? Why didn't Jack and Carl and the others get absolutely crushed to death by the dinosaurs as the beasts overtook them running through the jungle? Why didn't they get crushed to death as 10 or 12 dinosaurs all fell down all at once on top of them? Why wasn't everyone dead by this point in the film? Why wasn't Jack hit by a single bullet fired by Jimmy, even though every spider swarming over Jack's body was blown to smithereens, as untrained Jimmy fired blindly with his eyes shut? Why didn't the bats kill Jack and Ann, even as Kong was swarmed and mauled by them? Why didn't Jack get the least bit hurt when Kong flipped the taxi he was driving 20 feet into the air, doing a 360 and crushing the vehicle? Why didn't Ann freeze her @ss off when she met Kong in skimpy attire in the middle of winter in NYC? Why didn't Ann freeze when she and Kong were ice skating? Where did all the people go during the Central Park scene? Why weren't they running around screaming, trying to save their lives? Where did they all disappear to? Why would anyone in his or her right mind climb to the top of the Empire State Building, even for love (I was squeamish even in the comfort of my theater seat)? Why would any woman kiss Adrien Brody on top of the Empire State Building after having had such a great relationship with a real man, King Kong? This represents only a few of the unbelievable elements.At every turn in this film the unbelievable overwhelmed the believable. It would have been very easy to not go so far over the top, tone back just a little, so the suspension of disbelief could have been as natural in this remake as it was in the original.The sunrise and sunset scenes were quite nice. At least I found something good to say.\\n\\n                    314 out of 531 found this helpful.\\n                        \\n                            Was this review helpful?  Sign in to vote.\\n                        \\n\\nPermalink\\n\\n\",\n",
       " '\\nI was one of the lucky winners of the Kong is King.net World Premiere Ticket contest, so my husband and I had the pleasure of seeing KING KONG in Times Square\\'s Loews E-Walk Theatre. I knew I\\'d like it the minute I saw the Art Deco opening credits, very reminiscent of RKO\\'s style. The movie only got better from there, carrying us moviegoers on a roller-coaster ride of adventure, romance, and eye-popping special effects. What raises Jackson\\'s take on KING KONG above other rock\\'em-sock\\'em action blockbusters is that it\\'s so clearly a labor of love in every sense of the term, a spectacle with soul and spunk. It\\'s not every rollicking adventure film that begins with scenes of life in 1933 New York City, when the Great Depression was at its worst. No wonder plucky but vulnerable actress Ann Darrow (Naomi Watts is at her most beautiful and winsome as a more proactive version of Fay Wray\\'s star-making role) is willing to take a chance with fast-talking movie producer/director Carl Denham (Jack Black, a rascally delight) on his latest project, involving leaving for the South Seas that very night.The characters are no mere genre archetypes; before their adventure begins, Jackson and his talented cast let us get to know and care about every one of them. When crewmen from the S.S. Venture get injured or killed by Skull Island\\'s various fearsome natives and beasts, we mourn them. When Ann and playwright Jack Driscoll (Adrien Brody combines strength and sensitivity wonderfully as this unlikely hero. He gets my vote for Movie Mensch of the Year!) connect on screen, we\\'re moved and rooting for them to get together, especially after they share one of this year\\'s best screen kisses. Even the calculating Denham wins us over with his sheer force of will. A real Orson Welles type, the guy just loves making movies -- and money -- so much he\\'ll go to insane lengths to make his project a reality, whether it involves outrunning his creditors, shanghaiing Driscoll on the Venture, or tricking his cast and crew onto uncharted Skull Island.Most importantly, King Kong himself captivates us, thanks to a combination of WETA\\'s amazing special effects and the range of emotion provided by a motion-captured Andy Serkis. If only one cast member gets an Oscar nomination, I say give it to Serkis for his wonderful performances as both Kong and Lumpy the cook! :-) Kong has never been just another scary big ape in any of the previous film versions of his story, but Jackson and Serkis make him particularly engaging, not just because he looks so convincingly weatherbeaten, but he moves like an ape (on all fours, thank you) and has the facial expressions of a human. As a result, we can see how Kong\\'s terrifying side is influenced by his tender side. Yes, I said \"tender.\" How else can you describe his protectiveness towards Ann on Skull Island after she wins him over by performing her lively vaudeville act? When Kong does go nutzoid, it\\'s because either he or Ann are being threatened, whether by people, planes, or Skull Island\\'s jaw-dropping, scream-inducing array of monsters and aborigine tribespeople. Jackson & Company give the big guy plenty of dizzying set pieces to show his stuff, involving everything from dinosaurs, toothy insects as long as your arm, and speeding taxicabs in New York City traffic (the scene where Brody did his own stunt driving; all those years of drag-racing on the streets of Woodhaven, Queens really paid off! :-), to say nothing of the dazzling Empire State Building climax. Moreover, Andrew Lesnie\\'s cinematography is as gorgeous as it is kinetic; Adrien Brody should make sure Lesnie photographs every film he\\'s in from now on, because he\\'s never looked so handsome as he does here! :-) KING KONG is over 3 hours long, yet I never once thought to look at my watch. It\\'s 3+ hours and the price of admission well-spent.\\n\\n                    463 out of 800 found this helpful.\\n                        \\n                            Was this review helpful?  Sign in to vote.\\n                        \\n\\nPermalink\\n\\n',\n",
       " '\\nWith the technology available for special effects, this could have been a great movie. Unfortunately, it wasn\\'t. Sadly, this movie just proves the point that good effects do not a good movie make.What happened here is that a film with enough plot to last for the time of the original was stretched out to try fill 3 hours of screen time, and the result is disastrous. In addition, it\\'s pretty clear that CGI nerds and video game designers had way too much input into this atrocity.It can all be summarized with a top 10 list of the worst scenes/mistakes of the movie:10. The time wasting, overly long, irrelevant plot line surrounding Ann Darrow, the old man, and the theater getting closed down. Not pertinent to the story. 9. The CGI nerd focus on the spinning airplane wheels on the fighter planes. Someone said \"Isn\\'t this the coolest thing you\\'ve ever seen?\". It only lasted a few seconds, but it was there only because some GIGANTIC nerd wanted it in. Guess what? It\\'s NOT cool.8. The plot line surrounding Jimmy and Mr. Hayes. Unnecessary, irrelevant, and ultimately unresolved. Why was Hayes protective of Jimmy? Did Jimmy go on to make something of himself? We never know. Why did anyone have to know he read \"Heart of Darkness\" or any of the other nonsense that was discussed between them? Total waste of time, stalls the story. 7. Kong violently shaking Ann around after he gets to his home turf, and her suffering no ill effects. She\\'d be not only injured, but dead. Kong was supposed to be gentle with Ann, duh. Totally missed the point. 6. The time wasting, overly long, irritating scenes where Kong repeatedly roars for no good reason. CGI nerds/effects people are responsible, I\\'m certain. They obviously took over the whole movie. Probable discussion: \"Isn\\'t the roar the coolest thing you\\'ve ever seen/heard? Let\\'s use it 47 times!\" 5. The completely ludicrous scene where Kong smashes the stolen taxi but Driscoll (inside) isn\\'t even scratched. Guess what? That\\'s right, he\\'d be dead. Come on, you can at least TRY to make this thing believable.4. The completely awful scene where Kong fights 3 T-Rexes while holding Anne in his hand. For the love of God, she\\'d be killed instantly. At least the original had the sense to have him put her down to fight the tyrannosaurus, a key element ignored in the remake, here and elsewhere in the movie. They also miss the point about the planes holding back when Kong is holding Ann, see above. Point missed.And the top 3\\x853. The incredibly preposterous and insulting scene where Jimmy shoots all the CGI nerd created insects off of Driscoll. Shuts his eyes while firing, and hits all the bugs. It wasn\\'t just reminiscent of Jar-Jar Binks in the big battle with the gun stuck on his tail, it WAS Jar-Jar Binks in the big battle with the gun stuck on his tail. Totally unacceptable. 2. The even more preposterous and more insulting and asinine Brontosaurus stampede scene. This one almost takes the cake for worst scene in movie history, if not for the next one. Beyond ridiculous, totally unbelievable, video-game quality. Graphics cheesy and unrealistic. CGI nerds were probably slapping high fives seeing how many asinine near-miss, \"Raptor almost gets the character before being stomped by the brontosaurus\", Tom and Jerry scenes they could create. Asinine beyond belief. 1. The horrible, horrible ridiculous scene where Kong and Ann et all are falling through the vines, getting caught repeatedly by new vines swinging out, not getting injured, falling again, caught by another swinging vine, not getting injured, etc. Vines pendulum-like swinging with the monster almost gobbling Ann up, only to be just out of reach, repeatedly. This didn\\'t belong in \"King Kong\", it belonged in \"Donkey Kong Jr.\".If you removed all this irrelevant nonsense, what would remain might not have been that bad. It would probably be quite good, in fact. Sadly, it was left in. It\\'s hard to imagine how insufferable a DVD \"Director\\'s Cut\" could be.On the positive side, Naomi Watts was excellent, as was Jack Black. The acting in general was a positive, no real complaints there. And the animation of Kong himself was excellent. Very well done. Sadly though, very little of the movie involved acting. It was all about making it a big video game and putting in all the effects. The effects are not themselves the movie, they are there to support the movie!To summarize, there were a lot of good pieces, but there were also a lot of bad ones. Ultimately too many were used, and a lot of them did not belong.\\n\\n                    783 out of 1,382 found this helpful.\\n                        \\n                            Was this review helpful?  Sign in to vote.\\n                        \\n\\nPermalink\\n\\n',\n",
       " '\\nIf it had been announced that a remake of the classic \"King Kong\" was being made without the name Peter Jackson attached to it, there is no doubt audiences would have been outraged. But after the enormous success of the Lord of the Rings trilogy, it would seem that the general public has learned to trust director Peter Jackson. After watching his remake of King Kong, I would have to say that their trust was well placed.Jackson now firmly cements his name as a master filmmaker, the kind that all aspiring directors want to be. The attention he pays to the most minute details, the sheer class he shows in terms of production and scale, the amount of skill he has in manipulating our fragile emotions... the man is clearly one of the most talented directors in film history. And Jackson certainly brings his considerable skill and flair to show here in \\'Kong\\'. While a different director likely would have sped up the story to the crew\\'s arrival on Skull Island, Jackson takes his time with a nice, leisurely build up to their arrival, giving us lots of time to really get to know these characters, and also providing time for a slow and genuine romance building between the characters of Anne and Jack. This romance does lead to the very few and seldom weaknesses of the film... the romance scenes can seem a bit cheesy and contrived at times. But when that\\'s literally the only complain I can make, it\\'s a pretty damn good sign for the movie!The visual effects are an essential part of the movie, and they really needed to be done well here to properly sell the idea - safe to say that they were still good enough to surpass my already unrealistically high expectations! Safe to say, even in today\\'s computer saturated film industry the special effects in King Kong will still succeed in blowing you away. And Jackson seems to have an almost uncanny skill in manipulating his audience\\'s emotions - you will cheer, you will laugh, you will cry, you will really be on the edge of your seat and you will be truly and thoroughly disgusted in at least one part of the movie - watch out for a cave full of giant insects on Skull Island. It seemed only fair to post a warning considering how profoundly well done it is... The cast is pitch perfect, right down to the most minuscule parts. (the natives on Skull Island are even more terrifying than any orcs or evil creatures in LOTR) Naomi Watts gives a heartwarming and wonderful performance as the innocent Ann Darrow, the \"beauty who killed the beast\". And indeed, performance aside, Watts hasn\\'t looked this beautiful for quite a while! While everyone had their doubts about Jack Black\\'s casting a while back, he proves to be just what his character needed to be truly believable. Black harnesses his trademark manic energy, and instead of playing it for laughs, expels it through Carl Denham\\'s passion for the film industry, and his lust for providing a show for his audiences - sometimes at the cost of his morals. I must admit, I have never been a fan of Adrien Brody, but even he managed to win my sympathies, and proves surprisingly convincing as heroic screenwriter Jack Driscoll. And then there\\'s Andy Serkis... the man is so underrated, since his best performances have been overshadowed by masks of admittably impressive CGI, but result in him losing credit he so desperately deserves. Serkis, while utterly convincing as an enormous silverback gorilla in terms of movement and vocalizations, still manages to bring a surprising humanity to Kong. I\\'m hard pressed to remember the last time an animal protagonist has managed to capture our hearts and emotional involvement as much as Kong does, and Serkis definitely deserves accolades for re-creating such an iconic character in a beautiful fashion only through movement and body language. He also takes a hilarious supporting role as the grizzled and trigger-happy Lumpy the cook. Overall, I think it is safe to say that King Kong succeeds on a level completely lost to most productions these days. Rarely are our emotions manipulated with such ease, rarely do we find ourselves getting so engrossed in a story that a 3 hour running time seems to have gone by far too quickly and we yearn for more. King Kong is an odyssey of a movie, and the most genuine and compelling output seen since... well, the Lord of the Rings. This is classic storytelling at its peak - don\\'t miss out on it!-10/10\\n\\n                    557 out of 981 found this helpful.\\n                        \\n                            Was this review helpful?  Sign in to vote.\\n                        \\n\\nPermalink\\n\\n',\n",
       " '\\nWhere oh where did it all go wrong? You had a $200 million budget, special effects wizards up the wazoo and Peter \"LOTR\" Jackson directing a bona fide classic that could only benefit from a modern retelling. However, the end result -- a bloated, melodramatic, self-indulgent dog\\'s breakfast of a movie -- proves the maxim that sometimes, \"less is more.\" King Kong is a very simple story, in fact, its almost a parable or fable, and the drama and excitement is all in how you tell that story. The original Kong (1933), despite its dated effects, still remains a gripping, moving experience because of the way the story is told through the magic of the cinema. Peter Jackson obviously hasn\\'t watched the original for some time because his version takes all the magic out and replaces it with boring special effects and long running sequences that badly need editing. Why Jackson decided to stretch this simple movie to over 3 hours is a question only he can answer.There\\'s so much wrong with this disaster, that it would take a King Kong-sized review to describe, so I\\'m just going to list some of the lowlights:1) At over 3 hours, its far too much movie for far too little story. So we get tons of sequences that run well past their expiration date and bog the movie down. At least 45 minutes to 1 hour could have been cut and you wouldn\\'t lose a thing.2) Too much melodrama between Kong and Ann Darrow. If a love story between a gigantic ape and a woman makes your socks roll up and down then you won\\'t mind the endless scenes of Ann and Kong staring deeply into each others eyes, but if it doesn\\'t, you\\'ll be rolling your eyes and looking at your watch as I was.3) Too much melodrama concerning King Kong. Jackson\\'s King Kong loves sunsets, jokes and ice skating. He so makes us want to feel empathy and love for Kong that he beats us over the head with it and then beats us some more. King Kong is a monster Peter, not a lovelorn single looking for a potential mate. The transformation of Kong from king of the monsters to misunderstood metro-sexual turns the movie into sentimental rubbish.4) Shoddy CGI sequences that run on and on and on and on.... but you get the idea. CGI Kong looks great, except for when he\\'s fighting, but the rest of the CGI, especially the green screens are amateurish. For a high budget effects movie, some of the effect sequences really are dismal and detract from the viewing experience. \"Jurassic Park\" is over 10 years old and its effects are better than Kong\\'s and that is not a point in King Kong\\'s favor.5) Rampant stupidity. In the original, Kong fights a T-Rex who has threatened Ann, and defeats it an fantastic fighting sequence. Jackson has Kong fight 3 T-Rexes utilizing a variety of martial arts moves, it was almost like watching Neo-Kong from the Matrix. To top it all off, the T-Rexes bite Kong but cause no damage. No wonder Kong wins, when your opponents can\\'t hurt you the outcome of the fight is obvious.6) Poor character development and story arch. Ostensibly there is a love story between Ann Darrow and Jack Driscoll, but Ann\\'s love for Kong is so strong that it overwhelms whatever relationship she had with Driscoll. So why keep it in the movie? Given the changes Jackson made in the core relationships, he should have changed Ann and Jack\\'s story as well, because as is, its utterly idiotic. And that\\'s just one example, the movie is full of this kind of bad scripting and characterization.\\n\\n                    325 out of 566 found this helpful.\\n                        \\n                            Was this review helpful?  Sign in to vote.\\n                        \\n\\nPermalink\\n\\n',\n",
       " '\\nFor the first hour I was seriously bored. The acting was laughable, the characters were unbelievable cardboard cut outs, and the situations were overlong and just plain tedious.Things changed when they (at last) reached the island. They stopped being boring and started being nonsensical. There are the island natives who kidnap Ann and stake her out for Kong. Why? In the original, the sacrifice is necessary to appease the monstrous ape... but that can\\'t happen in THIS version because the ape is our hero and has a gentle soul...At least there\\'s enough action that you won\\'t be bored as a series of ever-larger dinosaurs start chasing people through jungles, stopping only occasionally to fight Kong. Mind you, the action HAS to move at a huge pace because otherwise you\\'d start to think how ridiculous it all is. All the characters should have been dead within the first few minutes, but since we know that the \"principles\" have to survive for the ending, all that is of interest is seeing the ever-more grisly ways thought up for eliminating most of the minor characters. The guy being devoured by the giant leeches just caused laughter throughout the cinema.But I think the most disappointing aspect of a very disappointing film was the sentimentality. This starts on Skull island when Ann does her vaudeville routine and juggles for Kong. But it reaches its nadir when the action moves back to New York. All of the scenes before Kong reaches the Empire State Building are bad. But when he goes skating with Ann in Central Park! Honestly, you couldn\\'t make it up - well actually you could because someone did, but you SHOULDN\\'T! No more laughter in the cinema - instead there were people walking out. If a character is *TRULY* lovable, the audience will react appropriately - the added schmaltz just shows that even the people who made this film realised that they hadn\\'t succeeded in the task of making us love Kong.So we can\\'t love Kong as a character, and he is no longer portrayed as a monster, and in the end we don\\'t care whether he lives or dies.Actually that\\'s not *quite* true. I cared about him after he died - I cared that he fell from the top of the Empire State Building to the street below and his body seemed intact. I mean, he SHOULD have splashed everything up to the 6th floor or so with a thin puree of skin and blood, but because he\\'s the hero his corpse has to look noble.Badly acted, confusingly directed, appallingly scripted, meaningless, nonsensical garbage. But the CGI is good - in parts.\\n\\n                    268 out of 464 found this helpful.\\n                        \\n                            Was this review helpful?  Sign in to vote.\\n                        \\n\\nPermalink\\n\\n',\n",
       " '\\nThis has to be one of the most over-hyped movies of all time, a veritable \\'King Kong\\' of a movie deflated to Bubbles the chimp stature with its wooden acting, naff sequences, contrived plot and extreme length. As the saying goes \\'its not how big you are but how you use it!\" Unfortunately Mr. Jackson feels the need to release onto us the Bigger, Longer and Uncut version from the get go.To wade into this movie is to find yourself in a jungle but in the end having sifted through everything all you get is a monkey-nut. To begin with its one basic flaw is that its too long by far, over an hour too long. Jackson feels the need to show us all Ann Darrows workmates at the theatre one by one. He develops them to a point where you\\'re thinking they\\'re going to be integral to the story and then he swiftly moves, he does it with the crew of Venture. Lots of scenes with them, pointless in the end especially when they die, they just seem like cannon fodder for our amusement. There is just too much of everything in King Kong. Too many characters to begin with, too many natives, too many monsters, Kong fights off not one, not two, but three t-rex\\'s at the same time. Denham and Driscoll are not attacked by one or two big bugs, but a gazillion of them. At this point I was shaking my fist at the screen Its as if Jackson sat in a suite at Weta, like a kid in a candy store and said, I\\'ll have two those, ten of those, seven of those and twelve of those etc etc. Too much, quality not quantity Mr. Jackson. There are some cringe worthy moments too, especially in the dinosaur chase scene, with Adrien Brody punching, yes punching a Velociraptor (Steven must be laughing extremely loudly) in the face all the while not trying to get stamped on by some brontosaurus , gimme a break.The scenes between Ann and Kong begin funny, but turn stupid as Jackson has some how turned the beast of Kong into a docile and almost human like character, I was half expecting the pair to get down to some frantic love-making by the end of it, cringe, cringe cringe.I could go on and on and on, oh I could, but the most glaring contrivance occurs at the very beginning when we are cheated out of an explanation. Denham played by Jack Black is trying to convince his film financiers to give him more money, but having seen his rushes they\\'re not convinced. However, Denham pulls from his pocket a map no less, of Skull Island, a map nobody else has, annnnnd thats it. No back-story, no \\'where did he get that map\\' no dodgy Asian guy in a pawn shop, no mystic Mr. Miagi, no cults, no Nazis, no nothing. Denham just has the map, the map on which the whole movie rests, a poor downtrodden director has this map, where did he get it!!!!!! Is that to be saved for King Kong 2: Son of Kong, I guess so, but I\\'ll be in no rush to see that, but I was in a rush to leave the theatre to avoid the 17, yes SEVENTEEN minute end credits.\\n\\n                    263 out of 458 found this helpful.\\n                        \\n                            Was this review helpful?  Sign in to vote.\\n                        \\n\\nPermalink\\n\\n',\n",
       " '\\n-- CAUTION King-Kong-sized spoilers ahead ---The Lord of The Ring trilogy being a true masterpiece, one could expect Peter Jackson to remake this classic with state-of-the-art SFX, well defined characters brought to life by well cast, capable actors and a fast, modern adaptation of the original story.One couldn\\'t be more wrong.1. The film is way to long. Unlike any of the three LOTR movies, there is just not enough storyline to support a runtime of over three hours.2. Too much \"let\\'s Tolkienize the King Kong story\". Our heroes, who we could not care less about, despite the one-hour-introduction, stumble from one bizarre danger into the next.3. The island looks like a mixture of Minas Tirith and Mount Doom. Every stupid rock is a creepy sculpture of either an ape or a scull. Who is supposed to have made all these artworks? The primitives living on the island? Come on!4. The natives look like rejects from the Orc army, and they behave like that.5. Too many unresolved questions. Despite being so long, neither the origin of Carl\\'s map nor the fate of the \"wild kid\" nor the whereabout of the creepy natives after the ship\\'s crew shoot around a little. How did they get Kong on the ship?6. The only thing as dense as the storyline in the LOTR trilogy is the presence of plot holes. How large is the crew of this tiny freighter? How can a petite woman like Naomi Watts ever survive being held in Kongs hand while fighting three T-Rex or running at about 50 mp/h through a dense jungle? Why doesn\\'t Kong bleed at all after being bitten by T-Rex\\'s on his arm to the bone several times? Why did Ann and Jack split up after having arrived in New York? It goes on and on ...7. Bad CGI. Aside from the ape himself, it looks often times just like an X-Box 360 game.8. Our \"heroes\" resolving impossible situations like thousands of creepy giant insects or scull lusting natives by the captain and his endless supply of men showing up at the last second shooting around a bit.9. Jimmy not being able to hold the MP steady shooting insects off Jack without hitting him at all.10. Too much time on the island, too many never ending actions scenes (I never imagined I could get bored during an action scene), too little time to resolve. After Kong is captured, it is cut to New York, obviously months later. What happened in between? What happened to the captain and the remainder of his crew? Who cares?11. The best dialog of the whole movie was between Kong and Ann:Kong: Groaaaar!Ann: Iiiiiiiiiii!Kong: Groaaaaar!Ann: Iiiiiiiiiiiiii!Kong: Groooaaaaaar!and so on ...12. The producers thinking the audience to have an I.Q. below 50. Too cheesy scenes between the ape and the girl saying \"they like each other\", \"really!\",\"i\\'m serious!\", Carl repeating his plot line \"beauty killed the beast\" so that the most stupid viewer gets the clue \"oh, the movie WAS intended to make sense\".There are a few things I liked however, but they are not nearly enough to save the movie.1. Jack Black gave a surprisingly serious performance, not caricaturing the character at all.2. Kyle Chandler however did exactly that, very entertaining and very memorable.3. Naomi Watts was very credible as her character, very beautiful and endearing and obviously had developed a very tender relationship with the blue screen, which is always admirable.4. Andy Serkis & the Weta animation people did an equally marvelous job on Kong as they did on Gollum.5. The fight between Judo Kong and the three Tyrannosauri Rex was awesome!But still only 1 out of 10, because I am angry that they had me pay 10 Euros and then shamelessly waste my time. I just wish I had seen it on DVD, finger always on fast forward and skip buttons.\\n\\n                    402 out of 718 found this helpful.\\n                        \\n                            Was this review helpful?  Sign in to vote.\\n                        \\n\\nPermalink\\n\\n',\n",
       " '\\nIt would be easy to go on and on about this film, yet I\\'ll try and keep it short and simple. My jaw was literally dropped through most of the film. The special effects and realism in every facet are simply beyond belief - and absolutely MUST be seen on the big screen for the first time. I think \"animation\" no longer seems to be an appropriate term for this kind of thing. \"Digital Creation\" may be more fitting - because Kong looks like he was created by the almighty himself. Don\\'t be fooled however - this is not just a run of the mill action blockbuster. The story itself is remarkably poignant - so the closest I\\'ll come to giving a spoiler is by saying Kong turns out to be the most civilized character in the film. If I HAD to criticize the film in some way - and to be perfectly honest this didn\\'t detract from the film one iota for me - Jack Black was simply adequate for the role. Nearly every other lead was flawless. There were also a couple of times when I thought to myself, \"no way someone gets out of that alive\" (though I think that\\'s really stretching myself to make criticism). Either way, Peter Jackson has set a new standard in film making and created an instant classic in the process. It is also in my mind, without any question - the greatest remake of all time. Wow...\\n\\n                    193 out of 336 found this helpful.\\n                        \\n                            Was this review helpful?  Sign in to vote.\\n                        \\n\\nPermalink\\n\\n',\n",
       " '\\nHUGE SPOILERS...................................................One hour of exposition to start the film doesn\\'t work, especially after the movie degenerates in to asinine, over-the-top CGI action. This movie really never knew what it wanted to be. Jack Black played his role as cheesy as possible and that hurt the film at every turn. Besides Ann, none of the characters were fleshed out even with the long introductions. I was truly disappointed in the way the story was told.Still, you don\\'t go to a monster flick for the plot, even the \"king\" of all monster flicks. They spent hundreds of millions on a CG budget and wasted almost every penny. Despite the big budget, does it get any worse or any more \"greenscreen\" then that preposterous and downright awful Brontosaurus stampede? Why the need for the gross-out giant bug valley scene? Does Kong get attacked by giant bats at his home every night? Those same bats would rather attack a giant ape then eat the two humans standing right there? That whole escape scene was beyond bad. Did I really see our two heroes ride a giant bat like a glider down to the river below? Oy. This went even beyond James Bond type implausible stupidity. I\\'m all for the suspension of disbelief, especially when dealing with 30 foot tall apes, but some of this stuff was too stupid to believe. Worse, most of these antics didn\\'t register as real to the minds eye\\x85poor use of modern CGI if you ask me. Good construction and technology but poorly used by Peter Jackson. Plot holes were everywhere. Why did grabbing a taxi (a 1930s mule to boot) and getting Kong to follow help anything? The destruction was still wide spread. It\\'s a good thing that the chase ended on the street where the Ann character was waiting, beautifully back lit. It obviously wasn\\'t very cold in winter back in 1930s New York because there was hardly a breeze or a chill on the very top of the Empire State building. I could go on but why bother? Why do they think we\\'d care about this giant ape who brutally murders multiple humans during the course of the film? Any critics that say this has emotional resonance are just fooling themselves. Kong fires the black guy (Jimmy\\'s mentor) off a cliff, throws multiple people off a log bridge and then bites a guy in two right before he gets KO\\'d and we cut to Ann crying? Huh? Are we suppose to feel sorry for Kong? I\\'d have felt sorry for me as a movie ticket buyer if it hadn\\'t been for the Tyrannosaurus Rex vs Kong stuff, however. Those 15 minutes or so almost saved the movie for me. Almost.\\n\\n                    243 out of 428 found this helpful.\\n                        \\n                            Was this review helpful?  Sign in to vote.\\n                        \\n\\nPermalink\\n\\n',\n",
       " '\\nSo, the girlfriend and I went to see Peter Jackson\\'s magnum opus tonight, and we spared no expense. Went to a theater with a 120 foot screen. Smuggled a couple of Chipotle burritos for a meal. We were prepared for a cinematic extravaganza of epic proportions.Why did it all go horribly wrong! \"King Kong\" is the most bloated, ridiculous, vertigo-inducing trough of garbage I\\'ve ever seen. Okay, okay - so Peter Jackson knows how to use CGI. ASTONISHING! Computer generated animation and graphics?!? NO WAY! Who\\'d have thunk it? Okay Frodo Jackson, listen carefully. CGI can really help a picture, but pay attention to the words; I said \"HELP a picture,\" not \"BE the picture.\" Okay, the scene with the people running with stampeding brontosauruses and conveniently not being squished? Very, very believable. They are lumbering, wild beasts, not ballerinas. That was the first time I laughed during the movie. Sadly, it wasn\\'t the last.It appears Peter Jackson doesn\\'t have even a basic grasp of the laws of nature. First off, what was the point of the three - that\\'s right, THREE - T-Rex\\'s and the ape squaring off? I also loved the fact that the girl was always JUST out of the reach of danger throughout the movie. Skull Island also happens to be a place where the strongest vines in the world thrive, capable of supporting a 20 or 30 ton gorilla and a 15 or 20 ton dinosaur (oh, wait, actually two dinosaurs) as they writhe and battle with each other while suspended in a ravine by vines. Fascinating, Peter, fascinating. I also loved the scene with the ape throwing the fallen-tree bridge around; I was amazed to see just how strong men can be as they cling to a tree trunk as it falls 100, 200, 300 feet? Of course how could I neglect to mention the countless scenes of people falling 20, 30, 40 feet and not being injured. Guess what Peter: a 20 foot fall is enough to kill a human or at least put them into shock, but apparently Adrien Brody is a super-man because nothing stops him, not even numerous falls like that. The best was the scene with Naomi Watts climbing to the top of the Empire State Building in NYC ... in the middle of winter ... wearing only a silk dress. She sure didn\\'t act very cold, which seems a bit peculiar for being 100 stories up in the middle of winter. Then again, it\\'s hard to tell what she\\'s going for given the fact that she has exactly two facial expressions: the \"I\\'m enthralled\" and the \"I\\'m enthralled ... and sad.\" Next, who could forget the part with the ape and the girl lovingly sliding around on a frozen river. Again, Peter, this isn\\'t the Matrix; there are still laws of nature. No way in hell that river would have sustained a frickin\\' ape sliding around, not when a small mortar shell from a pre-WWII jeep-mounted cannon was enough to obliterate the thin veneer of sheet ice.Listen, I\\'m all for the \"suspension of disbelief,\" but there has to be a shred of truth or reality, otherwise how do you relate to characters! I mean, how can you relate to a movie where even the basic laws of physics don\\'t apply?! And it wasn\\'t even a movie with wizards and magic! Naomi Watts was wooden. The CGI was great, but the problem wasn\\'t quality, it was quantity. I thought the rendering of NYC was pretty amazing, but it became too much. Also, Jack Black may be the heir to Jack Nicholson\\'s creepy eyebrow abilities, but his character was little more than business-card stock thick. Sadly, he was one-dimensional as the latter-day Captain Ahab chasing his great white whale. Sadder still is his character was the one with the most substance! Ah, and his delivery at the end of the movie of the classic line ... wretched. Just wretched.So, here\\'s a word of advice for everyone. You\\'d get more value keeping your $8 or $10 in your pocket, sitting at home and hitting yourself in the head with a tack hammer over ... and over ... and over again. What bothers me the most is how everyone is fawning over this crap! I went into the picture highly anticipating the movie, wanting to see a good re-telling of a classic tale about beauty, communication, love, greed, and tragedy. What I got was a pile of CGI fireworks masquerading as genuine entertainment.No wonder the Golden Globes barely recognized the film. There was only one character worth recognition in that movie, and I don\\'t think the Academy wanted to run the risk of having a computer give an acceptance speech.Just my opinion, like it or lump it.\\n\\n                    158 out of 273 found this helpful.\\n                        \\n                            Was this review helpful?  Sign in to vote.\\n                        \\n\\nPermalink\\n\\n',\n",
       " '\\nFor the record, I loved the Lord of the Rings Series. I love long, heavy movies. The length of most movies doesn\\'t bother me - as long as it is worth it. And King Kong is not worth it.First of all, there were many plot holes that totally lacked explanation. How/when/where did Jack Black\\'s character obtain that map? And why didn\\'t he seem up set when he lost it? It was winter in New York City and Naomi Watt\\'s character was walking around in an thin gown and we don\\'t even see her breath? She doesn\\'t so much as shiver as she stands on the top of the Empire State Building. And why didn\\'t the pond that King Kong slid around on so much as creak? The army just \"showed up\" minutes after King Kong escapes? And then starts blasting apart the city? If King Kong had really fallen from that height there would have been bits-o-monkey everywhere. That or he would have smashed through the street and screw up the sewer system. How could they have kept King Kong sedated the entire trip back? The movie makes it seem like it took months to get there, but only a week end to get back.Another thing that bothered me was that Naomi Watts and Adrien Brody had no, and I mean no, chemistry whatsoever. None. I didn\\'t understand their supposed \"attraction.\" The dialog between them was so phony and speaking of dialog what was with the part with Andy Serkis after they find the tracks in the jungle saying, \"Only one creature could have made those tracks, the Abominable Snowman.\" Was that supposed to be funny or something? Or what about Jack Black\\'s last line in the movie, \"It was beauty that killed the beast.\" What was with that? Was it supposed to be clever or moving? Well, it wasn\\'t. There\\'s more but frankly, I don\\'t even want to think about it anymore. Long story short, save your money and your time.\\n\\n                    176 out of 307 found this helpful.\\n                        \\n                            Was this review helpful?  Sign in to vote.\\n                        \\n\\nPermalink\\n\\n',\n",
       " '\\nI hardly know where to begin. I had such high hopes for this film. I felt that Jackson was a good choice to reinterpret the story and there are brief flashes of what I was hoping for salted throughout the film, but they are few and far between. And what they are hidden in is as big a mess as I\\'ve ever seen.Many of my biggest complaints are covered by other reviewers - too long; pointless characters and subplots that conveniently disappear; bad CGI scenes; lousy dialog; utterly inappropriate attempts at comedy relief; stupidly contrived situations where people absorb physical punishment that would cripple or kill a trained stuntman, but they just jump up and carry on as if nothing happened; inane inconsistencies (Watts in winter with no coat doesn\\'t shiver on Empire State, ape that pulls down theater balcony can skate on thin ice, etc); the abominable performance by Jack (I can\\'t act to save my life) Black; and, worst of all, the mind-bogglingly idiotic concept of having her love the ape more than she loves the guy. But here\\'s a couple of things I didn\\'t see mentioned (and I only made it in about 200 reviews before crying Uncle, so if someone did catch these, I apologize):When they first go ashore to investigate the village, nobody thinks to bring a weapon? Are you kidding me?One of the only bits of dialog retained from the original film is the \"scene\" Denham shoots with Ann Darrow and the ham actor recreating Fay Wray and Bruce Cabot\\'s scene where Driscoll tells Ann that women are bad luck on a ship. Then, the new film takes pains to assure us that this was not the deathless dialog of playwright Brody/Driscoll but a bit of cheese made up on the spot by the ham \"playing\" the film-within-a-film\\'s first mate. It\\'s odd, but in every one of the few instances that Jackson (who calls himself a big fan of the original) references the first film, he does so in the most disrespectful manner possible, as if to say, \"Yes, wasn\\'t that a quaint, creaky old piece of junk I used as the basis for my superior cinematic achievement?\" Only problem is that quaint old film is a classic and will still be entertaining audiences long after this new pile of dreck has mercifully faded away.And about the ham actor - hasn\\'t anyone ever taught Jackson that one of the most important rules of good cinematic storytelling is that a character undergoes a change in the tale but only once. The ham goes from sniveling coward to avenging Rambo on a vine with a tommy-gun, back to sniveling coward whenever it suits the plot.I could go on but to what purpose. I\\'ve already given this film more time than it deserves and if you haven\\'t gotten the point by now, you probably never will. But there is one last thing I\\'d like to address and it\\'s the issue of suspension of disbelief.I\\'m a pretty agreeable guy when it comes to buying into a film\\'s universe. If you let me know up front that in this movie, pigs can fly, then I say fine, fly those pigs. But the filmmaker has to hold up his side of the bargain. And if his film is poorly conceived and badly made, before long, I\\'m going to be looking at those flying pigs (and every other element in the film) with a far more critical eye. This leads us to a complaint I saw mentioned several times in the reviews I read where folks were incensed that Jackson skipped over the process of getting Kong on the ship and then showing the journey back to New York. But if you look at the original, it\\'s done the same way. Denham talks about Kong\\'s name being up in lights, how they\\'ll all be millionaires, how he\\'ll share it with all of them and BANG! we\\'re back in NY outside a theater advertising the appearance of Kong - Eighth Wonder Of The World. The difference is: in the original, we\\'re caught up in the story, entranced and ensnared, we willingly follow wherever the film leads us because we are under its spell. But in the new one, many of us have been looking at our watches for an hour or more. We\\'re fed up with a boatload of unlikable characters acting like morons and monsters who act just as dumb. We\\'re in a hurry to get this over with, but we know we\\'re not going anywhere for a while so we resort to the time-honored sport of the bored film-goer - we start picking apart every single thing we see.And that\\'s really it in a nutshell. We didn\\'t care. Jackson, for all his supposed gifts and his love for the first film, couldn\\'t involve us. The good reviews this film has received baffle me. The only answer I can come up with is that a lot of people have been taught to have diminished expectations from their entertainment. Make it enough like a video game and they think it\\'s fine. But it\\'s not fine to anyone who grew up in the grip of great storytellers. I had supposed Peter Jackson might be such a storyteller. If, in fact, he is, then this is no more than a woeful misstep. But it is so poor, one is forced to entertain the thought that this is the true Peter Jackson - a hack with too much money and not enough talent. What a bitter disappointment this film is.\\n\\n                    148 out of 256 found this helpful.\\n                        \\n                            Was this review helpful?  Sign in to vote.\\n                        \\n\\nPermalink\\n\\n']"
      ]
     },
     "execution_count": 152,
     "metadata": {},
     "output_type": "execute_result"
    }
   ],
   "source": [
    "[x.text for x in bs.findAll(class_='content')]"
   ]
  },
  {
   "cell_type": "code",
   "execution_count": 153,
   "metadata": {
    "ExecuteTime": {
     "end_time": "2021-04-15T15:47:51.496515Z",
     "start_time": "2021-04-15T15:47:51.241387Z"
    }
   },
   "outputs": [],
   "source": [
    "driver.quit()"
   ]
  },
  {
   "cell_type": "markdown",
   "metadata": {},
   "source": [
    "# YELP\n",
    "Using beautiful soup to parse reviews and dealing with different layouts"
   ]
  },
  {
   "cell_type": "code",
   "execution_count": 271,
   "metadata": {
    "ExecuteTime": {
     "end_time": "2021-04-15T16:17:10.387486Z",
     "start_time": "2021-04-15T16:17:06.948638Z"
    }
   },
   "outputs": [],
   "source": [
    "resp = requests.get('https://www.yelp.com/biz/bushwick-grind-cafe-brooklyn-2?adjust_creative=XCA5Kc7RlIdeGhJ7qoZSYA&utm_campaign=yelp_api_v3&utm_medium=api_v3_business_search&utm_source=XCA5Kc7RlIdeGhJ7qoZSYA')"
   ]
  },
  {
   "cell_type": "code",
   "execution_count": 272,
   "metadata": {
    "ExecuteTime": {
     "end_time": "2021-04-15T16:17:11.422817Z",
     "start_time": "2021-04-15T16:17:11.309057Z"
    }
   },
   "outputs": [],
   "source": [
    "bs = BeautifulSoup(resp.content, 'html.parser')"
   ]
  },
  {
   "cell_type": "code",
   "execution_count": 273,
   "metadata": {
    "ExecuteTime": {
     "end_time": "2021-04-15T16:17:12.698074Z",
     "start_time": "2021-04-15T16:17:12.662711Z"
    }
   },
   "outputs": [],
   "source": [
    "x = bs.findAll(class_='margin-b5__373c0__2ErL8')"
   ]
  },
  {
   "cell_type": "code",
   "execution_count": 274,
   "metadata": {
    "ExecuteTime": {
     "end_time": "2021-04-15T16:17:13.236356Z",
     "start_time": "2021-04-15T16:17:13.233166Z"
    }
   },
   "outputs": [
    {
     "data": {
      "text/plain": [
       "11"
      ]
     },
     "execution_count": 274,
     "metadata": {},
     "output_type": "execute_result"
    }
   ],
   "source": [
    "len(x)"
   ]
  },
  {
   "cell_type": "code",
   "execution_count": 275,
   "metadata": {
    "ExecuteTime": {
     "end_time": "2021-04-15T16:17:13.813044Z",
     "start_time": "2021-04-15T16:17:13.809267Z"
    }
   },
   "outputs": [
    {
     "data": {
      "text/plain": [
       "(\"UsernameLocation001 star ratingEek! Methinks not.2 star ratingMeh. I've experienced better.3 star ratingA-OK.4 star ratingYay! I'm a fan.5 star ratingWoohoo! As good as it gets!Start your review of Bushwick Grind Cafe.\",\n",
       " \"Janet L.Fremont, CA22281/4/2021Amazing customer service! Not sure if she was the owner or just the staff, but our barista was so incredibly friendly and courteous. Great selection of drinks and food. Definitely had my fix for the morning! Unfortunately was coming from out of town, but if I wasn't, would definitely become a regular!UsefulFunnyCool 1\")"
      ]
     },
     "execution_count": 275,
     "metadata": {},
     "output_type": "execute_result"
    }
   ],
   "source": [
    "x[0].text,x[1].text"
   ]
  },
  {
   "cell_type": "code",
   "execution_count": 276,
   "metadata": {
    "ExecuteTime": {
     "end_time": "2021-04-15T16:17:15.234824Z",
     "start_time": "2021-04-15T16:17:15.232618Z"
    }
   },
   "outputs": [],
   "source": [
    "x = x[1]"
   ]
  },
  {
   "cell_type": "code",
   "execution_count": 277,
   "metadata": {
    "ExecuteTime": {
     "end_time": "2021-04-15T16:17:15.636447Z",
     "start_time": "2021-04-15T16:17:15.633453Z"
    }
   },
   "outputs": [
    {
     "data": {
      "text/plain": [
       "'Fremont, CA'"
      ]
     },
     "execution_count": 277,
     "metadata": {},
     "output_type": "execute_result"
    }
   ],
   "source": [
    "x.find(class_='css-n6i4z7').text"
   ]
  },
  {
   "cell_type": "code",
   "execution_count": 278,
   "metadata": {
    "ExecuteTime": {
     "end_time": "2021-04-15T16:17:16.123308Z",
     "start_time": "2021-04-15T16:17:16.119099Z"
    }
   },
   "outputs": [
    {
     "data": {
      "text/plain": [
       "'5 star rating'"
      ]
     },
     "execution_count": 278,
     "metadata": {},
     "output_type": "execute_result"
    }
   ],
   "source": [
    "x.find(class_='i-stars__373c0__1T6rz')['aria-label']"
   ]
  },
  {
   "cell_type": "code",
   "execution_count": 279,
   "metadata": {
    "ExecuteTime": {
     "end_time": "2021-04-15T16:17:16.532744Z",
     "start_time": "2021-04-15T16:17:16.529083Z"
    }
   },
   "outputs": [
    {
     "data": {
      "text/plain": [
       "'1/4/2021'"
      ]
     },
     "execution_count": 279,
     "metadata": {},
     "output_type": "execute_result"
    }
   ],
   "source": [
    "x.find(class_='css-e81eai').text"
   ]
  },
  {
   "cell_type": "code",
   "execution_count": 280,
   "metadata": {
    "ExecuteTime": {
     "end_time": "2021-04-15T16:17:16.921184Z",
     "start_time": "2021-04-15T16:17:16.918042Z"
    }
   },
   "outputs": [
    {
     "data": {
      "text/plain": [
       "\"Amazing customer service! Not sure if she was the owner or just the staff, but our barista was so incredibly friendly and courteous. Great selection of drinks and food. Definitely had my fix for the morning! Unfortunately was coming from out of town, but if I wasn't, would definitely become a regular!\""
      ]
     },
     "execution_count": 280,
     "metadata": {},
     "output_type": "execute_result"
    }
   ],
   "source": [
    "x.find(class_='raw__373c0__3rcx7').text"
   ]
  },
  {
   "cell_type": "markdown",
   "metadata": {},
   "source": [
    "Second Company"
   ]
  },
  {
   "cell_type": "code",
   "execution_count": 281,
   "metadata": {
    "ExecuteTime": {
     "end_time": "2021-04-15T16:17:21.432096Z",
     "start_time": "2021-04-15T16:17:17.909881Z"
    }
   },
   "outputs": [],
   "source": [
    "resp = requests.get('https://www.yelp.com/biz/grey-cafe-flushing?adjust_creative=XCA5Kc7RlIdeGhJ7qoZSYA&utm_campaign=yelp_api_v3&utm_medium=api_v3_business_search&utm_source=XCA5Kc7RlIdeGhJ7qoZSYA')"
   ]
  },
  {
   "cell_type": "code",
   "execution_count": 282,
   "metadata": {
    "ExecuteTime": {
     "end_time": "2021-04-15T16:17:21.904956Z",
     "start_time": "2021-04-15T16:17:21.901856Z"
    }
   },
   "outputs": [
    {
     "data": {
      "text/plain": [
       "<Response [200]>"
      ]
     },
     "execution_count": 282,
     "metadata": {},
     "output_type": "execute_result"
    }
   ],
   "source": [
    "resp"
   ]
  },
  {
   "cell_type": "code",
   "execution_count": 283,
   "metadata": {
    "ExecuteTime": {
     "end_time": "2021-04-15T16:17:22.515365Z",
     "start_time": "2021-04-15T16:17:22.327852Z"
    }
   },
   "outputs": [],
   "source": [
    "bs = BeautifulSoup(resp.content, 'html.parser')"
   ]
  },
  {
   "cell_type": "code",
   "execution_count": 284,
   "metadata": {
    "ExecuteTime": {
     "end_time": "2021-04-15T16:17:22.950660Z",
     "start_time": "2021-04-15T16:17:22.910231Z"
    }
   },
   "outputs": [
    {
     "data": {
      "text/plain": [
       "12"
      ]
     },
     "execution_count": 284,
     "metadata": {},
     "output_type": "execute_result"
    }
   ],
   "source": [
    "x = bs.findAll(class_='margin-b5__373c0__2ErL8')\n",
    "len(x)"
   ]
  },
  {
   "cell_type": "code",
   "execution_count": 285,
   "metadata": {
    "ExecuteTime": {
     "end_time": "2021-04-15T16:17:23.574434Z",
     "start_time": "2021-04-15T16:17:23.571005Z"
    }
   },
   "outputs": [
    {
     "data": {
      "text/plain": [
       "('Q:How is this business operating during COVID-19? Are they offering takeout, delivery, or both? Anything else to note about them right now?A:They are offering both takeout and delivery. They also have outdoor seating available for those who want to sit and enjoy their coffee/food. Kaitlin M.\\xa09 months ago\\xa01 person found this helpfulView question details',\n",
       " \"UsernameLocation001 star ratingEek! Methinks not.2 star ratingMeh. I've experienced better.3 star ratingA-OK.4 star ratingYay! I'm a fan.5 star ratingWoohoo! As good as it gets!Start your review of GREY Cafe.\")"
      ]
     },
     "execution_count": 285,
     "metadata": {},
     "output_type": "execute_result"
    }
   ],
   "source": [
    "# Are these reviews\n",
    "x[0].text, x[1].text"
   ]
  },
  {
   "cell_type": "code",
   "execution_count": 289,
   "metadata": {
    "ExecuteTime": {
     "end_time": "2021-04-15T16:19:29.971581Z",
     "start_time": "2021-04-15T16:19:29.968297Z"
    }
   },
   "outputs": [
    {
     "data": {
      "text/plain": [
       "\"Fiona C.Queens, Queens, NY864963/2/2021The outdoor covered seating is so convenient! There's seating indoors and they limit the # of people and how long you can stay (1 hr I think).Every. Single. Pudding. Is. Amazing. Try the banana, tiramisu, or matcha pudding - they're all great quality and $6 each. Got the matcha latte from here and it's pretty good.Useful 1Funny 1Cool 1Business owner informationSunny C.Business Owner3/3/2021Hi Fiona, Thank you so much for your kind words. Glad you are enjoying our space. We look forward to the days when we can fully re-open. In the meantime stay safe and healthy!Read more\""
      ]
     },
     "execution_count": 289,
     "metadata": {},
     "output_type": "execute_result"
    }
   ],
   "source": [
    "#this sure look like one!\n",
    "x[2].text"
   ]
  },
  {
   "cell_type": "code",
   "execution_count": 290,
   "metadata": {
    "ExecuteTime": {
     "end_time": "2021-04-15T16:19:36.054074Z",
     "start_time": "2021-04-15T16:19:36.051692Z"
    }
   },
   "outputs": [],
   "source": [
    "x = x[2]"
   ]
  },
  {
   "cell_type": "code",
   "execution_count": 291,
   "metadata": {
    "ExecuteTime": {
     "end_time": "2021-04-15T16:19:36.717617Z",
     "start_time": "2021-04-15T16:19:36.713952Z"
    },
    "scrolled": true
   },
   "outputs": [
    {
     "data": {
      "text/plain": [
       "'Queens, Queens, NY'"
      ]
     },
     "execution_count": 291,
     "metadata": {},
     "output_type": "execute_result"
    }
   ],
   "source": [
    "x.find(class_='css-n6i4z7').text"
   ]
  },
  {
   "cell_type": "code",
   "execution_count": 294,
   "metadata": {
    "ExecuteTime": {
     "end_time": "2021-04-15T16:19:59.154201Z",
     "start_time": "2021-04-15T16:19:59.150067Z"
    }
   },
   "outputs": [
    {
     "data": {
      "text/plain": [
       "'5 star rating'"
      ]
     },
     "execution_count": 294,
     "metadata": {},
     "output_type": "execute_result"
    }
   ],
   "source": [
    "x.find(class_='i-stars__373c0__1T6rz')['aria-label']"
   ]
  },
  {
   "cell_type": "code",
   "execution_count": 295,
   "metadata": {
    "ExecuteTime": {
     "end_time": "2021-04-15T16:20:01.958850Z",
     "start_time": "2021-04-15T16:20:01.953982Z"
    }
   },
   "outputs": [
    {
     "data": {
      "text/plain": [
       "'3/2/2021'"
      ]
     },
     "execution_count": 295,
     "metadata": {},
     "output_type": "execute_result"
    }
   ],
   "source": [
    "x.find(class_='css-e81eai').text"
   ]
  },
  {
   "cell_type": "code",
   "execution_count": 296,
   "metadata": {
    "ExecuteTime": {
     "end_time": "2021-04-15T16:20:02.932074Z",
     "start_time": "2021-04-15T16:20:02.927977Z"
    }
   },
   "outputs": [
    {
     "data": {
      "text/plain": [
       "\"The outdoor covered seating is so convenient! There's seating indoors and they limit the # of people and how long you can stay (1 hr I think).Every. Single. Pudding. Is. Amazing. Try the banana, tiramisu, or matcha pudding - they're all great quality and $6 each. Got the matcha latte from here and it's pretty good.\""
      ]
     },
     "execution_count": 296,
     "metadata": {},
     "output_type": "execute_result"
    }
   ],
   "source": [
    "x.find(class_='raw__373c0__3rcx7').text"
   ]
  },
  {
   "cell_type": "code",
   "execution_count": null,
   "metadata": {},
   "outputs": [],
   "source": [
    "#Then would come the loop to go through pages \n",
    "size=100\n",
    "for page in range(0,101):"
   ]
  }
 ],
 "metadata": {
  "kernelspec": {
   "display_name": "learn-env",
   "language": "python",
   "name": "learn-env"
  },
  "language_info": {
   "codemirror_mode": {
    "name": "ipython",
    "version": 3
   },
   "file_extension": ".py",
   "mimetype": "text/x-python",
   "name": "python",
   "nbconvert_exporter": "python",
   "pygments_lexer": "ipython3",
   "version": "3.6.9"
  },
  "toc": {
   "base_numbering": 1,
   "nav_menu": {},
   "number_sections": true,
   "sideBar": true,
   "skip_h1_title": false,
   "title_cell": "Table of Contents",
   "title_sidebar": "Contents",
   "toc_cell": false,
   "toc_position": {},
   "toc_section_display": true,
   "toc_window_display": false
  },
  "varInspector": {
   "cols": {
    "lenName": 16,
    "lenType": 16,
    "lenVar": 40
   },
   "kernels_config": {
    "python": {
     "delete_cmd_postfix": "",
     "delete_cmd_prefix": "del ",
     "library": "var_list.py",
     "varRefreshCmd": "print(var_dic_list())"
    },
    "r": {
     "delete_cmd_postfix": ") ",
     "delete_cmd_prefix": "rm(",
     "library": "var_list.r",
     "varRefreshCmd": "cat(var_dic_list()) "
    }
   },
   "types_to_exclude": [
    "module",
    "function",
    "builtin_function_or_method",
    "instance",
    "_Feature"
   ],
   "window_display": false
  }
 },
 "nbformat": 4,
 "nbformat_minor": 2
}
