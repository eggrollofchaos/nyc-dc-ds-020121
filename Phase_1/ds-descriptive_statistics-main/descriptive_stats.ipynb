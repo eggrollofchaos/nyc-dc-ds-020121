{
 "cells": [
  {
   "cell_type": "markdown",
   "metadata": {},
   "source": [
    "# Descriptive Statistics\n",
    "\n",
    "When trying to understand your data, it is typically impossible to just look at raw data and get much insight. We need ways to turn a bunch of data into a smaller set of numbers that are easily digestible summaries of your data. This will make them understandable both for you and for the people you work with. We call these **descriptive statistics**."
   ]
  },
  {
   "cell_type": "markdown",
   "metadata": {},
   "source": [
    "# Objectives\n",
    "\n",
    "- Use measures of center and spread to describe data\n",
    "- Use histograms and box-and-whisker plots to describe data"
   ]
  },
  {
   "cell_type": "code",
<<<<<<< HEAD
   "execution_count": 1,
=======
   "execution_count": null,
>>>>>>> upstream/main
   "metadata": {},
   "outputs": [],
   "source": [
    "from scipy import stats\n",
    "from sklearn.datasets import load_iris\n",
    "from matplotlib import pyplot as plt\n",
    "import seaborn as sns\n",
    "import pandas as pd\n",
    "import numpy as np\n",
    "\n",
    "%matplotlib inline"
   ]
  },
  {
   "cell_type": "markdown",
   "metadata": {},
   "source": [
    "Each of our data table's columns has a bunch of values. We might have a set of body temperatures or house prices or birth rates or frog leg lengths. How, in general, can we characterize such a set of numbers?"
   ]
  },
  {
   "cell_type": "markdown",
   "metadata": {},
   "source": [
    "## Sample Data"
   ]
  },
  {
   "cell_type": "markdown",
   "metadata": {},
   "source": [
    "Let's build a simple dataset, based on a hypothetical survey of the number of pairs of shoes owned by 11 random people:"
   ]
  },
  {
   "cell_type": "code",
<<<<<<< HEAD
   "execution_count": 2,
=======
   "execution_count": null,
>>>>>>> upstream/main
   "metadata": {},
   "outputs": [],
   "source": [
    "data = np.array([5, 6, 3, 4, 3, 4, 8, 8, 1, 8, 2])"
   ]
  },
  {
   "cell_type": "markdown",
   "metadata": {},
   "source": [
    "This dataset has a bunch of individual observations in a range of values. These observations have an **empirical distribution** describing how the values are distributed across this range. We'll shorten this to just **distribution** for now. Everything that follows is our attempt to understand the distribution of our data."
   ]
  },
  {
   "cell_type": "markdown",
   "metadata": {},
   "source": [
    "# Measures of Center\n",
    "\n",
    "One natural place to begin is to ask about where the **middle** of the data is. In other words, what is the value that is closest to our other values? \n",
    "\n",
    "There are three common measures used to describe the \"middle\":\n",
    "\n",
    "- **Mean**: The sum of values / number of values\n",
    "- **Median**: The value with as many values above it as below it\n",
    "    - If the dataset has an even number of values, the median is the mean of the two middle numbers.\n",
    "- **Mode**: The most frequent value(s)\n",
    "    - A dataset can have multiple modes if multiple values are tied for the most frequent.\n",
    "\n",
    "Let's see what we have for our example:"
   ]
  },
  {
   "cell_type": "code",
<<<<<<< HEAD
   "execution_count": 3,
   "metadata": {},
   "outputs": [
    {
     "name": "stdout",
     "output_type": "stream",
     "text": [
      "Mean: 4.7272727272727275\n",
      "Median: 4.0\n",
      "Mode: 8\n"
     ]
    }
   ],
=======
   "execution_count": null,
   "metadata": {},
   "outputs": [],
>>>>>>> upstream/main
   "source": [
    "print(f\"Mean: {np.mean(data)}\")\n",
    "print(f\"Median: {np.median(data)}\")\n",
    "print(f\"Mode: {stats.mode(data)[0][0]}\")"
   ]
  },
  {
   "cell_type": "code",
<<<<<<< HEAD
   "execution_count": 4,
   "metadata": {},
   "outputs": [
    {
     "data": {
      "text/plain": [
       "(array([1, 2, 3, 4, 5, 6, 8]), array([1, 1, 2, 2, 1, 1, 3]))"
      ]
     },
     "execution_count": 4,
     "metadata": {},
     "output_type": "execute_result"
    }
   ],
=======
   "execution_count": null,
   "metadata": {},
   "outputs": [],
>>>>>>> upstream/main
   "source": [
    "## You can also find the mode(s) using np.unique()\n",
    "counts = np.unique(data, return_counts=True)\n",
    "counts"
   ]
  },
  {
   "cell_type": "markdown",
   "metadata": {},
   "source": [
    "**Discussion**: If somebody asked you \"How many pairs of shoes do people usually have?\", how would you answer (based on these data)?"
   ]
  },
  {
   "cell_type": "markdown",
   "metadata": {},
   "source": [
    "## Mathematical Properties"
   ]
  },
  {
   "cell_type": "markdown",
   "metadata": {},
   "source": [
    "The mean $\\bar{x}$ is the point that minimizes the *sum of squared differences* for a given set of data.\n",
    "\n",
    "<details>\n",
    "    <summary>\n",
    "        Proof\n",
    "    </summary>\n",
    "    We want to find the point $k$ that minimizes $L(k) = \\Sigma^n_{i=1}(x_i-k)^2$. Now, a calculus trick, which we'll see again: To find the minimum of a function, we'll set its derivative to 0. Taking the derivative, we have:\n",
    "\n",
    "$L'(k) = -2\\Sigma^n_{i=1}(x_i-k)$.\n",
    "\n",
    "Now we solve $L'(k) = 0$ for $k$:\n",
    "\n",
    "$-2\\Sigma^n_{i=1}(x_i-k) = 0$, so <br/><br/>\n",
    "$\\Sigma^n_{i=1}(x_i-k) = 0$, so <br/><br/>\n",
    "$\\Sigma^n_{i=1}x_i = \\Sigma^n_{i=1}k = nk$, so <br/><br/>\n",
    "$k = \\frac{\\Sigma^n_{i=1}x_i}{n} = \\bar{x}$.\n",
    "    </details>\n"
   ]
  },
  {
   "cell_type": "markdown",
   "metadata": {},
   "source": [
    "By contrast, the median is the point that minimizes the *sum of absolute differences*.\n",
    "\n",
    "<details>\n",
    "    <summary>\n",
    "    Proof\n",
    "    </summary>\n",
    "    We want to find the point $k$ that minimizes $D(k) = \\Sigma^n_{i=1}|x_i-k|$. Taking the derivative, we have:\n",
    "\n",
    "$D'(k) = \\Sigma^n_{i=1}\\frac{k-x_i}{|k-x_i|}$.\n",
    "\n",
    "Now we solve $D'(k) = 0$ for $k$:\n",
    "\n",
    "Consider the sum $\\Sigma^n_{i=1}\\frac{k-x_i}{|k-x_i|} = 0$. Ignoring the case where $k = x_i$, each of the addends in this sum is $1$ if $k\\geq x_i$ and $-1$ if not. To make this sum equal to 0, we thus want to choose $k$ such that there are the same number of $1$s and $-1$s, which means that we want to choose $k$ to be the middle number, i.e. the median.\n",
    "\n",
    "Notes:\n",
    "- if $n$ is odd, then the minimum of the function occurs not where its derivative is 0 but where it is *undefined*;\n",
    "- if $n$ is even, then *any* number between the two middle numbers will minimize our function:\n",
    "    </details>"
   ]
  },
  {
   "cell_type": "markdown",
   "metadata": {},
   "source": [
    "# Measures of Spread\n",
    "\n",
    "Another natural question is about the **spread** of the data. In other words, how wide a range of values do you have? And how close or far are they from the \"middle\"?"
   ]
  },
  {
   "cell_type": "markdown",
   "metadata": {},
   "source": [
    "## Min, Max, and Range\n",
    "\n",
    "The minumun and maximum values of a dataset tell you the full extent of the values of your dataset. The range of the dataset is the difference between those two values."
   ]
  },
  {
   "cell_type": "code",
<<<<<<< HEAD
   "execution_count": 5,
   "metadata": {},
   "outputs": [
    {
     "name": "stdout",
     "output_type": "stream",
     "text": [
      "Min: 1\n",
      "Max: 8\n",
      "Range: 7\n"
     ]
    }
   ],
=======
   "execution_count": null,
   "metadata": {},
   "outputs": [],
>>>>>>> upstream/main
   "source": [
    "print(f\"Min: {data.min()}\")\n",
    "print(f\"Max: {data.max()}\")\n",
    "print(f\"Range: {data.max() - data.min()}\")"
   ]
  },
  {
   "cell_type": "markdown",
   "metadata": {},
   "source": [
    "## Percentiles and IQR\n",
    "\n",
    "You can also calculate values at various **percentiles** to understand the spread. An \"Nth Percentile\" value is the value that is greater than N% of other values. The 25th and 75th percentiles are commonly used to describe spread, and the **interquartile range (IQR)** is the difference between these two values.\n",
    "\n",
    "See [the docs](https://numpy.org/doc/stable/reference/generated/numpy.percentile.html) for more specifics about how percentiles are calculated, which is suprisingly tricky."
   ]
  },
  {
   "cell_type": "code",
<<<<<<< HEAD
   "execution_count": 6,
   "metadata": {},
   "outputs": [
    {
     "name": "stdout",
     "output_type": "stream",
     "text": [
      "25th Percentile: 3.0\n",
      "75th Percentile: 7.0\n",
      "IQR: 4.0\n"
     ]
    }
   ],
=======
   "execution_count": null,
   "metadata": {},
   "outputs": [],
>>>>>>> upstream/main
   "source": [
    "print(f\"25th Percentile: {np.percentile(data, 25)}\")\n",
    "print(f\"75th Percentile: {np.percentile(data, 75)}\")\n",
    "print(f\"IQR: {np.percentile(data, 75) - np.percentile(data, 25)}\")"
   ]
  },
  {
   "cell_type": "markdown",
   "metadata": {},
   "source": [
    "## Standard Deviation\n",
    "\n",
    "The **standard deviation** is a measure of how far away values are from the mean. It is usually calculated as $\\sqrt\\frac{\\Sigma(x_i - \\bar{x})^2}{n}$."
   ]
  },
  {
   "cell_type": "code",
<<<<<<< HEAD
   "execution_count": 7,
   "metadata": {},
   "outputs": [
    {
     "name": "stdout",
     "output_type": "stream",
     "text": [
      "Standard Deviation: 2.3775812419312765\n"
     ]
    }
   ],
=======
   "execution_count": null,
   "metadata": {},
   "outputs": [],
>>>>>>> upstream/main
   "source": [
    "print(f\"Standard Deviation: {data.std()}\")"
   ]
  },
  {
   "cell_type": "code",
<<<<<<< HEAD
   "execution_count": 8,
   "metadata": {},
   "outputs": [
    {
     "data": {
      "text/plain": [
       "2.3775812419312765"
      ]
     },
     "execution_count": 8,
     "metadata": {},
     "output_type": "execute_result"
    }
   ],
=======
   "execution_count": null,
   "metadata": {},
   "outputs": [],
>>>>>>> upstream/main
   "source": [
    "data.std()"
   ]
  },
  {
   "cell_type": "markdown",
   "metadata": {},
   "source": [
    "As with percentiles, there are different ways that standard deviation is calculated."
   ]
  },
  {
   "cell_type": "code",
<<<<<<< HEAD
   "execution_count": 9,
=======
   "execution_count": null,
>>>>>>> upstream/main
   "metadata": {},
   "outputs": [],
   "source": [
    "data_df = pd.DataFrame(data, columns=[\"Pairs of Shoes\"])"
   ]
  },
  {
   "cell_type": "code",
<<<<<<< HEAD
   "execution_count": 10,
   "metadata": {},
   "outputs": [
    {
     "data": {
      "text/plain": [
       "Pairs of Shoes    2.493628\n",
       "dtype: float64"
      ]
     },
     "execution_count": 10,
     "metadata": {},
     "output_type": "execute_result"
    }
   ],
=======
   "execution_count": null,
   "metadata": {},
   "outputs": [],
>>>>>>> upstream/main
   "source": [
    "data_df.std()"
   ]
  },
  {
   "cell_type": "markdown",
   "metadata": {},
   "source": [
    "**Discussion**: If somebody asked you \"How much do people differ in the number of pairs of shoes they have?\", how would you answer (based on these data)?"
   ]
  },
  {
   "cell_type": "markdown",
   "metadata": {},
   "source": [
    "# df.describe()\n",
    "\n",
    "You can actually get a bunch of descriptive statistics from any `pandas` DataFrame using the `.describe()` method. This should be one of the first things you'll do when exploring a new dataset."
   ]
  },
  {
   "cell_type": "code",
<<<<<<< HEAD
   "execution_count": 11,
   "metadata": {},
   "outputs": [
    {
     "data": {
      "text/html": [
       "<div>\n",
       "<style scoped>\n",
       "    .dataframe tbody tr th:only-of-type {\n",
       "        vertical-align: middle;\n",
       "    }\n",
       "\n",
       "    .dataframe tbody tr th {\n",
       "        vertical-align: top;\n",
       "    }\n",
       "\n",
       "    .dataframe thead th {\n",
       "        text-align: right;\n",
       "    }\n",
       "</style>\n",
       "<table border=\"1\" class=\"dataframe\">\n",
       "  <thead>\n",
       "    <tr style=\"text-align: right;\">\n",
       "      <th></th>\n",
       "      <th>Pairs of Shoes</th>\n",
       "    </tr>\n",
       "  </thead>\n",
       "  <tbody>\n",
       "    <tr>\n",
       "      <th>count</th>\n",
       "      <td>11.000000</td>\n",
       "    </tr>\n",
       "    <tr>\n",
       "      <th>mean</th>\n",
       "      <td>4.727273</td>\n",
       "    </tr>\n",
       "    <tr>\n",
       "      <th>std</th>\n",
       "      <td>2.493628</td>\n",
       "    </tr>\n",
       "    <tr>\n",
       "      <th>min</th>\n",
       "      <td>1.000000</td>\n",
       "    </tr>\n",
       "    <tr>\n",
       "      <th>25%</th>\n",
       "      <td>3.000000</td>\n",
       "    </tr>\n",
       "    <tr>\n",
       "      <th>50%</th>\n",
       "      <td>4.000000</td>\n",
       "    </tr>\n",
       "    <tr>\n",
       "      <th>75%</th>\n",
       "      <td>7.000000</td>\n",
       "    </tr>\n",
       "    <tr>\n",
       "      <th>max</th>\n",
       "      <td>8.000000</td>\n",
       "    </tr>\n",
       "  </tbody>\n",
       "</table>\n",
       "</div>"
      ],
      "text/plain": [
       "       Pairs of Shoes\n",
       "count       11.000000\n",
       "mean         4.727273\n",
       "std          2.493628\n",
       "min          1.000000\n",
       "25%          3.000000\n",
       "50%          4.000000\n",
       "75%          7.000000\n",
       "max          8.000000"
      ]
     },
     "execution_count": 11,
     "metadata": {},
     "output_type": "execute_result"
    }
   ],
=======
   "execution_count": null,
   "metadata": {},
   "outputs": [],
>>>>>>> upstream/main
   "source": [
    "data_df.describe()"
   ]
  },
  {
   "cell_type": "markdown",
   "metadata": {},
   "source": [
    "# Visual Description\n",
    "\n",
    "A picture is worth a thousand words - or numbers! Here we will show how to use histograms and box-and-whisker plots to describe your data.\n",
    "\n",
    "## Histograms\n",
    "\n",
    "One natural way of starting to understand a dataset is to construct a **histogram**, which is a bar chart showing the counts of the different values in the dataset.\n",
    "\n",
    "There will usually be many distinct values in your dataset, and you will need to decide how many **bins** to use in the histogram. The bins define the ranges of values captured in each bar in your chart. "
   ]
  },
  {
   "cell_type": "code",
<<<<<<< HEAD
   "execution_count": 20,
   "metadata": {},
   "outputs": [
    {
     "data": {
      "text/plain": [
       "Text(0.5, 1.0, 'Counts, 14 Bins')"
      ]
     },
     "execution_count": 20,
     "metadata": {},
     "output_type": "execute_result"
    },
    {
     "data": {
      "image/png": "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\n",
      "text/plain": [
       "<Figure size 432x288 with 1 Axes>"
      ]
     },
     "metadata": {
      "needs_background": "light"
     },
     "output_type": "display_data"
    }
   ],
=======
   "execution_count": null,
   "metadata": {},
   "outputs": [],
>>>>>>> upstream/main
   "source": [
    "fig, ax = plt.subplots()\n",
    "ax.hist(data, bins=14)\n",
    "plt.title('Counts, 14 Bins')"
   ]
  },
  {
   "cell_type": "code",
<<<<<<< HEAD
   "execution_count": 15,
   "metadata": {},
   "outputs": [
    {
     "data": {
      "text/plain": [
       "Text(0.5, 1.0, 'Counts, 10 Bins')"
      ]
     },
     "execution_count": 15,
     "metadata": {},
     "output_type": "execute_result"
    },
    {
     "data": {
      "image/png": "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\n",
      "text/plain": [
       "<Figure size 432x288 with 1 Axes>"
      ]
     },
     "metadata": {
      "needs_background": "light"
     },
     "output_type": "display_data"
    }
   ],
=======
   "execution_count": null,
   "metadata": {},
   "outputs": [],
>>>>>>> upstream/main
   "source": [
    "fig, ax = plt.subplots()\n",
    "ax.hist(data, bins=10)\n",
    "plt.title('Counts, 10 Bins')"
   ]
  },
  {
   "cell_type": "code",
<<<<<<< HEAD
   "execution_count": 16,
   "metadata": {},
   "outputs": [
    {
     "data": {
      "text/plain": [
       "Text(0.5, 1.0, 'Counts, 5 Bins')"
      ]
     },
     "execution_count": 16,
     "metadata": {},
     "output_type": "execute_result"
    },
    {
     "data": {
      "image/png": "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\n",
      "text/plain": [
       "<Figure size 432x288 with 1 Axes>"
      ]
     },
     "metadata": {
      "needs_background": "light"
     },
     "output_type": "display_data"
    }
   ],
=======
   "execution_count": null,
   "metadata": {},
   "outputs": [],
>>>>>>> upstream/main
   "source": [
    "fig, ax = plt.subplots()\n",
    "ax.hist(data, bins=5)\n",
    "plt.title('Counts, 5 Bins')"
   ]
  },
  {
   "cell_type": "code",
<<<<<<< HEAD
   "execution_count": 17,
   "metadata": {},
   "outputs": [
    {
     "data": {
      "text/plain": [
       "Text(0.5, 1.0, 'Counts, 8 Bins')"
      ]
     },
     "execution_count": 17,
     "metadata": {},
     "output_type": "execute_result"
    },
    {
     "data": {
      "image/png": "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\n",
      "text/plain": [
       "<Figure size 432x288 with 1 Axes>"
      ]
     },
     "metadata": {
      "needs_background": "light"
     },
     "output_type": "display_data"
    }
   ],
=======
   "execution_count": null,
   "metadata": {},
   "outputs": [],
>>>>>>> upstream/main
   "source": [
    "fig, ax = plt.subplots()\n",
    "ax.hist(data, bins=8)\n",
    "plt.title('Counts, 8 Bins')"
   ]
  },
  {
   "cell_type": "markdown",
   "metadata": {},
   "source": [
    "## Box and Whisker\n",
    "\n",
    "A box-and-whisker plot can also be useful for visually summarizing your data by showing the min, IQR, and max."
   ]
  },
  {
   "cell_type": "code",
<<<<<<< HEAD
   "execution_count": 18,
   "metadata": {},
   "outputs": [
    {
     "data": {
      "text/plain": [
       "Text(0.5, 1.0, 'Counts of Pairs of Shoes')"
      ]
     },
     "execution_count": 18,
     "metadata": {},
     "output_type": "execute_result"
    },
    {
     "data": {
      "image/png": "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\n",
      "text/plain": [
       "<Figure size 432x288 with 1 Axes>"
      ]
     },
     "metadata": {
      "needs_background": "light"
     },
     "output_type": "display_data"
    }
   ],
=======
   "execution_count": null,
   "metadata": {},
   "outputs": [],
>>>>>>> upstream/main
   "source": [
    "fig, ax = plt.subplots()\n",
    "ax.boxplot(data)\n",
    "plt.title('Counts of Pairs of Shoes')"
   ]
  },
  {
   "cell_type": "markdown",
   "metadata": {},
   "source": [
    "# Other Shape Descriptors\n",
    "\n",
    "Here are a few other ways that people describe the distributions of data."
   ]
  },
  {
   "cell_type": "markdown",
   "metadata": {},
   "source": [
    "## Skew\n",
    "\n",
    "**Skewness**, also known as **skew**, is a measure of **asymmetry**. Specifically, it measures how much your distribution is weighted toward one side. \n",
    "\n",
    "**Right skew**, also known as **positive skew**, means that your distribution has more extreme values on the high end than on the low end.\n",
    "\n",
    "**Left skew**, also known as **negative skew**, means that your distribution has more extreme values on the low end than on the high end.\n",
    "\n",
    "Skewness of 0 represents a distribution with equal weight on both sides. There are multiple ways to calculate skew, but values between -1 and 1 are usually considered low.\n",
    "\n",
    "![skew](https://upload.wikimedia.org/wikipedia/commons/c/cc/Relationship_between_mean_and_median_under_different_skewness.png)\n",
    "Diva Jain, CC BY-SA 4.0 <https://creativecommons.org/licenses/by-sa/4.0>, via Wikimedia Commons"
   ]
  },
  {
   "cell_type": "code",
<<<<<<< HEAD
   "execution_count": 21,
   "metadata": {},
   "outputs": [
    {
     "data": {
      "text/plain": [
       "Pairs of Shoes    0.189958\n",
       "dtype: float64"
      ]
     },
     "execution_count": 21,
     "metadata": {},
     "output_type": "execute_result"
    }
   ],
=======
   "execution_count": null,
   "metadata": {},
   "outputs": [],
>>>>>>> upstream/main
   "source": [
    "data_df.skew()"
   ]
  },
  {
   "cell_type": "markdown",
   "metadata": {},
   "source": [
    "## Kurtosis\n",
    "\n",
    "**Kurtosis** is a measure of how heavy the tails are. You can also think of it in terms of how pointy the peak is.\n",
    "\n",
    "Usually kurtosis is calculated in reference to a **normal distribution**, which we'll learn more about later in the course. We usually calculate **excess kurtosis** to see if a distribution has more or less kurtosis than a normal distribution (in dots below). \n",
    "\n",
    "Excess kurtosis of 0 means that the tails have similar weight to the tails of a normal distribution. Positive values mean heavier tails than normal, negative values mean lighter tails than normal.\n",
    "\n",
    "![kurt](images/positive-kurtosis.jpg)\n",
    "[Simple Psychology](https://www.simplypsychology.org/kurtosis.html)"
   ]
  },
  {
   "cell_type": "code",
<<<<<<< HEAD
   "execution_count": 22,
   "metadata": {},
   "outputs": [
    {
     "data": {
      "text/plain": [
       "Pairs of Shoes   -1.257866\n",
       "dtype: float64"
      ]
     },
     "execution_count": 22,
     "metadata": {},
     "output_type": "execute_result"
    }
   ],
=======
   "execution_count": null,
   "metadata": {},
   "outputs": [],
>>>>>>> upstream/main
   "source": [
    "data_df.kurt()"
   ]
  },
  {
   "cell_type": "markdown",
   "metadata": {},
   "source": [
    "### Statistical Moments\n",
    "\n",
    "Mean, standard deviation, skewness, and kurtosis are all called **moments** in statistics. If you're interested, you can learn more about these [here](https://www.statisticshowto.datasciencecentral.com/what-is-a-moment/) or [here](https://www.spcforexcel.com/knowledge/basic-statistics/are-skewness-and-kurtosis-useful-statistics)."
   ]
  },
  {
   "cell_type": "markdown",
   "metadata": {},
   "source": [
    "## Modality\n",
    "\n",
    "Distributions can have different **modality**. This relates to whether the distribution has distinct peaks and, if so, how many peaks there are and how strong they are."
   ]
  },
  {
   "cell_type": "code",
<<<<<<< HEAD
   "execution_count": 23,
   "metadata": {},
   "outputs": [
    {
     "data": {
      "image/png": "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\n",
      "text/plain": [
       "<Figure size 576x504 with 1 Axes>"
      ]
     },
     "metadata": {
      "needs_background": "light"
     },
     "output_type": "display_data"
    }
   ],
=======
   "execution_count": null,
   "metadata": {},
   "outputs": [],
>>>>>>> upstream/main
   "source": [
    "X = np.linspace(0, 1, 40)\n",
    "y = stats.uniform.pdf(X) + 0.05 * np.random.rand(40)\n",
    "\n",
    "fig, ax = plt.subplots(figsize=(8, 7))\n",
    "ax.plot(X, y, lw=5)\n",
    "plt.ylim(0.5, 1.5)\n",
    "plt.title('Flat Distribution');"
   ]
  },
  {
   "cell_type": "code",
<<<<<<< HEAD
   "execution_count": 24,
   "metadata": {},
   "outputs": [
    {
     "data": {
      "text/plain": [
       "Text(0.5, 1.0, 'Unimodal Distribution')"
      ]
     },
     "execution_count": 24,
     "metadata": {},
     "output_type": "execute_result"
    },
    {
     "data": {
      "image/png": "iVBORw0KGgoAAAANSUhEUgAAAeMAAAGrCAYAAADzfP85AAAABHNCSVQICAgIfAhkiAAAAAlwSFlzAAALEgAACxIB0t1+/AAAADh0RVh0U29mdHdhcmUAbWF0cGxvdGxpYiB2ZXJzaW9uMy4yLjIsIGh0dHA6Ly9tYXRwbG90bGliLm9yZy+WH4yJAAAgAElEQVR4nO3dd3icxbk28PvRrnq1LcmqtuRuuWNhbIMxLQFTAiGBQKhJKCYFck4IgSQnyUkvJwlJvhBTk1BCh0DA9Oreu+Uqy1avtnpb7Xx/SALtvrPSStrdd3ff+3ddXFizK+1ItnRrZp6ZEaUUiIiIyDwRZneAiIjI6hjGREREJmMYExERmYxhTEREZDKGMRERkckYxkRERCZjGBMNk4isEpH/CdBrKRGZ4sXz8vqeax/Fa/ns8xKRCSLSIiK2vrc/FJFbfPGx+z7eGyJyk68+HpHZRvyNSxSqREQBmKqUOjKg7ScApiilrh/q/ZVSK/3YPb8QkRIA4wE4APQA2A/gcQAPKaWcgPefV9/HukUp9a6n5yilTgBIGF2vP3m9n8Dt70YptcIXH5soWHBkTGQdlymlEgFMBPBrAN8D8KivX2Q0o3Miq2IYE7kRkXNEpExEviMiNSJSKSJfGfD4P0Tk527PvWfAc68QkYtF5JCINIjI9we8b7SI3C8iFX3/3S8i0QMe/27fx6gQka+69esSEdkhIk0iUto3Yhw2pVSjUupVAF8CcJOIzNZ8Xqki8pqInOr7HNaISISIPAFgAoD/9E1D3zNgivxrInICwPseps0ni8hmEWkUkVdEZOzAr6Hb51oiIheIyEUAvg/gS32vt6vv8U+mvfv69UMROd73d/C4iCT3Pdbfj5tE5ISI1InID0bydSPyJ4YxkV4GgGQA2QC+BuCvIjJmkOfG9D33RwAeBnA9gIUAlgH4kYhM6nvuDwAsBjAfwDwAiwD8EAD6guduAJ8BMBXABW6v0wrgRgApAC4BcIeIXDHST1AptRlAWV8f3X2n77E09E5vf7/3XdQNAE6gd5SdoJT67YD3WQ5gJoALPbzkjQC+CiALvdPlf/aij28C+CWAZ/teb57maTf3/XcugEnonR7/f27POQvAdADno/fvY+ZQr00USAxjIr1uAD9VSnUrpVYDaEHvD3NPz/2FUqobwDMAUgH8SSnVrJTaB2AfgLl9z72u7+PWKKVqAfwvgBv6HrsawN+VUnuVUq0AfjLwRZRSHyql9iilnEqp3QCeRm8AjkYFgLEePqdMABP7vgZr1NAH2f9EKdWqlGr38PgTAz63/wFwdX+B1yhdB+APSqlipVQLgPsAXOM2Kv9fpVS7UmoXgF3o/UWIKGgwjMmKegBEurVFojeA+tUrpRwD3m6D54KkeqVUT9+f+4OoesDj7QPeNwvA8QGPHe9r63+s1O2xT4jIGSLygYjUikgjgJXoDf7RyAbQoGn/HYAjAN4WkWIRudeLj1U6jMePo/drPtr+A/qvqR29I/p+VQP+PNjfJZEpGMZkRScA5Lm15cMt/PykAr0FVP0m9LUBQCWAXLfHBvoXgFcB5CqlkgGsAiAj7YiInI7eMF7r/ljfqP47SqlJAC4D8N8icn7/wx4+5FAjZ/fPrRtAHXqn3+MG9MuG3ulxbz+u7mvqgOsvRERBjWFMVvQsgB+KSE5f8c8F6A2cFwLw2k/3vXaaiKSid435yb7HngNws4gUiEgcgB+7vW8igAalVIeILALw5ZF0QESSRORS9E6pP6mU2qN5zqUiMkVEBEATemcT+kf/1ehdmx2u6wd8bj8F8ELfjMIhADF9BWqR6F1Djx7wftUA8kTE08+rpwH8l4jki0gCPl1jdnh4PlHQYRiTFf0UwHr0jghPAvgtgOuUUnsD8No/B7AVwG4AewBs72uDUuoNAPcDeB+9U8Tvu73v1wH8VESa0Rvizw3ztf/T976l6C0k+wOAr3h47lQA76J3rXwDgAeUUh/2PfYr9P5CcUpE7h7G6z8B4B/onTKOAXAn0Fvdjd7P7REA5egdKQ+srn6+7//1IrJd83Ef6/vYHwM4BqADwLeG0S8i08nQNRlERETkTxwZExERmYxhTEREZDKGMRERkckYxkRERCYz7UD31NRUlZeXZ9bLExERBdy2bdvqlFJp7u2mhXFeXh62bt1q1ssTEREFnIhoDxfiNDUREZHJGMZEREQmYxgTERGZjGFMRERkMoYxERGRyRjGREREJmMYExERmYxhTEREZDKGMRERkckYxkRERCZjGBMREZmMYUxERGQyhjEREZHJTLu1iYjM1+Vw4hev78f6o/UoyErCdy+cjpwxcWZ3i8hyGMZEFnbvi7vx0o5yAMDhmhZUN3Xg6VsXQ0RM7hmRtXCamsiitpY0fBLE/TYWN+BwTYtJPSKyLoYxkQU5nQo/e71I+9j6I3UB7g0RMYyJQoTTqfDo2mO46P6Pcf0jm3CounnEH+vVXRXYVXpK+9i6o/Uj/rhENDIMY6IQ8Z/dFfjZa/txoKoZa4/U4coH1qOkrnXYH6e9qwe/efOAx8c3FtfD0eMcTVeJaJgYxkQh4pnNpS5vt3Q6cNczO9DlGF5wPrq2GJWNHR4fb+5wYG9F04j6SEQjwzAmCgFKKeytaDS07yprxB/fPeT1x6lp6sADHx4d8nnrj3LdmCiQGMZEIeB4fRuaOxzax1Z9dNTroqvfv30IbV09Qz5v/RGuGxMFEsOYKATsKTeOivspBfzXczvR0No16MfYX9GE57aVGtrPnDLO0LalpAEd3UOHNhH5BsOYKATsHSSMAaC6qRP3vLAbSint40op/Pz1/XB/ODk2En+59jSMjY9yae90OLHjhL7amoh8j2FMFAIGGxn3e7eoGk9uPK597L2iGqzXbFm68/ypGBsfhSWTjaNjrhsTBQ7DmCjIKaW0I+Nou/Hb9+evF+Fglev+4y6HE79cbTzgI29cHG5YPBEAcObkVMPj63j4B1HAMIyJgtyJhjY0uRVvxUXZcP+X5hue2+lw4s6nd7is9z616TiKNfuR77t4JqL6An2pZmS8q6wRLZ36ojEi8i2GMVGQ001RF2QmYcWcTHz5jAmGxw5WN+NXfSPhU21duP/dw4bnLJ40Fp8tGP/J2xPHxSE7JdblOT1Ohc3HWFVNFAgMY6Igpwvj2dnJAID/uaQAU9ITDI//c8NxvLu/Gn9+7wga27tdHhMBfnhJgcvNTCKiHR2v4xYnooBgGBMFuT1lxjCe0xfGsVE2/PmaBYiyGb+V735hFx7fUGJo/+JpOZ+E+UBnTjGuG+uKvojI9xjGREHMU/HWnJxPw7QgKwn3XTzD8JxTbd1wOF33MsVG2nD3hdO1r6WrqC6qbEJ9S+dwu01Ew8QwJgpiuuKt2EgbJqe5Tk3fvDQP505PG/LjrVw+GeOTYrSPjU+K0U55byjm6JjI37wKYxG5SEQOisgREbl3kOedLiI9IvJF33WRyLq0xVtZSbBFiEubiOB3V81DakK0x4+VkRSD286eNOjrnandb8wwJvK3IcNYRGwA/gpgBYACANeKSIGH5/0GwFu+7iSRVenCeI5mvRcAUhOi8Yer53n8WPdcNB2xUbZBX2+JZr+xt+deE9HIeTMyXgTgiFKqWCnVBeAZAJdrnvctAC8CqPFh/4gsTbte7CGMAeDsaWm4dVm+oX1uTjKumJ895OstmTQOboNulNS3ofxU+9CdJaIR8yaMswEMPF2+rK/tEyKSDeDzAFYN9oFE5DYR2SoiW2tra4fbVyJL6S3eMt4rPLB4S+fuC6djyaRPp5sTo+341ZVzEOGeshrJcZHaSmuOjon8y+7Fc3Tfwe6n0d8P4HtKqZ6BexcN76TUQwAeAoDCwkL9ifZEBAAobWg37BHWFW+5i7bb8M+vLsLqPZWoa+nEZwsyMGFcnNevu2TyOOx22061/mg9rirM9b7zRDQs3oRxGYCB34U5ACrcnlMI4Jm+IE4FcLGIOJRS//ZJL4ksyNviLZ0oewSuWDD0tLTOmZNT8eBHxS5t647UQSmFwX7ZJqKR82aaeguAqSKSLyJRAK4B8OrAJyil8pVSeUqpPAAvAPg6g5hodIZTvOVLp+eNRaTNNXRrmjtxtNZ4vjUR+caQYayUcgD4JnqrpIsAPKeU2iciK0Vkpb87SGRVuuIt3Xqur8VG2bBgwhhDO69UJPIfb6apoZRaDWC1W5u2WEspdfPou0VkbUop00bGQO9U9eZjDS5t647U4cYleQF5fSKr4QlcREGo7KSxeCsmMgKT0+ID8vpnTjEe/rGxuAE9TtZdEvkDw5goCHm6NtGuuRDCH+bmpCDO7YCQxvZu7K8wbrUiotFjGBMFITOnqIHeauxF+WMN7eu4bkzkFwxjoiBkVvHWQGfqjsbkOdVEfsEwJgoyHou3hjh5y9eWataNtxxrQJfDGdB+EFkBw5goyJSdbMepNmPx1pQhTt7ytZkZSRgTF+nS1t7dgx0nTga0H0RWwDAmCjK6KeqZASze6hcRIVjCKxWJAoJhTBRkzC7eGmipdt2YRVxEvsYwJgoyujAOdPFWv6WakfGOE6fQ2ukwoTdE4YthTBREeq9NDJ6RcX5qPDKTY1zaHE6FLSUNHt6DiEaCYUwURMpPteOkW/FWtD0CU9MDW7zVT0Q8TFVz3ZjIlxjGREEkWIq3BtJNVa87wnVjIl9iGBMFkWAq3up35hTjyHh/ZRNOtnaZ0Bui8MQwJgoie8qNZz+bHcYZyTGY5HZBhVLAxmJOVRP5CsOYKEh4Kt4yq5J6IN1U9QaGMZHPMIyJgkRFYwca3KZ+o+wRmDrenOKtgXRFXBwZE/kOw5goSOwp0xdvRZpYvNXvDM0NToeqW1DX0mlCb4jCj/nf5UQEQF9JPSc7yYSeGI1LiMb08YmG9k3F3G9M5AsMY6IgEYyV1AMtnmQcHXOqmsg3GMZEQSCYi7f66S6NYBEXkW8wjImCQGVjB+o1xVvTNFPDZlmUbwzjIzUtqG3mujHRaDGMiYKAbop6ZkZiUBRv9RsbH4UZGZp142McHRONVvB8pxNZWLBPUfdbPEkzVc1zqolGjWFMFAR0I+O5OaERxiziIho9hjGRyUKheKvfGfljIeLadrS2FTXNHeZ0iChMMIyJTFbV1IG6luAu3uo3Jj4KMzKMe583cr8x0agwjIlMpj15K8iKtwbifmMi3wvO73YiCwmVKep+XDcm8j2GMZHJgv3kLXe6dePi2lZUN3HdmGikGMZEJlJKae8wDuaRcUpcFGZq1405OiYaKYYxkYmqmzoNNx9F2YKzeGsg/VQ1i7iIRophTGSifRXGKerpGYmIsgf3t6bunGqOjIlGLri/44nC3P4K4xT1rKzguDZxMIvyjOvGx+paUdXIdWOikWAYE5loX4iGcXJcJAoyjf3kOdVEI8MwJjLRvkrjNHVBCIQxACzhOdVEPsMwJjJJY3s3ShvaXdpEoD3hKhhxvzGR7zCMiUxSVGmcos5PjUd8tN2E3gzf6fljEeG2blxS34bKxnb9OxCRRwxjIpPo14uDd3+xu+TYSG1/N3GLE9GwMYyJTKLb1qQrigpmunOquW5MNHwMYyKThOq2poG068asqCYaNoYxkQk6HT04UtNiaA+VSup+unXj4/VtqDjFdWOi4WAYE5ngUFULHE7l0jY+KRqpCdEm9WhkkmIitedos6qaaHgYxkQm0K0Xh1Lx1kDc4kQ0egxjIhPs12xrCrX14n66wz94aQTR8DCMiUwQqsdg6hTmjTGsG59oaEM5142JvMYwJgqwHqfSHvhRkBma09SJMZGYo1s35hYnIq8xjIkCrKS+FW1dPS5tiTF25I6NNalHo7eYVyoSjQrDmCjAdPuLCzKTIO53EoYQXRHXBoYxkdcYxkQBplsvDrX9xe5OzxsLm9vCcdnJdpQ2tJnUI6LQwjAmCrBw2tbULyHarl033nSMVdVE3mAYEwWQUiosjsHU0U5Vs4iLyCsMY6IAqmnuRH1rl0tblC0CU9ITTOqR7+gujWARF5F3GMZEAaSbop6WkYBIW+h/KxZq1o3LT3HdmMgbof8TgCiE7CvXTFGH6P5idwnRdszNMX4urKomGhrDmCiAtMdgZof+enE/nlNNNDIMY6IA0m5rygzvMF5zuA49bjdUEZErhjFRgDR1dOOE2/qpCDAzjMK4cOIYRNpc141rmzuxpYRbnIgGwzAmChDdlqb8cfGIj7ab0Bv/iI+2Y/m0NEP7f3ZVmNAbotDBMCYKEF0YzwyD/cXuLp2bZWh7Y28VHD1OE3pDFBoYxkQBEk7XJg7mgoLxiLa7/mhpaO3Ceh4AQuQRw5goQMLxGEydhGg7zp+ZbmjnVDWRZwxjogDodPTgSE2LoT2cKqkH0k1Vv7WvCp2OHs2ziYhhTBQAh6tb4HDb3pOeGI20xGiTeuRf505PR3yUzaWtqcOBNYfqTOoRUXBjGBMFgH6KOjxHxQAQG2XDBQXjDe2v7eZUNZEOw5goAPTFW+G3XjzQZZqp6nf2V6O9i1PVRO4YxkQBoNvWVBDGI2MAWDYtFUkxrnuoW7t68MHBGpN6RBS8GMZEfuZ0KhTpzqQO8zCOtttw4awMQzunqomMGMZEflZS34pWt6nZxGg7csfEmdSjwLlsnnGq+r2iGrR0OkzoDVHwYhgT+ZluvXhmVhIi3O7+DUdLJ4/D2Pgol7ZOhxPvFVWb1COi4MQwJvIz3bWJ4bq/2J3dFoEVs41T1TwAhMgVw5jIz6xyDKYnuqnqjw7VorGt24TeEAUnhjGRHymlsN8ix2B6cnreWKS7HW7S3aPw1v4qk3pEFHwYxkR+VNPcibqWLpe2SJtgSnqCST0KPFuE4JK5mYZ2TlUTfYphTORHuv3F08YnIspurW893VnV64/Wo76l04TeEAUfr34iiMhFInJQRI6IyL2axy8Xkd0islNEtorIWb7vKlHosdoxmJ6cNiEF2SmxLm09ToU39nKqmgjwIoxFxAbgrwBWACgAcK2IFLg97T0A85RS8wF8FcAjvu4oUSiy4jGYOiKCS+dxqprIE29GxosAHFFKFSulugA8A+DygU9QSrUopfqvpIkHoEBE+m1NFhwZA/qzqjeXNKC6qcOE3hAFF2/COBtA6YC3y/raXIjI50XkAIDX0Ts6NhCR2/qmsbfW1taOpL9EIaOpoxvH69tc2kSAmRbZY+xuVlYS8lPjXdqUAl7fXWlSj4iChzdhrDsmyDDyVUq9rJSaAeAKAD/TfSCl1ENKqUKlVGFaWtrwekoUYoo0U9R54+KREG3XPDv8iQgu1VRV86xqIu/CuAxA7oC3cwB4/O5RSn0MYLKIpI6yb0QhTbdebJWTtzzRHQCy/cQplDa0aZ5NZB3ehPEWAFNFJF9EogBcA+DVgU8QkSkiIn1/Pg1AFIB6X3eWKJRwvdho2vhETB+faGh/fQ+nqsnahgxjpZQDwDcBvAWgCMBzSql9IrJSRFb2Pe0LAPaKyE70Vl5/aUBBF5ElWf0YTE84VU1k5NXilVJqNYDVbm2rBvz5NwB+49uuEYWuTkcPDlc3G9qtPjIGgEvnZeH37xxyadtb3oRjda2GAi8iq7DWMUBEAXK4ugUOp+vkUFpiNNITY0zqUfDIT43H7GzjLyWvcc8xWRjDmMgPdMdgcor6U7o9x//hVDVZGMOYyA+sfIexN3QXRxyqbtFO7RNZAcOYyA8OVhlDxaqHfejkjInDaRNSDO2bjjWY0Bsi8zGMiXxMKYWDmhHejAzjlh4rWz4t3dC248QpE3pCZD6GMZGP1bZ0oqHV9Q7jKFsE8lgp7GK+ZmS8s/SkCT0hMh/DmMjHdFPUk9MTEGnjt9tA83OMYXy0thWN7d0m9IbIXPzpQORjujDmFLVRclwkJmlmC3aXcaqarIdhTORjBzRhPJ1hrDU/VzNVzXVjsiCGMZGP6UbGDGM9/boxw5ish2FM5EM9ToVDrKT22oLcMYa2naWnwKPtyWoYxkQ+dLy+FZ0Op0tbUowdGUk8BlNnRmYiou2uP4bqW7tQ2tBuUo+IzMEwJvIhffFWEvpuGCU3kbYIzM5ONrTv4BYnshiGMZEPsXhr+LRFXFw3JothGBP5EIu3ho9hTMQwJvIpHoM5fLow3lfRhC63tXeicMYwJvKR9q4elNS3GtqnMYwHlTMmFqkJ0S5tXQ4nijQ3XxGFK4YxkY8crmmG+46c7JRYJMVEmtOhECEinKomy2MYE/kIi7dGboHm8I8dJ1hRTdbBMCbyEV3x1rTxDGNvcGRMVscwJvIRXhAxcnNzkuG+Fbukvg0n3a6iJApXDGMiH+E09cglxkRiSlqCoX0nb3Aii2AYE/lAfUsn6lo6XdrsEYLJmoAhPd7gRFbGMCbyAd0U9aS0eETZ+S3mrQUT9JdGEFkBf1IQ+YB+ijrJhJ6ELk9FXLzBiayAYUzkAyzeGr1p4xMQG2lzaWts78axOuNBKkThhmFM5AMHNMdgTue2pmGx2yIwJ8d4gxOnqskKGMZEo+R0KhzWhTFHxsO2gPuNyaIYxkSjVHayHW1dPS5tCdF25IyJNalHoYuHf5BVMYyJRulAlfFCg2njEyDup1jQkOZrjsUsqmxCR3eP5tlE4YNhTDRK+juMWUk9EpnJschIinFp6+5R2FfBG5wovDGMiUZJV7zFSuqR001V89IICncMY6JR0o+MGcYjpZuq5roxhTuGMdEodDp6tPtgOTIeORZxkRUxjIlG4UhNC3qcridEjU+KRkpclEk9Cn1zspMR4Vb7Vnay3XD2N1E4YRgTjQKLt3wvPtquvQeal0ZQOGMYE40Cj8H0jwVcNyaLYRgTjYL2gggegzlqC3J5gxNZC8OYaBRYSe0fuorqXaWn4HTyBicKTwxjohFqbOtGVVOHS5stQjAlPcGkHoWPyWkJSIi2u7Q1dzpwtLbFpB4R+RfDmGiEdMdg5o2LQ4zbNYA0fLYIwVzNDU47OFVNYYphTDRCB7Unb7GS2le435ishGFMNELa4i2uF/uMNoy5vYnCFMOYaIRYvOVfuiKug9XNaO/iDU4UfhjGRCOglMIh7jH2q/TEGGSnuN4J3eNU2FPeaFKPiPyHYUw0AuWn2tHc6XBpi4uyIXdMnEk9Ck+60TFvcKJwxDAmGgHdFPXU8YmIcD9UmUZlAYu4yCIYxkQjoCvemsGTt3yOFdVkFQxjohHQjYyncb3Y52ZnJ8PuNttQ2diBarfDVohCHcOYaAR4QURgxETaMCPT+HXdwS1OFGYYxkTD1OVwao9l5LYm/+BUNVkBw5homIrrWuBwu7AgNSEKqQnRJvUovOlucNpdxjCm8MIwJhomHvYRWLozqosqm6AUb3Ci8MEwJhom/R3GPJPaX/JT4xFld/1RdbKtG9VNnSb1iMj3GMZEw8STtwLLbovAdM22saJK461ZRKGKYUw0TLwgIvBmaiqq9zOMKYwwjImGobmjG+Wn2l3aRIBpPPDDrwoyjcsADGMKJwxjomE4pLnDeOLYOMRG2UzojXXM1IQxp6kpnDCMiYaBU9TmmKEJ45K6Vl6nSGGDYUw0DPptTayk9rfk2EjDdYpO1Xu/MVE4YBgTDYP2ggiOjANCN1W9v4JT1RQeGMZEXqpsbNfepctp6sAoyOK6MYUvhjGRlx5bewzdPa6nPo2Lj0LeuHiTemQtBZrtTQxjChcMYyIvNLZ341+bThjar188ETa3K/7IP3TT1AeqmuF08lhMCn0MYyIvPLXpOFrdKndjIiNw45KJJvXIenLHxCHebQtZS6cDZSfbPbwHUehgGBMNoaO7B39fV2Jov7owF+N4U1PARESIdovT/spGE3pD5FsMY6IhvLyjHLXNrpcSRAhwy1mTTOqRdelP4uL2Jgp9DGOiQfQ4FR7+uNjQfsncLEwYF2dCj6yNJ3FRuGIYEw3inf3VKK5rNbTffjZHxWbQXRjBMKZwwDAm8kAphVUfHTW0nzUlFbOzjRfek/9Nz0iEuBWvl51sR2N7tzkdIvIRhjGRB5uPNWBn6SlD++3LOSo2S1yUHfmafd0HODqmEMcwJvLgQc1a8aysJJw1JdWE3lC/mTyJi8IQw5hI42BVM94/UGNov335ZIj7PCkFlK6iuogV1RTivApjEblIRA6KyBERuVfz+HUisrvvv/UiMs/3XSUKnIc0o+KcMbG4eHaGCb2hgbRFXFUcGVNoGzKMRcQG4K8AVgAoAHCtiBS4Pe0YgOVKqbkAfgbgIV93lChQKhvb8crOckP7rcsmwW7jZJLZdNubDlY1w9HjNKE3RL7hzU+WRQCOKKWKlVJdAJ4BcPnAJyil1iul+q+z2Qggx7fdJAqcR9ccg8PtvOMxcZG4qpD/rINBRlIMUuIiXdo6HU4c02xBIwoV3oRxNoDSAW+X9bV58jUAb+geEJHbRGSriGytra31vpdEAdLY1o2nNxsvhLhpaR7iouwm9IjciYiHk7g4VU2hy5sw1lWraK9JEZFz0RvG39M9rpR6SClVqJQqTEtL876XRAHypMcLIfLM6RBp6U/iYhEXhS5vftUvA5A74O0cABXuTxKRuQAeAbBCKVXvm+4RBY6nCyG+VJiLsfFRge8QecRjMSnceDMy3gJgqojki0gUgGsAvDrwCSIyAcBLAG5QSh3yfTeJ/O+l7eWoa3G9EMIWIbhlGQ/5CDY8FpPCzZAjY6WUQ0S+CeAtADYAjyml9onIyr7HVwH4EYBxAB7o24PpUEoV+q/bRL7V41R4eI3mQog5mcgdywshgs2U9ATYI8Sl0K6muRN1LZ1I5bWWFIK8qkhRSq0GsNqtbdWAP98C4Bbfdo0ocN7ZX6Wtxr2NF0IEpWi7DVPSE3CgynWduKiyCcumsh6FQg83TZLlKaXwt4+Mo+JlU3khRDDTn8TFqWoKTQxjsrx9FU3YpbsQ4uzJJvSGvMWKagonDGOyvF1lxiCelZWEM6eMM6E35C1WVFM4YRiT5RXXGteKz585nhdCBDldRfWRmhZ0Ono0zyYKbgxjsryjtS2GtslpxjtzKbiMS4hGeqJr5bTDqXC42vj3SRTsGMZkebqR8eS0BBN6QsNVwLuNKUwwjMnSOrp7UHqyzdCen8qRcShgEReFC4YxWdrx+jYot5K1Rr8AACAASURBVJPWM5NjEB/NSyFCAYu4KFwwjMnSijXrxZO4XhwyCjRFXPsrm6Dcf8MiCnIMY7I0XfHWpFSuF4eKvHHxiLa7/hhrbO9GZWOHST0iGhmGMVmavniLI+NQYbdFYEYGL42g0McwJkvTjoxZSR1SuG5M4YBhTJallNKPjNMZxqGEFdUUDhjGZFm1zZ1o7nS4tMVERiAzKcakHtFIcGRM4YBhTJZ1VDMqnpSagIgIHoMZSmZoKqqP1beircuheTZRcGIYk2UV13FbUzhIiolE7thYlzalYLjrmCiYMYzJso7WaEbGLN4KSTMzOFVNoY1hTJalGxlzW1No4roxhTqGMVmW/rYmjoxDESuqKdQxjMmSOrp7UHay3dDOCyJCU4GHkbHTyWMxKTQwjMmSSupbeUFEGMkZE4tEt7+7tq4enGgw3shFFIwYxmRJusM+WEkduiIiRLvFievGFCoYxmRJutuauF4c2ljERaGMYUyWpD/wgyPjUKYL4/0s4qIQwTAmS9KOjHkmdUjjyJhCGcOYLEcppR8Zc5o6pE0fnwj3k0zLT7WjincbUwhgGJPl1DZ3ooUXRISd2CgbpmhmN57bWmpCb4iGh2FMlsMLIsLXRbMzDW3PbD6BHu43piDHMCbL0Z28xW1N4eGa03MNU9UVjR348GCNOR0i8hLDmCxHt8eY25rCQ1ZKLM6bMd7Q/tSmEyb0hsh7DGOyHI6Mw9t1Z0wwtH1wsAZlJ3kaFwUvhjFZjv62Jo6Mw8XZ09KQnWK83/jZLSzkouDFMCZL8XRBBEfG4cMWIbh2Ua6h/ZktpejucZrQI6KhMYzJUjxdEBEXxQsiwsnVhbmwu1Vy1TZ34r2iapN6RDQ4hjFZCou3rCE9KQafKWAhF4UOhjFZytEaFm9ZxXVnTDS0rTlch5I64y9kRGZjGJOlFGt+EHNkHJ6WTh6HvHFxhvant3B0TMGHYUyWwm1N1hERIbh2kXGb0/Nby9Dp6DGhR0SeMYzJMpRS2jVjXhARvr64MAdRNtcfcw2tXXhrHwu5KLgwjMkyajQXRMRG2nhBRBgblxCNi2ZnGNqf2njchN4QecYwJsvQTVHnp8bzgogwpzuRa9OxBhypaTahN0R6DGOyDO22Js2VexReFuWP1V6t+K9NPJGLggfDmCxDW7yVyuKtcCci+LKmkOuFbaXo6GYhFwUHhjFZhr54i2FsBV84LQfRdtcfd00dDry+u9KkHhG5YhiTZehGxtxjbA3JcZG4dG6Wof2pTSzkouDAMCZL6OjuQfkpXhBhZdctNk5Vbz9xCkWVTSb0hsgVw5gs4Vid8YKILF4QYSkLclMwIyPR0P4vnldNQYBhTJbAwz5IRHDdYuN51S/vKEer2/5zokBjGJMlFGvXizlFbTVXzM9CXJTNpa2l04H/7KowqUdEvRjGZAn6M6k5MraaxJhIXD5fV8jFqWoyF8OYLEF3WxOLt6zpy4uMU9V7yhuxu+yUCb0h6sUwprCnlNLeY8xtTdY0JycZc3OSDe1v8/IIMhHDmMJeTXMnWrtcT1qKjbQhgxdEWNZVhbmGtt3ljSb0hKgXw5jCnm5UPCmNF0RY2cIJYwxt+8obodz3vxEFCMOYwt5R7Xoxp6itbOr4BES5HY9Z39qFysYOk3pEVscwprCn29bECyKsLdIWgZmaA0D2cKqaTMIwprB3lFcnksbsbGMR1z6GMZmEYUxhjyNj0tGFMUfGZBaGMYU1XhBBnszRhPHeCl4aQeZgGFNY4wUR5MnU8QmItLlW1Nc2d6K6iUVcFHgMYwprvCCCPIm22zBdU8S1l1PVZAKGMYU13ZnUvCCC+ummqrluTGZgGFNY0xZvcWRMfWZladaNGcZkAi6cUchRSuH9AzUoqW/DlPQEnDl5HOw2/e+V2m1NDGPqoy3iKmcRFwUew5hCzs9fL8Kja4998nZaYjQ+vyAbXzgtx2UNUCnlYWTMaWrqNT0jEfYIgcP5aZVfVVMHaps7kZYYbWLPyGo4TU0hpaa5A/9YX+LSVtvciYc+LsaF93+My/6yFv9YdwwNrV2objJeEBEXxQsi6FMxkTZMHa8p4qrgVDUFFkfGFFK2HDuJHqfnw/z3lDdiT3kjfrG6SLsemJ/KCyLI1eysJBRVuk5N7y1rxLnT003qEVkRR8YUUrYdP+nV87p7FHaWGi+LZ/EWuZujuduYFdUUaAxjCinbTngXxp5wWxO5055RzZO4KMAYxhQy2rt6tAf5//dnpmF2dpJXH4MjY3I3MyMJ7isX5afa0dDaZU6HyJIYxhQydpedcql6BYDM5Bjcef5UvPatZXjr22fjtrMneayCtUcITs8zXipP1hYbZcPUdJ7EReZiGFPI0E1RL5z4abhOz0jE9y+eiQ33noe/33w6Lpmb+ckF8hEC3Hn+VGQmxwasvxQ6ZmlmVrhuTIHEamoKGdtKBg/jfnZbBM6dkY5zZ6Sjsb0bx+pakRRj5xQ1eTQnOxkvbS93advH7U0UQF6NjEXkIhE5KCJHRORezeMzRGSDiHSKyN2+7yZZnVJqyJGxTnJsJObnpjCIaVC825jMNmQYi4gNwF8BrABQAOBaESlwe1oDgDsB/J/Pe0gEoLiuFafaul3aYiNtmJnpXeEW0WAKMpMgbkVcpQ3tONXGIi4KDG9GxosAHFFKFSulugA8A+DygU9QStUopbYA6NZ9AKLR0k1Rz8tNRqSHM6mJhiM+2o5JqcZtb9ziRIHizU+ybAClA94u62sbNhG5TUS2isjW2trakXwIsijdYR9DTVETDQevUyQzeRPGurMDPZ9HOAil1ENKqUKlVGFaWtpIPgRZ1NbjDYa2woljTegJhSvdujG3N1GgeBPGZQByB7ydA6DCP90hMjrZ2qW9CnHBhBQTekPhimFMZvImjLcAmCoi+SISBeAaAK/6t1tEn9pRapyinpKegJS4KBN6Q+FqVpaxGLCkvg1NHSyFIf8bMoyVUg4A3wTwFoAiAM8ppfaJyEoRWQkAIpIhImUA/hvAD0WkTERY5ko+sVVTvFXI9WLyscSYSOTrirjKWcRF/ufVoR9KqdUAVru1rRrw5yr0Tl8T+ZyueOs0hjH5wezsZByrc10S2VveiCWTx5nUI7IK7guhoNbd48SuMuNViKykJn+YrZmq3suTuCgAGMYU1PZXNKGj2+nSNiYuUrsnlGi0uL2JzMIwpqDmaX+xuB+XROQDszRhfKyuFS2dDhN6Q1bCMKagpjuPmuvF5C/JsZGYMDbOpU2p3hkaIn9iGFPQUkppj8HkYR/kT7qpau43Jn9jGFPQqmjsQFVTh0ubPUIwN8f4w5LIV3R3GzOMyd8YxhS0tpYYj8CclZ2MmEibCb0hq2ARF5mBYUxBa7umeIuHfZC/zc4yhvHR2ha0dbGIi/yHYUxBS1e8xf3F5G9j4qOQnRLr0uZUQFEli7jIfxjGFJRaOx0oqmw2tDOMKRD0RVwMY/IfhjEFpV2lp9DjdL2pM2dMLMYnxZjUI7KS2ZoiLq4bkz8xjCkoeTrsgygQeJ0iBRrDmILSVoYxmUgXxodrWtDR3WNCb8gKGMYUdJxOhe0s3iITpSZEIzPZdUmkx6lYxEV+wzCmoHOktgXNHa7bSOKjbJg+PtGkHpEVzdJscdrLYzHJTxjGFHS2ao7AnD8hBXYb/7lS4Ggrqsu4bkz+wZ9uFHT0xVs8j5oCa04O7zamwGEYk9/VNHdg7eE6VDV2DP1kANuOG4/B5HoxBZruJK5D1c3odLCIi3zPbnYHKLytPVyHlU9uQ0unA1H2CNxz4XTcsmySx+fXtXSipL7NpU0EWDAhxd9dJXKRnhSD9MRo1DR3ftLW3aNwsKoZc3P475F8iyNj8qufv77/k4vZuxxO/Pz1IvxydRGcbgd69NOdRz19fCKSYiL92k8iHf1+YxZxke8xjMlvapo7cKDKeKTlQx8X4+4XdqG7x2l4TLdefBqnqMkkujBed6RO+2+XaDQYxuQ3O0+c8vjYS9vLcfsT29De5br+pi3emsAwJnPMzjIWcb2+pxJn/eZ9/OW9w6hv6dS8F9HwMYzJb3aUeg5jAHj/QA2ue2QjTrV1AQA6HT3YrTlysDCPYUzmmJNjHBkDQHVTJ37/ziEs+fX7uPv5XTwqk0aNYUx+M9jIuN/2E6dw1aoNqGxsx97yJnQ5XKf/UhOiMGFsnL+6SDSojKSYQSv5uxxOvLCtDJf+ZS2uWrUer++u5BQ2jQjDmPyix6mwq2zoMAZ6z/z9wgPr8cK2UsNjp00YAxHxdfeIvCIi+OPV8zE/d+jq6S0lJ/GNf23H2b/9AA98eITnWNOwMIzJLw5VN6PNbT04KcaOB647DVGak7QqGjvw9GZjGHOKmsw2YVwcXv76Ujx722KsmJ2BiCF+N6xs7MBv3zyIqx/cgOaO7sB0kkIew5j8Yodminr+hDG4eE4m/vHV05EQ7d0Wdx72QcFARHDGpHH42/ULseZ752Hl8slIiRt8u93uskbc9cxOw73cRDoMY/KLHZpblxb0TfUtnZyKZ25bjNSE6EE/RpQtQntYP5GZslNice+KGdhw7/n49ZVzMCPD8wUm7x+owa/fKApg7yhUMYzJL3SV1ANP0ZqdnYwX71iCieM8F2fNyUlGTKTNL/0jGq3YKBuuWTQBb9y1DE/fuhgXzhqvncJ+eM0xPLfVuARDNBDDmHyusb0bR2paDO3uRTATx8XjhZVLUZBp3MsJcIqaQoOIYMnkcXjwhkKsun4hdPWGP3h5DzYfM565TtSPYUw+t0szKp6UFo+UuChDe1piNJ69fTGWTBpneOyi2Rl+6R+Rv3x2Vga+e+F0Q3t3j8LKJ7ehtKFN815EDGPyg52aMB5sa0hiTCT+/pXTcdOSibBHCKJsEfjuhdNxGk/eohB0x/LJuHJBtqG9obULt/xzKyusSYu3NpHPaYu3hgjWmEgb/vfy2bjv4pmwRwjsmu1PRKFARPDLK+egpL4V2912FRysbsZdz+zEwzcWwjbUHimyFP7EI59SSumLt7w4NAHoDWUGMYW6mEgbHryhENkpsYbH3j9Qg9+8ecCEXlEw40898qmS+jacanOdhouJjBh0+wdROEpLjMbDNxYiLsq4I+Chj4vxPCusA+pkaxfWHq7DP9YdwxMbj2PzsQY0BdGSAaepyad0U9Rzc1I42iVLKshKwh+/NB+3P7HN8Nj3X96DvNR4nJ431oSehS+lFKqaOrCvvAn7Kpqwt6IR+yuaUH6qXfv8nDGxmJGRhILMRMzMTMLMzCRMGBuHiAAvIzCMyad0J28N3F9MZDUX9lVY/+6tgy7t3T0Ktz+xDa9840zk8jKUUdlb3ojX91Rib3lv8Na3dnn9vmUn21F2sh3vFlV/0hYXZcP0jE/DuSAzEbOzkxFt99+5BwzjADpY1YzWLgfm56QE/LeuQNlRqjt5i1XRZG1fP2cyjtS04OUd5S7t/RXWL359qddHxJKrZ7ecwPde3OPTj9nW1YMdJ065DC423HceMpONNQC+wrnDAGjv6sE3ntqOC+//GFc+sB5XPLAObV0Os7vlc+1dPSiqbDa0c2RMVici+NWVc7TfCwerm/HHdw6Z0KvQ19rpwM9e8/9xoylxkchIivHrazCM/ayxrRvXP7oJr++p/KRtd1kjHv74WED7UdfSiS0lDYb7gn1pb0Wj4VD87JRYjPfzP2KiUBATacNDNxQiK9n4/fDkxuOoae4woVeh7dVdFWjp9G5gEyHA1PQEXDE/C5fMycSk1HjtaWk6MzIS/X6Vq6XmRV7aXoanNp1AYowdXz9nChbl+7dwoqa5Azc+uhkHqoyjxVd2luPO86cE5K7e57aU4p4XdwMAUhOi8fLXl/pljUpXvOXNPbBEVpGWGI1HbjodV/5tHTq6P/3FuNPhxMMfF+MHlxSY2LvQ869NJ7TtUbYITM9IxOzsJBRkJWN2VhJmZCQh1q2yva3LgYNVzThQ1YyiyiYUVTbhQGUzmt0CfqaHI3t9yTJh/MHBGnzn+V1QfQO37cdP4vU7l/mtcKK0oQ3XP7oJx+v1x98V17XiUHULpvt5y09xbQvue/nT9ZS6lk7c88JuPH3bYp+/Fou3iIZWkJWEm5bm4cGPil3an9x4ArcvnzzkbWbUa3fZKewpbzS0//3m03HW1FREerGDIy7KjgUTxrgcSqSUQtnJ9r5w7g3pM/KNx/X6miWmqZVS+P3bBz8JYgBo6nDg7+tK/PJ6B6ua8YW/rfcYxP1WD5i69pc/vHPIMHW8obgeh6qNo/XRYhgTeefWZZMQE+n647e9uwePrPH/8pXTqfDBgRr88Z1DeGNPJTodPX5/TX/QjYrn5STj3BnpXgWxJyKC3LFx+OysDNx1wVSsumFhQM7Jt0QYbyxuwN7yJkP789tKfV5Itf3ESVz94AbUNHcO+dw39vo3jPdVNOK13frXeHLjcZ++VmVjO6qaXNe8Im3C+4iJNFITonH9GRMN7U9sKMHJYWzLGa6a5g7c9PfN+Mo/tuBP7x3GHU9tx5JfvY9fvVGEE0MMHoJJU0c3Xt1VYWj/8hkTTOiNb1gijB9eU6xtb+5w4N87jH+hI/XxoVpc9/AmNLYbT3VJjo00tB2qbsGRGt+PUPv9n9u+xoFe2l7udeGDN3Sj4oLMJN5HTOTBbWdPQrTd9Udwa1cPHlvnn9HxR4dqcfGf1mDN4TqX9obWLjz4UTHO/t0HuPGxzXhrXxUcPf4r9PSFV3aUo63LdUSfGG3HZfOyTOrR6IV9GB+ubsb7B2o8Pv74hhIopTw+7q3Xd1fia//cgvZu45RPRlIMXli5RDtl+8aeqlG/ts6WkgZ8cLDW4+MtnQ7DnsfRGMnlEERWlp4Ug2sXGUdy/1hXgsY23x3T2OVw4peri3DTY5tR1zL4qPvjQ7W4/YltOPM37+OP7xxCZaP+1CozKaXwlGaK+vOnZSMuKnTLoMI+jIdagzlQ1YwtJcYgGY6nN5/AN5/eju4eY6jnp8bjhTuWYOr4RFw8O9Pw+Oq9vg9jpRR+96bnUXG/Jzcc98kvIgDXi4lGYuXyyYhyW99s7nTg7+t9MzouqWvFF1etx0Mf62cHPalu6sSf3juMM3/9Pm59fCs+OlTrs58Vo7Wj9JR2h0ooT1EDYR7GNc0dXo3+/rmhZMSv8cCHR3DfS3ug+3dakJmE525fgpwxvRXbuiKAosomHKtrHfHr63x8uA6bSxqGfN7B6tH/IgIA3T1ObVUjT94iGlxGcgyuPj3H0P7Y2mOjvsTg3zvKccmf12B3mfF7EwCSYuyGXwTcORXwzv5q3PTYZnz72Z1BEci6wq3TJqRgRob/tx/5U1iH8ePrj6PLbe1Dt633rb1VqG4a/ob757aU4rceRqCL8sbimdsXIy3x020KuWPjMDfHWNDky0IupRR+95bxerYp6QlYONEYjk/4oJDrQGUzOt0OExkbH4Xcsf47Oo4oXNxxzhRE2lx/MDV1OPD4+pIRfbyWTgf++7md+PazO9Hapa+UXjY1Fe9+Zzk23Hce7lsxAxPHDb3F85WdFXhnf/WQz/OnxrZu/EdTuHWdphgu1IRtGLd1ObRBc+uySS4BCQAOp/K4edyT+pZO/Pz1/drHzpuRjn9+dRGSYoxFWys0U9W+XDd+c2+VtnL87s9Ow41LjP9g39xbOeqTf/TnUacE5EATolCXnRKLLy40jo4fWXts2EWWe8oacdlf1uKl7foZQXuE4L4VM/DPryxCemIMxiVE4/blk/HBd87BE19bhItmZcA2yLn5/xjhLwi+8tKOMsMv/smxkbhkrvHnaqgJ2zB+fmuZoao5yhaBW87Kx5c1RRP/2nxiWEdF/t/bB9HUYfxGuWJ+Fh68YaHhpJd+KzRT1XvKG1HaMPptBY4eJ/7vbeNIfU52Mi6clYEVszORmhDl8lh3j8Kzm0d3ryrXi4lG547lUwwheKqt2+stiEopPLb2GK782zqPy14TxsbhhTuW4vblkw0X1URECJZNTcOqGxZi3ffOw39dMA2ZmmM71x/1zxkF3lBKP2i68rTssNi1EZZh3ONUeGStsWDhigVZSE+KwZfPmAC72z/G2uZOvLnPuxHqrtJTeGaLMcAunZuJP1w9f9AN53mp8SjQHK3mi6nql3eU42it8RvxuxdOh4ggyh6Ba07X/yIymq0MrKQmGp0J4+Lw+QXZhvaHPy4e8iyE1k4HvvX0Dvz0tf3aIlIA+Ny8LLx+51leHU+bkRyDuy6YijX3nItJafGGx80aHW8pOYnDNS2G9utCvHCrX1iG8Vv7qlDaYCzJv2XZJADA+KQYXKgZoXqzRuN0Kvzo1X2Ggq3EaDt+fNksr65GvHiO8bVXj3KqutPRg/vfPWxoXzxpLJZNTf3k7WvPmAD3LlY2duC9QbZ/DaahtQslbocFiEC7Nk5Enn3j3CmG78361q5Bl9CO1rbgir+u83i4T2ykDb/74lz86Zr5SNQsmw3GbovATUvyDO0vby/36dYrb/1rk3GWYFH+WExJ9++RwoESdmGslMKDmjL+c6enYdr4T//SdP/Ith4/iX0V+srDfi9sK8OuUuO07H99ZpphLdqTFXOM6xs7S0+h/NTI9/Q9s7lU+/79o+J+2SmxOH/meMPzRnoi107NevG09MRhf+MTWV1+ajwun28cHa/6qBgdmvML3txbicv/3zrtaBHo3c3x2p1n4arC3BHXb3xhYY7hnuX27h48t3V0S1vD1dDapd0GGi6jYiAMw3jr8ZPasLz17Ekub5+eNwYzNJc0PLHBcyg1tnXjN28aK5Wnj0/UFkd5MjktAdPHG1/7zRHuOW7rcuAv7x8xtJ8/Ix0LJxpvprphsbGvaw7XobhW/009mJ1cLybymW+cO8Ww46OupRNPb/50dOzoceJXbxRh5ZPbPRZ43bw0Dy9/YykmpyWMqj8J0XZtcdnjG0sMZ97704vbygw1PWPjowJyZnSghF0Y6za3z85OwpJJrrduiAhu1IyO/73T8xTMH989hHrNubE/+dws2Id5MPkKzVT1GyO8OOLv60pQ12I8C/s7n52uff5ZU1KRp9nKoDvVZig7NL/4MIyJRmZKegIu0cycrfroKDq6e1DX0okbHt1suPGpX2ykDX+6Zj5+8rlZiLb7pqhJN9AobWgf9GRDX1JKufwy0u+LC3N89jkGg7AK46O1LXi3yLgP7tZlk7TTNFcsyEJijOsUTEe3E89vM07BFFU24fENJYb2y+ZlYcnk4V+vdbHmG27r8ZOoahzeNqPGtm48+NFRbb8KsvSb4CMiBNdrRsfPby1Fu4d9iTpOp/IwMmbxFtFIfeu8qYa26qZO/OL1Ilz657XYUFyvfb/81Hj8+xtnaqe6R2NSWgLOmZ5maP9ngAq5NhTXo1hTIa47SjSUhVUYP7r2mKGwKjslVht8QO9dllctzDW0P77hOJwDpmCUUvjxK/vgPisTF2XD9y+eMaK+Tk1PwGRNpeJbXlZ093tozVHDFitbhOC/PzNt0Pe7amGu4Qq3pg4HXt3l/XnVR2tbDJdwJ0TbRz01RmRl0zMStVsgn9h43HAzWr/PFozHK98802/3o9+0NM/QtvZIHQ4HYJuTbsbuzCnjkJ9q/PkZysImjOtaOvHitjJD+1fOzBt0q9ENmimYEw1t+OjQp5csvLqrQnu85LfOm4rM5JGdMiUi2l8ShnPHcW1zJx5bW2Jov7owZ8h/qMlxkfic5oaTx4dxXrVuf/G83ORBDw0goqF987wpXj0vQoDvXTQDD96wUHvIkK8sn5qm/ZkymqOEvVHX0om3NQOULy8K/RO33IVNGD+x4bjhZJbEGDuuGWIqIz81HmdPM07B9E9Jt3Q68MvVRYbHJ6XG46tn5Y20uwD0p3FtLmlArRd3IQPAXz84YrglKsoeoZ3m0rlhcZ6hbV9FE3Zq1oF19CdvcYqaaLRmZSXjAs2uh4HGxkfhia+dgTvOmez30+4iIkS7dvzS9nLtlbG+8vzWMsPe6dSEKHymYPCvTSgKizBu7+rRHn355TMmGMrydW7S/CP78FAtSupa8Zf3D6O6yRiOP/ZBgcTMzERDIZVS3k1V769o0u4/vGHxRGSleDdan5OTjHmaQwC8Pa+aJ28R+c+d53seHc/LTcFr3zoLZ05J9fgcX/viwhzEu50s2NbVg+f9tM3J6dQXbl1VmIsoe1hEl4uw+Ixe3F6GBrcqZ3uE4CtL8716/3OmpxsuNVAK+MXqIjy21niV2WcKxmO5ZjQ9XCKi3XM81GlcO0tP4dqHNxouwYiPsuHr50weVh9025xe211p+Hq6a+l04KBmvcibE36IaGhzc1K0o+PrF0/Ac7cv9vqXbl9JjInUb3PacNwv25zWHqnDiQbjgULXak4RDAchH8Y9ToVHNYH5uflZyNCcrapjixBcr7n145391YYpkih7BH50acHIOquhu+N4Y3ED6jVblXofq8d1D2/UTg197ax8jEvw7uCRfpfOzURKnOtaU5fDOeRvu7vLThmK5SaOixv26xORZ7+/eh4W5Y+FCJAzJhZ/uHoefn7FHNO29NyoKeQ60dCGDw/6bptTS6cDW0oa8MCHxrMTlk1NwwQvbpgKRUPP4Qa5d4uqtQej37pskubZnl1dmIs/vHPIsO7s7o7lk5E71nf/GGZnJyFnTCzKTn56elaPU+Gd/dWG9e4PDtZg5RPbtH2cOC7OcLCJN2Iibbi6MNewP/vJTcdx67JJHo/31E5Rc1RM5FPJsZF47vYlaOroRkKU3avjdv1pcloCzp6Who8HFLgCvedV6072G0pjezf2VTRiX3kT9lY0Yk95I47VtWrvhwegveQnXIR8GD+sOeRj2dRUzNRcxjCYMfFR+Ny8LDyvqcjulzMmFncMcxp4KP1V1e5h+MbeKpcwXr2nEnc9s0N7EHzeuDg8deviER9Bed0ZE/DwmmKXb4DS4KOsoQAACNNJREFUhnb8Z3cFlk1NQ3y0zfCbuH69mMVbRP7gz0rp4bp56URDGK85XIcjNS2Ykj74tkalegcar+yqwN7yRhyv9/62uvFJ0Th/ZvqI+hwKQjqMtx0/ia3HjRW9t41ghAj07qUbLIz/59ICv1zVtWJ2hiGM1x2pQ2NbN5LjIvHCtjLc88Iuwz5noPcozidu6b2bdKQmjovH8mlp+PCg6zfYXc/s/OTPUbYIxEfbkBBjR3yUXTsbwfViovB3zrR0TBwXZwjSxzeU4KeXz/b4fqUNbfjBv/cagtxb1y6aMOg21VAX0p/ZU5qq3xkZiThrhBWGs7OTcZqHauCzp6Xhs34qp5+fm4Ist/Vth1PhnaJqPLGhBHc/rw/ieTnJePb2xaMK4n66Qq6BunqcONnWjdKGdhyoajZMlUfZI4Y9G0FEoad3m1Oeof2FbWVo6jDWsvQ4FR5ZU4zP/vHjEQfxwoljsHK5b2clg01Ij4x//vnZmD8hBY+sOfZJ1d1tZ+uPvvTWjUvysP3ETpe2SJvgx5cV+G0vn4jgotmZeGydayHab9484HHP8aL8sXj0pkKf3Y50zvR0ZKfEjvjmqDnZyWG53YCIjK4qzMHv3z6ItgHH57Z19eCFrWX46lmf7mLZX9GE+17ajV1lg9+G527iuDjMzkrGrOwknDZhDM7IH+v3vdRmC+kwjouy48YlebjujIl4e18VXtpRjkvnGk+VGo4VczLwtw8TXbbt3HHOFL8f8XjxnAxDGHsK4uXT0rDq+oWIjfLdlLktQvDdC6fj28/uHPrJGiOdjSCi0JMUE4kvnJZjOJPg8Q0luHlpHrp6nPjze4fx0MfFcAyx7WlSajxmZydjdnYSZmcnY1ZmMpLjgmeNPFBCOoz72SJ69+vq9uwOV7TdhkduKsT97x5GSX0rPlMwHrePcA16OE6bMAbpidGoGeL0rRWzM3D/NfP9srXhigXZUFB4eUcFqhs70NLp+OS/wfYRzshI1J5dS0Th66alEw1hXFLfhj+9dxiv7qrQ1pX0y0yOwQ8vKcDZ01J593kf8fYcYl8rLCxUW7duNeW1g9WPXtmLxwe5T/nK07Lx2y/MHfZ1jaOllEKnw4nmDgdaBwR0S4cDSbGRmJuT7JfCNiIKbjc8uglrDtd5/XwR4MbFE3H3hdMtG8Iisk0pVejeHhYj43CxYnamxzC+YfFE/O/nZpmyz1BEEBNpQ0ykDWmJPNSDiHrdtCTP6zCemp6AX39hDhZOHOvnXoUmhnEQWZQ/FuOTog1nYa9cPhnfu2h62BcwEFFoOXdGOiaMjTMcWzlQpE3wzXOnYuU5k0w7OSwUsPw1iNgiBD+5bBbsfaNfW4Tgnoum494VMxjERBR0bB5uc+q3cOIYrL5zGe66YCqDeAhejYxF5CIAfwJgA/CIUurXbo9L3+MXA2gDcLNSaruP+2oJK+Zk4t3MJOytaMTMzCS/V3ETEY3GVYW5ePDjYpfdHwnRdnxvxQxct2iC6Ud4hoohw1hEbAD+CuAzAMoAbBGRV5VS+wc8bQWAqX3/nQHgb33/pxHIS41HnuYibyKiYJMcG4lHbizET1/bj5K6VpwzPR13XzgNmcmBvVUq1HkzMl4E4IhSqhgAROQZAJcDGBjGlwN4XPWWZm8UkRQRyVRKDX4XIBERhbx5uSl48Y6lUEpxSW2EvFkzzgYw8D69sr624T4HInKbiGwVka21tSM7Fo2IiIITg3jkvAlj3VfXfXOyN8+BUuohpVShUqowLS3Nm/4RERGFPW/CuAxA7oC3cwBUjOA5REREpOFNGG8BMFVE8kUkCsA1AF51e86rAG6UXosBNHK9mIiIyDtDFnAppRwi8k0Ab6F3a9NjSql9IrKy7/FVAFajd1vTEfRubfqK/7pMREQUXrzaZ6yUWo3ewB3YtmrAnxWAb/i2a0RERNbAE7iIiIhMxjAmIiIyGcOYiIjIZAxjIiIikzGMiYiITMYwJiIiMhnDmIiIyGQMYyIiIpNJ73kdJrywSC2A46a8uHlSAdSZ3YkQx6/h6PFr6Bv8Oo6eFb+GE5VShpuSTAtjKxKRrUqpQrP7Ecr4NRw9fg19g1/H0ePX8FOcpiYiIjIZw5iIiMhkDOPAesjsDoQBfg1Hj19D3+DXcfT4NezDNWMiIiKTcWRMRERkMoYxERGRyRjGJhGRu0VEiUiq2X0JNSLyOxE5ICK7ReRlEUkxu0+hQkQuEpGDInJERO41uz+hRkRyReQDESkSkX0icpfZfQpVImITkR0i8prZfQkGDGMTiEgugM8AOGF2X0LUOwBmK6XmAjgE4D6T+xMSRMQG4K8AVgAoAHCtiBSY26uQ4wDwHaXUTACLAXyDX8MRuwtAkdmdCBYMY3P8EcA9AFg9NwJKqbeVUo6+NzcCyDGzPyFkEYAjSqlipVQXgGcAXG5yn0KKUqpSKbW978/N6A2TbHN7FXpEJAfAJQAeMbsvwYJhHGAi8jkA5UqpXWb3JUx8FcAbZnciRGQDKB3wdhkYJCMmInkAFgDYZG5PQtL96B2QOM3uSLCwm92BcCQi7wLI0Dz0AwDfB/DZwPYo9Az2NVRKvdL3nB+gd9rwqUD2LYSJpo2zMyMgIgkAXgTwbaVUk9n9CSUicimAGqXUNhE5x+z+BAuGsR8opS7QtYvIHAD5AHaJCNA7vbpdRBYppaoC2MWg5+lr2E9EbgJwKYDzFTfLe6sMQO6At3MAVJjUl5AlIpHoDeKnlFIvmd2fEHQmgM+JyMUAYgAkiciTSqnrTe6XqXjoh4lEpARAoVLKareWjIqIXATgDwCWK6Vqze5PqBARO3oL3s4HUA5gC4AvK6X2mdqxECK9v0X/E0CDUurbZvcn1PWNjO9WSl1qdl/MxjVjCkX/D0AigHdEZKeIrDK7Q6Ggr+jtmwDeQm/h0XMM4mE7E8ANAM7r+7e3s2+ERzQqHBkTERGZjCNjIiIikzGMiYiITMYwJiIiMhnDmIiIyGQMYyIiIpMxjImIiEzGMCYiIjLZ/weYCzaKtybZNwAAAABJRU5ErkJggg==\n",
      "text/plain": [
       "<Figure size 576x504 with 1 Axes>"
      ]
     },
     "metadata": {
      "needs_background": "light"
     },
     "output_type": "display_data"
    }
   ],
=======
   "execution_count": null,
   "metadata": {},
   "outputs": [],
>>>>>>> upstream/main
   "source": [
    "X = np.linspace(-5, 5, 40)\n",
    "y = stats.norm.pdf(X, loc=0) \\\n",
    "+ 0.05 * np.random.rand(40)\n",
    "\n",
    "fig, ax = plt.subplots(figsize=(8, 7))\n",
    "ax.plot(X, y, lw=5)\n",
    "plt.title('Unimodal Distribution')"
   ]
  },
  {
   "cell_type": "code",
<<<<<<< HEAD
   "execution_count": 25,
   "metadata": {},
   "outputs": [
    {
     "data": {
      "text/plain": [
       "Text(0.5, 1.0, 'Bimodal Distribution')"
      ]
     },
     "execution_count": 25,
     "metadata": {},
     "output_type": "execute_result"
    },
    {
     "data": {
      "image/png": "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\n",
      "text/plain": [
       "<Figure size 576x504 with 1 Axes>"
      ]
     },
     "metadata": {
      "needs_background": "light"
     },
     "output_type": "display_data"
    }
   ],
=======
   "execution_count": null,
   "metadata": {},
   "outputs": [],
>>>>>>> upstream/main
   "source": [
    "X = np.linspace(-5, 5, 40)\n",
    "y = stats.norm.pdf(X, loc=-2) + stats.norm.pdf(X, loc=2)\\\n",
    "+ 0.05 * np.random.rand(40)\n",
    "\n",
    "fig, ax = plt.subplots(figsize=(8, 7))\n",
    "ax.plot(X, y, lw=5)\n",
    "plt.title('Bimodal Distribution')"
   ]
  },
  {
   "cell_type": "markdown",
   "metadata": {},
   "source": [
    "## Rock Music Data\n",
    "\n",
    "Let's see what stats or graphs we can pull out of this dataset about rock songs."
   ]
  },
  {
   "cell_type": "code",
<<<<<<< HEAD
   "execution_count": 26,
   "metadata": {
    "scrolled": true
   },
   "outputs": [
    {
     "data": {
      "text/html": [
       "<div>\n",
       "<style scoped>\n",
       "    .dataframe tbody tr th:only-of-type {\n",
       "        vertical-align: middle;\n",
       "    }\n",
       "\n",
       "    .dataframe tbody tr th {\n",
       "        vertical-align: top;\n",
       "    }\n",
       "\n",
       "    .dataframe thead th {\n",
       "        text-align: right;\n",
       "    }\n",
       "</style>\n",
       "<table border=\"1\" class=\"dataframe\">\n",
       "  <thead>\n",
       "    <tr style=\"text-align: right;\">\n",
       "      <th></th>\n",
       "      <th>Song Clean</th>\n",
       "      <th>ARTIST CLEAN</th>\n",
       "      <th>Release Year</th>\n",
       "      <th>COMBINED</th>\n",
       "      <th>First?</th>\n",
       "      <th>Year?</th>\n",
       "      <th>PlayCount</th>\n",
       "      <th>F*G</th>\n",
       "    </tr>\n",
       "  </thead>\n",
       "  <tbody>\n",
       "    <tr>\n",
       "      <th>0</th>\n",
       "      <td>Caught Up in You</td>\n",
       "      <td>.38 Special</td>\n",
       "      <td>1982</td>\n",
       "      <td>Caught Up in You by .38 Special</td>\n",
       "      <td>1</td>\n",
       "      <td>1</td>\n",
       "      <td>82</td>\n",
       "      <td>82</td>\n",
       "    </tr>\n",
       "    <tr>\n",
       "      <th>1</th>\n",
       "      <td>Fantasy Girl</td>\n",
       "      <td>.38 Special</td>\n",
       "      <td>NaN</td>\n",
       "      <td>Fantasy Girl by .38 Special</td>\n",
       "      <td>1</td>\n",
       "      <td>0</td>\n",
       "      <td>3</td>\n",
       "      <td>0</td>\n",
       "    </tr>\n",
       "    <tr>\n",
       "      <th>2</th>\n",
       "      <td>Hold On Loosely</td>\n",
       "      <td>.38 Special</td>\n",
       "      <td>1981</td>\n",
       "      <td>Hold On Loosely by .38 Special</td>\n",
       "      <td>1</td>\n",
       "      <td>1</td>\n",
       "      <td>85</td>\n",
       "      <td>85</td>\n",
       "    </tr>\n",
       "    <tr>\n",
       "      <th>3</th>\n",
       "      <td>Rockin' Into the Night</td>\n",
       "      <td>.38 Special</td>\n",
       "      <td>1980</td>\n",
       "      <td>Rockin' Into the Night by .38 Special</td>\n",
       "      <td>1</td>\n",
       "      <td>1</td>\n",
       "      <td>18</td>\n",
       "      <td>18</td>\n",
       "    </tr>\n",
       "    <tr>\n",
       "      <th>4</th>\n",
       "      <td>Art For Arts Sake</td>\n",
       "      <td>10cc</td>\n",
       "      <td>1975</td>\n",
       "      <td>Art For Arts Sake by 10cc</td>\n",
       "      <td>1</td>\n",
       "      <td>1</td>\n",
       "      <td>1</td>\n",
       "      <td>1</td>\n",
       "    </tr>\n",
       "  </tbody>\n",
       "</table>\n",
       "</div>"
      ],
      "text/plain": [
       "               Song Clean ARTIST CLEAN Release Year  \\\n",
       "0        Caught Up in You  .38 Special         1982   \n",
       "1            Fantasy Girl  .38 Special          NaN   \n",
       "2         Hold On Loosely  .38 Special         1981   \n",
       "3  Rockin' Into the Night  .38 Special         1980   \n",
       "4       Art For Arts Sake         10cc         1975   \n",
       "\n",
       "                                COMBINED  First?  Year?  PlayCount  F*G  \n",
       "0        Caught Up in You by .38 Special       1      1         82   82  \n",
       "1            Fantasy Girl by .38 Special       1      0          3    0  \n",
       "2         Hold On Loosely by .38 Special       1      1         85   85  \n",
       "3  Rockin' Into the Night by .38 Special       1      1         18   18  \n",
       "4              Art For Arts Sake by 10cc       1      1          1    1  "
      ]
     },
     "execution_count": 26,
     "metadata": {},
     "output_type": "execute_result"
    }
   ],
=======
   "execution_count": null,
   "metadata": {
    "scrolled": true
   },
   "outputs": [],
>>>>>>> upstream/main
   "source": [
    "songs = pd.read_csv('classic-rock-song-list.csv')\n",
    "songs.head()"
   ]
  },
  {
   "cell_type": "markdown",
   "metadata": {},
   "source": [
    "**Activity**: Describe the `PlayCount` variable using...\n",
    "\n",
    "- `.describe()`\n",
    "- A histogram\n",
    "\n",
    "Summarize the distribution of the data in 1-2 sentences."
   ]
  },
  {
   "cell_type": "markdown",
   "metadata": {},
   "source": [
    "<details>\n",
    "    <summary>\n",
    "        Answer Code\n",
    "    </summary>\n",
    "    \n",
    "    songs['PlayCount'].describe()\n",
    "    \n",
    "    songs['PlayCount'].hist()\n",
    "    \n",
    "</details>"
   ]
  },
  {
   "cell_type": "code",
<<<<<<< HEAD
   "execution_count": 28,
   "metadata": {},
   "outputs": [
    {
     "data": {
      "text/plain": [
       "count    2229.000000\n",
       "mean       16.879767\n",
       "std        25.306415\n",
       "min         0.000000\n",
       "25%         1.000000\n",
       "50%         4.000000\n",
       "75%        21.000000\n",
       "max       142.000000\n",
       "Name: PlayCount, dtype: float64"
      ]
     },
     "execution_count": 28,
     "metadata": {},
     "output_type": "execute_result"
    }
   ],
   "source": [
    "## Your Code Here\n",
    "songs['PlayCount'].describe()"
   ]
  },
  {
   "cell_type": "code",
   "execution_count": 29,
   "metadata": {},
   "outputs": [
    {
     "data": {
      "text/plain": [
       "<matplotlib.axes._subplots.AxesSubplot at 0x7fce765798e0>"
      ]
     },
     "execution_count": 29,
     "metadata": {},
     "output_type": "execute_result"
    },
    {
     "data": {
      "image/png": "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\n",
      "text/plain": [
       "<Figure size 432x288 with 1 Axes>"
      ]
     },
     "metadata": {
      "needs_background": "light"
     },
     "output_type": "display_data"
    }
   ],
   "source": [
    "songs['PlayCount'].hist()"
   ]
  },
  {
   "cell_type": "code",
   "execution_count": 34,
   "metadata": {},
   "outputs": [
    {
     "data": {
      "text/plain": [
       "0    1\n",
       "dtype: int64"
      ]
     },
     "execution_count": 34,
     "metadata": {},
     "output_type": "execute_result"
    }
   ],
   "source": [
    "songs['PlayCount'].mode()"
=======
   "execution_count": null,
   "metadata": {},
   "outputs": [],
   "source": [
    "## Your Code Here"
>>>>>>> upstream/main
   ]
  },
  {
   "cell_type": "markdown",
   "metadata": {},
   "source": [
    "# Level Up: Rock Artist Analysis\n",
    "\n",
    "We might also try grouping by artist and analyzing the counts of their songs in the dataset."
   ]
  },
  {
   "cell_type": "code",
<<<<<<< HEAD
   "execution_count": 35,
   "metadata": {},
   "outputs": [
    {
     "data": {
      "text/plain": [
       "ARTIST CLEAN\n",
       "The Beatles                     100\n",
       "Led Zeppelin                     69\n",
       "Rolling Stones                   55\n",
       "Van Halen                        44\n",
       "Pink Floyd                       39\n",
       "                               ... \n",
       "Gordon Lightfoot                  1\n",
       "Slaughter                         1\n",
       "Gold Star Ballroom Orchestra      1\n",
       "Smash Mouth                       1\n",
       "a-ha                              1\n",
       "Name: Song Clean, Length: 475, dtype: int64"
      ]
     },
     "execution_count": 35,
     "metadata": {},
     "output_type": "execute_result"
    }
   ],
=======
   "execution_count": null,
   "metadata": {},
   "outputs": [],
>>>>>>> upstream/main
   "source": [
    "artist_song_counts = songs.groupby('ARTIST CLEAN')\\\n",
    "                          .count()['Song Clean']\\\n",
    "                          .sort_values(ascending=False)\n",
    "\n",
    "artist_song_counts"
   ]
  },
  {
   "cell_type": "code",
<<<<<<< HEAD
   "execution_count": 36,
   "metadata": {},
   "outputs": [
    {
     "data": {
      "text/plain": [
       "<BarContainer object of 10 artists>"
      ]
     },
     "execution_count": 36,
     "metadata": {},
     "output_type": "execute_result"
    },
    {
     "data": {
      "image/png": "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\n",
      "text/plain": [
       "<Figure size 1440x576 with 1 Axes>"
      ]
     },
     "metadata": {
      "needs_background": "light"
     },
     "output_type": "display_data"
    }
   ],
=======
   "execution_count": null,
   "metadata": {},
   "outputs": [],
>>>>>>> upstream/main
   "source": [
    "fig, ax = plt.subplots(figsize=(20, 8))\n",
    "ax.bar(artist_song_counts[:10].index, artist_song_counts[:10].values)"
   ]
  },
  {
   "cell_type": "code",
<<<<<<< HEAD
   "execution_count": 37,
   "metadata": {},
   "outputs": [
    {
     "data": {
      "text/plain": [
       "5.6284210275083115"
      ]
     },
     "execution_count": 37,
     "metadata": {},
     "output_type": "execute_result"
    }
   ],
=======
   "execution_count": null,
   "metadata": {},
   "outputs": [],
>>>>>>> upstream/main
   "source": [
    "artist_song_counts.skew()"
   ]
  },
  {
   "cell_type": "markdown",
   "metadata": {},
   "source": [
    "# Level Up: Iris Plots"
   ]
  },
  {
   "cell_type": "code",
<<<<<<< HEAD
   "execution_count": 38,
=======
   "execution_count": null,
>>>>>>> upstream/main
   "metadata": {},
   "outputs": [],
   "source": [
    "iris_data = load_iris()"
   ]
  },
  {
   "cell_type": "code",
<<<<<<< HEAD
   "execution_count": 39,
=======
   "execution_count": null,
>>>>>>> upstream/main
   "metadata": {},
   "outputs": [],
   "source": [
    "X = iris_data.data\n",
    "y = iris_data.target"
   ]
  },
  {
   "cell_type": "code",
   "execution_count": null,
   "metadata": {},
   "outputs": [],
   "source": [
    "# Documentation for this dataset\n",
    "\n",
    "# print(iris_data.DESCR)"
   ]
  },
  {
   "cell_type": "code",
<<<<<<< HEAD
   "execution_count": 40,
=======
   "execution_count": null,
>>>>>>> upstream/main
   "metadata": {},
   "outputs": [],
   "source": [
    "iris_df = pd.DataFrame(np.hstack([X, y.reshape(-1, 1)]),\n",
    "                  columns=['sepal_len', 'sepal_wid', 'petal_len', 'petal_wid', 'spec'])"
   ]
  },
  {
   "cell_type": "code",
<<<<<<< HEAD
   "execution_count": 41,
   "metadata": {},
   "outputs": [
    {
     "data": {
      "text/html": [
       "<div>\n",
       "<style scoped>\n",
       "    .dataframe tbody tr th:only-of-type {\n",
       "        vertical-align: middle;\n",
       "    }\n",
       "\n",
       "    .dataframe tbody tr th {\n",
       "        vertical-align: top;\n",
       "    }\n",
       "\n",
       "    .dataframe thead th {\n",
       "        text-align: right;\n",
       "    }\n",
       "</style>\n",
       "<table border=\"1\" class=\"dataframe\">\n",
       "  <thead>\n",
       "    <tr style=\"text-align: right;\">\n",
       "      <th></th>\n",
       "      <th>sepal_len</th>\n",
       "      <th>sepal_wid</th>\n",
       "      <th>petal_len</th>\n",
       "      <th>petal_wid</th>\n",
       "      <th>spec</th>\n",
       "    </tr>\n",
       "  </thead>\n",
       "  <tbody>\n",
       "    <tr>\n",
       "      <th>0</th>\n",
       "      <td>5.1</td>\n",
       "      <td>3.5</td>\n",
       "      <td>1.4</td>\n",
       "      <td>0.2</td>\n",
       "      <td>0.0</td>\n",
       "    </tr>\n",
       "    <tr>\n",
       "      <th>1</th>\n",
       "      <td>4.9</td>\n",
       "      <td>3.0</td>\n",
       "      <td>1.4</td>\n",
       "      <td>0.2</td>\n",
       "      <td>0.0</td>\n",
       "    </tr>\n",
       "    <tr>\n",
       "      <th>2</th>\n",
       "      <td>4.7</td>\n",
       "      <td>3.2</td>\n",
       "      <td>1.3</td>\n",
       "      <td>0.2</td>\n",
       "      <td>0.0</td>\n",
       "    </tr>\n",
       "    <tr>\n",
       "      <th>3</th>\n",
       "      <td>4.6</td>\n",
       "      <td>3.1</td>\n",
       "      <td>1.5</td>\n",
       "      <td>0.2</td>\n",
       "      <td>0.0</td>\n",
       "    </tr>\n",
       "    <tr>\n",
       "      <th>4</th>\n",
       "      <td>5.0</td>\n",
       "      <td>3.6</td>\n",
       "      <td>1.4</td>\n",
       "      <td>0.2</td>\n",
       "      <td>0.0</td>\n",
       "    </tr>\n",
       "    <tr>\n",
       "      <th>...</th>\n",
       "      <td>...</td>\n",
       "      <td>...</td>\n",
       "      <td>...</td>\n",
       "      <td>...</td>\n",
       "      <td>...</td>\n",
       "    </tr>\n",
       "    <tr>\n",
       "      <th>145</th>\n",
       "      <td>6.7</td>\n",
       "      <td>3.0</td>\n",
       "      <td>5.2</td>\n",
       "      <td>2.3</td>\n",
       "      <td>2.0</td>\n",
       "    </tr>\n",
       "    <tr>\n",
       "      <th>146</th>\n",
       "      <td>6.3</td>\n",
       "      <td>2.5</td>\n",
       "      <td>5.0</td>\n",
       "      <td>1.9</td>\n",
       "      <td>2.0</td>\n",
       "    </tr>\n",
       "    <tr>\n",
       "      <th>147</th>\n",
       "      <td>6.5</td>\n",
       "      <td>3.0</td>\n",
       "      <td>5.2</td>\n",
       "      <td>2.0</td>\n",
       "      <td>2.0</td>\n",
       "    </tr>\n",
       "    <tr>\n",
       "      <th>148</th>\n",
       "      <td>6.2</td>\n",
       "      <td>3.4</td>\n",
       "      <td>5.4</td>\n",
       "      <td>2.3</td>\n",
       "      <td>2.0</td>\n",
       "    </tr>\n",
       "    <tr>\n",
       "      <th>149</th>\n",
       "      <td>5.9</td>\n",
       "      <td>3.0</td>\n",
       "      <td>5.1</td>\n",
       "      <td>1.8</td>\n",
       "      <td>2.0</td>\n",
       "    </tr>\n",
       "  </tbody>\n",
       "</table>\n",
       "<p>150 rows × 5 columns</p>\n",
       "</div>"
      ],
      "text/plain": [
       "     sepal_len  sepal_wid  petal_len  petal_wid  spec\n",
       "0          5.1        3.5        1.4        0.2   0.0\n",
       "1          4.9        3.0        1.4        0.2   0.0\n",
       "2          4.7        3.2        1.3        0.2   0.0\n",
       "3          4.6        3.1        1.5        0.2   0.0\n",
       "4          5.0        3.6        1.4        0.2   0.0\n",
       "..         ...        ...        ...        ...   ...\n",
       "145        6.7        3.0        5.2        2.3   2.0\n",
       "146        6.3        2.5        5.0        1.9   2.0\n",
       "147        6.5        3.0        5.2        2.0   2.0\n",
       "148        6.2        3.4        5.4        2.3   2.0\n",
       "149        5.9        3.0        5.1        1.8   2.0\n",
       "\n",
       "[150 rows x 5 columns]"
      ]
     },
     "execution_count": 41,
     "metadata": {},
     "output_type": "execute_result"
    }
   ],
=======
   "execution_count": null,
   "metadata": {},
   "outputs": [],
>>>>>>> upstream/main
   "source": [
    "iris_df"
   ]
  },
  {
   "cell_type": "code",
<<<<<<< HEAD
   "execution_count": 42,
=======
   "execution_count": null,
>>>>>>> upstream/main
   "metadata": {},
   "outputs": [],
   "source": [
    "iris_df['spec'] = iris_df['spec'].astype(int)"
   ]
  },
  {
   "cell_type": "code",
<<<<<<< HEAD
   "execution_count": 43,
=======
   "execution_count": null,
>>>>>>> upstream/main
   "metadata": {},
   "outputs": [],
   "source": [
    "cypher = {0: 'setosa', 1: 'versicolor', 2: 'virginica'}\n",
    "iris_df['spec'] = iris_df['spec'].map(cypher)"
   ]
  },
  {
   "cell_type": "markdown",
   "metadata": {},
   "source": [
    "## Histograms Across Groups\n",
    "\n",
    "Let's create histograms for each of our flower groups."
   ]
  },
  {
   "cell_type": "code",
<<<<<<< HEAD
   "execution_count": 44,
   "metadata": {
    "scrolled": true
   },
   "outputs": [
    {
     "data": {
      "text/plain": [
       "<matplotlib.axes._subplots.AxesSubplot at 0x7fce7a6af760>"
      ]
     },
     "execution_count": 44,
     "metadata": {},
     "output_type": "execute_result"
    },
    {
     "data": {
      "image/png": "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\n",
      "text/plain": [
       "<Figure size 432x288 with 1 Axes>"
      ]
     },
     "metadata": {
      "needs_background": "light"
     },
     "output_type": "display_data"
    }
   ],
=======
   "execution_count": null,
   "metadata": {
    "scrolled": true
   },
   "outputs": [],
>>>>>>> upstream/main
   "source": [
    "iris_df[iris_df['spec'] == 'setosa']['sepal_wid'].hist(bins=20)"
   ]
  },
  {
   "cell_type": "code",
<<<<<<< HEAD
   "execution_count": 45,
   "metadata": {},
   "outputs": [
    {
     "data": {
      "text/plain": [
       "<matplotlib.axes._subplots.AxesSubplot at 0x7fce7a75d880>"
      ]
     },
     "execution_count": 45,
     "metadata": {},
     "output_type": "execute_result"
    },
    {
     "data": {
      "image/png": "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\n",
      "text/plain": [
       "<Figure size 432x288 with 1 Axes>"
      ]
     },
     "metadata": {
      "needs_background": "light"
     },
     "output_type": "display_data"
    }
   ],
=======
   "execution_count": null,
   "metadata": {},
   "outputs": [],
>>>>>>> upstream/main
   "source": [
    "iris_df[iris_df['spec'] == 'versicolor']['sepal_wid'].hist(bins=20)"
   ]
  },
  {
   "cell_type": "code",
<<<<<<< HEAD
   "execution_count": 46,
   "metadata": {},
   "outputs": [
    {
     "data": {
      "text/plain": [
       "<matplotlib.axes._subplots.AxesSubplot at 0x7fce7a76c790>"
      ]
     },
     "execution_count": 46,
     "metadata": {},
     "output_type": "execute_result"
    },
    {
     "data": {
      "image/png": "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\n",
      "text/plain": [
       "<Figure size 432x288 with 1 Axes>"
      ]
     },
     "metadata": {
      "needs_background": "light"
     },
     "output_type": "display_data"
    }
   ],
=======
   "execution_count": null,
   "metadata": {},
   "outputs": [],
>>>>>>> upstream/main
   "source": [
    "iris_df[iris_df['spec'] == 'virginica']['sepal_wid'].hist(bins=20)"
   ]
  },
  {
   "cell_type": "markdown",
   "metadata": {},
   "source": [
    "What if we want to visualize the three histograms together?"
   ]
  },
  {
   "cell_type": "code",
<<<<<<< HEAD
   "execution_count": 47,
   "metadata": {},
   "outputs": [
    {
     "data": {
      "text/plain": [
       "spec\n",
       "setosa        AxesSubplot(0.125,0.125;0.775x0.755)\n",
       "versicolor    AxesSubplot(0.125,0.125;0.775x0.755)\n",
       "virginica     AxesSubplot(0.125,0.125;0.775x0.755)\n",
       "Name: sepal_wid, dtype: object"
      ]
     },
     "execution_count": 47,
     "metadata": {},
     "output_type": "execute_result"
    },
    {
     "data": {
      "image/png": "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\n",
      "text/plain": [
       "<Figure size 432x288 with 1 Axes>"
      ]
     },
     "metadata": {
      "needs_background": "light"
     },
     "output_type": "display_data"
    }
   ],
=======
   "execution_count": null,
   "metadata": {},
   "outputs": [],
>>>>>>> upstream/main
   "source": [
    "# WARNING: This is not a good visualization\n",
    "\n",
    "iris_df.groupby('spec')['sepal_wid'].hist(bins=20)"
   ]
  },
  {
   "cell_type": "markdown",
   "metadata": {},
   "source": [
    "## Categorical Plots\n",
    "\n",
    "### Swarm Plot"
   ]
  },
  {
   "cell_type": "code",
<<<<<<< HEAD
   "execution_count": 48,
   "metadata": {},
   "outputs": [
    {
     "data": {
      "image/png": "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\n",
      "text/plain": [
       "<Figure size 360x360 with 1 Axes>"
      ]
     },
     "metadata": {
      "needs_background": "light"
     },
     "output_type": "display_data"
    }
   ],
=======
   "execution_count": null,
   "metadata": {},
   "outputs": [],
>>>>>>> upstream/main
   "source": [
    "sns.catplot(x=\"spec\", y=\"sepal_wid\",\n",
    "            kind='swarm', data=iris_df);"
   ]
  },
  {
   "cell_type": "markdown",
   "metadata": {},
   "source": [
    "### Violin Plot"
   ]
  },
  {
   "cell_type": "code",
<<<<<<< HEAD
   "execution_count": 49,
   "metadata": {},
   "outputs": [
    {
     "data": {
      "image/png": "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\n",
      "text/plain": [
       "<Figure size 360x360 with 1 Axes>"
      ]
     },
     "metadata": {
      "needs_background": "light"
     },
     "output_type": "display_data"
    }
   ],
=======
   "execution_count": null,
   "metadata": {},
   "outputs": [],
>>>>>>> upstream/main
   "source": [
    "sns.catplot(x='sepal_wid', y='spec',\n",
    "            kind='violin', data=iris_df);"
   ]
<<<<<<< HEAD
  },
  {
   "cell_type": "code",
   "execution_count": null,
   "metadata": {},
   "outputs": [],
   "source": []
=======
>>>>>>> upstream/main
  }
 ],
 "metadata": {
  "kernelspec": {
   "display_name": "Python 3",
   "language": "python",
   "name": "python3"
  },
  "language_info": {
   "codemirror_mode": {
    "name": "ipython",
    "version": 3
   },
   "file_extension": ".py",
   "mimetype": "text/x-python",
   "name": "python",
   "nbconvert_exporter": "python",
   "pygments_lexer": "ipython3",
<<<<<<< HEAD
   "version": "3.8.3"
=======
   "version": "3.8.5"
>>>>>>> upstream/main
  }
 },
 "nbformat": 4,
 "nbformat_minor": 2
}
