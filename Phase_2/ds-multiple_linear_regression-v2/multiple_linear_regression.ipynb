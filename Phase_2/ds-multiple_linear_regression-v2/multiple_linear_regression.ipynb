{
 "cells": [
  {
   "cell_type": "markdown",
   "metadata": {},
   "source": [
    "# Multiple Linear Regression"
   ]
  },
  {
   "cell_type": "code",
<<<<<<< HEAD
   "execution_count": 1,
=======
   "execution_count": null,
>>>>>>> mlf v2
   "metadata": {},
   "outputs": [],
   "source": [
    "import numpy as np\n",
    "import pandas as pd\n",
    "from matplotlib import pyplot as plt\n",
    "import seaborn as sns\n",
    "import statsmodels.api as sm\n",
    "from sklearn.preprocessing import OneHotEncoder, StandardScaler\n",
    "from sklearn.datasets import make_regression\n",
    "from sklearn.linear_model import LinearRegression\n",
    "import sklearn.metrics as metrics\n",
    "from random import gauss\n",
    "from mpl_toolkits.mplot3d import Axes3D\n",
    "from scipy import stats as stats\n",
    "\n",
    "%matplotlib inline"
   ]
  },
  {
   "cell_type": "markdown",
   "metadata": {},
   "source": [
    "![mlr](https://miro.medium.com/max/1280/1*lJKFo3yyZaFIx4ET1dLmlg.png)"
   ]
  },
  {
   "cell_type": "markdown",
   "metadata": {},
   "source": [
    "## Agenda\n",
    "\n",
    "SWBAT:\n",
    "\n",
    "- conduct linear regressions in `statsmodels` and in `sklearn`;\n",
    "- use the one-hot strategy to encode categorical variables."
   ]
  },
  {
   "cell_type": "markdown",
   "metadata": {},
   "source": [
    "## Regression with Multiple Predictors\n",
    "\n",
    "The main idea here is pretty simple. Whereas, in simple linear regression we took our dependent variable to be a function only of a single independent variable, here we'll be taking the dependent variable to be a function of multiple independent variables.\n",
    "\n",
    "Our regression equation, then, instead of looking like $\\hat{y} = mx + b$, will now look like:\n",
    "\n",
    "$\\hat{y} = \\hat{\\beta}_0 + \\hat{\\beta}_1x_1 + ... + \\hat{\\beta}_nx_n$.\n",
    "\n",
    "Remember that the hats ( $\\hat{}$ ) indicate parameters that are estimated.\n",
    "\n",
    "Is this still a best-fit *line*? Well, no. What does the graph of, say, z = x + y look like? [Here's](https://academo.org/demos/3d-surface-plotter/) a 3d-plotter. (Of course, once we get x's with subscripts beyond 2 it's going to be very hard to visualize. But in practice linear regressions can make use of dozens or even of hundreds of independent variables!)\n",
    "\n",
    "Is it possible to calculate the betas by hand? Yes, a multiple regression problem still has a closed-form solution:\n",
    "\n",
    "In a word, for a multiple linear regression problem where $X$ is the matrix of independent variable values and $y$ is the vector of dependent variable values, the vector of optimizing regression coefficients $\\vec{b}$ is given by:\n",
    "\n",
    "$\\vec{b} = (X^TX)^{-1}X^Ty$.\n",
    "\n",
    "We'll focus more directly on matrix mathematics later in the course, so don't worry if this equation is opaque to you. See [here](https://stattrek.com/multiple-regression/regression-coefficients.aspx) for a nice explanation and example."
   ]
  },
  {
   "cell_type": "markdown",
   "metadata": {},
   "source": [
    "## Confounding Variables\n",
    "\n",
    "Suppose I have a simple linear regression that models the growth of corn plants as a function of the temperature of the ambient air. And suppose there is a noticeable positive correlation between temperature and plant height."
   ]
  },
  {
   "cell_type": "code",
<<<<<<< HEAD
   "execution_count": 2,
=======
   "execution_count": null,
>>>>>>> mlf v2
   "metadata": {},
   "outputs": [],
   "source": [
    "corn = pd.read_csv('data/corn.csv',\n",
    "                  usecols=['temp', 'humid', 'height'])"
   ]
  },
  {
   "cell_type": "code",
<<<<<<< HEAD
   "execution_count": 3,
   "metadata": {},
   "outputs": [
    {
     "data": {
      "image/png": "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\n",
      "text/plain": [
       "<Figure size 360x360 with 1 Axes>"
      ]
     },
     "metadata": {
      "needs_background": "light"
     },
     "output_type": "display_data"
    }
   ],
=======
   "execution_count": null,
   "metadata": {},
   "outputs": [],
>>>>>>> mlf v2
   "source": [
    "sns.lmplot(data=corn, x='temp', y='height')\n",
    "plt.xlabel('Temperature ($\\degree$ F)')\n",
    "plt.ylabel('Height (cm)')\n",
    "plt.title('Corn plant height as a function of temperature');"
   ]
  },
  {
   "cell_type": "code",
<<<<<<< HEAD
   "execution_count": 4,
   "metadata": {},
   "outputs": [
    {
     "data": {
      "text/html": [
       "<div>\n",
       "<style scoped>\n",
       "    .dataframe tbody tr th:only-of-type {\n",
       "        vertical-align: middle;\n",
       "    }\n",
       "\n",
       "    .dataframe tbody tr th {\n",
       "        vertical-align: top;\n",
       "    }\n",
       "\n",
       "    .dataframe thead th {\n",
       "        text-align: right;\n",
       "    }\n",
       "</style>\n",
       "<table border=\"1\" class=\"dataframe\">\n",
       "  <thead>\n",
       "    <tr style=\"text-align: right;\">\n",
       "      <th></th>\n",
       "      <th>temp</th>\n",
       "      <th>humid</th>\n",
       "      <th>height</th>\n",
       "    </tr>\n",
       "  </thead>\n",
       "  <tbody>\n",
       "    <tr>\n",
       "      <th>0</th>\n",
       "      <td>58.086965</td>\n",
       "      <td>49.848304</td>\n",
       "      <td>122.222368</td>\n",
       "    </tr>\n",
       "    <tr>\n",
       "      <th>1</th>\n",
       "      <td>70.582087</td>\n",
       "      <td>22.855446</td>\n",
       "      <td>110.079666</td>\n",
       "    </tr>\n",
       "    <tr>\n",
       "      <th>2</th>\n",
       "      <td>75.868571</td>\n",
       "      <td>72.856834</td>\n",
       "      <td>256.812528</td>\n",
       "    </tr>\n",
       "    <tr>\n",
       "      <th>3</th>\n",
       "      <td>74.732376</td>\n",
       "      <td>38.907566</td>\n",
       "      <td>167.889601</td>\n",
       "    </tr>\n",
       "    <tr>\n",
       "      <th>4</th>\n",
       "      <td>77.384666</td>\n",
       "      <td>42.570524</td>\n",
       "      <td>188.914312</td>\n",
       "    </tr>\n",
       "  </tbody>\n",
       "</table>\n",
       "</div>"
      ],
      "text/plain": [
       "        temp      humid      height\n",
       "0  58.086965  49.848304  122.222368\n",
       "1  70.582087  22.855446  110.079666\n",
       "2  75.868571  72.856834  256.812528\n",
       "3  74.732376  38.907566  167.889601\n",
       "4  77.384666  42.570524  188.914312"
      ]
     },
     "execution_count": 4,
     "metadata": {},
     "output_type": "execute_result"
    }
   ],
=======
   "execution_count": null,
   "metadata": {},
   "outputs": [],
>>>>>>> mlf v2
   "source": [
    "corn.head()"
   ]
  },
  {
   "cell_type": "markdown",
   "metadata": {},
   "source": [
    "It seems that higher temperatures lead to taller corn plants. But it's hard to know for sure. One **confounding variable** might be *humidity*. If we haven't controlled for humidity, then it's difficult to draw conclusions.\n",
    "\n",
    "One solution is to use **both features** in a single model."
   ]
  },
  {
   "cell_type": "code",
<<<<<<< HEAD
   "execution_count": 5,
   "metadata": {},
   "outputs": [
    {
     "data": {
      "image/png": "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\n",
      "text/plain": [
       "<Figure size 360x360 with 1 Axes>"
      ]
     },
     "metadata": {
      "needs_background": "light"
     },
     "output_type": "display_data"
    }
   ],
=======
   "execution_count": null,
   "metadata": {},
   "outputs": [],
>>>>>>> mlf v2
   "source": [
    "sns.lmplot(data=corn, x='humid', y='height')\n",
    "plt.xlabel('Humidity (%)')\n",
    "plt.ylabel('Height (cm)')\n",
    "plt.title('Corn plant height as a function of humidity');"
   ]
  },
  {
   "cell_type": "code",
<<<<<<< HEAD
   "execution_count": 6,
   "metadata": {},
   "outputs": [
    {
     "data": {
      "image/png": "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\n",
      "text/plain": [
       "<Figure size 576x432 with 1 Axes>"
      ]
     },
     "metadata": {
      "needs_background": "light"
     },
     "output_type": "display_data"
    }
   ],
=======
   "execution_count": null,
   "metadata": {},
   "outputs": [],
>>>>>>> mlf v2
   "source": [
    "ax = plt.figure(figsize=(8, 6)).add_subplot(111, projection='3d')\n",
    "ax.scatter(corn['temp'], corn['humid'], corn['height'],\n",
    "           depthshade=True, s=40, color='#ff0000')\n",
    "# create x,y\n",
    "xx, yy = np.meshgrid(corn['temp'], corn['humid'])\n",
    "\n",
    "# calculate corresponding z\n",
    "z = 4.3825 * xx + 2.4693 * yy - 255.5434\n",
    "\n",
    "# plot the surface\n",
    "ax.plot_surface(xx, yy, z, alpha=0.01, color='#00ff00')\n",
    "\n",
    "ax.view_init(30, azim=240)\n",
    "ax.set_xlabel('Temperature ($\\degree$ F)')\n",
    "ax.set_ylabel('Humidity (%)')\n",
    "ax.set_zlabel('Height (cm)')\n",
    "plt.title('Corn plant height as a function of temperature and humidity');"
   ]
  },
  {
   "cell_type": "markdown",
   "metadata": {},
   "source": [
    "One risk we run when adding more predictors to a model is that their correlations with the target may be nearly *collinear* with each other. This can make it difficult to determine which predictor is doing the heavy lifting. We shall explore this theme of **multicollinearity** in more depth in due course."
   ]
  },
  {
   "cell_type": "markdown",
   "metadata": {},
   "source": [
    "## Dealing with Categorical Variables\n",
    "\n",
    "One issue we'd like to resolve is what to do with categorical variables, i.e. variables that represent categories rather than continua. In a Pandas DataFrame, these columns may well have strings or objects for values, but they need not. A certain heart-disease dataset from Kaggle, for example, has a target variable that takes values 0-4, each representing a different stage of heart disease.\n",
    "\n",
    "### Dummying\n",
    "\n",
    "One very effective way of dealing with categorical variables is to dummy them out. What this involves is making a new column for _each categorical value in the column we're dummying out_.\n",
    "\n",
    "These new columns will be filled only with 0's and 1's, a 1 representing the presence of the relevant categorical value.\n",
    "\n",
    "Let's look at a simple example:"
   ]
  },
  {
   "cell_type": "code",
<<<<<<< HEAD
   "execution_count": 7,
=======
   "execution_count": null,
>>>>>>> mlf v2
   "metadata": {},
   "outputs": [],
   "source": [
    "comma_use = pd.read_csv('data/comma-survey.csv')"
   ]
  },
  {
   "cell_type": "markdown",
   "metadata": {},
   "source": [
    "For more on this dataset see [here](https://fivethirtyeight.com/features/elitist-superfluous-or-popular-we-polled-americans-on-the-oxford-comma/)."
   ]
  },
  {
   "cell_type": "code",
<<<<<<< HEAD
   "execution_count": 8,
   "metadata": {},
   "outputs": [
    {
     "data": {
      "text/html": [
       "<div>\n",
       "<style scoped>\n",
       "    .dataframe tbody tr th:only-of-type {\n",
       "        vertical-align: middle;\n",
       "    }\n",
       "\n",
       "    .dataframe tbody tr th {\n",
       "        vertical-align: top;\n",
       "    }\n",
       "\n",
       "    .dataframe thead th {\n",
       "        text-align: right;\n",
       "    }\n",
       "</style>\n",
       "<table border=\"1\" class=\"dataframe\">\n",
       "  <thead>\n",
       "    <tr style=\"text-align: right;\">\n",
       "      <th></th>\n",
       "      <th>RespondentID</th>\n",
       "      <th>In your opinion, which sentence is more gramatically correct?</th>\n",
       "      <th>Prior to reading about it above, had you heard of the serial (or Oxford) comma?</th>\n",
       "      <th>How much, if at all, do you care about the use (or lack thereof) of the serial (or Oxford) comma in grammar?</th>\n",
       "      <th>How would you write the following sentence?</th>\n",
       "      <th>When faced with using the word \"data\", have you ever spent time considering if the word was a singular or plural noun?</th>\n",
       "      <th>How much, if at all, do you care about the debate over the use of the word \"data\" as a singluar or plural noun?</th>\n",
       "      <th>In your opinion, how important or unimportant is proper use of grammar?</th>\n",
       "      <th>Gender</th>\n",
       "      <th>Age</th>\n",
       "      <th>Household Income</th>\n",
       "      <th>Education</th>\n",
       "      <th>Location (Census Region)</th>\n",
       "    </tr>\n",
       "  </thead>\n",
       "  <tbody>\n",
       "    <tr>\n",
       "      <th>0</th>\n",
       "      <td>3292953864</td>\n",
       "      <td>It's important for a person to be honest, kind...</td>\n",
       "      <td>Yes</td>\n",
       "      <td>Some</td>\n",
       "      <td>Some experts say it's important to drink milk,...</td>\n",
       "      <td>No</td>\n",
       "      <td>Not much</td>\n",
       "      <td>Somewhat important</td>\n",
       "      <td>Male</td>\n",
       "      <td>30-44</td>\n",
       "      <td>$50,000 - $99,999</td>\n",
       "      <td>Bachelor degree</td>\n",
       "      <td>South Atlantic</td>\n",
       "    </tr>\n",
       "    <tr>\n",
       "      <th>1</th>\n",
       "      <td>3292950324</td>\n",
       "      <td>It's important for a person to be honest, kind...</td>\n",
       "      <td>No</td>\n",
       "      <td>Not much</td>\n",
       "      <td>Some experts say it's important to drink milk,...</td>\n",
       "      <td>No</td>\n",
       "      <td>Not much</td>\n",
       "      <td>Somewhat unimportant</td>\n",
       "      <td>Male</td>\n",
       "      <td>30-44</td>\n",
       "      <td>$50,000 - $99,999</td>\n",
       "      <td>Graduate degree</td>\n",
       "      <td>Mountain</td>\n",
       "    </tr>\n",
       "    <tr>\n",
       "      <th>2</th>\n",
       "      <td>3292942669</td>\n",
       "      <td>It's important for a person to be honest, kind...</td>\n",
       "      <td>Yes</td>\n",
       "      <td>Some</td>\n",
       "      <td>Some experts say it's important to drink milk,...</td>\n",
       "      <td>Yes</td>\n",
       "      <td>Not at all</td>\n",
       "      <td>Very important</td>\n",
       "      <td>Male</td>\n",
       "      <td>30-44</td>\n",
       "      <td>NaN</td>\n",
       "      <td>NaN</td>\n",
       "      <td>East North Central</td>\n",
       "    </tr>\n",
       "    <tr>\n",
       "      <th>3</th>\n",
       "      <td>3292932796</td>\n",
       "      <td>It's important for a person to be honest, kind...</td>\n",
       "      <td>Yes</td>\n",
       "      <td>Some</td>\n",
       "      <td>Some experts say it's important to drink milk,...</td>\n",
       "      <td>No</td>\n",
       "      <td>Some</td>\n",
       "      <td>Somewhat important</td>\n",
       "      <td>Male</td>\n",
       "      <td>18-29</td>\n",
       "      <td>NaN</td>\n",
       "      <td>Less than high school degree</td>\n",
       "      <td>Middle Atlantic</td>\n",
       "    </tr>\n",
       "    <tr>\n",
       "      <th>4</th>\n",
       "      <td>3292932522</td>\n",
       "      <td>It's important for a person to be honest, kind...</td>\n",
       "      <td>No</td>\n",
       "      <td>Not much</td>\n",
       "      <td>Some experts say it's important to drink milk,...</td>\n",
       "      <td>No</td>\n",
       "      <td>Not much</td>\n",
       "      <td>NaN</td>\n",
       "      <td>NaN</td>\n",
       "      <td>NaN</td>\n",
       "      <td>NaN</td>\n",
       "      <td>NaN</td>\n",
       "      <td>NaN</td>\n",
       "    </tr>\n",
       "  </tbody>\n",
       "</table>\n",
       "</div>"
      ],
      "text/plain": [
       "   RespondentID In your opinion, which sentence is more gramatically correct?  \\\n",
       "0    3292953864  It's important for a person to be honest, kind...              \n",
       "1    3292950324  It's important for a person to be honest, kind...              \n",
       "2    3292942669  It's important for a person to be honest, kind...              \n",
       "3    3292932796  It's important for a person to be honest, kind...              \n",
       "4    3292932522  It's important for a person to be honest, kind...              \n",
       "\n",
       "  Prior to reading about it above, had you heard of the serial (or Oxford) comma?  \\\n",
       "0                                                Yes                                \n",
       "1                                                 No                                \n",
       "2                                                Yes                                \n",
       "3                                                Yes                                \n",
       "4                                                 No                                \n",
       "\n",
       "  How much, if at all, do you care about the use (or lack thereof) of the serial (or Oxford) comma in grammar?  \\\n",
       "0                                               Some                                                             \n",
       "1                                           Not much                                                             \n",
       "2                                               Some                                                             \n",
       "3                                               Some                                                             \n",
       "4                                           Not much                                                             \n",
       "\n",
       "         How would you write the following sentence?  \\\n",
       "0  Some experts say it's important to drink milk,...   \n",
       "1  Some experts say it's important to drink milk,...   \n",
       "2  Some experts say it's important to drink milk,...   \n",
       "3  Some experts say it's important to drink milk,...   \n",
       "4  Some experts say it's important to drink milk,...   \n",
       "\n",
       "  When faced with using the word \"data\", have you ever spent time considering if the word was a singular or plural noun?  \\\n",
       "0                                                 No                                                                       \n",
       "1                                                 No                                                                       \n",
       "2                                                Yes                                                                       \n",
       "3                                                 No                                                                       \n",
       "4                                                 No                                                                       \n",
       "\n",
       "  How much, if at all, do you care about the debate over the use of the word \"data\" as a singluar or plural noun?  \\\n",
       "0                                           Not much                                                                \n",
       "1                                           Not much                                                                \n",
       "2                                         Not at all                                                                \n",
       "3                                               Some                                                                \n",
       "4                                           Not much                                                                \n",
       "\n",
       "  In your opinion, how important or unimportant is proper use of grammar?  \\\n",
       "0                                 Somewhat important                        \n",
       "1                               Somewhat unimportant                        \n",
       "2                                     Very important                        \n",
       "3                                 Somewhat important                        \n",
       "4                                                NaN                        \n",
       "\n",
       "  Gender    Age   Household Income                     Education  \\\n",
       "0   Male  30-44  $50,000 - $99,999               Bachelor degree   \n",
       "1   Male  30-44  $50,000 - $99,999               Graduate degree   \n",
       "2   Male  30-44                NaN                           NaN   \n",
       "3   Male  18-29                NaN  Less than high school degree   \n",
       "4    NaN    NaN                NaN                           NaN   \n",
       "\n",
       "  Location (Census Region)  \n",
       "0           South Atlantic  \n",
       "1                 Mountain  \n",
       "2       East North Central  \n",
       "3          Middle Atlantic  \n",
       "4                      NaN  "
      ]
     },
     "execution_count": 8,
     "metadata": {},
     "output_type": "execute_result"
    }
   ],
=======
   "execution_count": null,
   "metadata": {},
   "outputs": [],
>>>>>>> mlf v2
   "source": [
    "comma_use.head()"
   ]
  },
  {
   "cell_type": "code",
<<<<<<< HEAD
   "execution_count": 9,
   "metadata": {},
   "outputs": [
    {
     "data": {
      "text/plain": [
       "It's important for a person to be honest, kind, and loyal.    641\n",
       "It's important for a person to be honest, kind and loyal.     488\n",
       "Name: In your opinion, which sentence is more gramatically correct?, dtype: int64"
      ]
     },
     "execution_count": 9,
     "metadata": {},
     "output_type": "execute_result"
    }
   ],
=======
   "execution_count": null,
   "metadata": {},
   "outputs": [],
>>>>>>> mlf v2
   "source": [
    "comma_use['In your opinion, which sentence is more gramatically correct?'].value_counts()"
   ]
  },
  {
   "cell_type": "code",
<<<<<<< HEAD
   "execution_count": 10,
   "metadata": {},
   "outputs": [
    {
     "data": {
      "text/plain": [
       "(1129, 13)"
      ]
     },
     "execution_count": 10,
     "metadata": {},
     "output_type": "execute_result"
    }
   ],
=======
   "execution_count": null,
   "metadata": {},
   "outputs": [],
>>>>>>> mlf v2
   "source": [
    "comma_use.shape"
   ]
  },
  {
   "cell_type": "code",
<<<<<<< HEAD
   "execution_count": 11,
   "metadata": {},
   "outputs": [
    {
     "data": {
      "text/plain": [
       "924"
      ]
     },
     "execution_count": 11,
     "metadata": {},
     "output_type": "execute_result"
    }
   ],
=======
   "execution_count": null,
   "metadata": {},
   "outputs": [],
>>>>>>> mlf v2
   "source": [
    "comma_use.isna().sum().sum()"
   ]
  },
  {
   "cell_type": "code",
<<<<<<< HEAD
   "execution_count": 12,
=======
   "execution_count": null,
>>>>>>> mlf v2
   "metadata": {
    "scrolled": false
   },
   "outputs": [],
   "source": [
    "comma_use.dropna(inplace=True)"
   ]
  },
  {
   "cell_type": "code",
<<<<<<< HEAD
   "execution_count": 13,
   "metadata": {},
   "outputs": [
    {
     "data": {
      "text/plain": [
       "(825, 13)"
      ]
     },
     "execution_count": 13,
     "metadata": {},
     "output_type": "execute_result"
    }
   ],
=======
   "execution_count": null,
   "metadata": {},
   "outputs": [],
>>>>>>> mlf v2
   "source": [
    "comma_use.shape"
   ]
  },
  {
   "cell_type": "code",
<<<<<<< HEAD
   "execution_count": 65,
   "metadata": {},
   "outputs": [
    {
     "data": {
      "text/html": [
       "<div>\n",
       "<style scoped>\n",
       "    .dataframe tbody tr th:only-of-type {\n",
       "        vertical-align: middle;\n",
       "    }\n",
       "\n",
       "    .dataframe tbody tr th {\n",
       "        vertical-align: top;\n",
       "    }\n",
       "\n",
       "    .dataframe thead th {\n",
       "        text-align: right;\n",
       "    }\n",
       "</style>\n",
       "<table border=\"1\" class=\"dataframe\">\n",
       "  <thead>\n",
       "    <tr style=\"text-align: right;\">\n",
       "      <th></th>\n",
       "      <th>RespondentID</th>\n",
       "      <th>In your opinion, which sentence is more gramatically correct?</th>\n",
       "      <th>Prior to reading about it above, had you heard of the serial (or Oxford) comma?</th>\n",
       "      <th>How much, if at all, do you care about the use (or lack thereof) of the serial (or Oxford) comma in grammar?</th>\n",
       "      <th>How would you write the following sentence?</th>\n",
       "      <th>When faced with using the word \"data\", have you ever spent time considering if the word was a singular or plural noun?</th>\n",
       "      <th>How much, if at all, do you care about the debate over the use of the word \"data\" as a singluar or plural noun?</th>\n",
       "      <th>In your opinion, how important or unimportant is proper use of grammar?</th>\n",
       "      <th>Gender</th>\n",
       "      <th>Age</th>\n",
       "      <th>Household Income</th>\n",
       "      <th>Education</th>\n",
       "      <th>Location (Census Region)</th>\n",
       "    </tr>\n",
       "  </thead>\n",
       "  <tbody>\n",
       "    <tr>\n",
       "      <th>0</th>\n",
       "      <td>3292953864</td>\n",
       "      <td>It's important for a person to be honest, kind...</td>\n",
       "      <td>Yes</td>\n",
       "      <td>Some</td>\n",
       "      <td>Some experts say it's important to drink milk,...</td>\n",
       "      <td>No</td>\n",
       "      <td>Not much</td>\n",
       "      <td>Somewhat important</td>\n",
       "      <td>Male</td>\n",
       "      <td>30-44</td>\n",
       "      <td>$50,000 - $99,999</td>\n",
       "      <td>Bachelor degree</td>\n",
       "      <td>South Atlantic</td>\n",
       "    </tr>\n",
       "    <tr>\n",
       "      <th>1</th>\n",
       "      <td>3292950324</td>\n",
       "      <td>It's important for a person to be honest, kind...</td>\n",
       "      <td>No</td>\n",
       "      <td>Not much</td>\n",
       "      <td>Some experts say it's important to drink milk,...</td>\n",
       "      <td>No</td>\n",
       "      <td>Not much</td>\n",
       "      <td>Somewhat unimportant</td>\n",
       "      <td>Male</td>\n",
       "      <td>30-44</td>\n",
       "      <td>$50,000 - $99,999</td>\n",
       "      <td>Graduate degree</td>\n",
       "      <td>Mountain</td>\n",
       "    </tr>\n",
       "    <tr>\n",
       "      <th>5</th>\n",
       "      <td>3292926586</td>\n",
       "      <td>It's important for a person to be honest, kind...</td>\n",
       "      <td>No</td>\n",
       "      <td>A lot</td>\n",
       "      <td>Some experts say it's important to drink milk,...</td>\n",
       "      <td>Yes</td>\n",
       "      <td>Some</td>\n",
       "      <td>Very important</td>\n",
       "      <td>Male</td>\n",
       "      <td>18-29</td>\n",
       "      <td>$25,000 - $49,999</td>\n",
       "      <td>Some college or Associate degree</td>\n",
       "      <td>New England</td>\n",
       "    </tr>\n",
       "    <tr>\n",
       "      <th>6</th>\n",
       "      <td>3292908135</td>\n",
       "      <td>It's important for a person to be honest, kind...</td>\n",
       "      <td>Yes</td>\n",
       "      <td>A lot</td>\n",
       "      <td>Some experts say it's important to drink milk,...</td>\n",
       "      <td>Yes</td>\n",
       "      <td>Some</td>\n",
       "      <td>Very important</td>\n",
       "      <td>Male</td>\n",
       "      <td>18-29</td>\n",
       "      <td>$0 - $24,999</td>\n",
       "      <td>Some college or Associate degree</td>\n",
       "      <td>Pacific</td>\n",
       "    </tr>\n",
       "    <tr>\n",
       "      <th>7</th>\n",
       "      <td>3292869879</td>\n",
       "      <td>It's important for a person to be honest, kind...</td>\n",
       "      <td>Yes</td>\n",
       "      <td>A lot</td>\n",
       "      <td>Some experts say it's important to drink milk,...</td>\n",
       "      <td>No</td>\n",
       "      <td>A lot</td>\n",
       "      <td>Very important</td>\n",
       "      <td>Male</td>\n",
       "      <td>18-29</td>\n",
       "      <td>$25,000 - $49,999</td>\n",
       "      <td>Some college or Associate degree</td>\n",
       "      <td>East North Central</td>\n",
       "    </tr>\n",
       "    <tr>\n",
       "      <th>...</th>\n",
       "      <td>...</td>\n",
       "      <td>...</td>\n",
       "      <td>...</td>\n",
       "      <td>...</td>\n",
       "      <td>...</td>\n",
       "      <td>...</td>\n",
       "      <td>...</td>\n",
       "      <td>...</td>\n",
       "      <td>...</td>\n",
       "      <td>...</td>\n",
       "      <td>...</td>\n",
       "      <td>...</td>\n",
       "      <td>...</td>\n",
       "    </tr>\n",
       "    <tr>\n",
       "      <th>1124</th>\n",
       "      <td>3288387618</td>\n",
       "      <td>It's important for a person to be honest, kind...</td>\n",
       "      <td>Yes</td>\n",
       "      <td>A lot</td>\n",
       "      <td>Some experts say it's important to drink milk,...</td>\n",
       "      <td>No</td>\n",
       "      <td>A lot</td>\n",
       "      <td>Very important</td>\n",
       "      <td>Female</td>\n",
       "      <td>18-29</td>\n",
       "      <td>$100,000 - $149,999</td>\n",
       "      <td>Some college or Associate degree</td>\n",
       "      <td>South Atlantic</td>\n",
       "    </tr>\n",
       "    <tr>\n",
       "      <th>1125</th>\n",
       "      <td>3288387379</td>\n",
       "      <td>It's important for a person to be honest, kind...</td>\n",
       "      <td>No</td>\n",
       "      <td>Some</td>\n",
       "      <td>Some experts say it's important to drink milk,...</td>\n",
       "      <td>No</td>\n",
       "      <td>Some</td>\n",
       "      <td>Very important</td>\n",
       "      <td>Female</td>\n",
       "      <td>30-44</td>\n",
       "      <td>$50,000 - $99,999</td>\n",
       "      <td>Some college or Associate degree</td>\n",
       "      <td>Pacific</td>\n",
       "    </tr>\n",
       "    <tr>\n",
       "      <th>1126</th>\n",
       "      <td>3288382543</td>\n",
       "      <td>It's important for a person to be honest, kind...</td>\n",
       "      <td>Yes</td>\n",
       "      <td>Some</td>\n",
       "      <td>Some experts say it's important to drink milk,...</td>\n",
       "      <td>No</td>\n",
       "      <td>Not much</td>\n",
       "      <td>Somewhat important</td>\n",
       "      <td>Female</td>\n",
       "      <td>30-44</td>\n",
       "      <td>$50,000 - $99,999</td>\n",
       "      <td>Graduate degree</td>\n",
       "      <td>Middle Atlantic</td>\n",
       "    </tr>\n",
       "    <tr>\n",
       "      <th>1127</th>\n",
       "      <td>3288379152</td>\n",
       "      <td>It's important for a person to be honest, kind...</td>\n",
       "      <td>Yes</td>\n",
       "      <td>A lot</td>\n",
       "      <td>Some experts say it's important to drink milk,...</td>\n",
       "      <td>Yes</td>\n",
       "      <td>Not much</td>\n",
       "      <td>Very important</td>\n",
       "      <td>Female</td>\n",
       "      <td>45-60</td>\n",
       "      <td>$50,000 - $99,999</td>\n",
       "      <td>Graduate degree</td>\n",
       "      <td>East South Central</td>\n",
       "    </tr>\n",
       "    <tr>\n",
       "      <th>1128</th>\n",
       "      <td>3288375700</td>\n",
       "      <td>It's important for a person to be honest, kind...</td>\n",
       "      <td>Yes</td>\n",
       "      <td>A lot</td>\n",
       "      <td>Some experts say it's important to drink milk,...</td>\n",
       "      <td>Yes</td>\n",
       "      <td>Some</td>\n",
       "      <td>Somewhat important</td>\n",
       "      <td>Male</td>\n",
       "      <td>18-29</td>\n",
       "      <td>$25,000 - $49,999</td>\n",
       "      <td>Bachelor degree</td>\n",
       "      <td>Mountain</td>\n",
       "    </tr>\n",
       "  </tbody>\n",
       "</table>\n",
       "<p>825 rows × 13 columns</p>\n",
       "</div>"
      ],
      "text/plain": [
       "      RespondentID  \\\n",
       "0       3292953864   \n",
       "1       3292950324   \n",
       "5       3292926586   \n",
       "6       3292908135   \n",
       "7       3292869879   \n",
       "...            ...   \n",
       "1124    3288387618   \n",
       "1125    3288387379   \n",
       "1126    3288382543   \n",
       "1127    3288379152   \n",
       "1128    3288375700   \n",
       "\n",
       "     In your opinion, which sentence is more gramatically correct?  \\\n",
       "0     It's important for a person to be honest, kind...              \n",
       "1     It's important for a person to be honest, kind...              \n",
       "5     It's important for a person to be honest, kind...              \n",
       "6     It's important for a person to be honest, kind...              \n",
       "7     It's important for a person to be honest, kind...              \n",
       "...                                                 ...              \n",
       "1124  It's important for a person to be honest, kind...              \n",
       "1125  It's important for a person to be honest, kind...              \n",
       "1126  It's important for a person to be honest, kind...              \n",
       "1127  It's important for a person to be honest, kind...              \n",
       "1128  It's important for a person to be honest, kind...              \n",
       "\n",
       "     Prior to reading about it above, had you heard of the serial (or Oxford) comma?  \\\n",
       "0                                                   Yes                                \n",
       "1                                                    No                                \n",
       "5                                                    No                                \n",
       "6                                                   Yes                                \n",
       "7                                                   Yes                                \n",
       "...                                                 ...                                \n",
       "1124                                                Yes                                \n",
       "1125                                                 No                                \n",
       "1126                                                Yes                                \n",
       "1127                                                Yes                                \n",
       "1128                                                Yes                                \n",
       "\n",
       "     How much, if at all, do you care about the use (or lack thereof) of the serial (or Oxford) comma in grammar?  \\\n",
       "0                                                  Some                                                             \n",
       "1                                              Not much                                                             \n",
       "5                                                 A lot                                                             \n",
       "6                                                 A lot                                                             \n",
       "7                                                 A lot                                                             \n",
       "...                                                 ...                                                             \n",
       "1124                                              A lot                                                             \n",
       "1125                                               Some                                                             \n",
       "1126                                               Some                                                             \n",
       "1127                                              A lot                                                             \n",
       "1128                                              A lot                                                             \n",
       "\n",
       "            How would you write the following sentence?  \\\n",
       "0     Some experts say it's important to drink milk,...   \n",
       "1     Some experts say it's important to drink milk,...   \n",
       "5     Some experts say it's important to drink milk,...   \n",
       "6     Some experts say it's important to drink milk,...   \n",
       "7     Some experts say it's important to drink milk,...   \n",
       "...                                                 ...   \n",
       "1124  Some experts say it's important to drink milk,...   \n",
       "1125  Some experts say it's important to drink milk,...   \n",
       "1126  Some experts say it's important to drink milk,...   \n",
       "1127  Some experts say it's important to drink milk,...   \n",
       "1128  Some experts say it's important to drink milk,...   \n",
       "\n",
       "     When faced with using the word \"data\", have you ever spent time considering if the word was a singular or plural noun?  \\\n",
       "0                                                    No                                                                       \n",
       "1                                                    No                                                                       \n",
       "5                                                   Yes                                                                       \n",
       "6                                                   Yes                                                                       \n",
       "7                                                    No                                                                       \n",
       "...                                                 ...                                                                       \n",
       "1124                                                 No                                                                       \n",
       "1125                                                 No                                                                       \n",
       "1126                                                 No                                                                       \n",
       "1127                                                Yes                                                                       \n",
       "1128                                                Yes                                                                       \n",
       "\n",
       "     How much, if at all, do you care about the debate over the use of the word \"data\" as a singluar or plural noun?  \\\n",
       "0                                              Not much                                                                \n",
       "1                                              Not much                                                                \n",
       "5                                                  Some                                                                \n",
       "6                                                  Some                                                                \n",
       "7                                                 A lot                                                                \n",
       "...                                                 ...                                                                \n",
       "1124                                              A lot                                                                \n",
       "1125                                               Some                                                                \n",
       "1126                                           Not much                                                                \n",
       "1127                                           Not much                                                                \n",
       "1128                                               Some                                                                \n",
       "\n",
       "     In your opinion, how important or unimportant is proper use of grammar?  \\\n",
       "0                                    Somewhat important                        \n",
       "1                                  Somewhat unimportant                        \n",
       "5                                        Very important                        \n",
       "6                                        Very important                        \n",
       "7                                        Very important                        \n",
       "...                                                 ...                        \n",
       "1124                                     Very important                        \n",
       "1125                                     Very important                        \n",
       "1126                                 Somewhat important                        \n",
       "1127                                     Very important                        \n",
       "1128                                 Somewhat important                        \n",
       "\n",
       "      Gender    Age     Household Income                         Education  \\\n",
       "0       Male  30-44    $50,000 - $99,999                   Bachelor degree   \n",
       "1       Male  30-44    $50,000 - $99,999                   Graduate degree   \n",
       "5       Male  18-29    $25,000 - $49,999  Some college or Associate degree   \n",
       "6       Male  18-29         $0 - $24,999  Some college or Associate degree   \n",
       "7       Male  18-29    $25,000 - $49,999  Some college or Associate degree   \n",
       "...      ...    ...                  ...                               ...   \n",
       "1124  Female  18-29  $100,000 - $149,999  Some college or Associate degree   \n",
       "1125  Female  30-44    $50,000 - $99,999  Some college or Associate degree   \n",
       "1126  Female  30-44    $50,000 - $99,999                   Graduate degree   \n",
       "1127  Female  45-60    $50,000 - $99,999                   Graduate degree   \n",
       "1128    Male  18-29    $25,000 - $49,999                   Bachelor degree   \n",
       "\n",
       "     Location (Census Region)  \n",
       "0              South Atlantic  \n",
       "1                    Mountain  \n",
       "5                 New England  \n",
       "6                     Pacific  \n",
       "7          East North Central  \n",
       "...                       ...  \n",
       "1124           South Atlantic  \n",
       "1125                  Pacific  \n",
       "1126          Middle Atlantic  \n",
       "1127       East South Central  \n",
       "1128                 Mountain  \n",
       "\n",
       "[825 rows x 13 columns]"
      ]
     },
     "execution_count": 65,
     "metadata": {},
     "output_type": "execute_result"
    }
   ],
   "source": [
    "comma_use"
   ]
  },
  {
   "cell_type": "code",
   "execution_count": 14,
=======
   "execution_count": null,
>>>>>>> mlf v2
   "metadata": {},
   "outputs": [],
   "source": [
    "# Let's try using sklearn's OneHotEncoder to create our dummy columns:\n",
    "\n",
    "ohe = OneHotEncoder(drop='first')\n",
    "comma_trans = ohe.fit_transform(comma_use.drop('RespondentID', axis=1))"
   ]
  },
  {
   "cell_type": "markdown",
   "metadata": {},
   "source": [
    "Could we have used ```pd.get_dummies()``` instead?\n",
    "\n",
    "Well, yes. And in fact ```get_dummies()``` is in some ways easier; for one thing, it's built right into Pandas. But there are drawbacks with it as well. The main advantage of the `sklearn` tool is that it stores information about the columns and creates a persistent function that can be used on future data of the same form. See [this page](https://stackoverflow.com/questions/36631163/pandas-get-dummies-vs-sklearns-onehotencoder-what-are-the-pros-and-cons) for more."
   ]
  },
  {
   "cell_type": "code",
<<<<<<< HEAD
   "execution_count": 15,
   "metadata": {},
   "outputs": [
    {
     "data": {
      "text/html": [
       "<div>\n",
       "<style scoped>\n",
       "    .dataframe tbody tr th:only-of-type {\n",
       "        vertical-align: middle;\n",
       "    }\n",
       "\n",
       "    .dataframe tbody tr th {\n",
       "        vertical-align: top;\n",
       "    }\n",
       "\n",
       "    .dataframe thead th {\n",
       "        text-align: right;\n",
       "    }\n",
       "</style>\n",
       "<table border=\"1\" class=\"dataframe\">\n",
       "  <thead>\n",
       "    <tr style=\"text-align: right;\">\n",
       "      <th></th>\n",
       "      <th>In your opinion, which sentence is more gramatically correct?_It's important for a person to be honest, kind and loyal.</th>\n",
       "      <th>In your opinion, which sentence is more gramatically correct?_It's important for a person to be honest, kind, and loyal.</th>\n",
       "      <th>Prior to reading about it above, had you heard of the serial (or Oxford) comma?_No</th>\n",
       "      <th>Prior to reading about it above, had you heard of the serial (or Oxford) comma?_Yes</th>\n",
       "      <th>How much, if at all, do you care about the use (or lack thereof) of the serial (or Oxford) comma in grammar?_A lot</th>\n",
       "      <th>How much, if at all, do you care about the use (or lack thereof) of the serial (or Oxford) comma in grammar?_Not at all</th>\n",
       "      <th>How much, if at all, do you care about the use (or lack thereof) of the serial (or Oxford) comma in grammar?_Not much</th>\n",
       "      <th>How much, if at all, do you care about the use (or lack thereof) of the serial (or Oxford) comma in grammar?_Some</th>\n",
       "      <th>How would you write the following sentence?_Some experts say it's important to drink milk, but the data are inconclusive.</th>\n",
       "      <th>How would you write the following sentence?_Some experts say it's important to drink milk, but the data is inconclusive.</th>\n",
       "      <th>...</th>\n",
       "      <th>Education_Some college or Associate degree</th>\n",
       "      <th>Location (Census Region)_East North Central</th>\n",
       "      <th>Location (Census Region)_East South Central</th>\n",
       "      <th>Location (Census Region)_Middle Atlantic</th>\n",
       "      <th>Location (Census Region)_Mountain</th>\n",
       "      <th>Location (Census Region)_New England</th>\n",
       "      <th>Location (Census Region)_Pacific</th>\n",
       "      <th>Location (Census Region)_South Atlantic</th>\n",
       "      <th>Location (Census Region)_West North Central</th>\n",
       "      <th>Location (Census Region)_West South Central</th>\n",
       "    </tr>\n",
       "  </thead>\n",
       "  <tbody>\n",
       "    <tr>\n",
       "      <th>0</th>\n",
       "      <td>1</td>\n",
       "      <td>0</td>\n",
       "      <td>0</td>\n",
       "      <td>1</td>\n",
       "      <td>0</td>\n",
       "      <td>0</td>\n",
       "      <td>0</td>\n",
       "      <td>1</td>\n",
       "      <td>0</td>\n",
       "      <td>1</td>\n",
       "      <td>...</td>\n",
       "      <td>0</td>\n",
       "      <td>0</td>\n",
       "      <td>0</td>\n",
       "      <td>0</td>\n",
       "      <td>0</td>\n",
       "      <td>0</td>\n",
       "      <td>0</td>\n",
       "      <td>1</td>\n",
       "      <td>0</td>\n",
       "      <td>0</td>\n",
       "    </tr>\n",
       "    <tr>\n",
       "      <th>1</th>\n",
       "      <td>0</td>\n",
       "      <td>1</td>\n",
       "      <td>1</td>\n",
       "      <td>0</td>\n",
       "      <td>0</td>\n",
       "      <td>0</td>\n",
       "      <td>1</td>\n",
       "      <td>0</td>\n",
       "      <td>0</td>\n",
       "      <td>1</td>\n",
       "      <td>...</td>\n",
       "      <td>0</td>\n",
       "      <td>0</td>\n",
       "      <td>0</td>\n",
       "      <td>0</td>\n",
       "      <td>1</td>\n",
       "      <td>0</td>\n",
       "      <td>0</td>\n",
       "      <td>0</td>\n",
       "      <td>0</td>\n",
       "      <td>0</td>\n",
       "    </tr>\n",
       "    <tr>\n",
       "      <th>5</th>\n",
       "      <td>0</td>\n",
       "      <td>1</td>\n",
       "      <td>1</td>\n",
       "      <td>0</td>\n",
       "      <td>1</td>\n",
       "      <td>0</td>\n",
       "      <td>0</td>\n",
       "      <td>0</td>\n",
       "      <td>1</td>\n",
       "      <td>0</td>\n",
       "      <td>...</td>\n",
       "      <td>1</td>\n",
       "      <td>0</td>\n",
       "      <td>0</td>\n",
       "      <td>0</td>\n",
       "      <td>0</td>\n",
       "      <td>1</td>\n",
       "      <td>0</td>\n",
       "      <td>0</td>\n",
       "      <td>0</td>\n",
       "      <td>0</td>\n",
       "    </tr>\n",
       "    <tr>\n",
       "      <th>6</th>\n",
       "      <td>0</td>\n",
       "      <td>1</td>\n",
       "      <td>0</td>\n",
       "      <td>1</td>\n",
       "      <td>1</td>\n",
       "      <td>0</td>\n",
       "      <td>0</td>\n",
       "      <td>0</td>\n",
       "      <td>0</td>\n",
       "      <td>1</td>\n",
       "      <td>...</td>\n",
       "      <td>1</td>\n",
       "      <td>0</td>\n",
       "      <td>0</td>\n",
       "      <td>0</td>\n",
       "      <td>0</td>\n",
       "      <td>0</td>\n",
       "      <td>1</td>\n",
       "      <td>0</td>\n",
       "      <td>0</td>\n",
       "      <td>0</td>\n",
       "    </tr>\n",
       "    <tr>\n",
       "      <th>7</th>\n",
       "      <td>0</td>\n",
       "      <td>1</td>\n",
       "      <td>0</td>\n",
       "      <td>1</td>\n",
       "      <td>1</td>\n",
       "      <td>0</td>\n",
       "      <td>0</td>\n",
       "      <td>0</td>\n",
       "      <td>1</td>\n",
       "      <td>0</td>\n",
       "      <td>...</td>\n",
       "      <td>1</td>\n",
       "      <td>1</td>\n",
       "      <td>0</td>\n",
       "      <td>0</td>\n",
       "      <td>0</td>\n",
       "      <td>0</td>\n",
       "      <td>0</td>\n",
       "      <td>0</td>\n",
       "      <td>0</td>\n",
       "      <td>0</td>\n",
       "    </tr>\n",
       "    <tr>\n",
       "      <th>...</th>\n",
       "      <td>...</td>\n",
       "      <td>...</td>\n",
       "      <td>...</td>\n",
       "      <td>...</td>\n",
       "      <td>...</td>\n",
       "      <td>...</td>\n",
       "      <td>...</td>\n",
       "      <td>...</td>\n",
       "      <td>...</td>\n",
       "      <td>...</td>\n",
       "      <td>...</td>\n",
       "      <td>...</td>\n",
       "      <td>...</td>\n",
       "      <td>...</td>\n",
       "      <td>...</td>\n",
       "      <td>...</td>\n",
       "      <td>...</td>\n",
       "      <td>...</td>\n",
       "      <td>...</td>\n",
       "      <td>...</td>\n",
       "      <td>...</td>\n",
       "    </tr>\n",
       "    <tr>\n",
       "      <th>1124</th>\n",
       "      <td>0</td>\n",
       "      <td>1</td>\n",
       "      <td>0</td>\n",
       "      <td>1</td>\n",
       "      <td>1</td>\n",
       "      <td>0</td>\n",
       "      <td>0</td>\n",
       "      <td>0</td>\n",
       "      <td>0</td>\n",
       "      <td>1</td>\n",
       "      <td>...</td>\n",
       "      <td>1</td>\n",
       "      <td>0</td>\n",
       "      <td>0</td>\n",
       "      <td>0</td>\n",
       "      <td>0</td>\n",
       "      <td>0</td>\n",
       "      <td>0</td>\n",
       "      <td>1</td>\n",
       "      <td>0</td>\n",
       "      <td>0</td>\n",
       "    </tr>\n",
       "    <tr>\n",
       "      <th>1125</th>\n",
       "      <td>1</td>\n",
       "      <td>0</td>\n",
       "      <td>1</td>\n",
       "      <td>0</td>\n",
       "      <td>0</td>\n",
       "      <td>0</td>\n",
       "      <td>0</td>\n",
       "      <td>1</td>\n",
       "      <td>0</td>\n",
       "      <td>1</td>\n",
       "      <td>...</td>\n",
       "      <td>1</td>\n",
       "      <td>0</td>\n",
       "      <td>0</td>\n",
       "      <td>0</td>\n",
       "      <td>0</td>\n",
       "      <td>0</td>\n",
       "      <td>1</td>\n",
       "      <td>0</td>\n",
       "      <td>0</td>\n",
       "      <td>0</td>\n",
       "    </tr>\n",
       "    <tr>\n",
       "      <th>1126</th>\n",
       "      <td>0</td>\n",
       "      <td>1</td>\n",
       "      <td>0</td>\n",
       "      <td>1</td>\n",
       "      <td>0</td>\n",
       "      <td>0</td>\n",
       "      <td>0</td>\n",
       "      <td>1</td>\n",
       "      <td>0</td>\n",
       "      <td>1</td>\n",
       "      <td>...</td>\n",
       "      <td>0</td>\n",
       "      <td>0</td>\n",
       "      <td>0</td>\n",
       "      <td>1</td>\n",
       "      <td>0</td>\n",
       "      <td>0</td>\n",
       "      <td>0</td>\n",
       "      <td>0</td>\n",
       "      <td>0</td>\n",
       "      <td>0</td>\n",
       "    </tr>\n",
       "    <tr>\n",
       "      <th>1127</th>\n",
       "      <td>1</td>\n",
       "      <td>0</td>\n",
       "      <td>0</td>\n",
       "      <td>1</td>\n",
       "      <td>1</td>\n",
       "      <td>0</td>\n",
       "      <td>0</td>\n",
       "      <td>0</td>\n",
       "      <td>0</td>\n",
       "      <td>1</td>\n",
       "      <td>...</td>\n",
       "      <td>0</td>\n",
       "      <td>0</td>\n",
       "      <td>1</td>\n",
       "      <td>0</td>\n",
       "      <td>0</td>\n",
       "      <td>0</td>\n",
       "      <td>0</td>\n",
       "      <td>0</td>\n",
       "      <td>0</td>\n",
       "      <td>0</td>\n",
       "    </tr>\n",
       "    <tr>\n",
       "      <th>1128</th>\n",
       "      <td>1</td>\n",
       "      <td>0</td>\n",
       "      <td>0</td>\n",
       "      <td>1</td>\n",
       "      <td>1</td>\n",
       "      <td>0</td>\n",
       "      <td>0</td>\n",
       "      <td>0</td>\n",
       "      <td>0</td>\n",
       "      <td>1</td>\n",
       "      <td>...</td>\n",
       "      <td>0</td>\n",
       "      <td>0</td>\n",
       "      <td>0</td>\n",
       "      <td>0</td>\n",
       "      <td>1</td>\n",
       "      <td>0</td>\n",
       "      <td>0</td>\n",
       "      <td>0</td>\n",
       "      <td>0</td>\n",
       "      <td>0</td>\n",
       "    </tr>\n",
       "  </tbody>\n",
       "</table>\n",
       "<p>825 rows × 46 columns</p>\n",
       "</div>"
      ],
      "text/plain": [
       "      In your opinion, which sentence is more gramatically correct?_It's important for a person to be honest, kind and loyal.  \\\n",
       "0                                                     1                                                                         \n",
       "1                                                     0                                                                         \n",
       "5                                                     0                                                                         \n",
       "6                                                     0                                                                         \n",
       "7                                                     0                                                                         \n",
       "...                                                 ...                                                                         \n",
       "1124                                                  0                                                                         \n",
       "1125                                                  1                                                                         \n",
       "1126                                                  0                                                                         \n",
       "1127                                                  1                                                                         \n",
       "1128                                                  1                                                                         \n",
       "\n",
       "      In your opinion, which sentence is more gramatically correct?_It's important for a person to be honest, kind, and loyal.  \\\n",
       "0                                                     0                                                                          \n",
       "1                                                     1                                                                          \n",
       "5                                                     1                                                                          \n",
       "6                                                     1                                                                          \n",
       "7                                                     1                                                                          \n",
       "...                                                 ...                                                                          \n",
       "1124                                                  1                                                                          \n",
       "1125                                                  0                                                                          \n",
       "1126                                                  1                                                                          \n",
       "1127                                                  0                                                                          \n",
       "1128                                                  0                                                                          \n",
       "\n",
       "      Prior to reading about it above, had you heard of the serial (or Oxford) comma?_No  \\\n",
       "0                                                     0                                    \n",
       "1                                                     1                                    \n",
       "5                                                     1                                    \n",
       "6                                                     0                                    \n",
       "7                                                     0                                    \n",
       "...                                                 ...                                    \n",
       "1124                                                  0                                    \n",
       "1125                                                  1                                    \n",
       "1126                                                  0                                    \n",
       "1127                                                  0                                    \n",
       "1128                                                  0                                    \n",
       "\n",
       "      Prior to reading about it above, had you heard of the serial (or Oxford) comma?_Yes  \\\n",
       "0                                                     1                                     \n",
       "1                                                     0                                     \n",
       "5                                                     0                                     \n",
       "6                                                     1                                     \n",
       "7                                                     1                                     \n",
       "...                                                 ...                                     \n",
       "1124                                                  1                                     \n",
       "1125                                                  0                                     \n",
       "1126                                                  1                                     \n",
       "1127                                                  1                                     \n",
       "1128                                                  1                                     \n",
       "\n",
       "      How much, if at all, do you care about the use (or lack thereof) of the serial (or Oxford) comma in grammar?_A lot  \\\n",
       "0                                                     0                                                                    \n",
       "1                                                     0                                                                    \n",
       "5                                                     1                                                                    \n",
       "6                                                     1                                                                    \n",
       "7                                                     1                                                                    \n",
       "...                                                 ...                                                                    \n",
       "1124                                                  1                                                                    \n",
       "1125                                                  0                                                                    \n",
       "1126                                                  0                                                                    \n",
       "1127                                                  1                                                                    \n",
       "1128                                                  1                                                                    \n",
       "\n",
       "      How much, if at all, do you care about the use (or lack thereof) of the serial (or Oxford) comma in grammar?_Not at all  \\\n",
       "0                                                     0                                                                         \n",
       "1                                                     0                                                                         \n",
       "5                                                     0                                                                         \n",
       "6                                                     0                                                                         \n",
       "7                                                     0                                                                         \n",
       "...                                                 ...                                                                         \n",
       "1124                                                  0                                                                         \n",
       "1125                                                  0                                                                         \n",
       "1126                                                  0                                                                         \n",
       "1127                                                  0                                                                         \n",
       "1128                                                  0                                                                         \n",
       "\n",
       "      How much, if at all, do you care about the use (or lack thereof) of the serial (or Oxford) comma in grammar?_Not much  \\\n",
       "0                                                     0                                                                       \n",
       "1                                                     1                                                                       \n",
       "5                                                     0                                                                       \n",
       "6                                                     0                                                                       \n",
       "7                                                     0                                                                       \n",
       "...                                                 ...                                                                       \n",
       "1124                                                  0                                                                       \n",
       "1125                                                  0                                                                       \n",
       "1126                                                  0                                                                       \n",
       "1127                                                  0                                                                       \n",
       "1128                                                  0                                                                       \n",
       "\n",
       "      How much, if at all, do you care about the use (or lack thereof) of the serial (or Oxford) comma in grammar?_Some  \\\n",
       "0                                                     1                                                                   \n",
       "1                                                     0                                                                   \n",
       "5                                                     0                                                                   \n",
       "6                                                     0                                                                   \n",
       "7                                                     0                                                                   \n",
       "...                                                 ...                                                                   \n",
       "1124                                                  0                                                                   \n",
       "1125                                                  1                                                                   \n",
       "1126                                                  1                                                                   \n",
       "1127                                                  0                                                                   \n",
       "1128                                                  0                                                                   \n",
       "\n",
       "      How would you write the following sentence?_Some experts say it's important to drink milk, but the data are inconclusive.  \\\n",
       "0                                                     0                                                                           \n",
       "1                                                     0                                                                           \n",
       "5                                                     1                                                                           \n",
       "6                                                     0                                                                           \n",
       "7                                                     1                                                                           \n",
       "...                                                 ...                                                                           \n",
       "1124                                                  0                                                                           \n",
       "1125                                                  0                                                                           \n",
       "1126                                                  0                                                                           \n",
       "1127                                                  0                                                                           \n",
       "1128                                                  0                                                                           \n",
       "\n",
       "      How would you write the following sentence?_Some experts say it's important to drink milk, but the data is inconclusive.  \\\n",
       "0                                                     1                                                                          \n",
       "1                                                     1                                                                          \n",
       "5                                                     0                                                                          \n",
       "6                                                     1                                                                          \n",
       "7                                                     0                                                                          \n",
       "...                                                 ...                                                                          \n",
       "1124                                                  1                                                                          \n",
       "1125                                                  1                                                                          \n",
       "1126                                                  1                                                                          \n",
       "1127                                                  1                                                                          \n",
       "1128                                                  1                                                                          \n",
       "\n",
       "      ...  Education_Some college or Associate degree  \\\n",
       "0     ...                                           0   \n",
       "1     ...                                           0   \n",
       "5     ...                                           1   \n",
       "6     ...                                           1   \n",
       "7     ...                                           1   \n",
       "...   ...                                         ...   \n",
       "1124  ...                                           1   \n",
       "1125  ...                                           1   \n",
       "1126  ...                                           0   \n",
       "1127  ...                                           0   \n",
       "1128  ...                                           0   \n",
       "\n",
       "      Location (Census Region)_East North Central  \\\n",
       "0                                               0   \n",
       "1                                               0   \n",
       "5                                               0   \n",
       "6                                               0   \n",
       "7                                               1   \n",
       "...                                           ...   \n",
       "1124                                            0   \n",
       "1125                                            0   \n",
       "1126                                            0   \n",
       "1127                                            0   \n",
       "1128                                            0   \n",
       "\n",
       "      Location (Census Region)_East South Central  \\\n",
       "0                                               0   \n",
       "1                                               0   \n",
       "5                                               0   \n",
       "6                                               0   \n",
       "7                                               0   \n",
       "...                                           ...   \n",
       "1124                                            0   \n",
       "1125                                            0   \n",
       "1126                                            0   \n",
       "1127                                            1   \n",
       "1128                                            0   \n",
       "\n",
       "      Location (Census Region)_Middle Atlantic  \\\n",
       "0                                            0   \n",
       "1                                            0   \n",
       "5                                            0   \n",
       "6                                            0   \n",
       "7                                            0   \n",
       "...                                        ...   \n",
       "1124                                         0   \n",
       "1125                                         0   \n",
       "1126                                         1   \n",
       "1127                                         0   \n",
       "1128                                         0   \n",
       "\n",
       "      Location (Census Region)_Mountain  Location (Census Region)_New England  \\\n",
       "0                                     0                                     0   \n",
       "1                                     1                                     0   \n",
       "5                                     0                                     1   \n",
       "6                                     0                                     0   \n",
       "7                                     0                                     0   \n",
       "...                                 ...                                   ...   \n",
       "1124                                  0                                     0   \n",
       "1125                                  0                                     0   \n",
       "1126                                  0                                     0   \n",
       "1127                                  0                                     0   \n",
       "1128                                  1                                     0   \n",
       "\n",
       "      Location (Census Region)_Pacific  \\\n",
       "0                                    0   \n",
       "1                                    0   \n",
       "5                                    0   \n",
       "6                                    1   \n",
       "7                                    0   \n",
       "...                                ...   \n",
       "1124                                 0   \n",
       "1125                                 1   \n",
       "1126                                 0   \n",
       "1127                                 0   \n",
       "1128                                 0   \n",
       "\n",
       "      Location (Census Region)_South Atlantic  \\\n",
       "0                                           1   \n",
       "1                                           0   \n",
       "5                                           0   \n",
       "6                                           0   \n",
       "7                                           0   \n",
       "...                                       ...   \n",
       "1124                                        1   \n",
       "1125                                        0   \n",
       "1126                                        0   \n",
       "1127                                        0   \n",
       "1128                                        0   \n",
       "\n",
       "      Location (Census Region)_West North Central  \\\n",
       "0                                               0   \n",
       "1                                               0   \n",
       "5                                               0   \n",
       "6                                               0   \n",
       "7                                               0   \n",
       "...                                           ...   \n",
       "1124                                            0   \n",
       "1125                                            0   \n",
       "1126                                            0   \n",
       "1127                                            0   \n",
       "1128                                            0   \n",
       "\n",
       "      Location (Census Region)_West South Central  \n",
       "0                                               0  \n",
       "1                                               0  \n",
       "5                                               0  \n",
       "6                                               0  \n",
       "7                                               0  \n",
       "...                                           ...  \n",
       "1124                                            0  \n",
       "1125                                            0  \n",
       "1126                                            0  \n",
       "1127                                            0  \n",
       "1128                                            0  \n",
       "\n",
       "[825 rows x 46 columns]"
      ]
     },
     "execution_count": 15,
     "metadata": {},
     "output_type": "execute_result"
    }
   ],
=======
   "execution_count": null,
   "metadata": {},
   "outputs": [],
>>>>>>> mlf v2
   "source": [
    "pd.get_dummies(comma_use.drop('RespondentID', axis=1))"
   ]
  },
  {
   "cell_type": "markdown",
   "metadata": {},
   "source": [
    "So what did the encoder do?"
   ]
  },
  {
   "cell_type": "code",
<<<<<<< HEAD
   "execution_count": 16,
   "metadata": {},
   "outputs": [
    {
     "data": {
      "text/plain": [
       "<825x34 sparse matrix of type '<class 'numpy.float64'>'\n",
       "\twith 7174 stored elements in Compressed Sparse Row format>"
      ]
     },
     "execution_count": 16,
     "metadata": {},
     "output_type": "execute_result"
    }
   ],
=======
   "execution_count": null,
   "metadata": {},
   "outputs": [],
>>>>>>> mlf v2
   "source": [
    "comma_trans"
   ]
  },
  {
   "cell_type": "code",
<<<<<<< HEAD
   "execution_count": 17,
   "metadata": {},
   "outputs": [
    {
     "data": {
      "text/plain": [
       "matrix([[0., 1., 0., ..., 1., 0., 0.],\n",
       "        [1., 0., 0., ..., 0., 0., 0.],\n",
       "        [1., 0., 0., ..., 0., 0., 0.],\n",
       "        ...,\n",
       "        [1., 1., 0., ..., 0., 0., 0.],\n",
       "        [0., 1., 0., ..., 0., 0., 0.],\n",
       "        [0., 1., 0., ..., 0., 0., 0.]])"
      ]
     },
     "execution_count": 17,
     "metadata": {},
     "output_type": "execute_result"
    }
   ],
=======
   "execution_count": null,
   "metadata": {},
   "outputs": [],
>>>>>>> mlf v2
   "source": [
    "comma_trans.todense()"
   ]
  },
  {
   "cell_type": "code",
<<<<<<< HEAD
   "execution_count": 18,
   "metadata": {},
   "outputs": [
    {
     "data": {
      "text/plain": [
       "array([\"x0_It's important for a person to be honest, kind, and loyal.\",\n",
       "       'x1_Yes', 'x2_Not at all', 'x2_Not much', 'x2_Some',\n",
       "       \"x3_Some experts say it's important to drink milk, but the data is inconclusive.\",\n",
       "       'x4_Yes', 'x5_Not at all', 'x5_Not much', 'x5_Some',\n",
       "       'x6_Somewhat important', 'x6_Somewhat unimportant',\n",
       "       'x6_Very important', 'x6_Very unimportant', 'x7_Male', 'x8_30-44',\n",
       "       'x8_45-60', 'x8_> 60', 'x9_$100,000 - $149,999', 'x9_$150,000+',\n",
       "       'x9_$25,000 - $49,999', 'x9_$50,000 - $99,999',\n",
       "       'x10_Graduate degree', 'x10_High school degree',\n",
       "       'x10_Less than high school degree',\n",
       "       'x10_Some college or Associate degree', 'x11_East South Central',\n",
       "       'x11_Middle Atlantic', 'x11_Mountain', 'x11_New England',\n",
       "       'x11_Pacific', 'x11_South Atlantic', 'x11_West North Central',\n",
       "       'x11_West South Central'], dtype=object)"
      ]
     },
     "execution_count": 18,
     "metadata": {},
     "output_type": "execute_result"
    }
   ],
=======
   "execution_count": null,
   "metadata": {},
   "outputs": [],
>>>>>>> mlf v2
   "source": [
    "ohe.get_feature_names()"
   ]
  },
  {
   "cell_type": "code",
<<<<<<< HEAD
   "execution_count": 19,
   "metadata": {},
   "outputs": [
    {
     "data": {
      "text/html": [
       "<div>\n",
       "<style scoped>\n",
       "    .dataframe tbody tr th:only-of-type {\n",
       "        vertical-align: middle;\n",
       "    }\n",
       "\n",
       "    .dataframe tbody tr th {\n",
       "        vertical-align: top;\n",
       "    }\n",
       "\n",
       "    .dataframe thead th {\n",
       "        text-align: right;\n",
       "    }\n",
       "</style>\n",
       "<table border=\"1\" class=\"dataframe\">\n",
       "  <thead>\n",
       "    <tr style=\"text-align: right;\">\n",
       "      <th></th>\n",
       "      <th>x0_It's important for a person to be honest, kind, and loyal.</th>\n",
       "      <th>x1_Yes</th>\n",
       "      <th>x2_Not at all</th>\n",
       "      <th>x2_Not much</th>\n",
       "      <th>x2_Some</th>\n",
       "      <th>x3_Some experts say it's important to drink milk, but the data is inconclusive.</th>\n",
       "      <th>x4_Yes</th>\n",
       "      <th>x5_Not at all</th>\n",
       "      <th>x5_Not much</th>\n",
       "      <th>x5_Some</th>\n",
       "      <th>...</th>\n",
       "      <th>x10_Less than high school degree</th>\n",
       "      <th>x10_Some college or Associate degree</th>\n",
       "      <th>x11_East South Central</th>\n",
       "      <th>x11_Middle Atlantic</th>\n",
       "      <th>x11_Mountain</th>\n",
       "      <th>x11_New England</th>\n",
       "      <th>x11_Pacific</th>\n",
       "      <th>x11_South Atlantic</th>\n",
       "      <th>x11_West North Central</th>\n",
       "      <th>x11_West South Central</th>\n",
       "    </tr>\n",
       "  </thead>\n",
       "  <tbody>\n",
       "    <tr>\n",
       "      <th>0</th>\n",
       "      <td>0.0</td>\n",
       "      <td>1.0</td>\n",
       "      <td>0.0</td>\n",
       "      <td>0.0</td>\n",
       "      <td>1.0</td>\n",
       "      <td>1.0</td>\n",
       "      <td>0.0</td>\n",
       "      <td>0.0</td>\n",
       "      <td>1.0</td>\n",
       "      <td>0.0</td>\n",
       "      <td>...</td>\n",
       "      <td>0.0</td>\n",
       "      <td>0.0</td>\n",
       "      <td>0.0</td>\n",
       "      <td>0.0</td>\n",
       "      <td>0.0</td>\n",
       "      <td>0.0</td>\n",
       "      <td>0.0</td>\n",
       "      <td>1.0</td>\n",
       "      <td>0.0</td>\n",
       "      <td>0.0</td>\n",
       "    </tr>\n",
       "    <tr>\n",
       "      <th>1</th>\n",
       "      <td>1.0</td>\n",
       "      <td>0.0</td>\n",
       "      <td>0.0</td>\n",
       "      <td>1.0</td>\n",
       "      <td>0.0</td>\n",
       "      <td>1.0</td>\n",
       "      <td>0.0</td>\n",
       "      <td>0.0</td>\n",
       "      <td>1.0</td>\n",
       "      <td>0.0</td>\n",
       "      <td>...</td>\n",
       "      <td>0.0</td>\n",
       "      <td>0.0</td>\n",
       "      <td>0.0</td>\n",
       "      <td>0.0</td>\n",
       "      <td>1.0</td>\n",
       "      <td>0.0</td>\n",
       "      <td>0.0</td>\n",
       "      <td>0.0</td>\n",
       "      <td>0.0</td>\n",
       "      <td>0.0</td>\n",
       "    </tr>\n",
       "    <tr>\n",
       "      <th>2</th>\n",
       "      <td>1.0</td>\n",
       "      <td>0.0</td>\n",
       "      <td>0.0</td>\n",
       "      <td>0.0</td>\n",
       "      <td>0.0</td>\n",
       "      <td>0.0</td>\n",
       "      <td>1.0</td>\n",
       "      <td>0.0</td>\n",
       "      <td>0.0</td>\n",
       "      <td>1.0</td>\n",
       "      <td>...</td>\n",
       "      <td>0.0</td>\n",
       "      <td>1.0</td>\n",
       "      <td>0.0</td>\n",
       "      <td>0.0</td>\n",
       "      <td>0.0</td>\n",
       "      <td>1.0</td>\n",
       "      <td>0.0</td>\n",
       "      <td>0.0</td>\n",
       "      <td>0.0</td>\n",
       "      <td>0.0</td>\n",
       "    </tr>\n",
       "    <tr>\n",
       "      <th>3</th>\n",
       "      <td>1.0</td>\n",
       "      <td>1.0</td>\n",
       "      <td>0.0</td>\n",
       "      <td>0.0</td>\n",
       "      <td>0.0</td>\n",
       "      <td>1.0</td>\n",
       "      <td>1.0</td>\n",
       "      <td>0.0</td>\n",
       "      <td>0.0</td>\n",
       "      <td>1.0</td>\n",
       "      <td>...</td>\n",
       "      <td>0.0</td>\n",
       "      <td>1.0</td>\n",
       "      <td>0.0</td>\n",
       "      <td>0.0</td>\n",
       "      <td>0.0</td>\n",
       "      <td>0.0</td>\n",
       "      <td>1.0</td>\n",
       "      <td>0.0</td>\n",
       "      <td>0.0</td>\n",
       "      <td>0.0</td>\n",
       "    </tr>\n",
       "    <tr>\n",
       "      <th>4</th>\n",
       "      <td>1.0</td>\n",
       "      <td>1.0</td>\n",
       "      <td>0.0</td>\n",
       "      <td>0.0</td>\n",
       "      <td>0.0</td>\n",
       "      <td>0.0</td>\n",
       "      <td>0.0</td>\n",
       "      <td>0.0</td>\n",
       "      <td>0.0</td>\n",
       "      <td>0.0</td>\n",
       "      <td>...</td>\n",
       "      <td>0.0</td>\n",
       "      <td>1.0</td>\n",
       "      <td>0.0</td>\n",
       "      <td>0.0</td>\n",
       "      <td>0.0</td>\n",
       "      <td>0.0</td>\n",
       "      <td>0.0</td>\n",
       "      <td>0.0</td>\n",
       "      <td>0.0</td>\n",
       "      <td>0.0</td>\n",
       "    </tr>\n",
       "  </tbody>\n",
       "</table>\n",
       "<p>5 rows × 34 columns</p>\n",
       "</div>"
      ],
      "text/plain": [
       "   x0_It's important for a person to be honest, kind, and loyal.  x1_Yes  \\\n",
       "0                                                0.0                 1.0   \n",
       "1                                                1.0                 0.0   \n",
       "2                                                1.0                 0.0   \n",
       "3                                                1.0                 1.0   \n",
       "4                                                1.0                 1.0   \n",
       "\n",
       "   x2_Not at all  x2_Not much  x2_Some  \\\n",
       "0            0.0          0.0      1.0   \n",
       "1            0.0          1.0      0.0   \n",
       "2            0.0          0.0      0.0   \n",
       "3            0.0          0.0      0.0   \n",
       "4            0.0          0.0      0.0   \n",
       "\n",
       "   x3_Some experts say it's important to drink milk, but the data is inconclusive.  \\\n",
       "0                                                1.0                                 \n",
       "1                                                1.0                                 \n",
       "2                                                0.0                                 \n",
       "3                                                1.0                                 \n",
       "4                                                0.0                                 \n",
       "\n",
       "   x4_Yes  x5_Not at all  x5_Not much  x5_Some  ...  \\\n",
       "0     0.0            0.0          1.0      0.0  ...   \n",
       "1     0.0            0.0          1.0      0.0  ...   \n",
       "2     1.0            0.0          0.0      1.0  ...   \n",
       "3     1.0            0.0          0.0      1.0  ...   \n",
       "4     0.0            0.0          0.0      0.0  ...   \n",
       "\n",
       "   x10_Less than high school degree  x10_Some college or Associate degree  \\\n",
       "0                               0.0                                   0.0   \n",
       "1                               0.0                                   0.0   \n",
       "2                               0.0                                   1.0   \n",
       "3                               0.0                                   1.0   \n",
       "4                               0.0                                   1.0   \n",
       "\n",
       "   x11_East South Central  x11_Middle Atlantic  x11_Mountain  x11_New England  \\\n",
       "0                     0.0                  0.0           0.0              0.0   \n",
       "1                     0.0                  0.0           1.0              0.0   \n",
       "2                     0.0                  0.0           0.0              1.0   \n",
       "3                     0.0                  0.0           0.0              0.0   \n",
       "4                     0.0                  0.0           0.0              0.0   \n",
       "\n",
       "   x11_Pacific  x11_South Atlantic  x11_West North Central  \\\n",
       "0          0.0                 1.0                     0.0   \n",
       "1          0.0                 0.0                     0.0   \n",
       "2          0.0                 0.0                     0.0   \n",
       "3          1.0                 0.0                     0.0   \n",
       "4          0.0                 0.0                     0.0   \n",
       "\n",
       "   x11_West South Central  \n",
       "0                     0.0  \n",
       "1                     0.0  \n",
       "2                     0.0  \n",
       "3                     0.0  \n",
       "4                     0.0  \n",
       "\n",
       "[5 rows x 34 columns]"
      ]
     },
     "execution_count": 19,
     "metadata": {},
     "output_type": "execute_result"
    }
   ],
=======
   "execution_count": null,
   "metadata": {},
   "outputs": [],
>>>>>>> mlf v2
   "source": [
    "comma_df = pd.DataFrame(comma_trans.todense(), columns=ohe.get_feature_names())\n",
    "comma_df.head()"
   ]
  },
  {
   "cell_type": "markdown",
   "metadata": {},
   "source": [
    "## Multiple Regression in `statsmodels`\n",
    "\n",
    "Let's build a multiple regression with `statsmodels`. Let's start with a toy model:"
   ]
  },
  {
   "cell_type": "code",
<<<<<<< HEAD
   "execution_count": 20,
=======
   "execution_count": null,
>>>>>>> mlf v2
   "metadata": {},
   "outputs": [],
   "source": [
    "centers = np.arange(1, 6)\n",
    "preds = np.array([stats.norm(loc=center, scale=3).rvs(200) for center in centers]).T\n",
    "preds_df = pd.DataFrame(preds, columns=[f'var{center}' for center in centers])\n",
    "\n",
    "target = preds_df['var1'] + 2*preds_df['var2'] + 3*preds_df['var3']\\\n",
    "    + 4*preds_df['var4'] + 5*preds_df['var5']\n",
    "target_df = pd.DataFrame(target, columns=['target'])"
   ]
  },
  {
   "cell_type": "code",
<<<<<<< HEAD
   "execution_count": 21,
   "metadata": {},
   "outputs": [
    {
     "data": {
      "text/html": [
       "<div>\n",
       "<style scoped>\n",
       "    .dataframe tbody tr th:only-of-type {\n",
       "        vertical-align: middle;\n",
       "    }\n",
       "\n",
       "    .dataframe tbody tr th {\n",
       "        vertical-align: top;\n",
       "    }\n",
       "\n",
       "    .dataframe thead th {\n",
       "        text-align: right;\n",
       "    }\n",
       "</style>\n",
       "<table border=\"1\" class=\"dataframe\">\n",
       "  <thead>\n",
       "    <tr style=\"text-align: right;\">\n",
       "      <th></th>\n",
       "      <th>var1</th>\n",
       "      <th>var2</th>\n",
       "      <th>var3</th>\n",
       "      <th>var4</th>\n",
       "      <th>var5</th>\n",
       "      <th>target</th>\n",
       "    </tr>\n",
       "  </thead>\n",
       "  <tbody>\n",
       "    <tr>\n",
       "      <th>0</th>\n",
       "      <td>2.887133</td>\n",
       "      <td>0.504579</td>\n",
       "      <td>0.857272</td>\n",
       "      <td>1.003832</td>\n",
       "      <td>4.556682</td>\n",
       "      <td>33.266843</td>\n",
       "    </tr>\n",
       "    <tr>\n",
       "      <th>1</th>\n",
       "      <td>3.355572</td>\n",
       "      <td>9.446344</td>\n",
       "      <td>0.297591</td>\n",
       "      <td>3.118191</td>\n",
       "      <td>6.219867</td>\n",
       "      <td>66.713135</td>\n",
       "    </tr>\n",
       "    <tr>\n",
       "      <th>2</th>\n",
       "      <td>2.397435</td>\n",
       "      <td>-0.828669</td>\n",
       "      <td>6.562013</td>\n",
       "      <td>0.554807</td>\n",
       "      <td>8.069807</td>\n",
       "      <td>62.994401</td>\n",
       "    </tr>\n",
       "    <tr>\n",
       "      <th>3</th>\n",
       "      <td>-3.894462</td>\n",
       "      <td>-1.764068</td>\n",
       "      <td>3.104066</td>\n",
       "      <td>6.639054</td>\n",
       "      <td>1.258373</td>\n",
       "      <td>34.737683</td>\n",
       "    </tr>\n",
       "    <tr>\n",
       "      <th>4</th>\n",
       "      <td>-0.275889</td>\n",
       "      <td>5.638184</td>\n",
       "      <td>-0.153977</td>\n",
       "      <td>0.545513</td>\n",
       "      <td>4.599341</td>\n",
       "      <td>35.717303</td>\n",
       "    </tr>\n",
       "  </tbody>\n",
       "</table>\n",
       "</div>"
      ],
      "text/plain": [
       "       var1      var2      var3      var4      var5     target\n",
       "0  2.887133  0.504579  0.857272  1.003832  4.556682  33.266843\n",
       "1  3.355572  9.446344  0.297591  3.118191  6.219867  66.713135\n",
       "2  2.397435 -0.828669  6.562013  0.554807  8.069807  62.994401\n",
       "3 -3.894462 -1.764068  3.104066  6.639054  1.258373  34.737683\n",
       "4 -0.275889  5.638184 -0.153977  0.545513  4.599341  35.717303"
      ]
     },
     "execution_count": 21,
     "metadata": {},
     "output_type": "execute_result"
    }
   ],
=======
   "execution_count": null,
   "metadata": {},
   "outputs": [],
>>>>>>> mlf v2
   "source": [
    "df = pd.concat([preds_df, target_df], axis=1)\n",
    "\n",
    "df.head()"
   ]
  },
  {
   "cell_type": "code",
<<<<<<< HEAD
   "execution_count": 22,
=======
   "execution_count": null,
>>>>>>> mlf v2
   "metadata": {},
   "outputs": [],
   "source": [
    "X = df.drop('target', axis=1)\n",
    "y = df['target']"
   ]
  },
  {
   "cell_type": "code",
<<<<<<< HEAD
   "execution_count": 23,
=======
   "execution_count": null,
>>>>>>> mlf v2
   "metadata": {},
   "outputs": [],
   "source": [
    "model = sm.OLS(endog=y, exog=X).fit()"
   ]
  },
  {
   "cell_type": "code",
<<<<<<< HEAD
   "execution_count": 24,
   "metadata": {},
   "outputs": [
    {
     "data": {
      "text/html": [
       "<table class=\"simpletable\">\n",
       "<caption>OLS Regression Results</caption>\n",
       "<tr>\n",
       "  <th>Dep. Variable:</th>         <td>target</td>      <th>  R-squared (uncentered):</th>       <td>   1.000</td> \n",
       "</tr>\n",
       "<tr>\n",
       "  <th>Model:</th>                   <td>OLS</td>       <th>  Adj. R-squared (uncentered):</th>  <td>   1.000</td> \n",
       "</tr>\n",
       "<tr>\n",
       "  <th>Method:</th>             <td>Least Squares</td>  <th>  F-statistic:       </th>           <td>1.678e+32</td>\n",
       "</tr>\n",
       "<tr>\n",
       "  <th>Date:</th>             <td>Wed, 10 Mar 2021</td> <th>  Prob (F-statistic):</th>            <td>  0.00</td>  \n",
       "</tr>\n",
       "<tr>\n",
       "  <th>Time:</th>                 <td>05:28:57</td>     <th>  Log-Likelihood:    </th>           <td>  5955.7</td> \n",
       "</tr>\n",
       "<tr>\n",
       "  <th>No. Observations:</th>      <td>   200</td>      <th>  AIC:               </th>          <td>-1.190e+04</td>\n",
       "</tr>\n",
       "<tr>\n",
       "  <th>Df Residuals:</th>          <td>   195</td>      <th>  BIC:               </th>          <td>-1.188e+04</td>\n",
       "</tr>\n",
       "<tr>\n",
       "  <th>Df Model:</th>              <td>     5</td>      <th>                     </th>               <td> </td>    \n",
       "</tr>\n",
       "<tr>\n",
       "  <th>Covariance Type:</th>      <td>nonrobust</td>    <th>                     </th>               <td> </td>    \n",
       "</tr>\n",
       "</table>\n",
       "<table class=\"simpletable\">\n",
       "<tr>\n",
       "    <td></td>      <th>coef</th>     <th>std err</th>      <th>t</th>      <th>P>|t|</th>  <th>[0.025</th>    <th>0.975]</th>  \n",
       "</tr>\n",
       "<tr>\n",
       "  <th>var1</th> <td>    1.0000</td> <td>  6.7e-16</td> <td> 1.49e+15</td> <td> 0.000</td> <td>    1.000</td> <td>    1.000</td>\n",
       "</tr>\n",
       "<tr>\n",
       "  <th>var2</th> <td>    2.0000</td> <td> 6.62e-16</td> <td> 3.02e+15</td> <td> 0.000</td> <td>    2.000</td> <td>    2.000</td>\n",
       "</tr>\n",
       "<tr>\n",
       "  <th>var3</th> <td>    3.0000</td> <td> 6.11e-16</td> <td> 4.91e+15</td> <td> 0.000</td> <td>    3.000</td> <td>    3.000</td>\n",
       "</tr>\n",
       "<tr>\n",
       "  <th>var4</th> <td>    4.0000</td> <td> 5.93e-16</td> <td> 6.74e+15</td> <td> 0.000</td> <td>    4.000</td> <td>    4.000</td>\n",
       "</tr>\n",
       "<tr>\n",
       "  <th>var5</th> <td>    5.0000</td> <td> 5.58e-16</td> <td> 8.96e+15</td> <td> 0.000</td> <td>    5.000</td> <td>    5.000</td>\n",
       "</tr>\n",
       "</table>\n",
       "<table class=\"simpletable\">\n",
       "<tr>\n",
       "  <th>Omnibus:</th>       <td> 1.462</td> <th>  Durbin-Watson:     </th> <td>   0.830</td>\n",
       "</tr>\n",
       "<tr>\n",
       "  <th>Prob(Omnibus):</th> <td> 0.481</td> <th>  Jarque-Bera (JB):  </th> <td>   1.117</td>\n",
       "</tr>\n",
       "<tr>\n",
       "  <th>Skew:</th>          <td>-0.090</td> <th>  Prob(JB):          </th> <td>   0.572</td>\n",
       "</tr>\n",
       "<tr>\n",
       "  <th>Kurtosis:</th>      <td> 3.319</td> <th>  Cond. No.          </th> <td>    2.83</td>\n",
       "</tr>\n",
       "</table><br/><br/>Warnings:<br/>[1] Standard Errors assume that the covariance matrix of the errors is correctly specified."
      ],
      "text/plain": [
       "<class 'statsmodels.iolib.summary.Summary'>\n",
       "\"\"\"\n",
       "                                 OLS Regression Results                                \n",
       "=======================================================================================\n",
       "Dep. Variable:                 target   R-squared (uncentered):                   1.000\n",
       "Model:                            OLS   Adj. R-squared (uncentered):              1.000\n",
       "Method:                 Least Squares   F-statistic:                          1.678e+32\n",
       "Date:                Wed, 10 Mar 2021   Prob (F-statistic):                        0.00\n",
       "Time:                        05:28:57   Log-Likelihood:                          5955.7\n",
       "No. Observations:                 200   AIC:                                 -1.190e+04\n",
       "Df Residuals:                     195   BIC:                                 -1.188e+04\n",
       "Df Model:                           5                                                  \n",
       "Covariance Type:            nonrobust                                                  \n",
       "==============================================================================\n",
       "                 coef    std err          t      P>|t|      [0.025      0.975]\n",
       "------------------------------------------------------------------------------\n",
       "var1           1.0000    6.7e-16   1.49e+15      0.000       1.000       1.000\n",
       "var2           2.0000   6.62e-16   3.02e+15      0.000       2.000       2.000\n",
       "var3           3.0000   6.11e-16   4.91e+15      0.000       3.000       3.000\n",
       "var4           4.0000   5.93e-16   6.74e+15      0.000       4.000       4.000\n",
       "var5           5.0000   5.58e-16   8.96e+15      0.000       5.000       5.000\n",
       "==============================================================================\n",
       "Omnibus:                        1.462   Durbin-Watson:                   0.830\n",
       "Prob(Omnibus):                  0.481   Jarque-Bera (JB):                1.117\n",
       "Skew:                          -0.090   Prob(JB):                        0.572\n",
       "Kurtosis:                       3.319   Cond. No.                         2.83\n",
       "==============================================================================\n",
       "\n",
       "Warnings:\n",
       "[1] Standard Errors assume that the covariance matrix of the errors is correctly specified.\n",
       "\"\"\""
      ]
     },
     "execution_count": 24,
     "metadata": {},
     "output_type": "execute_result"
    }
   ],
=======
   "execution_count": null,
   "metadata": {},
   "outputs": [],
>>>>>>> mlf v2
   "source": [
    "model.summary()"
   ]
  },
  {
   "cell_type": "markdown",
   "metadata": {},
   "source": [
    "### Diamonds Dataset"
   ]
  },
  {
   "cell_type": "code",
<<<<<<< HEAD
   "execution_count": 25,
=======
   "execution_count": null,
>>>>>>> mlf v2
   "metadata": {
    "scrolled": true
   },
   "outputs": [],
   "source": [
    "data = sns.load_dataset('diamonds').drop(['cut', 'color', 'clarity'], axis = 1)"
   ]
  },
  {
   "cell_type": "code",
<<<<<<< HEAD
   "execution_count": 26,
   "metadata": {},
   "outputs": [
    {
     "data": {
      "text/html": [
       "<div>\n",
       "<style scoped>\n",
       "    .dataframe tbody tr th:only-of-type {\n",
       "        vertical-align: middle;\n",
       "    }\n",
       "\n",
       "    .dataframe tbody tr th {\n",
       "        vertical-align: top;\n",
       "    }\n",
       "\n",
       "    .dataframe thead th {\n",
       "        text-align: right;\n",
       "    }\n",
       "</style>\n",
       "<table border=\"1\" class=\"dataframe\">\n",
       "  <thead>\n",
       "    <tr style=\"text-align: right;\">\n",
       "      <th></th>\n",
       "      <th>carat</th>\n",
       "      <th>depth</th>\n",
       "      <th>table</th>\n",
       "      <th>price</th>\n",
       "      <th>x</th>\n",
       "      <th>y</th>\n",
       "      <th>z</th>\n",
       "    </tr>\n",
       "  </thead>\n",
       "  <tbody>\n",
       "    <tr>\n",
       "      <th>0</th>\n",
       "      <td>0.23</td>\n",
       "      <td>61.5</td>\n",
       "      <td>55.0</td>\n",
       "      <td>326</td>\n",
       "      <td>3.95</td>\n",
       "      <td>3.98</td>\n",
       "      <td>2.43</td>\n",
       "    </tr>\n",
       "    <tr>\n",
       "      <th>1</th>\n",
       "      <td>0.21</td>\n",
       "      <td>59.8</td>\n",
       "      <td>61.0</td>\n",
       "      <td>326</td>\n",
       "      <td>3.89</td>\n",
       "      <td>3.84</td>\n",
       "      <td>2.31</td>\n",
       "    </tr>\n",
       "    <tr>\n",
       "      <th>2</th>\n",
       "      <td>0.23</td>\n",
       "      <td>56.9</td>\n",
       "      <td>65.0</td>\n",
       "      <td>327</td>\n",
       "      <td>4.05</td>\n",
       "      <td>4.07</td>\n",
       "      <td>2.31</td>\n",
       "    </tr>\n",
       "    <tr>\n",
       "      <th>3</th>\n",
       "      <td>0.29</td>\n",
       "      <td>62.4</td>\n",
       "      <td>58.0</td>\n",
       "      <td>334</td>\n",
       "      <td>4.20</td>\n",
       "      <td>4.23</td>\n",
       "      <td>2.63</td>\n",
       "    </tr>\n",
       "    <tr>\n",
       "      <th>4</th>\n",
       "      <td>0.31</td>\n",
       "      <td>63.3</td>\n",
       "      <td>58.0</td>\n",
       "      <td>335</td>\n",
       "      <td>4.34</td>\n",
       "      <td>4.35</td>\n",
       "      <td>2.75</td>\n",
       "    </tr>\n",
       "  </tbody>\n",
       "</table>\n",
       "</div>"
      ],
      "text/plain": [
       "   carat  depth  table  price     x     y     z\n",
       "0   0.23   61.5   55.0    326  3.95  3.98  2.43\n",
       "1   0.21   59.8   61.0    326  3.89  3.84  2.31\n",
       "2   0.23   56.9   65.0    327  4.05  4.07  2.31\n",
       "3   0.29   62.4   58.0    334  4.20  4.23  2.63\n",
       "4   0.31   63.3   58.0    335  4.34  4.35  2.75"
      ]
     },
     "execution_count": 26,
     "metadata": {},
     "output_type": "execute_result"
    }
   ],
=======
   "execution_count": null,
   "metadata": {},
   "outputs": [],
>>>>>>> mlf v2
   "source": [
    "data.head()"
   ]
  },
  {
   "cell_type": "code",
<<<<<<< HEAD
   "execution_count": 27,
=======
   "execution_count": null,
>>>>>>> mlf v2
   "metadata": {},
   "outputs": [],
   "source": [
    "X, y = data.drop('price', axis=1), data['price']"
   ]
  },
  {
   "cell_type": "code",
<<<<<<< HEAD
   "execution_count": 28,
   "metadata": {},
   "outputs": [
    {
     "data": {
      "text/html": [
       "<table class=\"simpletable\">\n",
       "<caption>OLS Regression Results</caption>\n",
       "<tr>\n",
       "  <th>Dep. Variable:</th>          <td>price</td>      <th>  R-squared (uncentered):</th>       <td>   0.926</td>  \n",
       "</tr>\n",
       "<tr>\n",
       "  <th>Model:</th>                   <td>OLS</td>       <th>  Adj. R-squared (uncentered):</th>  <td>   0.926</td>  \n",
       "</tr>\n",
       "<tr>\n",
       "  <th>Method:</th>             <td>Least Squares</td>  <th>  F-statistic:       </th>           <td>1.120e+05</td> \n",
       "</tr>\n",
       "<tr>\n",
       "  <th>Date:</th>             <td>Wed, 10 Mar 2021</td> <th>  Prob (F-statistic):</th>            <td>  0.00</td>   \n",
       "</tr>\n",
       "<tr>\n",
       "  <th>Time:</th>                 <td>05:28:57</td>     <th>  Log-Likelihood:    </th>          <td>-4.7196e+05</td>\n",
       "</tr>\n",
       "<tr>\n",
       "  <th>No. Observations:</th>      <td> 53940</td>      <th>  AIC:               </th>           <td>9.439e+05</td> \n",
       "</tr>\n",
       "<tr>\n",
       "  <th>Df Residuals:</th>          <td> 53934</td>      <th>  BIC:               </th>           <td>9.440e+05</td> \n",
       "</tr>\n",
       "<tr>\n",
       "  <th>Df Model:</th>              <td>     6</td>      <th>                     </th>               <td> </td>     \n",
       "</tr>\n",
       "<tr>\n",
       "  <th>Covariance Type:</th>      <td>nonrobust</td>    <th>                     </th>               <td> </td>     \n",
       "</tr>\n",
       "</table>\n",
       "<table class=\"simpletable\">\n",
       "<tr>\n",
       "    <td></td>       <th>coef</th>     <th>std err</th>      <th>t</th>      <th>P>|t|</th>  <th>[0.025</th>    <th>0.975]</th>  \n",
       "</tr>\n",
       "<tr>\n",
       "  <th>carat</th> <td> 9533.9516</td> <td>   59.317</td> <td>  160.730</td> <td> 0.000</td> <td> 9417.691</td> <td> 9650.213</td>\n",
       "</tr>\n",
       "<tr>\n",
       "  <th>depth</th> <td>   28.2911</td> <td>    2.416</td> <td>   11.712</td> <td> 0.000</td> <td>   23.556</td> <td>   33.026</td>\n",
       "</tr>\n",
       "<tr>\n",
       "  <th>table</th> <td>  -18.8220</td> <td>    2.558</td> <td>   -7.358</td> <td> 0.000</td> <td>  -23.836</td> <td>  -13.808</td>\n",
       "</tr>\n",
       "<tr>\n",
       "  <th>x</th>     <td> -522.6300</td> <td>   40.351</td> <td>  -12.952</td> <td> 0.000</td> <td> -601.718</td> <td> -443.542</td>\n",
       "</tr>\n",
       "<tr>\n",
       "  <th>y</th>     <td>  182.3295</td> <td>   25.907</td> <td>    7.038</td> <td> 0.000</td> <td>  131.552</td> <td>  233.107</td>\n",
       "</tr>\n",
       "<tr>\n",
       "  <th>z</th>     <td> -676.7502</td> <td>   42.361</td> <td>  -15.976</td> <td> 0.000</td> <td> -759.778</td> <td> -593.722</td>\n",
       "</tr>\n",
       "</table>\n",
       "<table class=\"simpletable\">\n",
       "<tr>\n",
       "  <th>Omnibus:</th>       <td>14555.339</td> <th>  Durbin-Watson:     </th>  <td>   1.147</td> \n",
       "</tr>\n",
       "<tr>\n",
       "  <th>Prob(Omnibus):</th>  <td> 0.000</td>   <th>  Jarque-Bera (JB):  </th> <td>287131.956</td>\n",
       "</tr>\n",
       "<tr>\n",
       "  <th>Skew:</th>           <td> 0.809</td>   <th>  Prob(JB):          </th>  <td>    0.00</td> \n",
       "</tr>\n",
       "<tr>\n",
       "  <th>Kurtosis:</th>       <td>14.186</td>   <th>  Cond. No.          </th>  <td>    829.</td> \n",
       "</tr>\n",
       "</table><br/><br/>Warnings:<br/>[1] Standard Errors assume that the covariance matrix of the errors is correctly specified."
      ],
      "text/plain": [
       "<class 'statsmodels.iolib.summary.Summary'>\n",
       "\"\"\"\n",
       "                                 OLS Regression Results                                \n",
       "=======================================================================================\n",
       "Dep. Variable:                  price   R-squared (uncentered):                   0.926\n",
       "Model:                            OLS   Adj. R-squared (uncentered):              0.926\n",
       "Method:                 Least Squares   F-statistic:                          1.120e+05\n",
       "Date:                Wed, 10 Mar 2021   Prob (F-statistic):                        0.00\n",
       "Time:                        05:28:57   Log-Likelihood:                     -4.7196e+05\n",
       "No. Observations:               53940   AIC:                                  9.439e+05\n",
       "Df Residuals:                   53934   BIC:                                  9.440e+05\n",
       "Df Model:                           6                                                  \n",
       "Covariance Type:            nonrobust                                                  \n",
       "==============================================================================\n",
       "                 coef    std err          t      P>|t|      [0.025      0.975]\n",
       "------------------------------------------------------------------------------\n",
       "carat       9533.9516     59.317    160.730      0.000    9417.691    9650.213\n",
       "depth         28.2911      2.416     11.712      0.000      23.556      33.026\n",
       "table        -18.8220      2.558     -7.358      0.000     -23.836     -13.808\n",
       "x           -522.6300     40.351    -12.952      0.000    -601.718    -443.542\n",
       "y            182.3295     25.907      7.038      0.000     131.552     233.107\n",
       "z           -676.7502     42.361    -15.976      0.000    -759.778    -593.722\n",
       "==============================================================================\n",
       "Omnibus:                    14555.339   Durbin-Watson:                   1.147\n",
       "Prob(Omnibus):                  0.000   Jarque-Bera (JB):           287131.956\n",
       "Skew:                           0.809   Prob(JB):                         0.00\n",
       "Kurtosis:                      14.186   Cond. No.                         829.\n",
       "==============================================================================\n",
       "\n",
       "Warnings:\n",
       "[1] Standard Errors assume that the covariance matrix of the errors is correctly specified.\n",
       "\"\"\""
      ]
     },
     "execution_count": 28,
     "metadata": {},
     "output_type": "execute_result"
    }
   ],
=======
   "execution_count": null,
   "metadata": {},
   "outputs": [],
>>>>>>> mlf v2
   "source": [
    "model2 = sm.OLS(y, X).fit()\n",
    "model2.summary()"
   ]
  },
  {
   "cell_type": "code",
<<<<<<< HEAD
   "execution_count": 29,
   "metadata": {
    "scrolled": true
   },
   "outputs": [
    {
     "data": {
      "image/png": "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\n",
      "text/plain": [
       "<Figure size 864x576 with 4 Axes>"
      ]
     },
     "metadata": {
      "needs_background": "light"
     },
     "output_type": "display_data"
    }
   ],
=======
   "execution_count": null,
   "metadata": {
    "scrolled": true
   },
   "outputs": [],
>>>>>>> mlf v2
   "source": [
    "sm.graphics.plot_regress_exog(model2, 'carat', fig=plt.figure(figsize=(12, 8)));"
   ]
  },
  {
   "cell_type": "markdown",
   "metadata": {},
   "source": [
    "#### Check distribution of target"
   ]
  },
  {
   "cell_type": "code",
<<<<<<< HEAD
   "execution_count": 30,
   "metadata": {},
   "outputs": [
    {
     "data": {
      "image/png": "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\n",
      "text/plain": [
       "<Figure size 432x288 with 1 Axes>"
      ]
     },
     "metadata": {
      "needs_background": "light"
     },
     "output_type": "display_data"
    }
   ],
=======
   "execution_count": null,
   "metadata": {},
   "outputs": [],
>>>>>>> mlf v2
   "source": [
    "y.hist();"
   ]
  },
  {
   "cell_type": "code",
<<<<<<< HEAD
   "execution_count": 31,
   "metadata": {},
   "outputs": [
    {
     "data": {
      "image/png": "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\n",
      "text/plain": [
       "<Figure size 432x288 with 1 Axes>"
      ]
     },
     "metadata": {
      "needs_background": "light"
     },
     "output_type": "display_data"
    }
   ],
=======
   "execution_count": null,
   "metadata": {},
   "outputs": [],
>>>>>>> mlf v2
   "source": [
    "y_scld = np.log(y)\n",
    "y_scld.hist();"
   ]
  },
  {
   "cell_type": "markdown",
   "metadata": {},
   "source": [
    "#### Build model with log-scaled target"
   ]
  },
  {
   "cell_type": "code",
<<<<<<< HEAD
   "execution_count": 32,
   "metadata": {},
   "outputs": [
    {
     "data": {
      "text/html": [
       "<table class=\"simpletable\">\n",
       "<caption>OLS Regression Results</caption>\n",
       "<tr>\n",
       "  <th>Dep. Variable:</th>          <td>price</td>      <th>  R-squared (uncentered):</th>      <td>   0.999</td> \n",
       "</tr>\n",
       "<tr>\n",
       "  <th>Model:</th>                   <td>OLS</td>       <th>  Adj. R-squared (uncentered):</th> <td>   0.999</td> \n",
       "</tr>\n",
       "<tr>\n",
       "  <th>Method:</th>             <td>Least Squares</td>  <th>  F-statistic:       </th>          <td>7.072e+06</td>\n",
       "</tr>\n",
       "<tr>\n",
       "  <th>Date:</th>             <td>Wed, 10 Mar 2021</td> <th>  Prob (F-statistic):</th>           <td>  0.00</td>  \n",
       "</tr>\n",
       "<tr>\n",
       "  <th>Time:</th>                 <td>05:28:59</td>     <th>  Log-Likelihood:    </th>          <td> -7833.4</td> \n",
       "</tr>\n",
       "<tr>\n",
       "  <th>No. Observations:</th>      <td> 53940</td>      <th>  AIC:               </th>          <td>1.568e+04</td>\n",
       "</tr>\n",
       "<tr>\n",
       "  <th>Df Residuals:</th>          <td> 53934</td>      <th>  BIC:               </th>          <td>1.573e+04</td>\n",
       "</tr>\n",
       "<tr>\n",
       "  <th>Df Model:</th>              <td>     6</td>      <th>                     </th>              <td> </td>    \n",
       "</tr>\n",
       "<tr>\n",
       "  <th>Covariance Type:</th>      <td>nonrobust</td>    <th>                     </th>              <td> </td>    \n",
       "</tr>\n",
       "</table>\n",
       "<table class=\"simpletable\">\n",
       "<tr>\n",
       "    <td></td>       <th>coef</th>     <th>std err</th>      <th>t</th>      <th>P>|t|</th>  <th>[0.025</th>    <th>0.975]</th>  \n",
       "</tr>\n",
       "<tr>\n",
       "  <th>carat</th> <td>   -0.7522</td> <td>    0.011</td> <td>  -69.197</td> <td> 0.000</td> <td>   -0.774</td> <td>   -0.731</td>\n",
       "</tr>\n",
       "<tr>\n",
       "  <th>depth</th> <td>    0.0319</td> <td>    0.000</td> <td>   72.131</td> <td> 0.000</td> <td>    0.031</td> <td>    0.033</td>\n",
       "</tr>\n",
       "<tr>\n",
       "  <th>table</th> <td>   -0.0062</td> <td>    0.000</td> <td>  -13.212</td> <td> 0.000</td> <td>   -0.007</td> <td>   -0.005</td>\n",
       "</tr>\n",
       "<tr>\n",
       "  <th>x</th>     <td>    1.1098</td> <td>    0.007</td> <td>  150.072</td> <td> 0.000</td> <td>    1.095</td> <td>    1.124</td>\n",
       "</tr>\n",
       "<tr>\n",
       "  <th>y</th>     <td>    0.0506</td> <td>    0.005</td> <td>   10.660</td> <td> 0.000</td> <td>    0.041</td> <td>    0.060</td>\n",
       "</tr>\n",
       "<tr>\n",
       "  <th>z</th>     <td>    0.0340</td> <td>    0.008</td> <td>    4.377</td> <td> 0.000</td> <td>    0.019</td> <td>    0.049</td>\n",
       "</tr>\n",
       "</table>\n",
       "<table class=\"simpletable\">\n",
       "<tr>\n",
       "  <th>Omnibus:</th>       <td>50951.621</td> <th>  Durbin-Watson:     </th>   <td>   1.363</td>  \n",
       "</tr>\n",
       "<tr>\n",
       "  <th>Prob(Omnibus):</th>  <td> 0.000</td>   <th>  Jarque-Bera (JB):  </th> <td>28055158.482</td>\n",
       "</tr>\n",
       "<tr>\n",
       "  <th>Skew:</th>           <td> 3.704</td>   <th>  Prob(JB):          </th>   <td>    0.00</td>  \n",
       "</tr>\n",
       "<tr>\n",
       "  <th>Kurtosis:</th>       <td>114.481</td>  <th>  Cond. No.          </th>   <td>    829.</td>  \n",
       "</tr>\n",
       "</table><br/><br/>Warnings:<br/>[1] Standard Errors assume that the covariance matrix of the errors is correctly specified."
      ],
      "text/plain": [
       "<class 'statsmodels.iolib.summary.Summary'>\n",
       "\"\"\"\n",
       "                                 OLS Regression Results                                \n",
       "=======================================================================================\n",
       "Dep. Variable:                  price   R-squared (uncentered):                   0.999\n",
       "Model:                            OLS   Adj. R-squared (uncentered):              0.999\n",
       "Method:                 Least Squares   F-statistic:                          7.072e+06\n",
       "Date:                Wed, 10 Mar 2021   Prob (F-statistic):                        0.00\n",
       "Time:                        05:28:59   Log-Likelihood:                         -7833.4\n",
       "No. Observations:               53940   AIC:                                  1.568e+04\n",
       "Df Residuals:                   53934   BIC:                                  1.573e+04\n",
       "Df Model:                           6                                                  \n",
       "Covariance Type:            nonrobust                                                  \n",
       "==============================================================================\n",
       "                 coef    std err          t      P>|t|      [0.025      0.975]\n",
       "------------------------------------------------------------------------------\n",
       "carat         -0.7522      0.011    -69.197      0.000      -0.774      -0.731\n",
       "depth          0.0319      0.000     72.131      0.000       0.031       0.033\n",
       "table         -0.0062      0.000    -13.212      0.000      -0.007      -0.005\n",
       "x              1.1098      0.007    150.072      0.000       1.095       1.124\n",
       "y              0.0506      0.005     10.660      0.000       0.041       0.060\n",
       "z              0.0340      0.008      4.377      0.000       0.019       0.049\n",
       "==============================================================================\n",
       "Omnibus:                    50951.621   Durbin-Watson:                   1.363\n",
       "Prob(Omnibus):                  0.000   Jarque-Bera (JB):         28055158.482\n",
       "Skew:                           3.704   Prob(JB):                         0.00\n",
       "Kurtosis:                     114.481   Cond. No.                         829.\n",
       "==============================================================================\n",
       "\n",
       "Warnings:\n",
       "[1] Standard Errors assume that the covariance matrix of the errors is correctly specified.\n",
       "\"\"\""
      ]
     },
     "execution_count": 32,
     "metadata": {},
     "output_type": "execute_result"
    }
   ],
=======
   "execution_count": null,
   "metadata": {},
   "outputs": [],
>>>>>>> mlf v2
   "source": [
    "model3 = sm.OLS(y_scld, X).fit()\n",
    "model3.summary()"
   ]
  },
  {
   "cell_type": "code",
<<<<<<< HEAD
   "execution_count": 33,
   "metadata": {},
   "outputs": [
    {
     "data": {
      "image/png": "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\n",
      "text/plain": [
       "<Figure size 864x576 with 4 Axes>"
      ]
     },
     "metadata": {
      "needs_background": "light"
     },
     "output_type": "display_data"
    }
   ],
=======
   "execution_count": null,
   "metadata": {},
   "outputs": [],
>>>>>>> mlf v2
   "source": [
    "sm.graphics.plot_regress_exog(model3, 'carat', fig=plt.figure(figsize=(12, 8)));"
   ]
  },
  {
   "cell_type": "markdown",
   "metadata": {},
   "source": [
    "**Remember that $R^2$ can be negative!**"
   ]
  },
  {
   "cell_type": "code",
<<<<<<< HEAD
   "execution_count": 34,
   "metadata": {},
   "outputs": [
    {
     "name": "stdout",
     "output_type": "stream",
     "text": [
      "0.0\n",
      "-0.06283248452205892\n"
     ]
    }
   ],
=======
   "execution_count": null,
   "metadata": {},
   "outputs": [],
>>>>>>> mlf v2
   "source": [
    "bad_pred = np.mean(y) * np.ones(len(y))\n",
    "worse_pred = (np.mean(y) + 1000) * np.ones(len(y))\n",
    "\n",
    "print(metrics.r2_score(y, bad_pred))\n",
    "print(metrics.r2_score(y, worse_pred))"
   ]
  },
  {
   "cell_type": "markdown",
   "metadata": {},
   "source": [
    "# Putting it in Practice: Wine Dataset 🍷\n",
    "\n",
    "This dataset includes measurable attributes of different wines as well as their rated quality.\n",
    "\n",
    "Imagine we want to attempt to estimate the perceived quality of a wine using these attributes."
   ]
  },
  {
   "cell_type": "code",
<<<<<<< HEAD
   "execution_count": 35,
   "metadata": {},
   "outputs": [
    {
     "data": {
      "text/html": [
       "<div>\n",
       "<style scoped>\n",
       "    .dataframe tbody tr th:only-of-type {\n",
       "        vertical-align: middle;\n",
       "    }\n",
       "\n",
       "    .dataframe tbody tr th {\n",
       "        vertical-align: top;\n",
       "    }\n",
       "\n",
       "    .dataframe thead th {\n",
       "        text-align: right;\n",
       "    }\n",
       "</style>\n",
       "<table border=\"1\" class=\"dataframe\">\n",
       "  <thead>\n",
       "    <tr style=\"text-align: right;\">\n",
       "      <th></th>\n",
       "      <th>fixed acidity</th>\n",
       "      <th>volatile acidity</th>\n",
       "      <th>citric acid</th>\n",
       "      <th>residual sugar</th>\n",
       "      <th>chlorides</th>\n",
       "      <th>free sulfur dioxide</th>\n",
       "      <th>total sulfur dioxide</th>\n",
       "      <th>density</th>\n",
       "      <th>pH</th>\n",
       "      <th>sulphates</th>\n",
       "      <th>alcohol</th>\n",
       "      <th>quality</th>\n",
       "      <th>red_wine</th>\n",
       "    </tr>\n",
       "  </thead>\n",
       "  <tbody>\n",
       "    <tr>\n",
       "      <th>0</th>\n",
       "      <td>7.4</td>\n",
       "      <td>0.70</td>\n",
       "      <td>0.00</td>\n",
       "      <td>1.9</td>\n",
       "      <td>0.076</td>\n",
       "      <td>11.0</td>\n",
       "      <td>34.0</td>\n",
       "      <td>0.9978</td>\n",
       "      <td>3.51</td>\n",
       "      <td>0.56</td>\n",
       "      <td>9.4</td>\n",
       "      <td>5</td>\n",
       "      <td>1</td>\n",
       "    </tr>\n",
       "    <tr>\n",
       "      <th>1</th>\n",
       "      <td>7.8</td>\n",
       "      <td>0.88</td>\n",
       "      <td>0.00</td>\n",
       "      <td>2.6</td>\n",
       "      <td>0.098</td>\n",
       "      <td>25.0</td>\n",
       "      <td>67.0</td>\n",
       "      <td>0.9968</td>\n",
       "      <td>3.20</td>\n",
       "      <td>0.68</td>\n",
       "      <td>9.8</td>\n",
       "      <td>5</td>\n",
       "      <td>1</td>\n",
       "    </tr>\n",
       "    <tr>\n",
       "      <th>2</th>\n",
       "      <td>7.8</td>\n",
       "      <td>0.76</td>\n",
       "      <td>0.04</td>\n",
       "      <td>2.3</td>\n",
       "      <td>0.092</td>\n",
       "      <td>15.0</td>\n",
       "      <td>54.0</td>\n",
       "      <td>0.9970</td>\n",
       "      <td>3.26</td>\n",
       "      <td>0.65</td>\n",
       "      <td>9.8</td>\n",
       "      <td>5</td>\n",
       "      <td>1</td>\n",
       "    </tr>\n",
       "    <tr>\n",
       "      <th>3</th>\n",
       "      <td>11.2</td>\n",
       "      <td>0.28</td>\n",
       "      <td>0.56</td>\n",
       "      <td>1.9</td>\n",
       "      <td>0.075</td>\n",
       "      <td>17.0</td>\n",
       "      <td>60.0</td>\n",
       "      <td>0.9980</td>\n",
       "      <td>3.16</td>\n",
       "      <td>0.58</td>\n",
       "      <td>9.8</td>\n",
       "      <td>6</td>\n",
       "      <td>1</td>\n",
       "    </tr>\n",
       "    <tr>\n",
       "      <th>4</th>\n",
       "      <td>7.4</td>\n",
       "      <td>0.70</td>\n",
       "      <td>0.00</td>\n",
       "      <td>1.9</td>\n",
       "      <td>0.076</td>\n",
       "      <td>11.0</td>\n",
       "      <td>34.0</td>\n",
       "      <td>0.9978</td>\n",
       "      <td>3.51</td>\n",
       "      <td>0.56</td>\n",
       "      <td>9.4</td>\n",
       "      <td>5</td>\n",
       "      <td>1</td>\n",
       "    </tr>\n",
       "  </tbody>\n",
       "</table>\n",
       "</div>"
      ],
      "text/plain": [
       "   fixed acidity  volatile acidity  citric acid  residual sugar  chlorides  \\\n",
       "0            7.4              0.70         0.00             1.9      0.076   \n",
       "1            7.8              0.88         0.00             2.6      0.098   \n",
       "2            7.8              0.76         0.04             2.3      0.092   \n",
       "3           11.2              0.28         0.56             1.9      0.075   \n",
       "4            7.4              0.70         0.00             1.9      0.076   \n",
       "\n",
       "   free sulfur dioxide  total sulfur dioxide  density    pH  sulphates  \\\n",
       "0                 11.0                  34.0   0.9978  3.51       0.56   \n",
       "1                 25.0                  67.0   0.9968  3.20       0.68   \n",
       "2                 15.0                  54.0   0.9970  3.26       0.65   \n",
       "3                 17.0                  60.0   0.9980  3.16       0.58   \n",
       "4                 11.0                  34.0   0.9978  3.51       0.56   \n",
       "\n",
       "   alcohol  quality  red_wine  \n",
       "0      9.4        5         1  \n",
       "1      9.8        5         1  \n",
       "2      9.8        5         1  \n",
       "3      9.8        6         1  \n",
       "4      9.4        5         1  "
      ]
     },
     "execution_count": 35,
     "metadata": {},
     "output_type": "execute_result"
    }
   ],
=======
   "execution_count": null,
   "metadata": {},
   "outputs": [],
>>>>>>> mlf v2
   "source": [
    "wine = pd.read_csv('data/wine.csv')\n",
    "\n",
    "wine.head()"
   ]
  },
  {
   "cell_type": "code",
<<<<<<< HEAD
   "execution_count": 36,
   "metadata": {},
   "outputs": [
    {
     "data": {
      "text/plain": [
       "6    2836\n",
       "5    2138\n",
       "7    1079\n",
       "4     216\n",
       "8     193\n",
       "3      30\n",
       "9       5\n",
       "Name: quality, dtype: int64"
      ]
     },
     "execution_count": 36,
     "metadata": {},
     "output_type": "execute_result"
    }
   ],
=======
   "execution_count": null,
   "metadata": {},
   "outputs": [],
>>>>>>> mlf v2
   "source": [
    "wine['quality'].value_counts()"
   ]
  },
  {
   "cell_type": "code",
<<<<<<< HEAD
   "execution_count": 37,
   "metadata": {},
   "outputs": [
    {
     "data": {
      "text/plain": [
       "0    4898\n",
       "1    1599\n",
       "Name: red_wine, dtype: int64"
      ]
     },
     "execution_count": 37,
     "metadata": {},
     "output_type": "execute_result"
    }
   ],
=======
   "execution_count": null,
   "metadata": {},
   "outputs": [],
>>>>>>> mlf v2
   "source": [
    "wine['red_wine'].value_counts()"
   ]
  },
  {
   "cell_type": "code",
<<<<<<< HEAD
   "execution_count": 38,
   "metadata": {
    "scrolled": true
   },
   "outputs": [
    {
     "name": "stdout",
     "output_type": "stream",
     "text": [
      "<class 'pandas.core.frame.DataFrame'>\n",
      "RangeIndex: 6497 entries, 0 to 6496\n",
      "Data columns (total 13 columns):\n",
      " #   Column                Non-Null Count  Dtype  \n",
      "---  ------                --------------  -----  \n",
      " 0   fixed acidity         6497 non-null   float64\n",
      " 1   volatile acidity      6497 non-null   float64\n",
      " 2   citric acid           6497 non-null   float64\n",
      " 3   residual sugar        6497 non-null   float64\n",
      " 4   chlorides             6497 non-null   float64\n",
      " 5   free sulfur dioxide   6497 non-null   float64\n",
      " 6   total sulfur dioxide  6497 non-null   float64\n",
      " 7   density               6497 non-null   float64\n",
      " 8   pH                    6497 non-null   float64\n",
      " 9   sulphates             6497 non-null   float64\n",
      " 10  alcohol               6497 non-null   float64\n",
      " 11  quality               6497 non-null   int64  \n",
      " 12  red_wine              6497 non-null   int64  \n",
      "dtypes: float64(11), int64(2)\n",
      "memory usage: 660.0 KB\n"
     ]
    }
   ],
=======
   "execution_count": null,
   "metadata": {
    "scrolled": true
   },
   "outputs": [],
>>>>>>> mlf v2
   "source": [
    "wine.info()"
   ]
  },
  {
   "cell_type": "code",
<<<<<<< HEAD
   "execution_count": 39,
   "metadata": {},
   "outputs": [
    {
     "data": {
      "text/html": [
       "<div>\n",
       "<style scoped>\n",
       "    .dataframe tbody tr th:only-of-type {\n",
       "        vertical-align: middle;\n",
       "    }\n",
       "\n",
       "    .dataframe tbody tr th {\n",
       "        vertical-align: top;\n",
       "    }\n",
       "\n",
       "    .dataframe thead th {\n",
       "        text-align: right;\n",
       "    }\n",
       "</style>\n",
       "<table border=\"1\" class=\"dataframe\">\n",
       "  <thead>\n",
       "    <tr style=\"text-align: right;\">\n",
       "      <th></th>\n",
       "      <th>fixed acidity</th>\n",
       "      <th>volatile acidity</th>\n",
       "      <th>citric acid</th>\n",
       "      <th>residual sugar</th>\n",
       "      <th>chlorides</th>\n",
       "      <th>free sulfur dioxide</th>\n",
       "      <th>total sulfur dioxide</th>\n",
       "      <th>density</th>\n",
       "      <th>pH</th>\n",
       "      <th>sulphates</th>\n",
       "      <th>alcohol</th>\n",
       "      <th>quality</th>\n",
       "      <th>red_wine</th>\n",
       "    </tr>\n",
       "  </thead>\n",
       "  <tbody>\n",
       "    <tr>\n",
       "      <th>count</th>\n",
       "      <td>6497.000000</td>\n",
       "      <td>6497.000000</td>\n",
       "      <td>6497.000000</td>\n",
       "      <td>6497.000000</td>\n",
       "      <td>6497.000000</td>\n",
       "      <td>6497.000000</td>\n",
       "      <td>6497.000000</td>\n",
       "      <td>6497.000000</td>\n",
       "      <td>6497.000000</td>\n",
       "      <td>6497.000000</td>\n",
       "      <td>6497.000000</td>\n",
       "      <td>6497.000000</td>\n",
       "      <td>6497.000000</td>\n",
       "    </tr>\n",
       "    <tr>\n",
       "      <th>mean</th>\n",
       "      <td>7.215307</td>\n",
       "      <td>0.339666</td>\n",
       "      <td>0.318633</td>\n",
       "      <td>5.443235</td>\n",
       "      <td>0.056034</td>\n",
       "      <td>30.525319</td>\n",
       "      <td>115.744574</td>\n",
       "      <td>0.994697</td>\n",
       "      <td>3.218501</td>\n",
       "      <td>0.531268</td>\n",
       "      <td>10.491801</td>\n",
       "      <td>5.818378</td>\n",
       "      <td>0.246114</td>\n",
       "    </tr>\n",
       "    <tr>\n",
       "      <th>std</th>\n",
       "      <td>1.296434</td>\n",
       "      <td>0.164636</td>\n",
       "      <td>0.145318</td>\n",
       "      <td>4.757804</td>\n",
       "      <td>0.035034</td>\n",
       "      <td>17.749400</td>\n",
       "      <td>56.521855</td>\n",
       "      <td>0.002999</td>\n",
       "      <td>0.160787</td>\n",
       "      <td>0.148806</td>\n",
       "      <td>1.192712</td>\n",
       "      <td>0.873255</td>\n",
       "      <td>0.430779</td>\n",
       "    </tr>\n",
       "    <tr>\n",
       "      <th>min</th>\n",
       "      <td>3.800000</td>\n",
       "      <td>0.080000</td>\n",
       "      <td>0.000000</td>\n",
       "      <td>0.600000</td>\n",
       "      <td>0.009000</td>\n",
       "      <td>1.000000</td>\n",
       "      <td>6.000000</td>\n",
       "      <td>0.987110</td>\n",
       "      <td>2.720000</td>\n",
       "      <td>0.220000</td>\n",
       "      <td>8.000000</td>\n",
       "      <td>3.000000</td>\n",
       "      <td>0.000000</td>\n",
       "    </tr>\n",
       "    <tr>\n",
       "      <th>25%</th>\n",
       "      <td>6.400000</td>\n",
       "      <td>0.230000</td>\n",
       "      <td>0.250000</td>\n",
       "      <td>1.800000</td>\n",
       "      <td>0.038000</td>\n",
       "      <td>17.000000</td>\n",
       "      <td>77.000000</td>\n",
       "      <td>0.992340</td>\n",
       "      <td>3.110000</td>\n",
       "      <td>0.430000</td>\n",
       "      <td>9.500000</td>\n",
       "      <td>5.000000</td>\n",
       "      <td>0.000000</td>\n",
       "    </tr>\n",
       "    <tr>\n",
       "      <th>50%</th>\n",
       "      <td>7.000000</td>\n",
       "      <td>0.290000</td>\n",
       "      <td>0.310000</td>\n",
       "      <td>3.000000</td>\n",
       "      <td>0.047000</td>\n",
       "      <td>29.000000</td>\n",
       "      <td>118.000000</td>\n",
       "      <td>0.994890</td>\n",
       "      <td>3.210000</td>\n",
       "      <td>0.510000</td>\n",
       "      <td>10.300000</td>\n",
       "      <td>6.000000</td>\n",
       "      <td>0.000000</td>\n",
       "    </tr>\n",
       "    <tr>\n",
       "      <th>75%</th>\n",
       "      <td>7.700000</td>\n",
       "      <td>0.400000</td>\n",
       "      <td>0.390000</td>\n",
       "      <td>8.100000</td>\n",
       "      <td>0.065000</td>\n",
       "      <td>41.000000</td>\n",
       "      <td>156.000000</td>\n",
       "      <td>0.996990</td>\n",
       "      <td>3.320000</td>\n",
       "      <td>0.600000</td>\n",
       "      <td>11.300000</td>\n",
       "      <td>6.000000</td>\n",
       "      <td>0.000000</td>\n",
       "    </tr>\n",
       "    <tr>\n",
       "      <th>max</th>\n",
       "      <td>15.900000</td>\n",
       "      <td>1.580000</td>\n",
       "      <td>1.660000</td>\n",
       "      <td>65.800000</td>\n",
       "      <td>0.611000</td>\n",
       "      <td>289.000000</td>\n",
       "      <td>440.000000</td>\n",
       "      <td>1.038980</td>\n",
       "      <td>4.010000</td>\n",
       "      <td>2.000000</td>\n",
       "      <td>14.900000</td>\n",
       "      <td>9.000000</td>\n",
       "      <td>1.000000</td>\n",
       "    </tr>\n",
       "  </tbody>\n",
       "</table>\n",
       "</div>"
      ],
      "text/plain": [
       "       fixed acidity  volatile acidity  citric acid  residual sugar  \\\n",
       "count    6497.000000       6497.000000  6497.000000     6497.000000   \n",
       "mean        7.215307          0.339666     0.318633        5.443235   \n",
       "std         1.296434          0.164636     0.145318        4.757804   \n",
       "min         3.800000          0.080000     0.000000        0.600000   \n",
       "25%         6.400000          0.230000     0.250000        1.800000   \n",
       "50%         7.000000          0.290000     0.310000        3.000000   \n",
       "75%         7.700000          0.400000     0.390000        8.100000   \n",
       "max        15.900000          1.580000     1.660000       65.800000   \n",
       "\n",
       "         chlorides  free sulfur dioxide  total sulfur dioxide      density  \\\n",
       "count  6497.000000          6497.000000           6497.000000  6497.000000   \n",
       "mean      0.056034            30.525319            115.744574     0.994697   \n",
       "std       0.035034            17.749400             56.521855     0.002999   \n",
       "min       0.009000             1.000000              6.000000     0.987110   \n",
       "25%       0.038000            17.000000             77.000000     0.992340   \n",
       "50%       0.047000            29.000000            118.000000     0.994890   \n",
       "75%       0.065000            41.000000            156.000000     0.996990   \n",
       "max       0.611000           289.000000            440.000000     1.038980   \n",
       "\n",
       "                pH    sulphates      alcohol      quality     red_wine  \n",
       "count  6497.000000  6497.000000  6497.000000  6497.000000  6497.000000  \n",
       "mean      3.218501     0.531268    10.491801     5.818378     0.246114  \n",
       "std       0.160787     0.148806     1.192712     0.873255     0.430779  \n",
       "min       2.720000     0.220000     8.000000     3.000000     0.000000  \n",
       "25%       3.110000     0.430000     9.500000     5.000000     0.000000  \n",
       "50%       3.210000     0.510000    10.300000     6.000000     0.000000  \n",
       "75%       3.320000     0.600000    11.300000     6.000000     0.000000  \n",
       "max       4.010000     2.000000    14.900000     9.000000     1.000000  "
      ]
     },
     "execution_count": 39,
     "metadata": {},
     "output_type": "execute_result"
    }
   ],
=======
   "execution_count": null,
   "metadata": {},
   "outputs": [],
>>>>>>> mlf v2
   "source": [
    "wine.describe()"
   ]
  },
  {
   "cell_type": "markdown",
   "metadata": {},
   "source": [
    "### Running the Regression\n",
    "\n",
    "First, we'll separate the data into our predictors (X) and target (y)"
   ]
  },
  {
   "cell_type": "code",
<<<<<<< HEAD
   "execution_count": 40,
   "metadata": {},
   "outputs": [
    {
     "data": {
      "text/html": [
       "<div>\n",
       "<style scoped>\n",
       "    .dataframe tbody tr th:only-of-type {\n",
       "        vertical-align: middle;\n",
       "    }\n",
       "\n",
       "    .dataframe tbody tr th {\n",
       "        vertical-align: top;\n",
       "    }\n",
       "\n",
       "    .dataframe thead th {\n",
       "        text-align: right;\n",
       "    }\n",
       "</style>\n",
       "<table border=\"1\" class=\"dataframe\">\n",
       "  <thead>\n",
       "    <tr style=\"text-align: right;\">\n",
       "      <th></th>\n",
       "      <th>fixed acidity</th>\n",
       "      <th>volatile acidity</th>\n",
       "      <th>citric acid</th>\n",
       "      <th>residual sugar</th>\n",
       "      <th>chlorides</th>\n",
       "      <th>free sulfur dioxide</th>\n",
       "      <th>total sulfur dioxide</th>\n",
       "      <th>density</th>\n",
       "      <th>pH</th>\n",
       "      <th>sulphates</th>\n",
       "      <th>alcohol</th>\n",
       "      <th>red_wine</th>\n",
       "    </tr>\n",
       "  </thead>\n",
       "  <tbody>\n",
       "    <tr>\n",
       "      <th>0</th>\n",
       "      <td>7.4</td>\n",
       "      <td>0.70</td>\n",
       "      <td>0.00</td>\n",
       "      <td>1.9</td>\n",
       "      <td>0.076</td>\n",
       "      <td>11.0</td>\n",
       "      <td>34.0</td>\n",
       "      <td>0.9978</td>\n",
       "      <td>3.51</td>\n",
       "      <td>0.56</td>\n",
       "      <td>9.4</td>\n",
       "      <td>1</td>\n",
       "    </tr>\n",
       "    <tr>\n",
       "      <th>1</th>\n",
       "      <td>7.8</td>\n",
       "      <td>0.88</td>\n",
       "      <td>0.00</td>\n",
       "      <td>2.6</td>\n",
       "      <td>0.098</td>\n",
       "      <td>25.0</td>\n",
       "      <td>67.0</td>\n",
       "      <td>0.9968</td>\n",
       "      <td>3.20</td>\n",
       "      <td>0.68</td>\n",
       "      <td>9.8</td>\n",
       "      <td>1</td>\n",
       "    </tr>\n",
       "    <tr>\n",
       "      <th>2</th>\n",
       "      <td>7.8</td>\n",
       "      <td>0.76</td>\n",
       "      <td>0.04</td>\n",
       "      <td>2.3</td>\n",
       "      <td>0.092</td>\n",
       "      <td>15.0</td>\n",
       "      <td>54.0</td>\n",
       "      <td>0.9970</td>\n",
       "      <td>3.26</td>\n",
       "      <td>0.65</td>\n",
       "      <td>9.8</td>\n",
       "      <td>1</td>\n",
       "    </tr>\n",
       "    <tr>\n",
       "      <th>3</th>\n",
       "      <td>11.2</td>\n",
       "      <td>0.28</td>\n",
       "      <td>0.56</td>\n",
       "      <td>1.9</td>\n",
       "      <td>0.075</td>\n",
       "      <td>17.0</td>\n",
       "      <td>60.0</td>\n",
       "      <td>0.9980</td>\n",
       "      <td>3.16</td>\n",
       "      <td>0.58</td>\n",
       "      <td>9.8</td>\n",
       "      <td>1</td>\n",
       "    </tr>\n",
       "    <tr>\n",
       "      <th>4</th>\n",
       "      <td>7.4</td>\n",
       "      <td>0.70</td>\n",
       "      <td>0.00</td>\n",
       "      <td>1.9</td>\n",
       "      <td>0.076</td>\n",
       "      <td>11.0</td>\n",
       "      <td>34.0</td>\n",
       "      <td>0.9978</td>\n",
       "      <td>3.51</td>\n",
       "      <td>0.56</td>\n",
       "      <td>9.4</td>\n",
       "      <td>1</td>\n",
       "    </tr>\n",
       "  </tbody>\n",
       "</table>\n",
       "</div>"
      ],
      "text/plain": [
       "   fixed acidity  volatile acidity  citric acid  residual sugar  chlorides  \\\n",
       "0            7.4              0.70         0.00             1.9      0.076   \n",
       "1            7.8              0.88         0.00             2.6      0.098   \n",
       "2            7.8              0.76         0.04             2.3      0.092   \n",
       "3           11.2              0.28         0.56             1.9      0.075   \n",
       "4            7.4              0.70         0.00             1.9      0.076   \n",
       "\n",
       "   free sulfur dioxide  total sulfur dioxide  density    pH  sulphates  \\\n",
       "0                 11.0                  34.0   0.9978  3.51       0.56   \n",
       "1                 25.0                  67.0   0.9968  3.20       0.68   \n",
       "2                 15.0                  54.0   0.9970  3.26       0.65   \n",
       "3                 17.0                  60.0   0.9980  3.16       0.58   \n",
       "4                 11.0                  34.0   0.9978  3.51       0.56   \n",
       "\n",
       "   alcohol  red_wine  \n",
       "0      9.4         1  \n",
       "1      9.8         1  \n",
       "2      9.8         1  \n",
       "3      9.8         1  \n",
       "4      9.4         1  "
      ]
     },
     "execution_count": 40,
     "metadata": {},
     "output_type": "execute_result"
    }
   ],
=======
   "execution_count": null,
   "metadata": {},
   "outputs": [],
>>>>>>> mlf v2
   "source": [
    "wine_preds = wine.drop('quality', axis=1)\n",
    "wine_target = wine['quality']\n",
    "wine_preds.head()"
   ]
  },
  {
   "cell_type": "markdown",
   "metadata": {},
   "source": [
    "Now we can perform our (multiple) linear regression! Since we already used `statsmodels`, let's use that again to fit the model and then check the summary:"
   ]
  },
  {
   "cell_type": "code",
<<<<<<< HEAD
   "execution_count": 41,
   "metadata": {},
   "outputs": [
    {
     "data": {
      "text/html": [
       "<div>\n",
       "<style scoped>\n",
       "    .dataframe tbody tr th:only-of-type {\n",
       "        vertical-align: middle;\n",
       "    }\n",
       "\n",
       "    .dataframe tbody tr th {\n",
       "        vertical-align: top;\n",
       "    }\n",
       "\n",
       "    .dataframe thead th {\n",
       "        text-align: right;\n",
       "    }\n",
       "</style>\n",
       "<table border=\"1\" class=\"dataframe\">\n",
       "  <thead>\n",
       "    <tr style=\"text-align: right;\">\n",
       "      <th></th>\n",
       "      <th>const</th>\n",
       "      <th>fixed acidity</th>\n",
       "      <th>volatile acidity</th>\n",
       "      <th>citric acid</th>\n",
       "      <th>residual sugar</th>\n",
       "      <th>chlorides</th>\n",
       "      <th>free sulfur dioxide</th>\n",
       "      <th>total sulfur dioxide</th>\n",
       "      <th>density</th>\n",
       "      <th>pH</th>\n",
       "      <th>sulphates</th>\n",
       "      <th>alcohol</th>\n",
       "      <th>red_wine</th>\n",
       "    </tr>\n",
       "  </thead>\n",
       "  <tbody>\n",
       "    <tr>\n",
       "      <th>0</th>\n",
       "      <td>1.0</td>\n",
       "      <td>7.4</td>\n",
       "      <td>0.70</td>\n",
       "      <td>0.00</td>\n",
       "      <td>1.9</td>\n",
       "      <td>0.076</td>\n",
       "      <td>11.0</td>\n",
       "      <td>34.0</td>\n",
       "      <td>0.99780</td>\n",
       "      <td>3.51</td>\n",
       "      <td>0.56</td>\n",
       "      <td>9.4</td>\n",
       "      <td>1</td>\n",
       "    </tr>\n",
       "    <tr>\n",
       "      <th>1</th>\n",
       "      <td>1.0</td>\n",
       "      <td>7.8</td>\n",
       "      <td>0.88</td>\n",
       "      <td>0.00</td>\n",
       "      <td>2.6</td>\n",
       "      <td>0.098</td>\n",
       "      <td>25.0</td>\n",
       "      <td>67.0</td>\n",
       "      <td>0.99680</td>\n",
       "      <td>3.20</td>\n",
       "      <td>0.68</td>\n",
       "      <td>9.8</td>\n",
       "      <td>1</td>\n",
       "    </tr>\n",
       "    <tr>\n",
       "      <th>2</th>\n",
       "      <td>1.0</td>\n",
       "      <td>7.8</td>\n",
       "      <td>0.76</td>\n",
       "      <td>0.04</td>\n",
       "      <td>2.3</td>\n",
       "      <td>0.092</td>\n",
       "      <td>15.0</td>\n",
       "      <td>54.0</td>\n",
       "      <td>0.99700</td>\n",
       "      <td>3.26</td>\n",
       "      <td>0.65</td>\n",
       "      <td>9.8</td>\n",
       "      <td>1</td>\n",
       "    </tr>\n",
       "    <tr>\n",
       "      <th>3</th>\n",
       "      <td>1.0</td>\n",
       "      <td>11.2</td>\n",
       "      <td>0.28</td>\n",
       "      <td>0.56</td>\n",
       "      <td>1.9</td>\n",
       "      <td>0.075</td>\n",
       "      <td>17.0</td>\n",
       "      <td>60.0</td>\n",
       "      <td>0.99800</td>\n",
       "      <td>3.16</td>\n",
       "      <td>0.58</td>\n",
       "      <td>9.8</td>\n",
       "      <td>1</td>\n",
       "    </tr>\n",
       "    <tr>\n",
       "      <th>4</th>\n",
       "      <td>1.0</td>\n",
       "      <td>7.4</td>\n",
       "      <td>0.70</td>\n",
       "      <td>0.00</td>\n",
       "      <td>1.9</td>\n",
       "      <td>0.076</td>\n",
       "      <td>11.0</td>\n",
       "      <td>34.0</td>\n",
       "      <td>0.99780</td>\n",
       "      <td>3.51</td>\n",
       "      <td>0.56</td>\n",
       "      <td>9.4</td>\n",
       "      <td>1</td>\n",
       "    </tr>\n",
       "    <tr>\n",
       "      <th>...</th>\n",
       "      <td>...</td>\n",
       "      <td>...</td>\n",
       "      <td>...</td>\n",
       "      <td>...</td>\n",
       "      <td>...</td>\n",
       "      <td>...</td>\n",
       "      <td>...</td>\n",
       "      <td>...</td>\n",
       "      <td>...</td>\n",
       "      <td>...</td>\n",
       "      <td>...</td>\n",
       "      <td>...</td>\n",
       "      <td>...</td>\n",
       "    </tr>\n",
       "    <tr>\n",
       "      <th>6492</th>\n",
       "      <td>1.0</td>\n",
       "      <td>6.2</td>\n",
       "      <td>0.21</td>\n",
       "      <td>0.29</td>\n",
       "      <td>1.6</td>\n",
       "      <td>0.039</td>\n",
       "      <td>24.0</td>\n",
       "      <td>92.0</td>\n",
       "      <td>0.99114</td>\n",
       "      <td>3.27</td>\n",
       "      <td>0.50</td>\n",
       "      <td>11.2</td>\n",
       "      <td>0</td>\n",
       "    </tr>\n",
       "    <tr>\n",
       "      <th>6493</th>\n",
       "      <td>1.0</td>\n",
       "      <td>6.6</td>\n",
       "      <td>0.32</td>\n",
       "      <td>0.36</td>\n",
       "      <td>8.0</td>\n",
       "      <td>0.047</td>\n",
       "      <td>57.0</td>\n",
       "      <td>168.0</td>\n",
       "      <td>0.99490</td>\n",
       "      <td>3.15</td>\n",
       "      <td>0.46</td>\n",
       "      <td>9.6</td>\n",
       "      <td>0</td>\n",
       "    </tr>\n",
       "    <tr>\n",
       "      <th>6494</th>\n",
       "      <td>1.0</td>\n",
       "      <td>6.5</td>\n",
       "      <td>0.24</td>\n",
       "      <td>0.19</td>\n",
       "      <td>1.2</td>\n",
       "      <td>0.041</td>\n",
       "      <td>30.0</td>\n",
       "      <td>111.0</td>\n",
       "      <td>0.99254</td>\n",
       "      <td>2.99</td>\n",
       "      <td>0.46</td>\n",
       "      <td>9.4</td>\n",
       "      <td>0</td>\n",
       "    </tr>\n",
       "    <tr>\n",
       "      <th>6495</th>\n",
       "      <td>1.0</td>\n",
       "      <td>5.5</td>\n",
       "      <td>0.29</td>\n",
       "      <td>0.30</td>\n",
       "      <td>1.1</td>\n",
       "      <td>0.022</td>\n",
       "      <td>20.0</td>\n",
       "      <td>110.0</td>\n",
       "      <td>0.98869</td>\n",
       "      <td>3.34</td>\n",
       "      <td>0.38</td>\n",
       "      <td>12.8</td>\n",
       "      <td>0</td>\n",
       "    </tr>\n",
       "    <tr>\n",
       "      <th>6496</th>\n",
       "      <td>1.0</td>\n",
       "      <td>6.0</td>\n",
       "      <td>0.21</td>\n",
       "      <td>0.38</td>\n",
       "      <td>0.8</td>\n",
       "      <td>0.020</td>\n",
       "      <td>22.0</td>\n",
       "      <td>98.0</td>\n",
       "      <td>0.98941</td>\n",
       "      <td>3.26</td>\n",
       "      <td>0.32</td>\n",
       "      <td>11.8</td>\n",
       "      <td>0</td>\n",
       "    </tr>\n",
       "  </tbody>\n",
       "</table>\n",
       "<p>6497 rows × 13 columns</p>\n",
       "</div>"
      ],
      "text/plain": [
       "      const  fixed acidity  volatile acidity  citric acid  residual sugar  \\\n",
       "0       1.0            7.4              0.70         0.00             1.9   \n",
       "1       1.0            7.8              0.88         0.00             2.6   \n",
       "2       1.0            7.8              0.76         0.04             2.3   \n",
       "3       1.0           11.2              0.28         0.56             1.9   \n",
       "4       1.0            7.4              0.70         0.00             1.9   \n",
       "...     ...            ...               ...          ...             ...   \n",
       "6492    1.0            6.2              0.21         0.29             1.6   \n",
       "6493    1.0            6.6              0.32         0.36             8.0   \n",
       "6494    1.0            6.5              0.24         0.19             1.2   \n",
       "6495    1.0            5.5              0.29         0.30             1.1   \n",
       "6496    1.0            6.0              0.21         0.38             0.8   \n",
       "\n",
       "      chlorides  free sulfur dioxide  total sulfur dioxide  density    pH  \\\n",
       "0         0.076                 11.0                  34.0  0.99780  3.51   \n",
       "1         0.098                 25.0                  67.0  0.99680  3.20   \n",
       "2         0.092                 15.0                  54.0  0.99700  3.26   \n",
       "3         0.075                 17.0                  60.0  0.99800  3.16   \n",
       "4         0.076                 11.0                  34.0  0.99780  3.51   \n",
       "...         ...                  ...                   ...      ...   ...   \n",
       "6492      0.039                 24.0                  92.0  0.99114  3.27   \n",
       "6493      0.047                 57.0                 168.0  0.99490  3.15   \n",
       "6494      0.041                 30.0                 111.0  0.99254  2.99   \n",
       "6495      0.022                 20.0                 110.0  0.98869  3.34   \n",
       "6496      0.020                 22.0                  98.0  0.98941  3.26   \n",
       "\n",
       "      sulphates  alcohol  red_wine  \n",
       "0          0.56      9.4         1  \n",
       "1          0.68      9.8         1  \n",
       "2          0.65      9.8         1  \n",
       "3          0.58      9.8         1  \n",
       "4          0.56      9.4         1  \n",
       "...         ...      ...       ...  \n",
       "6492       0.50     11.2         0  \n",
       "6493       0.46      9.6         0  \n",
       "6494       0.46      9.4         0  \n",
       "6495       0.38     12.8         0  \n",
       "6496       0.32     11.8         0  \n",
       "\n",
       "[6497 rows x 13 columns]"
      ]
     },
     "execution_count": 41,
     "metadata": {},
     "output_type": "execute_result"
    }
   ],
=======
   "execution_count": null,
   "metadata": {},
   "outputs": [],
>>>>>>> mlf v2
   "source": [
    "# use sm.add_constant() to add constant term/y-intercept\n",
    "predictors = sm.add_constant(wine_preds)\n",
    "predictors"
   ]
  },
  {
   "cell_type": "code",
<<<<<<< HEAD
   "execution_count": 42,
   "metadata": {},
   "outputs": [
    {
     "data": {
      "text/html": [
       "<table class=\"simpletable\">\n",
       "<caption>OLS Regression Results</caption>\n",
       "<tr>\n",
       "  <th>Dep. Variable:</th>         <td>quality</td>     <th>  R-squared:         </th> <td>   0.297</td> \n",
       "</tr>\n",
       "<tr>\n",
       "  <th>Model:</th>                   <td>OLS</td>       <th>  Adj. R-squared:    </th> <td>   0.295</td> \n",
       "</tr>\n",
       "<tr>\n",
       "  <th>Method:</th>             <td>Least Squares</td>  <th>  F-statistic:       </th> <td>   227.8</td> \n",
       "</tr>\n",
       "<tr>\n",
       "  <th>Date:</th>             <td>Wed, 10 Mar 2021</td> <th>  Prob (F-statistic):</th>  <td>  0.00</td>  \n",
       "</tr>\n",
       "<tr>\n",
       "  <th>Time:</th>                 <td>05:29:01</td>     <th>  Log-Likelihood:    </th> <td> -7195.2</td> \n",
       "</tr>\n",
       "<tr>\n",
       "  <th>No. Observations:</th>      <td>  6497</td>      <th>  AIC:               </th> <td>1.442e+04</td>\n",
       "</tr>\n",
       "<tr>\n",
       "  <th>Df Residuals:</th>          <td>  6484</td>      <th>  BIC:               </th> <td>1.450e+04</td>\n",
       "</tr>\n",
       "<tr>\n",
       "  <th>Df Model:</th>              <td>    12</td>      <th>                     </th>     <td> </td>    \n",
       "</tr>\n",
       "<tr>\n",
       "  <th>Covariance Type:</th>      <td>nonrobust</td>    <th>                     </th>     <td> </td>    \n",
       "</tr>\n",
       "</table>\n",
       "<table class=\"simpletable\">\n",
       "<tr>\n",
       "            <td></td>              <th>coef</th>     <th>std err</th>      <th>t</th>      <th>P>|t|</th>  <th>[0.025</th>    <th>0.975]</th>  \n",
       "</tr>\n",
       "<tr>\n",
       "  <th>const</th>                <td>  104.3904</td> <td>   14.105</td> <td>    7.401</td> <td> 0.000</td> <td>   76.741</td> <td>  132.040</td>\n",
       "</tr>\n",
       "<tr>\n",
       "  <th>fixed acidity</th>        <td>    0.0851</td> <td>    0.016</td> <td>    5.396</td> <td> 0.000</td> <td>    0.054</td> <td>    0.116</td>\n",
       "</tr>\n",
       "<tr>\n",
       "  <th>volatile acidity</th>     <td>   -1.4924</td> <td>    0.081</td> <td>  -18.345</td> <td> 0.000</td> <td>   -1.652</td> <td>   -1.333</td>\n",
       "</tr>\n",
       "<tr>\n",
       "  <th>citric acid</th>          <td>   -0.0626</td> <td>    0.080</td> <td>   -0.786</td> <td> 0.432</td> <td>   -0.219</td> <td>    0.094</td>\n",
       "</tr>\n",
       "<tr>\n",
       "  <th>residual sugar</th>       <td>    0.0624</td> <td>    0.006</td> <td>   10.522</td> <td> 0.000</td> <td>    0.051</td> <td>    0.074</td>\n",
       "</tr>\n",
       "<tr>\n",
       "  <th>chlorides</th>            <td>   -0.7573</td> <td>    0.334</td> <td>   -2.264</td> <td> 0.024</td> <td>   -1.413</td> <td>   -0.102</td>\n",
       "</tr>\n",
       "<tr>\n",
       "  <th>free sulfur dioxide</th>  <td>    0.0049</td> <td>    0.001</td> <td>    6.443</td> <td> 0.000</td> <td>    0.003</td> <td>    0.006</td>\n",
       "</tr>\n",
       "<tr>\n",
       "  <th>total sulfur dioxide</th> <td>   -0.0014</td> <td>    0.000</td> <td>   -4.333</td> <td> 0.000</td> <td>   -0.002</td> <td>   -0.001</td>\n",
       "</tr>\n",
       "<tr>\n",
       "  <th>density</th>              <td> -103.9096</td> <td>   14.336</td> <td>   -7.248</td> <td> 0.000</td> <td> -132.013</td> <td>  -75.806</td>\n",
       "</tr>\n",
       "<tr>\n",
       "  <th>pH</th>                   <td>    0.4988</td> <td>    0.091</td> <td>    5.506</td> <td> 0.000</td> <td>    0.321</td> <td>    0.676</td>\n",
       "</tr>\n",
       "<tr>\n",
       "  <th>sulphates</th>            <td>    0.7217</td> <td>    0.076</td> <td>    9.466</td> <td> 0.000</td> <td>    0.572</td> <td>    0.871</td>\n",
       "</tr>\n",
       "<tr>\n",
       "  <th>alcohol</th>              <td>    0.2227</td> <td>    0.018</td> <td>   12.320</td> <td> 0.000</td> <td>    0.187</td> <td>    0.258</td>\n",
       "</tr>\n",
       "<tr>\n",
       "  <th>red_wine</th>             <td>    0.3613</td> <td>    0.057</td> <td>    6.367</td> <td> 0.000</td> <td>    0.250</td> <td>    0.473</td>\n",
       "</tr>\n",
       "</table>\n",
       "<table class=\"simpletable\">\n",
       "<tr>\n",
       "  <th>Omnibus:</th>       <td>140.992</td> <th>  Durbin-Watson:     </th> <td>   1.648</td>\n",
       "</tr>\n",
       "<tr>\n",
       "  <th>Prob(Omnibus):</th> <td> 0.000</td>  <th>  Jarque-Bera (JB):  </th> <td> 313.985</td>\n",
       "</tr>\n",
       "<tr>\n",
       "  <th>Skew:</th>          <td> 0.016</td>  <th>  Prob(JB):          </th> <td>6.59e-69</td>\n",
       "</tr>\n",
       "<tr>\n",
       "  <th>Kurtosis:</th>      <td> 4.077</td>  <th>  Cond. No.          </th> <td>2.96e+05</td>\n",
       "</tr>\n",
       "</table><br/><br/>Warnings:<br/>[1] Standard Errors assume that the covariance matrix of the errors is correctly specified.<br/>[2] The condition number is large, 2.96e+05. This might indicate that there are<br/>strong multicollinearity or other numerical problems."
      ],
      "text/plain": [
       "<class 'statsmodels.iolib.summary.Summary'>\n",
       "\"\"\"\n",
       "                            OLS Regression Results                            \n",
       "==============================================================================\n",
       "Dep. Variable:                quality   R-squared:                       0.297\n",
       "Model:                            OLS   Adj. R-squared:                  0.295\n",
       "Method:                 Least Squares   F-statistic:                     227.8\n",
       "Date:                Wed, 10 Mar 2021   Prob (F-statistic):               0.00\n",
       "Time:                        05:29:01   Log-Likelihood:                -7195.2\n",
       "No. Observations:                6497   AIC:                         1.442e+04\n",
       "Df Residuals:                    6484   BIC:                         1.450e+04\n",
       "Df Model:                          12                                         \n",
       "Covariance Type:            nonrobust                                         \n",
       "========================================================================================\n",
       "                           coef    std err          t      P>|t|      [0.025      0.975]\n",
       "----------------------------------------------------------------------------------------\n",
       "const                  104.3904     14.105      7.401      0.000      76.741     132.040\n",
       "fixed acidity            0.0851      0.016      5.396      0.000       0.054       0.116\n",
       "volatile acidity        -1.4924      0.081    -18.345      0.000      -1.652      -1.333\n",
       "citric acid             -0.0626      0.080     -0.786      0.432      -0.219       0.094\n",
       "residual sugar           0.0624      0.006     10.522      0.000       0.051       0.074\n",
       "chlorides               -0.7573      0.334     -2.264      0.024      -1.413      -0.102\n",
       "free sulfur dioxide      0.0049      0.001      6.443      0.000       0.003       0.006\n",
       "total sulfur dioxide    -0.0014      0.000     -4.333      0.000      -0.002      -0.001\n",
       "density               -103.9096     14.336     -7.248      0.000    -132.013     -75.806\n",
       "pH                       0.4988      0.091      5.506      0.000       0.321       0.676\n",
       "sulphates                0.7217      0.076      9.466      0.000       0.572       0.871\n",
       "alcohol                  0.2227      0.018     12.320      0.000       0.187       0.258\n",
       "red_wine                 0.3613      0.057      6.367      0.000       0.250       0.473\n",
       "==============================================================================\n",
       "Omnibus:                      140.992   Durbin-Watson:                   1.648\n",
       "Prob(Omnibus):                  0.000   Jarque-Bera (JB):              313.985\n",
       "Skew:                           0.016   Prob(JB):                     6.59e-69\n",
       "Kurtosis:                       4.077   Cond. No.                     2.96e+05\n",
       "==============================================================================\n",
       "\n",
       "Warnings:\n",
       "[1] Standard Errors assume that the covariance matrix of the errors is correctly specified.\n",
       "[2] The condition number is large, 2.96e+05. This might indicate that there are\n",
       "strong multicollinearity or other numerical problems.\n",
       "\"\"\""
      ]
     },
     "execution_count": 42,
     "metadata": {},
     "output_type": "execute_result"
    }
   ],
=======
   "execution_count": null,
   "metadata": {},
   "outputs": [],
>>>>>>> mlf v2
   "source": [
    "model = sm.OLS(wine_target, predictors).fit()\n",
    "model.summary()"
   ]
  },
  {
   "cell_type": "markdown",
   "metadata": {},
   "source": [
    "## Scaling\n",
    "\n",
    "Before we construct a linear regression, let's *scale* our columns as z-scores. Why?\n",
    "\n",
    "In a word, it's useful to have all of our variables be on the same scale, so that the resulting coefficients are easier to interpret. If the scales of the variables are very different one from another, then some of the coefficients may end up on very large or very tiny scales.\n",
    "\n",
    "For more on this, see [this post](https://stats.stackexchange.com/questions/32649/some-of-my-predictors-are-on-very-different-scales-do-i-need-to-transform-them)."
   ]
  },
  {
   "cell_type": "markdown",
   "metadata": {},
   "source": [
    "Let's try a model with our wine dataset now."
   ]
  },
  {
   "cell_type": "code",
<<<<<<< HEAD
   "execution_count": 43,
=======
   "execution_count": null,
>>>>>>> mlf v2
   "metadata": {},
   "outputs": [],
   "source": [
    "# We'll include all the columns for now.\n",
    "\n",
    "wine_preds_scaled = (wine_preds - np.mean(wine_preds)) / np.std(wine_preds)"
   ]
  },
  {
   "cell_type": "code",
<<<<<<< HEAD
   "execution_count": 44,
   "metadata": {},
   "outputs": [
    {
     "data": {
      "text/html": [
       "<div>\n",
       "<style scoped>\n",
       "    .dataframe tbody tr th:only-of-type {\n",
       "        vertical-align: middle;\n",
       "    }\n",
       "\n",
       "    .dataframe tbody tr th {\n",
       "        vertical-align: top;\n",
       "    }\n",
       "\n",
       "    .dataframe thead th {\n",
       "        text-align: right;\n",
       "    }\n",
       "</style>\n",
       "<table border=\"1\" class=\"dataframe\">\n",
       "  <thead>\n",
       "    <tr style=\"text-align: right;\">\n",
       "      <th></th>\n",
       "      <th>fixed acidity</th>\n",
       "      <th>volatile acidity</th>\n",
       "      <th>citric acid</th>\n",
       "      <th>residual sugar</th>\n",
       "      <th>chlorides</th>\n",
       "      <th>free sulfur dioxide</th>\n",
       "      <th>total sulfur dioxide</th>\n",
       "      <th>density</th>\n",
       "      <th>pH</th>\n",
       "      <th>sulphates</th>\n",
       "      <th>alcohol</th>\n",
       "      <th>red_wine</th>\n",
       "    </tr>\n",
       "  </thead>\n",
       "  <tbody>\n",
       "    <tr>\n",
       "      <th>count</th>\n",
       "      <td>6.497000e+03</td>\n",
       "      <td>6.497000e+03</td>\n",
       "      <td>6.497000e+03</td>\n",
       "      <td>6.497000e+03</td>\n",
       "      <td>6.497000e+03</td>\n",
       "      <td>6.497000e+03</td>\n",
       "      <td>6.497000e+03</td>\n",
       "      <td>6.497000e+03</td>\n",
       "      <td>6.497000e+03</td>\n",
       "      <td>6.497000e+03</td>\n",
       "      <td>6.497000e+03</td>\n",
       "      <td>6.497000e+03</td>\n",
       "    </tr>\n",
       "    <tr>\n",
       "      <th>mean</th>\n",
       "      <td>1.014577e-14</td>\n",
       "      <td>-2.676336e-14</td>\n",
       "      <td>4.830012e-14</td>\n",
       "      <td>-2.203392e-15</td>\n",
       "      <td>1.208747e-14</td>\n",
       "      <td>1.714865e-15</td>\n",
       "      <td>-1.003020e-15</td>\n",
       "      <td>2.182129e-12</td>\n",
       "      <td>-3.333153e-14</td>\n",
       "      <td>-5.293322e-15</td>\n",
       "      <td>-1.199834e-14</td>\n",
       "      <td>1.064102e-14</td>\n",
       "    </tr>\n",
       "    <tr>\n",
       "      <th>std</th>\n",
       "      <td>1.000077e+00</td>\n",
       "      <td>1.000077e+00</td>\n",
       "      <td>1.000077e+00</td>\n",
       "      <td>1.000077e+00</td>\n",
       "      <td>1.000077e+00</td>\n",
       "      <td>1.000077e+00</td>\n",
       "      <td>1.000077e+00</td>\n",
       "      <td>1.000077e+00</td>\n",
       "      <td>1.000077e+00</td>\n",
       "      <td>1.000077e+00</td>\n",
       "      <td>1.000077e+00</td>\n",
       "      <td>1.000077e+00</td>\n",
       "    </tr>\n",
       "    <tr>\n",
       "      <th>min</th>\n",
       "      <td>-2.634589e+00</td>\n",
       "      <td>-1.577330e+00</td>\n",
       "      <td>-2.192833e+00</td>\n",
       "      <td>-1.018034e+00</td>\n",
       "      <td>-1.342639e+00</td>\n",
       "      <td>-1.663583e+00</td>\n",
       "      <td>-1.941780e+00</td>\n",
       "      <td>-2.530192e+00</td>\n",
       "      <td>-3.100615e+00</td>\n",
       "      <td>-2.091935e+00</td>\n",
       "      <td>-2.089350e+00</td>\n",
       "      <td>-5.713666e-01</td>\n",
       "    </tr>\n",
       "    <tr>\n",
       "      <th>25%</th>\n",
       "      <td>-6.289329e-01</td>\n",
       "      <td>-6.661613e-01</td>\n",
       "      <td>-4.723335e-01</td>\n",
       "      <td>-7.657978e-01</td>\n",
       "      <td>-5.147986e-01</td>\n",
       "      <td>-7.620742e-01</td>\n",
       "      <td>-6.855323e-01</td>\n",
       "      <td>-7.859527e-01</td>\n",
       "      <td>-6.748622e-01</td>\n",
       "      <td>-6.805919e-01</td>\n",
       "      <td>-8.316152e-01</td>\n",
       "      <td>-5.713666e-01</td>\n",
       "    </tr>\n",
       "    <tr>\n",
       "      <th>50%</th>\n",
       "      <td>-1.660892e-01</td>\n",
       "      <td>-3.016939e-01</td>\n",
       "      <td>-5.941375e-02</td>\n",
       "      <td>-5.135612e-01</td>\n",
       "      <td>-2.578826e-01</td>\n",
       "      <td>-8.594301e-02</td>\n",
       "      <td>3.990667e-02</td>\n",
       "      <td>6.448888e-02</td>\n",
       "      <td>-5.287424e-02</td>\n",
       "      <td>-1.429373e-01</td>\n",
       "      <td>-1.608231e-01</td>\n",
       "      <td>-5.713666e-01</td>\n",
       "    </tr>\n",
       "    <tr>\n",
       "      <th>75%</th>\n",
       "      <td>3.738951e-01</td>\n",
       "      <td>3.664962e-01</td>\n",
       "      <td>4.911459e-01</td>\n",
       "      <td>5.584445e-01</td>\n",
       "      <td>2.559494e-01</td>\n",
       "      <td>5.901882e-01</td>\n",
       "      <td>7.122647e-01</td>\n",
       "      <td>7.648525e-01</td>\n",
       "      <td>6.313125e-01</td>\n",
       "      <td>4.619241e-01</td>\n",
       "      <td>6.776670e-01</td>\n",
       "      <td>-5.713666e-01</td>\n",
       "    </tr>\n",
       "    <tr>\n",
       "      <th>max</th>\n",
       "      <td>6.699425e+00</td>\n",
       "      <td>7.534354e+00</td>\n",
       "      <td>9.231281e+00</td>\n",
       "      <td>1.268682e+01</td>\n",
       "      <td>1.584219e+01</td>\n",
       "      <td>1.456357e+01</td>\n",
       "      <td>5.737257e+00</td>\n",
       "      <td>1.476879e+01</td>\n",
       "      <td>4.923029e+00</td>\n",
       "      <td>9.870879e+00</td>\n",
       "      <td>3.696231e+00</td>\n",
       "      <td>1.750190e+00</td>\n",
       "    </tr>\n",
       "  </tbody>\n",
       "</table>\n",
       "</div>"
      ],
      "text/plain": [
       "       fixed acidity  volatile acidity   citric acid  residual sugar  \\\n",
       "count   6.497000e+03      6.497000e+03  6.497000e+03    6.497000e+03   \n",
       "mean    1.014577e-14     -2.676336e-14  4.830012e-14   -2.203392e-15   \n",
       "std     1.000077e+00      1.000077e+00  1.000077e+00    1.000077e+00   \n",
       "min    -2.634589e+00     -1.577330e+00 -2.192833e+00   -1.018034e+00   \n",
       "25%    -6.289329e-01     -6.661613e-01 -4.723335e-01   -7.657978e-01   \n",
       "50%    -1.660892e-01     -3.016939e-01 -5.941375e-02   -5.135612e-01   \n",
       "75%     3.738951e-01      3.664962e-01  4.911459e-01    5.584445e-01   \n",
       "max     6.699425e+00      7.534354e+00  9.231281e+00    1.268682e+01   \n",
       "\n",
       "          chlorides  free sulfur dioxide  total sulfur dioxide       density  \\\n",
       "count  6.497000e+03         6.497000e+03          6.497000e+03  6.497000e+03   \n",
       "mean   1.208747e-14         1.714865e-15         -1.003020e-15  2.182129e-12   \n",
       "std    1.000077e+00         1.000077e+00          1.000077e+00  1.000077e+00   \n",
       "min   -1.342639e+00        -1.663583e+00         -1.941780e+00 -2.530192e+00   \n",
       "25%   -5.147986e-01        -7.620742e-01         -6.855323e-01 -7.859527e-01   \n",
       "50%   -2.578826e-01        -8.594301e-02          3.990667e-02  6.448888e-02   \n",
       "75%    2.559494e-01         5.901882e-01          7.122647e-01  7.648525e-01   \n",
       "max    1.584219e+01         1.456357e+01          5.737257e+00  1.476879e+01   \n",
       "\n",
       "                 pH     sulphates       alcohol      red_wine  \n",
       "count  6.497000e+03  6.497000e+03  6.497000e+03  6.497000e+03  \n",
       "mean  -3.333153e-14 -5.293322e-15 -1.199834e-14  1.064102e-14  \n",
       "std    1.000077e+00  1.000077e+00  1.000077e+00  1.000077e+00  \n",
       "min   -3.100615e+00 -2.091935e+00 -2.089350e+00 -5.713666e-01  \n",
       "25%   -6.748622e-01 -6.805919e-01 -8.316152e-01 -5.713666e-01  \n",
       "50%   -5.287424e-02 -1.429373e-01 -1.608231e-01 -5.713666e-01  \n",
       "75%    6.313125e-01  4.619241e-01  6.776670e-01 -5.713666e-01  \n",
       "max    4.923029e+00  9.870879e+00  3.696231e+00  1.750190e+00  "
      ]
     },
     "execution_count": 44,
     "metadata": {},
     "output_type": "execute_result"
    }
   ],
=======
   "execution_count": null,
   "metadata": {},
   "outputs": [],
>>>>>>> mlf v2
   "source": [
    "wine_preds_scaled.describe()"
   ]
  },
  {
   "cell_type": "code",
<<<<<<< HEAD
   "execution_count": 45,
   "metadata": {
    "scrolled": true
   },
   "outputs": [
    {
     "data": {
      "text/html": [
       "<table class=\"simpletable\">\n",
       "<caption>OLS Regression Results</caption>\n",
       "<tr>\n",
       "  <th>Dep. Variable:</th>         <td>quality</td>     <th>  R-squared:         </th> <td>   0.297</td> \n",
       "</tr>\n",
       "<tr>\n",
       "  <th>Model:</th>                   <td>OLS</td>       <th>  Adj. R-squared:    </th> <td>   0.295</td> \n",
       "</tr>\n",
       "<tr>\n",
       "  <th>Method:</th>             <td>Least Squares</td>  <th>  F-statistic:       </th> <td>   227.8</td> \n",
       "</tr>\n",
       "<tr>\n",
       "  <th>Date:</th>             <td>Wed, 10 Mar 2021</td> <th>  Prob (F-statistic):</th>  <td>  0.00</td>  \n",
       "</tr>\n",
       "<tr>\n",
       "  <th>Time:</th>                 <td>05:29:02</td>     <th>  Log-Likelihood:    </th> <td> -7195.2</td> \n",
       "</tr>\n",
       "<tr>\n",
       "  <th>No. Observations:</th>      <td>  6497</td>      <th>  AIC:               </th> <td>1.442e+04</td>\n",
       "</tr>\n",
       "<tr>\n",
       "  <th>Df Residuals:</th>          <td>  6484</td>      <th>  BIC:               </th> <td>1.450e+04</td>\n",
       "</tr>\n",
       "<tr>\n",
       "  <th>Df Model:</th>              <td>    12</td>      <th>                     </th>     <td> </td>    \n",
       "</tr>\n",
       "<tr>\n",
       "  <th>Covariance Type:</th>      <td>nonrobust</td>    <th>                     </th>     <td> </td>    \n",
       "</tr>\n",
       "</table>\n",
       "<table class=\"simpletable\">\n",
       "<tr>\n",
       "            <td></td>              <th>coef</th>     <th>std err</th>      <th>t</th>      <th>P>|t|</th>  <th>[0.025</th>    <th>0.975]</th>  \n",
       "</tr>\n",
       "<tr>\n",
       "  <th>const</th>                <td>    5.8184</td> <td>    0.009</td> <td>  639.726</td> <td> 0.000</td> <td>    5.801</td> <td>    5.836</td>\n",
       "</tr>\n",
       "<tr>\n",
       "  <th>fixed acidity</th>        <td>    0.1103</td> <td>    0.020</td> <td>    5.396</td> <td> 0.000</td> <td>    0.070</td> <td>    0.150</td>\n",
       "</tr>\n",
       "<tr>\n",
       "  <th>volatile acidity</th>     <td>   -0.2457</td> <td>    0.013</td> <td>  -18.345</td> <td> 0.000</td> <td>   -0.272</td> <td>   -0.219</td>\n",
       "</tr>\n",
       "<tr>\n",
       "  <th>citric acid</th>          <td>   -0.0091</td> <td>    0.012</td> <td>   -0.786</td> <td> 0.432</td> <td>   -0.032</td> <td>    0.014</td>\n",
       "</tr>\n",
       "<tr>\n",
       "  <th>residual sugar</th>       <td>    0.2970</td> <td>    0.028</td> <td>   10.522</td> <td> 0.000</td> <td>    0.242</td> <td>    0.352</td>\n",
       "</tr>\n",
       "<tr>\n",
       "  <th>chlorides</th>            <td>   -0.0265</td> <td>    0.012</td> <td>   -2.264</td> <td> 0.024</td> <td>   -0.049</td> <td>   -0.004</td>\n",
       "</tr>\n",
       "<tr>\n",
       "  <th>free sulfur dioxide</th>  <td>    0.0876</td> <td>    0.014</td> <td>    6.443</td> <td> 0.000</td> <td>    0.061</td> <td>    0.114</td>\n",
       "</tr>\n",
       "<tr>\n",
       "  <th>total sulfur dioxide</th> <td>   -0.0793</td> <td>    0.018</td> <td>   -4.333</td> <td> 0.000</td> <td>   -0.115</td> <td>   -0.043</td>\n",
       "</tr>\n",
       "<tr>\n",
       "  <th>density</th>              <td>   -0.3116</td> <td>    0.043</td> <td>   -7.248</td> <td> 0.000</td> <td>   -0.396</td> <td>   -0.227</td>\n",
       "</tr>\n",
       "<tr>\n",
       "  <th>pH</th>                   <td>    0.0802</td> <td>    0.015</td> <td>    5.506</td> <td> 0.000</td> <td>    0.052</td> <td>    0.109</td>\n",
       "</tr>\n",
       "<tr>\n",
       "  <th>sulphates</th>            <td>    0.1074</td> <td>    0.011</td> <td>    9.466</td> <td> 0.000</td> <td>    0.085</td> <td>    0.130</td>\n",
       "</tr>\n",
       "<tr>\n",
       "  <th>alcohol</th>              <td>    0.2656</td> <td>    0.022</td> <td>   12.320</td> <td> 0.000</td> <td>    0.223</td> <td>    0.308</td>\n",
       "</tr>\n",
       "<tr>\n",
       "  <th>red_wine</th>             <td>    0.1556</td> <td>    0.024</td> <td>    6.367</td> <td> 0.000</td> <td>    0.108</td> <td>    0.204</td>\n",
       "</tr>\n",
       "</table>\n",
       "<table class=\"simpletable\">\n",
       "<tr>\n",
       "  <th>Omnibus:</th>       <td>140.992</td> <th>  Durbin-Watson:     </th> <td>   1.648</td>\n",
       "</tr>\n",
       "<tr>\n",
       "  <th>Prob(Omnibus):</th> <td> 0.000</td>  <th>  Jarque-Bera (JB):  </th> <td> 313.985</td>\n",
       "</tr>\n",
       "<tr>\n",
       "  <th>Skew:</th>          <td> 0.016</td>  <th>  Prob(JB):          </th> <td>6.59e-69</td>\n",
       "</tr>\n",
       "<tr>\n",
       "  <th>Kurtosis:</th>      <td> 4.077</td>  <th>  Cond. No.          </th> <td>    12.6</td>\n",
       "</tr>\n",
       "</table><br/><br/>Warnings:<br/>[1] Standard Errors assume that the covariance matrix of the errors is correctly specified."
      ],
      "text/plain": [
       "<class 'statsmodels.iolib.summary.Summary'>\n",
       "\"\"\"\n",
       "                            OLS Regression Results                            \n",
       "==============================================================================\n",
       "Dep. Variable:                quality   R-squared:                       0.297\n",
       "Model:                            OLS   Adj. R-squared:                  0.295\n",
       "Method:                 Least Squares   F-statistic:                     227.8\n",
       "Date:                Wed, 10 Mar 2021   Prob (F-statistic):               0.00\n",
       "Time:                        05:29:02   Log-Likelihood:                -7195.2\n",
       "No. Observations:                6497   AIC:                         1.442e+04\n",
       "Df Residuals:                    6484   BIC:                         1.450e+04\n",
       "Df Model:                          12                                         \n",
       "Covariance Type:            nonrobust                                         \n",
       "========================================================================================\n",
       "                           coef    std err          t      P>|t|      [0.025      0.975]\n",
       "----------------------------------------------------------------------------------------\n",
       "const                    5.8184      0.009    639.726      0.000       5.801       5.836\n",
       "fixed acidity            0.1103      0.020      5.396      0.000       0.070       0.150\n",
       "volatile acidity        -0.2457      0.013    -18.345      0.000      -0.272      -0.219\n",
       "citric acid             -0.0091      0.012     -0.786      0.432      -0.032       0.014\n",
       "residual sugar           0.2970      0.028     10.522      0.000       0.242       0.352\n",
       "chlorides               -0.0265      0.012     -2.264      0.024      -0.049      -0.004\n",
       "free sulfur dioxide      0.0876      0.014      6.443      0.000       0.061       0.114\n",
       "total sulfur dioxide    -0.0793      0.018     -4.333      0.000      -0.115      -0.043\n",
       "density                 -0.3116      0.043     -7.248      0.000      -0.396      -0.227\n",
       "pH                       0.0802      0.015      5.506      0.000       0.052       0.109\n",
       "sulphates                0.1074      0.011      9.466      0.000       0.085       0.130\n",
       "alcohol                  0.2656      0.022     12.320      0.000       0.223       0.308\n",
       "red_wine                 0.1556      0.024      6.367      0.000       0.108       0.204\n",
       "==============================================================================\n",
       "Omnibus:                      140.992   Durbin-Watson:                   1.648\n",
       "Prob(Omnibus):                  0.000   Jarque-Bera (JB):              313.985\n",
       "Skew:                           0.016   Prob(JB):                     6.59e-69\n",
       "Kurtosis:                       4.077   Cond. No.                         12.6\n",
       "==============================================================================\n",
       "\n",
       "Warnings:\n",
       "[1] Standard Errors assume that the covariance matrix of the errors is correctly specified.\n",
       "\"\"\""
      ]
     },
     "execution_count": 45,
     "metadata": {},
     "output_type": "execute_result"
    }
   ],
=======
   "execution_count": null,
   "metadata": {
    "scrolled": true
   },
   "outputs": [],
>>>>>>> mlf v2
   "source": [
    "predictors = sm.add_constant(wine_preds_scaled)\n",
    "model = sm.OLS(wine_target, predictors).fit()\n",
    "model.summary()"
   ]
  },
  {
   "cell_type": "markdown",
   "metadata": {},
   "source": [
    "## Multiple Regression in Scikit-Learn"
   ]
  },
  {
   "cell_type": "code",
<<<<<<< HEAD
   "execution_count": 46,
=======
   "execution_count": null,
>>>>>>> mlf v2
   "metadata": {},
   "outputs": [],
   "source": [
    "# Let's create a StandardScaler object to scale our data for us.\n",
    "ss = StandardScaler()\n",
    "\n",
    "\n",
    "# Now we'll apply it to our data by using the .fit() and .transform() methods.\n",
    "\n",
    "ss.fit(wine_preds)\n",
    "\n",
    "wine_preds_st_scaled = ss.transform(wine_preds)"
   ]
  },
  {
   "cell_type": "code",
<<<<<<< HEAD
   "execution_count": 47,
   "metadata": {},
   "outputs": [
    {
     "data": {
      "text/plain": [
       "True"
      ]
     },
     "execution_count": 47,
     "metadata": {},
     "output_type": "execute_result"
    }
   ],
=======
   "execution_count": null,
   "metadata": {},
   "outputs": [],
>>>>>>> mlf v2
   "source": [
    "# Check that the scaling worked about the same as when we did it by hand\n",
    "\n",
    "np.allclose(wine_preds_st_scaled, wine_preds_scaled)"
   ]
  },
  {
   "cell_type": "code",
<<<<<<< HEAD
   "execution_count": 48,
   "metadata": {},
   "outputs": [
    {
     "data": {
      "text/html": [
       "<div>\n",
       "<style scoped>\n",
       "    .dataframe tbody tr th:only-of-type {\n",
       "        vertical-align: middle;\n",
       "    }\n",
       "\n",
       "    .dataframe tbody tr th {\n",
       "        vertical-align: top;\n",
       "    }\n",
       "\n",
       "    .dataframe thead th {\n",
       "        text-align: right;\n",
       "    }\n",
       "</style>\n",
       "<table border=\"1\" class=\"dataframe\">\n",
       "  <thead>\n",
       "    <tr style=\"text-align: right;\">\n",
       "      <th></th>\n",
       "      <th>fixed acidity</th>\n",
       "      <th>volatile acidity</th>\n",
       "      <th>citric acid</th>\n",
       "      <th>residual sugar</th>\n",
       "      <th>chlorides</th>\n",
       "      <th>free sulfur dioxide</th>\n",
       "      <th>total sulfur dioxide</th>\n",
       "      <th>density</th>\n",
       "      <th>pH</th>\n",
       "      <th>sulphates</th>\n",
       "      <th>alcohol</th>\n",
       "      <th>red_wine</th>\n",
       "    </tr>\n",
       "  </thead>\n",
       "  <tbody>\n",
       "    <tr>\n",
       "      <th>0</th>\n",
       "      <td>0.142473</td>\n",
       "      <td>2.188833</td>\n",
       "      <td>-2.192833</td>\n",
       "      <td>-0.744778</td>\n",
       "      <td>0.569958</td>\n",
       "      <td>-1.100140</td>\n",
       "      <td>-1.446359</td>\n",
       "      <td>1.034993</td>\n",
       "      <td>1.813090</td>\n",
       "      <td>0.193097</td>\n",
       "      <td>-0.915464</td>\n",
       "      <td>1.75019</td>\n",
       "    </tr>\n",
       "    <tr>\n",
       "      <th>1</th>\n",
       "      <td>0.451036</td>\n",
       "      <td>3.282235</td>\n",
       "      <td>-2.192833</td>\n",
       "      <td>-0.597640</td>\n",
       "      <td>1.197975</td>\n",
       "      <td>-0.311320</td>\n",
       "      <td>-0.862469</td>\n",
       "      <td>0.701486</td>\n",
       "      <td>-0.115073</td>\n",
       "      <td>0.999579</td>\n",
       "      <td>-0.580068</td>\n",
       "      <td>1.75019</td>\n",
       "    </tr>\n",
       "    <tr>\n",
       "      <th>2</th>\n",
       "      <td>0.451036</td>\n",
       "      <td>2.553300</td>\n",
       "      <td>-1.917553</td>\n",
       "      <td>-0.660699</td>\n",
       "      <td>1.026697</td>\n",
       "      <td>-0.874763</td>\n",
       "      <td>-1.092486</td>\n",
       "      <td>0.768188</td>\n",
       "      <td>0.258120</td>\n",
       "      <td>0.797958</td>\n",
       "      <td>-0.580068</td>\n",
       "      <td>1.75019</td>\n",
       "    </tr>\n",
       "    <tr>\n",
       "      <th>3</th>\n",
       "      <td>3.073817</td>\n",
       "      <td>-0.362438</td>\n",
       "      <td>1.661085</td>\n",
       "      <td>-0.744778</td>\n",
       "      <td>0.541412</td>\n",
       "      <td>-0.762074</td>\n",
       "      <td>-0.986324</td>\n",
       "      <td>1.101694</td>\n",
       "      <td>-0.363868</td>\n",
       "      <td>0.327510</td>\n",
       "      <td>-0.580068</td>\n",
       "      <td>1.75019</td>\n",
       "    </tr>\n",
       "    <tr>\n",
       "      <th>4</th>\n",
       "      <td>0.142473</td>\n",
       "      <td>2.188833</td>\n",
       "      <td>-2.192833</td>\n",
       "      <td>-0.744778</td>\n",
       "      <td>0.569958</td>\n",
       "      <td>-1.100140</td>\n",
       "      <td>-1.446359</td>\n",
       "      <td>1.034993</td>\n",
       "      <td>1.813090</td>\n",
       "      <td>0.193097</td>\n",
       "      <td>-0.915464</td>\n",
       "      <td>1.75019</td>\n",
       "    </tr>\n",
       "  </tbody>\n",
       "</table>\n",
       "</div>"
      ],
      "text/plain": [
       "   fixed acidity  volatile acidity  citric acid  residual sugar  chlorides  \\\n",
       "0       0.142473          2.188833    -2.192833       -0.744778   0.569958   \n",
       "1       0.451036          3.282235    -2.192833       -0.597640   1.197975   \n",
       "2       0.451036          2.553300    -1.917553       -0.660699   1.026697   \n",
       "3       3.073817         -0.362438     1.661085       -0.744778   0.541412   \n",
       "4       0.142473          2.188833    -2.192833       -0.744778   0.569958   \n",
       "\n",
       "   free sulfur dioxide  total sulfur dioxide   density        pH  sulphates  \\\n",
       "0            -1.100140             -1.446359  1.034993  1.813090   0.193097   \n",
       "1            -0.311320             -0.862469  0.701486 -0.115073   0.999579   \n",
       "2            -0.874763             -1.092486  0.768188  0.258120   0.797958   \n",
       "3            -0.762074             -0.986324  1.101694 -0.363868   0.327510   \n",
       "4            -1.100140             -1.446359  1.034993  1.813090   0.193097   \n",
       "\n",
       "    alcohol  red_wine  \n",
       "0 -0.915464   1.75019  \n",
       "1 -0.580068   1.75019  \n",
       "2 -0.580068   1.75019  \n",
       "3 -0.580068   1.75019  \n",
       "4 -0.915464   1.75019  "
      ]
     },
     "execution_count": 48,
     "metadata": {},
     "output_type": "execute_result"
    }
   ],
=======
   "execution_count": null,
   "metadata": {},
   "outputs": [],
>>>>>>> mlf v2
   "source": [
    "wine_preds_scaled.head()"
   ]
  },
  {
   "cell_type": "code",
<<<<<<< HEAD
   "execution_count": 49,
   "metadata": {},
   "outputs": [
    {
     "data": {
      "text/plain": [
       "array([[ 0.14247327,  2.18883292, -2.19283252, -0.7447781 ,  0.56995782,\n",
       "        -1.10013986, -1.44635852,  1.03499282,  1.81308951,  0.19309677,\n",
       "        -0.91546416,  1.75018984],\n",
       "       [ 0.45103572,  3.28223494, -2.19283252, -0.59764007,  1.1979747 ,\n",
       "        -0.31132009, -0.86246863,  0.70148631, -0.11507303,  0.99957862,\n",
       "        -0.58006813,  1.75018984],\n",
       "       [ 0.45103572,  2.55330026, -1.91755268, -0.66069923,  1.02669737,\n",
       "        -0.87476278, -1.09248586,  0.76818761,  0.25811972,  0.79795816,\n",
       "        -0.58006813,  1.75018984],\n",
       "       [ 3.07381662, -0.36243847,  1.66108525, -0.7447781 ,  0.54141159,\n",
       "        -0.76207424, -0.98632406,  1.10169412, -0.3638682 ,  0.32751041,\n",
       "        -0.58006813,  1.75018984],\n",
       "       [ 0.14247327,  2.18883292, -2.19283252, -0.7447781 ,  0.56995782,\n",
       "        -1.10013986, -1.44635852,  1.03499282,  1.81308951,  0.19309677,\n",
       "        -0.91546416,  1.75018984]])"
      ]
     },
     "execution_count": 49,
     "metadata": {},
     "output_type": "execute_result"
    }
   ],
=======
   "execution_count": null,
   "metadata": {},
   "outputs": [],
>>>>>>> mlf v2
   "source": [
    "wine_preds_st_scaled[:5, :]"
   ]
  },
  {
   "cell_type": "code",
<<<<<<< HEAD
   "execution_count": 50,
   "metadata": {},
   "outputs": [
    {
     "data": {
      "text/plain": [
       "LinearRegression()"
      ]
     },
     "execution_count": 50,
     "metadata": {},
     "output_type": "execute_result"
    }
   ],
=======
   "execution_count": null,
   "metadata": {},
   "outputs": [],
>>>>>>> mlf v2
   "source": [
    "# Now we can fit a LinearRegression object to our training data!\n",
    "\n",
    "lr = LinearRegression()\n",
    "lr.fit(wine_preds_st_scaled, wine_target)"
   ]
  },
  {
   "cell_type": "code",
<<<<<<< HEAD
   "execution_count": 51,
   "metadata": {},
   "outputs": [
    {
     "data": {
      "text/plain": [
       "array([ 0.11027401, -0.24568548, -0.00909927,  0.29704168, -0.02652718,\n",
       "        0.08762284, -0.07927578, -0.311567  ,  0.08018737,  0.10739154,\n",
       "        0.26556038,  0.155642  ])"
      ]
     },
     "execution_count": 51,
     "metadata": {},
     "output_type": "execute_result"
    }
   ],
=======
   "execution_count": null,
   "metadata": {},
   "outputs": [],
>>>>>>> mlf v2
   "source": [
    "# We can use the .coef_ attribute to recover the results\n",
    "# of the regression.\n",
    "\n",
    "lr.coef_"
   ]
  },
  {
   "cell_type": "code",
<<<<<<< HEAD
   "execution_count": 52,
   "metadata": {},
   "outputs": [
    {
     "data": {
      "text/plain": [
       "5.818377712790517"
      ]
     },
     "execution_count": 52,
     "metadata": {},
     "output_type": "execute_result"
    }
   ],
=======
   "execution_count": null,
   "metadata": {},
   "outputs": [],
>>>>>>> mlf v2
   "source": [
    "lr.intercept_"
   ]
  },
  {
   "cell_type": "code",
<<<<<<< HEAD
   "execution_count": 53,
   "metadata": {},
   "outputs": [
    {
     "data": {
      "text/plain": [
       "0.29653465192890527"
      ]
     },
     "execution_count": 53,
     "metadata": {},
     "output_type": "execute_result"
    }
   ],
=======
   "execution_count": null,
   "metadata": {},
   "outputs": [],
>>>>>>> mlf v2
   "source": [
    "lr.score(wine_preds_st_scaled, wine_target)"
   ]
  },
  {
   "cell_type": "code",
<<<<<<< HEAD
   "execution_count": 54,
   "metadata": {},
   "outputs": [
    {
     "data": {
      "text/plain": [
       "array([4.9711381 , 4.91138099, 5.03013256, ..., 5.3914881 , 6.45904385,\n",
       "       6.24475934])"
      ]
     },
     "execution_count": 54,
     "metadata": {},
     "output_type": "execute_result"
    }
   ],
=======
   "execution_count": null,
   "metadata": {},
   "outputs": [],
>>>>>>> mlf v2
   "source": [
    "lr.predict(wine_preds_st_scaled)"
   ]
  },
  {
   "cell_type": "markdown",
   "metadata": {},
   "source": [
    "## Sklearn Metrics\n",
    "\n",
    "The metrics module in sklearn has a number of metrics that we can use to meaure the accuracy of our model, including the $R^2$ score, the mean absolute error and the mean squared error. Note that the default 'score' on our model object is the $R^2$ score. Let's go back to our wine dataset:"
   ]
  },
  {
   "cell_type": "code",
<<<<<<< HEAD
   "execution_count": 55,
   "metadata": {},
   "outputs": [
    {
     "data": {
      "text/plain": [
       "0.29653465192890527"
      ]
     },
     "execution_count": 55,
     "metadata": {},
     "output_type": "execute_result"
    }
   ],
=======
   "execution_count": null,
   "metadata": {},
   "outputs": [],
>>>>>>> mlf v2
   "source": [
    "metrics.r2_score(wine_target, lr.predict(wine_preds_st_scaled))"
   ]
  },
  {
   "cell_type": "markdown",
   "metadata": {},
   "source": [
    "Let's make sure this metric is properly calibrated. If we put simply $\\bar{y}$ as our prediction, then we should get an $R^2$ score of *0*. And if we predict, say, $\\bar{y} + 1$, then we should get a *negative* $R^2$ score."
   ]
  },
  {
   "cell_type": "code",
<<<<<<< HEAD
   "execution_count": 56,
   "metadata": {},
   "outputs": [
    {
     "data": {
      "text/plain": [
       "0.0"
      ]
     },
     "execution_count": 56,
     "metadata": {},
     "output_type": "execute_result"
    }
   ],
=======
   "execution_count": null,
   "metadata": {},
   "outputs": [],
>>>>>>> mlf v2
   "source": [
    "avg_quality = np.mean(wine_target)\n",
    "num = len(wine_target)\n",
    "\n",
    "metrics.r2_score(wine_target, avg_quality * np.ones(num))"
   ]
  },
  {
   "cell_type": "code",
<<<<<<< HEAD
   "execution_count": 57,
   "metadata": {},
   "outputs": [
    {
     "data": {
      "text/plain": [
       "-1.31154869162707"
      ]
     },
     "execution_count": 57,
     "metadata": {},
     "output_type": "execute_result"
    }
   ],
=======
   "execution_count": null,
   "metadata": {},
   "outputs": [],
>>>>>>> mlf v2
   "source": [
    "metrics.r2_score(wine_target, (avg_quality + 1) * np.ones(num))"
   ]
  },
  {
   "cell_type": "code",
<<<<<<< HEAD
   "execution_count": 58,
   "metadata": {},
   "outputs": [
    {
     "data": {
      "text/plain": [
       "0.568537539040229"
      ]
     },
     "execution_count": 58,
     "metadata": {},
     "output_type": "execute_result"
    }
   ],
=======
   "execution_count": null,
   "metadata": {},
   "outputs": [],
>>>>>>> mlf v2
   "source": [
    "metrics.mean_absolute_error(wine_target, lr.predict(wine_preds_st_scaled))"
   ]
  },
  {
   "cell_type": "code",
<<<<<<< HEAD
   "execution_count": 59,
   "metadata": {},
   "outputs": [
    {
     "data": {
      "text/plain": [
       "0.5363623573886502"
      ]
     },
     "execution_count": 59,
     "metadata": {},
     "output_type": "execute_result"
    }
   ],
=======
   "execution_count": null,
   "metadata": {},
   "outputs": [],
>>>>>>> mlf v2
   "source": [
    "metrics.mean_squared_error(wine_target, lr.predict(wine_preds_st_scaled))"
   ]
  },
  {
   "cell_type": "markdown",
   "metadata": {},
   "source": [
    "# Level Up: Regression with Categorical Features with the Comma Dataset"
   ]
  },
  {
   "cell_type": "code",
<<<<<<< HEAD
   "execution_count": 60,
   "metadata": {},
   "outputs": [
    {
     "data": {
      "text/plain": [
       "Index(['x0_It's important for a person to be honest, kind, and loyal.',\n",
       "       'x1_Yes', 'x2_Not at all', 'x2_Not much', 'x2_Some',\n",
       "       'x3_Some experts say it's important to drink milk, but the data is inconclusive.',\n",
       "       'x4_Yes', 'x5_Not at all', 'x5_Not much', 'x5_Some',\n",
       "       'x6_Somewhat important', 'x6_Somewhat unimportant', 'x6_Very important',\n",
       "       'x6_Very unimportant', 'x7_Male', 'x8_30-44', 'x8_45-60', 'x8_> 60',\n",
       "       'x9_$100,000 - $149,999', 'x9_$150,000+', 'x9_$25,000 - $49,999',\n",
       "       'x9_$50,000 - $99,999', 'x10_Graduate degree', 'x10_High school degree',\n",
       "       'x10_Less than high school degree',\n",
       "       'x10_Some college or Associate degree', 'x11_East South Central',\n",
       "       'x11_Middle Atlantic', 'x11_Mountain', 'x11_New England', 'x11_Pacific',\n",
       "       'x11_South Atlantic', 'x11_West North Central',\n",
       "       'x11_West South Central'],\n",
       "      dtype='object')"
      ]
     },
     "execution_count": 60,
     "metadata": {},
     "output_type": "execute_result"
    }
   ],
=======
   "execution_count": null,
   "metadata": {},
   "outputs": [],
>>>>>>> mlf v2
   "source": [
    "comma_df.columns"
   ]
  },
  {
   "cell_type": "code",
<<<<<<< HEAD
   "execution_count": 61,
   "metadata": {},
   "outputs": [
    {
     "data": {
      "text/plain": [
       "LinearRegression()"
      ]
     },
     "execution_count": 61,
     "metadata": {},
     "output_type": "execute_result"
    }
   ],
=======
   "execution_count": null,
   "metadata": {},
   "outputs": [],
>>>>>>> mlf v2
   "source": [
    "# We'll try to predict the first column of df: the extent to which\n",
    "# the person accepts the sentence\n",
    "# without the Oxford comma as more grammatically correct.\n",
    "\n",
    "comma_target = comma_df['x0_It\\'s important for a person to be honest, kind, and loyal.']\n",
    "\n",
    "comma_predictors = comma_df[['x8_30-44',\n",
    "       'x8_45-60', 'x8_> 60', 'x9_$100,000 - $149,999',\n",
    "       'x9_$150,000+', 'x9_$25,000 - $49,999', 'x9_$50,000 - $99,999']]\n",
    "\n",
    "comma_lr = LinearRegression()\n",
    "\n",
    "comma_lr.fit(comma_predictors, comma_target)"
   ]
  },
  {
   "cell_type": "code",
<<<<<<< HEAD
   "execution_count": 62,
   "metadata": {},
   "outputs": [
    {
     "data": {
      "text/plain": [
       "0.06787480451929695"
      ]
     },
     "execution_count": 62,
     "metadata": {},
     "output_type": "execute_result"
    }
   ],
=======
   "execution_count": null,
   "metadata": {},
   "outputs": [],
>>>>>>> mlf v2
   "source": [
    "comma_lr.score(comma_predictors, comma_target)"
   ]
  },
  {
   "cell_type": "code",
<<<<<<< HEAD
   "execution_count": 63,
   "metadata": {},
   "outputs": [
    {
     "data": {
      "text/plain": [
       "array([-0.19156396, -0.28625016, -0.32526961, -0.02213833, -0.08411478,\n",
       "       -0.12790946, -0.05293649])"
      ]
     },
     "execution_count": 63,
     "metadata": {},
     "output_type": "execute_result"
    }
   ],
=======
   "execution_count": null,
   "metadata": {},
   "outputs": [],
>>>>>>> mlf v2
   "source": [
    "comma_lr.coef_"
   ]
  },
  {
   "cell_type": "code",
<<<<<<< HEAD
   "execution_count": 64,
   "metadata": {},
   "outputs": [
    {
     "data": {
      "text/plain": [
       "x0_It's important for a person to be honest, kind, and loyal.                      1.000000\n",
       "x1_Yes                                                                             0.194395\n",
       "x2_Not at all                                                                     -0.208253\n",
       "x2_Not much                                                                       -0.154735\n",
       "x2_Some                                                                            0.039525\n",
       "x3_Some experts say it's important to drink milk, but the data is inconclusive.   -0.028032\n",
       "x4_Yes                                                                             0.006351\n",
       "x5_Not at all                                                                     -0.062906\n",
       "x5_Not much                                                                        0.005660\n",
       "x5_Some                                                                            0.021905\n",
       "x6_Somewhat important                                                             -0.060440\n",
       "x6_Somewhat unimportant                                                            0.004779\n",
       "x6_Very important                                                                  0.053627\n",
       "x6_Very unimportant                                                                0.042843\n",
       "x7_Male                                                                           -0.007906\n",
       "x8_30-44                                                                           0.023863\n",
       "x8_45-60                                                                          -0.097627\n",
       "x8_> 60                                                                           -0.133730\n",
       "x9_$100,000 - $149,999                                                             0.014077\n",
       "x9_$150,000+                                                                      -0.045436\n",
       "x9_$25,000 - $49,999                                                              -0.052653\n",
       "x9_$50,000 - $99,999                                                              -0.015090\n",
       "x10_Graduate degree                                                                0.046685\n",
       "x10_High school degree                                                            -0.030399\n",
       "x10_Less than high school degree                                                   0.011053\n",
       "x10_Some college or Associate degree                                              -0.062061\n",
       "x11_East South Central                                                             0.015785\n",
       "x11_Middle Atlantic                                                               -0.112698\n",
       "x11_Mountain                                                                       0.016404\n",
       "x11_New England                                                                   -0.005816\n",
       "x11_Pacific                                                                       -0.063463\n",
       "x11_South Atlantic                                                                 0.065443\n",
       "x11_West North Central                                                            -0.010483\n",
       "x11_West South Central                                                             0.017191\n",
       "Name: x0_It's important for a person to be honest, kind, and loyal., dtype: float64"
      ]
     },
     "execution_count": 64,
     "metadata": {},
     "output_type": "execute_result"
    }
   ],
=======
   "execution_count": null,
   "metadata": {},
   "outputs": [],
>>>>>>> mlf v2
   "source": [
    "comma_df.corr()['x0_It\\'s important for a person to be honest, kind, and loyal.']"
   ]
  },
  {
   "cell_type": "markdown",
   "metadata": {},
   "source": [
    "For more on the interpretation of regression coefficients for categorical variables, see [Erin's repo](https://github.com/hoffm386/coefficients-of-dropped-categorical-variables)."
   ]
  },
  {
   "cell_type": "code",
   "execution_count": null,
   "metadata": {},
   "outputs": [],
   "source": []
  }
 ],
 "metadata": {
  "kernelspec": {
   "display_name": "Python 3",
   "language": "python",
   "name": "python3"
  },
  "language_info": {
   "codemirror_mode": {
    "name": "ipython",
    "version": 3
   },
   "file_extension": ".py",
   "mimetype": "text/x-python",
   "name": "python",
   "nbconvert_exporter": "python",
   "pygments_lexer": "ipython3",
<<<<<<< HEAD
   "version": "3.8.3"
=======
   "version": "3.8.5"
>>>>>>> mlf v2
  }
 },
 "nbformat": 4,
 "nbformat_minor": 2
}
