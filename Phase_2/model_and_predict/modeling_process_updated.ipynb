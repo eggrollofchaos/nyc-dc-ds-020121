{
 "cells": [
  {
   "cell_type": "markdown",
   "metadata": {},
   "source": [
    "# Movie Gross Modelling\n",
    "\n",
    "Below are a list of steps that you should take while trying to complete your bake-off entry."
   ]
  },
  {
   "cell_type": "code",
   "execution_count": 1,
   "metadata": {},
   "outputs": [],
   "source": [
    "import numpy as np \n",
    "import pandas as pd\n",
    "import seaborn as sns\n",
    "from datetime import datetime\n",
    "import matplotlib.pyplot as plt\n",
    "%matplotlib inline\n",
    "pd.set_option('display.max_columns', 100)"
   ]
  },
  {
   "cell_type": "markdown",
   "metadata": {},
   "source": [
    "## Step 1: Read in Data"
   ]
  },
  {
   "cell_type": "code",
   "execution_count": 2,
   "metadata": {},
   "outputs": [
    {
     "name": "stdout",
     "output_type": "stream",
     "text": [
      "(2500, 28)\n"
     ]
    },
    {
     "data": {
      "text/html": [
       "<div>\n",
       "<style scoped>\n",
       "    .dataframe tbody tr th:only-of-type {\n",
       "        vertical-align: middle;\n",
       "    }\n",
       "\n",
       "    .dataframe tbody tr th {\n",
       "        vertical-align: top;\n",
       "    }\n",
       "\n",
       "    .dataframe thead th {\n",
       "        text-align: right;\n",
       "    }\n",
       "</style>\n",
       "<table border=\"1\" class=\"dataframe\">\n",
       "  <thead>\n",
       "    <tr style=\"text-align: right;\">\n",
       "      <th></th>\n",
       "      <th>color</th>\n",
       "      <th>director_name</th>\n",
       "      <th>num_critic_for_reviews</th>\n",
       "      <th>duration</th>\n",
       "      <th>director_facebook_likes</th>\n",
       "      <th>actor_3_facebook_likes</th>\n",
       "      <th>actor_2_name</th>\n",
       "      <th>actor_1_facebook_likes</th>\n",
       "      <th>genres</th>\n",
       "      <th>actor_1_name</th>\n",
       "      <th>movie_title</th>\n",
       "      <th>num_voted_users</th>\n",
       "      <th>cast_total_facebook_likes</th>\n",
       "      <th>actor_3_name</th>\n",
       "      <th>facenumber_in_poster</th>\n",
       "      <th>plot_keywords</th>\n",
       "      <th>movie_imdb_link</th>\n",
       "      <th>num_user_for_reviews</th>\n",
       "      <th>language</th>\n",
       "      <th>country</th>\n",
       "      <th>content_rating</th>\n",
       "      <th>budget</th>\n",
       "      <th>title_year</th>\n",
       "      <th>actor_2_facebook_likes</th>\n",
       "      <th>imdb_score</th>\n",
       "      <th>aspect_ratio</th>\n",
       "      <th>movie_facebook_likes</th>\n",
       "      <th>gross</th>\n",
       "    </tr>\n",
       "  </thead>\n",
       "  <tbody>\n",
       "    <tr>\n",
       "      <th>1630</th>\n",
       "      <td>Color</td>\n",
       "      <td>Luis Mandoki</td>\n",
       "      <td>85.0</td>\n",
       "      <td>131.0</td>\n",
       "      <td>43.0</td>\n",
       "      <td>362.0</td>\n",
       "      <td>John Savage</td>\n",
       "      <td>18000.0</td>\n",
       "      <td>Drama|Romance</td>\n",
       "      <td>Robin Wright</td>\n",
       "      <td>Message in a Bottle</td>\n",
       "      <td>28942</td>\n",
       "      <td>19815</td>\n",
       "      <td>Raphael Sbarge</td>\n",
       "      <td>0.0</td>\n",
       "      <td>beach|bottle|jogging|letter|love</td>\n",
       "      <td>http://www.imdb.com/title/tt0139462/?ref_=fn_t...</td>\n",
       "      <td>223.0</td>\n",
       "      <td>English</td>\n",
       "      <td>USA</td>\n",
       "      <td>PG-13</td>\n",
       "      <td>55000000.0</td>\n",
       "      <td>1999.0</td>\n",
       "      <td>652.0</td>\n",
       "      <td>6.1</td>\n",
       "      <td>2.35</td>\n",
       "      <td>0</td>\n",
       "      <td>52799004.0</td>\n",
       "    </tr>\n",
       "    <tr>\n",
       "      <th>1254</th>\n",
       "      <td>Color</td>\n",
       "      <td>Greg Mottola</td>\n",
       "      <td>342.0</td>\n",
       "      <td>109.0</td>\n",
       "      <td>99.0</td>\n",
       "      <td>57.0</td>\n",
       "      <td>Nelson Ascencio</td>\n",
       "      <td>176.0</td>\n",
       "      <td>Adventure|Comedy|Sci-Fi</td>\n",
       "      <td>Bobby Lee</td>\n",
       "      <td>Paul</td>\n",
       "      <td>192462</td>\n",
       "      <td>390</td>\n",
       "      <td>Jeremy Owen</td>\n",
       "      <td>0.0</td>\n",
       "      <td>alien|geek|nerd|road trip|ufo</td>\n",
       "      <td>http://www.imdb.com/title/tt1092026/?ref_=fn_t...</td>\n",
       "      <td>334.0</td>\n",
       "      <td>English</td>\n",
       "      <td>USA</td>\n",
       "      <td>R</td>\n",
       "      <td>40000000.0</td>\n",
       "      <td>2011.0</td>\n",
       "      <td>61.0</td>\n",
       "      <td>7.0</td>\n",
       "      <td>2.35</td>\n",
       "      <td>42000</td>\n",
       "      <td>37371385.0</td>\n",
       "    </tr>\n",
       "    <tr>\n",
       "      <th>1680</th>\n",
       "      <td>Color</td>\n",
       "      <td>Nicholas Stoller</td>\n",
       "      <td>232.0</td>\n",
       "      <td>131.0</td>\n",
       "      <td>89.0</td>\n",
       "      <td>372.0</td>\n",
       "      <td>Jacki Weaver</td>\n",
       "      <td>2000.0</td>\n",
       "      <td>Comedy|Romance</td>\n",
       "      <td>Alison Brie</td>\n",
       "      <td>The Five-Year Engagement</td>\n",
       "      <td>78974</td>\n",
       "      <td>3479</td>\n",
       "      <td>David Paymer</td>\n",
       "      <td>2.0</td>\n",
       "      <td>kissing while having sex|kitchen|reference to ...</td>\n",
       "      <td>http://www.imdb.com/title/tt1195478/?ref_=fn_t...</td>\n",
       "      <td>141.0</td>\n",
       "      <td>English</td>\n",
       "      <td>USA</td>\n",
       "      <td>R</td>\n",
       "      <td>30000000.0</td>\n",
       "      <td>2012.0</td>\n",
       "      <td>401.0</td>\n",
       "      <td>6.2</td>\n",
       "      <td>1.85</td>\n",
       "      <td>11000</td>\n",
       "      <td>28644770.0</td>\n",
       "    </tr>\n",
       "    <tr>\n",
       "      <th>2300</th>\n",
       "      <td>Color</td>\n",
       "      <td>Paul Thomas Anderson</td>\n",
       "      <td>401.0</td>\n",
       "      <td>148.0</td>\n",
       "      <td>0.0</td>\n",
       "      <td>175.0</td>\n",
       "      <td>Katherine Waterston</td>\n",
       "      <td>204.0</td>\n",
       "      <td>Comedy|Crime|Drama|Mystery|Romance</td>\n",
       "      <td>Martin Dew</td>\n",
       "      <td>Inherent Vice</td>\n",
       "      <td>61935</td>\n",
       "      <td>707</td>\n",
       "      <td>Serena Scott Thomas</td>\n",
       "      <td>0.0</td>\n",
       "      <td>1960s|based on novel|ex boyfriend ex girlfrien...</td>\n",
       "      <td>http://www.imdb.com/title/tt1791528/?ref_=fn_t...</td>\n",
       "      <td>242.0</td>\n",
       "      <td>English</td>\n",
       "      <td>USA</td>\n",
       "      <td>R</td>\n",
       "      <td>20000000.0</td>\n",
       "      <td>2014.0</td>\n",
       "      <td>178.0</td>\n",
       "      <td>6.7</td>\n",
       "      <td>1.85</td>\n",
       "      <td>18000</td>\n",
       "      <td>8093318.0</td>\n",
       "    </tr>\n",
       "    <tr>\n",
       "      <th>1844</th>\n",
       "      <td>Color</td>\n",
       "      <td>Wes Craven</td>\n",
       "      <td>224.0</td>\n",
       "      <td>85.0</td>\n",
       "      <td>0.0</td>\n",
       "      <td>178.0</td>\n",
       "      <td>Carl Gilliard</td>\n",
       "      <td>332.0</td>\n",
       "      <td>Mystery|Thriller</td>\n",
       "      <td>Robert Pine</td>\n",
       "      <td>Red Eye</td>\n",
       "      <td>94108</td>\n",
       "      <td>1090</td>\n",
       "      <td>Suzie Plakson</td>\n",
       "      <td>0.0</td>\n",
       "      <td>airport|flight|hotel|hotel manager|plane</td>\n",
       "      <td>http://www.imdb.com/title/tt0421239/?ref_=fn_t...</td>\n",
       "      <td>673.0</td>\n",
       "      <td>English</td>\n",
       "      <td>USA</td>\n",
       "      <td>PG-13</td>\n",
       "      <td>26000000.0</td>\n",
       "      <td>2005.0</td>\n",
       "      <td>285.0</td>\n",
       "      <td>6.5</td>\n",
       "      <td>2.35</td>\n",
       "      <td>0</td>\n",
       "      <td>57859105.0</td>\n",
       "    </tr>\n",
       "  </tbody>\n",
       "</table>\n",
       "</div>"
      ],
      "text/plain": [
       "      color         director_name  num_critic_for_reviews  duration  \\\n",
       "1630  Color          Luis Mandoki                    85.0     131.0   \n",
       "1254  Color          Greg Mottola                   342.0     109.0   \n",
       "1680  Color      Nicholas Stoller                   232.0     131.0   \n",
       "2300  Color  Paul Thomas Anderson                   401.0     148.0   \n",
       "1844  Color            Wes Craven                   224.0      85.0   \n",
       "\n",
       "      director_facebook_likes  actor_3_facebook_likes         actor_2_name  \\\n",
       "1630                     43.0                   362.0          John Savage   \n",
       "1254                     99.0                    57.0      Nelson Ascencio   \n",
       "1680                     89.0                   372.0         Jacki Weaver   \n",
       "2300                      0.0                   175.0  Katherine Waterston   \n",
       "1844                      0.0                   178.0        Carl Gilliard   \n",
       "\n",
       "      actor_1_facebook_likes                              genres  \\\n",
       "1630                 18000.0                       Drama|Romance   \n",
       "1254                   176.0             Adventure|Comedy|Sci-Fi   \n",
       "1680                  2000.0                      Comedy|Romance   \n",
       "2300                   204.0  Comedy|Crime|Drama|Mystery|Romance   \n",
       "1844                   332.0                    Mystery|Thriller   \n",
       "\n",
       "      actor_1_name                movie_title  num_voted_users  \\\n",
       "1630  Robin Wright       Message in a Bottle             28942   \n",
       "1254     Bobby Lee                      Paul            192462   \n",
       "1680   Alison Brie  The Five-Year Engagement             78974   \n",
       "2300    Martin Dew             Inherent Vice             61935   \n",
       "1844   Robert Pine                   Red Eye             94108   \n",
       "\n",
       "      cast_total_facebook_likes         actor_3_name  facenumber_in_poster  \\\n",
       "1630                      19815       Raphael Sbarge                   0.0   \n",
       "1254                        390          Jeremy Owen                   0.0   \n",
       "1680                       3479         David Paymer                   2.0   \n",
       "2300                        707  Serena Scott Thomas                   0.0   \n",
       "1844                       1090        Suzie Plakson                   0.0   \n",
       "\n",
       "                                          plot_keywords  \\\n",
       "1630                   beach|bottle|jogging|letter|love   \n",
       "1254                      alien|geek|nerd|road trip|ufo   \n",
       "1680  kissing while having sex|kitchen|reference to ...   \n",
       "2300  1960s|based on novel|ex boyfriend ex girlfrien...   \n",
       "1844           airport|flight|hotel|hotel manager|plane   \n",
       "\n",
       "                                        movie_imdb_link  num_user_for_reviews  \\\n",
       "1630  http://www.imdb.com/title/tt0139462/?ref_=fn_t...                 223.0   \n",
       "1254  http://www.imdb.com/title/tt1092026/?ref_=fn_t...                 334.0   \n",
       "1680  http://www.imdb.com/title/tt1195478/?ref_=fn_t...                 141.0   \n",
       "2300  http://www.imdb.com/title/tt1791528/?ref_=fn_t...                 242.0   \n",
       "1844  http://www.imdb.com/title/tt0421239/?ref_=fn_t...                 673.0   \n",
       "\n",
       "     language country content_rating      budget  title_year  \\\n",
       "1630  English     USA          PG-13  55000000.0      1999.0   \n",
       "1254  English     USA              R  40000000.0      2011.0   \n",
       "1680  English     USA              R  30000000.0      2012.0   \n",
       "2300  English     USA              R  20000000.0      2014.0   \n",
       "1844  English     USA          PG-13  26000000.0      2005.0   \n",
       "\n",
       "      actor_2_facebook_likes  imdb_score  aspect_ratio  movie_facebook_likes  \\\n",
       "1630                   652.0         6.1          2.35                     0   \n",
       "1254                    61.0         7.0          2.35                 42000   \n",
       "1680                   401.0         6.2          1.85                 11000   \n",
       "2300                   178.0         6.7          1.85                 18000   \n",
       "1844                   285.0         6.5          2.35                     0   \n",
       "\n",
       "           gross  \n",
       "1630  52799004.0  \n",
       "1254  37371385.0  \n",
       "1680  28644770.0  \n",
       "2300   8093318.0  \n",
       "1844  57859105.0  "
      ]
     },
     "execution_count": 2,
     "metadata": {},
     "output_type": "execute_result"
    }
   ],
   "source": [
    "df = pd.read_csv('movie_train_data.csv', index_col=0)\n",
    "print(df.shape)\n",
    "df.head()\n"
   ]
  },
  {
   "cell_type": "markdown",
   "metadata": {},
   "source": [
    "## Step 2: Exploratory Data Analysis \n",
    "    \n",
    "Become familiar with the data.  Look to see if there are any extreme values.  \n",
    "\n",
    "Additionally create data visualizations to determine if there are any relationships between your features and your target variables.  "
   ]
  },
  {
   "cell_type": "code",
   "execution_count": 3,
   "metadata": {},
   "outputs": [
    {
     "data": {
      "text/plain": [
       "color                         object\n",
       "director_name                 object\n",
       "num_critic_for_reviews       float64\n",
       "duration                     float64\n",
       "director_facebook_likes      float64\n",
       "actor_3_facebook_likes       float64\n",
       "actor_2_name                  object\n",
       "actor_1_facebook_likes       float64\n",
       "genres                        object\n",
       "actor_1_name                  object\n",
       "movie_title                   object\n",
       "num_voted_users                int64\n",
       "cast_total_facebook_likes      int64\n",
       "actor_3_name                  object\n",
       "facenumber_in_poster         float64\n",
       "plot_keywords                 object\n",
       "movie_imdb_link               object\n",
       "num_user_for_reviews         float64\n",
       "language                      object\n",
       "country                       object\n",
       "content_rating                object\n",
       "budget                       float64\n",
       "title_year                   float64\n",
       "actor_2_facebook_likes       float64\n",
       "imdb_score                   float64\n",
       "aspect_ratio                 float64\n",
       "movie_facebook_likes           int64\n",
       "gross                        float64\n",
       "dtype: object"
      ]
     },
     "execution_count": 3,
     "metadata": {},
     "output_type": "execute_result"
    }
   ],
   "source": [
    "df.dtypes"
   ]
  },
  {
   "cell_type": "code",
   "execution_count": 4,
   "metadata": {},
   "outputs": [],
   "source": [
    "df.drop(columns=['aspect_ratio', 'plot_keywords', \n",
    "                 'movie_facebook_likes', 'genres','imdb_score',\n",
    "                 'num_user_for_reviews', 'movie_imdb_link', 'num_voted_users',\n",
    "                 'num_critic_for_reviews'], inplace=True)"
   ]
  },
  {
   "cell_type": "code",
   "execution_count": 5,
   "metadata": {},
   "outputs": [
    {
     "data": {
      "text/plain": [
       "USA    2500\n",
       "Name: country, dtype: int64"
      ]
     },
     "execution_count": 5,
     "metadata": {},
     "output_type": "execute_result"
    }
   ],
   "source": [
    "df['country'].value_counts()"
   ]
  },
  {
   "cell_type": "code",
   "execution_count": 6,
   "metadata": {},
   "outputs": [
    {
     "data": {
      "text/plain": [
       "R        1117\n",
       "PG-13     922\n",
       "PG        398\n",
       "G          63\n",
       "Name: content_rating, dtype: int64"
      ]
     },
     "execution_count": 6,
     "metadata": {},
     "output_type": "execute_result"
    }
   ],
   "source": [
    "df['content_rating'].value_counts()"
   ]
  },
  {
   "cell_type": "code",
   "execution_count": 7,
   "metadata": {},
   "outputs": [
    {
     "data": {
      "text/plain": [
       "English    2500\n",
       "Name: language, dtype: int64"
      ]
     },
     "execution_count": 7,
     "metadata": {},
     "output_type": "execute_result"
    }
   ],
   "source": [
    "df['language'].value_counts()"
   ]
  },
  {
   "cell_type": "code",
   "execution_count": 8,
   "metadata": {},
   "outputs": [
    {
     "data": {
      "text/plain": [
       "<matplotlib.axes._subplots.AxesSubplot at 0x7fdf4dfc5d30>"
      ]
     },
     "execution_count": 8,
     "metadata": {},
     "output_type": "execute_result"
    },
    {
     "data": {
      "image/png": "[encoded data removed]",
      "text/plain": [
       "<Figure size 432x288 with 1 Axes>"
      ]
     },
     "metadata": {
      "needs_background": "light"
     },
     "output_type": "display_data"
    }
   ],
   "source": [
    "sns.heatmap(df.isna(), cbar=False)"
   ]
  },
  {
   "cell_type": "code",
   "execution_count": null,
   "metadata": {},
   "outputs": [],
   "source": []
  },
  {
   "cell_type": "markdown",
   "metadata": {},
   "source": [
    "## Step 3: Clean up any issues (extreme values, etc.) with the data.  \n",
    "\n",
    "Remember that you can't just delete rows with extreme values. Similar observations might be present in the holdout data set, and you can't just delete those rows and not have a prediction for it. "
   ]
  },
  {
   "cell_type": "code",
   "execution_count": 9,
   "metadata": {},
   "outputs": [
    {
     "data": {
      "text/plain": [
       "<matplotlib.axes._subplots.AxesSubplot at 0x7fdf4e202ee0>"
      ]
     },
     "execution_count": 9,
     "metadata": {},
     "output_type": "execute_result"
    },
    {
     "data": {
      "image/png": "[encoded data removed]",
      "text/plain": [
       "<Figure size 432x288 with 1 Axes>"
      ]
     },
     "metadata": {
      "needs_background": "light"
     },
     "output_type": "display_data"
    }
   ],
   "source": [
    "df.boxplot(['gross'])"
   ]
  },
  {
   "cell_type": "code",
   "execution_count": 10,
   "metadata": {},
   "outputs": [
    {
     "data": {
      "text/plain": [
       "<matplotlib.axes._subplots.AxesSubplot at 0x7fdf4e4cfe80>"
      ]
     },
     "execution_count": 10,
     "metadata": {},
     "output_type": "execute_result"
    },
    {
     "data": {
      "image/png": "[encoded data removed]",
      "text/plain": [
       "<Figure size 432x288 with 1 Axes>"
      ]
     },
     "metadata": {
      "needs_background": "light"
     },
     "output_type": "display_data"
    }
   ],
   "source": [
    "df['gross'].hist()"
   ]
  },
  {
   "cell_type": "code",
   "execution_count": 11,
   "metadata": {},
   "outputs": [
    {
     "data": {
      "text/html": [
       "<div>\n",
       "<style scoped>\n",
       "    .dataframe tbody tr th:only-of-type {\n",
       "        vertical-align: middle;\n",
       "    }\n",
       "\n",
       "    .dataframe tbody tr th {\n",
       "        vertical-align: top;\n",
       "    }\n",
       "\n",
       "    .dataframe thead th {\n",
       "        text-align: right;\n",
       "    }\n",
       "</style>\n",
       "<table border=\"1\" class=\"dataframe\">\n",
       "  <thead>\n",
       "    <tr style=\"text-align: right;\">\n",
       "      <th></th>\n",
       "      <th>duration</th>\n",
       "      <th>director_facebook_likes</th>\n",
       "      <th>actor_3_facebook_likes</th>\n",
       "      <th>actor_1_facebook_likes</th>\n",
       "      <th>cast_total_facebook_likes</th>\n",
       "      <th>facenumber_in_poster</th>\n",
       "      <th>budget</th>\n",
       "      <th>title_year</th>\n",
       "      <th>actor_2_facebook_likes</th>\n",
       "      <th>gross</th>\n",
       "    </tr>\n",
       "  </thead>\n",
       "  <tbody>\n",
       "    <tr>\n",
       "      <th>count</th>\n",
       "      <td>2499.000000</td>\n",
       "      <td>2500.000000</td>\n",
       "      <td>2497.000000</td>\n",
       "      <td>2500.000000</td>\n",
       "      <td>2500.000000</td>\n",
       "      <td>2497.000000</td>\n",
       "      <td>2.382000e+03</td>\n",
       "      <td>2500.000000</td>\n",
       "      <td>2499.000000</td>\n",
       "      <td>2.500000e+03</td>\n",
       "    </tr>\n",
       "    <tr>\n",
       "      <th>mean</th>\n",
       "      <td>109.221689</td>\n",
       "      <td>866.975200</td>\n",
       "      <td>827.032038</td>\n",
       "      <td>8343.568400</td>\n",
       "      <td>12458.762400</td>\n",
       "      <td>1.434922</td>\n",
       "      <td>4.068471e+07</td>\n",
       "      <td>2003.504800</td>\n",
       "      <td>2202.673069</td>\n",
       "      <td>5.639740e+07</td>\n",
       "    </tr>\n",
       "    <tr>\n",
       "      <th>std</th>\n",
       "      <td>22.024798</td>\n",
       "      <td>3298.306388</td>\n",
       "      <td>1948.306217</td>\n",
       "      <td>17851.287857</td>\n",
       "      <td>21408.614158</td>\n",
       "      <td>2.196996</td>\n",
       "      <td>4.344595e+07</td>\n",
       "      <td>8.631557</td>\n",
       "      <td>4945.875486</td>\n",
       "      <td>7.236286e+07</td>\n",
       "    </tr>\n",
       "    <tr>\n",
       "      <th>min</th>\n",
       "      <td>53.000000</td>\n",
       "      <td>0.000000</td>\n",
       "      <td>0.000000</td>\n",
       "      <td>0.000000</td>\n",
       "      <td>0.000000</td>\n",
       "      <td>0.000000</td>\n",
       "      <td>1.500000e+04</td>\n",
       "      <td>1939.000000</td>\n",
       "      <td>0.000000</td>\n",
       "      <td>7.030000e+02</td>\n",
       "    </tr>\n",
       "    <tr>\n",
       "      <th>25%</th>\n",
       "      <td>95.000000</td>\n",
       "      <td>10.000000</td>\n",
       "      <td>242.000000</td>\n",
       "      <td>826.000000</td>\n",
       "      <td>2316.000000</td>\n",
       "      <td>0.000000</td>\n",
       "      <td>1.100000e+07</td>\n",
       "      <td>1999.000000</td>\n",
       "      <td>455.000000</td>\n",
       "      <td>1.090070e+07</td>\n",
       "    </tr>\n",
       "    <tr>\n",
       "      <th>50%</th>\n",
       "      <td>105.000000</td>\n",
       "      <td>57.500000</td>\n",
       "      <td>484.000000</td>\n",
       "      <td>2000.000000</td>\n",
       "      <td>4582.000000</td>\n",
       "      <td>1.000000</td>\n",
       "      <td>2.600000e+07</td>\n",
       "      <td>2005.000000</td>\n",
       "      <td>739.000000</td>\n",
       "      <td>3.322234e+07</td>\n",
       "    </tr>\n",
       "    <tr>\n",
       "      <th>75%</th>\n",
       "      <td>119.000000</td>\n",
       "      <td>219.500000</td>\n",
       "      <td>726.000000</td>\n",
       "      <td>13000.000000</td>\n",
       "      <td>16764.750000</td>\n",
       "      <td>2.000000</td>\n",
       "      <td>5.500000e+07</td>\n",
       "      <td>2010.000000</td>\n",
       "      <td>1000.000000</td>\n",
       "      <td>7.365136e+07</td>\n",
       "    </tr>\n",
       "    <tr>\n",
       "      <th>max</th>\n",
       "      <td>330.000000</td>\n",
       "      <td>23000.000000</td>\n",
       "      <td>23000.000000</td>\n",
       "      <td>640000.000000</td>\n",
       "      <td>656730.000000</td>\n",
       "      <td>43.000000</td>\n",
       "      <td>3.000000e+08</td>\n",
       "      <td>2016.000000</td>\n",
       "      <td>137000.000000</td>\n",
       "      <td>7.605058e+08</td>\n",
       "    </tr>\n",
       "  </tbody>\n",
       "</table>\n",
       "</div>"
      ],
      "text/plain": [
       "          duration  director_facebook_likes  actor_3_facebook_likes  \\\n",
       "count  2499.000000              2500.000000             2497.000000   \n",
       "mean    109.221689               866.975200              827.032038   \n",
       "std      22.024798              3298.306388             1948.306217   \n",
       "min      53.000000                 0.000000                0.000000   \n",
       "25%      95.000000                10.000000              242.000000   \n",
       "50%     105.000000                57.500000              484.000000   \n",
       "75%     119.000000               219.500000              726.000000   \n",
       "max     330.000000             23000.000000            23000.000000   \n",
       "\n",
       "       actor_1_facebook_likes  cast_total_facebook_likes  \\\n",
       "count             2500.000000                2500.000000   \n",
       "mean              8343.568400               12458.762400   \n",
       "std              17851.287857               21408.614158   \n",
       "min                  0.000000                   0.000000   \n",
       "25%                826.000000                2316.000000   \n",
       "50%               2000.000000                4582.000000   \n",
       "75%              13000.000000               16764.750000   \n",
       "max             640000.000000              656730.000000   \n",
       "\n",
       "       facenumber_in_poster        budget   title_year  \\\n",
       "count           2497.000000  2.382000e+03  2500.000000   \n",
       "mean               1.434922  4.068471e+07  2003.504800   \n",
       "std                2.196996  4.344595e+07     8.631557   \n",
       "min                0.000000  1.500000e+04  1939.000000   \n",
       "25%                0.000000  1.100000e+07  1999.000000   \n",
       "50%                1.000000  2.600000e+07  2005.000000   \n",
       "75%                2.000000  5.500000e+07  2010.000000   \n",
       "max               43.000000  3.000000e+08  2016.000000   \n",
       "\n",
       "       actor_2_facebook_likes         gross  \n",
       "count             2499.000000  2.500000e+03  \n",
       "mean              2202.673069  5.639740e+07  \n",
       "std               4945.875486  7.236286e+07  \n",
       "min                  0.000000  7.030000e+02  \n",
       "25%                455.000000  1.090070e+07  \n",
       "50%                739.000000  3.322234e+07  \n",
       "75%               1000.000000  7.365136e+07  \n",
       "max             137000.000000  7.605058e+08  "
      ]
     },
     "execution_count": 11,
     "metadata": {},
     "output_type": "execute_result"
    }
   ],
   "source": [
    "df.describe()"
   ]
  },
  {
   "cell_type": "code",
   "execution_count": 12,
   "metadata": {},
   "outputs": [],
   "source": [
    "df['actor_1_facebook_likes']= np.where(df['actor_1_facebook_likes'] >200000, 200000, df['actor_1_facebook_likes'])\n",
    "df['actor_2_facebook_likes']= np.where(df['actor_2_facebook_likes'] >100000, 100000, df['actor_2_facebook_likes'])\n",
    "df['cast_total_facebook_likes']= np.where(df['cast_total_facebook_likes'] >300000, 300000, df['cast_total_facebook_likes'])"
   ]
  },
  {
   "cell_type": "code",
   "execution_count": 13,
   "metadata": {},
   "outputs": [
    {
     "data": {
      "text/plain": [
       "color                        0.0004\n",
       "director_name                0.0000\n",
       "duration                     0.0004\n",
       "director_facebook_likes      0.0000\n",
       "actor_3_facebook_likes       0.0012\n",
       "actor_2_name                 0.0004\n",
       "actor_1_facebook_likes       0.0000\n",
       "actor_1_name                 0.0000\n",
       "movie_title                  0.0000\n",
       "cast_total_facebook_likes    0.0000\n",
       "actor_3_name                 0.0012\n",
       "facenumber_in_poster         0.0012\n",
       "language                     0.0000\n",
       "country                      0.0000\n",
       "content_rating               0.0000\n",
       "budget                       0.0472\n",
       "title_year                   0.0000\n",
       "actor_2_facebook_likes       0.0004\n",
       "gross                        0.0000\n",
       "dtype: float64"
      ]
     },
     "execution_count": 13,
     "metadata": {},
     "output_type": "execute_result"
    }
   ],
   "source": [
    "# Find the Percentage of rows missing data\n",
    "df.isna().mean()"
   ]
  },
  {
   "cell_type": "code",
   "execution_count": 14,
   "metadata": {},
   "outputs": [
    {
     "data": {
      "text/plain": [
       "<matplotlib.axes._subplots.AxesSubplot at 0x7fdf4e463b50>"
      ]
     },
     "execution_count": 14,
     "metadata": {},
     "output_type": "execute_result"
    },
    {
     "data": {
      "image/png": "[encoded data removed]",
      "text/plain": [
       "<Figure size 432x288 with 1 Axes>"
      ]
     },
     "metadata": {
      "needs_background": "light"
     },
     "output_type": "display_data"
    }
   ],
   "source": [
    "df.groupby('content_rating')['budget'].mean().plot(kind='bar')"
   ]
  },
  {
   "cell_type": "code",
   "execution_count": 15,
   "metadata": {},
   "outputs": [
    {
     "data": {
      "text/plain": [
       "{'G': 57937616.7, 'PG': 53613525.3, 'PG-13': 52682723.4, 'R': 25223942.9}"
      ]
     },
     "execution_count": 15,
     "metadata": {},
     "output_type": "execute_result"
    }
   ],
   "source": [
    "budget_ratings = df.groupby('content_rating')['budget'].mean().round(1).to_dict()\n",
    "\n",
    "budget_ratings"
   ]
  },
  {
   "cell_type": "code",
   "execution_count": 16,
   "metadata": {},
   "outputs": [],
   "source": [
    "df['budget'].fillna(df['content_rating'].map(budget_ratings), inplace=True)"
   ]
  },
  {
   "cell_type": "code",
   "execution_count": 20,
   "metadata": {},
   "outputs": [
    {
     "name": "stdout",
     "output_type": "stream",
     "text": [
      "<class 'pandas.core.frame.DataFrame'>\n",
      "Int64Index: 2500 entries, 1630 to 1275\n",
      "Data columns (total 19 columns):\n",
      " #   Column                     Non-Null Count  Dtype  \n",
      "---  ------                     --------------  -----  \n",
      " 0   color                      2499 non-null   object \n",
      " 1   director_name              2500 non-null   object \n",
      " 2   duration                   2499 non-null   float64\n",
      " 3   director_facebook_likes    2500 non-null   float64\n",
      " 4   actor_3_facebook_likes     2497 non-null   float64\n",
      " 5   actor_2_name               2499 non-null   object \n",
      " 6   actor_1_facebook_likes     2500 non-null   float64\n",
      " 7   actor_1_name               2500 non-null   object \n",
      " 8   movie_title                2500 non-null   object \n",
      " 9   cast_total_facebook_likes  2500 non-null   int64  \n",
      " 10  actor_3_name               2497 non-null   object \n",
      " 11  facenumber_in_poster       2497 non-null   float64\n",
      " 12  language                   2500 non-null   object \n",
      " 13  country                    2500 non-null   object \n",
      " 14  content_rating             2500 non-null   object \n",
      " 15  budget                     2500 non-null   float64\n",
      " 16  title_year                 2500 non-null   float64\n",
      " 17  actor_2_facebook_likes     2499 non-null   float64\n",
      " 18  gross                      2500 non-null   float64\n",
      "dtypes: float64(9), int64(1), object(9)\n",
      "memory usage: 390.6+ KB\n"
     ]
    }
   ],
   "source": [
    "df.info()"
   ]
  },
  {
   "cell_type": "code",
   "execution_count": null,
   "metadata": {},
   "outputs": [],
   "source": [
    "df.isna().mean()"
   ]
  },
  {
   "cell_type": "code",
   "execution_count": null,
   "metadata": {},
   "outputs": [],
   "source": [
    "df['color'].value_counts()"
   ]
  },
  {
   "cell_type": "code",
   "execution_count": null,
   "metadata": {},
   "outputs": [],
   "source": [
    "df[df['color'].isna()]"
   ]
  },
  {
   "cell_type": "code",
   "execution_count": null,
   "metadata": {},
   "outputs": [],
   "source": [
    "df['color'].fillna('Color', inplace=True)"
   ]
  },
  {
   "cell_type": "code",
   "execution_count": null,
   "metadata": {},
   "outputs": [],
   "source": [
    "duration_mean = df['duration'].mean()\n",
    "print(duration_mean)"
   ]
  },
  {
   "cell_type": "code",
   "execution_count": null,
   "metadata": {},
   "outputs": [],
   "source": [
    "df['duration'].fillna(duration_mean, inplace=True)"
   ]
  },
  {
   "cell_type": "code",
   "execution_count": null,
   "metadata": {},
   "outputs": [],
   "source": [
    "df[df['actor_2_facebook_likes'].isna()]"
   ]
  },
  {
   "cell_type": "code",
   "execution_count": null,
   "metadata": {},
   "outputs": [],
   "source": [
    "act_2_mean = df['actor_2_facebook_likes'].mean()\n",
    "print(act_2_mean)"
   ]
  },
  {
   "cell_type": "code",
   "execution_count": null,
   "metadata": {},
   "outputs": [],
   "source": [
    "df['actor_2_facebook_likes'].fillna(act_2_mean, inplace=True)"
   ]
  },
  {
   "cell_type": "code",
   "execution_count": null,
   "metadata": {},
   "outputs": [],
   "source": [
    "act_3_mean = df['actor_3_facebook_likes'].mean()\n",
    "print(act_3_mean)"
   ]
  },
  {
   "cell_type": "code",
   "execution_count": null,
   "metadata": {},
   "outputs": [],
   "source": [
    "df['actor_3_facebook_likes'].fillna(act_3_mean, inplace=True)"
   ]
  },
  {
   "cell_type": "code",
   "execution_count": null,
   "metadata": {},
   "outputs": [],
   "source": [
    "df['facenumber_in_poster'].describe()"
   ]
  },
  {
   "cell_type": "code",
   "execution_count": null,
   "metadata": {},
   "outputs": [],
   "source": [
    "df.drop(columns=['facenumber_in_poster'], inplace = True)"
   ]
  },
  {
   "cell_type": "code",
   "execution_count": null,
   "metadata": {},
   "outputs": [],
   "source": [
    "# Find the Percentage of rows missing data\n",
    "df.isna().mean()"
   ]
  },
  {
   "cell_type": "markdown",
   "metadata": {},
   "source": [
    "## Step 4: Generate new features that you think could be important.\n",
    "\n",
    "After doing this, you will want to go back to steps 2 and 3 to investigate these new features."
   ]
  },
  {
   "cell_type": "code",
   "execution_count": null,
   "metadata": {},
   "outputs": [],
   "source": [
    "df['superstar'] = np.where(df['actor_1_facebook_likes']>=25000, 1, 0)\n"
   ]
  },
  {
   "cell_type": "markdown",
   "metadata": {},
   "source": [
    "### 4.1) Identify a categorical variable in the data set and create dummy columns."
   ]
  },
  {
   "cell_type": "code",
   "execution_count": null,
   "metadata": {},
   "outputs": [],
   "source": [
    "# your code here\n",
    "df = pd.get_dummies(df, columns=['content_rating', 'color'], drop_first=True)"
   ]
  },
  {
   "cell_type": "code",
   "execution_count": null,
   "metadata": {},
   "outputs": [],
   "source": [
    "df.head()"
   ]
  },
  {
   "cell_type": "markdown",
   "metadata": {},
   "source": [
    "### 4.2) There is a column that gives the date for when the house was sold, how could this be useful in your model? How might you transform the current column to a more useful feature?"
   ]
  },
  {
   "cell_type": "code",
   "execution_count": null,
   "metadata": {},
   "outputs": [],
   "source": [
    "#your code here\n",
    "df['title_year']= pd.to_datetime(df['title_year'], format='%Y')\n",
    "df['yrs_old']= 2016-  pd.DatetimeIndex(df['title_year']).year"
   ]
  },
  {
   "cell_type": "markdown",
   "metadata": {},
   "source": [
    "### 4.3) There are columns for when the house was built and when it was renovated.  How could you use these columns to create a new column?"
   ]
  },
  {
   "cell_type": "code",
   "execution_count": null,
   "metadata": {},
   "outputs": [],
   "source": [
    "#your code here "
   ]
  },
  {
   "cell_type": "markdown",
   "metadata": {},
   "source": [
    "### <ins>Non-linear transformations</ins>\n",
    "\n",
    "### 4.4) Create a polynomial feature for two of your continuous variables."
   ]
  },
  {
   "cell_type": "code",
   "execution_count": null,
   "metadata": {},
   "outputs": [],
   "source": [
    "# your code here\n",
    "df['budget^2']= df['budget']*df['budget']\n",
    "df['actor_1_facebook_likes^2'] = df['actor_1_facebook_likes'] * df['actor_1_facebook_likes']   \n",
    "df['actor_2_facebook_likes^2'] = df['actor_2_facebook_likes'] * df['actor_2_facebook_likes'] \n",
    "df['actor_3_facebook_likes^2'] = df['actor_3_facebook_likes'] * df['actor_3_facebook_likes'] \n",
    "df['cast_total_facebook_likes^2'] = df['cast_total_facebook_likes'] * df['cast_total_facebook_likes'] "
   ]
  },
  {
   "cell_type": "markdown",
   "metadata": {},
   "source": [
    "### 4.5) Create an interaction feature between a binary variable (dummy variable) and a continuous variable."
   ]
  },
  {
   "cell_type": "code",
   "execution_count": null,
   "metadata": {},
   "outputs": [],
   "source": [
    "df.columns"
   ]
  },
  {
   "cell_type": "code",
   "execution_count": null,
   "metadata": {},
   "outputs": [],
   "source": [
    "# your code here\n",
    "\n",
    "df['cast_fb_budget'] = df['cast_total_facebook_likes'] *df['budget']\n",
    "df['PG_budget'] = df['content_rating_PG'] *df['budget']\n",
    "df['PG13_budget'] = df['content_rating_PG-13'] *df['budget']\n",
    "df['R_budget'] = df['content_rating_R'] *df['budget']\n",
    "df['superstar_budget'] = df['superstar'] *df['budget']\n",
    "df['cast_fb_budget^2']= df['cast_total_facebook_likes'] *df['budget^2']\n",
    "\n"
   ]
  },
  {
   "cell_type": "markdown",
   "metadata": {},
   "source": [
    "## Step 5: Train-Test Split\n",
    "\n",
    "If you plan on doing any scaling of your data, make sure it is done at the appropriate time. "
   ]
  },
  {
   "cell_type": "code",
   "execution_count": null,
   "metadata": {},
   "outputs": [],
   "source": [
    "df.columns"
   ]
  },
  {
   "cell_type": "markdown",
   "metadata": {},
   "source": [
    "### 5.1) Perform a train-test split of the data."
   ]
  },
  {
   "cell_type": "code",
   "execution_count": null,
   "metadata": {},
   "outputs": [],
   "source": [
    "#your code here \n",
    "features =['duration', 'director_facebook_likes',\n",
    "       'actor_3_facebook_likes', 'actor_1_facebook_likes',\n",
    "       'cast_total_facebook_likes', 'budget',\n",
    "       'actor_2_facebook_likes', 'yrs_old', 'superstar',\n",
    "       'content_rating_PG', 'content_rating_PG-13', 'content_rating_R',\n",
    "       'color_Color', 'budget^2', 'actor_1_facebook_likes^2',\n",
    "       'actor_2_facebook_likes^2', 'actor_3_facebook_likes^2',\n",
    "       'cast_total_facebook_likes^2',\n",
    "       'cast_fb_budget', 'cast_fb_budget^2', 'PG_budget', 'PG13_budget',\n",
    "       'R_budget', 'superstar_budget']"
   ]
  },
  {
   "cell_type": "code",
   "execution_count": null,
   "metadata": {},
   "outputs": [],
   "source": [
    "#improt train_test_split from sklearn package\n",
    "from sklearn.model_selection import train_test_split"
   ]
  },
  {
   "cell_type": "code",
   "execution_count": null,
   "metadata": {},
   "outputs": [],
   "source": [
    "X_train, X_test, y_train, y_test = train_test_split(df[features], df['gross'], random_state=9,test_size=0.2)\n"
   ]
  },
  {
   "cell_type": "markdown",
   "metadata": {},
   "source": [
    "### 5.4) Fit the model to the training data."
   ]
  },
  {
   "cell_type": "code",
   "execution_count": null,
   "metadata": {},
   "outputs": [],
   "source": [
    "from sklearn.linear_model import LinearRegression"
   ]
  },
  {
   "cell_type": "code",
   "execution_count": null,
   "metadata": {},
   "outputs": [],
   "source": [
    "#your code here \n",
    "#instantiate a linear regression object\n",
    "lm = LinearRegression()\n",
    "\n",
    "#fit the linear regression to the data\n",
    "lm = lm.fit(X_train, y_train)\n"
   ]
  },
  {
   "cell_type": "markdown",
   "metadata": {},
   "source": [
    "### 5.5) Use the model to predict on the training set and the test set."
   ]
  },
  {
   "cell_type": "code",
   "execution_count": null,
   "metadata": {},
   "outputs": [],
   "source": [
    "#your code here \n",
    "y_train_pred = lm.predict(X_train)\n",
    "\n",
    "y_test_pred = lm.predict(X_test)\n"
   ]
  },
  {
   "cell_type": "markdown",
   "metadata": {},
   "source": [
    "### 5.6) Evaluate the training and test predictions using RMSE."
   ]
  },
  {
   "cell_type": "code",
   "execution_count": null,
   "metadata": {},
   "outputs": [],
   "source": [
    "from sklearn import metrics"
   ]
  },
  {
   "cell_type": "code",
   "execution_count": null,
   "metadata": {},
   "outputs": [],
   "source": [
    "#your code here \n",
    "train_rmse = np.sqrt(metrics.mean_squared_error(y_train, y_train_pred))\n",
    "\n",
    "test_rmse = np.sqrt(metrics.mean_squared_error(y_test, y_test_pred))\n",
    "\n",
    "print('Training Root Mean Squared Error:' , train_rmse)\n",
    "print('Training Root Mean Squared Error:' , test_rmse)"
   ]
  },
  {
   "cell_type": "markdown",
   "metadata": {},
   "source": [
    "### 5.7) Determine if your model is overfit."
   ]
  },
  {
   "cell_type": "code",
   "execution_count": null,
   "metadata": {},
   "outputs": [],
   "source": [
    "#your code here \n",
    "test_mae = metrics.mean_absolute_error(y_test,y_test_pred)"
   ]
  },
  {
   "cell_type": "code",
   "execution_count": null,
   "metadata": {},
   "outputs": [],
   "source": [
    "test_rmse/df['gross'].std()"
   ]
  },
  {
   "cell_type": "markdown",
   "metadata": {},
   "source": [
    "## Step 6: Utilize some different feature selection techniques before or in conjuction with fitting your models."
   ]
  },
  {
   "cell_type": "markdown",
   "metadata": {},
   "source": [
    "### 6.1) Utilize a filter method to identify some features to remove from the model.  "
   ]
  },
  {
   "cell_type": "code",
   "execution_count": null,
   "metadata": {},
   "outputs": [],
   "source": [
    "# your code here"
   ]
  },
  {
   "cell_type": "markdown",
   "metadata": {},
   "source": [
    "### 6.2) After removing the features, re-run Step 5 and see if your new model performs better than the old model."
   ]
  },
  {
   "cell_type": "code",
   "execution_count": null,
   "metadata": {},
   "outputs": [],
   "source": [
    "# your code here\n",
    "from sklearn.feature_selection import RFECV"
   ]
  },
  {
   "cell_type": "code",
   "execution_count": null,
   "metadata": {},
   "outputs": [],
   "source": [
    "ols = LinearRegression()\n",
    "# Create recursive feature eliminator that scores features by mean squared errors\n",
    "selector = RFECV(estimator=ols, step=2, cv=7,  scoring='neg_mean_squared_error', n_jobs=-1, verbose=1)\n",
    "\n",
    "# Fit recursive feature eliminator \n",
    "\n",
    "selector.fit(X_train, y_train)\n"
   ]
  },
  {
   "cell_type": "code",
   "execution_count": null,
   "metadata": {},
   "outputs": [],
   "source": [
    "selected_rfe = X_train.columns[selector.support_]\n",
    "removed_rfe = X_train.columns[~selector.support_]\n"
   ]
  },
  {
   "cell_type": "code",
   "execution_count": null,
   "metadata": {},
   "outputs": [],
   "source": [
    "len(selected_rfe)"
   ]
  },
  {
   "cell_type": "code",
   "execution_count": null,
   "metadata": {},
   "outputs": [],
   "source": [
    "selected_rfe"
   ]
  },
  {
   "cell_type": "markdown",
   "metadata": {},
   "source": [
    "## Step 7: Evaluate your different models in order to determine the best model overall."
   ]
  },
  {
   "cell_type": "code",
   "execution_count": null,
   "metadata": {},
   "outputs": [],
   "source": [
    "#instantiate a linear regression object\n",
    "lm_rfe = LinearRegression()\n",
    "\n",
    "#fit the linear regression to the data\n",
    "lm_rfe = lm.fit(X_train[selected_rfe], y_train)\n"
   ]
  },
  {
   "cell_type": "code",
   "execution_count": null,
   "metadata": {},
   "outputs": [],
   "source": [
    "#your code here \n",
    "y_train_pred_rfe = lm_rfe.predict(X_train[selected_rfe])\n",
    "\n",
    "y_test_pred_rfe = lm_rfe.predict(X_test[selected_rfe])\n"
   ]
  },
  {
   "cell_type": "code",
   "execution_count": null,
   "metadata": {},
   "outputs": [],
   "source": [
    "#your code here \n",
    "train_rmse = np.sqrt(metrics.mean_squared_error(y_train, y_train_pred_rfe))\n",
    "\n",
    "test_rmse = np.sqrt(metrics.mean_squared_error(y_test, y_test_pred_rfe))\n",
    "\n",
    "print('Training Root Mean Squared Error:' , train_rmse)\n",
    "print('Training Root Mean Squared Error:' , test_rmse)"
   ]
  },
  {
   "cell_type": "code",
   "execution_count": null,
   "metadata": {},
   "outputs": [],
   "source": [
    "lm_rfe.coef_"
   ]
  },
  {
   "cell_type": "code",
   "execution_count": null,
   "metadata": {},
   "outputs": [],
   "source": [
    "lm_final.coef_"
   ]
  },
  {
   "cell_type": "markdown",
   "metadata": {},
   "source": [
    "## Step 8:  Refit your best model to the entire dataset."
   ]
  },
  {
   "cell_type": "code",
   "execution_count": null,
   "metadata": {},
   "outputs": [],
   "source": [
    "lm_final = LinearRegression()\n",
    "\n",
    "#fit the linear regression to the data\n",
    "lm_final = lm.fit(df[selected_rfe], df['gross'])"
   ]
  },
  {
   "cell_type": "code",
   "execution_count": null,
   "metadata": {},
   "outputs": [],
   "source": [
    "len(selected_rfe)"
   ]
  },
  {
   "cell_type": "code",
   "execution_count": null,
   "metadata": {},
   "outputs": [],
   "source": [
    "len(lm.coef_)"
   ]
  },
  {
   "cell_type": "markdown",
   "metadata": {},
   "source": [
    "## Step 9: Save your final model using pickle.\n",
    "\n",
    "https://machinelearningmastery.com/save-load-machine-learning-models-python-scikit-learn/"
   ]
  },
  {
   "cell_type": "code",
   "execution_count": null,
   "metadata": {},
   "outputs": [],
   "source": [
    "import pickle\n",
    "\n",
    "\n",
    "pickle_out = open(\"model.pickle\",\"wb\")\n",
    "pickle.dump(lm_final, pickle_out)\n",
    "pickle_out.close()\n",
    "\n"
   ]
  },
  {
   "cell_type": "code",
   "execution_count": null,
   "metadata": {},
   "outputs": [],
   "source": [
    "other_info = [budget_ratings, act_2_mean, act_3_mean, duration_mean, selected_rfe]"
   ]
  },
  {
   "cell_type": "code",
   "execution_count": null,
   "metadata": {},
   "outputs": [],
   "source": [
    "pickle_out = open('other_info.pickle', \"wb\")\n",
    "pickle.dump(other_info, pickle_out)\n",
    "pickle_out.close()"
   ]
  },
  {
   "cell_type": "code",
   "execution_count": null,
   "metadata": {},
   "outputs": [],
   "source": []
  }
 ],
 "metadata": {
  "kernelspec": {
   "display_name": "Python 3",
   "language": "python",
   "name": "python3"
  },
  "language_info": {
   "codemirror_mode": {
    "name": "ipython",
    "version": 3
   },
   "file_extension": ".py",
   "mimetype": "text/x-python",
   "name": "python",
   "nbconvert_exporter": "python",
   "pygments_lexer": "ipython3",
   "version": "3.8.3"
  }
 },
 "nbformat": 4,
 "nbformat_minor": 2
}
