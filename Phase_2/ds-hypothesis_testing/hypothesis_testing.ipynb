{
 "cells": [
  {
   "cell_type": "markdown",
   "metadata": {},
   "source": [
    "# Hypothesis Testing"
   ]
  },
  {
   "cell_type": "code",
<<<<<<< HEAD
   "execution_count": 25,
=======
   "execution_count": null,
>>>>>>> hyp-testing
   "metadata": {},
   "outputs": [],
   "source": [
    "from scipy import stats\n",
    "import numpy as np\n",
    "import seaborn as sns\n",
    "import matplotlib.pyplot as plt"
   ]
  },
  {
   "cell_type": "markdown",
   "metadata": {},
   "source": [
    "## Agenda\n",
    "\n",
    "SWBAT:\n",
    "- describe the basic framework and vocabulary for hypothesis testing;\n",
    "- define Null and Alternative Hypotheses;\n",
    "- define p-value, alpha, Type 1 and Type 2 Errors;\n",
    "- perform z-tests;\n",
    "- perform t-tests"
   ]
  },
  {
   "cell_type": "markdown",
   "metadata": {},
   "source": [
    "## Scenarios\n",
    "\n",
    "- Chemistry - do inputs from two different barley fields produce different\n",
    "yields?\n",
    "- Astrophysics - do star systems with near-orbiting gas giants have hotter\n",
    "stars?\n",
    "- Medicine - BMI vs. Hypertension, etc.\n",
    "- Business - which ad is more effective given engagement?"
   ]
  },
  {
   "cell_type": "markdown",
   "metadata": {},
   "source": [
    "![img1](./img/img1.png)"
   ]
  },
  {
   "cell_type": "markdown",
   "metadata": {},
   "source": [
    "![img2](./img/img2.png)"
   ]
  },
  {
   "cell_type": "markdown",
   "metadata": {},
   "source": [
    "## Basic framework and assumptions for hypothesis testing"
   ]
  },
  {
   "cell_type": "markdown",
   "metadata": {},
   "source": [
    "### High-Level Hypothesis Testing\n",
    "\n",
    "1. Start with a Scientific Question (yes/no)\n",
    "2. Take the skeptical stance (null hypothesis) \n",
    "3. State the complement (alternative)\n",
    "4. Set a threshold for errors\n",
    "5. Create a model (test statistic) of the situation *assuming the null hypothesis is true*\n",
    "6. Decide whether or not to reject the null hypothesis"
   ]
  },
  {
   "cell_type": "markdown",
   "metadata": {},
   "source": [
    "**Intuition** \n",
    "\n",
    "Suppose you have a large dataset for a population. The data is normally distributed with mean 0 and standard deviation 1.\n",
    "\n",
    "Along comes a new sample with a sample mean of 2.9.\n",
    "\n",
    "> The idea behind hypothesis testing is a desire to quantify our belief as to whether our sample of observations came from the same population as the original dataset. \n",
    "\n",
    "According to the empirical (68–95–99.7) rule for normal distributions there is only roughly a 0.003 chance that the sample came from the same population, because it is roughly 3 standard deviations above the mean. \n",
    "\n",
    "<img src=\"img/normal_sd_new.png\" width=\"500\">\n",
    " \n",
    "To formalize this intuition, we define a threshold value for deciding whether we believe that the sample is from the same underlying population or not. This threshold is $\\alpha$, the **significance threshold**.  \n",
    "\n",
    "This serves as the foundation for hypothesis testing where we will reject or fail to reject the null hypothesis."
   ]
  },
  {
   "cell_type": "markdown",
   "metadata": {},
   "source": [
    "### Define Null and Alternative Hypotheses"
   ]
  },
  {
   "cell_type": "markdown",
   "metadata": {},
   "source": [
    "#### The Null Hypothesis\n",
    "\n",
    "![gmonk](https://vignette.wikia.nocookie.net/villains/images/2/2f/Ogmork.jpg/revision/latest?cb=20120217040244) There is NOTHING, **no** difference."
   ]
  },
  {
   "cell_type": "markdown",
   "metadata": {},
   "source": [
    "If we're testing the function of a new drug, then the null hypothesis will say that the drug has _no effect_ on patients, or anyway no effect relative to relief of the malady the drug was designed to combat. "
   ]
  },
  {
   "cell_type": "markdown",
   "metadata": {},
   "source": [
    "If we're testing whether Peeps cause dementia, then the null hypothesis will say that there is _no correlation_ between Peeps consumption and rate of dementia development."
   ]
  },
  {
   "cell_type": "markdown",
   "metadata": {},
   "source": [
    "The **alternative hypothesis** says the opposite of the null hypothesis."
   ]
  },
  {
   "cell_type": "markdown",
   "metadata": {},
   "source": [
    "## One-tailed vs. two-tailed tests"
   ]
  },
  {
   "cell_type": "markdown",
   "metadata": {},
   "source": [
    "![](img/one_tailed.png)"
   ]
  },
  {
   "cell_type": "markdown",
   "metadata": {},
   "source": [
    "![](img/two_tailed.png)"
   ]
  },
  {
   "cell_type": "markdown",
   "metadata": {},
   "source": [
    "## Two Tail Hypothesis\n",
    "\n",
    "$\\Large H_0: \\bar{x} - \\mu_p = 0  $  \n",
    "$\\Large H_1: \\bar{x} - \\mu_p \\neq 0  $\n",
    "    \n",
    "## Left Tail Hypothesis\n",
    "\n",
    "$\\Large H_0: \\bar{x} >= \\mu_p  $  \n",
    "$\\Large H_1: \\bar{x} < \\mu_p  $\n",
    "    \n",
    "## Right Tail Hypothesis\n",
    "\n",
    "$\\Large H_0: \\bar{x} <= \\mu_p  $  \n",
    "$\\Large H_1: \\bar{x} > \\mu_p  $"
   ]
  },
  {
   "cell_type": "markdown",
   "metadata": {},
   "source": [
    "## Let's write the appropriate hypotheses\n",
    "\n",
    "1. A drug manufacturer claims that a drug increases memory. It designs an experiment where both control and experimental groups are shown a series of images, and records the number of correct recollections until an error is made for each group. "
   ]
  },
  {
   "cell_type": "markdown",
   "metadata": {},
   "source": [
    "Answer:\n",
    "\n",
    "Null: People who took the drug don't have more correct recollections than people who didn't take the drug.\n",
    "\n",
    "Alternative: People who took the drug do have more correct recollections than people who did't take the drug."
   ]
  },
  {
   "cell_type": "markdown",
   "metadata": {},
   "source": [
    "2. An online toystore claims that putting a 5 minute timer on the checkout page of its website decreases conversion rate. It sets up two versions of its site, one with a timer and one with no timer. "
   ]
  },
  {
   "cell_type": "markdown",
   "metadata": {},
   "source": [
    "Answer  \n",
    "$"
   ]
  },
  {
   "cell_type": "markdown",
   "metadata": {},
   "source": [
    "3. The Kansas City public school system wants to test whether the scores of students who take standardized tests under the supervision of teachers differ from the scores of students who take them in rooms with school administrators."
   ]
  },
  {
   "cell_type": "markdown",
   "metadata": {},
   "source": [
    "Answer  \n",
    "$"
   ]
  },
  {
   "cell_type": "markdown",
   "metadata": {},
   "source": [
    "4. A pest control company believes that the length of cockroach legs in colonies which have persisted after two or more insecticide treatements are longer than those in which have not been treated with insecticide."
   ]
  },
  {
   "cell_type": "markdown",
   "metadata": {},
   "source": [
    "Answer  \n",
    "$"
   ]
  },
  {
   "cell_type": "markdown",
   "metadata": {},
   "source": [
    "5. A healthcare company believes patients between the ages of 18 and 25 participate in annual checkups less than all other age groups."
   ]
  },
  {
   "cell_type": "markdown",
   "metadata": {},
   "source": [
    "Answer  \n",
    "$"
   ]
  },
  {
   "cell_type": "markdown",
   "metadata": {},
   "source": [
    "## $p$-value, $\\alpha$, Type I/II errors"
   ]
  },
  {
   "cell_type": "markdown",
   "metadata": {},
   "source": [
    "### $p$-Values\n",
    "\n",
    "The basic idea of a $p$-value is to quantify the probability that the results seen are in fact the result of mere random chance. This is connected with the null hypothesis: If the null hypothesis is true and there is no significant correlation between the population variables X and Y, then of course any correlation between X and Y observed in our sample would have to be the result of mere random chance.\n",
    "\n",
    "**How Unlikely Is Too Unlikely?**\n",
    "\n",
    "### $\\alpha$\n",
    "\n",
    "Suppose we calculate a $p$-value for some statistic we've measured (more on this below!) and we get a $p$-value of 20%. This would mean that there is a 20% chance that the results we observed were the result of mere random chance. Probably this is high enough that we ought _not_ to reject the null hypothesis that our variables are uncorrelated.\n",
    "\n",
    "In practice, a $p$-value _threshold_ ($\\Large \\alpha$) of 5% is very often the default value for these tests of statistical significance. Thus, if it is calculated that the chance that the results we observed were actually the result of randomness is less than 1 in 20, then we would _reject_ the null hypothesis and _accept_ the alternative hypothesis.\n",
    "\n",
    "If $p \\lt \\alpha$, we reject the null hypothesis.:\n",
    "\n",
    "If $p \\geq \\alpha$, we fail to reject the null hypothesis.\n",
    "\n",
    "> **We never _accept_ the null hypothesis, because future experiments may yield significant results.**\n",
    "\n",
    "* We do not throw out \"failed\" experiments! \n",
    "* We say \"this methodology, with this data, does not produce significant results\" \n",
    "    * Maybe we need more data!\n",
    "    \n",
    "### A Caution\n",
    "\n",
    "The choice of $\\alpha = 0.05$ is arbitrary and has survived as a pseudo-standard largely because of traditions in teaching.\n",
    "\n",
    "The [American Statistical Association](https://www.amstat.org) has [recently been questioning this standard](https://www.tandfonline.com/toc/utas20/73/sup1?nav=tocList&) and in fact there are movements to reject hypothesis testing in a more wholesale way.\n",
    "\n",
    "The chief thing to keep in mind is that binary test results are often misleading. And as for an appropriate $p$-level: This really depends on the case. In some scenarios, false positives are more costly than in others. We must also determine our $\\alpha$ level *before* we conduct our tests. Otherwise, we will be accused of $p$-hacking."
   ]
  },
  {
   "cell_type": "markdown",
   "metadata": {},
   "source": [
    "## Type 1 Errors (False Positives) and Type 2 Errors (False Negatives)\n",
    "\n",
    "Most tests for the presence of some factor are imperfect. And in fact most tests are imperfect in two ways: They will sometimes fail to predict the presence of that factor when it is after all present, and they will sometimes predict the presence of that factor when in fact it is not. Clearly, the lower these error rates are, the better, but it is not uncommon for these rates to be between 1% and 5%, and sometimes they are even higher than that. (Of course, if they're higher than 50%, then we're better off just flipping a coin to run our test!)\n",
    "\n",
    "Predicting the presence of some factor (i.e. counter to the null hypothesis) when in fact it is not there (i.e. the null hypothesis is true) is called a \"false positive\". Failing to predict the presence of some factor (i.e. in accord with the null hypothesis) when in fact it is there (i.e. the null hypothesis is false) is called a \"false negative\"."
   ]
  },
  {
   "cell_type": "code",
<<<<<<< HEAD
   "execution_count": 26,
   "metadata": {},
   "outputs": [
    {
     "data": {
      "image/png": "iVBORw0KGgoAAAANSUhEUgAAAagAAAEYCAYAAAAJeGK1AAAABHNCSVQICAgIfAhkiAAAAAlwSFlzAAALEgAACxIB0t1+/AAAADh0RVh0U29mdHdhcmUAbWF0cGxvdGxpYiB2ZXJzaW9uMy4yLjIsIGh0dHA6Ly9tYXRwbG90bGliLm9yZy+WH4yJAAAgAElEQVR4nO2deZhU5ZXwf6cXaGj2RUBAQRQQ2UVcUMSoERMjwUyixsQlY4xOouOYSSYzn8mXTCb5kkxmYhYnjmbUmcRRE41oBMUVBUFoQKBBFhtkaXaavZull/P98VbRtbzVXdVdy63u83uefrrq3Hvrnr636573Pee854iqYhiGYRhBoyDXChiGYRiGDzNQhmEYRiAxA2UYhmEEEjNQhmEYRiAxA2UYhmEEEjNQhmEYRiAxA2UYGUBEnhSRf8m1HoaRz5iBMrKGiByN+GkQkWMR72/JwvlvF5EFmT5PMzr8U8TffFxE6iPer8mSDptF5KrQ6yaviYioiFTH3LtvZ0NPwyjKtQJG+0FVu4Rfi8hm4E5VfSN3GmUfVf0x8GNwxgF3DS7NqVLNM05VK5rbSUSKVLUu4r0AoqoNyZwk1f2Nto/NoIycIiIdRWS/iIyJkJ0Wml31FZFpIlIZmnnsC43+b4k5/ucislVEdovIIyLSqYW6/FJEtonIYRFZJiKXRWz7voj8UUT+R0SOiMgaEZkUsX2CiCwPbXsWKEnx3N8SkedjZL8WkYdCr+eJyP8TkSUickhEXhSRXhH7XiQiC0XkoIisFJFpLbkGKer8fRF5TkT+ICKHgdtDev5IRN4DaoCzROQSESkL6V0mIpdEfIZv/9tFZFPoWn6cjdm1EUzMQBk5RVVPAM8AX4oQ3wy8oap7Q+/7A32AgcBtwKMiMiK07afAcGA8cHZon++1UJ2y0Of0Av4X+JOIRBqa60O69gBeAn4DICIdgFnA70PH/gn4XIrn/gMwXUR6hD6zCLgx9JlhbgW+ApwO1AG/Cu07EJgN/Evo/H8PPC8ifVPUoSXMAJ7DXZOnQrIvA3cBXYEjId1+BfQG/h2YLSK9Iz4jcv+9oX2vVdWuwCXAisz/GUYQMQNlBIH/Br4oIuH/xy8T/WAG+K6qnlDVd3APvC+EXEJfBf5OVfer6hGc++ymliihqn9Q1SpVrVPVfwM6AiMidlmgqnNUtT6k37iQ/CKgGHhIVWtV9TmcsUvl3DuBd4HPh0TTgX2quixit9+r6mpVrQa+i7sGhTjjPiekW4Oqvg4sBT6Vig5NsDw0Mwv/XBOxbZGqzgqd91hI9qSqrgm5+z4JfKSqvw9d16eBdcBnIj4jcv86oAEYLSKdVHWnqmYlNmcEDzNQRs5R1cVANXC5iIzEzYReitjlQOihHGYLbhbRF+gMLAs/PIFXQ/KUEZFvisjakCvqINAdN3MLsyvidQ1QEprpnA5s1+jKy1taoMJ/0ziT/BLxRnpbzOcXh/Q7E/h8pBEBLgUGtEAHHxNVtUfEz9wEOvlkpxN/LbbgZrpx+4fu843A3cBOEZkd+p8w2iFmoIygEH44fxl4TlWPR2zrKSKlEe/PAHYA+4BjwHkRD8/ukckYyRKKN/0D8AWgp6r2AA4BksThO4GBoRldpI6pMgsYKyKjgetodJmFGRzz+bW4a7ANN7uKNCKlqvqTFuiQKr52CJGyHTgDGskZwPZEn6Gqc1X1apyBXQc8lgY9jTzEDJQRFH4PzMQZqf/xbP+BiHQIGZLrgD+Fsr0eA34hIqeBi8fEuKCSpSvOvbQXKBKR7wHdkjx2UejY+0SkSERuACanqkDIKD+Hi38tUdWtMbt8SURGiUhn4J9xhrweF7/6jIhcIyKFIlISSi4ZlKoOGWAOMFxEvhi6NjcCo4CXfTuLSD8RuT40IDkBHAXqs6euESTMQBmBQFUrgeW40fT8mM27gAO40fhTwN2qui607R+ACuD9UCbZG0THjZJlLvAKsAHngjqO333l0/0kcANwe0jPG4E/t0AHcDPJMcS79wjJnsRdjxLgvtD5t+GSFf4JZ2C3Ad8ifd/vlRK9DuqhZA9U1SrcgOKbQBXwbeA6Vd2X4JCC0L47gP3A5cDftEp7I28Ra1hoBAUReRzYoaoPRsimAX9Q1SDMBjKOiJyBc2v1V9XDEfJ5uOvwu1zpZhjZxhbqGoFARIbgZiETcqtJ7ghlMT4APBNpnAyjvWIGysg5IvJD4O+A/6eqH+dan1wQirnsxrkXp+dYHcMIBObiMwzDMAKJJUkYhmEYgSSQLr4+ffrokCFDcq2GYeScTXvd+uSz+pY2s6dh5C/Lli3bp6pxC+wDaaCGDBnC0qVLc62GYeScG/9zEQDPfu3iHGtiGJlDRLyVV8zFZxiGYQQSM1CGYRhGIDEDZRiGYQSSQMagDMMwMkltbS2VlZUcP368+Z2NtFFSUsKgQYMoLi5Oan8zUIZhtDsqKyvp2rUrQ4YMIboIvZEpVJWqqioqKysZOnRoUsck5eITkekisl5EKkTkO03sd4GI1IvIX6V6rGEYRrY4fvw4vXv3NuOURUSE3r17pzRrbXYGFerY+TBwNVAJlInIS6r6oWe/n+KqQqd0rGF4OX4cVq+GPXugoQEKCqBfPxg9Gjp2zLV2RhLU18O6dbB1q3sN0KsXjBkDXbvmVjczTtkn1WuejItvMlChqptCJ3gGV9o/1sjcCzwPXNCCYw2jka1bYe5cWLkSamvjt3foAOPGwTXXwODB8duNnLN/v7uFZWVQXR2/vaAAzj0XrrwSzjsv+/oZ+UEyBmog0X1xKoELI3cQkYG4ZnOfINpANXtsxGfcBdwFcMYZLWlGauQ99fUwezbMmQNN1Yg8edI9+ZYtg+uug2uvdU88I+eowvvvwzPPuAlwIhoaYM0a93PxxXDTTVBSkj09c01VVRVXXnklALt27aKwsJC+fV0hhSVLltChQ4e0nGfz5s1cd911rF69Ok5+7rnnMmJEY+u0Bx54gFtvvTUt500XyRgo35ws9unxEPAPqlofM4VL5lgnVH0UeBRg0qRJVsG2vXHwIPz2t7B5c/LHNDTASy85N+A990C3ZBvgGpmgthaefBJSLQKzaBFs2OBuYXuZEPfu3ZsVK1YA8P3vf58uXbrw93//91nVYdiwYad0SER9fT2FhYUJ3/tQVVSVgjQMGpMxUJVA5L/NIFy3y0gmAc+EjFMf4FMiUpfksUZ75/Bh+Pd/h927W3b8pk3u+G9+M/eBjXZKXZ0bX6xZ07Ljq6oab+GgbLam/NrXMn+O//zPZnc5duwYQ4cOZcOGDRQXF3P48GHGjh3LRx99xNVXX8348eNZsmQJhw8f5vHHH2fy5MlUV1dz7733Ul5eTl1dHd///veZMWNGq9Xt0qULDzzwAHPnzuXf/u3fmD59etT7JUuW8PjjjwNw5513cv/997N582auvfZarrjiChYtWsSsWbM488wzW61LMiauDDhHRIaKSAfgJuClyB1UdaiqDlHVIcBzwN+o6qxkjjXaOUePwi9+kdg4lZbCRRfBpz4FF14InTv799u5Ex56yB/wMDJKfT08+mhi41RcDBMmOE/s1KkuScJHTY27hTt3Zk7XoNKpUyemTZvG7NmzAXjmmWf43Oc+d2q9UHV1NQsXLuQ//uM/+MpXvgLAj370Iz7xiU9QVlbG22+/zbe+9S2qU/j/37hxI+PHjz/1M3/+/FPnGj16NIsXL+bSSy+Net+pUyeeeOIJFi9ezPvvv89jjz3GBx98AMD69eu59dZb+eCDD9JinCCJGZSq1onIN3DZeYXA46q6RkTuDm1/JNVj06K5kf/U1cGvfw07PJPqggJnlK69FoqKoo+ZPRteeSU+TlVZCQ8/7IbhzbghjPTx1FMun8XHhRe6+FLkuEIVFi6EZ5+FEyei9z9yxBmp//N/2p/H9s477+RnP/sZn/3sZ3niiSd47LHHTm27+eabAZg6dSqHDx/m4MGDvPbaa7z00kv8/Oc/B1zq/NatWzn33HOTOl8iF19hYSGf+9znvO8XLFjAzJkzKS111fVvuOEG5s+fz/XXX8+ZZ57JRRdd1LI/PgFJLdRV1TnAnBiZ1zCp6u3NHWsYALzwgj/m1LkzfOMbMGxY/LaiIpgxA0aNgt/8Jj4Sv3EjvPgi3HBDRlQ2onn/fXjvvXi5CNx+u5v8+rZNmQIjRsAvf+lWEURy8KCLZd17r9u3vTBlyhQ2b97MO++8Q319PaNHjz61LTY9W0RQVZ5//vmoRId0UFJSEhVninzfVIPbsNFKJ5b6ZOSGVavgjTfi5SUl8Ld/6zdOkZxzDtx3n3891Ny58KGtZMg0u3fD//5vvFwE7rjDb5wi6dMHHngAeveO37ZmDbz+enr0zCduvfVWbr75Zu64444o+bPPPgu4GUz37t3p3r0711xzDb/+9a9PGY2wqy2TTJ06lVmzZlFTU0N1dTUvvPACl112WcbOZ6WOjOwTHiLHUljoZk7JNqscNgy+/nXnE2poiN72+OPwve+1Pz9Rlqirg8cei3fRAdx8s3PtJUPPns5I/eQnzr0XyQsvwPDhyf87tIgkEhiyyS233MKDDz54yqUXpmfPnlxyySWnkiQAvvvd73L//fczduxYVJUhQ4bw8ssvJ32ucAwqzFe+8hXuu+++Jo+ZOHEit99+O5MnTwacW3LChAlsTiX7NgWkqSlbrpg0aZJaw8I2zGOP+XORP/95uOqq1D/v1Vfd0yyWCy+EUEA5Xwlqw8K5c+HPf46XX3ihmz2l6ppbswZ+9at4+aBBLh6V7mVua9euTTpWk02ee+45XnzxRX7/+9+fkk2bNo2f//znTJo0KYeapQ/ftReRZaoa9weai8/ILuvX+43T6NGurEBLuOYaV5YglsWL4aOPWvaZRkIOHHB5KrGcdhp88Ystixuddx588pPx8spKeOed1D8vH7n33nv5zne+w3e/+91cqxIYzEAZ2aO+Hp5+Ol7epYuLqLc0Ii7iZkq+IO3TT8e7/4xW8dxz8a49EbjzztZVg5gxw79Q98UX3VK5ts6vf/1rKioqGD58eJR83rx5bWb2lCpmoIzs8fbb/kUuN9zQ+gW23brBZz8bL9++HebNa91nG6dYt84/AZ42DVq79KWoyM3AYjl2zO/BNdo+ZqCM7HDsmN8vNHQoXHJJes5x6aX+p+TLLzddGM5IClV/3KlrV7j++vSc46yzXAp6LIsW+ZfLGW0bM1BGdnjzTVcqIBIRl/KVrsUuBQXu82KprnazN6NVrFoFW7bEy2+4IXGBj5Ywc2b856nCX/6SvnMY+YEZKCPz1NT4F7Vccknr/UKxDB3qX4Dz2mtuFme0CFVXlzeWM85w1cjTSdeurkh9LMuXu6QJo/1gBsrIPK+/Hu9iKyyET386M+e77rr4vOSaGjeLM1rEBx/4jcOMGZmp9jB1KvToES/3Gcl8pKqq6lQNvP79+zNw4MBT70+ePJm282zevPlURYp58+Zxncfyz5s3j+7du0fV5XvDt4g+B9hCXSOzVFf7DcOUKf4SAumgb183rI+twfP66/CJT6TXH9UOSOReGzo0c80Gi4tdGcbYpM+VK10/y3xvGReEdhuRXHbZZU0u8o1toZFsS41k2nM0hRkoI7O88058TnJRkSsEm0k+/WlXKC7cZxzcLG7BAv+CGyMha9b4ExQyNXsKc+mlbg32gQPR8tdecynt6SAg3TYC1W4jTGwLjYceeoi77747qqXGb37zG1555RVEhAcffJAbb7yRefPm8YMf/IABAwawYsUKPmxF2TFz8RmZo67On5xw2WWuxk0m6d3bnw721lvRRstoFl/4cNgwGDkys+ctKvJ7gZctcy3l2xK5aLcRyfz586NcfBs3bgTiW2hEvl+6dCkrVqxg5cqVvPHGG3zrW99iZ2gZyZIlS/jRj37UKuMEZqCMTLJkSfwKy4ICuPrq7Jz/k5+MH+IfOOCecEZSbNvm1j7FMn16diqNX3xxfDnFhgY3zmhr3HnnnTzxxBMAPPHEE1EFYxO12/jJT37C+PHjmTZt2ql2Gy3hsssuY8WKFad+hoWKNce20Ih8v2DBAm6++WYKCwvp168fl19+OWVlZQBMnjyZoUOHtkiXSMxAGZlB1V+tfOLEzMWeYunbFyKKYZ7i9dfje0kZXny3sF8/GDMmO+cvKoIrroiXz5/f9pa2tbTdRtiopNILKlliW2hEvs9G6w0zUEZmWLvWVXGIJVuzp6bOt3Wr1ehLgoMH3SQ4lquuym6fpqlTXdJEJOFwYlsj6O02Ipk6dSrPPvss9fX17N27l3ffffdUlfN0YUkSRmbwxZ7OPjvDvRM8nHWWO2dsO4C333a9HIyEzJ8fX8awtLT5Pk/ppksX5+p7991o+dtvu/rCrTGWAeu2kdV2G5GEY1BhHnzwwWbr/82cOZNFixYxbtw4RISf/exn9O/fn3U+n3ALsXYbRvo5cAD+8R/j3Wh33w0TJmRfn6VLXYuPSAoKXBOi7t2zr08K5KrdRkODu4UHD0bLP/Upl72XbXbvhv/7f+P/pe6/31/Ivjms3UbuSHu7DRGZLiLrRaRCRL7j2T5DRFaJyAoRWSoil0Zs2ywi5eFtLfh7jHxjwYL4J0mvXjBuXG70mTAh3hA1NPh7lRsAlJfHG6eCArj88tzo068fjBoVL29LrTis3UY8zbr4RKQQeBi4GqgEykTkJVWNzB98E3hJVVVExgJ/BCKTUK9Q1X1p1NsIKg0N/uDApZemv+tcshQWupTzOXOi5QsWuHS0XOkVYGLdaQBjx/qrO2SLyy5za7IiWbkSDh0K/EQ4KX7961975fPacTX+ZL6Zk4EKVd2kqieBZ4CoSb6qHtVGX2EpEDy/oZEdEg29fWuSssmll8YHK6qqoJXrNNoiVVXxhgBcskIuGTs2vRPhIIY32jqpXvNkDNRAYFvE+8qQLAoRmSki64DZQGSfbQVeE5FlInJXopOIyF0h9+DSvXv3Jqe9ETyCOPQGl9ruq8vj07ed4/PQ9unjd7Flk/BEOJYFC1LvSVlSUkJVVZUZqSyiqlRVVVGSQlfLZLL4fDkycXdVVV8AXhCRqcAPgatCm6ao6g4ROQ14XUTWqWrcU0FVHwUeBZckkewfYASIgweDOfQOc/nlsHp1tKy83C0mjl0N2k5paICFC+PlvgloLrjsMnjllWgDWlUF69enliwxaNAgKisrscFwdikpKWHQoEFJ75+MgaoEIhsxDwIStg5T1XdFZJiI9FHVfaq6IyTfIyIv4FyGNmxtiyxeHD/07t0790PvMKNHuxJLkcXdGhrcYp+rrkp8XDti3bpgemjD9OrlbmN5ebR80aLUDFRxcXFaKh0YmSUZF18ZcI6IDBWRDsBNQFTRexE5W0JLnUVkItABqBKRUhHpGpKXAp8EYoawRptA1T0lYrn44mAMvcE9aX2LeHx6t1Pefz9eNmZMsCaYvgbMH3zQ9ipLGEkYKFWtA74BzAXWAn9U1TUicreI3B3a7XPAahFZgcv4uzGUNNEPWCAiK4ElwGxVfTUTf4iRY7ZsgVChyCjS3c2utfj0qay0Tni4B/zy5fHyoN3CsWPjO6acPOnX3chvkqokoapzgDkxskciXv8U+KnnuE1Ajha/GFnFNws55xwXXQ8S/fq5RkYffxwtX7QIPv/53OgUEJYtg9raaFlpafbq7iVLURFccEH8GqhFi/yzKyN/sQUgRuupq4NQFeMogjb0DuPTa/Hidt+GwzfGuOACZxCChu8WbtjgEiaMtoMZKKP1rFnjOudGUlzsKpcHkUmT4p+6R45kZU1UuI4aQGVlJVdeeSU9evTgkksuYcOGDRk/fyKqqvz1c4M6xhgyxE2GY1m8OOuqGBnEDJTRenwlr8ePh06dsq9LMpSWukBGLL5ZYJr5zW9+c+r1Aw88wBe+8AX279/Pt771Le65556Mnz8RvtKX/fvDmWdmX5dkEPEbzyzcQiOLmIEyWseJE67eTCzZLnmdKj79Vqxw0fYssWHDBr72ta9RUFDAzJkz2Z/DNrG+McaFFwYnAdOHr7PDjh3+Li9GfhJA77KRV6xc6Y+sZ7ofeGs57zw3wzt2rFF24oRbYHP++Rk7bWVlJffddx+qyt69e6mtrT3V1rs29jpmiZ07/UmMQS+e3bu366ayaVO0vKwMBsbVujHyETNQRuvw+VQmTgxmZD2SoiJX5Ty2bEJZWUYN1L/+67+eej1p0iSOHj1Kz5492bVrF9dff33GztsUPvfekCFw2mlZVyVlJk/2G6gZM4I9+zOSI+BPESPQVFf7Sxuluatmxpg8Od5AlZe7WVWG4me33XabV96/f39+/OMfZ+ScTaHqd+9dcEHWVWkR558Pzz4bXcBk3z7Xn9IKReQ/ZqCMlrNiRXxqdvfurnNuPjBiBHTt6jL4wtTVObdlBmNoc+fOZdasWWzfvh0R4fTTT2fGjBlMnz49Y+dMxLZtsGdPtEwk+O69MN26udsY28S1rMwMVFvADJTRcnzuvUmT8qe/UkGBG4LH9tspK8uYgbr//vvZsGEDt95666mimZWVlfzqV7/ilVde4Ze//GVGzpsIn3vvnHNyX3w+FSZPjjdQy5a5ddfm5stvzEAZLaO62pWQjiVffENhLrgg3kCtXQs1NfH1dNLAnDlzvOudbrzxRoYPH55VA6XqHuSx5NstnDABnnoqejJ/8KCLTQ0blju9jNaTJ0NdI3CsWBHfhKdXLxddzyeGDYufLtTXw6pVGTldSUkJSzxBn7KyspT65KSDykoXr4lExD3w84nOnf2VzK02X/5jMyijZfi+/RMn5p9PJfxEfvvtaPny5Rlx8z355JPcc889HDly5JSLb9u2bXTr1o0nn3wy7edrCt/safhwF5bLN84/P77V17Jl8Fd/lX//kkYjZqCM1KmpcW6wWIJa2qg5Jk6MN1Br1rjy3mme1UycOJHFixeza9cutm/fjqoyaNAg+vfvn9bzNEci916+3sJx41xIMXJSf+CAK7Kfb5N6oxEzUEbqrFoVn73Xo4dbNZmPnH22P5uvvDxjAZn+/ftn3ShFsmOHP3tv/Pjc6NNaSktdNl/suGnZMjNQ+YzFoIzU8bn3JkzIX19KQYE/8JLlIMbELE5ffH+aLxyXT/jWVy9fHt/k2cgfzEAZqXH8uH9xbgarL2QFn/7l5a78UZZYnkWDmCiEmM+MHx8/Rtq3z3pR5jNmoIzUWL3aub8i6dYt//N5hw+HLl2iZbW1WWnBkW327HEuvljy3UB17epuYywffJB9XYz0kJSBEpHpIrJeRCpE5Due7TNEZJWIrBCRpSJyabLHGnnGihXxsvHj82dxbiIKClykPRbf35vn+P6kIUOgZ8+sq5J2fJ7aNngL2w3NPlVEpBB4GLgWGAXcLCKjYnZ7ExinquOBrwC/S+FYI18IJw7Ekq+R9Vh8f8eqVfHrvfKcRGOMtoDv79i+Hfbuzb4uRutJZtg7GahQ1U2qehJ4BpgRuYOqHlU9FYosBTTZY408Yv16F4OKpKTEpU+1Bc49Fzp2jJbV1Lhe4m2Ew4fjq39D/i3OTUTPnv4mizaLyk+SMVADgW0R7ytDsihEZKaIrANm42ZRSR9r5Am+b/mYMcFvrZEsxcWuT1QsGXq6ff/732/yfSZYuTI+q61fP9c9t63gm0WZgcpPkjFQvtzhuMRNVX1BVUcCnwV+mMqxACJyVyh+tXSvzceDh6q/c25b8Q2FSfR0y0Cu8vkxmYOx7zOBL2Ggrcyewvj+no0b3ezRyC+SMVCVwOCI94MATw6QQ1XfBYaJSJ9UjlXVR1V1kqpO6tu3bxJqGVnl44/h0KFoWVERjB6dG30yxZgx8QkfBw7A1q1pP9VnPvOZJt+nm+PH46t+Q9sbY/TvH99sMdH4ygg2yfhmyoBzRGQosB24Cfhi5A4icjawUVVVRCYCHYAq4GBzxxp5gu/bPXJk2ksB5ZzOnf0lCVau9Ac3Wsjx48f5r//6L9asWcPxiLje448/nrZzxLJ6tb99V1urtBCuiPHaa9HyVavgsstyo5PRMpqdQalqHfANYC6wFvijqq4RkbtF5O7Qbp8DVovIClzW3o3q8B6biT/EyDDtwb0Xxvd3pXn4/eUvf5ldu3Yxd+5cLr/8ciorK+ma4SqtvgLt48blbwGQpvDdwrVrs7ru2kgDSS1eUdU5qjpcVYep6o9CskdU9ZHQ65+q6nmqOl5VL1bVBU0da+QZe/bAzp3x8rFjs69LNvCth6qshKqqtJ2ioqKCH/7wh5SWlnLbbbcxe/Zsyn0p/Gmivr5trxCIZejQ+KrstbV+F6cRXPJ8daWRFXxD7yFDnH+oLdKzJwweHC9PY4+o4uJiAHr06MHq1as5dOgQmzdvTtvnx7Jxo8uYj6Rjx7azQiCWggL/+MniUPmFGSijeXzfat8soy3h+/vS+HS76667OHDgAD/84Q+5/vrrGTVqFN/+9rfT9vmx+FQ/77y2s0LAh+8WtsF1122aNvzvaaSF6mqoqIiXtwcD9fLL0bING9LWI+rOO+8E4PLLL2eTb+VsGkmUwdbWb+HIkW5pW21to+zIEdi8OX87w7Q3zEAZTbN6dfyQs3dvOP303OiTLQYPdr0nDh5slNXXu0ruaVivdOLECZ5//nk2b95MXUTx3e9973ut/uxYdu2KL/Uj0vZWCMTSsaMrDhLrmV21ygxUvmAuPqNp2lPqVyQiGXXzzZgxgxdffJGioiJKS0tP/WQC3y08++z44u1tEV8cyqpK5A82gzISU1fnZlCxtHXfUJhx4+Cdd6Jl4RllK6u3V1ZW8uqrr7bqM5LFZ1PbagJmLL6/c+dO1yeqT5/s62Okhs2gjMRUVPiLw559dm70yTbDh8cXj62u9ldbTZFLLrkko2nlYY4e9avbXgxUooXIWbj0RhqwGZSRGN+3uK2nfkVSXOyCGLE+oVWrWmykx4wZg4hQV1fHE088wVlnnUXHjh1RVUSEVWlMZQc34YstI3jaaa5AbHthzBiXGBHJypVwxRU5UcdIgXbypDFahO9h2V6G3mHGjvUbqBtuaNHHvRybGZhhfGOMsWPbfggxknHj4C9/iZalMSHTyCBmoAw/u3e7ChKRtIfUr2dWcWIAACAASURBVFjGjImXtSKIcWZEPb/ly5ezYMECRIQpU6YwMc091+vr/SFE35/Ulhk0yJ+QuXZt26vk3tawGJThxzd7Ouus9pH6FUm3bv4gRitdcf/8z//MbbfdRlVVFfv27eOOO+7gX/7lX1r1mbF89FH7DiGGEfEb5TR7U40MYAbK8OP79ra3oXeYDDzdnn76acrKyvjBD37AD37wA95//32eeuqpVn1mLO09hBiJzzNdXp6RNl9GGjEDZcRTU9M+q0ckwvd3h4MYLWTIkCFRbTZOnDjBsGHDWvx5PiyE2Ei4qkQkR464NmdGcDEDZcTz4Yf+6hEDBuRGn1wTDmJEEg5itJCOHTty3nnncfvtt3PHHXcwevRounTpwn333cd9993XSoUthBhLhw7OSMVi6ebBph1O9o1m8X1rx4xpX6lfkYSDGPPnR8vLy1scZZ85cyYzZ8489X7atGmtUDAe3y1sjyHESMaOjb8u5eUwY0Zu9DGaxwyUEU1DQ2ID1Z5JZKBUW2S4b7vttjQp5sduYTy+2eO2bS67L3aCbAQDM1BGNJs3u2oJkXTo0HYbByXLyJEuuyCisCuHD8PWrSm1gg8v1I0lnQt1jx93IbL4c7f6o/OaXr2ct7ayMlpeXm6t4IOKGSgjGt/Q2xdhbm+Eu/utWRMtLy9PyUBlY6GuL4TYsycMHJjxUweeMWPMQOUTSSVJiMh0EVkvIhUi8h3P9ltEZFXoZ6GIjIvYtllEykVkhYgsTafyRgaw9PLE+K5DilH2M8880/tTWVnJz372s7SoaSHExPhu4dq10T2jjODQrIESkULgYeBaYBRws4iMitntY+ByVR0L/BB4NGb7Fao6XlUnpUFnI1McOBA/vAQzUGF812HzZufqawErVqzg29/+NkOGDOHBBx9kpC/NLEVULf7UFEOHQmxXk5Mn/S5RI/ck4+KbDFSo6iYAEXkGmAF8GN5BVRdG7P8+MCidShpZwvdkGzTI+YcMV9powABX6iiS1avhkkuS+ogNGzbwzDPP8PTTT9O7d29uvPFGVJW33347LSpu2eLW90RSXOxPsW6PFBS4ZInFi6Pl5eVuEbMRLJJx8Q0EtkW8rwzJEvHXwCsR7xV4TUSWichdiQ4SkbtEZKmILN0b2/7TyA429G6eVrr5Ro4cyZtvvslf/vIXFixYwL333kthYWHa1POpMmKEy3MxHIluoVWVCB7JGCif59p7K0XkCpyB+ocI8RRVnYhzEX5dRKb6jlXVR1V1kqpO6tu3bxJqGWmlthbWrYuXt9fSA4nwPd0+/DA6u68Jnn/+efr3788VV1zBV7/6Vd588000jU9GG2M0z3nnxfeb3LcPdu3KjT5GYpIxUJXA4Ij3g4AdsTuJyFjgd8AMVa0Ky1V1R+j3HuAFnMvQCBobNjhnfCRduvgLpbZnhg2DTp2iZceP+0tDeZg5cybPPvss69atY9q0afziF79g9+7d3HPPPbz22mutUu3QIefii8UMVDSdO7vbGItVlQgeyRioMuAcERkqIh2Am4CXIncQkTOAPwNfVtUNEfJSEekafg18EvA0ADByTqLKoq1sbd7mKCz0BytSfLqVlpZyyy238PLLL1NZWcn48eP5yU9+0irVfK01Tj/dVakyoklDQqaRBZp9+qhqHfANYC6wFvijqq4RkbtF5O7Qbt8DegP/EZNO3g9YICIrgSXAbFV9Ne1/hdE6LPUrNdL8dOvVqxdf+9rXeOutt1qhlN3CVPBdl4oKOHYs+7oYiUlqoa6qzgHmxMgeiXh9J3Cn57hNQDstgZ1H7NrlnPCRFBRYWlMizjvPLSqKjB3t3g1790KO4qd1df7atWag/AwY4CpL7N/fKGtocOHE88/PnV5GNOa/MfxD72HDnLPeiKdrV39sLoc+ooqK+O4fiWItRuImhubmCxZmoAzzDbWEgLVo9d3CUaMshNgUvlu4erWlmwcJ+/dt7yRqTmgGqml81+ejj+DEiezrgo0xWsKIEf4mhr5MSCM3mIFq7/gqi/bq1X6bEybL4MHQvXu0LFEgKMPs2eNCYJGIWAixORIV6c/hRNiIwQxUe8cqi7aMAAUxfKccOtSFyoymCcgtNBJgBqo909DgXzxj1SOSIyA1c8y913J812nrVrfo2cg9ZqDaM5s3w9Gj0bLiYmtOmCznnuuaGEZy6JBr05olrDlh6+jd2y1mjsU3bjOyjxmo9ow1J2wdHTvC8OHx8iz6iNauhfr6aFmPHq4IvZEcAUvINCIwA9We8T1Izb2XGjl+ulkIsfX4/uXXrk26/q+RQcxAtVcOHvS7okaPzr4u+YzPQG3Z0uImhqlgFarSw1lnxa9JP3HCmhgGATNQ7RXfk23gQJdibiRP377Qv3+0TDUrQYytW+PtYFGRNSdMlURVvSybL/eYgWqv+NxQNvRuGT4fURaebr5bOGKEC40ZqeG7hatWWVWJXGMGqj1SW+tfUGrxp5bhM+xr1mQ8iOEzUHYLW0a4/m8k1sQw95iBao+sX++MVCRdurjVnUbq+ArrnjjhSh9liIMHnYsvFpsEt4zSUjj77Hi5ZfPlFjNQ7RHft270aKss2lLS1MQwFRKFEK05YcvJkafWaAJ7IrU3VM03lAl8U5eVKzMWxLAVAuknURPD6urs62I4zEC1N7ZvhwMHomUFBa43g9FyRo/OWhAjUQjR3Huto39/6NMnWqbqwolGbjAD1d7wzZ6GD4dOnbKvS1uitNTfHTADQYz16+HkyfjTWwixdYgkzuYzckNSBkpEpovIehGpEJHveLbfIiKrQj8LRWRcsscaWcbSyzNHloIYK1fGyyyEmB58t3D16vhyUkZ2aPZfWkQKgYeBa4FRwM0iEusP+hi4XFXHAj8EHk3hWCNbHD4MH38cL7fgRXrwXcc0BzEShRDHjYuXGalzzjlQUhItO3YsowmZRhMkM+aaDFSo6iZVPQk8A8yI3EFVF6pqOLDxPjAo2WONLOIbzQ8YAKedln1d2iL9+7vKEpEkqkfUQrZtcynmkSRKIjRSp6jIfy3NzZcbkjFQA4HIom2VIVki/hp4JdVjReQuEVkqIkv37t2bhFpGyvh8QzZ7Sh+Jghi+695CfB81fHj8qN9oOYluoVWVyD7JGChfXWTvrRKRK3AG6h9SPVZVH1XVSao6qW/sKNRoPbW1rr17LOYbSi++65nGqhLm3ss8vmrw+/bBzp250ac9k4yBqgQGR7wfBOyI3UlExgK/A2aoalUqxxpZYO1aqx6RDc4+O2OlsQ8c8FePsElwerGqEsEhGQNVBpwjIkNFpANwE/BS5A4icgbwZ+DLqrohlWONLJEoe89Sv9JLooBQGtx8vlDWoEFWPSITZNhTayRJs08nVa0DvgHMBdYCf1TVNSJyt4jcHdrte0Bv4D9EZIWILG3q2Az8HUZTWPWI7OLzuaUhiGEhxOzhu4Uff5yVNl9GBEXJ7KSqc4A5MbJHIl7fCdyZ7LFGltm8GQ4dipYVFVn1iExx3nluZtrQ0Cg7cAAqK2Hw4MTHNcHx47BuXbzcDFRm6NfP/eze3SgLJ2ROmZI7vdob5t9pD6xYES8bOdJSvzJF586uMVMsvvuQJL48i+7dYciQFn+k0Qy+WVQrbqHRAsxAtQd8viFL/cosaX66JbqFsdlmRvoYPz5etnaty3kxsoMZqLbO7t3+/FjzDWUWn4GqrHT5yinS0OBPkLAxRmYZOhS6do2WJVqtYWQGM1BtHd/Qe+hQ6NEj+7q0J3r1gjPOiJe3IBXs6J4SamqiZR07Oi+tkTkKCvzjOHPzZQ8zUG0d37fJht7ZIU1uvoPbSuNko0e7PBcjs/jcfOXl0fkvRuYwA9WWOXIENm2Kl/u+dUb68V3nFIvHqsLByngDZbcwO5x7LnToEC2rrna30cg8ZqDaMr61N6ed5oqaGpnH14O9oSGlkgQ1+ztwsiZ6qlRQ4GZQRuYpLvavuzY3X3YwA9WW+eCDeNn48Zb6lS1E/FMd331JgM+9N3x4fDUlI3P4buHy5VY8NhuYgWqrHDvm7ws+YUL2dWnP+K73mjVJ5yof8BioiRNbq5SRCr6KYInqIhrpxQxUW6W8PL4NaI8eVhw22wwbFp+rXFfn2rQ2w86dcPxwdAAk0aTMyBylpf511ylMhI0WYgaqrWLuvWBQUNBiN59vl7POchUkjOzim7Wamy/zmIFqi5w86R+hm3svN/iu+6pV8e1PYvAZKLuFucFXtWP3bti1Kzf6tBfMQLVFPvzQGalISktddN3IPiNGQKdO0bITJ/zVX0NUVfljHGagckP37m72Gou5+TKLGai2yPLl8bJx46z3U64oKvKXJPDdpyY2DR4MffqkUS8jJXxuvmXLsq9He8KeWG2N2lp/OR0beucW3/VfsSJhK3jfg8+SI3KL7/pXVsKePdnXpb1gBqqt8eGHrnlQJCUl1vsp14we7QroRVJT43Xz7d/vmuOBs191oVDV+ednWEejSfr0gTPPjJfbLCpzmIFqa/i+LePGWeG2XFNc7BbUxOK5X5Huvb173Jqb00+HAQMyqJ+RFL5BghmozJGUgRKR6SKyXkQqROQ7nu0jRWSRiJwQkb+P2bZZRMojW8EbGaKuzu/es6F3MPDdhxUr4tarhR94Ye9fcQe7hUHBdx+2bTM3X6Zo1kCJSCHwMHAtMAq4WURi/UX7gfuAnyf4mCtUdbyqTmqNskYzmHsv2IweHV95NMbNt39/Y33fbdvc74ICM1BBwdx82SWZGdRkoEJVN6nqSeAZYEbkDqq6R1XLgKYXdhiZZalngjpunHMvGbmnQwd/Nl/E0y3Svbd+feiwLifNvRcgzM2XPZIxUAOBbRHvK0OyZFHgNRFZJiJ3JdpJRO4SkaUisnTv3r0pfLwBJM7es6F3sPDdjw8+OOXPC48x6upg+3b3unP/o1lSzkiGRG6+3buzr0tbJxkD5auNk0qBjymqOhHnIvy6iEz17aSqj6rqJFWd1Ldv3xQ+3gBc5Qhz7wWfRG6+Dz9k377G7L2tWxuXrXXun3z/KCPz9Onjb5ZcVpZ9Xdo6yRioSmBwxPtBwI5kT6CqO0K/9wAv4FyGRrpZsiReNn68ufeCRocO/k67ZWVRD7h169ykuKDzSTp0Mc950LjggnhZWZnV5ks3yRioMuAcERkqIh2Am4CXkvlwESkVka7h18AngebLOBupcfy4q14ey2QbCwQS39Nt5UrK3nduvtpa2BEaAhb3MvdeEJnkSffatavRLWukh2YXx6hqnYh8A5gLFAKPq+oaEbk7tP0REekPLAW6AQ0icj8u468P8IK4KotFwP+q6quZ+VPaMStXxhceLS2FkSNzo4/RNOed5zoO1tScEu3YX8L2ygPQty8ff+zcew0NUNzbDFQQ6dXLdVLZuDFavmQJDBqUG53aIkmt3lTVOcCcGNkjEa934Vx/sRwGPP4MI6343Hvnnw+FhdnXxWieoiJX+ui9906JyvYOgZo90Lcv69Y1roEq6OgvhWTknsmT4w3U0qUwc6Z1tUkXVkki36muduufYjH3XrCJcPOphgzU/gMcP1priz7zhPPPj6+/XFXVuI7NaD1moPKdpUudLyiSnj3h7LNzo4+RHCNGQLduAHx8pA97j3WBhgZ2lldZ0fk8oWtXvxfd59AwWoZ9FfKd99+Pl02aZD6GoBNRHmLxnqGnxIcrdicqcG4EkETZfHYP04MZqHxmzx6/P+Gii7Kvi5E6F11EXUOBc+8BJ2uh4/FDdOR408cZgWHixPiVHNXV/obWRuqYgcpnFi+Olw0caGlE+cKZZ7JaxlBd6xbuHjoEKPTD+ojnCyUl/j5RPseGkTpmoPIVVf+3wGZP+YMI73dwhVUUOHjQ/R7PClIr1mLkEt9Xrrw8ahWB0ULMQOUrmzbBvn3RMhHL3ssjqquh/JhLZjl+HBpCXTfGsZIz2ZJDzYxUGDXqVL7LKerq/LWbjdQwA5WvLFoULxs5Enr0yL4uRotYtgzqikqgR3cOHIAGhRKOM4CdXIzn/hqBpKDAnyzh+4oaqWEGKh85ccJfmfLii7Ovi9FiFixwv+v79OPIYfd6CB9TgDKZJRRZ95q8wffV27QJdu7Mvi5tCTNQ+cgHH8RXLu/Y0R+tNQJJZSVsCXnxtlb3oUHcV3Eorpx5Z2pCsSgjHxg0yOUnxbJwYfZ1aUuYgcpHwkPvSC64wBkpIy+IfHCVry1id0NferKfXhw4JZ/Ce54jjSAiAlOmxMsXLYL6+uzr01YwA5Vv7NkDH30UL/d9O4xAUlfXmIBZXe1u6S76M4zowm7nstbcfHnEhRfGl788csTfaMBIDjNQ+YbPZzBgAAwdGi83AsnKlc4wgWvrLgKH6UYp8Y0Ju3M4y9oZLaVLF7+X/T2bCLcYM1D5RH2930BNmWKljfKI8ANLFdasCbuAhKXEp4J14zBiS6LyBp8jY/Vqt8bNSB0zUPnEqlWhcgMRFBTY4tw8Yt8+Z5TANSWMbOO1iItRogcaxdRSXGst3/OFc891tZojaWiwWVRLMQOVT7zzTrxs3DhXVtnIC959t/F1eXl0UdFD9KCcMXHHdDphw+98oaDAP4uaPz++6YDRPGag8oU9e2Dt2nj55ZdnXxejRdTVNY6kjx3ztwd/h/j7WVxb7RoNGXnBpZfGe9wPHLBkiZZgBipfmD8/XnbaadbWPY9YvhyOhjq4+8YaAB8yiip6R8kE/PffCCQ9e8LYsfFynwPEaJqkDJSITBeR9SJSISLf8WwfKSKLROSEiPx9KscaSVBb63diX3aZJUfkEWH3nqoLnPvWxygFzOey+A0LFliToTzC59j48MP48plG0zRroESkEHgYuBYYBdwsIqNidtsP3Af8vAXHGs2xbFljXnKYoiJb+5RHVFY2Ll/btq3pxZsLuJR6IhbUNKhbULN8eWaVNNLGqFHQp0+0TNVmUamSzAxqMlChqptU9STwDDAjcgdV3aOqZRC3qrDZY41mUIU33oiXT5oEpaXZ18doEW+91fh6xYro7L1YjtKV5UxsFKi6nzffdL+NwCMCU6fGyxcscKU0jeRIxkANBLZFvK8MyZIh6WNF5C4RWSoiS/fu3Zvkx7cDKirckDuWadOyrorRMo4caewteegQJPPvPY9p0YITJ2HzZvj443SrZ2SIKVPiu+3W1FiV81RIxkD5ghzJDuOSPlZVH1XVSao6qW/fvkl+fDvgzTfjZWedZZUj8oh3320MH61cmVy68UaGsYUzGwVHQt3vfP8PRiDp0sWVP4rlrbdsIpwsyRioSmBwxPtBwI4kP781xxr79jl/UCxXXpl9XYwWUVcH8+a51ydPujhUcg8n4S0+Ef1BtXUuDnXgQOLDjEDh+6ru3t24WNtommQMVBlwjogMFZEOwE3AS0l+fmuONd5+O/5p1rMnTJiQG32MlFm6FA6HyuklSi1PeCyTqKOoUXC0xk2/IgNaRqA5/XRXXSIWX1jZiKdZA6WqdcA3gLnAWuCPqrpGRO4WkbsBRKS/iFQCDwAPikiliHRLdGym/pg2RXW1f+3LFVfEl0w2AokqzJ3rXjc0OPdeKq0X6iniIBEdko+fgPoG5zM8diy9yhoZwzeLWrsWtm7Nvi75RlHzu4CqzgHmxMgeiXi9C+e+S+pYIwnmzYtP9+nQwS1TN/KC8nJXbw9cd9WWLGM6RHeUPY2C6hooLHD5ytOnp0dRI6OMHg39+jnXXiRz58JXv5obnfIFqyQRRE6c8AfDL73UUsvziFdfdb9VnauvJQaqnkKOF3drFFQfb0w5bypX3QgMInD11fHyZctcBTMjMWaggsjChfELcwsK4KqrcqOPkTIVFbAx1H9w+3aXXtxSjnXoTlRCbPUxF9iyfOW84eKLoXv3aJkqvPZabvTJF8xABY26Onj99Xj55MnQu3e83Agkr7zS+HrJktZVKaovKIYR4Ui7umSJcIDLSmTnBUVF/vHlokXWK6opzEAFjUWL/JWrr7km+7oYLWLzZldrD1zcIS0PoMkXN75WoOa4W4YQ7h1vBJ6pU6FTp2hZXV2jK9iIxwxUkKirg9mz4+Vjx7p8VSMveCliIcXixWmq8XpaPxg6LPQmYhY1e3ZqqYFGzigp8ReAmT/flrYlwgxUkHjvPf9/6nXXZV8Xo0Vs2tS4CHPv3jRXr74oojhwg8Kx0CzKYlF5w1VXQceO0TKbRSXGDFRQqK2NDlyEGTcOzjwzXm4Ekr/8pfH1okVp7pBx+qDoWdSR0CxqzhxrxZEndOkCn/hEvHzBAti/P/v6BB0zUEHh3Xf9s6fPfCb7uhgtYsMG1/MHXOwpI71/Lo7oFdWgLhZVVWUNDfOIq6927r5I6urg5Zdzo0+QMQMVBGpq/LGnCRNg8OB4uRE4VOG55xpfL1yYoUnNgNPhrLPDZ4Uj1Y2xqOPHM3BCI92UlvqrSyxc2Liw23CYgQoCr74av+5JxGZPecTSpbBli3u9fXuGg95TIhoNKW5d1JEjjXWVjMBz1VXQuXO0TBWefz43+gQVM1C5Zv9+f9WIiy+Ggcm23TJySV0dzJrlXqtmoTv7af3h3NGhN9pYRPb1121RTZ7QuTN86lPx8tWrYd267OsTVMxA5ZpZs+KfZsXFcP31udHHSJm3326MN330UeuqRiTNlKmNRYM1lDBRW9toKY3AM22af+39c8/Z+uswZqByyUcfNbZajeSqq1xbDSPwHDzYmLlXV5eBzL1EdO8B4yc1vq85BnX1ToFNm7KggNFaiothxox4+bZtlvMSxgxUrmhogKefjpeXllrViDzi+ecbi84vX57lbO+LpkDHiHSwQ0fd7//9XxuC5wmTJ/tXkcyaBUePZl+foGEGKle8/baLpscyc2Z8PRQjkHz0kauzBy5Hobw8y0UdSkpgyuWN70/WwomTNgTPI0Tgxhvj5TU15q0FM1C54cCB6Ho4YYYMsX5PeUJdHTz1VOP7d9/N0aRl3ATo2y/0RuHgEReTmjULDh3KgUJGqgwb5nKiYlmwoLEifnvFDFS2UYU//CF+zYoI3Hyz+20EntmzYedO93rLFrcwVzUHihQUwFURLuGGUFZfTY1z9eVEKSNVbrgh3nGiCv/93+277VdSBkpEpovIehGpEJHveLaLiPwqtH2ViEyM2LZZRMpFZIWILE2n8nnJkiWNpa4jufRSN4MyAs+2bY2102prXXPbnFYaOn0QnDc29CZkoOrqYcUK1xXPCDzduvkTJnbvbt8VJpo1UCJSCDwMXAuMAm4WkVExu10LnBP6uQv4bcz2K1R1vKpOoj1z+DA8+2y8vFs3N4QyAk9dnRvVht15CxcGZIR7+ZXQKWLl54HDbgj+9NMuQGYEnssvh6FD4+Wvvda4CLy9kcwMajJQoaqbVPUk8AwQa+tnAP+jjveBHiIyIM265jeq8MQT8RUjAL70pfhl5UYgeeklN4MC5+KrqAhIt4tOneCq6Y3v6+pdnb6jR51FNVdf4CkogFtvdc0NI2logN/9rjFbtD2RjIEaCGyLeF8ZkiW7jwKvicgyEbmrpYrmPW++2VhJNJJJk1zFciPwrFvX2KK7thbeeCMgxinM8JFw9ojQG4XD1c5QlZfDvHm51MxIktNPh09/Ol6+Z4/f+dLWScZA+aL2scOxpvaZoqoTcW7Ar4vIVM++iMhdIrJURJbu3bs3CbXyiG3b4M9/jpd37Qo33ZR9fYyUOXrUTYDDE5F33w3oiPaqa6AkHG3XRlffc89BZWVOVTOS45pr/DWi33vP1XxsTyRjoCqByMs1CIituZtwH1UN/94DvIBzGcahqo+q6iRVndS3b9/ktM8HqqvhkUf8Q+3bb3dGygg0YRdLuMxdRYWLCQRyLWxpF7gmYgheV+cqntfVwX/+Z5bqMBmtobAQvvpV6NAhftv//E9j9mh7IBkDVQacIyJDRaQDcBMQu4jnJeDWUDbfRcAhVd0pIqUi0hVAREqBTwKeFLY2SkMD/Nd/+RsDXXkljB4dLzcCx6xZsHate33okJs9Bbo/4NnDYfz5je+rj7kFvHv2wOOPWzwqD+jXz7+A98QJ+O1v4dix7OuUC5o1UKpaB3wDmAusBf6oqmtE5G4RuTu02xxgE1ABPAb8TUjeD1ggIiuBJcBsVW0/zY1ffLGx/3ckgwa5ihFG4Fm6tLGLRV2da3ocaOMU5vIroXeEJ+LAYTeLLy/3LxI3AseUKTBxYrx89243zgjkDD7NFDW/C6jqHJwRipQ9EvFaga97jtsEtM8MgPnzGxfLRNK5M3zta65SpBFoKipc3AncpOOtt/xJmIGkqAiuvwGeegJOnnR/wP5D0KenaxHfty9cckmutTSaQMRl9W3f7oxSJKtWwZ/+BF/4Qtte22+VJDLBqlXRdXDCiMBf/zWcdlr2dTJSYtcuePjhxtnS8uUuxyBQWXvN0as3XBvRtqWuvjFp4ve/98/ujUDRqRPccw907Bi/7a23/K3k2hJmoNJNRQU89pjfz3/99RZ3ygOqquCXv2zMJ9i40RVlyAvXXixnD4eLI+o7nqh1vaMaGlzShLXmCDwDBsBXvuLf9qc/wfvvZ1efbGIGKp1s3Ai/+pVzqcRy0UVw7bXZ18lIif374d//3f0G2LHDLSHKq5lTLBdfBiPCxV/UJU1UH3MR91/+EjZvzqV2RhKMH5+42MyTT/rbyrUFzECli7Bx8i2OOfdc+PKX27azuA1QVQX/9m+NSZd797owYl4bJ3D/d9Ovg8HhxkMKh4/CseOuaPFDD9lMKg/45CddF95YwkVq2qKRMgOVDlauhF/8Ir5CObgVd3ffHV+/xAgU27fDz37WaJz27XNFOvPSreejqAiu/xz0icjsO3gEjp1wOcu/+IW/iLERGMK9oyZMiN+m6jL73ngj+3plEjNQrWX+fLcwwVcxdOBAuP9+11jOCCzr18O//mvjQtw9e1wb90AUgU0nJSXw+S9CBl2GqAAAC5ZJREFUrz6NsoOH3Uzq5EmXFfLee7nTz2iWggK4804YM8a//U9/cj9tJQXdDFRLCXes+8Mf/AkRp58Of/d30KVL9nUzkkLVZUE99FDjwsfKSjdzanPGKUznUvjCF12GX5iDR1xMqqHBlSp45pk24NdsuxQVOadMonyrN96A3/wmj5ZENIEZqJZQVeUi6e++699+5pnwwANWxijAHD/uXCJ//GPjaHP9ercot8249RJR2gW+cEtEJ15cTOrwUWe1337bufwOHMidjkaThI2Uz90HbgXBj3+c//kvZqBSQdVFIv/5nxP3Yh41Cr75TTNOAWbjRncLlyxx7xsanGfrvffa0cShtAvc+CU4Y0ijrPo47D/suvJ+9JG7SO2tOmkeUVwMd90FU73lt10c9ac/ddVP8tXlZ5H7ZKmqcq6PVasS73PJJXDLLZYQEVCOHXN19d55p9ErW1PjZk0HDrSDmVMsHTvCzC/A63Pgw9WAuljU3v3Qq7u7OI89BmVlrup+z5651tiIoaAAvvhF6NXLVVaLjTY0NLj/+Q8+cG3nzjgjN3q2FHuSNsfJky5QMWeOf30TuP+SG290LTEtlTxwNDS4xYyzZrlir2E2b3berLq6dlw/tagIpn8GTusP77wF2uAu2L4D0LUUSju5Vcpr18KnPuWKHFuZrkAh4pZYDh7squ77Cslu2eJcftOmuX5T+eLgEQ3gN3PSpEm6NNeuhbo6WLTIRczD6V0+evZ0aTVnn5093YykUHUT3hdfdGnkYY4dc8mXlZXBnzX1u3kRg087SdnM0syfbNsWmPMSHA23iBcoKoSe3dxvcP/v113nFp6bpyBw7NnjJr1btybep6TEram64orgNPIWkWWqOilObgYqhpoaF4x4442mDRPABRe4+XVQ7rIBuAy8Zcuc625HROeyhgY3EVi82L3OB798Vg0UOOv9+ivw0bpoeWknN6MKewh69oSrrnJubfv/DxR1dW6ZxNy5TXsGSkrcjGratNx7b81ANYWqq6G3cKHztzeXY9y9u3PpTZxoLr0AsWOHm/QuXOg64IZRde68RYtc9l7QZ02RZN1Agbtg6z+Et9+AmohcZRFnpDqXNP7fd+jgBmpTpsBZZ9n3IUBs3OhWweyIbS8bgwiMHQuXXupyvHIxMTYDFUtDg7uDK1e64Xa4+FpTFBS4ONOMGa7MsJFTVJ3rbtUqdwtjO5o3NMDHH7sxR01NfhmmMDkxUGGOH4f33oGVH7jYFAACBQJdOkcbKoDeveH882HcOGesCixJONfU1Tln0Jw5/ipssZSWunH3uHEwcmT2wo1moBoa3NNs40ZYt84tekml/fXEifDZz7pWl0ZOUHX18cK3cN06vxe2psZtW73afUHz0TCFyamBClO1DxbMg4oNEcKQYepc4tx/4RhVmM6d3RNuxAgXnz39dDNYOeTwYZg92y3dTNa1XVzsbt2557rfZ5yROYPVvgxUdTXs3Ol+tm+HbdvcTzJDiEhEnGGaPj3/8jPznBMnXE+mnTudi2LbNhf4jXTdxe6/ZYszTHv2uFvXFtY0BcJAhdm1ExYvhIr18duKCqFzJyjpAIWF8ds7dnTfoUGD3M+AAdC/vxuyG1lj3z54/XVYsCD1gVtRkaveNnhw9C3s3r31nt32YaAeftj5dI4caX7fpujcGS6+2LnzbMaUVZ5/3rnkmitioOq8suFJcVWVG6Dn82zJR6AMVJiqfbByOaxZ5V96UVgInTpCxw5QXNT006trVxg2zHXlM7LG4cMuk3X+/NYXDCkpccbqvvtani+TyEAlFQ4TkenAL4FC4Heq+pOY7RLa/imgBrhdVZcnc2xaOXy45capoMDNZS+80NUP6dAhvboZSXH8uP8LU1fnZlN79zqjtHevk0dm4+VDVl6boHcf+MQn4dJp8NF6WLsatmwGQoPd+no4WuPq+6m6oXfHDtChyBmsgoJGo3XkSOsHlEbKdOvm1kNde61zhS9Z4pa7taQG5fHjzsuRibB8swZKRAqBh4GrgUqgTEReUtUPI3a7Fjgn9HMh8FvgwiSPTR8DBqRWfKpjR+cnHz/elQfOl9VrbZj+/f3ylStd23Vox4tqg0aHDnDeGPdTUw0bK2DjBmes6mobb1Q4EFgjjbLCQmesenR18SkjJxQUuAy+sWOdm3zNGvddKy9Prdhs//6ZSeBMZgY1GahQ1U0AIvIMMAOINDIzgP9R5y98X0R6iMgAYEgSx6aPAQOa3t65Mwwd6lwKI0fCkCF+f7mRMxLdwoYGM0yBpnMpjBnnfurqYNcO2LoFdm6HHdvh5InoG1hf7360S+JRiZFVOnZ0IfeJE92tqqx0uWQVFa6fZWQVllgydQuTMVADgW0R7ytxs6Tm9hmY5LEAiMhdwF0AZ7Q0ISF8lQoL4bTTGqN4gwe7nz59bJ1GwAkbKBGXtTxggPupr3f1xLp2bX+3sEDIr4FUYSGcOdT9gHvaHTwAe3a5DJaqfbB/nwscQvMDSyPriDQ+Nq+6yt3CQ4ca883COWi7djm3YKZuYTIGyvc4iB3LJtonmWOdUPVR4FFwSRJJ6BXPiBGuAnOfPvn1hTZO0aMHfPe7LjclMqX1mmvg61/PnV654sE3oVPHIhg3IteqZACF6iO5L2NgNIuI+2726BHdLDGcrJSp9PNkDFQlMDji/SAgdm1yon06JHFs+igpse61eY6IS2GNpUuXxL1v2jJdlgAUQNc2Wk6oa4CyE42UCXs6MkUyK+fKgHNEZKiIdABuAl6K2ecl4FZxXAQcUtWdSR5rGIZhGHE0O4NS1ToR+QYwF5cq/riqrhGRu0PbHwHm4FLMK3Bp5nc0dWxG/hLDMAyjTZHUOihVnYMzQpGyRyJeK+CNEPiONQzDMIzmsOJYhmEYRiAxA2UYhmEEEjNQhmEYRiAxA2UYhmEEEjNQhmEYRiAJZLsNEdkLbMm1HlmgD7Av10rkCXatUsOuV/LYtUqNTFyvM1W1b6wwkAaqvSAiS309UIx47Fqlhl2v5LFrlRrZvF7m4jMMwzACiRkowzAMI5CYgcotj+ZagTzCrlVq2PVKHrtWqZG162UxKMMwDCOQ2AzKMAzDCCRmoAzDMIxAYgYqx4jIv4rIOhFZJSIviEiPXOsUNERkuoisF5EKEflOrvUJMiIyWETeFpG1IrJGRP421zoFHREpFJEPROTlXOsSZESkh4g8F3perRWRizN9TjNQued1YLSqjgU2AP+YY30ChYgUAg8D1wKjgJtFZFRutQo0dcA3VfVc4CLg63a9muVvgbW5ViIP+CXwqqqOBMaRhWtmBirHqOprqloXevs+4Gl43q6ZDFSo6iZVPQk8A8zIsU6BRVV3qury0OsjuIfIwNxqFVxEZBDwaeB3udYlyIhIN2Aq8F8AqnpSVQ9m+rxmoILFV4BXcq1EwBgIbIt4X4k9cJNCRIYAE4DFudUk0DwEfBtoyLUiAecsYC/wRMgd+jsRKc30Sc1AZQEReUNEVnt+ZkTs839w7pmncqdpIBGPzNZGNIOIdAGeB+5X1cO51ieIiMh1wB5VXZZrXfKAImAi8FtVnQBUAxmPByfV8t1oHap6VVPbReQ24DrgSrWFabFUAoMj3g8CduRIl7xARIpxxukpVf1zrvUJMFOA60XkU0AJ0E1E/qCqX8qxXkGkEqhU1fBs/DmyYKBsBpVjRGQ68A/A9apak2t9AkgZcI6IDBWRDsBNwEs51imwiIjg4gRrVfXfc61PkFHVf1TVQao6BPd/9ZYZJz+qugvYJiIjQqIrgQ8zfV6bQeWe3wAdgdfds4X3VfXu3KoUHFS1TkS+AcwFCoHHVXVNjtUKMlOALwPlIrIiJPsnVZ2TQ52MtsG9wFOhgeIm4I5Mn9BKHRmGYRiBxFx8hmEYRiAxA2UYhmEEEjNQhmEYRiAxA2UYhmEEEjNQhmEYRiAxA2UYhmEEEjNQhmEYRiD5/yTc5qNxwNbRAAAAAElFTkSuQmCC\n",
      "text/plain": [
       "<Figure size 432x288 with 1 Axes>"
      ]
     },
     "metadata": {
      "needs_background": "light"
     },
     "output_type": "display_data"
    }
   ],
=======
   "execution_count": null,
   "metadata": {},
   "outputs": [],
>>>>>>> hyp-testing
   "source": [
    "fig, ax = plt.subplots()\n",
    "\n",
    "y = np.linspace(stats.norm(0, 1).ppf(0.001),\n",
    "             stats.norm(0, 1).ppf(0.999), 100)\n",
    "\n",
    "alpha = stats.norm(0, 1).ppf(0.95)\n",
    "\n",
    "\n",
    "ax.plot(y, stats.norm(0, 1).pdf(y), 'r-', lw=5, alpha=0.6, label='Type I Error')\n",
    "ax.axvline(alpha)\n",
    "\n",
    "px = np.arange(stats.norm(0, 1).ppf(0.95), stats.norm(0, 1).ppf(0.999), 0.001)\n",
    "ax.fill_between(px, stats.norm(0, 1).pdf(px), color = 'pink')\n",
    "\n",
    "ax.set_title('Alpha shaded blue: Type I Error')\n",
    "\n",
    "\n",
    "x = np.linspace(stats.norm(3, 1).ppf(0.001),\n",
    "             stats.norm(3, 1).ppf(0.999), 100)\n",
    "\n",
    "ax.plot(x, stats.norm(3, 1).pdf(x), 'b-', lw=5, alpha=0.6, label='Type II Error')\n",
    "\n",
    "\n",
    "px = np.arange(stats.norm(0, 1).ppf(0.5),stats.norm(0, 1).ppf(0.95), 0.001)\n",
    "ax.fill_between(px, stats.norm(3, 1).pdf(px), color='blue')\n",
    "ax.legend(loc='upper right')\n",
    "\n",
    "ax.set_title('Type I and Type II Errors')\n",
    "ax.text(1.35, 0.25, 'Alpha: .05', rotation=90)\n",
    "\n",
    "plt.tight_layout()"
   ]
  },
  {
   "cell_type": "markdown",
   "metadata": {},
   "source": [
    "## $z$-Tests "
   ]
  },
  {
   "cell_type": "markdown",
   "metadata": {},
   "source": [
    "A $z$-test is used when you know the population mean and standard deviation."
   ]
  },
  {
   "cell_type": "markdown",
   "metadata": {},
   "source": [
    "Our test statistic is the $z$-stat."
   ]
  },
  {
   "cell_type": "markdown",
   "metadata": {},
   "source": [
    "For a single point in relation to a distribution of points:\n",
    "\n",
    "$z = \\dfrac{{x} - \\mu}{\\sigma}$\n",
    "\n"
   ]
  },
  {
   "cell_type": "markdown",
   "metadata": {},
   "source": [
    "<br>Our $z$-score tells us how many standard deviations away from the mean our point is.\n",
    "<br>We assume that the sample population is normally destributed, and we are familiar with the empirical rule: <br>66:95:99.7\n",
    "\n",
    "![](img/Empirical_Rule.png)\n"
   ]
  },
  {
   "cell_type": "markdown",
   "metadata": {},
   "source": [
    "Because of this, we can say, with a $z$-score of approximately 2, our data point is 2 standard deviations from the mean, and therefore has a probability of appearing of 1-.95, or .05. "
   ]
  },
  {
   "cell_type": "markdown",
   "metadata": {},
   "source": [
    "Recall the following example: Assume the mean height for women is normally distributed with a mean of 65 inches and a standard deviation of 4 inches. What is the $z$-score of a woman who is 75 inches tall?"
   ]
  },
  {
   "cell_type": "code",
<<<<<<< HEAD
   "execution_count": 27,
   "metadata": {},
   "outputs": [
    {
     "name": "stdout",
     "output_type": "stream",
     "text": [
      "2.5\n"
     ]
    }
   ],
=======
   "execution_count": null,
   "metadata": {},
   "outputs": [],
>>>>>>> hyp-testing
   "source": [
    "z_score = (75 - 65)/4\n",
    "print(z_score)"
   ]
  },
  {
   "cell_type": "markdown",
   "metadata": {},
   "source": [
    "When we are working with a sampling distribution, the z score is equal to <br><br>  $\\Large z = \\dfrac{{\\bar{x}} - \\mu_{0}}{\\dfrac{\\sigma}{\\sqrt{n}}}$"
   ]
  },
  {
   "cell_type": "markdown",
   "metadata": {},
   "source": [
    "### Variable review: \n",
    "\n",
    "$\\bar{x}$ equals the sample mean.\n",
    "<br>$\\mu_{0}$ is the mean associated with the null hypothesis.\n",
    "<br>$\\sigma$ is the population standard deviation\n",
    "<br>$\\sqrt{n}$ is the sample size, which reflects that we are dealing with a sample of the population, not the entire population."
   ]
  },
  {
   "cell_type": "markdown",
   "metadata": {},
   "source": [
    "The denominator $\\frac{\\sigma}{\\sqrt{n}}$, is the standard error\n",
    "\n",
    "Standard error is the standard deviation of the sampling mean. We will go into that further below."
   ]
  },
  {
   "cell_type": "markdown",
   "metadata": {},
   "source": [
    "Once we have a z-stat, we can use a [z-table](http://www.z-table.com/) to find the associated p-value."
   ]
  },
  {
   "cell_type": "code",
<<<<<<< HEAD
   "execution_count": 28,
   "metadata": {},
   "outputs": [
    {
     "data": {
      "text/plain": [
       "2.3499999999999943"
      ]
     },
     "execution_count": 28,
     "metadata": {},
     "output_type": "execute_result"
    }
   ],
=======
   "execution_count": null,
   "metadata": {},
   "outputs": [],
>>>>>>> hyp-testing
   "source": [
    "sample_female_heights = [68, 65, 69, 70, 70, \n",
    "                         61, 59, 65, 64, 66,\n",
    "                         72, 71, 68, 66, 64,\n",
    "                         65, 65, 70, 71, 63, \n",
    "                         72, 66, 65, 65, 72]\n",
    "\n",
    "x_bar = np.mean(sample_female_heights)\n",
    "mu = 65\n",
    "n = len(sample_female_heights)\n",
    "std = 4\n",
    "\n",
    "z = (x_bar - mu)/(4/np.sqrt(n))\n",
    "z"
   ]
  },
  {
   "cell_type": "code",
<<<<<<< HEAD
   "execution_count": 29,
   "metadata": {},
   "outputs": [
    {
     "name": "stdout",
     "output_type": "stream",
     "text": [
      "0.9906132944651613\n",
      "0.009386705534838714\n"
     ]
    }
   ],
=======
   "execution_count": null,
   "metadata": {},
   "outputs": [],
>>>>>>> hyp-testing
   "source": [
    "# we can use stats to calculate the percentile\n",
    "print(stats.norm.cdf(z))\n",
    "\n",
    "# We can also use the survival function to calculate the probability\n",
    "print(stats.norm.sf(z))"
   ]
  },
  {
   "cell_type": "markdown",
   "metadata": {},
   "source": [
    "### Example\n",
    "\n",
    "Let's work with the normal distribution, since it's so useful. Suppose we are told that African elephants have weights distributed normally around a mean of 9000 lbs., with a standard deviation of 900 lbs. Pachyderm Adventures has recently measured the weights of 40 African elephants in Gabon and has calculated their average weight at 8637 lbs. They claim that these statistics on the Gabonese elephants are significant. Let's find out!"
   ]
  },
  {
   "cell_type": "markdown",
   "metadata": {},
   "source": [
    "What is our null hypothesis?"
   ]
  },
  {
   "cell_type": "code",
   "execution_count": null,
   "metadata": {},
   "outputs": [],
   "source": []
  },
  {
   "cell_type": "markdown",
   "metadata": {},
   "source": [
    "What is our alternative hypothesis?"
   ]
  },
  {
   "cell_type": "code",
   "execution_count": null,
   "metadata": {},
   "outputs": [],
   "source": []
  },
  {
   "cell_type": "markdown",
   "metadata": {},
   "source": [
    "What is our alpha?"
   ]
  },
  {
   "cell_type": "code",
   "execution_count": null,
   "metadata": {},
   "outputs": [],
   "source": []
  },
  {
   "cell_type": "markdown",
   "metadata": {},
   "source": [
    "Remember we gave the formula for standard error before as $\\frac{\\sigma}{\\sqrt{n}}$\n",
    "<br> Let's calculate that with our elephant numbers."
   ]
  },
  {
   "cell_type": "code",
<<<<<<< HEAD
   "execution_count": 30,
   "metadata": {},
   "outputs": [
    {
     "data": {
      "text/plain": [
       "142.30249470757707"
      ]
     },
     "execution_count": 30,
     "metadata": {},
     "output_type": "execute_result"
    }
   ],
=======
   "execution_count": null,
   "metadata": {},
   "outputs": [],
>>>>>>> hyp-testing
   "source": [
    "se = 900 / np.sqrt(40)\n",
    "se"
   ]
  },
  {
   "cell_type": "markdown",
   "metadata": {},
   "source": [
    "Now let's calculate the z-score analytically.\n",
    "Remember the formula for z-score:\n",
    "$z = \\dfrac{{\\bar{x}} - \\mu_{0}}{\\dfrac{\\sigma}{\\sqrt{n}}}$"
   ]
  },
  {
   "cell_type": "code",
<<<<<<< HEAD
   "execution_count": 31,
   "metadata": {},
   "outputs": [
    {
     "data": {
      "text/plain": [
       "-2.5509486999297257"
      ]
     },
     "execution_count": 31,
     "metadata": {},
     "output_type": "execute_result"
    }
   ],
=======
   "execution_count": null,
   "metadata": {},
   "outputs": [],
>>>>>>> hyp-testing
   "source": [
    "x_bar = 8637\n",
    "mu = 9000\n",
    "se = 142.3\n",
    "\n",
    "z = (x_bar - mu) / se\n",
    "z"
   ]
  },
  {
   "cell_type": "code",
<<<<<<< HEAD
   "execution_count": 32,
   "metadata": {},
   "outputs": [
    {
     "data": {
      "text/plain": [
       "0.005371506876180296"
      ]
     },
     "execution_count": 32,
     "metadata": {},
     "output_type": "execute_result"
    }
   ],
=======
   "execution_count": null,
   "metadata": {},
   "outputs": [],
>>>>>>> hyp-testing
   "source": [
    "# Now we get our p-value from the test statistic:\n",
    "stats.norm.cdf(z)"
   ]
  },
  {
   "cell_type": "markdown",
   "metadata": {},
   "source": [
    "## $t$-Tests"
   ]
  },
  {
   "cell_type": "markdown",
   "metadata": {},
   "source": [
    "### z-tests vs t-tests\n",
    "\n",
    "According to the **Central Limit Theorem**, the sampling distribution of a statistic, like the sample mean, will follow a normal distribution _as long as the sample size is sufficiently large_. \n",
    "\n",
    "__What if we don't have large sample sizes?__\n",
    "\n",
    "When we do not know the population standard deviation or we have a small sample size, the sampling distribution of the sample statistic will follow a $t$-distribution.\n",
    "\n",
    "* Smaller sample sizes have larger variance, and $t$-distributions account for that by having heavier tails than the normal distribution.\n",
    "* $t$-distributions are parametrized by degrees of freedom, fewer degrees of freedom fatter tails. Also converges to a normal distribution as dof >> 0"
   ]
  },
  {
   "cell_type": "markdown",
   "metadata": {},
   "source": [
    "<img src=\"img/z_or_t_test.png\" width=\"500\">"
   ]
  },
  {
   "cell_type": "markdown",
   "metadata": {},
   "source": [
    "**When we perform a hypothesis test for the population mean, we want to know how likely it is to obtain the test statistic for the sample mean given the null hypothesis that the sample mean and population mean are not different.** \n",
    "\n",
    "The test statistic for the sample mean summarizes our sample observations. How do test statistics differ for one-sample $z$-tests and $t$-tests? \n",
    "\n",
    "A $t$-test is like a modified $z$-test. \n",
    "\n",
    "* Penalize for small sample size: \"degrees of freedom\"\n",
    "\n",
    "* Use sample standard deviation $s$ to estimate the population standard deviation $\\sigma$.\n",
    "\n",
    "<img src=\"img/img5.png\" width=\"500\">\n",
    "\n"
   ]
  },
  {
   "cell_type": "markdown",
   "metadata": {},
   "source": [
    "### One-sample $z$-test\n",
    "\n",
    "* For large enough sample sizes $n$ with known population standard deviation $\\sigma$, the test statistic of the sample mean $\\bar x$ is given by the **$z$-statistic**, \n",
    "$$Z = \\frac{\\bar{x} - \\mu}{\\sigma/\\sqrt{n}}$$ where $\\mu$ is the population mean.  \n",
    "\n",
    "* Our hypothesis test tries to answer the question of how likely we are to observe a $z$-statistic as extreme as our sample's given the null hypothesis that the sample and the population have the same mean, given a significance threshold of $\\alpha$. This is a one-sample $z$-test.  "
   ]
  },
  {
   "cell_type": "markdown",
   "metadata": {},
   "source": [
    "### One-sample t-test\n",
    "\n",
    "* For small sample sizes or samples with unknown population standard deviation, the test statistic of the sample mean is given by the **$t$-statistic**, \n",
    "$$ t = \\frac{\\bar{x} - \\mu}{s/\\sqrt{n}} $$ Here, $s$ is the sample standard deviation, which is used to estimate the population standard deviation, and $\\mu$ is the population mean.  \n",
    "\n",
    "* Our hypothesis test tries to answer the question of how likely we are to observe a $t$-statistic as extreme as our sample's given the null hypothesis that the sample and population have the same mean, given a significance threshold of $\\alpha$. This is a one-sample $t$-test."
   ]
  },
  {
   "cell_type": "markdown",
   "metadata": {},
   "source": [
    "### Compare and contrast $z$-tests and $t$-tests. \n",
    "In both cases, it is assumed that the samples are normally distributed. \n",
    "\n",
    "$t$-distributions have more probability in the tails. As the sample size increases, this decreases and the t distribution more closely resembles the $z$, or standard normal, distribution. By sample size $n = 1000$ they are virtually indistinguishable from each other. \n",
    "\n",
    "As the degrees of freedom go up, the $t$-distribution gets closer to the normal curve.\n",
    "\n",
    "After calculating our $t$-stat, we compare it against our $t$-critical value determined by our preditermined alpha and the degrees of freedom.\n",
    "\n",
    "Degrees of freedom = n - 1\n",
    "### T-value table\n",
    "\n",
    "![img6](./img/img6.png)\n",
    "\n",
    "We can either [look it up](http://www.ttable.org/), or calculate it with python:"
   ]
  },
  {
   "cell_type": "code",
<<<<<<< HEAD
   "execution_count": 33,
   "metadata": {},
   "outputs": [
    {
     "name": "stdout",
     "output_type": "stream",
     "text": [
      "Help on function ttest_1samp in module scipy.stats.stats:\n",
      "\n",
      "ttest_1samp(a, popmean, axis=0, nan_policy='propagate')\n",
      "    Calculate the T-test for the mean of ONE group of scores.\n",
      "    \n",
      "    This is a two-sided test for the null hypothesis that the expected value\n",
      "    (mean) of a sample of independent observations `a` is equal to the given\n",
      "    population mean, `popmean`.\n",
      "    \n",
      "    Parameters\n",
      "    ----------\n",
      "    a : array_like\n",
      "        Sample observation.\n",
      "    popmean : float or array_like\n",
      "        Expected value in null hypothesis. If array_like, then it must have the\n",
      "        same shape as `a` excluding the axis dimension.\n",
      "    axis : int or None, optional\n",
      "        Axis along which to compute test. If None, compute over the whole\n",
      "        array `a`.\n",
      "    nan_policy : {'propagate', 'raise', 'omit'}, optional\n",
      "        Defines how to handle when input contains nan.\n",
      "        The following options are available (default is 'propagate'):\n",
      "    \n",
      "          * 'propagate': returns nan\n",
      "          * 'raise': throws an error\n",
      "          * 'omit': performs the calculations ignoring nan values\n",
      "    \n",
      "    Returns\n",
      "    -------\n",
      "    statistic : float or array\n",
      "        t-statistic.\n",
      "    pvalue : float or array\n",
      "        Two-sided p-value.\n",
      "    \n",
      "    Examples\n",
      "    --------\n",
      "    >>> from scipy import stats\n",
      "    \n",
      "    >>> np.random.seed(7654567)  # fix seed to get the same result\n",
      "    >>> rvs = stats.norm.rvs(loc=5, scale=10, size=(50,2))\n",
      "    \n",
      "    Test if mean of random sample is equal to true mean, and different mean.\n",
      "    We reject the null hypothesis in the second case and don't reject it in\n",
      "    the first case.\n",
      "    \n",
      "    >>> stats.ttest_1samp(rvs,5.0)\n",
      "    (array([-0.68014479, -0.04323899]), array([ 0.49961383,  0.96568674]))\n",
      "    >>> stats.ttest_1samp(rvs,0.0)\n",
      "    (array([ 2.77025808,  4.11038784]), array([ 0.00789095,  0.00014999]))\n",
      "    \n",
      "    Examples using axis and non-scalar dimension for population mean.\n",
      "    \n",
      "    >>> stats.ttest_1samp(rvs,[5.0,0.0])\n",
      "    (array([-0.68014479,  4.11038784]), array([  4.99613833e-01,   1.49986458e-04]))\n",
      "    >>> stats.ttest_1samp(rvs.T,[5.0,0.0],axis=1)\n",
      "    (array([-0.68014479,  4.11038784]), array([  4.99613833e-01,   1.49986458e-04]))\n",
      "    >>> stats.ttest_1samp(rvs,[[5.0],[0.0]])\n",
      "    (array([[-0.68014479, -0.04323899],\n",
      "           [ 2.77025808,  4.11038784]]), array([[  4.99613833e-01,   9.65686743e-01],\n",
      "           [  7.89094663e-03,   1.49986458e-04]]))\n",
      "\n"
     ]
    }
   ],
=======
   "execution_count": null,
   "metadata": {},
   "outputs": [],
>>>>>>> hyp-testing
   "source": [
    "help(stats.ttest_1samp)"
   ]
  },
  {
   "cell_type": "markdown",
   "metadata": {},
   "source": [
    "Let's go back to our Gabonese elephants, but let's reduce the sample size to 20, and assume we don't know the standard deviation of the population, but know the sample standard deviation to be ~355 lbs.\n",
    "\n",
    "Here is the new scenario: suppose we are told that African elephants have weights distributed normally around a mean of 9000 lbs. Pachyderm Adventures has recently measured the weights of 20 African elephants in Gabon and has calculated their average weight at 8637 lbs. They claim that these statistics on the Gabonese elephants are significant. Let's find out!\n",
    "\n",
    "Because the sample size is smaller, we will use a one sample $t$-test."
   ]
  },
  {
   "cell_type": "code",
<<<<<<< HEAD
   "execution_count": 34,
=======
   "execution_count": null,
>>>>>>> hyp-testing
   "metadata": {},
   "outputs": [],
   "source": [
    "# here is the array of our weights\n",
    "\n",
    "gab = np.random.normal(8637, 355, 20)"
   ]
  },
  {
   "cell_type": "markdown",
   "metadata": {},
   "source": [
    "This random selection of values won't actually have our desired statistics!"
   ]
  },
  {
   "cell_type": "code",
<<<<<<< HEAD
   "execution_count": 35,
   "metadata": {},
   "outputs": [
    {
     "name": "stdout",
     "output_type": "stream",
     "text": [
      "8529.540836914606\n",
      "277.87204727360376\n"
     ]
    }
   ],
=======
   "execution_count": null,
   "metadata": {},
   "outputs": [],
>>>>>>> hyp-testing
   "source": [
    "print(gab.mean())\n",
    "print(gab.std())"
   ]
  },
  {
   "cell_type": "markdown",
   "metadata": {},
   "source": [
    "Let's set this up so that we actually have what we want!"
   ]
  },
  {
   "cell_type": "code",
<<<<<<< HEAD
   "execution_count": 36,
   "metadata": {},
   "outputs": [
    {
     "name": "stdout",
     "output_type": "stream",
     "text": [
      "8637.0\n"
     ]
    }
   ],
=======
   "execution_count": null,
   "metadata": {},
   "outputs": [],
>>>>>>> hyp-testing
   "source": [
    "gab = gab + (8637 - gab.mean())\n",
    "print(gab.mean())"
   ]
  },
  {
   "cell_type": "code",
<<<<<<< HEAD
   "execution_count": 37,
   "metadata": {},
   "outputs": [
    {
     "name": "stdout",
     "output_type": "stream",
     "text": [
      "354.9999999999999\n"
     ]
    }
   ],
=======
   "execution_count": null,
   "metadata": {},
   "outputs": [],
>>>>>>> hyp-testing
   "source": [
    "gab = gab * (355 / gab.std())\n",
    "print(gab.std())"
   ]
  },
  {
   "cell_type": "code",
<<<<<<< HEAD
   "execution_count": 38,
   "metadata": {},
   "outputs": [
    {
     "data": {
      "text/plain": [
       "-4.57291648356295"
      ]
     },
     "execution_count": 38,
     "metadata": {},
     "output_type": "execute_result"
    }
   ],
=======
   "execution_count": null,
   "metadata": {},
   "outputs": [],
>>>>>>> hyp-testing
   "source": [
    "# Let's continue to assume our alpha is 0.05\n",
    "x_bar = 8637\n",
    "mu = 9000\n",
    "sample_std = 355\n",
    "n = 20\n",
    "\n",
    "t_stat = (x_bar - mu)/(sample_std/np.sqrt(n))\n",
    "t_stat"
   ]
  },
  {
   "cell_type": "code",
<<<<<<< HEAD
   "execution_count": 39,
   "metadata": {},
   "outputs": [
    {
     "data": {
      "text/plain": [
       "-1.7291328115213678"
      ]
     },
     "execution_count": 39,
     "metadata": {},
     "output_type": "execute_result"
    }
   ],
=======
   "execution_count": null,
   "metadata": {},
   "outputs": [],
>>>>>>> hyp-testing
   "source": [
    "# Calculate our t-critical value\n",
    "stats.t.ppf(0.05, 19)"
   ]
  },
  {
   "cell_type": "markdown",
   "metadata": {},
   "source": [
    "Now, let's use the t-table to find our critical t-value.\n",
    "t-critical = -1.729\n"
   ]
  },
  {
   "cell_type": "code",
<<<<<<< HEAD
   "execution_count": 40,
   "metadata": {},
   "outputs": [
    {
     "data": {
      "text/plain": [
       "Ttest_1sampResult(statistic=24.978839515847675, pvalue=5.410806067839284e-16)"
      ]
     },
     "execution_count": 40,
     "metadata": {},
     "output_type": "execute_result"
    }
   ],
=======
   "execution_count": null,
   "metadata": {},
   "outputs": [],
>>>>>>> hyp-testing
   "source": [
    "# Using Python:\n",
    "stats.ttest_1samp(gab, 9000)"
   ]
  },
  {
   "cell_type": "markdown",
   "metadata": {},
   "source": [
    "So, yes, we can very confidently reject our null.\n"
   ]
  },
  {
   "cell_type": "markdown",
   "metadata": {},
   "source": [
    "### Two sample $t$-tests"
   ]
  },
  {
   "cell_type": "markdown",
   "metadata": {},
   "source": [
    "Sometimes, we are interested in determining whether two population means are equal. In this case, we use two-sample $t$-tests.\n",
    "\n",
    "There are two types of two-sample t-tests: **paired** and **independent** (unpaired) tests. \n",
    "\n",
    "What's the difference?  \n",
    "\n",
    "**Paired tests**: How is a sample affected by a certain treatment? The individuals in the sample remain the same and you compare how they change after treatment. \n",
    "\n",
    "**Independent tests**: When we compare two different, unrelated samples to each other, we use an independent (or unpaired) two-sample t-test."
   ]
  },
  {
   "cell_type": "markdown",
   "metadata": {},
   "source": [
    "The test statistic for an unpaired two-sample t-test is slightly different than the test statistic for the one-sample $t$-test. \n",
    "\n",
    "Assuming equal variances, the test statistic for a two-sample $t$-test is given by: \n",
    "\n",
    "$$ t = \\frac{\\bar{x_1} - \\bar{x_2}}{\\sqrt{s^2 \\left( \\frac{1}{n_1} + \\frac{1}{n_2} \\right)}}$$\n",
    "\n",
    "where $s^2$ is the pooled sample variance, \n",
    "\n",
    "$$ s^2 = \\frac{\\sum_{i=1}^{n_1} \\left(x_i - \\bar{x_1}\\right)^2 + \\sum_{j=1}^{n_2} \\left(x_j - \\bar{x_2}\\right)^2 }{n_1 + n_2 - 2} $$\n",
    "\n",
    "Here, $n_1$ is the sample size of sample 1 and $n_2$ is the sample size of sample 2. \n",
    "\n",
    "An independent two-sample $t$-test for samples of size $n_1$ and $n_2$ has $(n_1 + n_2 - 2)$ degrees of freedom. "
   ]
  },
  {
   "cell_type": "markdown",
   "metadata": {},
   "source": [
    "Now let's say we want to compare our Gabonese elephants to a sample of elephants from Kenya. "
   ]
  },
  {
   "cell_type": "code",
<<<<<<< HEAD
   "execution_count": 41,
   "metadata": {},
   "outputs": [
    {
     "name": "stdout",
     "output_type": "stream",
     "text": [
      "259.79701691897856\n",
      "354.9999999999999\n"
     ]
    }
   ],
=======
   "execution_count": null,
   "metadata": {},
   "outputs": [],
>>>>>>> hyp-testing
   "source": [
    "ken = [8762, 8880, 8743, 8901,\n",
    "        8252, 8966, 8369, 9001,\n",
    "         8857, 8147, 8927, 9005,\n",
    "         9083, 8477, 8760, 8915,\n",
    "         8927, 8829, 8579, 9002]\n",
    "\n",
    "\n",
    "print(np.std(ken))\n",
    "print(np.std(gab))"
   ]
  },
  {
   "cell_type": "code",
<<<<<<< HEAD
   "execution_count": 42,
   "metadata": {},
   "outputs": [
    {
     "data": {
      "text/plain": [
       "22.44548071397362"
      ]
     },
     "execution_count": 42,
     "metadata": {},
     "output_type": "execute_result"
    }
   ],
=======
   "execution_count": null,
   "metadata": {},
   "outputs": [],
>>>>>>> hyp-testing
   "source": [
    "# so\n",
    "\n",
    "x_1 = np.mean(gab)\n",
    "x_2 = np.mean(ken)\n",
    "s_1_2 = np.var(gab, ddof = 1)\n",
    "s_2_2 = np.var(ken, ddof = 1)\n",
    "n_1 = len(gab)\n",
    "n_2 = len(ken)\n",
    "s_p_2 = ((n_1 - 1)*s_1_2 + (n_2 - 1 )* s_2_2)/(n_1 + n_2 -2)\n",
    "\n",
    "t = (x_1 - x_2)/np.sqrt(s_p_2*(1/n_1 + 1/n_2))\n",
    "t"
   ]
  },
  {
   "cell_type": "code",
<<<<<<< HEAD
   "execution_count": 43,
   "metadata": {},
   "outputs": [
    {
     "data": {
      "text/plain": [
       "101852.3631578947"
      ]
     },
     "execution_count": 43,
     "metadata": {},
     "output_type": "execute_result"
    }
   ],
=======
   "execution_count": null,
   "metadata": {},
   "outputs": [],
>>>>>>> hyp-testing
   "source": [
    "s_p_2 = ((n_1 - 1)*s_1_2 + (n_2 - 1 )* s_2_2)/(n_1 + n_2 -2)\n",
    "s_p_2"
   ]
  },
  {
   "cell_type": "code",
<<<<<<< HEAD
   "execution_count": 44,
   "metadata": {},
   "outputs": [
    {
     "name": "stdout",
     "output_type": "stream",
     "text": [
      "132657.89473684202 71046.83157894739\n"
     ]
    }
   ],
=======
   "execution_count": null,
   "metadata": {},
   "outputs": [],
>>>>>>> hyp-testing
   "source": [
    "print(s_1_2, s_2_2 )"
   ]
  },
  {
   "cell_type": "code",
<<<<<<< HEAD
   "execution_count": 45,
   "metadata": {},
   "outputs": [
    {
     "data": {
      "text/plain": [
       "Ttest_indResult(statistic=22.44548071397362, pvalue=2.7235634957839136e-22)"
      ]
     },
     "execution_count": 45,
     "metadata": {},
     "output_type": "execute_result"
    }
   ],
=======
   "execution_count": null,
   "metadata": {},
   "outputs": [],
>>>>>>> hyp-testing
   "source": [
    "stats.ttest_ind(gab, ken, equal_var=False)"
   ]
  },
  {
   "cell_type": "markdown",
   "metadata": {
    "slideshow": {
     "slide_type": "slide"
    }
   },
   "source": [
    "### Examples\n",
    "\n",
    "#### 1.\n",
    "\n",
    "A coffee shop relocates from Manhattan to Brooklyn and wants to make sure that all lattes are consistent before and after their move. They buy a new machine and hire a new barista. In Manhattan, lattes are made with 4 oz of espresso. A random sample of 25 lattes made in their new store in Brooklyn shows a mean of 4.6 oz and standard deviation of 0.22 oz. Are their lattes different now that they've relocated to Brooklyn? Use a significance level of $\\alpha = 0.01$."
   ]
  },
  {
   "cell_type": "markdown",
   "metadata": {},
   "source": [
    "**State the null and alternative hypotheses**"
   ]
  },
  {
   "cell_type": "code",
<<<<<<< HEAD
   "execution_count": 46,
=======
   "execution_count": null,
>>>>>>> hyp-testing
   "metadata": {},
   "outputs": [],
   "source": [
    "# Your Answer Here"
   ]
  },
  {
   "cell_type": "markdown",
   "metadata": {},
   "source": [
    "**What kind of test should we run? Why?**"
   ]
  },
  {
   "cell_type": "code",
<<<<<<< HEAD
   "execution_count": 47,
=======
   "execution_count": null,
>>>>>>> hyp-testing
   "metadata": {},
   "outputs": [],
   "source": [
    "# Your answer here"
   ]
  },
  {
   "cell_type": "markdown",
   "metadata": {},
   "source": [
    "**Perform the test.**"
   ]
  },
  {
   "cell_type": "code",
   "execution_count": null,
   "metadata": {},
   "outputs": [],
   "source": []
  },
  {
   "cell_type": "markdown",
   "metadata": {
    "slideshow": {
     "slide_type": "notes"
    }
   },
   "source": [
    "**Make a decision**."
   ]
  },
  {
   "cell_type": "code",
   "execution_count": null,
   "metadata": {},
   "outputs": [],
   "source": []
  },
  {
   "cell_type": "markdown",
   "metadata": {
    "slideshow": {
     "slide_type": "slide"
    }
   },
   "source": [
    "#### 2.\n",
    "\n",
    "I'm buying jeans from store A and store B. I know nothing about their inventory other than prices. \n",
    "\n",
    "``` python\n",
    "storeA = [20, 30, 30, 50, 75, 25, 30, 30, 40, 80]\n",
    "storeB = [60, 30, 70, 90, 60, 40, 70, 40]\n",
    "```\n",
    "\n",
    "Should I go just to one store for a less expensive pair of jeans? I'm pretty apprehensive about my decision, so $\\alpha = 0.1$. It's okay to assume the samples have equal variances."
   ]
  },
  {
   "cell_type": "markdown",
   "metadata": {
    "slideshow": {
     "slide_type": "slide"
    }
   },
   "source": [
    "**State the null and alternative hypotheses**"
   ]
  },
  {
   "cell_type": "code",
   "execution_count": null,
   "metadata": {},
   "outputs": [],
   "source": []
  },
  {
   "cell_type": "markdown",
   "metadata": {},
   "source": [
    "**What kind of test should we run? Why?** "
   ]
  },
  {
   "cell_type": "code",
   "execution_count": null,
   "metadata": {},
   "outputs": [],
   "source": []
  },
  {
   "cell_type": "markdown",
   "metadata": {},
   "source": [
    "**Perform the test.**"
   ]
  },
  {
   "cell_type": "code",
   "execution_count": null,
   "metadata": {},
   "outputs": [],
   "source": []
  },
  {
   "cell_type": "markdown",
   "metadata": {},
   "source": [
    "**Make a decision.**"
   ]
  },
  {
   "cell_type": "code",
   "execution_count": null,
   "metadata": {},
   "outputs": [],
   "source": []
  },
  {
   "cell_type": "markdown",
   "metadata": {
    "slideshow": {
     "slide_type": "notes"
    }
   },
   "source": [
    "> We fail to reject the null hypothesis at a significance level of $\\alpha = 0.1$. We do not have evidence to support that jean prices are different in store A and store B. "
   ]
  },
  {
   "cell_type": "markdown",
   "metadata": {
    "slideshow": {
     "slide_type": "slide"
    }
   },
   "source": [
    "#### 3.\n",
    "\n",
    "You measure the delivery times of ten different restaurants in two different neighborhoods. You want to know if restaurants in the different neighborhoods have the same delivery times. It's okay to assume both samples have equal variances. Set your significance threshold to 0.05. \n",
    "\n",
    "``` python\n",
    "delivery_times_A = [28.4, 23.3, 30.4, 28.1, 29.4, 30.6, 27.8, 30.9, 27.0, 32.8]\n",
    "delivery_times_B = [26.4, 26.3, 27.4, 30.4, 25.1, 28.4, 23.3, 24.7, 31.8, 24.3]\n",
    "```"
   ]
  },
  {
   "cell_type": "markdown",
   "metadata": {
    "slideshow": {
     "slide_type": "slide"
    }
   },
   "source": [
    "**State the null and alternative hypotheses.**"
   ]
  },
  {
   "cell_type": "code",
   "execution_count": null,
   "metadata": {},
   "outputs": [],
   "source": []
  },
  {
   "cell_type": "markdown",
   "metadata": {
    "slideshow": {
     "slide_type": "slide"
    }
   },
   "source": [
    "**What kind of test should we run? Why?**"
   ]
  },
  {
   "cell_type": "code",
   "execution_count": null,
   "metadata": {},
   "outputs": [],
   "source": []
  },
  {
   "cell_type": "markdown",
   "metadata": {},
   "source": [
    "**Perform the test.**"
   ]
  },
  {
   "cell_type": "code",
   "execution_count": null,
   "metadata": {},
   "outputs": [],
   "source": []
  },
  {
   "cell_type": "markdown",
   "metadata": {},
   "source": [
    "**Make a decision.**"
   ]
  },
  {
   "cell_type": "code",
   "execution_count": null,
   "metadata": {},
   "outputs": [],
   "source": []
  },
  {
   "cell_type": "markdown",
   "metadata": {
    "slideshow": {
     "slide_type": "slide"
    }
   },
   "source": [
    "# Level Up: More practice problems!"
   ]
  },
  {
   "cell_type": "markdown",
   "metadata": {
    "slideshow": {
     "slide_type": "slide"
    }
   },
   "source": [
    "A rental car company claims the mean time to rent a car on their website is 60 seconds with a standard deviation of 30 seconds. A random sample of 36 customers attempted to rent a car on the website. The mean time to rent was 75 seconds. Is this enough evidence to contradict the company's claim at a significance level of $\\alpha = 0.05$? "
   ]
  },
  {
   "cell_type": "markdown",
   "metadata": {
    "slideshow": {
     "slide_type": "notes"
    }
   },
   "source": [
    "Null hypothesis:\n",
    "\n",
    "Alternative hypothesis:\n"
   ]
  },
  {
   "cell_type": "code",
<<<<<<< HEAD
   "execution_count": 48,
=======
   "execution_count": null,
>>>>>>> hyp-testing
   "metadata": {
    "slideshow": {
     "slide_type": "notes"
    }
   },
   "outputs": [],
   "source": [
    "# one-sample z-test \n"
   ]
  },
  {
   "cell_type": "markdown",
   "metadata": {
    "slideshow": {
     "slide_type": "notes"
    }
   },
   "source": [
    "Reject?:"
   ]
  },
  {
   "cell_type": "markdown",
   "metadata": {
    "slideshow": {
     "slide_type": "slide"
    }
   },
   "source": [
    "Consider the gain in weight (in grams) of 19 female rats between 28 and 84 days after birth. \n",
    "\n",
    "Twelve rats were fed on a high protein diet and seven rats were fed on a low protein diet.\n",
    "\n",
    "``` python\n",
    "high_protein = [134, 146, 104, 119, 124, 161, 107, 83, 113, 129, 97, 123]\n",
    "low_protein = [70, 118, 101, 85, 107, 132, 94]\n",
    "```\n",
    "\n",
    "Is there any difference in the weight gain of rats fed on high protein diet vs low protein diet? It's OK to assume equal sample variances. "
   ]
  },
  {
   "cell_type": "markdown",
   "metadata": {
    "slideshow": {
     "slide_type": "notes"
    }
   },
   "source": [
    "Null and alternative hypotheses? "
   ]
  },
  {
   "cell_type": "markdown",
   "metadata": {
    "slideshow": {
     "slide_type": "notes"
    }
   },
   "source": [
    "> null: \n",
    "\n",
    "> alternative: "
   ]
  },
  {
   "cell_type": "markdown",
   "metadata": {
    "slideshow": {
     "slide_type": "notes"
    }
   },
   "source": [
    "What kind of test should we perform and why? "
   ]
  },
  {
   "cell_type": "markdown",
   "metadata": {
    "slideshow": {
     "slide_type": "notes"
    }
   },
   "source": [
    "> Test:"
   ]
  },
  {
   "cell_type": "code",
   "execution_count": null,
   "metadata": {
    "slideshow": {
     "slide_type": "notes"
    }
   },
   "outputs": [],
   "source": []
  },
  {
   "cell_type": "markdown",
   "metadata": {
    "slideshow": {
     "slide_type": "notes"
    }
   },
   "source": [
    "We fail to reject the null hypothesis at a significance level of $\\alpha = 0.05$. "
   ]
  },
  {
   "cell_type": "markdown",
   "metadata": {
    "slideshow": {
     "slide_type": "slide"
    }
   },
   "source": [
    "**What if we wanted to test if the rats who ate a high protein diet gained more weight than those who ate a low-protein diet?**"
   ]
  },
  {
   "cell_type": "markdown",
   "metadata": {
    "slideshow": {
     "slide_type": "notes"
    }
   },
   "source": [
    "Null:\n",
    "\n",
    "alternative:"
   ]
  },
  {
   "cell_type": "markdown",
   "metadata": {
    "slideshow": {
     "slide_type": "notes"
    }
   },
   "source": [
    "Kind of test? "
   ]
  },
  {
   "cell_type": "markdown",
   "metadata": {
    "slideshow": {
     "slide_type": "notes"
    }
   },
   "source": [
    "Critical test statistic value? "
   ]
  },
  {
   "cell_type": "code",
   "execution_count": null,
   "metadata": {
    "slideshow": {
     "slide_type": "notes"
    }
   },
   "outputs": [],
   "source": []
  },
  {
   "cell_type": "markdown",
   "metadata": {
    "slideshow": {
     "slide_type": "notes"
    }
   },
   "source": [
    "Can we reject?"
   ]
  },
  {
   "cell_type": "markdown",
   "metadata": {
    "slideshow": {
     "slide_type": "slide"
    }
   },
   "source": [
    "# Summary \n",
    "\n",
    "Key Takeaways:\n",
    "\n",
    "* A statistical hypothesis test is a method for testing a hypothesis about a parameter in a population using data measured in a sample. \n",
    "* Hypothesis tests consist of a null hypothesis and an alternative hypothesis.\n",
    "* We test a hypothesis by determining the chance of obtaining a sample statistic if the null hypothesis regarding the population parameter is true. \n",
    "* One-sample $z$-tests and one-sample $t$-tests are hypothesis tests for the population mean $\\mu$. \n",
    "* We use a one-sample $z$-test for the population mean when the population standard deviation is known and the sample size is sufficiently large. We use a one-sample $t$-test for the population mean when the population standard deviation is unknown or when the sample size is small. \n",
    "* Two-sample $t$-tests are hypothesis tests for differences in two population means. "
   ]
  },
  {
   "cell_type": "code",
   "execution_count": null,
   "metadata": {},
   "outputs": [],
   "source": []
  }
 ],
 "metadata": {
  "kernelspec": {
   "display_name": "Python 3",
   "language": "python",
   "name": "python3"
  },
  "language_info": {
   "codemirror_mode": {
    "name": "ipython",
    "version": 3
   },
   "file_extension": ".py",
   "mimetype": "text/x-python",
   "name": "python",
   "nbconvert_exporter": "python",
   "pygments_lexer": "ipython3",
<<<<<<< HEAD
   "version": "3.8.3"
=======
   "version": "3.7.2"
>>>>>>> hyp-testing
  }
 },
 "nbformat": 4,
 "nbformat_minor": 4
}
