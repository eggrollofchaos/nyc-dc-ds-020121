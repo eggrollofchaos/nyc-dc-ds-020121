{
 "cells": [
  {
   "cell_type": "markdown",
   "metadata": {},
   "source": [
    " Applying Classification Modeling\n",
    "The goal of this week's assessment is to find the model which best predicts whether or not a person will default on their bank loan. In doing so, we want to utilize all of the different tools we have learned over the course: data cleaning, EDA, feature engineering/transformation, feature selection, hyperparameter tuning, and model evaluation. \n",
    "\n",
    "\n",
    "## Data Set Information:\n",
    "\n",
    "This research aimed at the case of customers default payments in Taiwan and compares the predictive accuracy of probability of default among six data mining methods. From the perspective of risk management, the result of predictive accuracy of the estimated probability of default will be more valuable than the binary result of classification - credible or not credible clients. Because the real probability of default is unknown, this study presented the novel Sorting Smoothing Method to estimate the real probability of default. With the real probability of default as the response variable (Y), and the predictive probability of default as the independent variable (X), the simple linear regression result (Y = A + BX) shows that the forecasting model produced by artificial neural network has the highest coefficient of determination; its regression intercept (A) is close to zero, and regression coefficient (B) to one. Therefore, among the six data mining techniques, artificial neural network is the only one that can accurately estimate the real probability of default. \n",
    "\n",
    "- NT is the abbreviation for New Taiwain. \n",
    "\n",
    "\n",
    "## Attribute Information:\n",
    "\n",
    "This research employed a binary variable, default payment (Yes = 1, No = 0), as the response variable. This study reviewed the literature and used the following 23 variables as explanatory variables: \n",
    "- X1: Amount of the given credit (NT dollar): it includes both the individual consumer credit and his/her family (supplementary) credit. \n",
    "- X2: Gender (1 = male; 2 = female). \n",
    "- X3: Education (1 = graduate school; 2 = university; 3 = high school; 4 = others). \n",
    "- X4: Marital status (1 = married; 2 = single; 3 = others). \n",
    "- X5: Age (year). \n",
    "- X6 - X11: History of past payment. We tracked the past monthly payment records (from April to September, 2005) as follows: \n",
    "    - X6 = the repayment status in September, 2005; \n",
    "    - X7 = the repayment status in August, 2005; . . .;\n",
    "    - etc...\n",
    "    - X11 = the repayment status in April, 2005. \n",
    "    - The measurement scale for the repayment status is: -1 = pay duly; 1 = payment delay for one month; 2 = payment delay for two months; . . .; 8 = payment delay for eight months; 9 = payment delay for nine months and above. \n",
    "- X12-X17: Amount of bill statement (NT dollar). \n",
    "    - X12 = amount of bill statement in September, 2005;\n",
    "    - etc...\n",
    "    - X13 = amount of bill statement in August, 2005; . . .; \n",
    "    - X17 = amount of bill statement in April, 2005. \n",
    "- X18-X23: Amount of previous payment (NT dollar). \n",
    "    - X18 = amount paid in September, 2005; \n",
    "    - X19 = amount paid in August, 2005; . . .;\n",
    "    - etc...\n",
    "    - X23 = amount paid in April, 2005. \n",
    "\n",
    "\n",
    "\n",
    "\n",
    "You will fit three different models (KNN, Logistic Regression, and Decision Tree Classifier) to predict credit card defaults and use gridsearch to find the best hyperparameters for those models. Then you will compare the performance of those three models on a test set to find the best one.  \n"
   ]
  },
  {
   "cell_type": "markdown",
   "metadata": {},
   "source": [
    "## Process/Expectations\n",
    "\n",
    "- You will be working in pairs for this assessment\n",
    "\n",
    "Please have ONE notebook and be prepared to explain how you worked in your pair.\n",
    "\n",
    "1. Clean up your data set so that you can perform an EDA. \n",
    "    - This includes handling null values, categorical variables, removing unimportant columns, and removing outliers.\n",
    "2. Perform EDA to identify opportunities to create new features.\n",
    "    - [Great Example of EDA for classification](https://www.kaggle.com/stephaniestallworth/titanic-eda-classification-end-to-end) \n",
    "    - [Using Pairplots with Classification](https://towardsdatascience.com/visualizing-data-with-pair-plots-in-python-f228cf529166)\n",
    "3. Engineer new features. \n",
    "    - Create polynomial and/or interaction features. \n",
    "    - Additionaly, you must also create **at least 2 new features** that are not interactions or polynomial transformations. \n",
    "        - *For example, you can create a new dummy variable that based on the value of a continuous variable (billamount6 >2000) or take the average of some past amounts.*\n",
    "4. Perform some feature selection. \n",
    "    \n",
    "5. You must fit **three** models to your data and tune **at least 1 hyperparameter** per model. \n",
    "6. Using the F-1 Score, evaluate how well your models perform and identify your best model.\n",
    "7. Using information from your EDA process and your model(s) output provide insight as to which borrowers are more likely to deafult\n"
   ]
  },
  {
   "cell_type": "markdown",
   "metadata": {},
   "source": [
    "## Setup"
   ]
  },
  {
   "cell_type": "code",
   "execution_count": 1,
   "metadata": {
    "ExecuteTime": {
     "end_time": "2021-04-01T08:40:07.463198Z",
     "start_time": "2021-04-01T08:40:06.636783Z"
    }
   },
   "outputs": [],
   "source": [
    "# import libraries\n",
    "\n",
    "import pandas as pd\n",
    "import numpy as np\n",
    "import csv\n",
    "from scipy import stats\n",
    "from sklearn.linear_model import LogisticRegression\n",
    "from sklearn.neighbors import KNeighborsClassifier\n",
    "from sklearn.tree import DecisionTreeClassifier\n",
    "# from scipy.special import logit, expit\n",
    "# from sklearn.metrics import log_loss\n",
    "from sklearn.model_selection import train_test_split, GridSearchCV,\\\n",
    "cross_val_score, RandomizedSearchCV, StratifiedKFold\n",
    "from sklearn.preprocessing import OneHotEncoder, StandardScaler, RobustScaler\n",
    "from sklearn.metrics import confusion_matrix, plot_confusion_matrix,\\\n",
    "    precision_score, recall_score, accuracy_score, f1_score, log_loss,\\\n",
    "    roc_curve, roc_auc_score, classification_report, plot_roc_curve\n",
    "# from sklearn.preprocessing import normalize\n",
    "from collections import Counter\n",
    "from imblearn.under_sampling import TomekLinks\n",
    "import xgboost\n",
    "from sklearn.ensemble import RandomForestClassifier, ExtraTreesClassifier\n",
    "from sklearn.pipeline import Pipeline\n",
    "from sklearn.compose import ColumnTransformer\n",
    "from matplotlib import pyplot as plt\n",
    "import seaborn as sns"
   ]
  },
  {
   "cell_type": "markdown",
   "metadata": {},
   "source": [
    "# Data Cleaning"
   ]
  },
  {
   "cell_type": "code",
   "execution_count": 2,
   "metadata": {
    "ExecuteTime": {
     "end_time": "2021-04-01T08:40:07.638320Z",
     "start_time": "2021-04-01T08:40:07.466717Z"
    }
   },
   "outputs": [],
   "source": [
    "df = pd.read_csv('training_data.csv' , index_col=0)\n",
    "df.drop('ID', inplace = True)\n",
    "pd.set_option('display.max_columns', None) # display all columns"
   ]
  },
  {
   "cell_type": "code",
   "execution_count": 3,
   "metadata": {
    "ExecuteTime": {
     "end_time": "2021-04-01T08:40:07.644652Z",
     "start_time": "2021-04-01T08:40:07.641280Z"
    }
   },
   "outputs": [
    {
     "name": "stdout",
     "output_type": "stream",
     "text": [
      "train data: (22499, 24)\n"
     ]
    }
   ],
   "source": [
    "print('train data:',df.shape)"
   ]
  },
  {
   "cell_type": "code",
   "execution_count": 4,
   "metadata": {
    "ExecuteTime": {
     "end_time": "2021-04-01T08:40:07.677553Z",
     "start_time": "2021-04-01T08:40:07.647582Z"
    }
   },
   "outputs": [
    {
     "name": "stdout",
     "output_type": "stream",
     "text": [
      "<class 'pandas.core.frame.DataFrame'>\n",
      "Index: 22499 entries, 28835 to 7624\n",
      "Data columns (total 24 columns):\n",
      " #   Column  Non-Null Count  Dtype \n",
      "---  ------  --------------  ----- \n",
      " 0   X1      22499 non-null  object\n",
      " 1   X2      22499 non-null  object\n",
      " 2   X3      22499 non-null  object\n",
      " 3   X4      22499 non-null  object\n",
      " 4   X5      22499 non-null  object\n",
      " 5   X6      22499 non-null  object\n",
      " 6   X7      22499 non-null  object\n",
      " 7   X8      22499 non-null  object\n",
      " 8   X9      22499 non-null  object\n",
      " 9   X10     22499 non-null  object\n",
      " 10  X11     22499 non-null  object\n",
      " 11  X12     22499 non-null  object\n",
      " 12  X13     22499 non-null  object\n",
      " 13  X14     22499 non-null  object\n",
      " 14  X15     22499 non-null  object\n",
      " 15  X16     22499 non-null  object\n",
      " 16  X17     22499 non-null  object\n",
      " 17  X18     22499 non-null  object\n",
      " 18  X19     22499 non-null  object\n",
      " 19  X20     22499 non-null  object\n",
      " 20  X21     22499 non-null  object\n",
      " 21  X22     22499 non-null  object\n",
      " 22  X23     22499 non-null  object\n",
      " 23  Y       22499 non-null  object\n",
      "dtypes: object(24)\n",
      "memory usage: 4.3+ MB\n"
     ]
    }
   ],
   "source": [
    "df.info()"
   ]
  },
  {
   "cell_type": "code",
   "execution_count": 5,
   "metadata": {
    "ExecuteTime": {
     "end_time": "2021-04-01T08:40:07.707534Z",
     "start_time": "2021-04-01T08:40:07.679711Z"
    }
   },
   "outputs": [
    {
     "data": {
      "text/html": [
       "<div>\n",
       "<style scoped>\n",
       "    .dataframe tbody tr th:only-of-type {\n",
       "        vertical-align: middle;\n",
       "    }\n",
       "\n",
       "    .dataframe tbody tr th {\n",
       "        vertical-align: top;\n",
       "    }\n",
       "\n",
       "    .dataframe thead th {\n",
       "        text-align: right;\n",
       "    }\n",
       "</style>\n",
       "<table border=\"1\" class=\"dataframe\">\n",
       "  <thead>\n",
       "    <tr style=\"text-align: right;\">\n",
       "      <th></th>\n",
       "      <th>X1</th>\n",
       "      <th>X2</th>\n",
       "      <th>X3</th>\n",
       "      <th>X4</th>\n",
       "      <th>X5</th>\n",
       "      <th>X6</th>\n",
       "      <th>X7</th>\n",
       "      <th>X8</th>\n",
       "      <th>X9</th>\n",
       "      <th>X10</th>\n",
       "      <th>X11</th>\n",
       "      <th>X12</th>\n",
       "      <th>X13</th>\n",
       "      <th>X14</th>\n",
       "      <th>X15</th>\n",
       "      <th>X16</th>\n",
       "      <th>X17</th>\n",
       "      <th>X18</th>\n",
       "      <th>X19</th>\n",
       "      <th>X20</th>\n",
       "      <th>X21</th>\n",
       "      <th>X22</th>\n",
       "      <th>X23</th>\n",
       "      <th>Y</th>\n",
       "    </tr>\n",
       "  </thead>\n",
       "  <tbody>\n",
       "    <tr>\n",
       "      <th>2758</th>\n",
       "      <td>70000</td>\n",
       "      <td>1</td>\n",
       "      <td>2</td>\n",
       "      <td>2</td>\n",
       "      <td>38</td>\n",
       "      <td>0</td>\n",
       "      <td>0</td>\n",
       "      <td>2</td>\n",
       "      <td>0</td>\n",
       "      <td>0</td>\n",
       "      <td>0</td>\n",
       "      <td>27000</td>\n",
       "      <td>31809</td>\n",
       "      <td>29776</td>\n",
       "      <td>30148</td>\n",
       "      <td>29918</td>\n",
       "      <td>29399</td>\n",
       "      <td>5600</td>\n",
       "      <td>0</td>\n",
       "      <td>1500</td>\n",
       "      <td>1057</td>\n",
       "      <td>2000</td>\n",
       "      <td>1035</td>\n",
       "      <td>0</td>\n",
       "    </tr>\n",
       "    <tr>\n",
       "      <th>24730</th>\n",
       "      <td>80000</td>\n",
       "      <td>1</td>\n",
       "      <td>3</td>\n",
       "      <td>1</td>\n",
       "      <td>49</td>\n",
       "      <td>0</td>\n",
       "      <td>0</td>\n",
       "      <td>0</td>\n",
       "      <td>0</td>\n",
       "      <td>-2</td>\n",
       "      <td>-2</td>\n",
       "      <td>77985</td>\n",
       "      <td>80886</td>\n",
       "      <td>82150</td>\n",
       "      <td>0</td>\n",
       "      <td>0</td>\n",
       "      <td>0</td>\n",
       "      <td>4200</td>\n",
       "      <td>3800</td>\n",
       "      <td>0</td>\n",
       "      <td>0</td>\n",
       "      <td>0</td>\n",
       "      <td>0</td>\n",
       "      <td>0</td>\n",
       "    </tr>\n",
       "    <tr>\n",
       "      <th>12000</th>\n",
       "      <td>20000</td>\n",
       "      <td>1</td>\n",
       "      <td>2</td>\n",
       "      <td>2</td>\n",
       "      <td>30</td>\n",
       "      <td>1</td>\n",
       "      <td>2</td>\n",
       "      <td>0</td>\n",
       "      <td>0</td>\n",
       "      <td>0</td>\n",
       "      <td>-2</td>\n",
       "      <td>18231</td>\n",
       "      <td>34558</td>\n",
       "      <td>17363</td>\n",
       "      <td>17569</td>\n",
       "      <td>0</td>\n",
       "      <td>0</td>\n",
       "      <td>0</td>\n",
       "      <td>1200</td>\n",
       "      <td>406</td>\n",
       "      <td>0</td>\n",
       "      <td>0</td>\n",
       "      <td>0</td>\n",
       "      <td>1</td>\n",
       "    </tr>\n",
       "    <tr>\n",
       "      <th>2970</th>\n",
       "      <td>380000</td>\n",
       "      <td>1</td>\n",
       "      <td>2</td>\n",
       "      <td>1</td>\n",
       "      <td>43</td>\n",
       "      <td>-1</td>\n",
       "      <td>0</td>\n",
       "      <td>0</td>\n",
       "      <td>0</td>\n",
       "      <td>0</td>\n",
       "      <td>-2</td>\n",
       "      <td>195221</td>\n",
       "      <td>188328</td>\n",
       "      <td>192624</td>\n",
       "      <td>149860</td>\n",
       "      <td>59256</td>\n",
       "      <td>61039</td>\n",
       "      <td>8000</td>\n",
       "      <td>8263</td>\n",
       "      <td>7127</td>\n",
       "      <td>4000</td>\n",
       "      <td>3000</td>\n",
       "      <td>2500</td>\n",
       "      <td>0</td>\n",
       "    </tr>\n",
       "    <tr>\n",
       "      <th>6196</th>\n",
       "      <td>50000</td>\n",
       "      <td>1</td>\n",
       "      <td>2</td>\n",
       "      <td>2</td>\n",
       "      <td>41</td>\n",
       "      <td>0</td>\n",
       "      <td>0</td>\n",
       "      <td>0</td>\n",
       "      <td>0</td>\n",
       "      <td>0</td>\n",
       "      <td>0</td>\n",
       "      <td>41993</td>\n",
       "      <td>43163</td>\n",
       "      <td>36546</td>\n",
       "      <td>6421</td>\n",
       "      <td>5263</td>\n",
       "      <td>-12</td>\n",
       "      <td>1942</td>\n",
       "      <td>1725</td>\n",
       "      <td>1000</td>\n",
       "      <td>400</td>\n",
       "      <td>0</td>\n",
       "      <td>0</td>\n",
       "      <td>0</td>\n",
       "    </tr>\n",
       "    <tr>\n",
       "      <th>23907</th>\n",
       "      <td>20000</td>\n",
       "      <td>1</td>\n",
       "      <td>2</td>\n",
       "      <td>2</td>\n",
       "      <td>21</td>\n",
       "      <td>0</td>\n",
       "      <td>0</td>\n",
       "      <td>0</td>\n",
       "      <td>0</td>\n",
       "      <td>0</td>\n",
       "      <td>0</td>\n",
       "      <td>18671</td>\n",
       "      <td>18497</td>\n",
       "      <td>19633</td>\n",
       "      <td>18347</td>\n",
       "      <td>9347</td>\n",
       "      <td>0</td>\n",
       "      <td>1614</td>\n",
       "      <td>1750</td>\n",
       "      <td>1000</td>\n",
       "      <td>1000</td>\n",
       "      <td>0</td>\n",
       "      <td>0</td>\n",
       "      <td>0</td>\n",
       "    </tr>\n",
       "    <tr>\n",
       "      <th>29984</th>\n",
       "      <td>20000</td>\n",
       "      <td>1</td>\n",
       "      <td>2</td>\n",
       "      <td>1</td>\n",
       "      <td>44</td>\n",
       "      <td>-2</td>\n",
       "      <td>-2</td>\n",
       "      <td>-2</td>\n",
       "      <td>-2</td>\n",
       "      <td>-2</td>\n",
       "      <td>-2</td>\n",
       "      <td>1822</td>\n",
       "      <td>2872</td>\n",
       "      <td>2712</td>\n",
       "      <td>2882</td>\n",
       "      <td>9235</td>\n",
       "      <td>1719</td>\n",
       "      <td>2890</td>\n",
       "      <td>2720</td>\n",
       "      <td>2890</td>\n",
       "      <td>9263</td>\n",
       "      <td>1824</td>\n",
       "      <td>1701</td>\n",
       "      <td>0</td>\n",
       "    </tr>\n",
       "    <tr>\n",
       "      <th>16635</th>\n",
       "      <td>30000</td>\n",
       "      <td>1</td>\n",
       "      <td>2</td>\n",
       "      <td>2</td>\n",
       "      <td>34</td>\n",
       "      <td>2</td>\n",
       "      <td>2</td>\n",
       "      <td>2</td>\n",
       "      <td>0</td>\n",
       "      <td>0</td>\n",
       "      <td>2</td>\n",
       "      <td>10522</td>\n",
       "      <td>10148</td>\n",
       "      <td>8587</td>\n",
       "      <td>8366</td>\n",
       "      <td>8528</td>\n",
       "      <td>7030</td>\n",
       "      <td>1200</td>\n",
       "      <td>0</td>\n",
       "      <td>1200</td>\n",
       "      <td>1500</td>\n",
       "      <td>0</td>\n",
       "      <td>460</td>\n",
       "      <td>1</td>\n",
       "    </tr>\n",
       "    <tr>\n",
       "      <th>17123</th>\n",
       "      <td>50000</td>\n",
       "      <td>2</td>\n",
       "      <td>2</td>\n",
       "      <td>2</td>\n",
       "      <td>27</td>\n",
       "      <td>0</td>\n",
       "      <td>0</td>\n",
       "      <td>0</td>\n",
       "      <td>0</td>\n",
       "      <td>0</td>\n",
       "      <td>0</td>\n",
       "      <td>48492</td>\n",
       "      <td>48356</td>\n",
       "      <td>32904</td>\n",
       "      <td>28864</td>\n",
       "      <td>29708</td>\n",
       "      <td>29921</td>\n",
       "      <td>1600</td>\n",
       "      <td>1715</td>\n",
       "      <td>2000</td>\n",
       "      <td>3010</td>\n",
       "      <td>2000</td>\n",
       "      <td>1100</td>\n",
       "      <td>0</td>\n",
       "    </tr>\n",
       "    <tr>\n",
       "      <th>7826</th>\n",
       "      <td>100000</td>\n",
       "      <td>2</td>\n",
       "      <td>1</td>\n",
       "      <td>2</td>\n",
       "      <td>32</td>\n",
       "      <td>1</td>\n",
       "      <td>2</td>\n",
       "      <td>0</td>\n",
       "      <td>0</td>\n",
       "      <td>-1</td>\n",
       "      <td>0</td>\n",
       "      <td>7130</td>\n",
       "      <td>6873</td>\n",
       "      <td>8101</td>\n",
       "      <td>8235</td>\n",
       "      <td>34087</td>\n",
       "      <td>34749</td>\n",
       "      <td>0</td>\n",
       "      <td>1500</td>\n",
       "      <td>565</td>\n",
       "      <td>36252</td>\n",
       "      <td>1500</td>\n",
       "      <td>2500</td>\n",
       "      <td>0</td>\n",
       "    </tr>\n",
       "  </tbody>\n",
       "</table>\n",
       "</div>"
      ],
      "text/plain": [
       "           X1 X2 X3 X4  X5  X6  X7  X8  X9 X10 X11     X12     X13     X14  \\\n",
       "2758    70000  1  2  2  38   0   0   2   0   0   0   27000   31809   29776   \n",
       "24730   80000  1  3  1  49   0   0   0   0  -2  -2   77985   80886   82150   \n",
       "12000   20000  1  2  2  30   1   2   0   0   0  -2   18231   34558   17363   \n",
       "2970   380000  1  2  1  43  -1   0   0   0   0  -2  195221  188328  192624   \n",
       "6196    50000  1  2  2  41   0   0   0   0   0   0   41993   43163   36546   \n",
       "23907   20000  1  2  2  21   0   0   0   0   0   0   18671   18497   19633   \n",
       "29984   20000  1  2  1  44  -2  -2  -2  -2  -2  -2    1822    2872    2712   \n",
       "16635   30000  1  2  2  34   2   2   2   0   0   2   10522   10148    8587   \n",
       "17123   50000  2  2  2  27   0   0   0   0   0   0   48492   48356   32904   \n",
       "7826   100000  2  1  2  32   1   2   0   0  -1   0    7130    6873    8101   \n",
       "\n",
       "          X15    X16    X17   X18   X19   X20    X21   X22   X23  Y  \n",
       "2758    30148  29918  29399  5600     0  1500   1057  2000  1035  0  \n",
       "24730       0      0      0  4200  3800     0      0     0     0  0  \n",
       "12000   17569      0      0     0  1200   406      0     0     0  1  \n",
       "2970   149860  59256  61039  8000  8263  7127   4000  3000  2500  0  \n",
       "6196     6421   5263    -12  1942  1725  1000    400     0     0  0  \n",
       "23907   18347   9347      0  1614  1750  1000   1000     0     0  0  \n",
       "29984    2882   9235   1719  2890  2720  2890   9263  1824  1701  0  \n",
       "16635    8366   8528   7030  1200     0  1200   1500     0   460  1  \n",
       "17123   28864  29708  29921  1600  1715  2000   3010  2000  1100  0  \n",
       "7826     8235  34087  34749     0  1500   565  36252  1500  2500  0  "
      ]
     },
     "execution_count": 5,
     "metadata": {},
     "output_type": "execute_result"
    }
   ],
   "source": [
    "df.sample(10)"
   ]
  },
  {
   "cell_type": "code",
   "execution_count": 6,
   "metadata": {
    "ExecuteTime": {
     "end_time": "2021-04-01T08:40:07.716028Z",
     "start_time": "2021-04-01T08:40:07.709685Z"
    },
    "scrolled": true
   },
   "outputs": [
    {
     "data": {
      "text/plain": [
       "0    17471\n",
       "1     5028\n",
       "Name: Y, dtype: int64"
      ]
     },
     "execution_count": 6,
     "metadata": {},
     "output_type": "execute_result"
    }
   ],
   "source": [
    "df.Y.value_counts()"
   ]
  },
  {
   "cell_type": "markdown",
   "metadata": {},
   "source": [
    "## Rename columns and make numeric"
   ]
  },
  {
   "cell_type": "code",
   "execution_count": 7,
   "metadata": {
    "ExecuteTime": {
     "end_time": "2021-04-01T08:40:07.816598Z",
     "start_time": "2021-04-01T08:40:07.717788Z"
    }
   },
   "outputs": [],
   "source": [
    "df.rename(columns={'X1': 'credit', 'X2': 'gender', 'X3': 'edu', 'X4': 'marital', 'X5': 'age',\n",
    "                   'X6': 'sep', 'X7': 'aug', 'X8': 'jul', 'X9': 'jun', 'X10': 'may', 'X11': 'apr',\n",
    "                   'X12': 'sep_s', 'X13': 'aug_s', 'X14': 'jul_s', 'X15': 'jun_s', 'X16': 'may_s',\n",
    "                   'X17': 'apr_s', 'X18': 'sep_p', 'X19': 'aug_p', 'X20': 'jul_p', 'X21': 'jun_p',\n",
    "                   'X22': 'may_p', 'X23': 'apr_p'}, inplace=True)\n",
    "num_columns = ['credit', 'age', 'sep', 'aug', 'jul', 'jun', 'may', 'apr', 'sep_s', 'aug_s',\n",
    "               'jul_s', 'jun_s', 'may_s', 'apr_s', 'sep_p', 'aug_p', 'jul_p', 'jun_p',\n",
    "               'may_p', 'apr_p', 'Y']\n",
    "for col in num_columns:\n",
    "    df[col] = df[col].astype(int)\n",
    "df.index = df.index.astype(int)"
   ]
  },
  {
   "cell_type": "code",
   "execution_count": 8,
   "metadata": {
    "ExecuteTime": {
     "end_time": "2021-04-01T08:40:07.822077Z",
     "start_time": "2021-04-01T08:40:07.820318Z"
    }
   },
   "outputs": [],
   "source": [
    "# df.drop(df[(df.marital == 0) | (df.marital == 3)].index, inplace = True)\n",
    "# df.drop(df[(df.edu >= 4) & (df.edu <= 6)].index, inplace = True)"
   ]
  },
  {
   "cell_type": "markdown",
   "metadata": {},
   "source": [
    "## Create new features"
   ]
  },
  {
   "cell_type": "code",
   "execution_count": 9,
   "metadata": {
    "ExecuteTime": {
     "end_time": "2021-04-01T08:40:07.865210Z",
     "start_time": "2021-04-01T08:40:07.825488Z"
    }
   },
   "outputs": [],
   "source": [
    "months_list = ['sep','aug','jul','jun','may','apr']\n",
    "df['all_months'] = df[months_list].sum(axis=1)\n",
    "\n",
    "# months_statement_list = ['sep_s','aug_s','jul_s','jun_s','may_s','apr_s']\n",
    "months_statement_list = ['aug_s','jul_s','jun_s','may_s','apr_s']\n",
    "df['statement_mean_per_credit'] = df[months_statement_list].mean(axis=1)/df.credit\n",
    "\n",
    "# months_payment_list = ['sep_p','aug_p','jul_p','jun_p','may_p','apr_p']\n",
    "months_payment_list = ['sep_p','aug_p','jul_p','jun_p','may_p']\n",
    "df['statement_payment'] = ( df[months_statement_list].sum(axis=1) - \\\n",
    "                            df[months_payment_list].sum(axis=1) ) / df.credit"
   ]
  },
  {
   "cell_type": "code",
   "execution_count": 10,
   "metadata": {
    "ExecuteTime": {
     "end_time": "2021-04-01T08:40:07.874499Z",
     "start_time": "2021-04-01T08:40:07.867660Z"
    }
   },
   "outputs": [],
   "source": [
    "# Split data to be used in the models\n",
    "# Create matrix of features\n",
    "X = df.drop('Y', axis = 1) # grabs everything else but 'Survived'\n",
    "# Create target variable\n",
    "y = df['Y'] # y is the column we're trying to predict"
   ]
  },
  {
   "cell_type": "markdown",
   "metadata": {},
   "source": [
    "# EDA"
   ]
  },
  {
   "cell_type": "code",
   "execution_count": 11,
   "metadata": {
    "ExecuteTime": {
     "end_time": "2021-04-01T08:40:07.892308Z",
     "start_time": "2021-04-01T08:40:07.876497Z"
    }
   },
   "outputs": [
    {
     "name": "stdout",
     "output_type": "stream",
     "text": [
      "<class 'pandas.core.frame.DataFrame'>\n",
      "Int64Index: 22499 entries, 28835 to 7624\n",
      "Data columns (total 26 columns):\n",
      " #   Column                     Non-Null Count  Dtype  \n",
      "---  ------                     --------------  -----  \n",
      " 0   credit                     22499 non-null  int64  \n",
      " 1   gender                     22499 non-null  object \n",
      " 2   edu                        22499 non-null  object \n",
      " 3   marital                    22499 non-null  object \n",
      " 4   age                        22499 non-null  int64  \n",
      " 5   sep                        22499 non-null  int64  \n",
      " 6   aug                        22499 non-null  int64  \n",
      " 7   jul                        22499 non-null  int64  \n",
      " 8   jun                        22499 non-null  int64  \n",
      " 9   may                        22499 non-null  int64  \n",
      " 10  apr                        22499 non-null  int64  \n",
      " 11  sep_s                      22499 non-null  int64  \n",
      " 12  aug_s                      22499 non-null  int64  \n",
      " 13  jul_s                      22499 non-null  int64  \n",
      " 14  jun_s                      22499 non-null  int64  \n",
      " 15  may_s                      22499 non-null  int64  \n",
      " 16  apr_s                      22499 non-null  int64  \n",
      " 17  sep_p                      22499 non-null  int64  \n",
      " 18  aug_p                      22499 non-null  int64  \n",
      " 19  jul_p                      22499 non-null  int64  \n",
      " 20  jun_p                      22499 non-null  int64  \n",
      " 21  may_p                      22499 non-null  int64  \n",
      " 22  apr_p                      22499 non-null  int64  \n",
      " 23  all_months                 22499 non-null  int64  \n",
      " 24  statement_mean_per_credit  22499 non-null  float64\n",
      " 25  statement_payment          22499 non-null  float64\n",
      "dtypes: float64(2), int64(21), object(3)\n",
      "memory usage: 4.6+ MB\n"
     ]
    }
   ],
   "source": [
    "X.info()"
   ]
  },
  {
   "cell_type": "code",
   "execution_count": 12,
   "metadata": {
    "ExecuteTime": {
     "end_time": "2021-04-01T08:40:07.901395Z",
     "start_time": "2021-04-01T08:40:07.894506Z"
    }
   },
   "outputs": [
    {
     "data": {
      "text/plain": [
       "50000      2534\n",
       "20000      1488\n",
       "30000      1223\n",
       "80000      1210\n",
       "200000     1134\n",
       "           ... \n",
       "800000        1\n",
       "1000000       1\n",
       "740000        1\n",
       "690000        1\n",
       "327680        1\n",
       "Name: credit, Length: 80, dtype: int64"
      ]
     },
     "execution_count": 12,
     "metadata": {},
     "output_type": "execute_result"
    }
   ],
   "source": [
    "X.credit.value_counts()"
   ]
  },
  {
   "cell_type": "code",
   "execution_count": 13,
   "metadata": {
    "ExecuteTime": {
     "end_time": "2021-04-01T08:40:07.930241Z",
     "start_time": "2021-04-01T08:40:07.903249Z"
    }
   },
   "outputs": [
    {
     "data": {
      "text/plain": [
       "2    13572\n",
       "1     8927\n",
       "Name: gender, dtype: int64"
      ]
     },
     "execution_count": 13,
     "metadata": {},
     "output_type": "execute_result"
    }
   ],
   "source": [
    "X.gender.value_counts()"
   ]
  },
  {
   "cell_type": "code",
   "execution_count": 14,
   "metadata": {
    "ExecuteTime": {
     "end_time": "2021-04-01T08:40:07.964889Z",
     "start_time": "2021-04-01T08:40:07.931808Z"
    }
   },
   "outputs": [
    {
     "data": {
      "text/plain": [
       "2    10516\n",
       "1     7919\n",
       "3     3713\n",
       "5      208\n",
       "4       90\n",
       "6       42\n",
       "0       11\n",
       "Name: edu, dtype: int64"
      ]
     },
     "execution_count": 14,
     "metadata": {},
     "output_type": "execute_result"
    }
   ],
   "source": [
    "X.edu.value_counts()"
   ]
  },
  {
   "cell_type": "code",
   "execution_count": 15,
   "metadata": {
    "ExecuteTime": {
     "end_time": "2021-04-01T08:40:07.987864Z",
     "start_time": "2021-04-01T08:40:07.967025Z"
    }
   },
   "outputs": [
    {
     "data": {
      "text/plain": [
       "2    12026\n",
       "1    10195\n",
       "3      234\n",
       "0       44\n",
       "Name: marital, dtype: int64"
      ]
     },
     "execution_count": 15,
     "metadata": {},
     "output_type": "execute_result"
    }
   ],
   "source": [
    "X.marital.value_counts()"
   ]
  },
  {
   "cell_type": "code",
   "execution_count": 16,
   "metadata": {
    "ExecuteTime": {
     "end_time": "2021-04-01T08:40:07.999476Z",
     "start_time": "2021-04-01T08:40:07.994032Z"
    }
   },
   "outputs": [
    {
     "data": {
      "text/plain": [
       "55"
      ]
     },
     "execution_count": 16,
     "metadata": {},
     "output_type": "execute_result"
    }
   ],
   "source": [
    "X.age.value_counts().size"
   ]
  },
  {
   "cell_type": "code",
   "execution_count": 17,
   "metadata": {
    "ExecuteTime": {
     "end_time": "2021-04-01T08:40:08.008950Z",
     "start_time": "2021-04-01T08:40:08.002043Z"
    }
   },
   "outputs": [],
   "source": [
    "def feature_plot(df, ind, dep, plot_type, xlabel, xlog = 'n', ylog = 'n', color = u'#1f77b4'):\n",
    "    ylabel = f'Default Payment'\n",
    "    title = f'{ylabel} vs {xlabel}'\n",
    "    file_name = f'{xlabel}.png'\n",
    "    fig, ax = plt.subplots(figsize = [12,8])\n",
    "    if plot_type == 'scatter':\n",
    "        sns_obj = sns.scatterplot(data = df, x=ind, y=dep, ax=ax, color = color)\n",
    "    elif plot_type == 'line':\n",
    "        sns_obj = sns.lineplot(data = df, x=ind, y=dep, color = color)\n",
    "    if xlog == 'y':\n",
    "        set_x_log(sns_obj, ax)\n",
    "    if ylog == 'y':\n",
    "        set_y_log(sns_obj, ax)\n",
    "    # what color is u'#1f77b4'? what color is None?\n",
    "    ax.set_title(title, fontdict = {'fontsize': 14})\n",
    "    ax.set_xlabel(xlabel, fontdict = {'fontsize': 12})\n",
    "    ax.set_ylabel(ylabel, fontdict = {'fontsize': 12})\n",
    "    plt.savefig(f'visualizations/{file_name}')"
   ]
  },
  {
   "cell_type": "markdown",
   "metadata": {},
   "source": [
    "# Feature Engineering"
   ]
  },
  {
   "cell_type": "code",
   "execution_count": 18,
   "metadata": {
    "ExecuteTime": {
     "end_time": "2021-04-01T08:40:10.020178Z",
     "start_time": "2021-04-01T08:40:08.011002Z"
    }
   },
   "outputs": [
    {
     "data": {
      "image/png": "[encoded data removed]",
      "text/plain": [
       "<Figure size 864x576 with 1 Axes>"
      ]
     },
     "metadata": {
      "needs_background": "light"
     },
     "output_type": "display_data"
    }
   ],
   "source": [
    "feature_plot(df, df.credit, df.Y, 'line', 'Credit Granted', xlog = 'n', ylog = 'n')"
   ]
  },
  {
   "cell_type": "code",
   "execution_count": 19,
   "metadata": {
    "ExecuteTime": {
     "end_time": "2021-04-01T08:40:10.483782Z",
     "start_time": "2021-04-01T08:40:10.022289Z"
    }
   },
   "outputs": [
    {
     "data": {
      "image/png": "[encoded data removed]",
      "text/plain": [
       "<Figure size 864x576 with 1 Axes>"
      ]
     },
     "metadata": {
      "needs_background": "light"
     },
     "output_type": "display_data"
    }
   ],
   "source": [
    "feature_plot(df, df.gender, df.Y, 'line', 'Gender', xlog = 'n', ylog = 'n',\n",
    "             color = 'pink')"
   ]
  },
  {
   "cell_type": "code",
   "execution_count": 20,
   "metadata": {
    "ExecuteTime": {
     "end_time": "2021-04-01T08:40:11.067950Z",
     "start_time": "2021-04-01T08:40:10.486086Z"
    }
   },
   "outputs": [
    {
     "data": {
      "image/png": "[encoded data removed]",
      "text/plain": [
       "<Figure size 864x576 with 1 Axes>"
      ]
     },
     "metadata": {
      "needs_background": "light"
     },
     "output_type": "display_data"
    }
   ],
   "source": [
    "feature_plot(df, df.edu, df.Y, 'line', 'Education Level', xlog = 'n', ylog = 'n',\n",
    "             color = 'darkcyan')"
   ]
  },
  {
   "cell_type": "code",
   "execution_count": 21,
   "metadata": {
    "ExecuteTime": {
     "end_time": "2021-04-01T08:40:11.616628Z",
     "start_time": "2021-04-01T08:40:11.069882Z"
    }
   },
   "outputs": [
    {
     "data": {
      "image/png": "[encoded data removed]",
      "text/plain": [
       "<Figure size 864x576 with 1 Axes>"
      ]
     },
     "metadata": {
      "needs_background": "light"
     },
     "output_type": "display_data"
    }
   ],
   "source": [
    "feature_plot(df, df.marital, df.Y, 'line', 'Marital Status', xlog = 'n', ylog = 'n',\n",
    "             color = 'darkorchid')"
   ]
  },
  {
   "cell_type": "code",
   "execution_count": 22,
   "metadata": {
    "ExecuteTime": {
     "end_time": "2021-04-01T08:40:13.211499Z",
     "start_time": "2021-04-01T08:40:11.618907Z"
    }
   },
   "outputs": [
    {
     "data": {
      "image/png": "[encoded data removed]",
      "text/plain": [
       "<Figure size 864x576 with 1 Axes>"
      ]
     },
     "metadata": {
      "needs_background": "light"
     },
     "output_type": "display_data"
    }
   ],
   "source": [
    "feature_plot(df, df.age, df.Y, 'line', 'Age', xlog = 'n', ylog = 'n',\n",
    "             color = 'deepskyblue')"
   ]
  },
  {
   "cell_type": "code",
   "execution_count": 23,
   "metadata": {
    "ExecuteTime": {
     "end_time": "2021-04-01T08:40:14.635962Z",
     "start_time": "2021-04-01T08:40:13.215482Z"
    }
   },
   "outputs": [
    {
     "data": {
      "image/png": "[encoded data removed]",
      "text/plain": [
       "<Figure size 864x576 with 1 Axes>"
      ]
     },
     "metadata": {
      "needs_background": "light"
     },
     "output_type": "display_data"
    }
   ],
   "source": [
    "feature_plot(df, df.all_months, df.Y, 'line', '6-Month Repayment Status', xlog = 'n', ylog = 'n',\n",
    "             color = 'orange')"
   ]
  },
  {
   "cell_type": "code",
   "execution_count": 24,
   "metadata": {
    "ExecuteTime": {
     "end_time": "2021-04-01T08:40:15.005592Z",
     "start_time": "2021-04-01T08:40:14.637565Z"
    }
   },
   "outputs": [
    {
     "data": {
      "image/png": "[encoded data removed]",
      "text/plain": [
       "<Figure size 864x576 with 1 Axes>"
      ]
     },
     "metadata": {
      "needs_background": "light"
     },
     "output_type": "display_data"
    }
   ],
   "source": [
    "feature_plot(df, df.statement_mean_per_credit, df.Y, 'scatter',\n",
    "             '6-Month Statement Mean divide by Credit', xlog = 'n', ylog = 'n',\n",
    "             color = 'brown')"
   ]
  },
  {
   "cell_type": "code",
   "execution_count": 25,
   "metadata": {
    "ExecuteTime": {
     "end_time": "2021-04-01T08:40:28.211241Z",
     "start_time": "2021-04-01T08:40:15.008998Z"
    }
   },
   "outputs": [
    {
     "data": {
      "image/png": "[encoded data removed]",
      "text/plain": [
       "<Figure size 864x576 with 1 Axes>"
      ]
     },
     "metadata": {
      "needs_background": "light"
     },
     "output_type": "display_data"
    }
   ],
   "source": [
    "feature_plot(df, df.statement_payment, df.Y, 'line',\n",
    "             'Statements minus Payments divided by Credit', xlog = 'n', ylog = 'n',\n",
    "             color = 'indigo')"
   ]
  },
  {
   "cell_type": "code",
   "execution_count": 26,
   "metadata": {
    "ExecuteTime": {
     "end_time": "2021-04-01T08:40:28.252072Z",
     "start_time": "2021-04-01T08:40:28.220513Z"
    }
   },
   "outputs": [
    {
     "data": {
      "text/html": [
       "<div>\n",
       "<style scoped>\n",
       "    .dataframe tbody tr th:only-of-type {\n",
       "        vertical-align: middle;\n",
       "    }\n",
       "\n",
       "    .dataframe tbody tr th {\n",
       "        vertical-align: top;\n",
       "    }\n",
       "\n",
       "    .dataframe thead th {\n",
       "        text-align: right;\n",
       "    }\n",
       "</style>\n",
       "<table border=\"1\" class=\"dataframe\">\n",
       "  <thead>\n",
       "    <tr style=\"text-align: right;\">\n",
       "      <th></th>\n",
       "      <th>credit</th>\n",
       "      <th>gender</th>\n",
       "      <th>edu</th>\n",
       "      <th>marital</th>\n",
       "      <th>age</th>\n",
       "      <th>sep</th>\n",
       "      <th>aug</th>\n",
       "      <th>jul</th>\n",
       "      <th>jun</th>\n",
       "      <th>may</th>\n",
       "      <th>apr</th>\n",
       "      <th>sep_s</th>\n",
       "      <th>aug_s</th>\n",
       "      <th>jul_s</th>\n",
       "      <th>jun_s</th>\n",
       "      <th>may_s</th>\n",
       "      <th>apr_s</th>\n",
       "      <th>sep_p</th>\n",
       "      <th>aug_p</th>\n",
       "      <th>jul_p</th>\n",
       "      <th>jun_p</th>\n",
       "      <th>may_p</th>\n",
       "      <th>apr_p</th>\n",
       "      <th>Y</th>\n",
       "      <th>all_months</th>\n",
       "      <th>statement_mean_per_credit</th>\n",
       "      <th>statement_payment</th>\n",
       "    </tr>\n",
       "  </thead>\n",
       "  <tbody>\n",
       "    <tr>\n",
       "      <th>28835</th>\n",
       "      <td>220000</td>\n",
       "      <td>2</td>\n",
       "      <td>1</td>\n",
       "      <td>2</td>\n",
       "      <td>36</td>\n",
       "      <td>0</td>\n",
       "      <td>0</td>\n",
       "      <td>0</td>\n",
       "      <td>0</td>\n",
       "      <td>0</td>\n",
       "      <td>0</td>\n",
       "      <td>222598</td>\n",
       "      <td>222168</td>\n",
       "      <td>217900</td>\n",
       "      <td>221193</td>\n",
       "      <td>181859</td>\n",
       "      <td>184605</td>\n",
       "      <td>10000</td>\n",
       "      <td>8018</td>\n",
       "      <td>10121</td>\n",
       "      <td>6006</td>\n",
       "      <td>10987</td>\n",
       "      <td>143779</td>\n",
       "      <td>1</td>\n",
       "      <td>0</td>\n",
       "      <td>0.934295</td>\n",
       "      <td>4.466332</td>\n",
       "    </tr>\n",
       "    <tr>\n",
       "      <th>690</th>\n",
       "      <td>80000</td>\n",
       "      <td>1</td>\n",
       "      <td>2</td>\n",
       "      <td>2</td>\n",
       "      <td>32</td>\n",
       "      <td>0</td>\n",
       "      <td>0</td>\n",
       "      <td>0</td>\n",
       "      <td>0</td>\n",
       "      <td>0</td>\n",
       "      <td>0</td>\n",
       "      <td>51372</td>\n",
       "      <td>51872</td>\n",
       "      <td>47593</td>\n",
       "      <td>43882</td>\n",
       "      <td>42256</td>\n",
       "      <td>42527</td>\n",
       "      <td>1853</td>\n",
       "      <td>1700</td>\n",
       "      <td>1522</td>\n",
       "      <td>1548</td>\n",
       "      <td>1488</td>\n",
       "      <td>1500</td>\n",
       "      <td>0</td>\n",
       "      <td>0</td>\n",
       "      <td>0.570325</td>\n",
       "      <td>2.750237</td>\n",
       "    </tr>\n",
       "    <tr>\n",
       "      <th>6239</th>\n",
       "      <td>10000</td>\n",
       "      <td>1</td>\n",
       "      <td>2</td>\n",
       "      <td>2</td>\n",
       "      <td>27</td>\n",
       "      <td>0</td>\n",
       "      <td>0</td>\n",
       "      <td>0</td>\n",
       "      <td>0</td>\n",
       "      <td>0</td>\n",
       "      <td>0</td>\n",
       "      <td>8257</td>\n",
       "      <td>7995</td>\n",
       "      <td>4878</td>\n",
       "      <td>5444</td>\n",
       "      <td>2639</td>\n",
       "      <td>2697</td>\n",
       "      <td>2000</td>\n",
       "      <td>1100</td>\n",
       "      <td>600</td>\n",
       "      <td>300</td>\n",
       "      <td>300</td>\n",
       "      <td>1000</td>\n",
       "      <td>1</td>\n",
       "      <td>0</td>\n",
       "      <td>0.473060</td>\n",
       "      <td>1.935300</td>\n",
       "    </tr>\n",
       "    <tr>\n",
       "      <th>9405</th>\n",
       "      <td>110000</td>\n",
       "      <td>2</td>\n",
       "      <td>2</td>\n",
       "      <td>2</td>\n",
       "      <td>23</td>\n",
       "      <td>0</td>\n",
       "      <td>0</td>\n",
       "      <td>0</td>\n",
       "      <td>0</td>\n",
       "      <td>0</td>\n",
       "      <td>0</td>\n",
       "      <td>111271</td>\n",
       "      <td>111532</td>\n",
       "      <td>107998</td>\n",
       "      <td>79211</td>\n",
       "      <td>77881</td>\n",
       "      <td>80628</td>\n",
       "      <td>6000</td>\n",
       "      <td>4016</td>\n",
       "      <td>3000</td>\n",
       "      <td>3000</td>\n",
       "      <td>4000</td>\n",
       "      <td>4000</td>\n",
       "      <td>0</td>\n",
       "      <td>0</td>\n",
       "      <td>0.831364</td>\n",
       "      <td>3.974855</td>\n",
       "    </tr>\n",
       "    <tr>\n",
       "      <th>12899</th>\n",
       "      <td>50000</td>\n",
       "      <td>1</td>\n",
       "      <td>2</td>\n",
       "      <td>2</td>\n",
       "      <td>31</td>\n",
       "      <td>2</td>\n",
       "      <td>0</td>\n",
       "      <td>0</td>\n",
       "      <td>0</td>\n",
       "      <td>-1</td>\n",
       "      <td>-1</td>\n",
       "      <td>49804</td>\n",
       "      <td>28662</td>\n",
       "      <td>29476</td>\n",
       "      <td>4011</td>\n",
       "      <td>1000</td>\n",
       "      <td>0</td>\n",
       "      <td>2000</td>\n",
       "      <td>1500</td>\n",
       "      <td>1000</td>\n",
       "      <td>1000</td>\n",
       "      <td>0</td>\n",
       "      <td>0</td>\n",
       "      <td>0</td>\n",
       "      <td>0</td>\n",
       "      <td>0.252596</td>\n",
       "      <td>1.152980</td>\n",
       "    </tr>\n",
       "    <tr>\n",
       "      <th>...</th>\n",
       "      <td>...</td>\n",
       "      <td>...</td>\n",
       "      <td>...</td>\n",
       "      <td>...</td>\n",
       "      <td>...</td>\n",
       "      <td>...</td>\n",
       "      <td>...</td>\n",
       "      <td>...</td>\n",
       "      <td>...</td>\n",
       "      <td>...</td>\n",
       "      <td>...</td>\n",
       "      <td>...</td>\n",
       "      <td>...</td>\n",
       "      <td>...</td>\n",
       "      <td>...</td>\n",
       "      <td>...</td>\n",
       "      <td>...</td>\n",
       "      <td>...</td>\n",
       "      <td>...</td>\n",
       "      <td>...</td>\n",
       "      <td>...</td>\n",
       "      <td>...</td>\n",
       "      <td>...</td>\n",
       "      <td>...</td>\n",
       "      <td>...</td>\n",
       "      <td>...</td>\n",
       "      <td>...</td>\n",
       "    </tr>\n",
       "    <tr>\n",
       "      <th>24992</th>\n",
       "      <td>340000</td>\n",
       "      <td>1</td>\n",
       "      <td>2</td>\n",
       "      <td>1</td>\n",
       "      <td>40</td>\n",
       "      <td>0</td>\n",
       "      <td>0</td>\n",
       "      <td>0</td>\n",
       "      <td>0</td>\n",
       "      <td>0</td>\n",
       "      <td>0</td>\n",
       "      <td>147943</td>\n",
       "      <td>144543</td>\n",
       "      <td>146603</td>\n",
       "      <td>149519</td>\n",
       "      <td>151697</td>\n",
       "      <td>154499</td>\n",
       "      <td>5169</td>\n",
       "      <td>5333</td>\n",
       "      <td>5366</td>\n",
       "      <td>5550</td>\n",
       "      <td>7000</td>\n",
       "      <td>915</td>\n",
       "      <td>0</td>\n",
       "      <td>0</td>\n",
       "      <td>0.439330</td>\n",
       "      <td>2.113068</td>\n",
       "    </tr>\n",
       "    <tr>\n",
       "      <th>2065</th>\n",
       "      <td>180000</td>\n",
       "      <td>1</td>\n",
       "      <td>2</td>\n",
       "      <td>1</td>\n",
       "      <td>26</td>\n",
       "      <td>0</td>\n",
       "      <td>0</td>\n",
       "      <td>0</td>\n",
       "      <td>2</td>\n",
       "      <td>-1</td>\n",
       "      <td>-1</td>\n",
       "      <td>175539</td>\n",
       "      <td>138825</td>\n",
       "      <td>51686</td>\n",
       "      <td>2594</td>\n",
       "      <td>171716</td>\n",
       "      <td>181693</td>\n",
       "      <td>3826</td>\n",
       "      <td>7000</td>\n",
       "      <td>0</td>\n",
       "      <td>171716</td>\n",
       "      <td>13400</td>\n",
       "      <td>0</td>\n",
       "      <td>1</td>\n",
       "      <td>0</td>\n",
       "      <td>0.607238</td>\n",
       "      <td>1.947622</td>\n",
       "    </tr>\n",
       "    <tr>\n",
       "      <th>8413</th>\n",
       "      <td>30000</td>\n",
       "      <td>2</td>\n",
       "      <td>2</td>\n",
       "      <td>2</td>\n",
       "      <td>21</td>\n",
       "      <td>0</td>\n",
       "      <td>0</td>\n",
       "      <td>0</td>\n",
       "      <td>0</td>\n",
       "      <td>0</td>\n",
       "      <td>0</td>\n",
       "      <td>26757</td>\n",
       "      <td>26831</td>\n",
       "      <td>26620</td>\n",
       "      <td>26134</td>\n",
       "      <td>26865</td>\n",
       "      <td>25752</td>\n",
       "      <td>1520</td>\n",
       "      <td>1339</td>\n",
       "      <td>852</td>\n",
       "      <td>2067</td>\n",
       "      <td>1400</td>\n",
       "      <td>100</td>\n",
       "      <td>0</td>\n",
       "      <td>0</td>\n",
       "      <td>0.881347</td>\n",
       "      <td>4.167467</td>\n",
       "    </tr>\n",
       "    <tr>\n",
       "      <th>13231</th>\n",
       "      <td>90000</td>\n",
       "      <td>2</td>\n",
       "      <td>2</td>\n",
       "      <td>2</td>\n",
       "      <td>23</td>\n",
       "      <td>0</td>\n",
       "      <td>0</td>\n",
       "      <td>0</td>\n",
       "      <td>0</td>\n",
       "      <td>0</td>\n",
       "      <td>0</td>\n",
       "      <td>42105</td>\n",
       "      <td>43919</td>\n",
       "      <td>46812</td>\n",
       "      <td>44976</td>\n",
       "      <td>46406</td>\n",
       "      <td>47625</td>\n",
       "      <td>2500</td>\n",
       "      <td>3970</td>\n",
       "      <td>2500</td>\n",
       "      <td>2500</td>\n",
       "      <td>2500</td>\n",
       "      <td>1700</td>\n",
       "      <td>1</td>\n",
       "      <td>0</td>\n",
       "      <td>0.510529</td>\n",
       "      <td>2.397422</td>\n",
       "    </tr>\n",
       "    <tr>\n",
       "      <th>18588</th>\n",
       "      <td>180000</td>\n",
       "      <td>2</td>\n",
       "      <td>1</td>\n",
       "      <td>2</td>\n",
       "      <td>28</td>\n",
       "      <td>0</td>\n",
       "      <td>0</td>\n",
       "      <td>0</td>\n",
       "      <td>0</td>\n",
       "      <td>0</td>\n",
       "      <td>0</td>\n",
       "      <td>171237</td>\n",
       "      <td>172787</td>\n",
       "      <td>174667</td>\n",
       "      <td>176618</td>\n",
       "      <td>141697</td>\n",
       "      <td>143738</td>\n",
       "      <td>8000</td>\n",
       "      <td>7000</td>\n",
       "      <td>7000</td>\n",
       "      <td>5010</td>\n",
       "      <td>5200</td>\n",
       "      <td>6000</td>\n",
       "      <td>0</td>\n",
       "      <td>0</td>\n",
       "      <td>0.899452</td>\n",
       "      <td>4.318317</td>\n",
       "    </tr>\n",
       "  </tbody>\n",
       "</table>\n",
       "<p>7684 rows × 27 columns</p>\n",
       "</div>"
      ],
      "text/plain": [
       "       credit gender edu marital  age  sep  aug  jul  jun  may  apr   sep_s  \\\n",
       "28835  220000      2   1       2   36    0    0    0    0    0    0  222598   \n",
       "690     80000      1   2       2   32    0    0    0    0    0    0   51372   \n",
       "6239    10000      1   2       2   27    0    0    0    0    0    0    8257   \n",
       "9405   110000      2   2       2   23    0    0    0    0    0    0  111271   \n",
       "12899   50000      1   2       2   31    2    0    0    0   -1   -1   49804   \n",
       "...       ...    ...  ..     ...  ...  ...  ...  ...  ...  ...  ...     ...   \n",
       "24992  340000      1   2       1   40    0    0    0    0    0    0  147943   \n",
       "2065   180000      1   2       1   26    0    0    0    2   -1   -1  175539   \n",
       "8413    30000      2   2       2   21    0    0    0    0    0    0   26757   \n",
       "13231   90000      2   2       2   23    0    0    0    0    0    0   42105   \n",
       "18588  180000      2   1       2   28    0    0    0    0    0    0  171237   \n",
       "\n",
       "        aug_s   jul_s   jun_s   may_s   apr_s  sep_p  aug_p  jul_p   jun_p  \\\n",
       "28835  222168  217900  221193  181859  184605  10000   8018  10121    6006   \n",
       "690     51872   47593   43882   42256   42527   1853   1700   1522    1548   \n",
       "6239     7995    4878    5444    2639    2697   2000   1100    600     300   \n",
       "9405   111532  107998   79211   77881   80628   6000   4016   3000    3000   \n",
       "12899   28662   29476    4011    1000       0   2000   1500   1000    1000   \n",
       "...       ...     ...     ...     ...     ...    ...    ...    ...     ...   \n",
       "24992  144543  146603  149519  151697  154499   5169   5333   5366    5550   \n",
       "2065   138825   51686    2594  171716  181693   3826   7000      0  171716   \n",
       "8413    26831   26620   26134   26865   25752   1520   1339    852    2067   \n",
       "13231   43919   46812   44976   46406   47625   2500   3970   2500    2500   \n",
       "18588  172787  174667  176618  141697  143738   8000   7000   7000    5010   \n",
       "\n",
       "       may_p   apr_p  Y  all_months  statement_mean_per_credit  \\\n",
       "28835  10987  143779  1           0                   0.934295   \n",
       "690     1488    1500  0           0                   0.570325   \n",
       "6239     300    1000  1           0                   0.473060   \n",
       "9405    4000    4000  0           0                   0.831364   \n",
       "12899      0       0  0           0                   0.252596   \n",
       "...      ...     ... ..         ...                        ...   \n",
       "24992   7000     915  0           0                   0.439330   \n",
       "2065   13400       0  1           0                   0.607238   \n",
       "8413    1400     100  0           0                   0.881347   \n",
       "13231   2500    1700  1           0                   0.510529   \n",
       "18588   5200    6000  0           0                   0.899452   \n",
       "\n",
       "       statement_payment  \n",
       "28835           4.466332  \n",
       "690             2.750237  \n",
       "6239            1.935300  \n",
       "9405            3.974855  \n",
       "12899           1.152980  \n",
       "...                  ...  \n",
       "24992           2.113068  \n",
       "2065            1.947622  \n",
       "8413            4.167467  \n",
       "13231           2.397422  \n",
       "18588           4.318317  \n",
       "\n",
       "[7684 rows x 27 columns]"
      ]
     },
     "execution_count": 26,
     "metadata": {},
     "output_type": "execute_result"
    }
   ],
   "source": [
    "df[df.all_months==0]"
   ]
  },
  {
   "cell_type": "markdown",
   "metadata": {},
   "source": [
    "# Feature Selection"
   ]
  },
  {
   "cell_type": "code",
   "execution_count": 27,
   "metadata": {
    "ExecuteTime": {
     "end_time": "2021-04-01T08:40:28.273861Z",
     "start_time": "2021-04-01T08:40:28.259485Z"
    }
   },
   "outputs": [],
   "source": [
    "X_train, X_test, y_train, y_test = train_test_split(\n",
    "    X, y, test_size=0.5, random_state=729)"
   ]
  },
  {
   "cell_type": "markdown",
   "metadata": {
    "ExecuteTime": {
     "end_time": "2021-03-29T08:06:55.553344Z",
     "start_time": "2021-03-29T08:06:55.533566Z"
    }
   },
   "source": [
    "## Prepare training set"
   ]
  },
  {
   "cell_type": "code",
   "execution_count": 28,
   "metadata": {
    "ExecuteTime": {
     "end_time": "2021-04-01T08:40:28.350474Z",
     "start_time": "2021-04-01T08:40:28.277003Z"
    }
   },
   "outputs": [],
   "source": [
    "# def prep_train_test(X_train, X_test):\n",
    "ss = StandardScaler()\n",
    "\n",
    "# prep train\n",
    "X_train_nums = X_train.select_dtypes(['int64','float64'])\n",
    "ss.fit(X_train_nums)\n",
    "nums_df = pd.DataFrame(ss.transform(X_train_nums),\n",
    "                      index=X_train_nums.index)\n",
    "\n",
    "X_train_cat = X_train.select_dtypes('object')\n",
    "ohe = OneHotEncoder(\n",
    "#         drop='first',\n",
    "    handle_unknown='ignore',\n",
    "    sparse=False)\n",
    "\n",
    "dums = ohe.fit_transform(X_train_cat)\n",
    "dums_df = pd.DataFrame(dums,\n",
    "                       columns=ohe.get_feature_names(),\n",
    "                       index=X_train_cat.index)\n",
    "\n",
    "X_train_fin = pd.concat([nums_df,\n",
    "             dums_df], axis=1)\n",
    "\n",
    "# prep test\n",
    "X_test_cat = X_test.select_dtypes('object')\n",
    "test_dums = ohe.transform(X_test_cat)\n",
    "test_dums_df = pd.DataFrame(test_dums,\n",
    "                       columns=ohe.get_feature_names(),\n",
    "                      index=X_test_cat.index)\n",
    "\n",
    "X_test_nums = X_test.select_dtypes(['int64','float64'])\n",
    "test_nums = ss.transform(X_test_nums)\n",
    "test_nums_df = pd.DataFrame(test_nums,\n",
    "                           index=X_test_nums.index)\n",
    "\n",
    "X_test_fin = pd.concat([test_nums_df,\n",
    "             test_dums_df], axis=1)\n",
    "\n",
    "# return X_train_fin, X_test_fin"
   ]
  },
  {
   "cell_type": "markdown",
   "metadata": {},
   "source": [
    "# Model Fitting and Hyperparameter Tuning\n",
    "KNN, Logistic Regression, Decision Tree"
   ]
  },
  {
   "cell_type": "markdown",
   "metadata": {
    "ExecuteTime": {
     "end_time": "2021-03-29T07:47:24.300455Z",
     "start_time": "2021-03-29T07:47:24.291146Z"
    }
   },
   "source": [
    "## Logistic Regression - no dummying, no undersampling"
   ]
  },
  {
   "cell_type": "code",
   "execution_count": 29,
   "metadata": {
    "ExecuteTime": {
     "end_time": "2021-04-01T08:40:28.365642Z",
     "start_time": "2021-04-01T08:40:28.354839Z"
    }
   },
   "outputs": [],
   "source": [
    "def log_model(X, y):\n",
    "    # Split data into train and test sets\n",
    "    X_train, X_test, y_train, y_test = train_test_split(X, y, test_size=.25,\n",
    "                                                       random_state=1)\n",
    "    # Scale the data for modeling\n",
    "    cred_scaler = StandardScaler()\n",
    "    cred_scaler.fit(X_train)\n",
    "    X_train_sc = cred_scaler.transform(X_train)\n",
    "    X_test_sc = cred_scaler.transform(X_test)\n",
    "\n",
    "    # Train a logistic regresssion model with the train data\n",
    "    cred_model = LogisticRegression(random_state=42)\n",
    "    cred_model.fit(X_train_sc, y_train)\n",
    "    y_pred = cred_model.predict(X_test_sc)\n",
    "    print('Num features: ', len(columns))\n",
    "    print('Model score: ', cred_model.score(X_test_sc, y_test))\n",
    "    print('Model F1: ', f1_score(y_test, y_pred))\n",
    "    print('Cross validation score: ', cross_val_score(cred_model, X_test_sc, y_test, cv=5) )\n",
    "    print('Classification Report:')\n",
    "    print(classification_report(y_test, y_pred))\n",
    "    fig, ax = plt.subplots(2,1, figsize = [6,8])\n",
    "    plot_confusion_matrix(cred_model, X_test_sc, y_test, ax = ax[0])\n",
    "    plot_roc_curve(cred_model, X_test_sc, y_test, ax = ax[1])"
   ]
  },
  {
   "cell_type": "markdown",
   "metadata": {
    "ExecuteTime": {
     "end_time": "2021-03-29T08:38:26.025670Z",
     "start_time": "2021-03-29T08:38:26.022709Z"
    }
   },
   "source": [
    "### Using original features"
   ]
  },
  {
   "cell_type": "code",
   "execution_count": 30,
   "metadata": {
    "ExecuteTime": {
     "end_time": "2021-04-01T08:40:29.237415Z",
     "start_time": "2021-04-01T08:40:28.369666Z"
    }
   },
   "outputs": [
    {
     "name": "stdout",
     "output_type": "stream",
     "text": [
      "Num features:  23\n",
      "Model score:  0.8119111111111111\n",
      "Model F1:  0.38128654970760234\n",
      "Cross validation score:  [0.81155556 0.80888889 0.80088889 0.79644444 0.79466667]\n",
      "Classification Report:\n",
      "              precision    recall  f1-score   support\n",
      "\n",
      "           0       0.82      0.97      0.89      4358\n",
      "           1       0.74      0.26      0.38      1267\n",
      "\n",
      "    accuracy                           0.81      5625\n",
      "   macro avg       0.78      0.62      0.64      5625\n",
      "weighted avg       0.80      0.81      0.77      5625\n",
      "\n"
     ]
    },
    {
     "data": {
      "image/png": "[encoded data removed]",
      "text/plain": [
       "<Figure size 432x576 with 3 Axes>"
      ]
     },
     "metadata": {
      "needs_background": "light"
     },
     "output_type": "display_data"
    }
   ],
   "source": [
    "columns = ['credit', 'gender', 'edu', 'marital', 'age', 'sep', 'aug', 'jul', 'jun',\n",
    "       'may', 'apr', 'sep_s', 'aug_s', 'jul_s', 'jun_s', 'may_s', 'apr_s',\n",
    "       'sep_p', 'aug_p', 'jul_p', 'jun_p', 'may_p', 'apr_p']\n",
    "log_model(df[columns], y)"
   ]
  },
  {
   "cell_type": "markdown",
   "metadata": {
    "ExecuteTime": {
     "end_time": "2021-03-29T08:38:53.531771Z",
     "start_time": "2021-03-29T08:38:52.692284Z"
    }
   },
   "source": [
    "### Using original + engineered features"
   ]
  },
  {
   "cell_type": "code",
   "execution_count": 31,
   "metadata": {
    "ExecuteTime": {
     "end_time": "2021-04-01T08:40:29.936334Z",
     "start_time": "2021-04-01T08:40:29.240207Z"
    }
   },
   "outputs": [
    {
     "name": "stdout",
     "output_type": "stream",
     "text": [
      "Num features:  26\n",
      "Model score:  0.8110222222222222\n",
      "Model F1:  0.38448176027793857\n",
      "Cross validation score:  [0.81244444 0.81422222 0.80088889 0.79733333 0.79555556]\n",
      "Classification Report:\n",
      "              precision    recall  f1-score   support\n",
      "\n",
      "           0       0.82      0.97      0.89      4358\n",
      "           1       0.72      0.26      0.38      1267\n",
      "\n",
      "    accuracy                           0.81      5625\n",
      "   macro avg       0.77      0.62      0.64      5625\n",
      "weighted avg       0.80      0.81      0.77      5625\n",
      "\n"
     ]
    },
    {
     "data": {
      "image/png": "[encoded data removed]",
      "text/plain": [
       "<Figure size 432x576 with 3 Axes>"
      ]
     },
     "metadata": {
      "needs_background": "light"
     },
     "output_type": "display_data"
    }
   ],
   "source": [
    "columns = ['credit', 'gender', 'edu', 'marital', 'age', 'sep', 'aug', 'jul', 'jun',\n",
    "           'may', 'apr', 'sep_s', 'aug_s', 'jul_s', 'jun_s', 'may_s', 'apr_s',\n",
    "           'sep_p', 'aug_p', 'jul_p', 'jun_p', 'may_p', 'apr_p', 'all_months',\n",
    "           'statement_mean_per_credit', 'statement_payment']\n",
    "log_model(df[columns], df.Y)"
   ]
  },
  {
   "cell_type": "markdown",
   "metadata": {
    "ExecuteTime": {
     "end_time": "2021-03-29T08:11:56.000558Z",
     "start_time": "2021-03-29T08:11:55.998664Z"
    }
   },
   "source": [
    "## KNN - with dummying, no undersamplying"
   ]
  },
  {
   "cell_type": "code",
   "execution_count": 32,
   "metadata": {
    "ExecuteTime": {
     "end_time": "2021-04-01T08:40:29.946546Z",
     "start_time": "2021-04-01T08:40:29.938884Z"
    }
   },
   "outputs": [],
   "source": [
    "def knn(X_train_fin, X_test_fin, y_train, y_test):\n",
    "    knn_model = KNeighborsClassifier()\n",
    "    knn_model.fit(X_train_fin, y_train)\n",
    "    y_pred = knn_model.predict(X_test_fin)\n",
    "    print('Num features: ', len(columns))\n",
    "    print('Model score: ', knn_model.score(X_test_fin, y_test))\n",
    "    print('Model F1: ', f1_score(y_test, y_pred))\n",
    "    print('Cross validation score: ', cross_val_score(knn_model, X_test_fin, y_test, cv=5) )\n",
    "    print('Classification Report:')\n",
    "    print(classification_report(y_test, y_pred))\n",
    "    fig, ax = plt.subplots(2,1, figsize = [6,8])\n",
    "    plot_confusion_matrix(knn_model, X_test_fin, y_test, ax = ax[0])\n",
    "    plot_roc_curve(knn_model, X_test_fin, y_test, ax = ax[1])"
   ]
  },
  {
   "cell_type": "code",
   "execution_count": 33,
   "metadata": {
    "ExecuteTime": {
     "end_time": "2021-04-01T08:40:30.207329Z",
     "start_time": "2021-04-01T08:40:29.949185Z"
    }
   },
   "outputs": [
    {
     "ename": "NameError",
     "evalue": "name 'prep_train_test' is not defined",
     "output_type": "error",
     "traceback": [
      "\u001b[0;31m---------------------------------------------------------------------------\u001b[0m",
      "\u001b[0;31mNameError\u001b[0m                                 Traceback (most recent call last)",
      "\u001b[0;32m<ipython-input-33-74c5e6796281>\u001b[0m in \u001b[0;36m<module>\u001b[0;34m\u001b[0m\n\u001b[0;32m----> 1\u001b[0;31m \u001b[0mX_train_fin\u001b[0m\u001b[0;34m,\u001b[0m \u001b[0mX_test_fin\u001b[0m \u001b[0;34m=\u001b[0m \u001b[0mprep_train_test\u001b[0m\u001b[0;34m(\u001b[0m\u001b[0mX_train\u001b[0m\u001b[0;34m,\u001b[0m \u001b[0mX_test\u001b[0m\u001b[0;34m)\u001b[0m\u001b[0;34m\u001b[0m\u001b[0;34m\u001b[0m\u001b[0m\n\u001b[0m\u001b[1;32m      2\u001b[0m \u001b[0mknn\u001b[0m\u001b[0;34m(\u001b[0m\u001b[0mX_train_fin\u001b[0m\u001b[0;34m,\u001b[0m \u001b[0mX_test_fin\u001b[0m\u001b[0;34m,\u001b[0m \u001b[0my_train\u001b[0m\u001b[0;34m,\u001b[0m \u001b[0my_test\u001b[0m\u001b[0;34m)\u001b[0m\u001b[0;34m\u001b[0m\u001b[0;34m\u001b[0m\u001b[0m\n",
      "\u001b[0;31mNameError\u001b[0m: name 'prep_train_test' is not defined"
     ]
    }
   ],
   "source": [
    "X_train_fin, X_test_fin = prep_train_test(X_train, X_test)\n",
    "knn(X_train_fin, X_test_fin, y_train, y_test)"
   ]
  },
  {
   "cell_type": "markdown",
   "metadata": {},
   "source": [
    "## LogisticRegression - with dummying, Tomek Link undersampling"
   ]
  },
  {
   "cell_type": "code",
   "execution_count": null,
   "metadata": {
    "ExecuteTime": {
     "end_time": "2021-04-01T08:40:30.209715Z",
     "start_time": "2021-04-01T08:39:56.172Z"
    }
   },
   "outputs": [],
   "source": [
    "tl = TomekLinks()\n",
    "X_res, y_res = tl.fit_resample(X_train_fin, y_train)\n",
    "print('Resampled dataset shape %s' % Counter(y_res))"
   ]
  },
  {
   "cell_type": "code",
   "execution_count": null,
   "metadata": {
    "ExecuteTime": {
     "end_time": "2021-04-01T08:40:30.210899Z",
     "start_time": "2021-04-01T08:39:56.176Z"
    }
   },
   "outputs": [],
   "source": [
    "def log_model_dum_us(X_train, X_test, y_train, y_test):\n",
    "    log_model2 = LogisticRegression(random_state=729, max_iter=1000)\n",
    "    log_model2.fit(X_train, y_train)\n",
    "    y_pred = log_model2.predict(X_test)\n",
    "    print('Num features: ', len(columns))\n",
    "    print('Model score: ', log_model2.score(X_test, y_test))\n",
    "    print('Model F1: ', f1_score(y_test, y_pred))\n",
    "    print('Cross validation score: ', cross_val_score(log_model2, X_test, y_test, cv=5) )\n",
    "    print('Classification Report:')\n",
    "    print(classification_report(y_test, y_pred))\n",
    "    fig, ax = plt.subplots(2,1, figsize = [6,8])\n",
    "    plot_confusion_matrix(log_model2, X_test, y_test, ax = ax[0])\n",
    "    plot_roc_curve(log_model2, X_test, y_test, ax = ax[1])"
   ]
  },
  {
   "cell_type": "code",
   "execution_count": null,
   "metadata": {
    "ExecuteTime": {
     "end_time": "2021-04-01T08:40:30.212019Z",
     "start_time": "2021-04-01T08:39:56.179Z"
    }
   },
   "outputs": [],
   "source": [
    "log_model_dum_us(X_res, X_test_fin, y_res, y_test)"
   ]
  },
  {
   "cell_type": "markdown",
   "metadata": {
    "ExecuteTime": {
     "end_time": "2021-03-29T07:44:04.351278Z",
     "start_time": "2021-03-29T07:44:04.341580Z"
    }
   },
   "source": [
    "## Decision Tree + GridSearch - no dummying, no undersampling"
   ]
  },
  {
   "cell_type": "code",
   "execution_count": null,
   "metadata": {
    "ExecuteTime": {
     "end_time": "2021-04-01T08:40:30.213604Z",
     "start_time": "2021-04-01T08:39:56.183Z"
    }
   },
   "outputs": [],
   "source": [
    "def decision_tree(X, y):\n",
    "    X_train, X_test, y_train, y_test = \\\n",
    "        train_test_split(X, y, test_size=.25, random_state=1)\n",
    "    \n",
    "    dtc = DecisionTreeClassifier()\n",
    "    params_grid = {\n",
    "        'criterion': ['gini', 'entropy'],\n",
    "        'max_depth': [None, 5, 3, 2],\n",
    "        'min_samples_split': [2, 10, 20]\n",
    "    }\n",
    "    gridsearch_model = GridSearchCV(estimator = dtc, param_grid = params_grid)\n",
    "    \n",
    "    gridsearch_model.fit(X_train, y_train)\n",
    "    print(gridsearch_model.best_params_)\n",
    "    best_model = gridsearch_model.best_estimator_\n",
    "    best_model.score(X_test, y_test)\n",
    "    \n",
    "    y_pred = best_model.predict(X_test)\n",
    "    print('Num features: ', len(columns))\n",
    "    print('Model score: ', best_model.score(X_test, y_test))\n",
    "    print('Model F1: ', f1_score(y_test, y_pred))\n",
    "    print('Full Classification Report:')\n",
    "    print(classification_report(y_test, y_pred))\n",
    "    fig, ax = plt.subplots(2,1, figsize = [6,8])\n",
    "    plot_confusion_matrix(best_model, X_test, y_test, ax = ax[0])\n",
    "    plot_roc_curve(best_model, X_test, y_test, ax = ax[1])"
   ]
  },
  {
   "cell_type": "code",
   "execution_count": null,
   "metadata": {
    "ExecuteTime": {
     "end_time": "2021-04-01T08:40:30.214700Z",
     "start_time": "2021-04-01T08:39:56.186Z"
    }
   },
   "outputs": [],
   "source": [
    "columns = ['credit', 'gender', 'edu', 'marital', 'age', 'sep', 'aug', 'jul', 'jun',\n",
    "           'may', 'apr', 'sep_s', 'aug_s', 'jul_s', 'jun_s', 'may_s', 'apr_s',\n",
    "           'sep_p', 'aug_p', 'jul_p', 'jun_p', 'may_p', 'apr_p', 'all_months',\n",
    "           'statement_mean_per_credit', 'statement_payment']\n",
    "decision_tree(df[columns], df.Y)"
   ]
  },
  {
   "cell_type": "markdown",
   "metadata": {},
   "source": [
    "## Using pipelines - DecisionTree, dummies, no undersampling"
   ]
  },
  {
   "cell_type": "code",
   "execution_count": null,
   "metadata": {
    "ExecuteTime": {
     "end_time": "2021-04-01T08:40:30.216192Z",
     "start_time": "2021-04-01T08:39:56.189Z"
    }
   },
   "outputs": [],
   "source": [
    "X_train_nums = X_train.select_dtypes(['int64', 'float64'])\n",
    "\n",
    "ss = StandardScaler()\n",
    "\n",
    "ss.fit(X_train_nums)\n",
    "nums_df = pd.DataFrame(ss.transform(X_train_nums),\n",
    "                      index=X_train_nums.index)\n",
    "\n",
    "X_train_cat = X_train.select_dtypes('object')\n",
    "\n",
    "ohe = OneHotEncoder(\n",
    "    drop='first',\n",
    "    sparse=False)\n",
    "\n",
    "dums = ohe.fit_transform(X_train_cat)\n",
    "dums_df = pd.DataFrame(dums,\n",
    "                       columns=ohe.get_feature_names(),\n",
    "                       index=X_train_cat.index)\n",
    "\n",
    "numerical_pipeline = Pipeline(steps=[\n",
    "    ('ss', StandardScaler())\n",
    "])\n",
    "                \n",
    "categorical_pipeline = Pipeline(steps=[\n",
    "    ('ohe', OneHotEncoder(\n",
    "                         sparse=False, handle_unknown='ignore'))\n",
    "])\n",
    "\n",
    "trans = ColumnTransformer(transformers=[\n",
    "    ('numerical', numerical_pipeline, X_train_nums.columns),\n",
    "    ('categorical', categorical_pipeline, X_train_cat.columns)\n",
    "])\n",
    "\n",
    "model_pipe = Pipeline(steps=[\n",
    "    ('trans', trans),\n",
    "    ('clf', DecisionTreeClassifier())\n",
    "])"
   ]
  },
  {
   "cell_type": "code",
   "execution_count": null,
   "metadata": {
    "ExecuteTime": {
     "end_time": "2021-04-01T08:40:30.217680Z",
     "start_time": "2021-04-01T08:39:56.191Z"
    }
   },
   "outputs": [],
   "source": [
    "model_pipe.fit(X_train, y_train);"
   ]
  },
  {
   "cell_type": "code",
   "execution_count": null,
   "metadata": {
    "ExecuteTime": {
     "end_time": "2021-04-01T08:40:30.218859Z",
     "start_time": "2021-04-01T08:39:56.193Z"
    }
   },
   "outputs": [],
   "source": [
    "print('Pipeline score:', model_pipe.score(X_train, y_train))"
   ]
  },
  {
   "cell_type": "code",
   "execution_count": null,
   "metadata": {
    "ExecuteTime": {
     "end_time": "2021-04-01T08:40:30.220724Z",
     "start_time": "2021-04-01T08:39:56.197Z"
    }
   },
   "outputs": [],
   "source": [
    "y_hat = model_pipe.predict(X_train)"
   ]
  },
  {
   "cell_type": "code",
   "execution_count": null,
   "metadata": {
    "ExecuteTime": {
     "end_time": "2021-04-01T08:40:30.222425Z",
     "start_time": "2021-04-01T08:39:56.202Z"
    }
   },
   "outputs": [],
   "source": [
    "pipe_grid = {'clf__criterion': ['gini', 'entropy'],\n",
    "             'clf__max_depth': [None, 5, 3, 2],\n",
    "             'clf__min_samples_split': [2, 10, 20]}\n",
    "gs_pipe = GridSearchCV(estimator=model_pipe, param_grid=pipe_grid)\n",
    "\n",
    "gs_pipe.fit(X_train, y_train);"
   ]
  },
  {
   "cell_type": "code",
   "execution_count": null,
   "metadata": {
    "ExecuteTime": {
     "end_time": "2021-04-01T08:40:30.224057Z",
     "start_time": "2021-04-01T08:39:56.205Z"
    }
   },
   "outputs": [],
   "source": [
    "print(gs_pipe.best_params_)\n",
    "gs_model = gs_pipe.best_estimator_\n",
    "gs_model.score(X_test, y_test)\n",
    "y_pred = gs_model.predict(X_test)\n",
    "print('Num features: ', len(columns))\n",
    "print('Model score: ', gs_model.score(X_test, y_test))\n",
    "print('Model F1: ', f1_score(y_test, y_pred))\n",
    "print('Full Classification Report:')\n",
    "print(classification_report(y_test, y_pred))\n",
    "fig, ax = plt.subplots(2,1, figsize = [6,8])\n",
    "plot_confusion_matrix(gs_model, X_test, y_test, ax = ax[0])\n",
    "plot_roc_curve(gs_model, X_test, y_test, ax = ax[1])"
   ]
  },
  {
   "cell_type": "markdown",
   "metadata": {
    "ExecuteTime": {
     "end_time": "2021-03-29T09:36:48.272417Z",
     "start_time": "2021-03-29T09:36:48.268067Z"
    }
   },
   "source": [
    "## Another implementation of Pipeline"
   ]
  },
  {
   "cell_type": "code",
   "execution_count": null,
   "metadata": {
    "ExecuteTime": {
     "end_time": "2021-04-01T08:40:30.225909Z",
     "start_time": "2021-04-01T08:39:56.209Z"
    }
   },
   "outputs": [],
   "source": [
    "pipeline = Pipeline([\n",
    "    ('scaler', StandardScaler()),\n",
    "    ('clf', DecisionTreeClassifier())\n",
    "])\n",
    "cv = GridSearchCV(pipeline, param_grid=pipe_grid)\n",
    "cv.fit(X_train.select_dtypes(['int64','float64']), y_train)\n",
    "y_pred = cv.predict(X_test.select_dtypes(['int64','float64']))"
   ]
  },
  {
   "cell_type": "code",
   "execution_count": null,
   "metadata": {
    "ExecuteTime": {
     "end_time": "2021-04-01T08:40:30.227198Z",
     "start_time": "2021-04-01T08:39:56.213Z"
    }
   },
   "outputs": [],
   "source": [
    "f1_score(y_test,y_pred)"
   ]
  },
  {
   "cell_type": "markdown",
   "metadata": {
    "ExecuteTime": {
     "end_time": "2021-03-29T11:00:59.692793Z",
     "start_time": "2021-03-29T11:00:59.690457Z"
    }
   },
   "source": [
    "## Random Forest + Dummying + Tomek Links"
   ]
  },
  {
   "cell_type": "code",
   "execution_count": null,
   "metadata": {
    "ExecuteTime": {
     "end_time": "2021-04-01T08:40:30.228524Z",
     "start_time": "2021-04-01T08:39:56.217Z"
    }
   },
   "outputs": [],
   "source": [
    "rfr = RandomForestClassifier(max_features='sqrt',\n",
    "                            max_samples=0.5,\n",
    "                            random_state=729)\n",
    "rfr.fit(X_res, y_res)\n",
    "rfr.score(X_test_fin, y_test)\n",
    "y_pred = rfr.predict(X_test_fin)\n",
    "print('Num features: ', len(columns))\n",
    "print('Model score: ', rfr.score(X_test_fin, y_test))\n",
    "print('Model F1: ', f1_score(y_test, y_pred))\n",
    "print('Full Classification Report:')\n",
    "print(classification_report(y_test, y_pred))\n",
    "fig, ax = plt.subplots(2,1, figsize = [6,8])\n",
    "plot_confusion_matrix(rfr, X_test_fin, y_test, ax = ax[0])\n",
    "plot_roc_curve(rfr, X_test_fin, y_test, ax = ax[1])"
   ]
  },
  {
   "cell_type": "markdown",
   "metadata": {},
   "source": [
    "## Extremely Randomized Trees"
   ]
  },
  {
   "cell_type": "code",
   "execution_count": null,
   "metadata": {
    "ExecuteTime": {
     "end_time": "2021-04-01T08:40:30.229833Z",
     "start_time": "2021-04-01T08:39:56.221Z"
    }
   },
   "outputs": [],
   "source": [
    "etr = ExtraTreesClassifier(max_features='sqrt',\n",
    "                         max_samples=0.5,\n",
    "                         bootstrap=True,\n",
    "                         random_state=1)\n",
    "etr.fit(X_res, y_res)\n",
    "rfr.score(X_test_fin, y_test)\n",
    "y_pred = etr.predict(X_test_fin)\n",
    "print('Num features: ', len(columns))\n",
    "print('Model score: ', etr.score(X_test_fin, y_test))\n",
    "print('Model F1: ', f1_score(y_test, y_pred))\n",
    "print('Full Classification Report:')\n",
    "print(classification_report(y_test, y_pred))\n",
    "fig, ax = plt.subplots(2,1, figsize = [6,8])\n",
    "plot_confusion_matrix(etr, X_test_fin, y_test, ax = ax[0])\n",
    "plot_roc_curve(etr, X_test_fin, y_test, ax = ax[1])"
   ]
  },
  {
   "cell_type": "markdown",
   "metadata": {},
   "source": [
    "## RandomSearch - Logistic Regression - failed to converge"
   ]
  },
  {
   "cell_type": "code",
   "execution_count": null,
   "metadata": {
    "ExecuteTime": {
     "end_time": "2021-04-01T08:40:30.231010Z",
     "start_time": "2021-04-01T08:39:56.225Z"
    }
   },
   "outputs": [],
   "source": [
    "# log_reg_grid = {'C': stats.uniform(loc=0, scale=1),\n",
    "#                 'l1_ratio': stats.expon(scale=0.2)}\n",
    "# rs = RandomizedSearchCV(estimator=LogisticRegression(penalty='elasticnet',\n",
    "#                                                      solver='saga',\n",
    "#                                                      max_iter=2000,\n",
    "#                                                      random_state=729),\n",
    "#                         param_distributions=log_reg_grid,\n",
    "#                         random_state=729)\n",
    "\n",
    "# rs.fit(X_res, y_res)\n",
    "# rs.best_params_"
   ]
  },
  {
   "cell_type": "markdown",
   "metadata": {},
   "source": [
    "## DecisionTree, GridSearch, dummying, Tomek Links"
   ]
  },
  {
   "cell_type": "code",
   "execution_count": null,
   "metadata": {
    "ExecuteTime": {
     "end_time": "2021-04-01T08:40:30.232400Z",
     "start_time": "2021-04-01T08:39:56.228Z"
    }
   },
   "outputs": [],
   "source": [
    "def decision_tree_dum_us_gs(X_train, X_test, y_train, y_test):\n",
    "    dtc = DecisionTreeClassifier()\n",
    "    params_grid = {\n",
    "        'criterion': ['gini', 'entropy'],\n",
    "        'max_depth': [None, 10, 5, 3, 2],\n",
    "        'min_samples_split': [2, 5, 10, 20, 30]\n",
    "    }\n",
    "    gridsearch_model = GridSearchCV(estimator = dtc, param_grid = params_grid)\n",
    "    \n",
    "    gridsearch_model.fit(X_train, y_train)\n",
    "    print(gridsearch_model.best_params_)\n",
    "    best_model = gridsearch_model.best_estimator_\n",
    "    best_model.score(X_test, y_test)\n",
    "    \n",
    "    y_pred = best_model.predict(X_test)\n",
    "    print('Num features: ', len(columns))\n",
    "    print('Model score: ', best_model.score(X_test, y_test))\n",
    "    print('Model F1: ', f1_score(y_test, y_pred))\n",
    "    print('Full Classification Report:')\n",
    "    print(classification_report(y_test, y_pred))\n",
    "    fig, ax = plt.subplots(2,1, figsize = [6,8])\n",
    "    plot_confusion_matrix(best_model, X_test, y_test, ax = ax[0])\n",
    "    plot_roc_curve(best_model, X_test, y_test, ax = ax[1])"
   ]
  },
  {
   "cell_type": "code",
   "execution_count": null,
   "metadata": {
    "ExecuteTime": {
     "end_time": "2021-04-01T08:40:30.233966Z",
     "start_time": "2021-04-01T08:39:56.232Z"
    }
   },
   "outputs": [],
   "source": [
    "decision_tree_dum_us_gs(X_res, X_test_fin, y_res, y_test)"
   ]
  },
  {
   "cell_type": "markdown",
   "metadata": {
    "ExecuteTime": {
     "end_time": "2021-03-29T09:48:46.983094Z",
     "start_time": "2021-03-29T09:48:46.981237Z"
    }
   },
   "source": [
    "## XGBoost + Dummying + Tomek Links"
   ]
  },
  {
   "cell_type": "code",
   "execution_count": 37,
   "metadata": {
    "ExecuteTime": {
     "end_time": "2021-04-01T08:41:06.343431Z",
     "start_time": "2021-04-01T08:40:58.077177Z"
    }
   },
   "outputs": [
    {
     "name": "stdout",
     "output_type": "stream",
     "text": [
      "Resampled dataset shape Counter({0: 16078, 1: 5028})\n"
     ]
    }
   ],
   "source": [
    "tl = TomekLinks()\n",
    "X_res, y_res = tl.fit_resample(X, y)\n",
    "print('Resampled dataset shape %s' % Counter(y_res))"
   ]
  },
  {
   "cell_type": "code",
   "execution_count": null,
   "metadata": {
    "ExecuteTime": {
     "end_time": "2021-04-01T08:40:30.236925Z",
     "start_time": "2021-04-01T08:39:56.238Z"
    }
   },
   "outputs": [],
   "source": [
    "grad_boost = xgboost.XGBClassifier(random_state=729, objective='reg:squarederror')\n",
    "grad_boost.fit(X_res, y_res)\n",
    "grad_boost.score(X_test_fin, y_test)\n",
    "y_pred = grad_boost.predict(X_test_fin)\n",
    "print('Num features: ', len(columns))\n",
    "print('Model score: ', grad_boost.score(X_test_fin, y_test))\n",
    "print('Model F1: ', f1_score(y_test, y_pred))\n",
    "print('Full Classification Report:')\n",
    "print(classification_report(y_test, y_pred))\n",
    "fig, ax = plt.subplots(2,1, figsize = [6,8])\n",
    "plot_confusion_matrix(grad_boost, X_test_fin, y_test, ax = ax[0])\n",
    "plot_roc_curve(grad_boost, X_test_fin, y_test, ax = ax[1])"
   ]
  },
  {
   "cell_type": "markdown",
   "metadata": {},
   "source": [
    "## XGBoost + GridSearch + Dummying + Tomek Links"
   ]
  },
  {
   "cell_type": "code",
   "execution_count": 35,
   "metadata": {
    "ExecuteTime": {
     "end_time": "2021-04-01T08:40:51.903844Z",
     "start_time": "2021-04-01T08:40:51.895040Z"
    }
   },
   "outputs": [],
   "source": [
    "def xgb_class(X_train, X_test, y_train, y_test):\n",
    "    parameters = {'nthread': [4],  # when use hyperthread, xgboost may become slower\n",
    "#               'objective': ['binary:logistic'],\n",
    "              'learning_rate': [0.05],  # so called `eta` value\n",
    "              'max_depth': [6],\n",
    "              'min_child_weight': [11],\n",
    "              'subsample': [0.8],\n",
    "              'colsample_bytree': [0.7],\n",
    "              'n_estimators': [5], # number of trees, change it to 1000 for better results\n",
    "              'missing': [-999],\n",
    "              'seed': [1337]}\n",
    "    gs = GridSearchCV(grad_boost, parameters, n_jobs=5, \n",
    "                       cv=StratifiedKFold(n_splits=5, shuffle=True), \n",
    "                       scoring='roc_auc',\n",
    "                       verbose=2, refit=True)\n",
    "\n",
    "    gs.fit(X_train, y_train)\n",
    "\n",
    "    print(gs.best_params_)\n",
    "    best_model = gs.best_estimator_\n",
    "    best_model.score(X_test_fin, y_test)\n",
    "    y_pred = best_model.predict(X_test_fin)\n",
    "    print('Num features: ', len(columns))\n",
    "    print('Model score: ', best_model.score(X_test_fin, y_test))\n",
    "    print('Model F1: ', f1_score(y_test, y_pred))\n",
    "    print('Cross validation score: ', cross_val_score(best_model, X_test_fin, y_test, cv=5) )\n",
    "    print('Full Classification Report:')\n",
    "    print(classification_report(y_test, y_pred))\n",
    "    fig, ax = plt.subplots(2,1, figsize = [6,8])\n",
    "    plot_confusion_matrix(best_model, X_test_fin, y_test, ax = ax[0])\n",
    "    plot_roc_curve(best_model, X_test_fin, y_test, ax = ax[1])\n",
    "    \n",
    "    return best_model"
   ]
  },
  {
   "cell_type": "markdown",
   "metadata": {
    "ExecuteTime": {
     "end_time": "2021-03-29T10:29:35.564812Z",
     "start_time": "2021-03-29T10:29:34.580666Z"
    }
   },
   "source": [
    "### XGBClassifier With Regression: Squared Error"
   ]
  },
  {
   "cell_type": "code",
   "execution_count": 39,
   "metadata": {
    "ExecuteTime": {
     "end_time": "2021-04-01T08:41:25.244751Z",
     "start_time": "2021-04-01T08:41:25.011828Z"
    }
   },
   "outputs": [
    {
     "name": "stdout",
     "output_type": "stream",
     "text": [
      "Fitting 5 folds for each of 1 candidates, totalling 5 fits\n"
     ]
    },
    {
     "name": "stderr",
     "output_type": "stream",
     "text": [
      "/Users/wax/opt/anaconda3/lib/python3.8/site-packages/sklearn/model_selection/_search.py:918: UserWarning: One or more of the test scores are non-finite: [nan]\n",
      "  warnings.warn(\n",
      "/Users/wax/opt/anaconda3/lib/python3.8/site-packages/xgboost/sklearn.py:888: UserWarning: The use of label encoder in XGBClassifier is deprecated and will be removed in a future release. To remove this warning, do the following: 1) Pass option use_label_encoder=False when constructing XGBClassifier object; and 2) Encode your labels (y) as integers starting with 0, i.e. 0, 1, 2, ..., [num_class - 1].\n",
      "  warnings.warn(label_encoder_deprecation_msg, UserWarning)\n"
     ]
    },
    {
     "ename": "ValueError",
     "evalue": "DataFrame.dtypes for data must be int, float, bool or categorical.  When\n                categorical type is supplied, DMatrix parameter\n                `enable_categorical` must be set to `True`.gender, edu, marital",
     "output_type": "error",
     "traceback": [
      "\u001b[0;31m---------------------------------------------------------------------------\u001b[0m",
      "\u001b[0;31mValueError\u001b[0m                                Traceback (most recent call last)",
      "\u001b[0;32m<ipython-input-39-8e7289040702>\u001b[0m in \u001b[0;36m<module>\u001b[0;34m\u001b[0m\n\u001b[1;32m      1\u001b[0m \u001b[0mgrad_boost\u001b[0m \u001b[0;34m=\u001b[0m \u001b[0mxgboost\u001b[0m\u001b[0;34m.\u001b[0m\u001b[0mXGBClassifier\u001b[0m\u001b[0;34m(\u001b[0m\u001b[0mrandom_state\u001b[0m \u001b[0;34m=\u001b[0m \u001b[0;36m729\u001b[0m\u001b[0;34m,\u001b[0m \u001b[0mobjective\u001b[0m\u001b[0;34m=\u001b[0m\u001b[0;34m'reg:squarederror'\u001b[0m\u001b[0;34m)\u001b[0m\u001b[0;34m\u001b[0m\u001b[0;34m\u001b[0m\u001b[0m\n\u001b[0;32m----> 2\u001b[0;31m \u001b[0mxgb_class\u001b[0m\u001b[0;34m(\u001b[0m\u001b[0mX_res\u001b[0m\u001b[0;34m,\u001b[0m \u001b[0mX_test_fin\u001b[0m\u001b[0;34m,\u001b[0m \u001b[0my_res\u001b[0m\u001b[0;34m,\u001b[0m \u001b[0my_test\u001b[0m\u001b[0;34m)\u001b[0m\u001b[0;34m\u001b[0m\u001b[0;34m\u001b[0m\u001b[0m\n\u001b[0m",
      "\u001b[0;32m<ipython-input-35-fd6fdd1fccc4>\u001b[0m in \u001b[0;36mxgb_class\u001b[0;34m(X_train, X_test, y_train, y_test)\u001b[0m\n\u001b[1;32m     15\u001b[0m                        verbose=2, refit=True)\n\u001b[1;32m     16\u001b[0m \u001b[0;34m\u001b[0m\u001b[0m\n\u001b[0;32m---> 17\u001b[0;31m     \u001b[0mgs\u001b[0m\u001b[0;34m.\u001b[0m\u001b[0mfit\u001b[0m\u001b[0;34m(\u001b[0m\u001b[0mX_train\u001b[0m\u001b[0;34m,\u001b[0m \u001b[0my_train\u001b[0m\u001b[0;34m)\u001b[0m\u001b[0;34m\u001b[0m\u001b[0;34m\u001b[0m\u001b[0m\n\u001b[0m\u001b[1;32m     18\u001b[0m \u001b[0;34m\u001b[0m\u001b[0m\n\u001b[1;32m     19\u001b[0m     \u001b[0mprint\u001b[0m\u001b[0;34m(\u001b[0m\u001b[0mgs\u001b[0m\u001b[0;34m.\u001b[0m\u001b[0mbest_params_\u001b[0m\u001b[0;34m)\u001b[0m\u001b[0;34m\u001b[0m\u001b[0;34m\u001b[0m\u001b[0m\n",
      "\u001b[0;32m~/opt/anaconda3/lib/python3.8/site-packages/sklearn/utils/validation.py\u001b[0m in \u001b[0;36minner_f\u001b[0;34m(*args, **kwargs)\u001b[0m\n\u001b[1;32m     61\u001b[0m             \u001b[0mextra_args\u001b[0m \u001b[0;34m=\u001b[0m \u001b[0mlen\u001b[0m\u001b[0;34m(\u001b[0m\u001b[0margs\u001b[0m\u001b[0;34m)\u001b[0m \u001b[0;34m-\u001b[0m \u001b[0mlen\u001b[0m\u001b[0;34m(\u001b[0m\u001b[0mall_args\u001b[0m\u001b[0;34m)\u001b[0m\u001b[0;34m\u001b[0m\u001b[0;34m\u001b[0m\u001b[0m\n\u001b[1;32m     62\u001b[0m             \u001b[0;32mif\u001b[0m \u001b[0mextra_args\u001b[0m \u001b[0;34m<=\u001b[0m \u001b[0;36m0\u001b[0m\u001b[0;34m:\u001b[0m\u001b[0;34m\u001b[0m\u001b[0;34m\u001b[0m\u001b[0m\n\u001b[0;32m---> 63\u001b[0;31m                 \u001b[0;32mreturn\u001b[0m \u001b[0mf\u001b[0m\u001b[0;34m(\u001b[0m\u001b[0;34m*\u001b[0m\u001b[0margs\u001b[0m\u001b[0;34m,\u001b[0m \u001b[0;34m**\u001b[0m\u001b[0mkwargs\u001b[0m\u001b[0;34m)\u001b[0m\u001b[0;34m\u001b[0m\u001b[0;34m\u001b[0m\u001b[0m\n\u001b[0m\u001b[1;32m     64\u001b[0m \u001b[0;34m\u001b[0m\u001b[0m\n\u001b[1;32m     65\u001b[0m             \u001b[0;31m# extra_args > 0\u001b[0m\u001b[0;34m\u001b[0m\u001b[0;34m\u001b[0m\u001b[0;34m\u001b[0m\u001b[0m\n",
      "\u001b[0;32m~/opt/anaconda3/lib/python3.8/site-packages/sklearn/model_selection/_search.py\u001b[0m in \u001b[0;36mfit\u001b[0;34m(self, X, y, groups, **fit_params)\u001b[0m\n\u001b[1;32m    878\u001b[0m             \u001b[0mrefit_start_time\u001b[0m \u001b[0;34m=\u001b[0m \u001b[0mtime\u001b[0m\u001b[0;34m.\u001b[0m\u001b[0mtime\u001b[0m\u001b[0;34m(\u001b[0m\u001b[0;34m)\u001b[0m\u001b[0;34m\u001b[0m\u001b[0;34m\u001b[0m\u001b[0m\n\u001b[1;32m    879\u001b[0m             \u001b[0;32mif\u001b[0m \u001b[0my\u001b[0m \u001b[0;32mis\u001b[0m \u001b[0;32mnot\u001b[0m \u001b[0;32mNone\u001b[0m\u001b[0;34m:\u001b[0m\u001b[0;34m\u001b[0m\u001b[0;34m\u001b[0m\u001b[0m\n\u001b[0;32m--> 880\u001b[0;31m                 \u001b[0mself\u001b[0m\u001b[0;34m.\u001b[0m\u001b[0mbest_estimator_\u001b[0m\u001b[0;34m.\u001b[0m\u001b[0mfit\u001b[0m\u001b[0;34m(\u001b[0m\u001b[0mX\u001b[0m\u001b[0;34m,\u001b[0m \u001b[0my\u001b[0m\u001b[0;34m,\u001b[0m \u001b[0;34m**\u001b[0m\u001b[0mfit_params\u001b[0m\u001b[0;34m)\u001b[0m\u001b[0;34m\u001b[0m\u001b[0;34m\u001b[0m\u001b[0m\n\u001b[0m\u001b[1;32m    881\u001b[0m             \u001b[0;32melse\u001b[0m\u001b[0;34m:\u001b[0m\u001b[0;34m\u001b[0m\u001b[0;34m\u001b[0m\u001b[0m\n\u001b[1;32m    882\u001b[0m                 \u001b[0mself\u001b[0m\u001b[0;34m.\u001b[0m\u001b[0mbest_estimator_\u001b[0m\u001b[0;34m.\u001b[0m\u001b[0mfit\u001b[0m\u001b[0;34m(\u001b[0m\u001b[0mX\u001b[0m\u001b[0;34m,\u001b[0m \u001b[0;34m**\u001b[0m\u001b[0mfit_params\u001b[0m\u001b[0;34m)\u001b[0m\u001b[0;34m\u001b[0m\u001b[0;34m\u001b[0m\u001b[0m\n",
      "\u001b[0;32m~/opt/anaconda3/lib/python3.8/site-packages/xgboost/core.py\u001b[0m in \u001b[0;36minner_f\u001b[0;34m(*args, **kwargs)\u001b[0m\n\u001b[1;32m    420\u001b[0m         \u001b[0;32mfor\u001b[0m \u001b[0mk\u001b[0m\u001b[0;34m,\u001b[0m \u001b[0marg\u001b[0m \u001b[0;32min\u001b[0m \u001b[0mzip\u001b[0m\u001b[0;34m(\u001b[0m\u001b[0msig\u001b[0m\u001b[0;34m.\u001b[0m\u001b[0mparameters\u001b[0m\u001b[0;34m,\u001b[0m \u001b[0margs\u001b[0m\u001b[0;34m)\u001b[0m\u001b[0;34m:\u001b[0m\u001b[0;34m\u001b[0m\u001b[0;34m\u001b[0m\u001b[0m\n\u001b[1;32m    421\u001b[0m             \u001b[0mkwargs\u001b[0m\u001b[0;34m[\u001b[0m\u001b[0mk\u001b[0m\u001b[0;34m]\u001b[0m \u001b[0;34m=\u001b[0m \u001b[0marg\u001b[0m\u001b[0;34m\u001b[0m\u001b[0;34m\u001b[0m\u001b[0m\n\u001b[0;32m--> 422\u001b[0;31m         \u001b[0;32mreturn\u001b[0m \u001b[0mf\u001b[0m\u001b[0;34m(\u001b[0m\u001b[0;34m**\u001b[0m\u001b[0mkwargs\u001b[0m\u001b[0;34m)\u001b[0m\u001b[0;34m\u001b[0m\u001b[0;34m\u001b[0m\u001b[0m\n\u001b[0m\u001b[1;32m    423\u001b[0m \u001b[0;34m\u001b[0m\u001b[0m\n\u001b[1;32m    424\u001b[0m     \u001b[0;32mreturn\u001b[0m \u001b[0minner_f\u001b[0m\u001b[0;34m\u001b[0m\u001b[0;34m\u001b[0m\u001b[0m\n",
      "\u001b[0;32m~/opt/anaconda3/lib/python3.8/site-packages/xgboost/sklearn.py\u001b[0m in \u001b[0;36mfit\u001b[0;34m(self, X, y, sample_weight, base_margin, eval_set, eval_metric, early_stopping_rounds, verbose, xgb_model, sample_weight_eval_set, feature_weights, callbacks)\u001b[0m\n\u001b[1;32m    901\u001b[0m         \u001b[0mself\u001b[0m\u001b[0;34m.\u001b[0m\u001b[0mn_features_in_\u001b[0m \u001b[0;34m=\u001b[0m \u001b[0mself\u001b[0m\u001b[0;34m.\u001b[0m\u001b[0m_features_count\u001b[0m\u001b[0;34m\u001b[0m\u001b[0;34m\u001b[0m\u001b[0m\n\u001b[1;32m    902\u001b[0m \u001b[0;34m\u001b[0m\u001b[0m\n\u001b[0;32m--> 903\u001b[0;31m         train_dmatrix, evals = self._wrap_evaluation_matrices(\n\u001b[0m\u001b[1;32m    904\u001b[0m             \u001b[0mX\u001b[0m\u001b[0;34m,\u001b[0m \u001b[0my\u001b[0m\u001b[0;34m,\u001b[0m \u001b[0mgroup\u001b[0m\u001b[0;34m=\u001b[0m\u001b[0;32mNone\u001b[0m\u001b[0;34m,\u001b[0m \u001b[0msample_weight\u001b[0m\u001b[0;34m=\u001b[0m\u001b[0msample_weight\u001b[0m\u001b[0;34m,\u001b[0m \u001b[0mbase_margin\u001b[0m\u001b[0;34m=\u001b[0m\u001b[0mbase_margin\u001b[0m\u001b[0;34m,\u001b[0m\u001b[0;34m\u001b[0m\u001b[0;34m\u001b[0m\u001b[0m\n\u001b[1;32m    905\u001b[0m             \u001b[0mfeature_weights\u001b[0m\u001b[0;34m=\u001b[0m\u001b[0mfeature_weights\u001b[0m\u001b[0;34m,\u001b[0m\u001b[0;34m\u001b[0m\u001b[0;34m\u001b[0m\u001b[0m\n",
      "\u001b[0;32m~/opt/anaconda3/lib/python3.8/site-packages/xgboost/sklearn.py\u001b[0m in \u001b[0;36m_wrap_evaluation_matrices\u001b[0;34m(self, X, y, group, sample_weight, base_margin, feature_weights, eval_set, sample_weight_eval_set, eval_group, label_transform)\u001b[0m\n\u001b[1;32m    263\u001b[0m \u001b[0;34m\u001b[0m\u001b[0m\n\u001b[1;32m    264\u001b[0m         \u001b[0my\u001b[0m \u001b[0;34m=\u001b[0m \u001b[0mlabel_transform\u001b[0m\u001b[0;34m(\u001b[0m\u001b[0my\u001b[0m\u001b[0;34m)\u001b[0m\u001b[0;34m\u001b[0m\u001b[0;34m\u001b[0m\u001b[0m\n\u001b[0;32m--> 265\u001b[0;31m         train_dmatrix = DMatrix(data=X, label=y, weight=sample_weight,\n\u001b[0m\u001b[1;32m    266\u001b[0m                                 \u001b[0mbase_margin\u001b[0m\u001b[0;34m=\u001b[0m\u001b[0mbase_margin\u001b[0m\u001b[0;34m,\u001b[0m\u001b[0;34m\u001b[0m\u001b[0;34m\u001b[0m\u001b[0m\n\u001b[1;32m    267\u001b[0m                                 missing=self.missing, nthread=self.n_jobs)\n",
      "\u001b[0;32m~/opt/anaconda3/lib/python3.8/site-packages/xgboost/core.py\u001b[0m in \u001b[0;36m__init__\u001b[0;34m(self, data, label, weight, base_margin, missing, silent, feature_names, feature_types, nthread, enable_categorical)\u001b[0m\n\u001b[1;32m    498\u001b[0m \u001b[0;34m\u001b[0m\u001b[0m\n\u001b[1;32m    499\u001b[0m         \u001b[0;32mfrom\u001b[0m \u001b[0;34m.\u001b[0m\u001b[0mdata\u001b[0m \u001b[0;32mimport\u001b[0m \u001b[0mdispatch_data_backend\u001b[0m\u001b[0;34m\u001b[0m\u001b[0;34m\u001b[0m\u001b[0m\n\u001b[0;32m--> 500\u001b[0;31m         handle, feature_names, feature_types = dispatch_data_backend(\n\u001b[0m\u001b[1;32m    501\u001b[0m             \u001b[0mdata\u001b[0m\u001b[0;34m,\u001b[0m \u001b[0mmissing\u001b[0m\u001b[0;34m=\u001b[0m\u001b[0mself\u001b[0m\u001b[0;34m.\u001b[0m\u001b[0mmissing\u001b[0m\u001b[0;34m,\u001b[0m\u001b[0;34m\u001b[0m\u001b[0;34m\u001b[0m\u001b[0m\n\u001b[1;32m    502\u001b[0m             \u001b[0mthreads\u001b[0m\u001b[0;34m=\u001b[0m\u001b[0mself\u001b[0m\u001b[0;34m.\u001b[0m\u001b[0mnthread\u001b[0m\u001b[0;34m,\u001b[0m\u001b[0;34m\u001b[0m\u001b[0;34m\u001b[0m\u001b[0m\n",
      "\u001b[0;32m~/opt/anaconda3/lib/python3.8/site-packages/xgboost/data.py\u001b[0m in \u001b[0;36mdispatch_data_backend\u001b[0;34m(data, missing, threads, feature_names, feature_types, enable_categorical)\u001b[0m\n\u001b[1;32m    537\u001b[0m         \u001b[0;32mreturn\u001b[0m \u001b[0m_from_tuple\u001b[0m\u001b[0;34m(\u001b[0m\u001b[0mdata\u001b[0m\u001b[0;34m,\u001b[0m \u001b[0mmissing\u001b[0m\u001b[0;34m,\u001b[0m \u001b[0mfeature_names\u001b[0m\u001b[0;34m,\u001b[0m \u001b[0mfeature_types\u001b[0m\u001b[0;34m)\u001b[0m\u001b[0;34m\u001b[0m\u001b[0;34m\u001b[0m\u001b[0m\n\u001b[1;32m    538\u001b[0m     \u001b[0;32mif\u001b[0m \u001b[0m_is_pandas_df\u001b[0m\u001b[0;34m(\u001b[0m\u001b[0mdata\u001b[0m\u001b[0;34m)\u001b[0m\u001b[0;34m:\u001b[0m\u001b[0;34m\u001b[0m\u001b[0;34m\u001b[0m\u001b[0m\n\u001b[0;32m--> 539\u001b[0;31m         return _from_pandas_df(data, enable_categorical, missing, threads,\n\u001b[0m\u001b[1;32m    540\u001b[0m                                feature_names, feature_types)\n\u001b[1;32m    541\u001b[0m     \u001b[0;32mif\u001b[0m \u001b[0m_is_pandas_series\u001b[0m\u001b[0;34m(\u001b[0m\u001b[0mdata\u001b[0m\u001b[0;34m)\u001b[0m\u001b[0;34m:\u001b[0m\u001b[0;34m\u001b[0m\u001b[0;34m\u001b[0m\u001b[0m\n",
      "\u001b[0;32m~/opt/anaconda3/lib/python3.8/site-packages/xgboost/data.py\u001b[0m in \u001b[0;36m_from_pandas_df\u001b[0;34m(data, enable_categorical, missing, nthread, feature_names, feature_types)\u001b[0m\n\u001b[1;32m    240\u001b[0m def _from_pandas_df(data, enable_categorical, missing, nthread,\n\u001b[1;32m    241\u001b[0m                     feature_names, feature_types):\n\u001b[0;32m--> 242\u001b[0;31m     data, feature_names, feature_types = _transform_pandas_df(\n\u001b[0m\u001b[1;32m    243\u001b[0m         data, enable_categorical, feature_names, feature_types)\n\u001b[1;32m    244\u001b[0m     return _from_numpy_array(data, missing, nthread, feature_names,\n",
      "\u001b[0;32m~/opt/anaconda3/lib/python3.8/site-packages/xgboost/data.py\u001b[0m in \u001b[0;36m_transform_pandas_df\u001b[0;34m(data, enable_categorical, feature_names, feature_types, meta, meta_type)\u001b[0m\n\u001b[1;32m    205\u001b[0m                 \u001b[0mcategorical\u001b[0m \u001b[0mtype\u001b[0m \u001b[0;32mis\u001b[0m \u001b[0msupplied\u001b[0m\u001b[0;34m,\u001b[0m \u001b[0mDMatrix\u001b[0m \u001b[0mparameter\u001b[0m\u001b[0;34m\u001b[0m\u001b[0;34m\u001b[0m\u001b[0m\n\u001b[1;32m    206\u001b[0m                 `enable_categorical` must be set to `True`.\"\"\"\n\u001b[0;32m--> 207\u001b[0;31m         \u001b[0;32mraise\u001b[0m \u001b[0mValueError\u001b[0m\u001b[0;34m(\u001b[0m\u001b[0mmsg\u001b[0m \u001b[0;34m+\u001b[0m \u001b[0;34m', '\u001b[0m\u001b[0;34m.\u001b[0m\u001b[0mjoin\u001b[0m\u001b[0;34m(\u001b[0m\u001b[0mbad_fields\u001b[0m\u001b[0;34m)\u001b[0m\u001b[0;34m)\u001b[0m\u001b[0;34m\u001b[0m\u001b[0;34m\u001b[0m\u001b[0m\n\u001b[0m\u001b[1;32m    208\u001b[0m \u001b[0;34m\u001b[0m\u001b[0m\n\u001b[1;32m    209\u001b[0m     \u001b[0;32mif\u001b[0m \u001b[0mfeature_names\u001b[0m \u001b[0;32mis\u001b[0m \u001b[0;32mNone\u001b[0m \u001b[0;32mand\u001b[0m \u001b[0mmeta\u001b[0m \u001b[0;32mis\u001b[0m \u001b[0;32mNone\u001b[0m\u001b[0;34m:\u001b[0m\u001b[0;34m\u001b[0m\u001b[0;34m\u001b[0m\u001b[0m\n",
      "\u001b[0;31mValueError\u001b[0m: DataFrame.dtypes for data must be int, float, bool or categorical.  When\n                categorical type is supplied, DMatrix parameter\n                `enable_categorical` must be set to `True`.gender, edu, marital"
     ]
    }
   ],
   "source": [
    "grad_boost = xgboost.XGBClassifier(random_state = 729, objective='reg:squarederror')\n",
    "xgb_class(X_res, X_test_fin, y_res, y_test)"
   ]
  },
  {
   "cell_type": "markdown",
   "metadata": {
    "ExecuteTime": {
     "end_time": "2021-03-29T10:29:46.615316Z",
     "start_time": "2021-03-29T10:29:45.650097Z"
    }
   },
   "source": [
    "### XGBClassifier With Binary Logistic"
   ]
  },
  {
   "cell_type": "code",
   "execution_count": null,
   "metadata": {
    "ExecuteTime": {
     "end_time": "2021-04-01T08:40:30.242109Z",
     "start_time": "2021-04-01T08:39:56.248Z"
    }
   },
   "outputs": [],
   "source": [
    "grad_boost = xgboost.XGBClassifier(random_state = 729)\n",
    "xgb_class(X_res, X_test_fin, y_res, y_test)"
   ]
  },
  {
   "cell_type": "markdown",
   "metadata": {
    "ExecuteTime": {
     "end_time": "2021-03-29T10:36:12.812964Z",
     "start_time": "2021-03-29T10:36:12.809765Z"
    }
   },
   "source": [
    "### XGBRFClassifier "
   ]
  },
  {
   "cell_type": "code",
   "execution_count": null,
   "metadata": {
    "ExecuteTime": {
     "end_time": "2021-04-01T08:40:30.243709Z",
     "start_time": "2021-04-01T08:39:56.252Z"
    }
   },
   "outputs": [],
   "source": [
    "grad_boost = xgboost.XGBRFClassifier(random_state = 729)\n",
    "xgb_class(X_res, X_test_fin, y_res, y_test)"
   ]
  },
  {
   "cell_type": "markdown",
   "metadata": {},
   "source": [
    "# Model Evaluation"
   ]
  },
  {
   "cell_type": "code",
   "execution_count": null,
   "metadata": {
    "ExecuteTime": {
     "end_time": "2021-04-01T08:40:30.244992Z",
     "start_time": "2021-04-01T08:39:56.255Z"
    }
   },
   "outputs": [],
   "source": [
    "tl = TomekLinks()\n",
    "X_res, y_res = tl.fit_resample(X, y)\n",
    "print('Resampled dataset shape %s' % Counter(y_res))"
   ]
  },
  {
   "cell_type": "code",
   "execution_count": null,
   "metadata": {
    "ExecuteTime": {
     "end_time": "2021-04-01T08:40:30.246713Z",
     "start_time": "2021-04-01T08:39:56.258Z"
    }
   },
   "outputs": [],
   "source": [
    "X_train, X_test, y_train, y_test = train_test_split(\n",
    "    X_res, y_res, test_size=0.5, random_state=729)"
   ]
  },
  {
   "cell_type": "code",
   "execution_count": null,
   "metadata": {
    "ExecuteTime": {
     "end_time": "2021-04-01T08:40:30.247958Z",
     "start_time": "2021-04-01T08:39:56.260Z"
    }
   },
   "outputs": [],
   "source": [
    "# def prep_train_test(X_train, X_test):\n",
    "ss = StandardScaler()\n",
    "\n",
    "# prep train\n",
    "X_train_nums = X_train.select_dtypes(['int64','float64'])\n",
    "ss.fit(X_train_nums)\n",
    "nums_df = pd.DataFrame(ss.transform(X_train_nums),\n",
    "                      index=X_train_nums.index)\n",
    "\n",
    "X_train_cat = X_train.select_dtypes('object')\n",
    "ohe = OneHotEncoder(\n",
    "        drop='first',\n",
    "#     handle_unknown='ignore',\n",
    "    sparse=False)\n",
    "\n",
    "dums = ohe.fit_transform(X_train_cat)\n",
    "dums_df = pd.DataFrame(dums,\n",
    "                       columns=ohe.get_feature_names(),\n",
    "                       index=X_train_cat.index)\n",
    "\n",
    "X_train_fin = pd.concat([nums_df,\n",
    "             dums_df], axis=1)\n",
    "\n",
    "# prep test\n",
    "X_test_cat = X_test.select_dtypes('object')\n",
    "test_dums = ohe.transform(X_test_cat)\n",
    "test_dums_df = pd.DataFrame(test_dums,\n",
    "                       columns=ohe.get_feature_names(),\n",
    "                      index=X_test_cat.index)\n",
    "\n",
    "X_test_nums = X_test.select_dtypes(['int64','float64'])\n",
    "test_nums = ss.transform(X_test_nums)\n",
    "test_nums_df = pd.DataFrame(test_nums,\n",
    "                           index=X_test_nums.index)\n",
    "X_test_fin = pd.concat([test_nums_df,\n",
    "             test_dums_df], axis=1)\n",
    "\n",
    "# return X_train_fin, X_test_fin"
   ]
  },
  {
   "cell_type": "markdown",
   "metadata": {},
   "source": [
    "# Final Model"
   ]
  },
  {
   "cell_type": "code",
   "execution_count": null,
   "metadata": {
    "ExecuteTime": {
     "end_time": "2021-04-01T08:40:30.249489Z",
     "start_time": "2021-04-01T08:39:56.265Z"
    }
   },
   "outputs": [],
   "source": [
    "grad_boost = xgboost.XGBClassifier(random_state = 729)\n",
    "final_model = xgb_class(X_train_fin, X_test_fin, y_train, y_test)"
   ]
  },
  {
   "cell_type": "code",
   "execution_count": null,
   "metadata": {
    "ExecuteTime": {
     "end_time": "2021-04-01T08:40:30.250918Z",
     "start_time": "2021-04-01T08:39:56.269Z"
    }
   },
   "outputs": [],
   "source": [
    "df_test = pd.read_csv('holdout_data.csv' , index_col=0)"
   ]
  },
  {
   "cell_type": "code",
   "execution_count": null,
   "metadata": {
    "ExecuteTime": {
     "end_time": "2021-04-01T08:40:30.252529Z",
     "start_time": "2021-04-01T08:39:56.272Z"
    }
   },
   "outputs": [],
   "source": [
    "df_test.rename(columns={'X1': 'credit', 'X2': 'gender', 'X3': 'edu', 'X4': 'marital', 'X5': 'age',\n",
    "                   'X6': 'sep', 'X7': 'aug', 'X8': 'jul', 'X9': 'jun', 'X10': 'may', 'X11': 'apr',\n",
    "                   'X12': 'sep_s', 'X13': 'aug_s', 'X14': 'jul_s', 'X15': 'jun_s', 'X16': 'may_s',\n",
    "                   'X17': 'apr_s', 'X18': 'sep_p', 'X19': 'aug_p', 'X20': 'jul_p', 'X21': 'jun_p',\n",
    "                   'X22': 'may_p', 'X23': 'apr_p'}, inplace=True)\n",
    "cat_columns = ['gender', 'edu', 'marital']\n",
    "for col in cat_columns:\n",
    "    df_test[col] = df_test[col].astype(object)\n",
    "df_test.index = df_test.index.astype(int)"
   ]
  },
  {
   "cell_type": "code",
   "execution_count": null,
   "metadata": {
    "ExecuteTime": {
     "end_time": "2021-04-01T08:40:30.254123Z",
     "start_time": "2021-04-01T08:39:56.274Z"
    }
   },
   "outputs": [],
   "source": [
    "months_list = ['sep','aug','jul','jun','may','apr']\n",
    "df_test['all_months'] = df_test[months_list].sum(axis=1)\n",
    "\n",
    "months_statement_list = ['aug_s','jul_s','jun_s','may_s','apr_s']\n",
    "df_test['statement_mean_per_credit'] = df_test[months_statement_list].mean(axis=1)/df_test.credit\n",
    "\n",
    "months_payment_list = ['sep_p','aug_p','jul_p','jun_p','may_p']\n",
    "df_test['statement_payment'] = ( df_test[months_statement_list].sum(axis=1) - \\\n",
    "                            df_test[months_payment_list].sum(axis=1) ) / df_test.credit"
   ]
  },
  {
   "cell_type": "code",
   "execution_count": null,
   "metadata": {
    "ExecuteTime": {
     "end_time": "2021-04-01T08:40:30.255366Z",
     "start_time": "2021-04-01T08:39:56.276Z"
    }
   },
   "outputs": [],
   "source": [
    "df_test.info()"
   ]
  },
  {
   "cell_type": "code",
   "execution_count": null,
   "metadata": {
    "ExecuteTime": {
     "end_time": "2021-04-01T08:40:30.257063Z",
     "start_time": "2021-04-01T08:39:56.280Z"
    }
   },
   "outputs": [],
   "source": [
    "X_test = df_test"
   ]
  },
  {
   "cell_type": "code",
   "execution_count": null,
   "metadata": {
    "ExecuteTime": {
     "end_time": "2021-04-01T08:40:30.258739Z",
     "start_time": "2021-04-01T08:39:56.283Z"
    }
   },
   "outputs": [],
   "source": [
    "X_test.age.value_counts().size"
   ]
  },
  {
   "cell_type": "code",
   "execution_count": null,
   "metadata": {
    "ExecuteTime": {
     "end_time": "2021-04-01T08:40:30.260340Z",
     "start_time": "2021-04-01T08:39:56.286Z"
    }
   },
   "outputs": [],
   "source": [
    "X_test_cat = X_test.select_dtypes('object')\n",
    "test_dums = ohe.transform(X_test_cat)\n",
    "test_dums_df = pd.DataFrame(test_dums,\n",
    "                       columns=ohe.get_feature_names(),\n",
    "                      index=X_test_cat.index)\n",
    "\n",
    "X_test_nums = X_test.select_dtypes(['int64','float64'])\n",
    "test_nums = ss.transform(X_test_nums)\n",
    "test_nums_df = pd.DataFrame(test_nums,\n",
    "                           index=X_test_nums.index)\n",
    "X_fin = pd.concat([test_nums_df,\n",
    "             test_dums_df], axis=1)"
   ]
  },
  {
   "cell_type": "code",
   "execution_count": null,
   "metadata": {
    "ExecuteTime": {
     "end_time": "2021-04-01T08:40:30.261693Z",
     "start_time": "2021-04-01T08:39:56.288Z"
    }
   },
   "outputs": [],
   "source": [
    "y_pred = final_model.predict(X_fin)"
   ]
  },
  {
   "cell_type": "code",
   "execution_count": null,
   "metadata": {
    "ExecuteTime": {
     "end_time": "2021-04-01T08:40:30.263407Z",
     "start_time": "2021-04-01T08:39:56.291Z"
    }
   },
   "outputs": [],
   "source": [
    "y_pred.size"
   ]
  },
  {
   "cell_type": "code",
   "execution_count": null,
   "metadata": {
    "ExecuteTime": {
     "end_time": "2021-04-01T08:40:30.264656Z",
     "start_time": "2021-04-01T08:39:56.294Z"
    }
   },
   "outputs": [],
   "source": [
    "pred_df = pd.DataFrame(y_pred)\n",
    "pred_df.to_csv('cred_preds_wei_alex_xin.csv')"
   ]
  },
  {
   "cell_type": "code",
   "execution_count": null,
   "metadata": {
    "ExecuteTime": {
     "end_time": "2021-04-01T08:40:30.266129Z",
     "start_time": "2021-04-01T08:39:56.297Z"
    }
   },
   "outputs": [],
   "source": [
    "with open('cred_preds_wei_alex_xin.csv', mode = 'w') as csv_file:\n",
    "    csv_writer = csv.writer(csv_file, delimiter = '\\n')\n",
    "    csv_writer.writerow(['Y'])\n",
    "    csv_writer.writerow(y_pred)"
   ]
  },
  {
   "cell_type": "code",
   "execution_count": null,
   "metadata": {},
   "outputs": [],
   "source": []
  }
 ],
 "metadata": {
  "kernelspec": {
   "display_name": "Python 3",
   "language": "python",
   "name": "python3"
  },
  "language_info": {
   "codemirror_mode": {
    "name": "ipython",
    "version": 3
   },
   "file_extension": ".py",
   "mimetype": "text/x-python",
   "name": "python",
   "nbconvert_exporter": "python",
   "pygments_lexer": "ipython3",
   "version": "3.8.3"
  },
  "toc": {
   "base_numbering": 1,
   "nav_menu": {},
   "number_sections": true,
   "sideBar": true,
   "skip_h1_title": false,
   "title_cell": "Table of Contents",
   "title_sidebar": "Contents",
   "toc_cell": false,
   "toc_position": {
    "height": "calc(100% - 180px)",
    "left": "10px",
    "top": "150px",
    "width": "305.438px"
   },
   "toc_section_display": true,
   "toc_window_display": true
  }
 },
 "nbformat": 4,
 "nbformat_minor": 2
}
