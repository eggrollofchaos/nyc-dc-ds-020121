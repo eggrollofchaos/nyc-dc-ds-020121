{
 "cells": [
  {
   "cell_type": "markdown",
   "metadata": {},
   "source": [
    "# Modeling Walkthrough\n",
    "\n",
    "## Agenda\n",
    "\n",
    "The goal here is to illustrate a possible workflow for classification modeling with `sklearn`'s `LogisticRegression` model.\n",
    "\n",
    "SWBAT:\n",
    "\n",
    "- formulate and implement an iterative modeling workflow."
   ]
  },
  {
   "cell_type": "code",
   "execution_count": 1,
   "metadata": {},
   "outputs": [],
   "source": [
    "import pandas as pd\n",
    "import numpy as np\n",
    "\n",
    "import matplotlib.pyplot as plt\n",
    "import seaborn as sns\n",
    "\n",
    "from sklearn.preprocessing import OneHotEncoder, StandardScaler\n",
    "\n",
    "from sklearn.impute import MissingIndicator, SimpleImputer\n",
    "\n",
    "from sklearn.dummy import DummyClassifier\n",
    "from sklearn.linear_model import LogisticRegression\n",
    "\n",
    "from sklearn.model_selection import train_test_split, cross_val_score\n",
    "from sklearn.feature_selection import SelectFromModel\n",
    "\n",
    "# plot_confusion_matrix is a handy visual tool, added in the latest version of scikit-learn\n",
    "# if you are running an older version, comment out this line and just use confusion_matrix\n",
    "from sklearn.metrics import plot_confusion_matrix\n",
    "from sklearn.metrics import confusion_matrix\n",
    "from sklearn.metrics import plot_roc_curve"
   ]
  },
  {
   "cell_type": "markdown",
   "metadata": {},
   "source": [
    "## Modeling Steps\n",
    "\n",
    "1. Build a model based on the [Titanic dataset](https://www.kaggle.com/c/titanic/data) that predicts whether a given person survived or not\n",
    "2. Evaluate the performance of the model\n",
    "3. Make changes in an attempt to improve the model\n",
    "4. Demonstrate whether an improvement was made"
   ]
  },
  {
   "cell_type": "markdown",
   "metadata": {},
   "source": [
    "## The Data\n",
    "\n",
    "This dataset has the following columns:\n",
    "\n",
    "| Variable | Definition | Key |\n",
    "| -------- | ---------- | --- |\n",
    "| survival | Survival | 0 = No, 1 = Yes |\n",
    "| pclass | Ticket class | 1 = 1st, 2 = 2nd, 3 = 3rd |\n",
    "| sex | Sex | |\n",
    "| Age | Age in years | |\n",
    "| sibsp | # of siblings / spouses aboard the Titanic | |\n",
    "| parch | # of parents / children aboard the Titanic | |\n",
    "| ticket | Ticket number | |\n",
    "| fare | Passenger fare | |\n",
    "| cabin | Cabin number | |\n",
    "| embarked | Port of Embarkation | C = Cherbourg, Q = Queenstown, S = Southampton |"
   ]
  },
  {
   "cell_type": "markdown",
   "metadata": {},
   "source": [
    "## Initial Data Understanding and Preparation\n",
    "\n",
    "Open up the file, get everything into `X` features and `y` target variables, divided into train and test."
   ]
  },
  {
   "cell_type": "code",
   "execution_count": 2,
   "metadata": {},
   "outputs": [],
   "source": [
    "df = pd.read_csv(\"titanic.csv\")"
   ]
  },
  {
   "cell_type": "code",
   "execution_count": 3,
   "metadata": {},
   "outputs": [
    {
     "data": {
      "text/html": [
       "<div>\n",
       "<style scoped>\n",
       "    .dataframe tbody tr th:only-of-type {\n",
       "        vertical-align: middle;\n",
       "    }\n",
       "\n",
       "    .dataframe tbody tr th {\n",
       "        vertical-align: top;\n",
       "    }\n",
       "\n",
       "    .dataframe thead th {\n",
       "        text-align: right;\n",
       "    }\n",
       "</style>\n",
       "<table border=\"1\" class=\"dataframe\">\n",
       "  <thead>\n",
       "    <tr style=\"text-align: right;\">\n",
       "      <th></th>\n",
       "      <th>PassengerId</th>\n",
       "      <th>Survived</th>\n",
       "      <th>Pclass</th>\n",
       "      <th>Name</th>\n",
       "      <th>Sex</th>\n",
       "      <th>Age</th>\n",
       "      <th>SibSp</th>\n",
       "      <th>Parch</th>\n",
       "      <th>Ticket</th>\n",
       "      <th>Fare</th>\n",
       "      <th>Cabin</th>\n",
       "      <th>Embarked</th>\n",
       "    </tr>\n",
       "  </thead>\n",
       "  <tbody>\n",
       "    <tr>\n",
       "      <th>0</th>\n",
       "      <td>1</td>\n",
       "      <td>0</td>\n",
       "      <td>3</td>\n",
       "      <td>Braund, Mr. Owen Harris</td>\n",
       "      <td>male</td>\n",
       "      <td>22.0</td>\n",
       "      <td>1</td>\n",
       "      <td>0</td>\n",
       "      <td>A/5 21171</td>\n",
       "      <td>7.2500</td>\n",
       "      <td>NaN</td>\n",
       "      <td>S</td>\n",
       "    </tr>\n",
       "    <tr>\n",
       "      <th>1</th>\n",
       "      <td>2</td>\n",
       "      <td>1</td>\n",
       "      <td>1</td>\n",
       "      <td>Cumings, Mrs. John Bradley (Florence Briggs Th...</td>\n",
       "      <td>female</td>\n",
       "      <td>38.0</td>\n",
       "      <td>1</td>\n",
       "      <td>0</td>\n",
       "      <td>PC 17599</td>\n",
       "      <td>71.2833</td>\n",
       "      <td>C85</td>\n",
       "      <td>C</td>\n",
       "    </tr>\n",
       "    <tr>\n",
       "      <th>2</th>\n",
       "      <td>3</td>\n",
       "      <td>1</td>\n",
       "      <td>3</td>\n",
       "      <td>Heikkinen, Miss. Laina</td>\n",
       "      <td>female</td>\n",
       "      <td>26.0</td>\n",
       "      <td>0</td>\n",
       "      <td>0</td>\n",
       "      <td>STON/O2. 3101282</td>\n",
       "      <td>7.9250</td>\n",
       "      <td>NaN</td>\n",
       "      <td>S</td>\n",
       "    </tr>\n",
       "    <tr>\n",
       "      <th>3</th>\n",
       "      <td>4</td>\n",
       "      <td>1</td>\n",
       "      <td>1</td>\n",
       "      <td>Futrelle, Mrs. Jacques Heath (Lily May Peel)</td>\n",
       "      <td>female</td>\n",
       "      <td>35.0</td>\n",
       "      <td>1</td>\n",
       "      <td>0</td>\n",
       "      <td>113803</td>\n",
       "      <td>53.1000</td>\n",
       "      <td>C123</td>\n",
       "      <td>S</td>\n",
       "    </tr>\n",
       "    <tr>\n",
       "      <th>4</th>\n",
       "      <td>5</td>\n",
       "      <td>0</td>\n",
       "      <td>3</td>\n",
       "      <td>Allen, Mr. William Henry</td>\n",
       "      <td>male</td>\n",
       "      <td>35.0</td>\n",
       "      <td>0</td>\n",
       "      <td>0</td>\n",
       "      <td>373450</td>\n",
       "      <td>8.0500</td>\n",
       "      <td>NaN</td>\n",
       "      <td>S</td>\n",
       "    </tr>\n",
       "  </tbody>\n",
       "</table>\n",
       "</div>"
      ],
      "text/plain": [
       "   PassengerId  Survived  Pclass  \\\n",
       "0            1         0       3   \n",
       "1            2         1       1   \n",
       "2            3         1       3   \n",
       "3            4         1       1   \n",
       "4            5         0       3   \n",
       "\n",
       "                                                Name     Sex   Age  SibSp  \\\n",
       "0                            Braund, Mr. Owen Harris    male  22.0      1   \n",
       "1  Cumings, Mrs. John Bradley (Florence Briggs Th...  female  38.0      1   \n",
       "2                             Heikkinen, Miss. Laina  female  26.0      0   \n",
       "3       Futrelle, Mrs. Jacques Heath (Lily May Peel)  female  35.0      1   \n",
       "4                           Allen, Mr. William Henry    male  35.0      0   \n",
       "\n",
       "   Parch            Ticket     Fare Cabin Embarked  \n",
       "0      0         A/5 21171   7.2500   NaN        S  \n",
       "1      0          PC 17599  71.2833   C85        C  \n",
       "2      0  STON/O2. 3101282   7.9250   NaN        S  \n",
       "3      0            113803  53.1000  C123        S  \n",
       "4      0            373450   8.0500   NaN        S  "
      ]
     },
     "execution_count": 3,
     "metadata": {},
     "output_type": "execute_result"
    }
   ],
   "source": [
    "df.head()"
   ]
  },
  {
   "cell_type": "code",
   "execution_count": 4,
   "metadata": {},
   "outputs": [
    {
     "data": {
      "text/html": [
       "<div>\n",
       "<style scoped>\n",
       "    .dataframe tbody tr th:only-of-type {\n",
       "        vertical-align: middle;\n",
       "    }\n",
       "\n",
       "    .dataframe tbody tr th {\n",
       "        vertical-align: top;\n",
       "    }\n",
       "\n",
       "    .dataframe thead th {\n",
       "        text-align: right;\n",
       "    }\n",
       "</style>\n",
       "<table border=\"1\" class=\"dataframe\">\n",
       "  <thead>\n",
       "    <tr style=\"text-align: right;\">\n",
       "      <th></th>\n",
       "      <th>PassengerId</th>\n",
       "      <th>Survived</th>\n",
       "      <th>Pclass</th>\n",
       "      <th>Age</th>\n",
       "      <th>SibSp</th>\n",
       "      <th>Parch</th>\n",
       "      <th>Fare</th>\n",
       "    </tr>\n",
       "  </thead>\n",
       "  <tbody>\n",
       "    <tr>\n",
       "      <th>count</th>\n",
       "      <td>891.000000</td>\n",
       "      <td>891.000000</td>\n",
       "      <td>891.000000</td>\n",
       "      <td>714.000000</td>\n",
       "      <td>891.000000</td>\n",
       "      <td>891.000000</td>\n",
       "      <td>891.000000</td>\n",
       "    </tr>\n",
       "    <tr>\n",
       "      <th>mean</th>\n",
       "      <td>446.000000</td>\n",
       "      <td>0.383838</td>\n",
       "      <td>2.308642</td>\n",
       "      <td>29.699118</td>\n",
       "      <td>0.523008</td>\n",
       "      <td>0.381594</td>\n",
       "      <td>32.204208</td>\n",
       "    </tr>\n",
       "    <tr>\n",
       "      <th>std</th>\n",
       "      <td>257.353842</td>\n",
       "      <td>0.486592</td>\n",
       "      <td>0.836071</td>\n",
       "      <td>14.526497</td>\n",
       "      <td>1.102743</td>\n",
       "      <td>0.806057</td>\n",
       "      <td>49.693429</td>\n",
       "    </tr>\n",
       "    <tr>\n",
       "      <th>min</th>\n",
       "      <td>1.000000</td>\n",
       "      <td>0.000000</td>\n",
       "      <td>1.000000</td>\n",
       "      <td>0.420000</td>\n",
       "      <td>0.000000</td>\n",
       "      <td>0.000000</td>\n",
       "      <td>0.000000</td>\n",
       "    </tr>\n",
       "    <tr>\n",
       "      <th>25%</th>\n",
       "      <td>223.500000</td>\n",
       "      <td>0.000000</td>\n",
       "      <td>2.000000</td>\n",
       "      <td>20.125000</td>\n",
       "      <td>0.000000</td>\n",
       "      <td>0.000000</td>\n",
       "      <td>7.910400</td>\n",
       "    </tr>\n",
       "    <tr>\n",
       "      <th>50%</th>\n",
       "      <td>446.000000</td>\n",
       "      <td>0.000000</td>\n",
       "      <td>3.000000</td>\n",
       "      <td>28.000000</td>\n",
       "      <td>0.000000</td>\n",
       "      <td>0.000000</td>\n",
       "      <td>14.454200</td>\n",
       "    </tr>\n",
       "    <tr>\n",
       "      <th>75%</th>\n",
       "      <td>668.500000</td>\n",
       "      <td>1.000000</td>\n",
       "      <td>3.000000</td>\n",
       "      <td>38.000000</td>\n",
       "      <td>1.000000</td>\n",
       "      <td>0.000000</td>\n",
       "      <td>31.000000</td>\n",
       "    </tr>\n",
       "    <tr>\n",
       "      <th>max</th>\n",
       "      <td>891.000000</td>\n",
       "      <td>1.000000</td>\n",
       "      <td>3.000000</td>\n",
       "      <td>80.000000</td>\n",
       "      <td>8.000000</td>\n",
       "      <td>6.000000</td>\n",
       "      <td>512.329200</td>\n",
       "    </tr>\n",
       "  </tbody>\n",
       "</table>\n",
       "</div>"
      ],
      "text/plain": [
       "       PassengerId    Survived      Pclass         Age       SibSp  \\\n",
       "count   891.000000  891.000000  891.000000  714.000000  891.000000   \n",
       "mean    446.000000    0.383838    2.308642   29.699118    0.523008   \n",
       "std     257.353842    0.486592    0.836071   14.526497    1.102743   \n",
       "min       1.000000    0.000000    1.000000    0.420000    0.000000   \n",
       "25%     223.500000    0.000000    2.000000   20.125000    0.000000   \n",
       "50%     446.000000    0.000000    3.000000   28.000000    0.000000   \n",
       "75%     668.500000    1.000000    3.000000   38.000000    1.000000   \n",
       "max     891.000000    1.000000    3.000000   80.000000    8.000000   \n",
       "\n",
       "            Parch        Fare  \n",
       "count  891.000000  891.000000  \n",
       "mean     0.381594   32.204208  \n",
       "std      0.806057   49.693429  \n",
       "min      0.000000    0.000000  \n",
       "25%      0.000000    7.910400  \n",
       "50%      0.000000   14.454200  \n",
       "75%      0.000000   31.000000  \n",
       "max      6.000000  512.329200  "
      ]
     },
     "execution_count": 4,
     "metadata": {},
     "output_type": "execute_result"
    }
   ],
   "source": [
    "df.describe()"
   ]
  },
  {
   "cell_type": "code",
   "execution_count": 5,
   "metadata": {},
   "outputs": [
    {
     "data": {
      "text/plain": [
       "177"
      ]
     },
     "execution_count": 5,
     "metadata": {},
     "output_type": "execute_result"
    }
   ],
   "source": [
    "df.isna().sum()['Age']"
   ]
  },
  {
   "cell_type": "markdown",
   "metadata": {},
   "source": [
    "Age data is missing for about 1 in 9 rows in our dataset.  For now, let's just exclude it, plus the non-numeric columns, and `PassengerId`, which doesn't seem like a real feature, but rather just an artifact of the dataset."
   ]
  },
  {
   "cell_type": "code",
   "execution_count": 6,
   "metadata": {},
   "outputs": [],
   "source": [
    "df = df.drop(\"PassengerId\", axis=1)"
   ]
  },
  {
   "cell_type": "code",
   "execution_count": 7,
   "metadata": {},
   "outputs": [
    {
     "data": {
      "text/plain": [
       "Survived      int64\n",
       "Pclass        int64\n",
       "Name         object\n",
       "Sex          object\n",
       "Age         float64\n",
       "SibSp         int64\n",
       "Parch         int64\n",
       "Ticket       object\n",
       "Fare        float64\n",
       "Cabin        object\n",
       "Embarked     object\n",
       "dtype: object"
      ]
     },
     "execution_count": 7,
     "metadata": {},
     "output_type": "execute_result"
    }
   ],
   "source": [
    "df.dtypes"
   ]
  },
  {
   "cell_type": "code",
   "execution_count": 8,
   "metadata": {},
   "outputs": [],
   "source": [
    "# Pclass are numbers but it's not clear that the difference between 1st and 2nd is the\n",
    "# same as the difference between 2nd and 3rd\n",
    "numeric_columns = [\"Survived\", \"SibSp\", \"Parch\", \"Fare\"]"
   ]
  },
  {
   "cell_type": "code",
   "execution_count": 9,
   "metadata": {},
   "outputs": [
    {
     "data": {
      "image/png": "[encoded data removed]",
      "text/plain": [
       "<Figure size 720x720 with 20 Axes>"
      ]
     },
     "metadata": {
      "needs_background": "light"
     },
     "output_type": "display_data"
    }
   ],
   "source": [
    "sns.pairplot(df[numeric_columns]);"
   ]
  },
  {
   "cell_type": "code",
   "execution_count": 10,
   "metadata": {},
   "outputs": [],
   "source": [
    "numeric_df = df[numeric_columns]\n",
    "X = numeric_df.drop(\"Survived\", axis=1)\n",
    "y = numeric_df[\"Survived\"]\n",
    "X_train, X_test, y_train, y_test = train_test_split(X, y, random_state=2021)"
   ]
  },
  {
   "cell_type": "markdown",
   "metadata": {},
   "source": [
    "## Modeling\n",
    "\n",
    "Let's start with a completely \"dummy\" model, that will always choose the majority class."
   ]
  },
  {
   "cell_type": "code",
   "execution_count": 11,
   "metadata": {},
   "outputs": [],
   "source": [
    "dummy_model = DummyClassifier(strategy=\"most_frequent\")"
   ]
  },
  {
   "cell_type": "markdown",
   "metadata": {},
   "source": [
    "Fit the model on our data"
   ]
  },
  {
   "cell_type": "code",
   "execution_count": 12,
   "metadata": {},
   "outputs": [
    {
     "data": {
      "text/plain": [
       "DummyClassifier(strategy='most_frequent')"
      ]
     },
     "execution_count": 12,
     "metadata": {},
     "output_type": "execute_result"
    }
   ],
   "source": [
    "dummy_model.fit(X_train, y_train)"
   ]
  },
  {
   "cell_type": "markdown",
   "metadata": {},
   "source": [
    "We should expect all predictions to be the same"
   ]
  },
  {
   "cell_type": "code",
   "execution_count": 13,
   "metadata": {},
   "outputs": [
    {
     "data": {
      "text/plain": [
       "array([0, 0, 0, 0, 0, 0, 0, 0, 0, 0, 0, 0, 0, 0, 0, 0, 0, 0, 0, 0, 0, 0,\n",
       "       0, 0, 0, 0, 0, 0, 0, 0, 0, 0, 0, 0, 0, 0, 0, 0, 0, 0, 0, 0, 0, 0,\n",
       "       0, 0, 0, 0, 0, 0])"
      ]
     },
     "execution_count": 13,
     "metadata": {},
     "output_type": "execute_result"
    }
   ],
   "source": [
    "# just grabbing the first 50 to save space\n",
    "dummy_model.predict(X_train)[:50]"
   ]
  },
  {
   "cell_type": "markdown",
   "metadata": {},
   "source": [
    "## Model Evaluation"
   ]
  },
  {
   "cell_type": "code",
   "execution_count": 14,
   "metadata": {},
   "outputs": [
    {
     "data": {
      "text/plain": [
       "array([0.61883408, 0.61883408, 0.62162162])"
      ]
     },
     "execution_count": 14,
     "metadata": {},
     "output_type": "execute_result"
    }
   ],
   "source": [
    "cross_val_score(dummy_model, X_train, y_train, cv=3)"
   ]
  },
  {
   "cell_type": "markdown",
   "metadata": {},
   "source": [
    "So, the mean accuracy is a little over 62% if we always guess the majority class."
   ]
  },
  {
   "cell_type": "code",
   "execution_count": 15,
   "metadata": {},
   "outputs": [
    {
     "data": {
      "image/png": "[encoded data removed]",
      "text/plain": [
       "<Figure size 432x288 with 2 Axes>"
      ]
     },
     "metadata": {
      "needs_background": "light"
     },
     "output_type": "display_data"
    }
   ],
   "source": [
    "fig, ax = plt.subplots()\n",
    "\n",
    "fig.suptitle(\"Dummy Model\")\n",
    "\n",
    "plot_confusion_matrix(dummy_model, X_train, y_train, ax=ax, cmap=\"plasma\");"
   ]
  },
  {
   "cell_type": "code",
   "execution_count": 16,
   "metadata": {},
   "outputs": [
    {
     "data": {
      "text/plain": [
       "array([[414,   0],\n",
       "       [254,   0]])"
      ]
     },
     "execution_count": 16,
     "metadata": {},
     "output_type": "execute_result"
    }
   ],
   "source": [
    "# just the numbers (this should work even with older scikit-learn)\n",
    "confusion_matrix(y_train, dummy_model.predict(X_train))"
   ]
  },
  {
   "cell_type": "markdown",
   "metadata": {},
   "source": [
    "A pretty lopsided confusion matrix!"
   ]
  },
  {
   "cell_type": "markdown",
   "metadata": {},
   "source": [
    "## Modeling, Part 2\n",
    "\n",
    "Let's use a logistic regression and compare its performance."
   ]
  },
  {
   "cell_type": "code",
   "execution_count": 17,
   "metadata": {},
   "outputs": [],
   "source": [
    "simple_logreg_model = LogisticRegression(random_state=2021)"
   ]
  },
  {
   "cell_type": "code",
   "execution_count": 18,
   "metadata": {},
   "outputs": [
    {
     "data": {
      "text/plain": [
       "LogisticRegression(random_state=2021)"
      ]
     },
     "execution_count": 18,
     "metadata": {},
     "output_type": "execute_result"
    }
   ],
   "source": [
    "simple_logreg_model.fit(X_train, y_train)"
   ]
  },
  {
   "cell_type": "markdown",
   "metadata": {},
   "source": [
    "Look at the predictions:"
   ]
  },
  {
   "cell_type": "code",
   "execution_count": 19,
   "metadata": {},
   "outputs": [
    {
     "data": {
      "text/plain": [
       "array([0, 0, 0, 0, 0, 0, 0, 1, 0, 0, 0, 0, 0, 1, 0, 1, 0, 0, 0, 0, 0, 0,\n",
       "       0, 0, 0, 0, 0, 0, 0, 0, 0, 0, 0, 0, 0, 0, 0, 0, 0, 0, 1, 0, 0, 0,\n",
       "       0, 0, 1, 0, 0, 0])"
      ]
     },
     "execution_count": 19,
     "metadata": {},
     "output_type": "execute_result"
    }
   ],
   "source": [
    "simple_logreg_model.predict(X_train)[:50]"
   ]
  },
  {
   "cell_type": "markdown",
   "metadata": {},
   "source": [
    "Mixture of 1s and 0s this time"
   ]
  },
  {
   "cell_type": "markdown",
   "metadata": {},
   "source": [
    "## Model Evaluation, Part 2"
   ]
  },
  {
   "cell_type": "code",
   "execution_count": 20,
   "metadata": {},
   "outputs": [
    {
     "data": {
      "text/plain": [
       "array([0.66816143, 0.69058296, 0.68468468])"
      ]
     },
     "execution_count": 20,
     "metadata": {},
     "output_type": "execute_result"
    }
   ],
   "source": [
    "cross_val_score(simple_logreg_model, X_train, y_train, cv=3)"
   ]
  },
  {
   "cell_type": "markdown",
   "metadata": {},
   "source": [
    "So the mean accuracy is closer to 70% if the model is actually taking in information from the features instead of always guessing the majority class."
   ]
  },
  {
   "cell_type": "code",
   "execution_count": 21,
   "metadata": {},
   "outputs": [
    {
     "data": {
      "image/png": "[encoded data removed]",
      "text/plain": [
       "<Figure size 432x288 with 2 Axes>"
      ]
     },
     "metadata": {
      "needs_background": "light"
     },
     "output_type": "display_data"
    }
   ],
   "source": [
    "fig, ax = plt.subplots()\n",
    "\n",
    "fig.suptitle(\"Logistic Regression with Numeric Features Only\")\n",
    "\n",
    "plot_confusion_matrix(simple_logreg_model, X_train, y_train, ax=ax, cmap=\"plasma\");"
   ]
  },
  {
   "cell_type": "code",
   "execution_count": 22,
   "metadata": {},
   "outputs": [
    {
     "data": {
      "text/plain": [
       "array([[386,  28],\n",
       "       [185,  69]])"
      ]
     },
     "execution_count": 22,
     "metadata": {},
     "output_type": "execute_result"
    }
   ],
   "source": [
    "confusion_matrix(y_train, simple_logreg_model.predict(X_train))"
   ]
  },
  {
   "cell_type": "markdown",
   "metadata": {},
   "source": [
    "So, in general we are not labeling many of the \"not survived\" passengers as \"survived\", but for \"survived\" passengers we're getting it wrong most of the time."
   ]
  },
  {
   "cell_type": "markdown",
   "metadata": {},
   "source": [
    "## Data Preparation, Part 2\n",
    "\n",
    "Maybe there is some useful information in the features we are not using yet.  Let's go wild and add all of them!\n",
    "\n",
    "Note: you can and should add features incrementally in a \"real\" modeling context.  The engineering effort of encoding the variables can be non-trivial!  But here let's assume that it's not too much work to encode all of them.\n",
    "\n",
    "Start with a new train-test split that contains all of the features"
   ]
  },
  {
   "cell_type": "code",
   "execution_count": 23,
   "metadata": {},
   "outputs": [],
   "source": [
    "X = df.drop(\"Survived\", axis=1)\n",
    "y = df[\"Survived\"]\n",
    "X_train, X_test, y_train, y_test = train_test_split(X, y, random_state=2021)"
   ]
  },
  {
   "cell_type": "code",
   "execution_count": 24,
   "metadata": {},
   "outputs": [
    {
     "data": {
      "text/plain": [
       "Index(['Pclass', 'Name', 'Sex', 'Age', 'SibSp', 'Parch', 'Ticket', 'Fare',\n",
       "       'Cabin', 'Embarked'],\n",
       "      dtype='object')"
      ]
     },
     "execution_count": 24,
     "metadata": {},
     "output_type": "execute_result"
    }
   ],
   "source": [
    "X_train.columns"
   ]
  },
  {
   "cell_type": "code",
   "execution_count": 25,
   "metadata": {},
   "outputs": [
    {
     "data": {
      "text/plain": [
       "Pclass        0\n",
       "Name          0\n",
       "Sex           0\n",
       "Age         129\n",
       "SibSp         0\n",
       "Parch         0\n",
       "Ticket        0\n",
       "Fare          0\n",
       "Cabin       512\n",
       "Embarked      1\n",
       "dtype: int64"
      ]
     },
     "execution_count": 25,
     "metadata": {},
     "output_type": "execute_result"
    }
   ],
   "source": [
    "X_train.isna().sum()"
   ]
  },
  {
   "cell_type": "markdown",
   "metadata": {},
   "source": [
    "### Handling Missing Values\n",
    "\n",
    "Let's be extra cautious and make a separate column to indicate whether there originally was a missing value.\n",
    "\n",
    "In our training data there are only missing values for a couple of the columns, but we can't be sure about where the test set will be missing data.\n",
    "\n",
    "The `MissingIndicator` from `sklearn` will mark the missing values in an input array."
   ]
  },
  {
   "cell_type": "code",
   "execution_count": 26,
   "metadata": {},
   "outputs": [
    {
     "data": {
      "text/plain": [
       "array([3, 8, 9])"
      ]
     },
     "execution_count": 26,
     "metadata": {},
     "output_type": "execute_result"
    }
   ],
   "source": [
    "indicator_demo = MissingIndicator()\n",
    "\n",
    "indicator_demo.fit(X_train)\n",
    "\n",
    "indicator_demo.features_"
   ]
  },
  {
   "cell_type": "code",
   "execution_count": 27,
   "metadata": {},
   "outputs": [
    {
     "data": {
      "text/plain": [
       "array([[False,  True, False],\n",
       "       [ True,  True, False],\n",
       "       [False,  True, False],\n",
       "       [False,  True, False],\n",
       "       [False,  True, False]])"
      ]
     },
     "execution_count": 27,
     "metadata": {},
     "output_type": "execute_result"
    }
   ],
   "source": [
    "indicator_demo.transform(X_train)[:5, :]"
   ]
  },
  {
   "cell_type": "code",
   "execution_count": 28,
   "metadata": {},
   "outputs": [
    {
     "data": {
      "text/html": [
       "<div>\n",
       "<style scoped>\n",
       "    .dataframe tbody tr th:only-of-type {\n",
       "        vertical-align: middle;\n",
       "    }\n",
       "\n",
       "    .dataframe tbody tr th {\n",
       "        vertical-align: top;\n",
       "    }\n",
       "\n",
       "    .dataframe thead th {\n",
       "        text-align: right;\n",
       "    }\n",
       "</style>\n",
       "<table border=\"1\" class=\"dataframe\">\n",
       "  <thead>\n",
       "    <tr style=\"text-align: right;\">\n",
       "      <th></th>\n",
       "      <th>Age</th>\n",
       "      <th>Cabin</th>\n",
       "      <th>Embarked</th>\n",
       "    </tr>\n",
       "  </thead>\n",
       "  <tbody>\n",
       "    <tr>\n",
       "      <th>784</th>\n",
       "      <td>25.0</td>\n",
       "      <td>NaN</td>\n",
       "      <td>S</td>\n",
       "    </tr>\n",
       "    <tr>\n",
       "      <th>568</th>\n",
       "      <td>NaN</td>\n",
       "      <td>NaN</td>\n",
       "      <td>C</td>\n",
       "    </tr>\n",
       "    <tr>\n",
       "      <th>381</th>\n",
       "      <td>1.0</td>\n",
       "      <td>NaN</td>\n",
       "      <td>C</td>\n",
       "    </tr>\n",
       "    <tr>\n",
       "      <th>694</th>\n",
       "      <td>60.0</td>\n",
       "      <td>NaN</td>\n",
       "      <td>S</td>\n",
       "    </tr>\n",
       "    <tr>\n",
       "      <th>844</th>\n",
       "      <td>17.0</td>\n",
       "      <td>NaN</td>\n",
       "      <td>S</td>\n",
       "    </tr>\n",
       "  </tbody>\n",
       "</table>\n",
       "</div>"
      ],
      "text/plain": [
       "      Age Cabin Embarked\n",
       "784  25.0   NaN        S\n",
       "568   NaN   NaN        C\n",
       "381   1.0   NaN        C\n",
       "694  60.0   NaN        S\n",
       "844  17.0   NaN        S"
      ]
     },
     "execution_count": 28,
     "metadata": {},
     "output_type": "execute_result"
    }
   ],
   "source": [
    "X_train.iloc[:5, [3, 8, 9]]"
   ]
  },
  {
   "cell_type": "code",
   "execution_count": 29,
   "metadata": {},
   "outputs": [
    {
     "data": {
      "text/plain": [
       "MissingIndicator(features='all')"
      ]
     },
     "execution_count": 29,
     "metadata": {},
     "output_type": "execute_result"
    }
   ],
   "source": [
    "indicator = MissingIndicator(features=\"all\")\n",
    "indicator.fit(X_train)"
   ]
  },
  {
   "cell_type": "code",
   "execution_count": 30,
   "metadata": {},
   "outputs": [],
   "source": [
    "def add_missing_indicator_columns(X, indicator):\n",
    "    \"\"\"\n",
    "    Helper function for transforming features\n",
    "    \n",
    "    For every feature in X, create another feature indicating whether that feature\n",
    "    is missing. (This doubles the number of columns in X.)\n",
    "    \"\"\"\n",
    "    \n",
    "    # create a 2D array of True and False values indicating whether a given feature\n",
    "    # is missing for that row\n",
    "    missing_array_bool = indicator.transform(X)\n",
    "    \n",
    "    # transform into 1 and 0 for modeling\n",
    "    missing_array_int = missing_array_bool.astype(int)\n",
    "    \n",
    "    # helpful for readability but not needed for modeling\n",
    "    missing_column_names = [col + \"_missing\" for col in X.columns]\n",
    "    \n",
    "    # convert to df so it we can concat with X\n",
    "    missing_df = pd.DataFrame(missing_array_int, columns=missing_column_names, index=X.index)\n",
    "    \n",
    "    return pd.concat([X, missing_df], axis=1)"
   ]
  },
  {
   "cell_type": "code",
   "execution_count": 31,
   "metadata": {},
   "outputs": [],
   "source": [
    "X_train = add_missing_indicator_columns(X=X_train, indicator=indicator)"
   ]
  },
  {
   "cell_type": "code",
   "execution_count": 33,
   "metadata": {},
   "outputs": [
    {
     "data": {
      "text/html": [
       "<div>\n",
       "<style scoped>\n",
       "    .dataframe tbody tr th:only-of-type {\n",
       "        vertical-align: middle;\n",
       "    }\n",
       "\n",
       "    .dataframe tbody tr th {\n",
       "        vertical-align: top;\n",
       "    }\n",
       "\n",
       "    .dataframe thead th {\n",
       "        text-align: right;\n",
       "    }\n",
       "</style>\n",
       "<table border=\"1\" class=\"dataframe\">\n",
       "  <thead>\n",
       "    <tr style=\"text-align: right;\">\n",
       "      <th></th>\n",
       "      <th>Pclass</th>\n",
       "      <th>Name</th>\n",
       "      <th>Sex</th>\n",
       "      <th>Age</th>\n",
       "      <th>SibSp</th>\n",
       "      <th>Parch</th>\n",
       "      <th>Ticket</th>\n",
       "      <th>Fare</th>\n",
       "      <th>Cabin</th>\n",
       "      <th>Embarked</th>\n",
       "      <th>Pclass_missing</th>\n",
       "      <th>Name_missing</th>\n",
       "      <th>Sex_missing</th>\n",
       "      <th>Age_missing</th>\n",
       "      <th>SibSp_missing</th>\n",
       "      <th>Parch_missing</th>\n",
       "      <th>Ticket_missing</th>\n",
       "      <th>Fare_missing</th>\n",
       "      <th>Cabin_missing</th>\n",
       "      <th>Embarked_missing</th>\n",
       "    </tr>\n",
       "  </thead>\n",
       "  <tbody>\n",
       "    <tr>\n",
       "      <th>784</th>\n",
       "      <td>3</td>\n",
       "      <td>Ali, Mr. William</td>\n",
       "      <td>male</td>\n",
       "      <td>25.0</td>\n",
       "      <td>0</td>\n",
       "      <td>0</td>\n",
       "      <td>SOTON/O.Q. 3101312</td>\n",
       "      <td>7.0500</td>\n",
       "      <td>NaN</td>\n",
       "      <td>S</td>\n",
       "      <td>0</td>\n",
       "      <td>0</td>\n",
       "      <td>0</td>\n",
       "      <td>0</td>\n",
       "      <td>0</td>\n",
       "      <td>0</td>\n",
       "      <td>0</td>\n",
       "      <td>0</td>\n",
       "      <td>1</td>\n",
       "      <td>0</td>\n",
       "    </tr>\n",
       "    <tr>\n",
       "      <th>568</th>\n",
       "      <td>3</td>\n",
       "      <td>Doharr, Mr. Tannous</td>\n",
       "      <td>male</td>\n",
       "      <td>NaN</td>\n",
       "      <td>0</td>\n",
       "      <td>0</td>\n",
       "      <td>2686</td>\n",
       "      <td>7.2292</td>\n",
       "      <td>NaN</td>\n",
       "      <td>C</td>\n",
       "      <td>0</td>\n",
       "      <td>0</td>\n",
       "      <td>0</td>\n",
       "      <td>1</td>\n",
       "      <td>0</td>\n",
       "      <td>0</td>\n",
       "      <td>0</td>\n",
       "      <td>0</td>\n",
       "      <td>1</td>\n",
       "      <td>0</td>\n",
       "    </tr>\n",
       "    <tr>\n",
       "      <th>381</th>\n",
       "      <td>3</td>\n",
       "      <td>Nakid, Miss. Maria (\"Mary\")</td>\n",
       "      <td>female</td>\n",
       "      <td>1.0</td>\n",
       "      <td>0</td>\n",
       "      <td>2</td>\n",
       "      <td>2653</td>\n",
       "      <td>15.7417</td>\n",
       "      <td>NaN</td>\n",
       "      <td>C</td>\n",
       "      <td>0</td>\n",
       "      <td>0</td>\n",
       "      <td>0</td>\n",
       "      <td>0</td>\n",
       "      <td>0</td>\n",
       "      <td>0</td>\n",
       "      <td>0</td>\n",
       "      <td>0</td>\n",
       "      <td>1</td>\n",
       "      <td>0</td>\n",
       "    </tr>\n",
       "    <tr>\n",
       "      <th>694</th>\n",
       "      <td>1</td>\n",
       "      <td>Weir, Col. John</td>\n",
       "      <td>male</td>\n",
       "      <td>60.0</td>\n",
       "      <td>0</td>\n",
       "      <td>0</td>\n",
       "      <td>113800</td>\n",
       "      <td>26.5500</td>\n",
       "      <td>NaN</td>\n",
       "      <td>S</td>\n",
       "      <td>0</td>\n",
       "      <td>0</td>\n",
       "      <td>0</td>\n",
       "      <td>0</td>\n",
       "      <td>0</td>\n",
       "      <td>0</td>\n",
       "      <td>0</td>\n",
       "      <td>0</td>\n",
       "      <td>1</td>\n",
       "      <td>0</td>\n",
       "    </tr>\n",
       "    <tr>\n",
       "      <th>844</th>\n",
       "      <td>3</td>\n",
       "      <td>Culumovic, Mr. Jeso</td>\n",
       "      <td>male</td>\n",
       "      <td>17.0</td>\n",
       "      <td>0</td>\n",
       "      <td>0</td>\n",
       "      <td>315090</td>\n",
       "      <td>8.6625</td>\n",
       "      <td>NaN</td>\n",
       "      <td>S</td>\n",
       "      <td>0</td>\n",
       "      <td>0</td>\n",
       "      <td>0</td>\n",
       "      <td>0</td>\n",
       "      <td>0</td>\n",
       "      <td>0</td>\n",
       "      <td>0</td>\n",
       "      <td>0</td>\n",
       "      <td>1</td>\n",
       "      <td>0</td>\n",
       "    </tr>\n",
       "  </tbody>\n",
       "</table>\n",
       "</div>"
      ],
      "text/plain": [
       "     Pclass                         Name     Sex   Age  SibSp  Parch  \\\n",
       "784       3             Ali, Mr. William    male  25.0      0      0   \n",
       "568       3          Doharr, Mr. Tannous    male   NaN      0      0   \n",
       "381       3  Nakid, Miss. Maria (\"Mary\")  female   1.0      0      2   \n",
       "694       1              Weir, Col. John    male  60.0      0      0   \n",
       "844       3          Culumovic, Mr. Jeso    male  17.0      0      0   \n",
       "\n",
       "                 Ticket     Fare Cabin Embarked  Pclass_missing  Name_missing  \\\n",
       "784  SOTON/O.Q. 3101312   7.0500   NaN        S               0             0   \n",
       "568                2686   7.2292   NaN        C               0             0   \n",
       "381                2653  15.7417   NaN        C               0             0   \n",
       "694              113800  26.5500   NaN        S               0             0   \n",
       "844              315090   8.6625   NaN        S               0             0   \n",
       "\n",
       "     Sex_missing  Age_missing  SibSp_missing  Parch_missing  Ticket_missing  \\\n",
       "784            0            0              0              0               0   \n",
       "568            0            1              0              0               0   \n",
       "381            0            0              0              0               0   \n",
       "694            0            0              0              0               0   \n",
       "844            0            0              0              0               0   \n",
       "\n",
       "     Fare_missing  Cabin_missing  Embarked_missing  \n",
       "784             0              1                 0  \n",
       "568             0              1                 0  \n",
       "381             0              1                 0  \n",
       "694             0              1                 0  \n",
       "844             0              1                 0  "
      ]
     },
     "execution_count": 33,
     "metadata": {},
     "output_type": "execute_result"
    }
   ],
   "source": [
    "X_train.head()"
   ]
  },
  {
   "cell_type": "markdown",
   "metadata": {},
   "source": [
    "Now that we've specified which values were originally missing, let's fill in those missing values.  This takes two separate imputers because we want to use the mean for numeric data and the majority class for categorical data.\n",
    "\n",
    "The `SimpleImputer` class fills in the mean value by default, so we'll have to override that for the categorical columns."
   ]
  },
  {
   "cell_type": "code",
   "execution_count": 34,
   "metadata": {},
   "outputs": [],
   "source": [
    "numeric_feature_names = [\"Age\", \"SibSp\", \"Parch\", \"Fare\"]\n",
    "categorical_feature_names = [\"Pclass\", \"Name\", \"Sex\", \"Ticket\", \"Cabin\", \"Embarked\"]\n",
    "\n",
    "X_train_numeric = X_train[numeric_feature_names]\n",
    "X_train_categorical = X_train[categorical_feature_names]"
   ]
  },
  {
   "cell_type": "code",
   "execution_count": 35,
   "metadata": {},
   "outputs": [
    {
     "data": {
      "text/plain": [
       "SimpleImputer()"
      ]
     },
     "execution_count": 35,
     "metadata": {},
     "output_type": "execute_result"
    }
   ],
   "source": [
    "numeric_imputer = SimpleImputer()\n",
    "numeric_imputer.fit(X_train_numeric)"
   ]
  },
  {
   "cell_type": "code",
   "execution_count": 36,
   "metadata": {},
   "outputs": [
    {
     "data": {
      "text/plain": [
       "SimpleImputer(strategy='most_frequent')"
      ]
     },
     "execution_count": 36,
     "metadata": {},
     "output_type": "execute_result"
    }
   ],
   "source": [
    "categorical_imputer = SimpleImputer(strategy=\"most_frequent\")\n",
    "categorical_imputer.fit(X_train_categorical)"
   ]
  },
  {
   "cell_type": "markdown",
   "metadata": {},
   "source": [
    "We'll build a function here to minimize our work of imputation:"
   ]
  },
  {
   "cell_type": "code",
   "execution_count": 37,
   "metadata": {},
   "outputs": [],
   "source": [
    "def impute_missing_values(X, imputer):\n",
    "    \"\"\"\n",
    "    Given a DataFrame and an imputer, use the imputer to fill in all\n",
    "    missing values in the DataFrame\n",
    "    \"\"\"\n",
    "    imputed_array = imputer.transform(X)\n",
    "    imputed_df = pd.DataFrame(imputed_array, columns=X.columns, index=X.index)\n",
    "    return imputed_df"
   ]
  },
  {
   "cell_type": "code",
   "execution_count": 38,
   "metadata": {},
   "outputs": [],
   "source": [
    "X_train_numeric = impute_missing_values(X_train_numeric, numeric_imputer)\n",
    "X_train_categorical = impute_missing_values(X_train_categorical, categorical_imputer)"
   ]
  },
  {
   "cell_type": "markdown",
   "metadata": {},
   "source": [
    "Double-check to make sure that all of the missing values are gone:"
   ]
  },
  {
   "cell_type": "code",
   "execution_count": 39,
   "metadata": {},
   "outputs": [
    {
     "data": {
      "text/plain": [
       "Age         0\n",
       "SibSp       0\n",
       "Parch       0\n",
       "Fare        0\n",
       "Pclass      0\n",
       "Name        0\n",
       "Sex         0\n",
       "Ticket      0\n",
       "Cabin       0\n",
       "Embarked    0\n",
       "dtype: int64"
      ]
     },
     "execution_count": 39,
     "metadata": {},
     "output_type": "execute_result"
    }
   ],
   "source": [
    "X_train_imputed = pd.concat([X_train_numeric, X_train_categorical], axis=1)\n",
    "X_train_imputed.isna().sum()"
   ]
  },
  {
   "cell_type": "code",
   "execution_count": 40,
   "metadata": {},
   "outputs": [
    {
     "data": {
      "text/html": [
       "<div>\n",
       "<style scoped>\n",
       "    .dataframe tbody tr th:only-of-type {\n",
       "        vertical-align: middle;\n",
       "    }\n",
       "\n",
       "    .dataframe tbody tr th {\n",
       "        vertical-align: top;\n",
       "    }\n",
       "\n",
       "    .dataframe thead th {\n",
       "        text-align: right;\n",
       "    }\n",
       "</style>\n",
       "<table border=\"1\" class=\"dataframe\">\n",
       "  <thead>\n",
       "    <tr style=\"text-align: right;\">\n",
       "      <th></th>\n",
       "      <th>Age</th>\n",
       "      <th>SibSp</th>\n",
       "      <th>Parch</th>\n",
       "      <th>Fare</th>\n",
       "      <th>Pclass</th>\n",
       "      <th>Name</th>\n",
       "      <th>Sex</th>\n",
       "      <th>Ticket</th>\n",
       "      <th>Cabin</th>\n",
       "      <th>Embarked</th>\n",
       "    </tr>\n",
       "  </thead>\n",
       "  <tbody>\n",
       "    <tr>\n",
       "      <th>784</th>\n",
       "      <td>25.00000</td>\n",
       "      <td>0.0</td>\n",
       "      <td>0.0</td>\n",
       "      <td>7.0500</td>\n",
       "      <td>3</td>\n",
       "      <td>Ali, Mr. William</td>\n",
       "      <td>male</td>\n",
       "      <td>SOTON/O.Q. 3101312</td>\n",
       "      <td>B96 B98</td>\n",
       "      <td>S</td>\n",
       "    </tr>\n",
       "    <tr>\n",
       "      <th>568</th>\n",
       "      <td>29.24397</td>\n",
       "      <td>0.0</td>\n",
       "      <td>0.0</td>\n",
       "      <td>7.2292</td>\n",
       "      <td>3</td>\n",
       "      <td>Doharr, Mr. Tannous</td>\n",
       "      <td>male</td>\n",
       "      <td>2686</td>\n",
       "      <td>B96 B98</td>\n",
       "      <td>C</td>\n",
       "    </tr>\n",
       "    <tr>\n",
       "      <th>381</th>\n",
       "      <td>1.00000</td>\n",
       "      <td>0.0</td>\n",
       "      <td>2.0</td>\n",
       "      <td>15.7417</td>\n",
       "      <td>3</td>\n",
       "      <td>Nakid, Miss. Maria (\"Mary\")</td>\n",
       "      <td>female</td>\n",
       "      <td>2653</td>\n",
       "      <td>B96 B98</td>\n",
       "      <td>C</td>\n",
       "    </tr>\n",
       "    <tr>\n",
       "      <th>694</th>\n",
       "      <td>60.00000</td>\n",
       "      <td>0.0</td>\n",
       "      <td>0.0</td>\n",
       "      <td>26.5500</td>\n",
       "      <td>1</td>\n",
       "      <td>Weir, Col. John</td>\n",
       "      <td>male</td>\n",
       "      <td>113800</td>\n",
       "      <td>B96 B98</td>\n",
       "      <td>S</td>\n",
       "    </tr>\n",
       "    <tr>\n",
       "      <th>844</th>\n",
       "      <td>17.00000</td>\n",
       "      <td>0.0</td>\n",
       "      <td>0.0</td>\n",
       "      <td>8.6625</td>\n",
       "      <td>3</td>\n",
       "      <td>Culumovic, Mr. Jeso</td>\n",
       "      <td>male</td>\n",
       "      <td>315090</td>\n",
       "      <td>B96 B98</td>\n",
       "      <td>S</td>\n",
       "    </tr>\n",
       "  </tbody>\n",
       "</table>\n",
       "</div>"
      ],
      "text/plain": [
       "          Age  SibSp  Parch     Fare Pclass                         Name  \\\n",
       "784  25.00000    0.0    0.0   7.0500      3             Ali, Mr. William   \n",
       "568  29.24397    0.0    0.0   7.2292      3          Doharr, Mr. Tannous   \n",
       "381   1.00000    0.0    2.0  15.7417      3  Nakid, Miss. Maria (\"Mary\")   \n",
       "694  60.00000    0.0    0.0  26.5500      1              Weir, Col. John   \n",
       "844  17.00000    0.0    0.0   8.6625      3          Culumovic, Mr. Jeso   \n",
       "\n",
       "        Sex              Ticket    Cabin Embarked  \n",
       "784    male  SOTON/O.Q. 3101312  B96 B98        S  \n",
       "568    male                2686  B96 B98        C  \n",
       "381  female                2653  B96 B98        C  \n",
       "694    male              113800  B96 B98        S  \n",
       "844    male              315090  B96 B98        S  "
      ]
     },
     "execution_count": 40,
     "metadata": {},
     "output_type": "execute_result"
    }
   ],
   "source": [
    "X_train_imputed.head()"
   ]
  },
  {
   "cell_type": "markdown",
   "metadata": {},
   "source": [
    "Drop all of the old columns from X_train, then concat the new imputed ones:"
   ]
  },
  {
   "cell_type": "code",
   "execution_count": 41,
   "metadata": {},
   "outputs": [],
   "source": [
    "X_train = X_train.drop(numeric_feature_names + categorical_feature_names, axis=1)\n",
    "X_train = pd.concat([X_train_imputed, X_train], axis=1)"
   ]
  },
  {
   "cell_type": "code",
   "execution_count": 42,
   "metadata": {},
   "outputs": [
    {
     "data": {
      "text/html": [
       "<div>\n",
       "<style scoped>\n",
       "    .dataframe tbody tr th:only-of-type {\n",
       "        vertical-align: middle;\n",
       "    }\n",
       "\n",
       "    .dataframe tbody tr th {\n",
       "        vertical-align: top;\n",
       "    }\n",
       "\n",
       "    .dataframe thead th {\n",
       "        text-align: right;\n",
       "    }\n",
       "</style>\n",
       "<table border=\"1\" class=\"dataframe\">\n",
       "  <thead>\n",
       "    <tr style=\"text-align: right;\">\n",
       "      <th></th>\n",
       "      <th>Age</th>\n",
       "      <th>SibSp</th>\n",
       "      <th>Parch</th>\n",
       "      <th>Fare</th>\n",
       "      <th>Pclass</th>\n",
       "      <th>Name</th>\n",
       "      <th>Sex</th>\n",
       "      <th>Ticket</th>\n",
       "      <th>Cabin</th>\n",
       "      <th>Embarked</th>\n",
       "      <th>Pclass_missing</th>\n",
       "      <th>Name_missing</th>\n",
       "      <th>Sex_missing</th>\n",
       "      <th>Age_missing</th>\n",
       "      <th>SibSp_missing</th>\n",
       "      <th>Parch_missing</th>\n",
       "      <th>Ticket_missing</th>\n",
       "      <th>Fare_missing</th>\n",
       "      <th>Cabin_missing</th>\n",
       "      <th>Embarked_missing</th>\n",
       "    </tr>\n",
       "  </thead>\n",
       "  <tbody>\n",
       "    <tr>\n",
       "      <th>784</th>\n",
       "      <td>25.00000</td>\n",
       "      <td>0.0</td>\n",
       "      <td>0.0</td>\n",
       "      <td>7.0500</td>\n",
       "      <td>3</td>\n",
       "      <td>Ali, Mr. William</td>\n",
       "      <td>male</td>\n",
       "      <td>SOTON/O.Q. 3101312</td>\n",
       "      <td>B96 B98</td>\n",
       "      <td>S</td>\n",
       "      <td>0</td>\n",
       "      <td>0</td>\n",
       "      <td>0</td>\n",
       "      <td>0</td>\n",
       "      <td>0</td>\n",
       "      <td>0</td>\n",
       "      <td>0</td>\n",
       "      <td>0</td>\n",
       "      <td>1</td>\n",
       "      <td>0</td>\n",
       "    </tr>\n",
       "    <tr>\n",
       "      <th>568</th>\n",
       "      <td>29.24397</td>\n",
       "      <td>0.0</td>\n",
       "      <td>0.0</td>\n",
       "      <td>7.2292</td>\n",
       "      <td>3</td>\n",
       "      <td>Doharr, Mr. Tannous</td>\n",
       "      <td>male</td>\n",
       "      <td>2686</td>\n",
       "      <td>B96 B98</td>\n",
       "      <td>C</td>\n",
       "      <td>0</td>\n",
       "      <td>0</td>\n",
       "      <td>0</td>\n",
       "      <td>1</td>\n",
       "      <td>0</td>\n",
       "      <td>0</td>\n",
       "      <td>0</td>\n",
       "      <td>0</td>\n",
       "      <td>1</td>\n",
       "      <td>0</td>\n",
       "    </tr>\n",
       "    <tr>\n",
       "      <th>381</th>\n",
       "      <td>1.00000</td>\n",
       "      <td>0.0</td>\n",
       "      <td>2.0</td>\n",
       "      <td>15.7417</td>\n",
       "      <td>3</td>\n",
       "      <td>Nakid, Miss. Maria (\"Mary\")</td>\n",
       "      <td>female</td>\n",
       "      <td>2653</td>\n",
       "      <td>B96 B98</td>\n",
       "      <td>C</td>\n",
       "      <td>0</td>\n",
       "      <td>0</td>\n",
       "      <td>0</td>\n",
       "      <td>0</td>\n",
       "      <td>0</td>\n",
       "      <td>0</td>\n",
       "      <td>0</td>\n",
       "      <td>0</td>\n",
       "      <td>1</td>\n",
       "      <td>0</td>\n",
       "    </tr>\n",
       "    <tr>\n",
       "      <th>694</th>\n",
       "      <td>60.00000</td>\n",
       "      <td>0.0</td>\n",
       "      <td>0.0</td>\n",
       "      <td>26.5500</td>\n",
       "      <td>1</td>\n",
       "      <td>Weir, Col. John</td>\n",
       "      <td>male</td>\n",
       "      <td>113800</td>\n",
       "      <td>B96 B98</td>\n",
       "      <td>S</td>\n",
       "      <td>0</td>\n",
       "      <td>0</td>\n",
       "      <td>0</td>\n",
       "      <td>0</td>\n",
       "      <td>0</td>\n",
       "      <td>0</td>\n",
       "      <td>0</td>\n",
       "      <td>0</td>\n",
       "      <td>1</td>\n",
       "      <td>0</td>\n",
       "    </tr>\n",
       "    <tr>\n",
       "      <th>844</th>\n",
       "      <td>17.00000</td>\n",
       "      <td>0.0</td>\n",
       "      <td>0.0</td>\n",
       "      <td>8.6625</td>\n",
       "      <td>3</td>\n",
       "      <td>Culumovic, Mr. Jeso</td>\n",
       "      <td>male</td>\n",
       "      <td>315090</td>\n",
       "      <td>B96 B98</td>\n",
       "      <td>S</td>\n",
       "      <td>0</td>\n",
       "      <td>0</td>\n",
       "      <td>0</td>\n",
       "      <td>0</td>\n",
       "      <td>0</td>\n",
       "      <td>0</td>\n",
       "      <td>0</td>\n",
       "      <td>0</td>\n",
       "      <td>1</td>\n",
       "      <td>0</td>\n",
       "    </tr>\n",
       "  </tbody>\n",
       "</table>\n",
       "</div>"
      ],
      "text/plain": [
       "          Age  SibSp  Parch     Fare Pclass                         Name  \\\n",
       "784  25.00000    0.0    0.0   7.0500      3             Ali, Mr. William   \n",
       "568  29.24397    0.0    0.0   7.2292      3          Doharr, Mr. Tannous   \n",
       "381   1.00000    0.0    2.0  15.7417      3  Nakid, Miss. Maria (\"Mary\")   \n",
       "694  60.00000    0.0    0.0  26.5500      1              Weir, Col. John   \n",
       "844  17.00000    0.0    0.0   8.6625      3          Culumovic, Mr. Jeso   \n",
       "\n",
       "        Sex              Ticket    Cabin Embarked  Pclass_missing  \\\n",
       "784    male  SOTON/O.Q. 3101312  B96 B98        S               0   \n",
       "568    male                2686  B96 B98        C               0   \n",
       "381  female                2653  B96 B98        C               0   \n",
       "694    male              113800  B96 B98        S               0   \n",
       "844    male              315090  B96 B98        S               0   \n",
       "\n",
       "     Name_missing  Sex_missing  Age_missing  SibSp_missing  Parch_missing  \\\n",
       "784             0            0            0              0              0   \n",
       "568             0            0            1              0              0   \n",
       "381             0            0            0              0              0   \n",
       "694             0            0            0              0              0   \n",
       "844             0            0            0              0              0   \n",
       "\n",
       "     Ticket_missing  Fare_missing  Cabin_missing  Embarked_missing  \n",
       "784               0             0              1                 0  \n",
       "568               0             0              1                 0  \n",
       "381               0             0              1                 0  \n",
       "694               0             0              1                 0  \n",
       "844               0             0              1                 0  "
      ]
     },
     "execution_count": 42,
     "metadata": {},
     "output_type": "execute_result"
    }
   ],
   "source": [
    "X_train.head()"
   ]
  },
  {
   "cell_type": "code",
   "execution_count": 43,
   "metadata": {},
   "outputs": [
    {
     "data": {
      "text/plain": [
       "Age                 0\n",
       "SibSp               0\n",
       "Parch               0\n",
       "Fare                0\n",
       "Pclass              0\n",
       "Name                0\n",
       "Sex                 0\n",
       "Ticket              0\n",
       "Cabin               0\n",
       "Embarked            0\n",
       "Pclass_missing      0\n",
       "Name_missing        0\n",
       "Sex_missing         0\n",
       "Age_missing         0\n",
       "SibSp_missing       0\n",
       "Parch_missing       0\n",
       "Ticket_missing      0\n",
       "Fare_missing        0\n",
       "Cabin_missing       0\n",
       "Embarked_missing    0\n",
       "dtype: int64"
      ]
     },
     "execution_count": 43,
     "metadata": {},
     "output_type": "execute_result"
    }
   ],
   "source": [
    "X_train.isna().sum()"
   ]
  },
  {
   "cell_type": "markdown",
   "metadata": {},
   "source": [
    "### One-Hot Encoding\n",
    "\n",
    "Now that there are no missing values, convert all of the categorical features into numbers."
   ]
  },
  {
   "cell_type": "code",
   "execution_count": 44,
   "metadata": {},
   "outputs": [],
   "source": [
    "def encode_and_concat_feature_train(X_train, feature_name):\n",
    "    \"\"\"\n",
    "    Helper function for transforming training data.  It takes in the full X dataframe and\n",
    "    feature name, makes a one-hot encoder, and returns the encoder as well as the dataframe\n",
    "    with that feature transformed into multiple columns of 1s and 0s\n",
    "    \"\"\"\n",
    "    # make a one-hot encoder and fit it to the training data\n",
    "    ohe = OneHotEncoder(categories=\"auto\", handle_unknown=\"ignore\")\n",
    "    single_feature_df = X_train[[feature_name]]\n",
    "    ohe.fit(single_feature_df)\n",
    "    \n",
    "    # call helper function that actually encodes the feature and concats it\n",
    "    X_train = encode_and_concat_feature(X_train, feature_name, ohe)\n",
    "    \n",
    "    return ohe, X_train"
   ]
  },
  {
   "cell_type": "code",
   "execution_count": 45,
   "metadata": {},
   "outputs": [],
   "source": [
    "def encode_and_concat_feature(X, feature_name, ohe):\n",
    "    \"\"\"\n",
    "    Helper function for transforming a feature into multiple columns of 1s and 0s. Used\n",
    "    in both training and testing steps.  Takes in the full X dataframe, feature name, \n",
    "    and encoder, and returns the dataframe with that feature transformed into multiple\n",
    "    columns of 1s and 0s\n",
    "    \"\"\"\n",
    "    # create new one-hot encoded df based on the feature\n",
    "    single_feature_df = X[[feature_name]]\n",
    "    feature_array = ohe.transform(single_feature_df).toarray()\n",
    "    ohe_df = pd.DataFrame(feature_array, columns=ohe.categories_[0], index=X.index)\n",
    "    \n",
    "    # drop the old feature from X and concat the new one-hot encoded df\n",
    "    X = X.drop(feature_name, axis=1)\n",
    "    X = pd.concat([X, ohe_df], axis=1)\n",
    "    \n",
    "    return X"
   ]
  },
  {
   "cell_type": "code",
   "execution_count": 46,
   "metadata": {},
   "outputs": [],
   "source": [
    "encoders = {}\n",
    "\n",
    "for categorical_feature in categorical_feature_names:\n",
    "    ohe, X_train = encode_and_concat_feature_train(X_train, categorical_feature)\n",
    "    encoders[categorical_feature] = ohe"
   ]
  },
  {
   "cell_type": "code",
   "execution_count": 47,
   "metadata": {},
   "outputs": [
    {
     "data": {
      "text/plain": [
       "{'Pclass': OneHotEncoder(handle_unknown='ignore'),\n",
       " 'Name': OneHotEncoder(handle_unknown='ignore'),\n",
       " 'Sex': OneHotEncoder(handle_unknown='ignore'),\n",
       " 'Ticket': OneHotEncoder(handle_unknown='ignore'),\n",
       " 'Cabin': OneHotEncoder(handle_unknown='ignore'),\n",
       " 'Embarked': OneHotEncoder(handle_unknown='ignore')}"
      ]
     },
     "execution_count": 47,
     "metadata": {},
     "output_type": "execute_result"
    }
   ],
   "source": [
    "encoders"
   ]
  },
  {
   "cell_type": "code",
   "execution_count": 48,
   "metadata": {
    "scrolled": true
   },
   "outputs": [
    {
     "data": {
      "text/html": [
       "<div>\n",
       "<style scoped>\n",
       "    .dataframe tbody tr th:only-of-type {\n",
       "        vertical-align: middle;\n",
       "    }\n",
       "\n",
       "    .dataframe tbody tr th {\n",
       "        vertical-align: top;\n",
       "    }\n",
       "\n",
       "    .dataframe thead th {\n",
       "        text-align: right;\n",
       "    }\n",
       "</style>\n",
       "<table border=\"1\" class=\"dataframe\">\n",
       "  <thead>\n",
       "    <tr style=\"text-align: right;\">\n",
       "      <th></th>\n",
       "      <th>Age</th>\n",
       "      <th>SibSp</th>\n",
       "      <th>Parch</th>\n",
       "      <th>Fare</th>\n",
       "      <th>Pclass_missing</th>\n",
       "      <th>Name_missing</th>\n",
       "      <th>Sex_missing</th>\n",
       "      <th>Age_missing</th>\n",
       "      <th>SibSp_missing</th>\n",
       "      <th>Parch_missing</th>\n",
       "      <th>...</th>\n",
       "      <th>F E69</th>\n",
       "      <th>F G73</th>\n",
       "      <th>F2</th>\n",
       "      <th>F33</th>\n",
       "      <th>F4</th>\n",
       "      <th>G6</th>\n",
       "      <th>T</th>\n",
       "      <th>C</th>\n",
       "      <th>Q</th>\n",
       "      <th>S</th>\n",
       "    </tr>\n",
       "  </thead>\n",
       "  <tbody>\n",
       "    <tr>\n",
       "      <th>784</th>\n",
       "      <td>25.00000</td>\n",
       "      <td>0.0</td>\n",
       "      <td>0.0</td>\n",
       "      <td>7.0500</td>\n",
       "      <td>0</td>\n",
       "      <td>0</td>\n",
       "      <td>0</td>\n",
       "      <td>0</td>\n",
       "      <td>0</td>\n",
       "      <td>0</td>\n",
       "      <td>...</td>\n",
       "      <td>0.0</td>\n",
       "      <td>0.0</td>\n",
       "      <td>0.0</td>\n",
       "      <td>0.0</td>\n",
       "      <td>0.0</td>\n",
       "      <td>0.0</td>\n",
       "      <td>0.0</td>\n",
       "      <td>0.0</td>\n",
       "      <td>0.0</td>\n",
       "      <td>1.0</td>\n",
       "    </tr>\n",
       "    <tr>\n",
       "      <th>568</th>\n",
       "      <td>29.24397</td>\n",
       "      <td>0.0</td>\n",
       "      <td>0.0</td>\n",
       "      <td>7.2292</td>\n",
       "      <td>0</td>\n",
       "      <td>0</td>\n",
       "      <td>0</td>\n",
       "      <td>1</td>\n",
       "      <td>0</td>\n",
       "      <td>0</td>\n",
       "      <td>...</td>\n",
       "      <td>0.0</td>\n",
       "      <td>0.0</td>\n",
       "      <td>0.0</td>\n",
       "      <td>0.0</td>\n",
       "      <td>0.0</td>\n",
       "      <td>0.0</td>\n",
       "      <td>0.0</td>\n",
       "      <td>1.0</td>\n",
       "      <td>0.0</td>\n",
       "      <td>0.0</td>\n",
       "    </tr>\n",
       "    <tr>\n",
       "      <th>381</th>\n",
       "      <td>1.00000</td>\n",
       "      <td>0.0</td>\n",
       "      <td>2.0</td>\n",
       "      <td>15.7417</td>\n",
       "      <td>0</td>\n",
       "      <td>0</td>\n",
       "      <td>0</td>\n",
       "      <td>0</td>\n",
       "      <td>0</td>\n",
       "      <td>0</td>\n",
       "      <td>...</td>\n",
       "      <td>0.0</td>\n",
       "      <td>0.0</td>\n",
       "      <td>0.0</td>\n",
       "      <td>0.0</td>\n",
       "      <td>0.0</td>\n",
       "      <td>0.0</td>\n",
       "      <td>0.0</td>\n",
       "      <td>1.0</td>\n",
       "      <td>0.0</td>\n",
       "      <td>0.0</td>\n",
       "    </tr>\n",
       "    <tr>\n",
       "      <th>694</th>\n",
       "      <td>60.00000</td>\n",
       "      <td>0.0</td>\n",
       "      <td>0.0</td>\n",
       "      <td>26.5500</td>\n",
       "      <td>0</td>\n",
       "      <td>0</td>\n",
       "      <td>0</td>\n",
       "      <td>0</td>\n",
       "      <td>0</td>\n",
       "      <td>0</td>\n",
       "      <td>...</td>\n",
       "      <td>0.0</td>\n",
       "      <td>0.0</td>\n",
       "      <td>0.0</td>\n",
       "      <td>0.0</td>\n",
       "      <td>0.0</td>\n",
       "      <td>0.0</td>\n",
       "      <td>0.0</td>\n",
       "      <td>0.0</td>\n",
       "      <td>0.0</td>\n",
       "      <td>1.0</td>\n",
       "    </tr>\n",
       "    <tr>\n",
       "      <th>844</th>\n",
       "      <td>17.00000</td>\n",
       "      <td>0.0</td>\n",
       "      <td>0.0</td>\n",
       "      <td>8.6625</td>\n",
       "      <td>0</td>\n",
       "      <td>0</td>\n",
       "      <td>0</td>\n",
       "      <td>0</td>\n",
       "      <td>0</td>\n",
       "      <td>0</td>\n",
       "      <td>...</td>\n",
       "      <td>0.0</td>\n",
       "      <td>0.0</td>\n",
       "      <td>0.0</td>\n",
       "      <td>0.0</td>\n",
       "      <td>0.0</td>\n",
       "      <td>0.0</td>\n",
       "      <td>0.0</td>\n",
       "      <td>0.0</td>\n",
       "      <td>0.0</td>\n",
       "      <td>1.0</td>\n",
       "    </tr>\n",
       "  </tbody>\n",
       "</table>\n",
       "<p>5 rows × 1348 columns</p>\n",
       "</div>"
      ],
      "text/plain": [
       "          Age  SibSp  Parch     Fare  Pclass_missing  Name_missing  \\\n",
       "784  25.00000    0.0    0.0   7.0500               0             0   \n",
       "568  29.24397    0.0    0.0   7.2292               0             0   \n",
       "381   1.00000    0.0    2.0  15.7417               0             0   \n",
       "694  60.00000    0.0    0.0  26.5500               0             0   \n",
       "844  17.00000    0.0    0.0   8.6625               0             0   \n",
       "\n",
       "     Sex_missing  Age_missing  SibSp_missing  Parch_missing  ...  F E69  \\\n",
       "784            0            0              0              0  ...    0.0   \n",
       "568            0            1              0              0  ...    0.0   \n",
       "381            0            0              0              0  ...    0.0   \n",
       "694            0            0              0              0  ...    0.0   \n",
       "844            0            0              0              0  ...    0.0   \n",
       "\n",
       "     F G73   F2  F33   F4   G6    T    C    Q    S  \n",
       "784    0.0  0.0  0.0  0.0  0.0  0.0  0.0  0.0  1.0  \n",
       "568    0.0  0.0  0.0  0.0  0.0  0.0  1.0  0.0  0.0  \n",
       "381    0.0  0.0  0.0  0.0  0.0  0.0  1.0  0.0  0.0  \n",
       "694    0.0  0.0  0.0  0.0  0.0  0.0  0.0  0.0  1.0  \n",
       "844    0.0  0.0  0.0  0.0  0.0  0.0  0.0  0.0  1.0  \n",
       "\n",
       "[5 rows x 1348 columns]"
      ]
     },
     "execution_count": 48,
     "metadata": {},
     "output_type": "execute_result"
    }
   ],
   "source": [
    "X_train.head()"
   ]
  },
  {
   "cell_type": "code",
   "execution_count": 49,
   "metadata": {},
   "outputs": [
    {
     "data": {
      "text/plain": [
       "(668, 1348)"
      ]
     },
     "execution_count": 49,
     "metadata": {},
     "output_type": "execute_result"
    }
   ],
   "source": [
    "X_train.shape"
   ]
  },
  {
   "cell_type": "markdown",
   "metadata": {},
   "source": [
    "This is...a ridiculous number of columns.  How did we end up with more columns than rows?\n",
    "\n",
    "(Answer: each unique name and ticket number is now its own column)"
   ]
  },
  {
   "cell_type": "markdown",
   "metadata": {},
   "source": [
    "## Modeling, Part 3\n",
    "\n",
    "Let's run a logistic regression on our ridiculous number of columns:"
   ]
  },
  {
   "cell_type": "code",
   "execution_count": 50,
   "metadata": {},
   "outputs": [
    {
     "name": "stderr",
     "output_type": "stream",
     "text": [
      "/Users/wax/opt/anaconda3/lib/python3.8/site-packages/sklearn/linear_model/_logistic.py:762: ConvergenceWarning: lbfgs failed to converge (status=1):\n",
      "STOP: TOTAL NO. of ITERATIONS REACHED LIMIT.\n",
      "\n",
      "Increase the number of iterations (max_iter) or scale the data as shown in:\n",
      "    https://scikit-learn.org/stable/modules/preprocessing.html\n",
      "Please also refer to the documentation for alternative solver options:\n",
      "    https://scikit-learn.org/stable/modules/linear_model.html#logistic-regression\n",
      "  n_iter_i = _check_optimize_result(\n"
     ]
    },
    {
     "data": {
      "text/plain": [
       "LogisticRegression(random_state=2021)"
      ]
     },
     "execution_count": 50,
     "metadata": {},
     "output_type": "execute_result"
    }
   ],
   "source": [
    "logreg_model = LogisticRegression(random_state=2021)\n",
    "logreg_model.fit(X_train, y_train)"
   ]
  },
  {
   "cell_type": "markdown",
   "metadata": {},
   "source": [
    "What happened there?  This solver had no problem before.\n",
    "\n",
    "Answer: it wasn't able to find the minimum with this number of steps in gradient descent."
   ]
  },
  {
   "cell_type": "markdown",
   "metadata": {},
   "source": [
    "### Adjustments\n",
    "\n",
    "Let's try a couple of stopgap measures to get the model to run."
   ]
  },
  {
   "cell_type": "markdown",
   "metadata": {},
   "source": [
    "#### More iterations"
   ]
  },
  {
   "cell_type": "code",
   "execution_count": 51,
   "metadata": {},
   "outputs": [
    {
     "data": {
      "text/plain": [
       "LogisticRegression(max_iter=1000, random_state=2021)"
      ]
     },
     "execution_count": 51,
     "metadata": {},
     "output_type": "execute_result"
    }
   ],
   "source": [
    "logreg_model_more_iterations = LogisticRegression(random_state=2021, max_iter=1000)\n",
    "logreg_model_more_iterations.fit(X_train, y_train)"
   ]
  },
  {
   "cell_type": "markdown",
   "metadata": {},
   "source": [
    "#### More regularization\n",
    "\n",
    "Remember that the `C` parameter is the inverse of the regularization strength."
   ]
  },
  {
   "cell_type": "code",
   "execution_count": 52,
   "metadata": {},
   "outputs": [
    {
     "data": {
      "text/plain": [
       "LogisticRegression(C=0.01, random_state=2021)"
      ]
     },
     "execution_count": 52,
     "metadata": {},
     "output_type": "execute_result"
    }
   ],
   "source": [
    "logreg_model_more_regularization = LogisticRegression(random_state=2021, C=0.01)\n",
    "logreg_model_more_regularization.fit(X_train, y_train)"
   ]
  },
  {
   "cell_type": "markdown",
   "metadata": {},
   "source": [
    "#### Higher tolerance"
   ]
  },
  {
   "cell_type": "code",
   "execution_count": 53,
   "metadata": {},
   "outputs": [
    {
     "data": {
      "text/plain": [
       "LogisticRegression(random_state=2021, tol=50)"
      ]
     },
     "execution_count": 53,
     "metadata": {},
     "output_type": "execute_result"
    }
   ],
   "source": [
    "logreg_model_higher_tolerance = LogisticRegression(random_state=2021, tol=50)\n",
    "logreg_model_higher_tolerance.fit(X_train, y_train)"
   ]
  },
  {
   "cell_type": "markdown",
   "metadata": {},
   "source": [
    "## Model Evaluation, Part 3"
   ]
  },
  {
   "cell_type": "code",
   "execution_count": 54,
   "metadata": {},
   "outputs": [
    {
     "data": {
      "image/png": "[encoded data removed]",
      "text/plain": [
       "<Figure size 1080x432 with 6 Axes>"
      ]
     },
     "metadata": {
      "needs_background": "light"
     },
     "output_type": "display_data"
    }
   ],
   "source": [
    "fix, axes = plt.subplots(nrows=1, ncols=3, figsize=(15, 6))\n",
    "\n",
    "axes[0].set_title(\"More Iterations\")\n",
    "axes[1].set_title(\"More Regularization\")\n",
    "axes[2].set_title(\"Higher Tolerance\")\n",
    "\n",
    "plot_confusion_matrix(logreg_model_more_iterations, X_train, y_train,\n",
    "                      ax=axes[0], cmap=\"plasma\")\n",
    "plot_confusion_matrix(logreg_model_more_regularization, X_train, y_train,\n",
    "                      ax=axes[1], cmap=\"plasma\")\n",
    "plot_confusion_matrix(logreg_model_higher_tolerance, X_train, y_train,\n",
    "                      ax=axes[2], cmap=\"plasma\");"
   ]
  },
  {
   "cell_type": "code",
   "execution_count": 57,
   "metadata": {},
   "outputs": [
    {
     "name": "stdout",
     "output_type": "stream",
     "text": [
      "[0.79372197 0.82511211 0.78828829]\n",
      "[0.74887892 0.74439462 0.73873874]\n",
      "[0.78923767 0.71300448 0.77927928]\n"
     ]
    }
   ],
   "source": [
    "print(cross_val_score(logreg_model_more_iterations, X_train, y_train, cv=3))\n",
    "print(cross_val_score(logreg_model_more_regularization, X_train, y_train, cv=3))\n",
    "print(cross_val_score(logreg_model_higher_tolerance, X_train, y_train, cv=3))"
   ]
  },
  {
   "cell_type": "code",
   "execution_count": 60,
   "metadata": {},
   "outputs": [
    {
     "data": {
      "text/plain": [
       "(0.8023741230019258, 0.016230489643968175)"
      ]
     },
     "execution_count": 60,
     "metadata": {},
     "output_type": "execute_result"
    }
   ],
   "source": [
    "cv_1 = cross_val_score(logreg_model_more_iterations, X_train, y_train, cv=3)\n",
    "cv_1.mean(), cv_1.std()"
   ]
  },
  {
   "cell_type": "code",
   "execution_count": 61,
   "metadata": {},
   "outputs": [
    {
     "data": {
      "text/plain": [
       "<sklearn.metrics._plot.roc_curve.RocCurveDisplay at 0x7fe161421910>"
      ]
     },
     "execution_count": 61,
     "metadata": {},
     "output_type": "execute_result"
    },
    {
     "data": {
      "image/png": "[encoded data removed]",
      "text/plain": [
       "<Figure size 432x288 with 1 Axes>"
      ]
     },
     "metadata": {
      "needs_background": "light"
     },
     "output_type": "display_data"
    }
   ],
   "source": [
    "fig, ax = plt.subplots()\n",
    "\n",
    "plot_roc_curve(logreg_model_more_iterations, X_train, y_train, \n",
    "               name='logreg_model_more_iterations', ax=ax)\n",
    "plot_roc_curve(logreg_model_more_regularization, X_train, y_train, \n",
    "               name='logreg_model_more_regularization', ax=ax)\n",
    "plot_roc_curve(logreg_model_higher_tolerance, X_train, y_train, \n",
    "               name='logreg_model_higher_tolerance', ax=ax)"
   ]
  },
  {
   "cell_type": "markdown",
   "metadata": {},
   "source": [
    "## Data Preparation, Part 3\n",
    "\n",
    "Let's scale all of the features, so the model isn't overly penalizing age and fare"
   ]
  },
  {
   "cell_type": "code",
   "execution_count": 62,
   "metadata": {},
   "outputs": [
    {
     "data": {
      "text/plain": [
       "StandardScaler()"
      ]
     },
     "execution_count": 62,
     "metadata": {},
     "output_type": "execute_result"
    }
   ],
   "source": [
    "scaler = StandardScaler()\n",
    "\n",
    "scaler.fit(X_train)"
   ]
  },
  {
   "cell_type": "code",
   "execution_count": 63,
   "metadata": {},
   "outputs": [],
   "source": [
    "def scale_values(X, scaler):\n",
    "    \"\"\"\n",
    "    Given a DataFrame and a fitted scaler, use the scaler to scale all of the features\n",
    "    \"\"\"\n",
    "    scaled_array = scaler.transform(X)\n",
    "    scaled_df = pd.DataFrame(scaled_array, columns=X.columns, index=X.index)\n",
    "    return scaled_df"
   ]
  },
  {
   "cell_type": "code",
   "execution_count": 64,
   "metadata": {},
   "outputs": [],
   "source": [
    "X_train = scale_values(X_train, scaler)"
   ]
  },
  {
   "cell_type": "code",
   "execution_count": 65,
   "metadata": {},
   "outputs": [
    {
     "data": {
      "text/html": [
       "<div>\n",
       "<style scoped>\n",
       "    .dataframe tbody tr th:only-of-type {\n",
       "        vertical-align: middle;\n",
       "    }\n",
       "\n",
       "    .dataframe tbody tr th {\n",
       "        vertical-align: top;\n",
       "    }\n",
       "\n",
       "    .dataframe thead th {\n",
       "        text-align: right;\n",
       "    }\n",
       "</style>\n",
       "<table border=\"1\" class=\"dataframe\">\n",
       "  <thead>\n",
       "    <tr style=\"text-align: right;\">\n",
       "      <th></th>\n",
       "      <th>Age</th>\n",
       "      <th>SibSp</th>\n",
       "      <th>Parch</th>\n",
       "      <th>Fare</th>\n",
       "      <th>Pclass_missing</th>\n",
       "      <th>Name_missing</th>\n",
       "      <th>Sex_missing</th>\n",
       "      <th>Age_missing</th>\n",
       "      <th>SibSp_missing</th>\n",
       "      <th>Parch_missing</th>\n",
       "      <th>...</th>\n",
       "      <th>F E69</th>\n",
       "      <th>F G73</th>\n",
       "      <th>F2</th>\n",
       "      <th>F33</th>\n",
       "      <th>F4</th>\n",
       "      <th>G6</th>\n",
       "      <th>T</th>\n",
       "      <th>C</th>\n",
       "      <th>Q</th>\n",
       "      <th>S</th>\n",
       "    </tr>\n",
       "  </thead>\n",
       "  <tbody>\n",
       "    <tr>\n",
       "      <th>784</th>\n",
       "      <td>-3.248270e-01</td>\n",
       "      <td>-0.487594</td>\n",
       "      <td>-0.494524</td>\n",
       "      <td>-0.517766</td>\n",
       "      <td>0.0</td>\n",
       "      <td>0.0</td>\n",
       "      <td>0.0</td>\n",
       "      <td>-0.489216</td>\n",
       "      <td>0.0</td>\n",
       "      <td>0.0</td>\n",
       "      <td>...</td>\n",
       "      <td>-0.03872</td>\n",
       "      <td>-0.03872</td>\n",
       "      <td>-0.067166</td>\n",
       "      <td>-0.0548</td>\n",
       "      <td>-0.03872</td>\n",
       "      <td>-0.067166</td>\n",
       "      <td>-0.03872</td>\n",
       "      <td>-0.489216</td>\n",
       "      <td>-0.29656</td>\n",
       "      <td>0.614263</td>\n",
       "    </tr>\n",
       "    <tr>\n",
       "      <th>568</th>\n",
       "      <td>-2.719192e-16</td>\n",
       "      <td>-0.487594</td>\n",
       "      <td>-0.494524</td>\n",
       "      <td>-0.514124</td>\n",
       "      <td>0.0</td>\n",
       "      <td>0.0</td>\n",
       "      <td>0.0</td>\n",
       "      <td>2.044088</td>\n",
       "      <td>0.0</td>\n",
       "      <td>0.0</td>\n",
       "      <td>...</td>\n",
       "      <td>-0.03872</td>\n",
       "      <td>-0.03872</td>\n",
       "      <td>-0.067166</td>\n",
       "      <td>-0.0548</td>\n",
       "      <td>-0.03872</td>\n",
       "      <td>-0.067166</td>\n",
       "      <td>-0.03872</td>\n",
       "      <td>2.044088</td>\n",
       "      <td>-0.29656</td>\n",
       "      <td>-1.627966</td>\n",
       "    </tr>\n",
       "    <tr>\n",
       "      <th>381</th>\n",
       "      <td>-2.161750e+00</td>\n",
       "      <td>-0.487594</td>\n",
       "      <td>1.998625</td>\n",
       "      <td>-0.341142</td>\n",
       "      <td>0.0</td>\n",
       "      <td>0.0</td>\n",
       "      <td>0.0</td>\n",
       "      <td>-0.489216</td>\n",
       "      <td>0.0</td>\n",
       "      <td>0.0</td>\n",
       "      <td>...</td>\n",
       "      <td>-0.03872</td>\n",
       "      <td>-0.03872</td>\n",
       "      <td>-0.067166</td>\n",
       "      <td>-0.0548</td>\n",
       "      <td>-0.03872</td>\n",
       "      <td>-0.067166</td>\n",
       "      <td>-0.03872</td>\n",
       "      <td>2.044088</td>\n",
       "      <td>-0.29656</td>\n",
       "      <td>-1.627966</td>\n",
       "    </tr>\n",
       "    <tr>\n",
       "      <th>694</th>\n",
       "      <td>2.354019e+00</td>\n",
       "      <td>-0.487594</td>\n",
       "      <td>-0.494524</td>\n",
       "      <td>-0.121507</td>\n",
       "      <td>0.0</td>\n",
       "      <td>0.0</td>\n",
       "      <td>0.0</td>\n",
       "      <td>-0.489216</td>\n",
       "      <td>0.0</td>\n",
       "      <td>0.0</td>\n",
       "      <td>...</td>\n",
       "      <td>-0.03872</td>\n",
       "      <td>-0.03872</td>\n",
       "      <td>-0.067166</td>\n",
       "      <td>-0.0548</td>\n",
       "      <td>-0.03872</td>\n",
       "      <td>-0.067166</td>\n",
       "      <td>-0.03872</td>\n",
       "      <td>-0.489216</td>\n",
       "      <td>-0.29656</td>\n",
       "      <td>0.614263</td>\n",
       "    </tr>\n",
       "    <tr>\n",
       "      <th>844</th>\n",
       "      <td>-9.371347e-01</td>\n",
       "      <td>-0.487594</td>\n",
       "      <td>-0.494524</td>\n",
       "      <td>-0.484998</td>\n",
       "      <td>0.0</td>\n",
       "      <td>0.0</td>\n",
       "      <td>0.0</td>\n",
       "      <td>-0.489216</td>\n",
       "      <td>0.0</td>\n",
       "      <td>0.0</td>\n",
       "      <td>...</td>\n",
       "      <td>-0.03872</td>\n",
       "      <td>-0.03872</td>\n",
       "      <td>-0.067166</td>\n",
       "      <td>-0.0548</td>\n",
       "      <td>-0.03872</td>\n",
       "      <td>-0.067166</td>\n",
       "      <td>-0.03872</td>\n",
       "      <td>-0.489216</td>\n",
       "      <td>-0.29656</td>\n",
       "      <td>0.614263</td>\n",
       "    </tr>\n",
       "  </tbody>\n",
       "</table>\n",
       "<p>5 rows × 1348 columns</p>\n",
       "</div>"
      ],
      "text/plain": [
       "              Age     SibSp     Parch      Fare  Pclass_missing  Name_missing  \\\n",
       "784 -3.248270e-01 -0.487594 -0.494524 -0.517766             0.0           0.0   \n",
       "568 -2.719192e-16 -0.487594 -0.494524 -0.514124             0.0           0.0   \n",
       "381 -2.161750e+00 -0.487594  1.998625 -0.341142             0.0           0.0   \n",
       "694  2.354019e+00 -0.487594 -0.494524 -0.121507             0.0           0.0   \n",
       "844 -9.371347e-01 -0.487594 -0.494524 -0.484998             0.0           0.0   \n",
       "\n",
       "     Sex_missing  Age_missing  SibSp_missing  Parch_missing  ...    F E69  \\\n",
       "784          0.0    -0.489216            0.0            0.0  ... -0.03872   \n",
       "568          0.0     2.044088            0.0            0.0  ... -0.03872   \n",
       "381          0.0    -0.489216            0.0            0.0  ... -0.03872   \n",
       "694          0.0    -0.489216            0.0            0.0  ... -0.03872   \n",
       "844          0.0    -0.489216            0.0            0.0  ... -0.03872   \n",
       "\n",
       "       F G73        F2     F33       F4        G6        T         C        Q  \\\n",
       "784 -0.03872 -0.067166 -0.0548 -0.03872 -0.067166 -0.03872 -0.489216 -0.29656   \n",
       "568 -0.03872 -0.067166 -0.0548 -0.03872 -0.067166 -0.03872  2.044088 -0.29656   \n",
       "381 -0.03872 -0.067166 -0.0548 -0.03872 -0.067166 -0.03872  2.044088 -0.29656   \n",
       "694 -0.03872 -0.067166 -0.0548 -0.03872 -0.067166 -0.03872 -0.489216 -0.29656   \n",
       "844 -0.03872 -0.067166 -0.0548 -0.03872 -0.067166 -0.03872 -0.489216 -0.29656   \n",
       "\n",
       "            S  \n",
       "784  0.614263  \n",
       "568 -1.627966  \n",
       "381 -1.627966  \n",
       "694  0.614263  \n",
       "844  0.614263  \n",
       "\n",
       "[5 rows x 1348 columns]"
      ]
     },
     "execution_count": 65,
     "metadata": {},
     "output_type": "execute_result"
    }
   ],
   "source": [
    "X_train.head()"
   ]
  },
  {
   "cell_type": "markdown",
   "metadata": {},
   "source": [
    "## Modeling, Part 4\n",
    "\n",
    "Now that the data is scaled, let's see if we can fit the model without tweaking any hyperparameters."
   ]
  },
  {
   "cell_type": "code",
   "execution_count": 66,
   "metadata": {},
   "outputs": [
    {
     "data": {
      "text/plain": [
       "LogisticRegression(random_state=2021)"
      ]
     },
     "execution_count": 66,
     "metadata": {},
     "output_type": "execute_result"
    }
   ],
   "source": [
    "logreg_model = LogisticRegression(random_state=2021)\n",
    "logreg_model.fit(X_train, y_train)"
   ]
  },
  {
   "cell_type": "markdown",
   "metadata": {},
   "source": [
    "## Model Evaluation, Part 4\n",
    "\n",
    "Now that we are able to run a logistic regression with default hyperparameters, let's see how that performs."
   ]
  },
  {
   "cell_type": "code",
   "execution_count": 67,
   "metadata": {},
   "outputs": [
    {
     "data": {
      "image/png": "[encoded data removed]",
      "text/plain": [
       "<Figure size 432x288 with 2 Axes>"
      ]
     },
     "metadata": {
      "needs_background": "light"
     },
     "output_type": "display_data"
    }
   ],
   "source": [
    "fig, ax = plt.subplots()\n",
    "\n",
    "fig.suptitle(\"Logistic Regression with All Features, Scaled\")\n",
    "\n",
    "plot_confusion_matrix(logreg_model, X_train, y_train, ax=ax, cmap=\"plasma\");"
   ]
  },
  {
   "cell_type": "code",
   "execution_count": 68,
   "metadata": {},
   "outputs": [
    {
     "data": {
      "text/plain": [
       "array([0.77130045, 0.71748879, 0.8018018 ])"
      ]
     },
     "execution_count": 68,
     "metadata": {},
     "output_type": "execute_result"
    }
   ],
   "source": [
    "all_features_cross_val_score = cross_val_score(logreg_model, X_train, y_train, cv=3)\n",
    "all_features_cross_val_score"
   ]
  },
  {
   "cell_type": "code",
   "execution_count": 69,
   "metadata": {},
   "outputs": [
    {
     "data": {
      "text/plain": [
       "<sklearn.metrics._plot.roc_curve.RocCurveDisplay at 0x7fe161421a30>"
      ]
     },
     "execution_count": 69,
     "metadata": {},
     "output_type": "execute_result"
    },
    {
     "data": {
      "image/png": "[encoded data removed]",
      "text/plain": [
       "<Figure size 432x288 with 1 Axes>"
      ]
     },
     "metadata": {
      "needs_background": "light"
     },
     "output_type": "display_data"
    }
   ],
   "source": [
    "plot_roc_curve(logreg_model, X_train, y_train)"
   ]
  },
  {
   "cell_type": "markdown",
   "metadata": {},
   "source": [
    "Perfect on the training data, high 70% range on the test data ... this might be overfitting."
   ]
  },
  {
   "cell_type": "code",
   "execution_count": 70,
   "metadata": {},
   "outputs": [
    {
     "data": {
      "text/plain": [
       "[('female', 0.7707792556639665),\n",
       " ('male', -0.7707792556639665),\n",
       " (3, -0.34710430073348764),\n",
       " ('Cabin_missing', -0.29327586677786727),\n",
       " ('B96 B98', -0.2585325617543078),\n",
       " ('Allison, Master. Hudson Trevor', 0.2539182332485464),\n",
       " (1, 0.25009618171642356),\n",
       " ('Albimona, Mr. Nassef Cassem', 0.24652579946195943),\n",
       " ('Dean, Master. Bertram Vere', 0.24437287652453307),\n",
       " ('Age', -0.2414801016698032),\n",
       " ('C.A. 37671', 0.23274482233402957),\n",
       " ('2661', 0.23244726262013707),\n",
       " ('Asplund, Master. Edvin Rojj Felix', 0.2311224011043913),\n",
       " ('Allison, Miss. Helen Loraine', -0.23052110551415908),\n",
       " ('Davies, Master. John Morgan Jr', 0.22936115331740037),\n",
       " ('Chip, Mr. Chang', 0.2286044808819722),\n",
       " ('Fare', 0.22628999545868247),\n",
       " ('Lang, Mr. Fang', 0.22494625284686956),\n",
       " ('29106', 0.22265343330127557),\n",
       " ('Allison, Mrs. Hudson J C (Bessie Waldo Daniels)', -0.2165271407296564),\n",
       " ('347082', -0.20986419991539168),\n",
       " ('Navratil, Mr. Michel (\"Louis M Hoffman\")', -0.20770966985748657),\n",
       " ('Mallet, Master. Andre', 0.20498669181843038),\n",
       " ('113760', 0.2033643464887961),\n",
       " ('Moran, Miss. Bertha', 0.20116832314980135),\n",
       " ('363291', 0.19779194482700982),\n",
       " ('2666', 0.19473980214126754),\n",
       " ('Fortune, Mr. Charles Alexander', -0.18919204420839403),\n",
       " ('Thorneycroft, Mrs. Percival (Florence Kate White)', 0.1873582859468587),\n",
       " ('Backstrom, Mrs. Karl Alfred (Maria Mathilda Gustafsson)',\n",
       "  0.18735182615280535),\n",
       " ('2651', 0.18315827217119462),\n",
       " ('Abbott, Mrs. Stanton (Rosa Hunt)', 0.18297452936480274),\n",
       " ('Nakid, Mr. Sahid', 0.18008191977685886),\n",
       " ('349909', -0.17952440203066136),\n",
       " ('Hakkarainen, Mrs. Pekka Pietari (Elin Matilda Dolck)', 0.17906489585506383),\n",
       " ('Moss, Mr. Albert Johan', 0.17895849808689013),\n",
       " ('312991', 0.17895849808689013),\n",
       " ('Johannesen-Bratthammer, Mr. Bernt', 0.17893143991904414),\n",
       " ('65306', 0.17893143991904414),\n",
       " ('Goldsmith, Master. Frank John William \"Frankie\"', 0.17888635080883195),\n",
       " ('2653', 0.1770480584259337),\n",
       " ('Nicola-Yarred, Master. Elias', 0.17630091478018392),\n",
       " ('Niskanen, Mr. Juha', 0.1761920472849347),\n",
       " ('STON/O 2. 3101289', 0.1761920472849347),\n",
       " ('PC 17611', 0.17524821386842146),\n",
       " ('Jonsson, Mr. Carl', 0.17394691920669744),\n",
       " ('350417', 0.17394691920669744),\n",
       " ('Jussila, Mr. Eiriik', 0.17394125884682016),\n",
       " ('STON/O 2. 3101286', 0.17394125884682016),\n",
       " ('Thayer, Mr. John Borland', -0.17343374868875866)]"
      ]
     },
     "execution_count": 70,
     "metadata": {},
     "output_type": "execute_result"
    }
   ],
   "source": [
    "sorted(list(zip(X_train.columns, logreg_model.coef_[0])),\n",
    "       key=lambda x: abs(x[1]), reverse=True)[:50]"
   ]
  },
  {
   "cell_type": "markdown",
   "metadata": {},
   "source": [
    "## Hyperparameter Adjustment\n",
    "\n",
    "\n",
    "### Different Regularization Strengths\n",
    "\n",
    "Let's try out some different regularization penalties to see if we can improve the test data score a bit."
   ]
  },
  {
   "cell_type": "code",
   "execution_count": 71,
   "metadata": {},
   "outputs": [
    {
     "name": "stdout",
     "output_type": "stream",
     "text": [
      "Old: [0.77130045 0.71748879 0.8018018 ]\n",
      "New: [0.76233184 0.71300448 0.79279279]\n"
     ]
    }
   ],
   "source": [
    "logreg_model = LogisticRegression(random_state=2021, C=0.1)\n",
    "logreg_model.fit(X_train, y_train)\n",
    "\n",
    "print(\"Old:\", all_features_cross_val_score)\n",
    "print(\"New:\", cross_val_score(logreg_model, X_train, y_train, cv=3))"
   ]
  },
  {
   "cell_type": "markdown",
   "metadata": {},
   "source": [
    "Seems like it doesn't make a difference.\n",
    "\n",
    "Try a little less regularization:"
   ]
  },
  {
   "cell_type": "code",
   "execution_count": 72,
   "metadata": {},
   "outputs": [
    {
     "name": "stdout",
     "output_type": "stream",
     "text": [
      "Old: [0.77130045 0.71748879 0.8018018 ]\n",
      "New: [0.76681614 0.71748879 0.7972973 ]\n"
     ]
    }
   ],
   "source": [
    "logreg_model = LogisticRegression(random_state=2021, C=0.5)\n",
    "logreg_model.fit(X_train, y_train)\n",
    "\n",
    "print(\"Old:\", all_features_cross_val_score)\n",
    "print(\"New:\", cross_val_score(logreg_model, X_train, y_train, cv=3))"
   ]
  },
  {
   "cell_type": "markdown",
   "metadata": {},
   "source": [
    "Same or worse.\n",
    "\n",
    "Try a little more regularization:"
   ]
  },
  {
   "cell_type": "code",
   "execution_count": 73,
   "metadata": {},
   "outputs": [
    {
     "name": "stdout",
     "output_type": "stream",
     "text": [
      "Old: [0.77130045 0.71748879 0.8018018 ]\n",
      "New: [0.76233184 0.71748879 0.79279279]\n"
     ]
    }
   ],
   "source": [
    "logreg_model = LogisticRegression(random_state=2021, C=0.05)\n",
    "logreg_model.fit(X_train, y_train)\n",
    "\n",
    "print(\"Old:\", all_features_cross_val_score)\n",
    "print(\"New:\", cross_val_score(logreg_model, X_train, y_train, cv=3))"
   ]
  },
  {
   "cell_type": "markdown",
   "metadata": {},
   "source": [
    "Also worse.  It looks like the default C value is pretty optimal for this solver."
   ]
  },
  {
   "cell_type": "markdown",
   "metadata": {},
   "source": [
    "### Different Solvers\n",
    "\n",
    "Let's try also some other solvers:"
   ]
  },
  {
   "cell_type": "code",
   "execution_count": 74,
   "metadata": {},
   "outputs": [
    {
     "name": "stdout",
     "output_type": "stream",
     "text": [
      "Old: [0.77130045 0.71748879 0.8018018 ]\n",
      "New: [0.73991031 0.80269058 0.7972973 ]\n"
     ]
    }
   ],
   "source": [
    "logreg_model = LogisticRegression(random_state=2021, solver=\"liblinear\")\n",
    "logreg_model.fit(X_train, y_train)\n",
    "\n",
    "print(\"Old:\", all_features_cross_val_score)\n",
    "print(\"New:\", cross_val_score(logreg_model, X_train, y_train, cv=3))"
   ]
  },
  {
   "cell_type": "markdown",
   "metadata": {},
   "source": [
    "A little slower, but no major difference in the scores.  Let's try adding some more regularization:"
   ]
  },
  {
   "cell_type": "code",
   "execution_count": 75,
   "metadata": {},
   "outputs": [
    {
     "name": "stdout",
     "output_type": "stream",
     "text": [
      "Old: [0.77130045 0.71748879 0.8018018 ]\n",
      "New: [0.74439462 0.79820628 0.7972973 ]\n"
     ]
    }
   ],
   "source": [
    "logreg_model = LogisticRegression(random_state=2021, solver=\"liblinear\", C=0.01)\n",
    "logreg_model.fit(X_train, y_train)\n",
    "\n",
    "print(\"Old:\", all_features_cross_val_score)\n",
    "print(\"New:\", cross_val_score(logreg_model, X_train, y_train, cv=3))"
   ]
  },
  {
   "cell_type": "markdown",
   "metadata": {},
   "source": [
    "Getting better.  Try a different type of penalty:"
   ]
  },
  {
   "cell_type": "code",
   "execution_count": 76,
   "metadata": {},
   "outputs": [
    {
     "name": "stdout",
     "output_type": "stream",
     "text": [
      "Old: [0.77130045 0.71748879 0.8018018 ]\n",
      "New: [0.78475336 0.82959641 0.77927928]\n"
     ]
    }
   ],
   "source": [
    "logreg_model = LogisticRegression(random_state=2021, solver=\"liblinear\", penalty=\"l1\")\n",
    "logreg_model.fit(X_train, y_train)\n",
    "\n",
    "print(\"Old:\", all_features_cross_val_score)\n",
    "print(\"New:\", cross_val_score(logreg_model, X_train, y_train, cv=3))"
   ]
  },
  {
   "cell_type": "markdown",
   "metadata": {},
   "source": [
    "Slightly better average here.  Try adding some more regularization with L1 penalty:"
   ]
  },
  {
   "cell_type": "code",
   "execution_count": 77,
   "metadata": {},
   "outputs": [
    {
     "name": "stdout",
     "output_type": "stream",
     "text": [
      "Old: [0.77130045 0.71748879 0.8018018 ]\n",
      "New: [0.78026906 0.82959641 0.77927928]\n"
     ]
    }
   ],
   "source": [
    "logreg_model = LogisticRegression(random_state=2021, solver=\"liblinear\", penalty=\"l1\", C=0.01)\n",
    "logreg_model.fit(X_train, y_train)\n",
    "\n",
    "print(\"Old:\", all_features_cross_val_score)\n",
    "print(\"New:\", cross_val_score(logreg_model, X_train, y_train, cv=3))"
   ]
  },
  {
   "cell_type": "markdown",
   "metadata": {},
   "source": [
    "Still, the default regularization strength seems pretty good.  Double-check the confusion matrix:"
   ]
  },
  {
   "cell_type": "code",
   "execution_count": 78,
   "metadata": {},
   "outputs": [
    {
     "data": {
      "image/png": "[encoded data removed]",
      "text/plain": [
       "<Figure size 432x288 with 2 Axes>"
      ]
     },
     "metadata": {
      "needs_background": "light"
     },
     "output_type": "display_data"
    }
   ],
   "source": [
    "logreg_model = LogisticRegression(random_state=2021, solver=\"liblinear\", penalty=\"l1\")\n",
    "logreg_model.fit(X_train, y_train)\n",
    "\n",
    "fig, ax = plt.subplots()\n",
    "\n",
    "fig.suptitle(\"Logistic Regression with All Features (Scaled, Hyperparameters Tuned)\")\n",
    "\n",
    "plot_confusion_matrix(logreg_model, X_train, y_train, ax=ax, cmap=\"plasma\");"
   ]
  },
  {
   "cell_type": "markdown",
   "metadata": {},
   "source": [
    "## `SelectFromModel`\n",
    "\n",
    "The last model is probably overfitting. We might try thinning out the number of features by eliminating the ones with small modeling coefficients:"
   ]
  },
  {
   "cell_type": "code",
   "execution_count": 79,
   "metadata": {},
   "outputs": [
    {
     "data": {
      "text/plain": [
       "SelectFromModel(estimator=LogisticRegression(penalty='l1', random_state=2021,\n",
       "                                             solver='liblinear'))"
      ]
     },
     "execution_count": 79,
     "metadata": {},
     "output_type": "execute_result"
    }
   ],
   "source": [
    "selector = SelectFromModel(logreg_model)\n",
    "\n",
    "selector.fit(X_train, y_train)"
   ]
  },
  {
   "cell_type": "markdown",
   "metadata": {},
   "source": [
    "We're using the default threshold here:"
   ]
  },
  {
   "cell_type": "code",
   "execution_count": 80,
   "metadata": {},
   "outputs": [
    {
     "data": {
      "text/plain": [
       "1e-05"
      ]
     },
     "execution_count": 80,
     "metadata": {},
     "output_type": "execute_result"
    }
   ],
   "source": [
    "thresh = selector.threshold_\n",
    "thresh"
   ]
  },
  {
   "cell_type": "markdown",
   "metadata": {},
   "source": [
    "Let's get a sense of which features will be eliminated:"
   ]
  },
  {
   "cell_type": "code",
   "execution_count": 81,
   "metadata": {},
   "outputs": [
    {
     "data": {
      "text/plain": [
       "array([[-0.20271981, -0.02668007,  0.        , ...,  0.00044669,\n",
       "         0.        , -0.07831913]])"
      ]
     },
     "execution_count": 81,
     "metadata": {},
     "output_type": "execute_result"
    }
   ],
   "source": [
    "coefs = selector.estimator_.coef_\n",
    "coefs"
   ]
  },
  {
   "cell_type": "code",
   "execution_count": 82,
   "metadata": {},
   "outputs": [
    {
     "data": {
      "text/plain": [
       "(148,)"
      ]
     },
     "execution_count": 82,
     "metadata": {},
     "output_type": "execute_result"
    }
   ],
   "source": [
    "coefs[coefs > thresh].shape"
   ]
  },
  {
   "cell_type": "code",
   "execution_count": 83,
   "metadata": {},
   "outputs": [
    {
     "data": {
      "text/plain": [
       "array([ True,  True, False, ...,  True, False,  True])"
      ]
     },
     "execution_count": 83,
     "metadata": {},
     "output_type": "execute_result"
    }
   ],
   "source": [
    "selector.get_support()"
   ]
  },
  {
   "cell_type": "code",
   "execution_count": 84,
   "metadata": {},
   "outputs": [
    {
     "data": {
      "text/plain": [
       "{'Age': True,\n",
       " 'SibSp': True,\n",
       " 'Parch': False,\n",
       " 'Fare': False,\n",
       " 'Pclass_missing': False,\n",
       " 'Name_missing': False,\n",
       " 'Sex_missing': False,\n",
       " 'Age_missing': False,\n",
       " 'SibSp_missing': False,\n",
       " 'Parch_missing': False,\n",
       " 'Ticket_missing': False,\n",
       " 'Fare_missing': False,\n",
       " 'Cabin_missing': True,\n",
       " 'Embarked_missing': False,\n",
       " 1: False,\n",
       " 2: False,\n",
       " 3: True,\n",
       " 'Abbing, Mr. Anthony': False,\n",
       " 'Abbott, Mr. Rossmore Edward': False,\n",
       " 'Abbott, Mrs. Stanton (Rosa Hunt)': False,\n",
       " 'Abelson, Mr. Samuel': False,\n",
       " 'Abelson, Mrs. Samuel (Hannah Wizosky)': False,\n",
       " 'Adahl, Mr. Mauritz Nils Martin': False,\n",
       " 'Adams, Mr. John': False,\n",
       " 'Albimona, Mr. Nassef Cassem': True,\n",
       " 'Alexander, Mr. William': False,\n",
       " 'Alhomaki, Mr. Ilmari Rudolf': False,\n",
       " 'Ali, Mr. William': False,\n",
       " 'Allen, Miss. Elisabeth Walton': False,\n",
       " 'Allen, Mr. William Henry': False,\n",
       " 'Allison, Master. Hudson Trevor': True,\n",
       " 'Allison, Miss. Helen Loraine': True,\n",
       " 'Allison, Mrs. Hudson J C (Bessie Waldo Daniels)': True,\n",
       " 'Allum, Mr. Owen George': False,\n",
       " 'Andersen-Jensen, Miss. Carla Christine Nielsine': False,\n",
       " 'Anderson, Mr. Harry': True,\n",
       " 'Andersson, Master. Sigvard Harald Elias': False,\n",
       " 'Andersson, Miss. Ebba Iris Alfrida': False,\n",
       " 'Andersson, Miss. Ellis Anna Maria': False,\n",
       " 'Andersson, Miss. Erna Alexandra': False,\n",
       " 'Andersson, Miss. Ingeborg Constanzia': False,\n",
       " 'Andersson, Miss. Sigrid Elisabeth': False,\n",
       " 'Andersson, Mr. Anders Johan': False,\n",
       " 'Andersson, Mr. August Edvard (\"Wennerstrom\")': True,\n",
       " 'Andreasson, Mr. Paul Edvin': False,\n",
       " 'Andrew, Mr. Edgardo Samuel': False,\n",
       " 'Andrews, Miss. Kornelia Theodosia': False,\n",
       " 'Andrews, Mr. Thomas Jr': False,\n",
       " 'Angle, Mrs. William A (Florence \"Mary\" Agnes Hughes)': False,\n",
       " 'Appleton, Mrs. Edward Dale (Charlotte Lamson)': False,\n",
       " 'Arnold-Franchi, Mr. Josef': False,\n",
       " 'Arnold-Franchi, Mrs. Josef (Josefine Franchi)': True,\n",
       " 'Asim, Mr. Adola': False,\n",
       " 'Asplund, Master. Clarence Gustaf Hugo': False,\n",
       " 'Asplund, Master. Edvin Rojj Felix': True,\n",
       " 'Asplund, Miss. Lillian Gertrud': False,\n",
       " 'Asplund, Mrs. Carl Oscar (Selma Augusta Emilia Johansson)': False,\n",
       " 'Attalah, Miss. Malake': True,\n",
       " 'Attalah, Mr. Sleiman': False,\n",
       " 'Aubart, Mme. Leontine Pauline': False,\n",
       " 'Augustsson, Mr. Albert': False,\n",
       " 'Ayoub, Miss. Banoura': False,\n",
       " 'Backstrom, Mr. Karl Alfred': False,\n",
       " 'Backstrom, Mrs. Karl Alfred (Maria Mathilda Gustafsson)': False,\n",
       " 'Baclini, Miss. Eugenie': False,\n",
       " 'Baclini, Miss. Helene Barbara': False,\n",
       " 'Baclini, Miss. Marie Catherine': False,\n",
       " 'Baclini, Mrs. Solomon (Latifa Qurban)': False,\n",
       " 'Bailey, Mr. Percy Andrew': False,\n",
       " 'Ball, Mrs. (Ada E Hall)': False,\n",
       " 'Banfield, Mr. Frederick James': False,\n",
       " 'Barah, Mr. Hanna Assi': True,\n",
       " 'Barbara, Miss. Saiide': True,\n",
       " 'Barber, Miss. Ellen \"Nellie\"': False,\n",
       " 'Barton, Mr. David John': False,\n",
       " 'Baumann, Mr. John D': False,\n",
       " 'Baxter, Mr. Quigg Edmond': False,\n",
       " 'Bazzani, Miss. Albina': False,\n",
       " 'Beane, Mr. Edward': True,\n",
       " 'Beavan, Mr. William Thomas': False,\n",
       " 'Becker, Miss. Marion Louise': False,\n",
       " 'Beckwith, Mr. Richard Leonard': True,\n",
       " 'Behr, Mr. Karl Howell': True,\n",
       " 'Bengtsson, Mr. John Viktor': False,\n",
       " 'Berglund, Mr. Karl Ivar Sven': False,\n",
       " 'Berriman, Mr. William John': False,\n",
       " 'Bidois, Miss. Rosalie': False,\n",
       " 'Birkeland, Mr. Hans Martin Monsen': False,\n",
       " 'Bishop, Mr. Dickinson H': True,\n",
       " 'Bishop, Mrs. Dickinson H (Helen Walton)': False,\n",
       " 'Bissette, Miss. Amelia': False,\n",
       " 'Bjornstrom-Steffansson, Mr. Mauritz Hakan': False,\n",
       " 'Blackwell, Mr. Stephen Weart': False,\n",
       " 'Bonnell, Miss. Elizabeth': False,\n",
       " 'Bostandyeff, Mr. Guentcho': False,\n",
       " 'Boulos, Miss. Nourelain': False,\n",
       " 'Boulos, Mr. Hanna': False,\n",
       " 'Boulos, Mrs. Joseph (Sultana)': False,\n",
       " 'Bourke, Mr. John': False,\n",
       " 'Bourke, Mrs. John (Catherine)': True,\n",
       " 'Bowen, Mr. David John \"Dai\"': False,\n",
       " 'Bracken, Mr. James H': False,\n",
       " 'Braund, Mr. Lewis Richard': False,\n",
       " 'Braund, Mr. Owen Harris': False,\n",
       " 'Brewe, Dr. Arthur Jackson': False,\n",
       " 'Brown, Miss. Amelia \"Mildred\"': False,\n",
       " 'Brown, Mr. Thomas William Solomon': False,\n",
       " 'Brown, Mrs. James Joseph (Margaret Tobin)': False,\n",
       " 'Brown, Mrs. Thomas William Solomon (Elizabeth Catherine Ford)': False,\n",
       " 'Bryhl, Mr. Kurt Arnold Gottfrid': False,\n",
       " 'Burke, Mr. Jeremiah': False,\n",
       " 'Burns, Miss. Elizabeth Margaret': False,\n",
       " 'Buss, Miss. Kate': False,\n",
       " 'Byles, Rev. Thomas Roussel Davids': False,\n",
       " 'Cacic, Miss. Marija': True,\n",
       " 'Cacic, Mr. Luka': False,\n",
       " 'Cairns, Mr. Alexander': False,\n",
       " 'Caldwell, Master. Alden Gates': True,\n",
       " 'Caldwell, Mrs. Albert Francis (Sylvia Mae Harbaugh)': False,\n",
       " 'Calic, Mr. Jovo': False,\n",
       " 'Calic, Mr. Petar': False,\n",
       " 'Cameron, Miss. Clear Annie': False,\n",
       " 'Campbell, Mr. William': False,\n",
       " 'Caram, Mrs. Joseph (Maria Elias)': True,\n",
       " 'Carlsson, Mr. August Sigfrid': False,\n",
       " 'Carlsson, Mr. Frans Olof': False,\n",
       " 'Carrau, Mr. Francisco M': False,\n",
       " 'Carter, Master. William Thornton II': True,\n",
       " 'Carter, Miss. Lucile Polk': False,\n",
       " 'Carter, Mr. William Ernest': True,\n",
       " 'Carter, Mrs. Ernest Courtenay (Lilian Hughes)': True,\n",
       " 'Carter, Mrs. William Ernest (Lucile Polk)': False,\n",
       " 'Carter, Rev. Ernest Courtenay': False,\n",
       " 'Cavendish, Mr. Tyrell William': False,\n",
       " 'Celotti, Mr. Francesco': False,\n",
       " 'Chambers, Mr. Norman Campbell': True,\n",
       " 'Chambers, Mrs. Norman Campbell (Bertha Griggs)': False,\n",
       " 'Chapman, Mr. John Henry': False,\n",
       " 'Charters, Mr. David': False,\n",
       " 'Cherry, Miss. Gladys': False,\n",
       " 'Chibnall, Mrs. (Edith Martha Bowerman)': False,\n",
       " 'Chip, Mr. Chang': True,\n",
       " 'Clarke, Mrs. Charles V (Ada Maria Winfield)': False,\n",
       " 'Cleaver, Miss. Alice': False,\n",
       " 'Clifford, Mr. George Quincy': False,\n",
       " 'Coelho, Mr. Domingos Fernandeo': False,\n",
       " 'Cohen, Mr. Gurshon \"Gus\"': True,\n",
       " 'Coleff, Mr. Peju': False,\n",
       " 'Coleff, Mr. Satio': False,\n",
       " 'Collander, Mr. Erik Gustaf': False,\n",
       " 'Colley, Mr. Edward Pomeroy': False,\n",
       " 'Collyer, Mr. Harvey': False,\n",
       " 'Collyer, Mrs. Harvey (Charlotte Annie Tate)': False,\n",
       " 'Connaghton, Mr. Michael': False,\n",
       " 'Connors, Mr. Patrick': False,\n",
       " 'Cor, Mr. Liudevit': False,\n",
       " 'Coutts, Master. Eden Leslie \"Neville\"': False,\n",
       " 'Coutts, Master. William Loch \"William\"': False,\n",
       " 'Coxon, Mr. Daniel': False,\n",
       " 'Crease, Mr. Ernest James': False,\n",
       " 'Cribb, Mr. John Hatfield': False,\n",
       " 'Crosby, Miss. Harriet R': False,\n",
       " 'Culumovic, Mr. Jeso': False,\n",
       " 'Cunningham, Mr. Alfred Fleming': False,\n",
       " 'Dakic, Mr. Branko': False,\n",
       " 'Daly, Mr. Eugene Patrick': True,\n",
       " 'Daly, Mr. Peter Denis ': True,\n",
       " 'Danbom, Mr. Ernst Gilbert': False,\n",
       " 'Danbom, Mrs. Ernst Gilbert (Anna Sigrid Maria Brogren)': True,\n",
       " 'Danoff, Mr. Yoto': False,\n",
       " 'Davidson, Mr. Thornton': False,\n",
       " 'Davies, Master. John Morgan Jr': True,\n",
       " 'Davies, Mr. Alfred J': False,\n",
       " 'Davison, Mrs. Thomas Henry (Mary E Finck)': False,\n",
       " 'Dean, Master. Bertram Vere': True,\n",
       " 'Dean, Mr. Bertram Frank': False,\n",
       " 'Denkoff, Mr. Mitto': False,\n",
       " 'Devaney, Miss. Margaret Delia': False,\n",
       " 'Dick, Mr. Albert Adrian': True,\n",
       " 'Dick, Mrs. Albert Adrian (Vera Gillespie)': False,\n",
       " 'Dimic, Mr. Jovan': False,\n",
       " 'Dodge, Master. Washington': True,\n",
       " 'Doharr, Mr. Tannous': False,\n",
       " 'Doling, Miss. Elsie': False,\n",
       " 'Doling, Mrs. John T (Ada Julia Bone)': False,\n",
       " 'Dorking, Mr. Edward Arthur': True,\n",
       " 'Douglas, Mr. Walter Donald': False,\n",
       " 'Downton, Mr. William James': False,\n",
       " 'Drew, Mrs. James Vivian (Lulu Thorne Christian)': False,\n",
       " 'Duane, Mr. Frank': False,\n",
       " 'Duff Gordon, Lady. (Lucille Christiana Sutherland) (\"Mrs Morgan\")': False,\n",
       " 'Duff Gordon, Sir. Cosmo Edmund (\"Mr Morgan\")': True,\n",
       " 'Edvardsson, Mr. Gustaf Hjalmar': False,\n",
       " 'Eitemiller, Mr. George Floyd': False,\n",
       " 'Eklund, Mr. Hans Linus': False,\n",
       " 'Ekstrom, Mr. Johan': False,\n",
       " 'Elias, Mr. Dibo': False,\n",
       " 'Elias, Mr. Joseph Jr': False,\n",
       " 'Elias, Mr. Tannous': False,\n",
       " 'Elsbury, Mr. William James': False,\n",
       " 'Emanuel, Miss. Virginia Ethel': False,\n",
       " 'Emir, Mr. Farred Chehab': False,\n",
       " 'Eustis, Miss. Elizabeth Mussey': False,\n",
       " 'Farthing, Mr. John': False,\n",
       " 'Faunthorpe, Mrs. Lizzie (Elizabeth Anne Wilkinson)': False,\n",
       " 'Fischer, Mr. Eberhard Thelander': False,\n",
       " 'Fleming, Miss. Margaret': False,\n",
       " 'Flynn, Mr. James': False,\n",
       " 'Flynn, Mr. John': False,\n",
       " 'Flynn, Mr. John Irwin (\"Irving\")': True,\n",
       " 'Ford, Miss. Doolina Margaret \"Daisy\"': False,\n",
       " 'Ford, Miss. Robina Maggie \"Ruby\"': True,\n",
       " 'Ford, Mr. William Neal': False,\n",
       " 'Foreman, Mr. Benjamin Laventall': False,\n",
       " 'Fortune, Miss. Alice Elizabeth': False,\n",
       " 'Fortune, Miss. Mabel Helen': False,\n",
       " 'Fortune, Mr. Charles Alexander': False,\n",
       " 'Fox, Mr. Stanley Hubert': False,\n",
       " 'Francatelli, Miss. Laura Mabel': False,\n",
       " 'Frauenthal, Dr. Henry William': True,\n",
       " 'Frauenthal, Mrs. Henry William (Clara Heinsheimer)': False,\n",
       " 'Frolicher, Miss. Hedwig Margaritha': False,\n",
       " 'Frolicher-Stehli, Mr. Maxmillian': True,\n",
       " 'Frost, Mr. Anthony Wood \"Archie\"': False,\n",
       " 'Fry, Mr. Richard': False,\n",
       " 'Funk, Miss. Annie Clemmer': True,\n",
       " 'Futrelle, Mr. Jacques Heath': False,\n",
       " 'Futrelle, Mrs. Jacques Heath (Lily May Peel)': False,\n",
       " 'Fynney, Mr. Joseph J': False,\n",
       " 'Gale, Mr. Shadrach': False,\n",
       " 'Gallagher, Mr. Martin': False,\n",
       " 'Garside, Miss. Ethel': False,\n",
       " 'Gaskell, Mr. Alfred': False,\n",
       " 'Gee, Mr. Arthur H': False,\n",
       " 'Gheorgheff, Mr. Stanio': False,\n",
       " 'Giglio, Mr. Victor': False,\n",
       " 'Giles, Mr. Frederick Edward': False,\n",
       " 'Gilinski, Mr. Eliezer': False,\n",
       " 'Gill, Mr. John William': False,\n",
       " 'Gilnagh, Miss. Katherine \"Katie\"': False,\n",
       " 'Goldenberg, Mrs. Samuel L (Edwiga Grabowska)': False,\n",
       " 'Goldschmidt, Mr. George B': False,\n",
       " 'Goldsmith, Master. Frank John William \"Frankie\"': True,\n",
       " 'Goldsmith, Mrs. Frank John (Emily Alice Brown)': False,\n",
       " 'Goncalves, Mr. Manuel Estanslas': False,\n",
       " 'Goodwin, Master. Sidney Leonard': False,\n",
       " 'Goodwin, Master. William Frederick': False,\n",
       " 'Goodwin, Miss. Lillian Amy': True,\n",
       " 'Goodwin, Mr. Charles Edward': False,\n",
       " 'Goodwin, Mrs. Frederick (Augusta Tyler)': True,\n",
       " 'Graham, Miss. Margaret Edith': False,\n",
       " 'Graham, Mrs. William Thompson (Edith Junkins)': False,\n",
       " 'Greenberg, Mr. Samuel': False,\n",
       " 'Greenfield, Mr. William Bertram': True,\n",
       " 'Gronnestad, Mr. Daniel Danielsen': False,\n",
       " 'Guggenheim, Mr. Benjamin': False,\n",
       " 'Gustafsson, Mr. Johan Birger': False,\n",
       " 'Gustafsson, Mr. Karl Gideon': False,\n",
       " 'Haas, Miss. Aloisia': True,\n",
       " 'Hagland, Mr. Ingvald Olai Olsen': False,\n",
       " 'Hagland, Mr. Konrad Mathias Reiersen': False,\n",
       " 'Hakkarainen, Mr. Pekka Pietari': False,\n",
       " 'Hakkarainen, Mrs. Pekka Pietari (Elin Matilda Dolck)': False,\n",
       " 'Hale, Mr. Reginald': False,\n",
       " 'Hampe, Mr. Leon': False,\n",
       " 'Hanna, Mr. Mansour': False,\n",
       " 'Hansen, Mr. Claus Peter': False,\n",
       " 'Harder, Mr. George Achilles': True,\n",
       " 'Harmer, Mr. Abraham (David Lishin)': False,\n",
       " 'Harper, Miss. Annie Jessie \"Nina\"': False,\n",
       " 'Harper, Mrs. Henry Sleeper (Myna Haxtun)': False,\n",
       " 'Harper, Rev. John': False,\n",
       " 'Harrington, Mr. Charles H': False,\n",
       " 'Harris, Mrs. Henry Birkhardt (Irene Wallach)': False,\n",
       " 'Harrison, Mr. William': False,\n",
       " 'Hart, Mr. Benjamin': False,\n",
       " 'Hart, Mr. Henry': False,\n",
       " 'Hassab, Mr. Hammad': True,\n",
       " 'Hassan, Mr. Houssein G N': False,\n",
       " 'Hawksford, Mr. Walter James': True,\n",
       " 'Hays, Mrs. Charles Melville (Clara Jennings Gregg)': False,\n",
       " 'Healy, Miss. Hanora \"Nora\"': False,\n",
       " 'Hedman, Mr. Oskar Arvid': True,\n",
       " 'Hegarty, Miss. Hanora \"Nora\"': True,\n",
       " 'Heikkinen, Miss. Laina': False,\n",
       " 'Heininen, Miss. Wendla Maria': True,\n",
       " 'Hendekovic, Mr. Ignjac': False,\n",
       " 'Henry, Miss. Delia': True,\n",
       " 'Herman, Miss. Alice': False,\n",
       " 'Herman, Mrs. Samuel (Jane Laver)': False,\n",
       " 'Hewlett, Mrs. (Mary D Kingcome) ': False,\n",
       " 'Hickman, Mr. Leonard Mark': False,\n",
       " 'Hickman, Mr. Lewis': False,\n",
       " 'Hippach, Mrs. Louis Albert (Ida Sophia Fischer)': False,\n",
       " 'Hirvonen, Miss. Hildur E': False,\n",
       " 'Hocking, Mrs. Elizabeth (Eliza Needs)': False,\n",
       " 'Hogeboom, Mrs. John C (Anna Andrews)': False,\n",
       " 'Hold, Mr. Stephen': False,\n",
       " 'Holm, Mr. John Fredrik Alexander': False,\n",
       " 'Holverson, Mr. Alexander Oskar': False,\n",
       " 'Holverson, Mrs. Alexander Oskar (Mary Aline Towner)': False,\n",
       " 'Homer, Mr. Harry (\"Mr E Haven\")': True,\n",
       " 'Hood, Mr. Ambrose Jr': False,\n",
       " 'Horgan, Mr. John': False,\n",
       " 'Hosono, Mr. Masabumi': True,\n",
       " 'Hoyt, Mr. William Fisher': False,\n",
       " 'Hoyt, Mrs. Frederick Maxfield (Jane Anne Forby)': False,\n",
       " 'Hunt, Mr. George Henry': False,\n",
       " 'Ibrahim Shawah, Mr. Yousseff': False,\n",
       " 'Ilett, Miss. Bertha': False,\n",
       " 'Ilmakangas, Miss. Pieta Sofia': True,\n",
       " 'Jacobsohn, Mr. Sidney Samuel': False,\n",
       " 'Jacobsohn, Mrs. Sidney Samuel (Amy Frances Christy)': False,\n",
       " 'Jalsevac, Mr. Ivan': True,\n",
       " 'Jardin, Mr. Jose Neto': False,\n",
       " 'Jarvis, Mr. John Denzil': False,\n",
       " 'Jenkin, Mr. Stephen Curnow': False,\n",
       " 'Jensen, Mr. Hans Peder': False,\n",
       " 'Jensen, Mr. Niels Peder': False,\n",
       " 'Jermyn, Miss. Annie': False,\n",
       " 'Jerwan, Mrs. Amin S (Marie Marthe Thuillard)': False,\n",
       " 'Johannesen-Bratthammer, Mr. Bernt': True,\n",
       " 'Johanson, Mr. Jakob Alfred': False,\n",
       " 'Johansson, Mr. Erik': False,\n",
       " 'Johansson, Mr. Karl Johan': False,\n",
       " 'Johnson, Miss. Eleanor Ileen': False,\n",
       " 'Johnson, Mr. Malkolm Joackim': False,\n",
       " 'Johnston, Mr. Andrew G': False,\n",
       " 'Jonkoff, Mr. Lalio': False,\n",
       " 'Jonsson, Mr. Carl': True,\n",
       " 'Jussila, Miss. Katriina': True,\n",
       " 'Jussila, Miss. Mari Aina': True,\n",
       " 'Jussila, Mr. Eiriik': True,\n",
       " 'Kallio, Mr. Nikolai Erland': False,\n",
       " 'Kalvik, Mr. Johannes Halvorsen': False,\n",
       " 'Kantor, Mrs. Sinai (Miriam Sternin)': False,\n",
       " 'Karaic, Mr. Milan': False,\n",
       " 'Karun, Miss. Manca': False,\n",
       " 'Kassem, Mr. Fared': False,\n",
       " 'Keefe, Mr. Arthur': False,\n",
       " 'Kelly, Miss. Anna Katherine \"Annie Kate\"': False,\n",
       " 'Kelly, Mr. James': False,\n",
       " 'Kelly, Mrs. Florence \"Fannie\"': False,\n",
       " 'Kent, Mr. Edward Austin': False,\n",
       " 'Kiernan, Mr. Philip': False,\n",
       " 'Kilgannon, Mr. Thomas J': False,\n",
       " 'Kimball, Mr. Edwin Nelson Jr': True,\n",
       " 'Kink, Mr. Vincenz': False,\n",
       " 'Kink-Heilmann, Miss. Luise Gretchen': False,\n",
       " 'Kirkland, Rev. Charles Leonard': False,\n",
       " 'Klasen, Mr. Klas Albin': False,\n",
       " 'Knight, Mr. Robert J': False,\n",
       " 'Kraeff, Mr. Theodor': False,\n",
       " 'Lahoud, Mr. Sarkis': False,\n",
       " 'Landergren, Miss. Aurora Adelia': False,\n",
       " 'Lang, Mr. Fang': True,\n",
       " 'Laroche, Miss. Simonne Marie Anne Andree': False,\n",
       " 'Laroche, Mrs. Joseph (Juliette Marie Louise Lafargue)': False,\n",
       " 'LeRoy, Miss. Bertha': False,\n",
       " 'Leader, Dr. Alice (Farnham)': False,\n",
       " 'Lefebre, Master. Henry Forbes': False,\n",
       " 'Lefebre, Miss. Ida': True,\n",
       " 'Lefebre, Miss. Mathilde': True,\n",
       " 'Lehmann, Miss. Bertha': False,\n",
       " 'Leinonen, Mr. Antti Gustaf': False,\n",
       " 'Leitch, Miss. Jessie Wills': False,\n",
       " 'Lemberopolous, Mr. Peter L': False,\n",
       " 'Lemore, Mrs. (Amelia Milley)': False,\n",
       " 'Lesurer, Mr. Gustave J': True,\n",
       " 'Levy, Mr. Rene Jacques': False,\n",
       " 'Lewy, Mr. Ervin G': False,\n",
       " 'Leyson, Mr. Robert William Norman': False,\n",
       " 'Lievens, Mr. Rene Aime': False,\n",
       " 'Lindahl, Miss. Agda Thorilda Viktoria': True,\n",
       " 'Lindblom, Miss. Augusta Charlotta': True,\n",
       " 'Lindell, Mr. Edvard Bengtsson': False,\n",
       " 'Lindqvist, Mr. Eino William': True,\n",
       " 'Lines, Miss. Mary Conover': False,\n",
       " 'Ling, Mr. Lee': False,\n",
       " 'Lobb, Mr. William Arthur': False,\n",
       " 'Long, Mr. Milton Clyde': False,\n",
       " 'Longley, Miss. Gretchen Fiske': False,\n",
       " 'Lovell, Mr. John Hall (\"Henry\")': False,\n",
       " 'Lulic, Mr. Nikola': True,\n",
       " 'Lundahl, Mr. Johan Svensson': False,\n",
       " 'Lurette, Miss. Elise': False,\n",
       " 'Mack, Mrs. (Mary)': True,\n",
       " 'Madigan, Miss. Margaret \"Maggie\"': False,\n",
       " 'Madill, Miss. Georgette Alexandra': False,\n",
       " 'Madsen, Mr. Fridtjof Arne': True,\n",
       " 'Maenpaa, Mr. Matti Alexanteri': False,\n",
       " 'Mallet, Master. Andre': True,\n",
       " 'Mallet, Mr. Albert': False,\n",
       " 'Mangan, Miss. Mary': True,\n",
       " 'Mannion, Miss. Margareth': False,\n",
       " 'Marechal, Mr. Pierre': True,\n",
       " 'Markoff, Mr. Marin': False,\n",
       " 'Masselmani, Mrs. Fatima': False,\n",
       " 'Matthews, Mr. William John': False,\n",
       " 'Mayne, Mlle. Berthe Antonine (\"Mrs de Villiers\")': False,\n",
       " 'McCarthy, Mr. Timothy J': False,\n",
       " 'McCoy, Miss. Agnes': False,\n",
       " 'McDermott, Miss. Brigdet Delia': False,\n",
       " 'McEvoy, Mr. Michael': False,\n",
       " 'McGowan, Miss. Anna \"Annie\"': False,\n",
       " 'McKane, Mr. Peter David': False,\n",
       " 'McMahon, Mr. Martin': False,\n",
       " 'McNamee, Mr. Neal': False,\n",
       " 'Meanwell, Miss. (Marion Ogden)': True,\n",
       " 'Meek, Mrs. Thomas (Annie Louise Rowley)': True,\n",
       " 'Mellinger, Miss. Madeleine Violet': False,\n",
       " 'Mellinger, Mrs. (Elizabeth Anne Maidment)': False,\n",
       " 'Mellors, Mr. William John': True,\n",
       " 'Meo, Mr. Alfonzo': False,\n",
       " 'Mernagh, Mr. Robert': False,\n",
       " 'Meyer, Mr. August': False,\n",
       " 'Meyer, Mr. Edgar Joseph': False,\n",
       " 'Millet, Mr. Francis Davis': False,\n",
       " 'Minahan, Dr. William Edward': False,\n",
       " 'Mineff, Mr. Ivan': False,\n",
       " 'Mionoff, Mr. Stoytcho': False,\n",
       " 'Mitchell, Mr. Henry Michael': False,\n",
       " 'Mitkoff, Mr. Mito': False,\n",
       " 'Mockler, Miss. Helen Mary \"Ellie\"': False,\n",
       " 'Moen, Mr. Sigurd Hansen': False,\n",
       " 'Montvila, Rev. Juozas': False,\n",
       " 'Moor, Master. Meier': True,\n",
       " 'Moor, Mrs. (Beila)': False,\n",
       " 'Moore, Mr. Leonard Charles': False,\n",
       " 'Moran, Miss. Bertha': False,\n",
       " 'Moran, Mr. Daniel J': False,\n",
       " 'Moran, Mr. James': False,\n",
       " 'Moraweck, Dr. Ernest': False,\n",
       " 'Morley, Mr. Henry Samuel (\"Mr Henry Marshall\")': False,\n",
       " 'Morley, Mr. William': False,\n",
       " 'Moss, Mr. Albert Johan': True,\n",
       " 'Moubarek, Master. Gerios': False,\n",
       " 'Moubarek, Master. Halim Gonios (\"William George\")': False,\n",
       " 'Moutal, Mr. Rahamin Haim': False,\n",
       " 'Mudd, Mr. Thomas Charles': False,\n",
       " 'Mullens, Miss. Katherine \"Katie\"': False,\n",
       " 'Murdlin, Mr. Joseph': False,\n",
       " 'Murphy, Miss. Katherine \"Kate\"': False,\n",
       " 'Murphy, Miss. Margaret Jane': False,\n",
       " 'Myhrman, Mr. Pehr Fabian Oliver Malkolm': False,\n",
       " 'Najib, Miss. Adele Kiamie \"Jane\"': False,\n",
       " 'Nakid, Miss. Maria (\"Mary\")': False,\n",
       " 'Nakid, Mr. Sahid': True,\n",
       " 'Nankoff, Mr. Minko': False,\n",
       " 'Nasser, Mr. Nicholas': False,\n",
       " 'Natsch, Mr. Charles H': False,\n",
       " 'Navratil, Master. Edmond Roger': True,\n",
       " 'Navratil, Master. Michel M': True,\n",
       " 'Navratil, Mr. Michel (\"Louis M Hoffman\")': False,\n",
       " 'Nenkoff, Mr. Christo': False,\n",
       " 'Newell, Miss. Marjorie': False,\n",
       " 'Newell, Mr. Arthur Webster': False,\n",
       " 'Newsom, Miss. Helen Monypeny': False,\n",
       " 'Nicholls, Mr. Joseph Charles': False,\n",
       " 'Nicholson, Mr. Arthur Ernest': False,\n",
       " 'Nicola-Yarred, Master. Elias': True,\n",
       " 'Nicola-Yarred, Miss. Jamila': False,\n",
       " 'Nilsson, Miss. Helmina Josefina': False,\n",
       " 'Nirva, Mr. Iisakki Antino Aijo': False,\n",
       " 'Niskanen, Mr. Juha': True,\n",
       " 'Nosworthy, Mr. Richard Cater': False,\n",
       " 'Novel, Mr. Mansouer': False,\n",
       " 'Nysveen, Mr. Johan Hansen': False,\n",
       " \"O'Brien, Mr. Thomas\": False,\n",
       " \"O'Brien, Mr. Timothy\": False,\n",
       " \"O'Connell, Mr. Patrick D\": False,\n",
       " \"O'Connor, Mr. Maurice\": False,\n",
       " \"O'Driscoll, Miss. Bridget\": False,\n",
       " 'O\\'Leary, Miss. Hanora \"Norah\"': False,\n",
       " \"O'Sullivan, Miss. Bridget Mary\": True,\n",
       " 'Ohman, Miss. Velin': False,\n",
       " 'Olsen, Mr. Karl Siegwart Andreas': False,\n",
       " 'Olsen, Mr. Ole Martin': False,\n",
       " 'Olsson, Miss. Elina': True,\n",
       " 'Olsson, Mr. Nils Johan Goransson': False,\n",
       " 'Oreskovic, Miss. Marija': True,\n",
       " 'Oreskovic, Mr. Luka': False,\n",
       " 'Osen, Mr. Olaf Elon': False,\n",
       " 'Ostby, Mr. Engelhart Cornelius': False,\n",
       " 'Pain, Dr. Alfred': False,\n",
       " 'Palsson, Master. Gosta Leonard': False,\n",
       " 'Palsson, Miss. Stina Viola': False,\n",
       " 'Palsson, Miss. Torborg Danira': False,\n",
       " 'Palsson, Mrs. Nils (Alma Cornelia Berglund)': False,\n",
       " 'Panula, Master. Eino Viljami': False,\n",
       " 'Panula, Master. Juha Niilo': False,\n",
       " 'Panula, Master. Urho Abraham': False,\n",
       " 'Panula, Mr. Ernesti Arvid': False,\n",
       " 'Panula, Mr. Jaako Arnold': False,\n",
       " 'Panula, Mrs. Juha (Maria Emilia Ojala)': True,\n",
       " 'Parkes, Mr. Francis \"Frank\"': False,\n",
       " 'Parrish, Mrs. (Lutie Davis)': False,\n",
       " 'Partner, Mr. Austen': False,\n",
       " 'Pasic, Mr. Jakob': False,\n",
       " 'Patchett, Mr. George': False,\n",
       " 'Pavlovic, Mr. Stefo': False,\n",
       " 'Pears, Mrs. Thomas (Edith Wearne)': False,\n",
       " 'Peduzzi, Mr. Joseph': False,\n",
       " 'Pekoniemi, Mr. Edvard': False,\n",
       " 'Penasco y Castellana, Mr. Victor de Satode': True,\n",
       " 'Penasco y Castellana, Mrs. Victor de Satode (Maria Josefa Perez de Soto y Vallejo)': False,\n",
       " 'Pengelly, Mr. Frederick William': False,\n",
       " 'Pernot, Mr. Rene': False,\n",
       " 'Peter, Miss. Anna': False,\n",
       " 'Peter, Mrs. Catherine (Catherine Rizk)': False,\n",
       " 'Peters, Miss. Katie': True,\n",
       " 'Petranec, Miss. Matilda': True,\n",
       " 'Petroff, Mr. Nedelio': False,\n",
       " 'Petterson, Mr. Johan Emil': False,\n",
       " 'Pettersson, Miss. Ellen Natalia': True,\n",
       " 'Phillips, Miss. Kate Florence (\"Mrs Kate Louise Phillips Marshall\")': False,\n",
       " 'Pickard, Mr. Berk (Berk Trembisky)': True,\n",
       " 'Pinsky, Mrs. (Rosa)': False,\n",
       " 'Ponesell, Mr. Martin': False,\n",
       " 'Porter, Mr. Walter Chamberlain': False,\n",
       " 'Radeff, Mr. Alexander': False,\n",
       " 'Reed, Mr. James George': False,\n",
       " 'Reeves, Mr. David': False,\n",
       " 'Rekic, Mr. Tido': False,\n",
       " 'Renouf, Mr. Peter Henry': False,\n",
       " 'Renouf, Mrs. Peter Henry (Lillian Jefferys)': False,\n",
       " 'Reuchlin, Jonkheer. John George': False,\n",
       " 'Rice, Master. Arthur': False,\n",
       " 'Rice, Master. Eric': False,\n",
       " 'Richard, Mr. Emile': False,\n",
       " 'Richards, Master. George Sibley': False,\n",
       " 'Richards, Master. William Rowe': False,\n",
       " 'Richards, Mrs. Sidney (Emily Hocking)': False,\n",
       " 'Ridsdale, Miss. Lucy': False,\n",
       " 'Rintamaki, Mr. Matti': False,\n",
       " 'Robbins, Mr. Victor': False,\n",
       " 'Robert, Mrs. Edward Scott (Elisabeth Walton McMillan)': False,\n",
       " 'Roebling, Mr. Washington Augustus II': False,\n",
       " 'Rommetvedt, Mr. Knud Paust': False,\n",
       " 'Rood, Mr. Hugh Roscoe': False,\n",
       " 'Rosblom, Mr. Viktor Richard': False,\n",
       " 'Rosblom, Mrs. Viktor (Helena Wilhelmina)': True,\n",
       " 'Ross, Mr. John Hugo': False,\n",
       " 'Rothes, the Countess. of (Lucy Noel Martha Dyer-Edwards)': False,\n",
       " 'Rothschild, Mrs. Martin (Elizabeth L. Barrett)': False,\n",
       " 'Rugg, Miss. Emily': False,\n",
       " 'Rush, Mr. Alfred George John': False,\n",
       " 'Ryan, Mr. Patrick': False,\n",
       " 'Ryerson, Miss. Emily Borie': False,\n",
       " 'Ryerson, Miss. Susan Parker \"Suzette\"': False,\n",
       " 'Saad, Mr. Amin': False,\n",
       " 'Saad, Mr. Khalil': False,\n",
       " 'Saalfeld, Mr. Adolphe': True,\n",
       " 'Sadlier, Mr. Matthew': False,\n",
       " 'Sage, Miss. Constance Gladys': False,\n",
       " 'Sage, Miss. Dorothy Edith \"Dolly\"': False,\n",
       " 'Sage, Miss. Stella Anna': False,\n",
       " 'Sage, Mr. Douglas Bullen': False,\n",
       " 'Sage, Mr. George John Jr': False,\n",
       " 'Sagesser, Mlle. Emma': False,\n",
       " 'Salonen, Mr. Johan Werner': False,\n",
       " 'Sandstrom, Miss. Marguerite Rut': False,\n",
       " 'Sandstrom, Mrs. Hjalmar (Agnes Charlotta Bengtsson)': False,\n",
       " 'Saundercock, Mr. William Henry': False,\n",
       " 'Sawyer, Mr. Frederick Charles': False,\n",
       " 'Scanlan, Mr. James': False,\n",
       " 'Sdycoff, Mr. Todor': False,\n",
       " 'Sedgwick, Mr. Charles Frederick Waddington': False,\n",
       " 'Seward, Mr. Frederic Kimber': True,\n",
       " 'Sharp, Mr. Percival James R': False,\n",
       " 'Sheerlinck, Mr. Jan Baptist': True,\n",
       " 'Shellard, Mr. Frederick William': False,\n",
       " 'Shelley, Mrs. William (Imanita Parrish Hall)': False,\n",
       " 'Shutes, Miss. Elizabeth W': False,\n",
       " 'Silven, Miss. Lyyli Karoliina': False,\n",
       " 'Silverthorne, Mr. Spencer Victor': True,\n",
       " 'Silvey, Mr. William Baird': False,\n",
       " 'Simonius-Blumer, Col. Oberst Alfons': True,\n",
       " 'Sinkkonen, Miss. Anna': False,\n",
       " 'Sirota, Mr. Maurice': False,\n",
       " 'Sivic, Mr. Husein': False,\n",
       " 'Sivola, Mr. Antti Wilhelm': False,\n",
       " 'Skoog, Master. Harald': False,\n",
       " 'Skoog, Miss. Mabel': True,\n",
       " 'Skoog, Miss. Margit Elizabeth': True,\n",
       " 'Skoog, Mr. Wilhelm': False,\n",
       " 'Slabenoff, Mr. Petco': False,\n",
       " 'Slayter, Miss. Hilda Mary': False,\n",
       " 'Slemen, Mr. Richard James': False,\n",
       " 'Slocovski, Mr. Selman Francis': False,\n",
       " 'Sloper, Mr. William Thompson': True,\n",
       " 'Smiljanic, Mr. Mile': False,\n",
       " 'Smith, Miss. Marion Elsie': False,\n",
       " 'Somerton, Mr. Francis William': False,\n",
       " 'Spedden, Mrs. Frederic Oakley (Margaretta Corning Stone)': False,\n",
       " 'Spencer, Mrs. William Augustus (Marie Eugenie)': False,\n",
       " 'Stahelin-Maeglin, Dr. Max': True,\n",
       " 'Stankovic, Mr. Ivan': False,\n",
       " 'Stanley, Miss. Amy Zillah Elsie': False,\n",
       " 'Stead, Mr. William Thomas': False,\n",
       " 'Stephenson, Mrs. Walter Bertram (Martha Eustis)': False,\n",
       " 'Stewart, Mr. Albert A': False,\n",
       " 'Stone, Mrs. George Nelson (Martha Evelyn)': False,\n",
       " 'Strandberg, Miss. Ida Sofia': True,\n",
       " 'Strom, Mrs. Wilhelm (Elna Matilda Persson)': True,\n",
       " 'Sutehall, Mr. Henry Jr': False,\n",
       " 'Svensson, Mr. Johan': False,\n",
       " 'Svensson, Mr. Olof': False,\n",
       " 'Swift, Mrs. Frederick Joel (Margaret Welles Barron)': False,\n",
       " 'Taussig, Miss. Ruth': False,\n",
       " 'Taussig, Mr. Emil': False,\n",
       " 'Taussig, Mrs. Emil (Tillie Mandelbaum)': False,\n",
       " 'Taylor, Mr. Elmer Zebley': True,\n",
       " 'Taylor, Mrs. Elmer Zebley (Juliet Cummins Wright)': False,\n",
       " 'Thayer, Mr. John Borland': False,\n",
       " 'Thayer, Mr. John Borland Jr': True,\n",
       " 'Thayer, Mrs. John Borland (Marian Longstreth Morris)': False,\n",
       " 'Theobald, Mr. Thomas Leonard': False,\n",
       " 'Thomas, Master. Assad Alexander': True,\n",
       " 'Thorneycroft, Mr. Percival': False,\n",
       " 'Thorneycroft, Mrs. Percival (Florence Kate White)': False,\n",
       " 'Tikkanen, Mr. Juho': False,\n",
       " 'Todoroff, Mr. Lalio': False,\n",
       " 'Tomlin, Mr. Ernest Portage': False,\n",
       " 'Toomey, Miss. Ellen': False,\n",
       " 'Torber, Mr. Ernst William': False,\n",
       " 'Tornquist, Mr. William Henry': True,\n",
       " 'Toufik, Mr. Nakli': False,\n",
       " 'Touma, Mrs. Darwis (Hanne Youssef Razi)': False,\n",
       " 'Troupiansky, Mr. Moses Aaron': False,\n",
       " 'Troutt, Miss. Edwina Celia \"Winnie\"': False,\n",
       " 'Turcin, Mr. Stjepan': False,\n",
       " 'Turja, Miss. Anna Sofia': False,\n",
       " 'Turkula, Mrs. (Hedwig)': True,\n",
       " 'Turpin, Mr. William John Robert': False,\n",
       " 'Uruchurtu, Don. Manuel E': False,\n",
       " 'Van Impe, Mr. Jean Baptiste': False,\n",
       " 'Van der hoef, Mr. Wyckoff': False,\n",
       " 'Vande Velde, Mr. Johannes Joseph': False,\n",
       " 'Vanden Steen, Mr. Leo Peter': False,\n",
       " 'Vander Cruyssen, Mr. Victor': False,\n",
       " 'Vander Planke, Miss. Augusta Maria': True,\n",
       " 'Vander Planke, Mrs. Julius (Emelia Maria Vandemoortele)': True,\n",
       " 'Vestrom, Miss. Hulda Amanda Adolfina': True,\n",
       " 'Vovk, Mr. Janko': False,\n",
       " 'Waelens, Mr. Achille': False,\n",
       " 'Walker, Mr. William Anderson': False,\n",
       " 'Ward, Miss. Anna': False,\n",
       " 'Warren, Mrs. Frank Manley (Anna Sophia Atkinson)': False,\n",
       " 'Watson, Mr. Ennis Hastings': False,\n",
       " 'Watt, Mrs. James (Elizabeth \"Bessie\" Inglis Milne)': False,\n",
       " 'Webber, Miss. Susan': False,\n",
       " 'Webber, Mr. James': False,\n",
       " 'Weir, Col. John': False,\n",
       " 'Wells, Miss. Joan': False,\n",
       " 'West, Mr. Edwy Arthur': False,\n",
       " 'West, Mrs. Edwy Arthur (Ada Mary Worth)': False,\n",
       " 'Wheadon, Mr. Edward H': False,\n",
       " 'White, Mr. Percival Wayland': False,\n",
       " 'White, Mr. Richard Frasar': False,\n",
       " 'Wick, Miss. Mary Natalie': False,\n",
       " 'Widegren, Mr. Carl/Charles Peter': False,\n",
       " 'Widener, Mr. Harry Elkins': False,\n",
       " 'Wiklund, Mr. Jakob Alfred': False,\n",
       " 'Wilhelms, Mr. Charles': True,\n",
       " 'Williams, Mr. Charles Duane': False,\n",
       " 'Williams, Mr. Charles Eugene': True,\n",
       " 'Williams, Mr. Howard Hugh \"Harry\"': False,\n",
       " 'Williams, Mr. Leslie': False,\n",
       " 'Williams-Lambert, Mr. Fletcher Fellows': False,\n",
       " 'Windelov, Mr. Einar': False,\n",
       " 'Wiseman, Mr. Phillippe': False,\n",
       " 'Woolner, Mr. Hugh': False,\n",
       " 'Wright, Mr. George': False,\n",
       " 'Yasbeck, Mrs. Antoni (Selini Alexander)': False,\n",
       " 'Young, Miss. Marie Grice': False,\n",
       " 'Youseff, Mr. Gerious': False,\n",
       " 'Yousif, Mr. Wazli': False,\n",
       " 'Yrois, Miss. Henriette (\"Mrs Harbeck\")': True,\n",
       " 'Zabour, Miss. Thamine': True,\n",
       " 'Zimmerman, Mr. Leo': False,\n",
       " 'de Messemaeker, Mrs. Guillaume Joseph (Emma)': False,\n",
       " 'del Carlo, Mr. Sebastiano': False,\n",
       " 'van Billiard, Mr. Austin Blyler': False,\n",
       " 'van Melkebeke, Mr. Philemon': False,\n",
       " 'female': True,\n",
       " 'male': True,\n",
       " '110152': False,\n",
       " '110413': False,\n",
       " '110465': False,\n",
       " '110564': False,\n",
       " '110813': False,\n",
       " '111240': False,\n",
       " '111320': False,\n",
       " '111361': False,\n",
       " '111369': True,\n",
       " '111426': True,\n",
       " '112050': False,\n",
       " '112053': False,\n",
       " '112058': False,\n",
       " '112059': False,\n",
       " '112379': False,\n",
       " '113043': False,\n",
       " '113051': False,\n",
       " '113055': True,\n",
       " '113059': False,\n",
       " '113501': False,\n",
       " '113503': False,\n",
       " '113505': False,\n",
       " '113509': False,\n",
       " '113510': False,\n",
       " '113514': False,\n",
       " '113572': False,\n",
       " '113760': True,\n",
       " '113767': False,\n",
       " '113776': False,\n",
       " '113781': False,\n",
       " '113783': False,\n",
       " '113784': False,\n",
       " '113788': True,\n",
       " '113789': False,\n",
       " '113794': True,\n",
       " '113796': False,\n",
       " '113798': False,\n",
       " '113800': False,\n",
       " '113803': False,\n",
       " '113806': False,\n",
       " '113807': False,\n",
       " '11668': False,\n",
       " '11751': True,\n",
       " '11752': False,\n",
       " '11753': True,\n",
       " '11755': False,\n",
       " '11765': True,\n",
       " '11769': False,\n",
       " '11771': False,\n",
       " '11774': True,\n",
       " '11813': False,\n",
       " '11967': False,\n",
       " '12749': False,\n",
       " '13049': False,\n",
       " '13213': True,\n",
       " '13214': True,\n",
       " '13502': False,\n",
       " '13507': False,\n",
       " '13509': False,\n",
       " '13567': True,\n",
       " '13568': False,\n",
       " '14311': False,\n",
       " '14313': False,\n",
       " '14973': False,\n",
       " '1601': True,\n",
       " '16966': False,\n",
       " '16988': True,\n",
       " '17421': False,\n",
       " '17453': False,\n",
       " '17463': False,\n",
       " '17465': False,\n",
       " '17466': False,\n",
       " '17474': False,\n",
       " '19877': False,\n",
       " '19928': False,\n",
       " '19943': False,\n",
       " '19947': False,\n",
       " '19950': False,\n",
       " '19952': True,\n",
       " '19972': False,\n",
       " '19988': True,\n",
       " '19996': False,\n",
       " '2003': False,\n",
       " '211536': False,\n",
       " '219533': False,\n",
       " '220367': False,\n",
       " '220845': False,\n",
       " '2223': False,\n",
       " '223596': False,\n",
       " '226875': False,\n",
       " '229236': False,\n",
       " '230080': False,\n",
       " '230136': False,\n",
       " '230433': False,\n",
       " '231919': False,\n",
       " '231945': False,\n",
       " '233639': False,\n",
       " '233866': False,\n",
       " '234604': False,\n",
       " '234818': False,\n",
       " '236853': False,\n",
       " '237565': False,\n",
       " '237671': True,\n",
       " '237736': False,\n",
       " '237798': True,\n",
       " '239853': False,\n",
       " '239854': False,\n",
       " '239855': False,\n",
       " '239856': False,\n",
       " '239865': False,\n",
       " '24160': False,\n",
       " '243847': False,\n",
       " '243880': False,\n",
       " '244252': False,\n",
       " '244270': True,\n",
       " '244278': False,\n",
       " '244310': False,\n",
       " '244358': False,\n",
       " '244361': False,\n",
       " '244367': False,\n",
       " '244373': True,\n",
       " '248706': False,\n",
       " '248723': False,\n",
       " '248727': False,\n",
       " '248733': False,\n",
       " '248738': False,\n",
       " '248740': False,\n",
       " '248747': True,\n",
       " '250644': False,\n",
       " '250647': False,\n",
       " '250648': False,\n",
       " '250652': False,\n",
       " '250653': False,\n",
       " '250655': False,\n",
       " '2624': False,\n",
       " '2625': True,\n",
       " '2627': True,\n",
       " '2628': False,\n",
       " '2631': False,\n",
       " '2641': False,\n",
       " '2647': False,\n",
       " '2649': False,\n",
       " '2650': False,\n",
       " '2651': True,\n",
       " '2653': True,\n",
       " '2659': False,\n",
       " '2661': True,\n",
       " '2663': True,\n",
       " '2664': False,\n",
       " '2665': True,\n",
       " '2666': True,\n",
       " '2667': False,\n",
       " '2668': False,\n",
       " '26707': False,\n",
       " '2671': False,\n",
       " '2672': False,\n",
       " '2674': False,\n",
       " '2678': True,\n",
       " '2683': False,\n",
       " '2685': False,\n",
       " '2686': False,\n",
       " '2687': False,\n",
       " '2689': True,\n",
       " '2690': False,\n",
       " '2691': True,\n",
       " '2693': False,\n",
       " '2694': False,\n",
       " '2695': False,\n",
       " '2697': False,\n",
       " '2699': False,\n",
       " '2700': False,\n",
       " '27267': False,\n",
       " '27849': False,\n",
       " '28134': False,\n",
       " '28206': False,\n",
       " '28220': False,\n",
       " '28228': False,\n",
       " '28403': False,\n",
       " '28425': False,\n",
       " '28551': False,\n",
       " '28664': False,\n",
       " '28665': False,\n",
       " '29011': False,\n",
       " '2908': True,\n",
       " '29103': False,\n",
       " '29105': False,\n",
       " '29106': True,\n",
       " '29108': False,\n",
       " '2926': False,\n",
       " '29750': False,\n",
       " '29751': False,\n",
       " '3101264': False,\n",
       " '3101267': False,\n",
       " '3101277': False,\n",
       " '3101278': False,\n",
       " '3101281': False,\n",
       " '3101295': False,\n",
       " '3101296': False,\n",
       " '3101298': False,\n",
       " '31027': False,\n",
       " '312991': True,\n",
       " '312992': False,\n",
       " '312993': False,\n",
       " '31418': False,\n",
       " '315037': False,\n",
       " '315082': False,\n",
       " '315084': True,\n",
       " '315086': False,\n",
       " '315088': False,\n",
       " '315089': False,\n",
       " '315090': False,\n",
       " '315093': False,\n",
       " '315094': False,\n",
       " '315096': True,\n",
       " '315097': False,\n",
       " '315098': True,\n",
       " '315151': False,\n",
       " '315153': False,\n",
       " '323592': False,\n",
       " '323951': False,\n",
       " '324669': False,\n",
       " '330877': False,\n",
       " '330909': True,\n",
       " '330919': False,\n",
       " '330923': False,\n",
       " '330932': False,\n",
       " '330935': True,\n",
       " '330958': False,\n",
       " '330979': False,\n",
       " '330980': False,\n",
       " '334912': False,\n",
       " '335097': False,\n",
       " '33638': True,\n",
       " '336439': False,\n",
       " '341826': False,\n",
       " '34218': False,\n",
       " '342826': False,\n",
       " '343095': True,\n",
       " '343275': False,\n",
       " '345364': False,\n",
       " '345572': False,\n",
       " '345763': True,\n",
       " '345764': True,\n",
       " '345765': False,\n",
       " '345767': False,\n",
       " '345769': False,\n",
       " '345773': False,\n",
       " '345777': False,\n",
       " '345779': True,\n",
       " '345780': False,\n",
       " '345781': False,\n",
       " '345783': False,\n",
       " '3460': False,\n",
       " '347054': True,\n",
       " '347060': False,\n",
       " '347061': False,\n",
       " '347062': False,\n",
       " '347063': False,\n",
       " '347064': False,\n",
       " '347068': False,\n",
       " '347069': False,\n",
       " '347071': True,\n",
       " '347073': True,\n",
       " '347074': False,\n",
       " '347076': False,\n",
       " '347077': True,\n",
       " '347078': False,\n",
       " '347080': False,\n",
       " '347082': True,\n",
       " '347085': False,\n",
       " '347087': True,\n",
       " '347088': True,\n",
       " '347089': True,\n",
       " '3474': False,\n",
       " '347464': False,\n",
       " '347466': False,\n",
       " '347468': False,\n",
       " '347470': False,\n",
       " '347742': False,\n",
       " '347743': False,\n",
       " '348123': False,\n",
       " '349204': False,\n",
       " '349207': False,\n",
       " '349209': False,\n",
       " '349210': False,\n",
       " '349212': False,\n",
       " '349213': False,\n",
       " '349214': False,\n",
       " '349216': False,\n",
       " '349218': False,\n",
       " '349219': False,\n",
       " '349221': False,\n",
       " '349222': False,\n",
       " '349223': False,\n",
       " '349224': False,\n",
       " '349225': False,\n",
       " '349228': False,\n",
       " '349231': False,\n",
       " '349233': False,\n",
       " '349234': False,\n",
       " '349236': True,\n",
       " '349237': False,\n",
       " '349239': False,\n",
       " '349240': True,\n",
       " '349242': False,\n",
       " '349243': False,\n",
       " '349245': True,\n",
       " '349246': False,\n",
       " '349247': False,\n",
       " '349249': False,\n",
       " '349251': False,\n",
       " '349252': False,\n",
       " '349253': False,\n",
       " ...}"
      ]
     },
     "execution_count": 84,
     "metadata": {},
     "output_type": "execute_result"
    }
   ],
   "source": [
    "dict(zip(X_train.columns, selector.get_support()))"
   ]
  },
  {
   "cell_type": "code",
   "execution_count": 85,
   "metadata": {},
   "outputs": [],
   "source": [
    "def select_important_features(X, selector):\n",
    "    \"\"\"\n",
    "    Given a DataFrame and a selector, use the selector to choose\n",
    "    the most important columns\n",
    "    \"\"\"\n",
    "    imps = dict(zip(X.columns, selector.get_support()))\n",
    "    selected_array = selector.transform(X)\n",
    "    selected_df = pd.DataFrame(selected_array,\n",
    "                               columns=[col for col in X.columns if imps[col]],\n",
    "                               index=X.index)\n",
    "    return selected_df"
   ]
  },
  {
   "cell_type": "code",
   "execution_count": 86,
   "metadata": {},
   "outputs": [],
   "source": [
    "X_train_selected = select_important_features(X=X_train, selector=selector)"
   ]
  },
  {
   "cell_type": "code",
   "execution_count": 87,
   "metadata": {},
   "outputs": [
    {
     "data": {
      "text/plain": [
       "LogisticRegression(penalty='l1', random_state=2021, solver='liblinear')"
      ]
     },
     "execution_count": 87,
     "metadata": {},
     "output_type": "execute_result"
    }
   ],
   "source": [
    "logreg_sel = LogisticRegression(random_state=2021, solver=\"liblinear\", penalty=\"l1\")\n",
    "\n",
    "logreg_sel.fit(X_train_selected, y_train)"
   ]
  },
  {
   "cell_type": "code",
   "execution_count": 88,
   "metadata": {},
   "outputs": [
    {
     "data": {
      "text/plain": [
       "array([0.79820628, 0.86098655, 0.81531532])"
      ]
     },
     "execution_count": 88,
     "metadata": {},
     "output_type": "execute_result"
    }
   ],
   "source": [
    "cross_val_score(logreg_sel, X_train_selected, y_train, cv=3)"
   ]
  },
  {
   "cell_type": "markdown",
   "metadata": {},
   "source": [
    "Probably still overfitting, but let's call this our final model!"
   ]
  },
  {
   "cell_type": "markdown",
   "metadata": {},
   "source": [
    "## Final Model Evaluation\n",
    "\n",
    "Now that we have a final model, run X_test through all of the preprocessing steps so we can evaluate the model's performance"
   ]
  },
  {
   "cell_type": "code",
   "execution_count": 89,
   "metadata": {},
   "outputs": [],
   "source": [
    "X_test_no_transformations = X_test.copy()"
   ]
  },
  {
   "cell_type": "code",
   "execution_count": 90,
   "metadata": {},
   "outputs": [],
   "source": [
    "# add missing indicators\n",
    "X_test_mi = add_missing_indicator_columns(X_test_no_transformations, indicator)"
   ]
  },
  {
   "cell_type": "code",
   "execution_count": 91,
   "metadata": {},
   "outputs": [],
   "source": [
    "# separate out values for imputation\n",
    "X_test_numeric = X_test_mi[numeric_feature_names]\n",
    "X_test_categorical = X_test_mi[categorical_feature_names]"
   ]
  },
  {
   "cell_type": "code",
   "execution_count": 92,
   "metadata": {},
   "outputs": [],
   "source": [
    "# impute missing values\n",
    "X_test_numeric = impute_missing_values(X_test_numeric, numeric_imputer)\n",
    "X_test_categorical = impute_missing_values(X_test_categorical, categorical_imputer)\n",
    "X_test_imputed = pd.concat([X_test_numeric, X_test_categorical], axis=1)\n",
    "X_test_new = X_test_mi.drop(numeric_feature_names + categorical_feature_names, axis=1)\n",
    "X_test_final = pd.concat([X_test_imputed, X_test_new], axis=1)"
   ]
  },
  {
   "cell_type": "code",
   "execution_count": 93,
   "metadata": {},
   "outputs": [],
   "source": [
    "# one-hot encode categorical data\n",
    "for categorical_feature in categorical_feature_names:\n",
    "    X_test_final = encode_and_concat_feature(X_test_final,\n",
    "                                       categorical_feature, encoders[categorical_feature])"
   ]
  },
  {
   "cell_type": "code",
   "execution_count": 94,
   "metadata": {},
   "outputs": [],
   "source": [
    "# scale values\n",
    "X_test_scaled = scale_values(X_test_final, scaler)"
   ]
  },
  {
   "cell_type": "code",
   "execution_count": 95,
   "metadata": {},
   "outputs": [],
   "source": [
    "# select features\n",
    "X_test_selected = select_important_features(X_test_scaled, selector)"
   ]
  },
  {
   "cell_type": "code",
   "execution_count": 96,
   "metadata": {},
   "outputs": [
    {
     "data": {
      "text/html": [
       "<div>\n",
       "<style scoped>\n",
       "    .dataframe tbody tr th:only-of-type {\n",
       "        vertical-align: middle;\n",
       "    }\n",
       "\n",
       "    .dataframe tbody tr th {\n",
       "        vertical-align: top;\n",
       "    }\n",
       "\n",
       "    .dataframe thead th {\n",
       "        text-align: right;\n",
       "    }\n",
       "</style>\n",
       "<table border=\"1\" class=\"dataframe\">\n",
       "  <thead>\n",
       "    <tr style=\"text-align: right;\">\n",
       "      <th></th>\n",
       "      <th>Age</th>\n",
       "      <th>SibSp</th>\n",
       "      <th>Cabin_missing</th>\n",
       "      <th>3</th>\n",
       "      <th>Albimona, Mr. Nassef Cassem</th>\n",
       "      <th>Allison, Master. Hudson Trevor</th>\n",
       "      <th>Allison, Miss. Helen Loraine</th>\n",
       "      <th>Allison, Mrs. Hudson J C (Bessie Waldo Daniels)</th>\n",
       "      <th>Anderson, Mr. Harry</th>\n",
       "      <th>Andersson, Mr. August Edvard (\"Wennerstrom\")</th>\n",
       "      <th>...</th>\n",
       "      <th>D49</th>\n",
       "      <th>E10</th>\n",
       "      <th>E12</th>\n",
       "      <th>E17</th>\n",
       "      <th>E24</th>\n",
       "      <th>E25</th>\n",
       "      <th>E50</th>\n",
       "      <th>E77</th>\n",
       "      <th>C</th>\n",
       "      <th>S</th>\n",
       "    </tr>\n",
       "  </thead>\n",
       "  <tbody>\n",
       "    <tr>\n",
       "      <th>210</th>\n",
       "      <td>-0.401365</td>\n",
       "      <td>-0.487594</td>\n",
       "      <td>0.551985</td>\n",
       "      <td>0.905629</td>\n",
       "      <td>-0.03872</td>\n",
       "      <td>-0.03872</td>\n",
       "      <td>-0.03872</td>\n",
       "      <td>-0.03872</td>\n",
       "      <td>-0.03872</td>\n",
       "      <td>-0.03872</td>\n",
       "      <td>...</td>\n",
       "      <td>-0.03872</td>\n",
       "      <td>-0.03872</td>\n",
       "      <td>-0.03872</td>\n",
       "      <td>-0.03872</td>\n",
       "      <td>-0.03872</td>\n",
       "      <td>-0.03872</td>\n",
       "      <td>-0.03872</td>\n",
       "      <td>-0.03872</td>\n",
       "      <td>-0.489216</td>\n",
       "      <td>0.614263</td>\n",
       "    </tr>\n",
       "    <tr>\n",
       "      <th>876</th>\n",
       "      <td>-0.707519</td>\n",
       "      <td>-0.487594</td>\n",
       "      <td>0.551985</td>\n",
       "      <td>0.905629</td>\n",
       "      <td>-0.03872</td>\n",
       "      <td>-0.03872</td>\n",
       "      <td>-0.03872</td>\n",
       "      <td>-0.03872</td>\n",
       "      <td>-0.03872</td>\n",
       "      <td>-0.03872</td>\n",
       "      <td>...</td>\n",
       "      <td>-0.03872</td>\n",
       "      <td>-0.03872</td>\n",
       "      <td>-0.03872</td>\n",
       "      <td>-0.03872</td>\n",
       "      <td>-0.03872</td>\n",
       "      <td>-0.03872</td>\n",
       "      <td>-0.03872</td>\n",
       "      <td>-0.03872</td>\n",
       "      <td>-0.489216</td>\n",
       "      <td>0.614263</td>\n",
       "    </tr>\n",
       "    <tr>\n",
       "      <th>666</th>\n",
       "      <td>-0.324827</td>\n",
       "      <td>-0.487594</td>\n",
       "      <td>0.551985</td>\n",
       "      <td>-1.104205</td>\n",
       "      <td>-0.03872</td>\n",
       "      <td>-0.03872</td>\n",
       "      <td>-0.03872</td>\n",
       "      <td>-0.03872</td>\n",
       "      <td>-0.03872</td>\n",
       "      <td>-0.03872</td>\n",
       "      <td>...</td>\n",
       "      <td>-0.03872</td>\n",
       "      <td>-0.03872</td>\n",
       "      <td>-0.03872</td>\n",
       "      <td>-0.03872</td>\n",
       "      <td>-0.03872</td>\n",
       "      <td>-0.03872</td>\n",
       "      <td>-0.03872</td>\n",
       "      <td>-0.03872</td>\n",
       "      <td>-0.489216</td>\n",
       "      <td>0.614263</td>\n",
       "    </tr>\n",
       "    <tr>\n",
       "      <th>819</th>\n",
       "      <td>-1.472904</td>\n",
       "      <td>2.182185</td>\n",
       "      <td>0.551985</td>\n",
       "      <td>0.905629</td>\n",
       "      <td>-0.03872</td>\n",
       "      <td>-0.03872</td>\n",
       "      <td>-0.03872</td>\n",
       "      <td>-0.03872</td>\n",
       "      <td>-0.03872</td>\n",
       "      <td>-0.03872</td>\n",
       "      <td>...</td>\n",
       "      <td>-0.03872</td>\n",
       "      <td>-0.03872</td>\n",
       "      <td>-0.03872</td>\n",
       "      <td>-0.03872</td>\n",
       "      <td>-0.03872</td>\n",
       "      <td>-0.03872</td>\n",
       "      <td>-0.03872</td>\n",
       "      <td>-0.03872</td>\n",
       "      <td>-0.489216</td>\n",
       "      <td>0.614263</td>\n",
       "    </tr>\n",
       "    <tr>\n",
       "      <th>736</th>\n",
       "      <td>1.435558</td>\n",
       "      <td>0.402332</td>\n",
       "      <td>0.551985</td>\n",
       "      <td>0.905629</td>\n",
       "      <td>-0.03872</td>\n",
       "      <td>-0.03872</td>\n",
       "      <td>-0.03872</td>\n",
       "      <td>-0.03872</td>\n",
       "      <td>-0.03872</td>\n",
       "      <td>-0.03872</td>\n",
       "      <td>...</td>\n",
       "      <td>-0.03872</td>\n",
       "      <td>-0.03872</td>\n",
       "      <td>-0.03872</td>\n",
       "      <td>-0.03872</td>\n",
       "      <td>-0.03872</td>\n",
       "      <td>-0.03872</td>\n",
       "      <td>-0.03872</td>\n",
       "      <td>-0.03872</td>\n",
       "      <td>-0.489216</td>\n",
       "      <td>0.614263</td>\n",
       "    </tr>\n",
       "  </tbody>\n",
       "</table>\n",
       "<p>5 rows × 243 columns</p>\n",
       "</div>"
      ],
      "text/plain": [
       "          Age     SibSp  Cabin_missing         3  Albimona, Mr. Nassef Cassem  \\\n",
       "210 -0.401365 -0.487594       0.551985  0.905629                     -0.03872   \n",
       "876 -0.707519 -0.487594       0.551985  0.905629                     -0.03872   \n",
       "666 -0.324827 -0.487594       0.551985 -1.104205                     -0.03872   \n",
       "819 -1.472904  2.182185       0.551985  0.905629                     -0.03872   \n",
       "736  1.435558  0.402332       0.551985  0.905629                     -0.03872   \n",
       "\n",
       "     Allison, Master. Hudson Trevor  Allison, Miss. Helen Loraine  \\\n",
       "210                        -0.03872                      -0.03872   \n",
       "876                        -0.03872                      -0.03872   \n",
       "666                        -0.03872                      -0.03872   \n",
       "819                        -0.03872                      -0.03872   \n",
       "736                        -0.03872                      -0.03872   \n",
       "\n",
       "     Allison, Mrs. Hudson J C (Bessie Waldo Daniels)  Anderson, Mr. Harry  \\\n",
       "210                                         -0.03872             -0.03872   \n",
       "876                                         -0.03872             -0.03872   \n",
       "666                                         -0.03872             -0.03872   \n",
       "819                                         -0.03872             -0.03872   \n",
       "736                                         -0.03872             -0.03872   \n",
       "\n",
       "     Andersson, Mr. August Edvard (\"Wennerstrom\")  ...      D49      E10  \\\n",
       "210                                      -0.03872  ... -0.03872 -0.03872   \n",
       "876                                      -0.03872  ... -0.03872 -0.03872   \n",
       "666                                      -0.03872  ... -0.03872 -0.03872   \n",
       "819                                      -0.03872  ... -0.03872 -0.03872   \n",
       "736                                      -0.03872  ... -0.03872 -0.03872   \n",
       "\n",
       "         E12      E17      E24      E25      E50      E77         C         S  \n",
       "210 -0.03872 -0.03872 -0.03872 -0.03872 -0.03872 -0.03872 -0.489216  0.614263  \n",
       "876 -0.03872 -0.03872 -0.03872 -0.03872 -0.03872 -0.03872 -0.489216  0.614263  \n",
       "666 -0.03872 -0.03872 -0.03872 -0.03872 -0.03872 -0.03872 -0.489216  0.614263  \n",
       "819 -0.03872 -0.03872 -0.03872 -0.03872 -0.03872 -0.03872 -0.489216  0.614263  \n",
       "736 -0.03872 -0.03872 -0.03872 -0.03872 -0.03872 -0.03872 -0.489216  0.614263  \n",
       "\n",
       "[5 rows x 243 columns]"
      ]
     },
     "execution_count": 96,
     "metadata": {},
     "output_type": "execute_result"
    }
   ],
   "source": [
    "X_test_selected.head()"
   ]
  },
  {
   "cell_type": "markdown",
   "metadata": {},
   "source": [
    "Create a model with the relevant hyperparameters, fit, and score"
   ]
  },
  {
   "cell_type": "code",
   "execution_count": 97,
   "metadata": {},
   "outputs": [
    {
     "data": {
      "text/plain": [
       "0.7802690582959642"
      ]
     },
     "execution_count": 97,
     "metadata": {},
     "output_type": "execute_result"
    }
   ],
   "source": [
    "final_model = LogisticRegression(random_state=2021, solver=\"liblinear\", penalty=\"l1\")\n",
    "final_model.fit(X_train_selected, y_train)\n",
    "\n",
    "final_model.score(X_test_selected, y_test)"
   ]
  },
  {
   "cell_type": "markdown",
   "metadata": {},
   "source": [
    "### Compare the past models"
   ]
  },
  {
   "cell_type": "code",
   "execution_count": 98,
   "metadata": {},
   "outputs": [],
   "source": [
    "# Create a way to categorize our different models\n",
    "model_candidates = [\n",
    "    {\n",
    "        'name':'logreg_model_more_iterations'\n",
    "        ,'model':logreg_model_more_iterations\n",
    "        ,'X_test':X_test_final\n",
    "        ,'y_test':y_test\n",
    "    },\n",
    "    {\n",
    "        'name':'logreg_model_more_regularization'\n",
    "        ,'model':logreg_model_more_regularization\n",
    "        ,'X_test':X_test_final\n",
    "        ,'y_test':y_test\n",
    "    },\n",
    "    {\n",
    "        'name':'logreg_model_higher_tolerance'\n",
    "        ,'model':logreg_model_higher_tolerance\n",
    "        ,'X_test':X_test_final\n",
    "        ,'y_test':y_test\n",
    "    },\n",
    "    {\n",
    "        'name':'dummy_model'\n",
    "        ,'model':dummy_model\n",
    "        ,'X_test':X_test\n",
    "        ,'y_test':y_test\n",
    "    },\n",
    "    {\n",
    "        'name':'simple_logreg_model'\n",
    "        ,'model':simple_logreg_model\n",
    "        ,'X_test':X_test_no_transformations[[\"SibSp\", \"Parch\", \"Fare\"]]\n",
    "        ,'y_test':y_test\n",
    "    },\n",
    "    {\n",
    "        'name':'final_model'\n",
    "        ,'model':final_model\n",
    "        ,'X_test':X_test_selected\n",
    "        ,'y_test':y_test\n",
    "    }\n",
    "]"
   ]
  },
  {
   "cell_type": "code",
   "execution_count": 99,
   "metadata": {},
   "outputs": [
    {
     "data": {
      "text/html": [
       "<div>\n",
       "<style scoped>\n",
       "    .dataframe tbody tr th:only-of-type {\n",
       "        vertical-align: middle;\n",
       "    }\n",
       "\n",
       "    .dataframe tbody tr th {\n",
       "        vertical-align: top;\n",
       "    }\n",
       "\n",
       "    .dataframe thead th {\n",
       "        text-align: right;\n",
       "    }\n",
       "</style>\n",
       "<table border=\"1\" class=\"dataframe\">\n",
       "  <thead>\n",
       "    <tr style=\"text-align: right;\">\n",
       "      <th></th>\n",
       "      <th>Mean Accuracy</th>\n",
       "    </tr>\n",
       "    <tr>\n",
       "      <th>Model Name</th>\n",
       "      <th></th>\n",
       "    </tr>\n",
       "  </thead>\n",
       "  <tbody>\n",
       "    <tr>\n",
       "      <th>logreg_model_more_iterations</th>\n",
       "      <td>0.802691</td>\n",
       "    </tr>\n",
       "    <tr>\n",
       "      <th>logreg_model_more_regularization</th>\n",
       "      <td>0.744395</td>\n",
       "    </tr>\n",
       "    <tr>\n",
       "      <th>logreg_model_higher_tolerance</th>\n",
       "      <td>0.757848</td>\n",
       "    </tr>\n",
       "    <tr>\n",
       "      <th>dummy_model</th>\n",
       "      <td>0.605381</td>\n",
       "    </tr>\n",
       "    <tr>\n",
       "      <th>simple_logreg_model</th>\n",
       "      <td>0.650224</td>\n",
       "    </tr>\n",
       "    <tr>\n",
       "      <th>final_model</th>\n",
       "      <td>0.780269</td>\n",
       "    </tr>\n",
       "  </tbody>\n",
       "</table>\n",
       "</div>"
      ],
      "text/plain": [
       "                                  Mean Accuracy\n",
       "Model Name                                     \n",
       "logreg_model_more_iterations           0.802691\n",
       "logreg_model_more_regularization       0.744395\n",
       "logreg_model_higher_tolerance          0.757848\n",
       "dummy_model                            0.605381\n",
       "simple_logreg_model                    0.650224\n",
       "final_model                            0.780269"
      ]
     },
     "execution_count": 99,
     "metadata": {},
     "output_type": "execute_result"
    }
   ],
   "source": [
    "final_scores_dict = {\n",
    "    \"Model Name\": [candidate.get('name') for candidate in model_candidates],\n",
    "    \"Mean Accuracy\": [\n",
    "        candidate.get('model').score(\n",
    "                                candidate.get('X_test'), \n",
    "                                candidate.get('y_test')\n",
    "        ) \n",
    "        for candidate in model_candidates\n",
    "    ]\n",
    "    \n",
    "}\n",
    "final_scores_df = pd.DataFrame(final_scores_dict).set_index('Model Name')\n",
    "final_scores_df"
   ]
  },
  {
   "cell_type": "markdown",
   "metadata": {},
   "source": [
    "Final comparison of confusion matrices"
   ]
  },
  {
   "cell_type": "code",
   "execution_count": 100,
   "metadata": {},
   "outputs": [
    {
     "data": {
      "image/png": "[encoded data removed]",
      "text/plain": [
       "<Figure size 864x432 with 12 Axes>"
      ]
     },
     "metadata": {
      "needs_background": "light"
     },
     "output_type": "display_data"
    }
   ],
   "source": [
    "nrows = 2\n",
    "ncols = round(len(model_candidates)/nrows)\n",
    "\n",
    "fig, axes = plt.subplots(\n",
    "                nrows=nrows,\n",
    "                ncols=ncols,\n",
    "                figsize=(12, 6)\n",
    ")\n",
    "\n",
    "fig.suptitle(\"Confusion Matrix Comparison\")\n",
    "\n",
    "\n",
    "for i,candidate in enumerate(model_candidates):\n",
    "    # Logic for making rows and columns for matrices\n",
    "    row = i // 3\n",
    "    col = i % 3\n",
    "    ax = axes[row][col]\n",
    "    \n",
    "    ax.set_title(candidate.get('name'))\n",
    "    plot_confusion_matrix(\n",
    "        candidate.get('model'),\n",
    "        candidate.get('X_test'),\n",
    "        candidate.get('y_test'),\n",
    "        ax=ax,\n",
    "        cmap=\"plasma\"\n",
    "    )\n",
    "    \n",
    "plt.tight_layout()"
   ]
  },
  {
   "cell_type": "code",
   "execution_count": 101,
   "metadata": {},
   "outputs": [
    {
     "data": {
      "image/png": "[encoded data removed]",
      "text/plain": [
       "<Figure size 432x288 with 1 Axes>"
      ]
     },
     "metadata": {
      "needs_background": "light"
     },
     "output_type": "display_data"
    }
   ],
   "source": [
    "fig, ax = plt.subplots()\n",
    "\n",
    "# Plot only the last models we created (so it's not too cluttered)\n",
    "for model_candidate in model_candidates[3:]:\n",
    "    plot_roc_curve(\n",
    "        model_candidate.get('model'),\n",
    "        model_candidate.get('X_test'),\n",
    "        model_candidate.get('y_test'), \n",
    "        name=model_candidate.get('name'),\n",
    "        ax=ax\n",
    "    )"
   ]
  },
  {
   "cell_type": "code",
   "execution_count": 102,
   "metadata": {},
   "outputs": [
    {
     "data": {
      "image/png": "[encoded data removed]",
      "text/plain": [
       "<Figure size 432x288 with 1 Axes>"
      ]
     },
     "metadata": {
      "needs_background": "light"
     },
     "output_type": "display_data"
    }
   ],
   "source": [
    "fig, ax = plt.subplots()\n",
    "\n",
    "# Plot the final model against the other earlier models\n",
    "plot_roc_curve(\n",
    "    final_model, \n",
    "    X_test_selected, \n",
    "    y_test,\n",
    "    name='final_model', \n",
    "    ax=ax\n",
    ")\n",
    "\n",
    "for model_candidate in model_candidates[:3]:\n",
    "    plot_roc_curve(\n",
    "        model_candidate.get('model'),\n",
    "        model_candidate.get('X_test'),\n",
    "        model_candidate.get('y_test'), \n",
    "        name=model_candidate.get('name'),\n",
    "        ax=ax\n",
    "    )"
   ]
  },
  {
   "cell_type": "markdown",
   "metadata": {},
   "source": [
    "# Exercise\n",
    "\n",
    "Build and iterate on a logistic regression model of **color** for the diamonds dataset! Maximize accuracy."
   ]
  },
  {
   "cell_type": "code",
   "execution_count": null,
   "metadata": {},
   "outputs": [],
   "source": [
    "diamonds = sns.load_dataset('diamonds')"
   ]
  },
  {
   "cell_type": "code",
   "execution_count": null,
   "metadata": {},
   "outputs": [],
   "source": []
  }
 ],
 "metadata": {
  "kernelspec": {
   "display_name": "Python 3",
   "language": "python",
   "name": "python3"
  },
  "language_info": {
   "codemirror_mode": {
    "name": "ipython",
    "version": 3
   },
   "file_extension": ".py",
   "mimetype": "text/x-python",
   "name": "python",
   "nbconvert_exporter": "python",
   "pygments_lexer": "ipython3",
   "version": "3.8.3"
  }
 },
 "nbformat": 4,
 "nbformat_minor": 4
}
